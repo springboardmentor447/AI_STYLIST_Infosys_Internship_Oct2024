{
  "cells": [
    {
      "cell_type": "code",
      "execution_count": 41,
      "metadata": {
        "id": "bg5T9rohLWCk"
      },
      "outputs": [],
      "source": [
        "import pandas as pd\n",
        "import io"
      ]
    },
    {
      "cell_type": "code",
      "execution_count": 42,
      "metadata": {
        "colab": {
          "base_uri": "https://localhost:8080/",
          "height": 73
        },
        "id": "opNTAB25L4e2",
        "outputId": "a85f55a8-b139-45e1-87ce-1a4a9d06519d"
      },
      "outputs": [
        {
          "output_type": "display_data",
          "data": {
            "text/plain": [
              "<IPython.core.display.HTML object>"
            ],
            "text/html": [
              "\n",
              "     <input type=\"file\" id=\"files-9e591a64-f11b-4cbb-b138-4d85617d76a2\" name=\"files[]\" multiple disabled\n",
              "        style=\"border:none\" />\n",
              "     <output id=\"result-9e591a64-f11b-4cbb-b138-4d85617d76a2\">\n",
              "      Upload widget is only available when the cell has been executed in the\n",
              "      current browser session. Please rerun this cell to enable.\n",
              "      </output>\n",
              "      <script>// Copyright 2017 Google LLC\n",
              "//\n",
              "// Licensed under the Apache License, Version 2.0 (the \"License\");\n",
              "// you may not use this file except in compliance with the License.\n",
              "// You may obtain a copy of the License at\n",
              "//\n",
              "//      http://www.apache.org/licenses/LICENSE-2.0\n",
              "//\n",
              "// Unless required by applicable law or agreed to in writing, software\n",
              "// distributed under the License is distributed on an \"AS IS\" BASIS,\n",
              "// WITHOUT WARRANTIES OR CONDITIONS OF ANY KIND, either express or implied.\n",
              "// See the License for the specific language governing permissions and\n",
              "// limitations under the License.\n",
              "\n",
              "/**\n",
              " * @fileoverview Helpers for google.colab Python module.\n",
              " */\n",
              "(function(scope) {\n",
              "function span(text, styleAttributes = {}) {\n",
              "  const element = document.createElement('span');\n",
              "  element.textContent = text;\n",
              "  for (const key of Object.keys(styleAttributes)) {\n",
              "    element.style[key] = styleAttributes[key];\n",
              "  }\n",
              "  return element;\n",
              "}\n",
              "\n",
              "// Max number of bytes which will be uploaded at a time.\n",
              "const MAX_PAYLOAD_SIZE = 100 * 1024;\n",
              "\n",
              "function _uploadFiles(inputId, outputId) {\n",
              "  const steps = uploadFilesStep(inputId, outputId);\n",
              "  const outputElement = document.getElementById(outputId);\n",
              "  // Cache steps on the outputElement to make it available for the next call\n",
              "  // to uploadFilesContinue from Python.\n",
              "  outputElement.steps = steps;\n",
              "\n",
              "  return _uploadFilesContinue(outputId);\n",
              "}\n",
              "\n",
              "// This is roughly an async generator (not supported in the browser yet),\n",
              "// where there are multiple asynchronous steps and the Python side is going\n",
              "// to poll for completion of each step.\n",
              "// This uses a Promise to block the python side on completion of each step,\n",
              "// then passes the result of the previous step as the input to the next step.\n",
              "function _uploadFilesContinue(outputId) {\n",
              "  const outputElement = document.getElementById(outputId);\n",
              "  const steps = outputElement.steps;\n",
              "\n",
              "  const next = steps.next(outputElement.lastPromiseValue);\n",
              "  return Promise.resolve(next.value.promise).then((value) => {\n",
              "    // Cache the last promise value to make it available to the next\n",
              "    // step of the generator.\n",
              "    outputElement.lastPromiseValue = value;\n",
              "    return next.value.response;\n",
              "  });\n",
              "}\n",
              "\n",
              "/**\n",
              " * Generator function which is called between each async step of the upload\n",
              " * process.\n",
              " * @param {string} inputId Element ID of the input file picker element.\n",
              " * @param {string} outputId Element ID of the output display.\n",
              " * @return {!Iterable<!Object>} Iterable of next steps.\n",
              " */\n",
              "function* uploadFilesStep(inputId, outputId) {\n",
              "  const inputElement = document.getElementById(inputId);\n",
              "  inputElement.disabled = false;\n",
              "\n",
              "  const outputElement = document.getElementById(outputId);\n",
              "  outputElement.innerHTML = '';\n",
              "\n",
              "  const pickedPromise = new Promise((resolve) => {\n",
              "    inputElement.addEventListener('change', (e) => {\n",
              "      resolve(e.target.files);\n",
              "    });\n",
              "  });\n",
              "\n",
              "  const cancel = document.createElement('button');\n",
              "  inputElement.parentElement.appendChild(cancel);\n",
              "  cancel.textContent = 'Cancel upload';\n",
              "  const cancelPromise = new Promise((resolve) => {\n",
              "    cancel.onclick = () => {\n",
              "      resolve(null);\n",
              "    };\n",
              "  });\n",
              "\n",
              "  // Wait for the user to pick the files.\n",
              "  const files = yield {\n",
              "    promise: Promise.race([pickedPromise, cancelPromise]),\n",
              "    response: {\n",
              "      action: 'starting',\n",
              "    }\n",
              "  };\n",
              "\n",
              "  cancel.remove();\n",
              "\n",
              "  // Disable the input element since further picks are not allowed.\n",
              "  inputElement.disabled = true;\n",
              "\n",
              "  if (!files) {\n",
              "    return {\n",
              "      response: {\n",
              "        action: 'complete',\n",
              "      }\n",
              "    };\n",
              "  }\n",
              "\n",
              "  for (const file of files) {\n",
              "    const li = document.createElement('li');\n",
              "    li.append(span(file.name, {fontWeight: 'bold'}));\n",
              "    li.append(span(\n",
              "        `(${file.type || 'n/a'}) - ${file.size} bytes, ` +\n",
              "        `last modified: ${\n",
              "            file.lastModifiedDate ? file.lastModifiedDate.toLocaleDateString() :\n",
              "                                    'n/a'} - `));\n",
              "    const percent = span('0% done');\n",
              "    li.appendChild(percent);\n",
              "\n",
              "    outputElement.appendChild(li);\n",
              "\n",
              "    const fileDataPromise = new Promise((resolve) => {\n",
              "      const reader = new FileReader();\n",
              "      reader.onload = (e) => {\n",
              "        resolve(e.target.result);\n",
              "      };\n",
              "      reader.readAsArrayBuffer(file);\n",
              "    });\n",
              "    // Wait for the data to be ready.\n",
              "    let fileData = yield {\n",
              "      promise: fileDataPromise,\n",
              "      response: {\n",
              "        action: 'continue',\n",
              "      }\n",
              "    };\n",
              "\n",
              "    // Use a chunked sending to avoid message size limits. See b/62115660.\n",
              "    let position = 0;\n",
              "    do {\n",
              "      const length = Math.min(fileData.byteLength - position, MAX_PAYLOAD_SIZE);\n",
              "      const chunk = new Uint8Array(fileData, position, length);\n",
              "      position += length;\n",
              "\n",
              "      const base64 = btoa(String.fromCharCode.apply(null, chunk));\n",
              "      yield {\n",
              "        response: {\n",
              "          action: 'append',\n",
              "          file: file.name,\n",
              "          data: base64,\n",
              "        },\n",
              "      };\n",
              "\n",
              "      let percentDone = fileData.byteLength === 0 ?\n",
              "          100 :\n",
              "          Math.round((position / fileData.byteLength) * 100);\n",
              "      percent.textContent = `${percentDone}% done`;\n",
              "\n",
              "    } while (position < fileData.byteLength);\n",
              "  }\n",
              "\n",
              "  // All done.\n",
              "  yield {\n",
              "    response: {\n",
              "      action: 'complete',\n",
              "    }\n",
              "  };\n",
              "}\n",
              "\n",
              "scope.google = scope.google || {};\n",
              "scope.google.colab = scope.google.colab || {};\n",
              "scope.google.colab._files = {\n",
              "  _uploadFiles,\n",
              "  _uploadFilesContinue,\n",
              "};\n",
              "})(self);\n",
              "</script> "
            ]
          },
          "metadata": {}
        },
        {
          "output_type": "stream",
          "name": "stdout",
          "text": [
            "Saving fashion_products_data.json.ldjson to fashion_products_data.json (1).ldjson\n"
          ]
        }
      ],
      "source": [
        "from google.colab import files\n",
        "\n",
        "uploaded = files.upload()\n"
      ]
    },
    {
      "cell_type": "code",
      "execution_count": 43,
      "metadata": {
        "colab": {
          "base_uri": "https://localhost:8080/",
          "height": 533
        },
        "id": "2ZjQsPZuLxyb",
        "outputId": "a3d831ed-3178-4a74-c2e7-1e9e113f1ec9"
      },
      "outputs": [
        {
          "output_type": "execute_result",
          "data": {
            "text/plain": [
              "                            uniq_id            crawl_timestamp        asin  \\\n",
              "0  26d41bdc1495de290bc8e6062d927729  2020-02-07 05:11:36 +0000  B07STS2W9T   \n",
              "1  410c62298852e68f34c35560f2311e5a  2020-02-07 08:45:56 +0000  B07N6TD2WL   \n",
              "2  52e31bb31680b0ec73de0d781a23cc0a  2020-02-06 11:09:38 +0000  B07WJ6WPN1   \n",
              "3  25798d6dc43239c118452d1bee0fb088  2020-02-07 08:32:45 +0000  B07PYSF4WZ   \n",
              "4  ad8a5a196d515ef09dfdaf082bdc37c4  2020-02-06 14:27:48 +0000  B082KXNM7X   \n",
              "\n",
              "                                         product_url  \\\n",
              "0  https://www.amazon.in/Facon-Kalamkari-Handbloc...   \n",
              "1  https://www.amazon.in/Sf-Jeans-Pantaloons-T-Sh...   \n",
              "2  https://www.amazon.in/LOVISTA-Traditional-Prin...   \n",
              "3  https://www.amazon.in/People-Printed-Regular-T...   \n",
              "4  https://www.amazon.in/Monte-Carlo-Cotton-Colla...   \n",
              "\n",
              "                                        product_name  \\\n",
              "0  LA' Facon Cotton Kalamkari Handblock Saree Blo...   \n",
              "1  Sf Jeans By Pantaloons Men's Plain Slim fit T-...   \n",
              "2  LOVISTA Cotton Gota Patti Tassel Traditional P...   \n",
              "3           People Men's Printed Regular fit T-Shirt   \n",
              "4  Monte Carlo Grey Solid Cotton Blend Polo Colla...   \n",
              "\n",
              "                                   image_urls__small  \\\n",
              "0  https://images-na.ssl-images-amazon.com/images...   \n",
              "1  https://images-na.ssl-images-amazon.com/images...   \n",
              "2  https://images-na.ssl-images-amazon.com/images...   \n",
              "3  https://images-na.ssl-images-amazon.com/images...   \n",
              "4  https://images-na.ssl-images-amazon.com/images...   \n",
              "\n",
              "                                              medium  \\\n",
              "0  https://images-na.ssl-images-amazon.com/images...   \n",
              "1  https://images-na.ssl-images-amazon.com/images...   \n",
              "2  https://images-na.ssl-images-amazon.com/images...   \n",
              "3  https://images-na.ssl-images-amazon.com/images...   \n",
              "4  https://images-na.ssl-images-amazon.com/images...   \n",
              "\n",
              "                                               large    browsenode      brand  \\\n",
              "0  https://images-na.ssl-images-amazon.com/images...  1.968255e+09  LA' Facon   \n",
              "1  https://images-na.ssl-images-amazon.com/images...  1.968123e+09        NaN   \n",
              "2  https://images-na.ssl-images-amazon.com/images...  1.968255e+09    LOVISTA   \n",
              "3  https://images-na.ssl-images-amazon.com/images...  1.968123e+09        NaN   \n",
              "4  https://images-na.ssl-images-amazon.com/images...  1.968070e+09        NaN   \n",
              "\n",
              "   ...  colour no__of_reviews  seller_name seller_id left_in_stock  \\\n",
              "0  ...     NaN            NaN          NaN       NaN           NaN   \n",
              "1  ...     NaN            NaN          NaN       NaN           NaN   \n",
              "2  ...     NaN            NaN          NaN       NaN           NaN   \n",
              "3  ...     NaN            NaN          NaN       NaN           NaN   \n",
              "4  ...     NaN            NaN          NaN       NaN           NaN   \n",
              "\n",
              "  no__of_offers no__of_sellers technical_details__k_v_pairs  \\\n",
              "0           NaN            NaN                          NaN   \n",
              "1           NaN            NaN                          NaN   \n",
              "2           NaN            NaN                          NaN   \n",
              "3           NaN            NaN                          NaN   \n",
              "4           NaN            NaN                          NaN   \n",
              "\n",
              "  formats___editions name_of_author_for_books  \n",
              "0                NaN                      NaN  \n",
              "1                NaN                      NaN  \n",
              "2                NaN                      NaN  \n",
              "3                NaN                      NaN  \n",
              "4                NaN                      NaN  \n",
              "\n",
              "[5 rows x 33 columns]"
            ],
            "text/html": [
              "\n",
              "  <div id=\"df-39d44bbf-8b44-47c7-a880-70b0796773c0\" class=\"colab-df-container\">\n",
              "    <div>\n",
              "<style scoped>\n",
              "    .dataframe tbody tr th:only-of-type {\n",
              "        vertical-align: middle;\n",
              "    }\n",
              "\n",
              "    .dataframe tbody tr th {\n",
              "        vertical-align: top;\n",
              "    }\n",
              "\n",
              "    .dataframe thead th {\n",
              "        text-align: right;\n",
              "    }\n",
              "</style>\n",
              "<table border=\"1\" class=\"dataframe\">\n",
              "  <thead>\n",
              "    <tr style=\"text-align: right;\">\n",
              "      <th></th>\n",
              "      <th>uniq_id</th>\n",
              "      <th>crawl_timestamp</th>\n",
              "      <th>asin</th>\n",
              "      <th>product_url</th>\n",
              "      <th>product_name</th>\n",
              "      <th>image_urls__small</th>\n",
              "      <th>medium</th>\n",
              "      <th>large</th>\n",
              "      <th>browsenode</th>\n",
              "      <th>brand</th>\n",
              "      <th>...</th>\n",
              "      <th>colour</th>\n",
              "      <th>no__of_reviews</th>\n",
              "      <th>seller_name</th>\n",
              "      <th>seller_id</th>\n",
              "      <th>left_in_stock</th>\n",
              "      <th>no__of_offers</th>\n",
              "      <th>no__of_sellers</th>\n",
              "      <th>technical_details__k_v_pairs</th>\n",
              "      <th>formats___editions</th>\n",
              "      <th>name_of_author_for_books</th>\n",
              "    </tr>\n",
              "  </thead>\n",
              "  <tbody>\n",
              "    <tr>\n",
              "      <th>0</th>\n",
              "      <td>26d41bdc1495de290bc8e6062d927729</td>\n",
              "      <td>2020-02-07 05:11:36 +0000</td>\n",
              "      <td>B07STS2W9T</td>\n",
              "      <td>https://www.amazon.in/Facon-Kalamkari-Handbloc...</td>\n",
              "      <td>LA' Facon Cotton Kalamkari Handblock Saree Blo...</td>\n",
              "      <td>https://images-na.ssl-images-amazon.com/images...</td>\n",
              "      <td>https://images-na.ssl-images-amazon.com/images...</td>\n",
              "      <td>https://images-na.ssl-images-amazon.com/images...</td>\n",
              "      <td>1.968255e+09</td>\n",
              "      <td>LA' Facon</td>\n",
              "      <td>...</td>\n",
              "      <td>NaN</td>\n",
              "      <td>NaN</td>\n",
              "      <td>NaN</td>\n",
              "      <td>NaN</td>\n",
              "      <td>NaN</td>\n",
              "      <td>NaN</td>\n",
              "      <td>NaN</td>\n",
              "      <td>NaN</td>\n",
              "      <td>NaN</td>\n",
              "      <td>NaN</td>\n",
              "    </tr>\n",
              "    <tr>\n",
              "      <th>1</th>\n",
              "      <td>410c62298852e68f34c35560f2311e5a</td>\n",
              "      <td>2020-02-07 08:45:56 +0000</td>\n",
              "      <td>B07N6TD2WL</td>\n",
              "      <td>https://www.amazon.in/Sf-Jeans-Pantaloons-T-Sh...</td>\n",
              "      <td>Sf Jeans By Pantaloons Men's Plain Slim fit T-...</td>\n",
              "      <td>https://images-na.ssl-images-amazon.com/images...</td>\n",
              "      <td>https://images-na.ssl-images-amazon.com/images...</td>\n",
              "      <td>https://images-na.ssl-images-amazon.com/images...</td>\n",
              "      <td>1.968123e+09</td>\n",
              "      <td>NaN</td>\n",
              "      <td>...</td>\n",
              "      <td>NaN</td>\n",
              "      <td>NaN</td>\n",
              "      <td>NaN</td>\n",
              "      <td>NaN</td>\n",
              "      <td>NaN</td>\n",
              "      <td>NaN</td>\n",
              "      <td>NaN</td>\n",
              "      <td>NaN</td>\n",
              "      <td>NaN</td>\n",
              "      <td>NaN</td>\n",
              "    </tr>\n",
              "    <tr>\n",
              "      <th>2</th>\n",
              "      <td>52e31bb31680b0ec73de0d781a23cc0a</td>\n",
              "      <td>2020-02-06 11:09:38 +0000</td>\n",
              "      <td>B07WJ6WPN1</td>\n",
              "      <td>https://www.amazon.in/LOVISTA-Traditional-Prin...</td>\n",
              "      <td>LOVISTA Cotton Gota Patti Tassel Traditional P...</td>\n",
              "      <td>https://images-na.ssl-images-amazon.com/images...</td>\n",
              "      <td>https://images-na.ssl-images-amazon.com/images...</td>\n",
              "      <td>https://images-na.ssl-images-amazon.com/images...</td>\n",
              "      <td>1.968255e+09</td>\n",
              "      <td>LOVISTA</td>\n",
              "      <td>...</td>\n",
              "      <td>NaN</td>\n",
              "      <td>NaN</td>\n",
              "      <td>NaN</td>\n",
              "      <td>NaN</td>\n",
              "      <td>NaN</td>\n",
              "      <td>NaN</td>\n",
              "      <td>NaN</td>\n",
              "      <td>NaN</td>\n",
              "      <td>NaN</td>\n",
              "      <td>NaN</td>\n",
              "    </tr>\n",
              "    <tr>\n",
              "      <th>3</th>\n",
              "      <td>25798d6dc43239c118452d1bee0fb088</td>\n",
              "      <td>2020-02-07 08:32:45 +0000</td>\n",
              "      <td>B07PYSF4WZ</td>\n",
              "      <td>https://www.amazon.in/People-Printed-Regular-T...</td>\n",
              "      <td>People Men's Printed Regular fit T-Shirt</td>\n",
              "      <td>https://images-na.ssl-images-amazon.com/images...</td>\n",
              "      <td>https://images-na.ssl-images-amazon.com/images...</td>\n",
              "      <td>https://images-na.ssl-images-amazon.com/images...</td>\n",
              "      <td>1.968123e+09</td>\n",
              "      <td>NaN</td>\n",
              "      <td>...</td>\n",
              "      <td>NaN</td>\n",
              "      <td>NaN</td>\n",
              "      <td>NaN</td>\n",
              "      <td>NaN</td>\n",
              "      <td>NaN</td>\n",
              "      <td>NaN</td>\n",
              "      <td>NaN</td>\n",
              "      <td>NaN</td>\n",
              "      <td>NaN</td>\n",
              "      <td>NaN</td>\n",
              "    </tr>\n",
              "    <tr>\n",
              "      <th>4</th>\n",
              "      <td>ad8a5a196d515ef09dfdaf082bdc37c4</td>\n",
              "      <td>2020-02-06 14:27:48 +0000</td>\n",
              "      <td>B082KXNM7X</td>\n",
              "      <td>https://www.amazon.in/Monte-Carlo-Cotton-Colla...</td>\n",
              "      <td>Monte Carlo Grey Solid Cotton Blend Polo Colla...</td>\n",
              "      <td>https://images-na.ssl-images-amazon.com/images...</td>\n",
              "      <td>https://images-na.ssl-images-amazon.com/images...</td>\n",
              "      <td>https://images-na.ssl-images-amazon.com/images...</td>\n",
              "      <td>1.968070e+09</td>\n",
              "      <td>NaN</td>\n",
              "      <td>...</td>\n",
              "      <td>NaN</td>\n",
              "      <td>NaN</td>\n",
              "      <td>NaN</td>\n",
              "      <td>NaN</td>\n",
              "      <td>NaN</td>\n",
              "      <td>NaN</td>\n",
              "      <td>NaN</td>\n",
              "      <td>NaN</td>\n",
              "      <td>NaN</td>\n",
              "      <td>NaN</td>\n",
              "    </tr>\n",
              "  </tbody>\n",
              "</table>\n",
              "<p>5 rows × 33 columns</p>\n",
              "</div>\n",
              "    <div class=\"colab-df-buttons\">\n",
              "\n",
              "  <div class=\"colab-df-container\">\n",
              "    <button class=\"colab-df-convert\" onclick=\"convertToInteractive('df-39d44bbf-8b44-47c7-a880-70b0796773c0')\"\n",
              "            title=\"Convert this dataframe to an interactive table.\"\n",
              "            style=\"display:none;\">\n",
              "\n",
              "  <svg xmlns=\"http://www.w3.org/2000/svg\" height=\"24px\" viewBox=\"0 -960 960 960\">\n",
              "    <path d=\"M120-120v-720h720v720H120Zm60-500h600v-160H180v160Zm220 220h160v-160H400v160Zm0 220h160v-160H400v160ZM180-400h160v-160H180v160Zm440 0h160v-160H620v160ZM180-180h160v-160H180v160Zm440 0h160v-160H620v160Z\"/>\n",
              "  </svg>\n",
              "    </button>\n",
              "\n",
              "  <style>\n",
              "    .colab-df-container {\n",
              "      display:flex;\n",
              "      gap: 12px;\n",
              "    }\n",
              "\n",
              "    .colab-df-convert {\n",
              "      background-color: #E8F0FE;\n",
              "      border: none;\n",
              "      border-radius: 50%;\n",
              "      cursor: pointer;\n",
              "      display: none;\n",
              "      fill: #1967D2;\n",
              "      height: 32px;\n",
              "      padding: 0 0 0 0;\n",
              "      width: 32px;\n",
              "    }\n",
              "\n",
              "    .colab-df-convert:hover {\n",
              "      background-color: #E2EBFA;\n",
              "      box-shadow: 0px 1px 2px rgba(60, 64, 67, 0.3), 0px 1px 3px 1px rgba(60, 64, 67, 0.15);\n",
              "      fill: #174EA6;\n",
              "    }\n",
              "\n",
              "    .colab-df-buttons div {\n",
              "      margin-bottom: 4px;\n",
              "    }\n",
              "\n",
              "    [theme=dark] .colab-df-convert {\n",
              "      background-color: #3B4455;\n",
              "      fill: #D2E3FC;\n",
              "    }\n",
              "\n",
              "    [theme=dark] .colab-df-convert:hover {\n",
              "      background-color: #434B5C;\n",
              "      box-shadow: 0px 1px 3px 1px rgba(0, 0, 0, 0.15);\n",
              "      filter: drop-shadow(0px 1px 2px rgba(0, 0, 0, 0.3));\n",
              "      fill: #FFFFFF;\n",
              "    }\n",
              "  </style>\n",
              "\n",
              "    <script>\n",
              "      const buttonEl =\n",
              "        document.querySelector('#df-39d44bbf-8b44-47c7-a880-70b0796773c0 button.colab-df-convert');\n",
              "      buttonEl.style.display =\n",
              "        google.colab.kernel.accessAllowed ? 'block' : 'none';\n",
              "\n",
              "      async function convertToInteractive(key) {\n",
              "        const element = document.querySelector('#df-39d44bbf-8b44-47c7-a880-70b0796773c0');\n",
              "        const dataTable =\n",
              "          await google.colab.kernel.invokeFunction('convertToInteractive',\n",
              "                                                    [key], {});\n",
              "        if (!dataTable) return;\n",
              "\n",
              "        const docLinkHtml = 'Like what you see? Visit the ' +\n",
              "          '<a target=\"_blank\" href=https://colab.research.google.com/notebooks/data_table.ipynb>data table notebook</a>'\n",
              "          + ' to learn more about interactive tables.';\n",
              "        element.innerHTML = '';\n",
              "        dataTable['output_type'] = 'display_data';\n",
              "        await google.colab.output.renderOutput(dataTable, element);\n",
              "        const docLink = document.createElement('div');\n",
              "        docLink.innerHTML = docLinkHtml;\n",
              "        element.appendChild(docLink);\n",
              "      }\n",
              "    </script>\n",
              "  </div>\n",
              "\n",
              "\n",
              "<div id=\"df-e856ef98-7522-494b-bdb2-926fbba09e6a\">\n",
              "  <button class=\"colab-df-quickchart\" onclick=\"quickchart('df-e856ef98-7522-494b-bdb2-926fbba09e6a')\"\n",
              "            title=\"Suggest charts\"\n",
              "            style=\"display:none;\">\n",
              "\n",
              "<svg xmlns=\"http://www.w3.org/2000/svg\" height=\"24px\"viewBox=\"0 0 24 24\"\n",
              "     width=\"24px\">\n",
              "    <g>\n",
              "        <path d=\"M19 3H5c-1.1 0-2 .9-2 2v14c0 1.1.9 2 2 2h14c1.1 0 2-.9 2-2V5c0-1.1-.9-2-2-2zM9 17H7v-7h2v7zm4 0h-2V7h2v10zm4 0h-2v-4h2v4z\"/>\n",
              "    </g>\n",
              "</svg>\n",
              "  </button>\n",
              "\n",
              "<style>\n",
              "  .colab-df-quickchart {\n",
              "      --bg-color: #E8F0FE;\n",
              "      --fill-color: #1967D2;\n",
              "      --hover-bg-color: #E2EBFA;\n",
              "      --hover-fill-color: #174EA6;\n",
              "      --disabled-fill-color: #AAA;\n",
              "      --disabled-bg-color: #DDD;\n",
              "  }\n",
              "\n",
              "  [theme=dark] .colab-df-quickchart {\n",
              "      --bg-color: #3B4455;\n",
              "      --fill-color: #D2E3FC;\n",
              "      --hover-bg-color: #434B5C;\n",
              "      --hover-fill-color: #FFFFFF;\n",
              "      --disabled-bg-color: #3B4455;\n",
              "      --disabled-fill-color: #666;\n",
              "  }\n",
              "\n",
              "  .colab-df-quickchart {\n",
              "    background-color: var(--bg-color);\n",
              "    border: none;\n",
              "    border-radius: 50%;\n",
              "    cursor: pointer;\n",
              "    display: none;\n",
              "    fill: var(--fill-color);\n",
              "    height: 32px;\n",
              "    padding: 0;\n",
              "    width: 32px;\n",
              "  }\n",
              "\n",
              "  .colab-df-quickchart:hover {\n",
              "    background-color: var(--hover-bg-color);\n",
              "    box-shadow: 0 1px 2px rgba(60, 64, 67, 0.3), 0 1px 3px 1px rgba(60, 64, 67, 0.15);\n",
              "    fill: var(--button-hover-fill-color);\n",
              "  }\n",
              "\n",
              "  .colab-df-quickchart-complete:disabled,\n",
              "  .colab-df-quickchart-complete:disabled:hover {\n",
              "    background-color: var(--disabled-bg-color);\n",
              "    fill: var(--disabled-fill-color);\n",
              "    box-shadow: none;\n",
              "  }\n",
              "\n",
              "  .colab-df-spinner {\n",
              "    border: 2px solid var(--fill-color);\n",
              "    border-color: transparent;\n",
              "    border-bottom-color: var(--fill-color);\n",
              "    animation:\n",
              "      spin 1s steps(1) infinite;\n",
              "  }\n",
              "\n",
              "  @keyframes spin {\n",
              "    0% {\n",
              "      border-color: transparent;\n",
              "      border-bottom-color: var(--fill-color);\n",
              "      border-left-color: var(--fill-color);\n",
              "    }\n",
              "    20% {\n",
              "      border-color: transparent;\n",
              "      border-left-color: var(--fill-color);\n",
              "      border-top-color: var(--fill-color);\n",
              "    }\n",
              "    30% {\n",
              "      border-color: transparent;\n",
              "      border-left-color: var(--fill-color);\n",
              "      border-top-color: var(--fill-color);\n",
              "      border-right-color: var(--fill-color);\n",
              "    }\n",
              "    40% {\n",
              "      border-color: transparent;\n",
              "      border-right-color: var(--fill-color);\n",
              "      border-top-color: var(--fill-color);\n",
              "    }\n",
              "    60% {\n",
              "      border-color: transparent;\n",
              "      border-right-color: var(--fill-color);\n",
              "    }\n",
              "    80% {\n",
              "      border-color: transparent;\n",
              "      border-right-color: var(--fill-color);\n",
              "      border-bottom-color: var(--fill-color);\n",
              "    }\n",
              "    90% {\n",
              "      border-color: transparent;\n",
              "      border-bottom-color: var(--fill-color);\n",
              "    }\n",
              "  }\n",
              "</style>\n",
              "\n",
              "  <script>\n",
              "    async function quickchart(key) {\n",
              "      const quickchartButtonEl =\n",
              "        document.querySelector('#' + key + ' button');\n",
              "      quickchartButtonEl.disabled = true;  // To prevent multiple clicks.\n",
              "      quickchartButtonEl.classList.add('colab-df-spinner');\n",
              "      try {\n",
              "        const charts = await google.colab.kernel.invokeFunction(\n",
              "            'suggestCharts', [key], {});\n",
              "      } catch (error) {\n",
              "        console.error('Error during call to suggestCharts:', error);\n",
              "      }\n",
              "      quickchartButtonEl.classList.remove('colab-df-spinner');\n",
              "      quickchartButtonEl.classList.add('colab-df-quickchart-complete');\n",
              "    }\n",
              "    (() => {\n",
              "      let quickchartButtonEl =\n",
              "        document.querySelector('#df-e856ef98-7522-494b-bdb2-926fbba09e6a button');\n",
              "      quickchartButtonEl.style.display =\n",
              "        google.colab.kernel.accessAllowed ? 'block' : 'none';\n",
              "    })();\n",
              "  </script>\n",
              "</div>\n",
              "\n",
              "    </div>\n",
              "  </div>\n"
            ],
            "application/vnd.google.colaboratory.intrinsic+json": {
              "type": "dataframe",
              "variable_name": "data"
            }
          },
          "metadata": {},
          "execution_count": 43
        }
      ],
      "source": [
        "file_name = list(uploaded.keys())[0]\n",
        "data = pd.read_json(io.BytesIO(uploaded[file_name]), lines=True)\n",
        "data.head()"
      ]
    },
    {
      "cell_type": "code",
      "execution_count": null,
      "metadata": {
        "colab": {
          "base_uri": "https://localhost:8080/"
        },
        "id": "KqLKvvi6R1qF",
        "outputId": "d1ab0494-b9fd-4756-d75b-54f2e90b9864"
      },
      "outputs": [
        {
          "name": "stdout",
          "output_type": "stream",
          "text": [
            "<class 'pandas.core.frame.DataFrame'>\n",
            "RangeIndex: 30000 entries, 0 to 29999\n",
            "Data columns (total 33 columns):\n",
            " #   Column                         Non-Null Count  Dtype  \n",
            "---  ------                         --------------  -----  \n",
            " 0   uniq_id                        30000 non-null  object \n",
            " 1   crawl_timestamp                30000 non-null  object \n",
            " 2   asin                           30000 non-null  object \n",
            " 3   product_url                    30000 non-null  object \n",
            " 4   product_name                   30000 non-null  object \n",
            " 5   image_urls__small              29998 non-null  object \n",
            " 6   medium                         29998 non-null  object \n",
            " 7   large                          28841 non-null  object \n",
            " 8   browsenode                     29480 non-null  float64\n",
            " 9   brand                          21857 non-null  object \n",
            " 10  sales_price                    27110 non-null  float64\n",
            " 11  weight                         30000 non-null  object \n",
            " 12  rating                         30000 non-null  float64\n",
            " 13  sales_rank_in_parent_category  25497 non-null  object \n",
            " 14  sales_rank_in_child_category   24851 non-null  object \n",
            " 15  delivery_type                  30000 non-null  object \n",
            " 16  meta_keywords                  30000 non-null  object \n",
            " 17  amazon_prime__y_or_n           30000 non-null  object \n",
            " 18  parent___child_category__all   25497 non-null  object \n",
            " 19  best_seller_tag__y_or_n        30000 non-null  object \n",
            " 20  other_items_customers_buy      24363 non-null  object \n",
            " 21  product_details__k_v_pairs     28817 non-null  object \n",
            " 22  discount_percentage            14624 non-null  object \n",
            " 23  colour                         6029 non-null   object \n",
            " 24  no__of_reviews                 3452 non-null   float64\n",
            " 25  seller_name                    8364 non-null   object \n",
            " 26  seller_id                      8364 non-null   object \n",
            " 27  left_in_stock                  3057 non-null   float64\n",
            " 28  no__of_offers                  1020 non-null   float64\n",
            " 29  no__of_sellers                 1020 non-null   float64\n",
            " 30  technical_details__k_v_pairs   1154 non-null   object \n",
            " 31  formats___editions             2 non-null      object \n",
            " 32  name_of_author_for_books       1 non-null      object \n",
            "dtypes: float64(7), object(26)\n",
            "memory usage: 7.6+ MB\n"
          ]
        }
      ],
      "source": [
        "data.info()"
      ]
    },
    {
      "cell_type": "code",
      "execution_count": null,
      "metadata": {
        "colab": {
          "base_uri": "https://localhost:8080/"
        },
        "id": "Jeepsk75AAAF",
        "outputId": "f641e6b2-cd99-4e36-9fd3-9211e27a1568"
      },
      "outputs": [
        {
          "data": {
            "text/plain": [
              "(30000, 33)"
            ]
          },
          "execution_count": 5,
          "metadata": {},
          "output_type": "execute_result"
        }
      ],
      "source": [
        "data.shape"
      ]
    },
    {
      "cell_type": "code",
      "execution_count": null,
      "metadata": {
        "colab": {
          "base_uri": "https://localhost:8080/",
          "height": 586
        },
        "id": "720fLBDoAITY",
        "outputId": "47ab31a5-e57f-4422-ba82-94935be05983"
      },
      "outputs": [
        {
          "data": {
            "text/html": [
              "<div style=\"max-width:800px; border: 1px solid var(--colab-border-color);\"><style>\n",
              "      pre.function-repr-contents {\n",
              "        overflow-x: auto;\n",
              "        padding: 8px 12px;\n",
              "        max-height: 500px;\n",
              "      }\n",
              "\n",
              "      pre.function-repr-contents.function-repr-contents-collapsed {\n",
              "        cursor: pointer;\n",
              "        max-height: 100px;\n",
              "      }\n",
              "    </style>\n",
              "    <pre style=\"white-space: initial; background:\n",
              "         var(--colab-secondary-surface-color); padding: 8px 12px;\n",
              "         border-bottom: 1px solid var(--colab-border-color);\"><b>pandas.core.generic.NDFrame.describe</b><br/>def describe(percentiles=None, include=None, exclude=None) -&gt; Self</pre><pre class=\"function-repr-contents function-repr-contents-collapsed\" style=\"\"><a class=\"filepath\" style=\"display:none\" href=\"#\">/usr/local/lib/python3.10/dist-packages/pandas/core/generic.py</a>Generate descriptive statistics.\n",
              "\n",
              "Descriptive statistics include those that summarize the central\n",
              "tendency, dispersion and shape of a\n",
              "dataset&#x27;s distribution, excluding ``NaN`` values.\n",
              "\n",
              "Analyzes both numeric and object series, as well\n",
              "as ``DataFrame`` column sets of mixed data types. The output\n",
              "will vary depending on what is provided. Refer to the notes\n",
              "below for more detail.\n",
              "\n",
              "Parameters\n",
              "----------\n",
              "percentiles : list-like of numbers, optional\n",
              "    The percentiles to include in the output. All should\n",
              "    fall between 0 and 1. The default is\n",
              "    ``[.25, .5, .75]``, which returns the 25th, 50th, and\n",
              "    75th percentiles.\n",
              "include : &#x27;all&#x27;, list-like of dtypes or None (default), optional\n",
              "    A white list of data types to include in the result. Ignored\n",
              "    for ``Series``. Here are the options:\n",
              "\n",
              "    - &#x27;all&#x27; : All columns of the input will be included in the output.\n",
              "    - A list-like of dtypes : Limits the results to the\n",
              "      provided data types.\n",
              "      To limit the result to numeric types submit\n",
              "      ``numpy.number``. To limit it instead to object columns submit\n",
              "      the ``numpy.object`` data type. Strings\n",
              "      can also be used in the style of\n",
              "      ``select_dtypes`` (e.g. ``df.describe(include=[&#x27;O&#x27;])``). To\n",
              "      select pandas categorical columns, use ``&#x27;category&#x27;``\n",
              "    - None (default) : The result will include all numeric columns.\n",
              "exclude : list-like of dtypes or None (default), optional,\n",
              "    A black list of data types to omit from the result. Ignored\n",
              "    for ``Series``. Here are the options:\n",
              "\n",
              "    - A list-like of dtypes : Excludes the provided data types\n",
              "      from the result. To exclude numeric types submit\n",
              "      ``numpy.number``. To exclude object columns submit the data\n",
              "      type ``numpy.object``. Strings can also be used in the style of\n",
              "      ``select_dtypes`` (e.g. ``df.describe(exclude=[&#x27;O&#x27;])``). To\n",
              "      exclude pandas categorical columns, use ``&#x27;category&#x27;``\n",
              "    - None (default) : The result will exclude nothing.\n",
              "\n",
              "Returns\n",
              "-------\n",
              "Series or DataFrame\n",
              "    Summary statistics of the Series or Dataframe provided.\n",
              "\n",
              "See Also\n",
              "--------\n",
              "DataFrame.count: Count number of non-NA/null observations.\n",
              "DataFrame.max: Maximum of the values in the object.\n",
              "DataFrame.min: Minimum of the values in the object.\n",
              "DataFrame.mean: Mean of the values.\n",
              "DataFrame.std: Standard deviation of the observations.\n",
              "DataFrame.select_dtypes: Subset of a DataFrame including/excluding\n",
              "    columns based on their dtype.\n",
              "\n",
              "Notes\n",
              "-----\n",
              "For numeric data, the result&#x27;s index will include ``count``,\n",
              "``mean``, ``std``, ``min``, ``max`` as well as lower, ``50`` and\n",
              "upper percentiles. By default the lower percentile is ``25`` and the\n",
              "upper percentile is ``75``. The ``50`` percentile is the\n",
              "same as the median.\n",
              "\n",
              "For object data (e.g. strings or timestamps), the result&#x27;s index\n",
              "will include ``count``, ``unique``, ``top``, and ``freq``. The ``top``\n",
              "is the most common value. The ``freq`` is the most common value&#x27;s\n",
              "frequency. Timestamps also include the ``first`` and ``last`` items.\n",
              "\n",
              "If multiple object values have the highest count, then the\n",
              "``count`` and ``top`` results will be arbitrarily chosen from\n",
              "among those with the highest count.\n",
              "\n",
              "For mixed data types provided via a ``DataFrame``, the default is to\n",
              "return only an analysis of numeric columns. If the dataframe consists\n",
              "only of object and categorical data without any numeric columns, the\n",
              "default is to return an analysis of both the object and categorical\n",
              "columns. If ``include=&#x27;all&#x27;`` is provided as an option, the result\n",
              "will include a union of attributes of each type.\n",
              "\n",
              "The `include` and `exclude` parameters can be used to limit\n",
              "which columns in a ``DataFrame`` are analyzed for the output.\n",
              "The parameters are ignored when analyzing a ``Series``.\n",
              "\n",
              "Examples\n",
              "--------\n",
              "Describing a numeric ``Series``.\n",
              "\n",
              "&gt;&gt;&gt; s = pd.Series([1, 2, 3])\n",
              "&gt;&gt;&gt; s.describe()\n",
              "count    3.0\n",
              "mean     2.0\n",
              "std      1.0\n",
              "min      1.0\n",
              "25%      1.5\n",
              "50%      2.0\n",
              "75%      2.5\n",
              "max      3.0\n",
              "dtype: float64\n",
              "\n",
              "Describing a categorical ``Series``.\n",
              "\n",
              "&gt;&gt;&gt; s = pd.Series([&#x27;a&#x27;, &#x27;a&#x27;, &#x27;b&#x27;, &#x27;c&#x27;])\n",
              "&gt;&gt;&gt; s.describe()\n",
              "count     4\n",
              "unique    3\n",
              "top       a\n",
              "freq      2\n",
              "dtype: object\n",
              "\n",
              "Describing a timestamp ``Series``.\n",
              "\n",
              "&gt;&gt;&gt; s = pd.Series([\n",
              "...     np.datetime64(&quot;2000-01-01&quot;),\n",
              "...     np.datetime64(&quot;2010-01-01&quot;),\n",
              "...     np.datetime64(&quot;2010-01-01&quot;)\n",
              "... ])\n",
              "&gt;&gt;&gt; s.describe()\n",
              "count                      3\n",
              "mean     2006-09-01 08:00:00\n",
              "min      2000-01-01 00:00:00\n",
              "25%      2004-12-31 12:00:00\n",
              "50%      2010-01-01 00:00:00\n",
              "75%      2010-01-01 00:00:00\n",
              "max      2010-01-01 00:00:00\n",
              "dtype: object\n",
              "\n",
              "Describing a ``DataFrame``. By default only numeric fields\n",
              "are returned.\n",
              "\n",
              "&gt;&gt;&gt; df = pd.DataFrame({&#x27;categorical&#x27;: pd.Categorical([&#x27;d&#x27;, &#x27;e&#x27;, &#x27;f&#x27;]),\n",
              "...                    &#x27;numeric&#x27;: [1, 2, 3],\n",
              "...                    &#x27;object&#x27;: [&#x27;a&#x27;, &#x27;b&#x27;, &#x27;c&#x27;]\n",
              "...                    })\n",
              "&gt;&gt;&gt; df.describe()\n",
              "       numeric\n",
              "count      3.0\n",
              "mean       2.0\n",
              "std        1.0\n",
              "min        1.0\n",
              "25%        1.5\n",
              "50%        2.0\n",
              "75%        2.5\n",
              "max        3.0\n",
              "\n",
              "Describing all columns of a ``DataFrame`` regardless of data type.\n",
              "\n",
              "&gt;&gt;&gt; df.describe(include=&#x27;all&#x27;)  # doctest: +SKIP\n",
              "       categorical  numeric object\n",
              "count            3      3.0      3\n",
              "unique           3      NaN      3\n",
              "top              f      NaN      a\n",
              "freq             1      NaN      1\n",
              "mean           NaN      2.0    NaN\n",
              "std            NaN      1.0    NaN\n",
              "min            NaN      1.0    NaN\n",
              "25%            NaN      1.5    NaN\n",
              "50%            NaN      2.0    NaN\n",
              "75%            NaN      2.5    NaN\n",
              "max            NaN      3.0    NaN\n",
              "\n",
              "Describing a column from a ``DataFrame`` by accessing it as\n",
              "an attribute.\n",
              "\n",
              "&gt;&gt;&gt; df.numeric.describe()\n",
              "count    3.0\n",
              "mean     2.0\n",
              "std      1.0\n",
              "min      1.0\n",
              "25%      1.5\n",
              "50%      2.0\n",
              "75%      2.5\n",
              "max      3.0\n",
              "Name: numeric, dtype: float64\n",
              "\n",
              "Including only numeric columns in a ``DataFrame`` description.\n",
              "\n",
              "&gt;&gt;&gt; df.describe(include=[np.number])\n",
              "       numeric\n",
              "count      3.0\n",
              "mean       2.0\n",
              "std        1.0\n",
              "min        1.0\n",
              "25%        1.5\n",
              "50%        2.0\n",
              "75%        2.5\n",
              "max        3.0\n",
              "\n",
              "Including only string columns in a ``DataFrame`` description.\n",
              "\n",
              "&gt;&gt;&gt; df.describe(include=[object])  # doctest: +SKIP\n",
              "       object\n",
              "count       3\n",
              "unique      3\n",
              "top         a\n",
              "freq        1\n",
              "\n",
              "Including only categorical columns from a ``DataFrame`` description.\n",
              "\n",
              "&gt;&gt;&gt; df.describe(include=[&#x27;category&#x27;])\n",
              "       categorical\n",
              "count            3\n",
              "unique           3\n",
              "top              d\n",
              "freq             1\n",
              "\n",
              "Excluding numeric columns from a ``DataFrame`` description.\n",
              "\n",
              "&gt;&gt;&gt; df.describe(exclude=[np.number])  # doctest: +SKIP\n",
              "       categorical object\n",
              "count            3      3\n",
              "unique           3      3\n",
              "top              f      a\n",
              "freq             1      1\n",
              "\n",
              "Excluding object columns from a ``DataFrame`` description.\n",
              "\n",
              "&gt;&gt;&gt; df.describe(exclude=[object])  # doctest: +SKIP\n",
              "       categorical  numeric\n",
              "count            3      3.0\n",
              "unique           3      NaN\n",
              "top              f      NaN\n",
              "freq             1      NaN\n",
              "mean           NaN      2.0\n",
              "std            NaN      1.0\n",
              "min            NaN      1.0\n",
              "25%            NaN      1.5\n",
              "50%            NaN      2.0\n",
              "75%            NaN      2.5\n",
              "max            NaN      3.0</pre>\n",
              "      <script>\n",
              "      if (google.colab.kernel.accessAllowed && google.colab.files && google.colab.files.view) {\n",
              "        for (const element of document.querySelectorAll('.filepath')) {\n",
              "          element.style.display = 'block'\n",
              "          element.onclick = (event) => {\n",
              "            event.preventDefault();\n",
              "            event.stopPropagation();\n",
              "            google.colab.files.view(element.textContent, 11734);\n",
              "          };\n",
              "        }\n",
              "      }\n",
              "      for (const element of document.querySelectorAll('.function-repr-contents')) {\n",
              "        element.onclick = (event) => {\n",
              "          event.preventDefault();\n",
              "          event.stopPropagation();\n",
              "          element.classList.toggle('function-repr-contents-collapsed');\n",
              "        };\n",
              "      }\n",
              "      </script>\n",
              "      </div>"
            ],
            "text/plain": [
              "<bound method NDFrame.describe of                                 uniq_id            crawl_timestamp  \\\n",
              "0      26d41bdc1495de290bc8e6062d927729  2020-02-07 05:11:36 +0000   \n",
              "1      410c62298852e68f34c35560f2311e5a  2020-02-07 08:45:56 +0000   \n",
              "2      52e31bb31680b0ec73de0d781a23cc0a  2020-02-06 11:09:38 +0000   \n",
              "3      25798d6dc43239c118452d1bee0fb088  2020-02-07 08:32:45 +0000   \n",
              "4      ad8a5a196d515ef09dfdaf082bdc37c4  2020-02-06 14:27:48 +0000   \n",
              "...                                 ...                        ...   \n",
              "29995  976b6bda7076509778da69eb3fe0f59c  2020-02-06 23:53:43 +0000   \n",
              "29996  3006a520f71804b055d92216f5dc946d  2020-02-06 20:32:09 +0000   \n",
              "29997  45ea7c463997f4cd91851617edbfee32  2020-02-06 19:55:44 +0000   \n",
              "29998  2ecada524df6ff8c2d0c53a249cfcddc  2020-02-06 05:08:00 +0000   \n",
              "29999  a4e77b9b1addb68bdfc4b178ac27e7c2  2020-02-06 23:32:41 +0000   \n",
              "\n",
              "             asin                                        product_url  \\\n",
              "0      B07STS2W9T  https://www.amazon.in/Facon-Kalamkari-Handbloc...   \n",
              "1      B07N6TD2WL  https://www.amazon.in/Sf-Jeans-Pantaloons-T-Sh...   \n",
              "2      B07WJ6WPN1  https://www.amazon.in/LOVISTA-Traditional-Prin...   \n",
              "3      B07PYSF4WZ  https://www.amazon.in/People-Printed-Regular-T...   \n",
              "4      B082KXNM7X  https://www.amazon.in/Monte-Carlo-Cotton-Colla...   \n",
              "...           ...                                                ...   \n",
              "29995  B07FVRMFTX  https://www.amazon.in/Indian-Virasat-Pushp-Cha...   \n",
              "29996  B07RR3XYZD  https://www.amazon.in/Urban-Ranger-Pantaloons-...   \n",
              "29997  B07SSLSR9X  https://www.amazon.in/Peter-England-Striped-Re...   \n",
              "29998  B07P561W67  https://www.amazon.in/PINKY-PARI-Womens-Embroi...   \n",
              "29999  B07GPQ7V5W  https://www.amazon.in/Gutsy-Triple-Striped-Sle...   \n",
              "\n",
              "                                            product_name  \\\n",
              "0      LA' Facon Cotton Kalamkari Handblock Saree Blo...   \n",
              "1      Sf Jeans By Pantaloons Men's Plain Slim fit T-...   \n",
              "2      LOVISTA Cotton Gota Patti Tassel Traditional P...   \n",
              "3               People Men's Printed Regular fit T-Shirt   \n",
              "4      Monte Carlo Grey Solid Cotton Blend Polo Colla...   \n",
              "...                                                  ...   \n",
              "29995        Indian Virasat Women's Rayon Anarkali Kurta   \n",
              "29996  Urban Ranger by Pantaloons Men's Slim fit T-Shirt   \n",
              "29997            Peter England Men's Regular fit T-Shirt   \n",
              "29998  PINKY PARI Women's Embroidered Short Denim Str...   \n",
              "29999  Gutsy Men's Full Sleeve All Over Printed Navy ...   \n",
              "\n",
              "                                       image_urls__small  \\\n",
              "0      https://images-na.ssl-images-amazon.com/images...   \n",
              "1      https://images-na.ssl-images-amazon.com/images...   \n",
              "2      https://images-na.ssl-images-amazon.com/images...   \n",
              "3      https://images-na.ssl-images-amazon.com/images...   \n",
              "4      https://images-na.ssl-images-amazon.com/images...   \n",
              "...                                                  ...   \n",
              "29995  https://images-na.ssl-images-amazon.com/images...   \n",
              "29996  https://images-na.ssl-images-amazon.com/images...   \n",
              "29997  https://images-na.ssl-images-amazon.com/images...   \n",
              "29998  https://images-na.ssl-images-amazon.com/images...   \n",
              "29999  https://images-na.ssl-images-amazon.com/images...   \n",
              "\n",
              "                                                  medium  \\\n",
              "0      https://images-na.ssl-images-amazon.com/images...   \n",
              "1      https://images-na.ssl-images-amazon.com/images...   \n",
              "2      https://images-na.ssl-images-amazon.com/images...   \n",
              "3      https://images-na.ssl-images-amazon.com/images...   \n",
              "4      https://images-na.ssl-images-amazon.com/images...   \n",
              "...                                                  ...   \n",
              "29995  https://images-na.ssl-images-amazon.com/images...   \n",
              "29996  https://images-na.ssl-images-amazon.com/images...   \n",
              "29997  https://images-na.ssl-images-amazon.com/images...   \n",
              "29998  https://images-na.ssl-images-amazon.com/images...   \n",
              "29999  https://images-na.ssl-images-amazon.com/images...   \n",
              "\n",
              "                                                   large    browsenode  \\\n",
              "0      https://images-na.ssl-images-amazon.com/images...  1.968255e+09   \n",
              "1      https://images-na.ssl-images-amazon.com/images...  1.968123e+09   \n",
              "2      https://images-na.ssl-images-amazon.com/images...  1.968255e+09   \n",
              "3      https://images-na.ssl-images-amazon.com/images...  1.968123e+09   \n",
              "4      https://images-na.ssl-images-amazon.com/images...  1.968070e+09   \n",
              "...                                                  ...           ...   \n",
              "29995  https://images-na.ssl-images-amazon.com/images...  1.968255e+09   \n",
              "29996  https://images-na.ssl-images-amazon.com/images...  1.968123e+09   \n",
              "29997  https://images-na.ssl-images-amazon.com/images...  1.968123e+09   \n",
              "29998  https://images-na.ssl-images-amazon.com/images...  1.968255e+09   \n",
              "29999  https://images-na.ssl-images-amazon.com/images...  1.968123e+09   \n",
              "\n",
              "                            brand  ...  \\\n",
              "0                       LA' Facon  ...   \n",
              "1                             NaN  ...   \n",
              "2                         LOVISTA  ...   \n",
              "3                             NaN  ...   \n",
              "4                             NaN  ...   \n",
              "...                           ...  ...   \n",
              "29995                         NaN  ...   \n",
              "29996  Urban Ranger by Pantaloons  ...   \n",
              "29997                         NaN  ...   \n",
              "29998                  PINKY PARI  ...   \n",
              "29999                       Gutsy  ...   \n",
              "\n",
              "                                             colour no__of_reviews  \\\n",
              "0                                               NaN            NaN   \n",
              "1                                               NaN            NaN   \n",
              "2                                               NaN            NaN   \n",
              "3                                               NaN            NaN   \n",
              "4                                               NaN            NaN   \n",
              "...                                             ...            ...   \n",
              "29995                                           NaN            NaN   \n",
              "29996                                           NaN            NaN   \n",
              "29997                                           NaN            NaN   \n",
              "29998  DARK BLUE (BEIGE)|DARK BLUE (RED)|LIGHT BLUE            NaN   \n",
              "29999                                           NaN            NaN   \n",
              "\n",
              "       seller_name seller_id left_in_stock no__of_offers no__of_sellers  \\\n",
              "0              NaN       NaN           NaN           NaN            NaN   \n",
              "1              NaN       NaN           NaN           NaN            NaN   \n",
              "2              NaN       NaN           NaN           NaN            NaN   \n",
              "3              NaN       NaN           NaN           NaN            NaN   \n",
              "4              NaN       NaN           NaN           NaN            NaN   \n",
              "...            ...       ...           ...           ...            ...   \n",
              "29995          NaN       NaN           NaN           NaN            NaN   \n",
              "29996          NaN       NaN           NaN           NaN            NaN   \n",
              "29997          NaN       NaN           NaN           NaN            NaN   \n",
              "29998          NaN       NaN           NaN           NaN            NaN   \n",
              "29999          NaN       NaN           NaN           NaN            NaN   \n",
              "\n",
              "      technical_details__k_v_pairs formats___editions name_of_author_for_books  \n",
              "0                              NaN                NaN                      NaN  \n",
              "1                              NaN                NaN                      NaN  \n",
              "2                              NaN                NaN                      NaN  \n",
              "3                              NaN                NaN                      NaN  \n",
              "4                              NaN                NaN                      NaN  \n",
              "...                            ...                ...                      ...  \n",
              "29995                          NaN                NaN                      NaN  \n",
              "29996                          NaN                NaN                      NaN  \n",
              "29997                          NaN                NaN                      NaN  \n",
              "29998                          NaN                NaN                      NaN  \n",
              "29999                          NaN                NaN                      NaN  \n",
              "\n",
              "[30000 rows x 33 columns]>"
            ]
          },
          "execution_count": 6,
          "metadata": {},
          "output_type": "execute_result"
        }
      ],
      "source": [
        "data.describe"
      ]
    },
    {
      "cell_type": "code",
      "execution_count": null,
      "metadata": {
        "colab": {
          "base_uri": "https://localhost:8080/",
          "height": 504
        },
        "id": "gK60WddMAWJ6",
        "outputId": "7920868d-fb89-4d8b-8b48-7dabe621ce9b"
      },
      "outputs": [
        {
          "output_type": "execute_result",
          "data": {
            "text/plain": [
              "         asin                                        product_url  \\\n",
              "0  B07STS2W9T  https://www.amazon.in/Facon-Kalamkari-Handbloc...   \n",
              "1  B07N6TD2WL  https://www.amazon.in/Sf-Jeans-Pantaloons-T-Sh...   \n",
              "2  B07WJ6WPN1  https://www.amazon.in/LOVISTA-Traditional-Prin...   \n",
              "3  B07PYSF4WZ  https://www.amazon.in/People-Printed-Regular-T...   \n",
              "5  B07X5M41BJ  https://www.amazon.in/Forest-Club-Sports-Breat...   \n",
              "\n",
              "                                        product_name  sales_price  rating  \\\n",
              "0  LA' Facon Cotton Kalamkari Handblock Saree Blo...        200.0     5.0   \n",
              "1  Sf Jeans By Pantaloons Men's Plain Slim fit T-...        265.0     3.6   \n",
              "2  LOVISTA Cotton Gota Patti Tassel Traditional P...        660.0     3.5   \n",
              "3           People Men's Printed Regular fit T-Shirt        195.0     3.0   \n",
              "5  Forest Club | Gym Wear | Sports Shorts| Shorts...        350.0     4.1   \n",
              "\n",
              "                                       meta_keywords  \\\n",
              "0  LA' Facon Cotton Kalamkari Handblock Saree Blo...   \n",
              "1  Sf Jeans By Pantaloons Men's Plain Slim fit T-...   \n",
              "2  LOVISTA Cotton Gota Patti Tassel Traditional P...   \n",
              "3    People Men's Printed Regular fit T-Shirt,People   \n",
              "5  Forest Club | Gym Wear | Sports Shorts| Shorts...   \n",
              "\n",
              "                                              medium        brand  \n",
              "0  https://images-na.ssl-images-amazon.com/images...    LA' Facon  \n",
              "1  https://images-na.ssl-images-amazon.com/images...         None  \n",
              "2  https://images-na.ssl-images-amazon.com/images...      LOVISTA  \n",
              "3  https://images-na.ssl-images-amazon.com/images...         None  \n",
              "5  https://images-na.ssl-images-amazon.com/images...  Forest Club  "
            ],
            "text/html": [
              "\n",
              "  <div id=\"df-563e4770-57a6-43d8-ba69-b6c4b304a942\" class=\"colab-df-container\">\n",
              "    <div>\n",
              "<style scoped>\n",
              "    .dataframe tbody tr th:only-of-type {\n",
              "        vertical-align: middle;\n",
              "    }\n",
              "\n",
              "    .dataframe tbody tr th {\n",
              "        vertical-align: top;\n",
              "    }\n",
              "\n",
              "    .dataframe thead th {\n",
              "        text-align: right;\n",
              "    }\n",
              "</style>\n",
              "<table border=\"1\" class=\"dataframe\">\n",
              "  <thead>\n",
              "    <tr style=\"text-align: right;\">\n",
              "      <th></th>\n",
              "      <th>asin</th>\n",
              "      <th>product_url</th>\n",
              "      <th>product_name</th>\n",
              "      <th>sales_price</th>\n",
              "      <th>rating</th>\n",
              "      <th>meta_keywords</th>\n",
              "      <th>medium</th>\n",
              "      <th>brand</th>\n",
              "    </tr>\n",
              "  </thead>\n",
              "  <tbody>\n",
              "    <tr>\n",
              "      <th>0</th>\n",
              "      <td>B07STS2W9T</td>\n",
              "      <td>https://www.amazon.in/Facon-Kalamkari-Handbloc...</td>\n",
              "      <td>LA' Facon Cotton Kalamkari Handblock Saree Blo...</td>\n",
              "      <td>200.0</td>\n",
              "      <td>5.0</td>\n",
              "      <td>LA' Facon Cotton Kalamkari Handblock Saree Blo...</td>\n",
              "      <td>https://images-na.ssl-images-amazon.com/images...</td>\n",
              "      <td>LA' Facon</td>\n",
              "    </tr>\n",
              "    <tr>\n",
              "      <th>1</th>\n",
              "      <td>B07N6TD2WL</td>\n",
              "      <td>https://www.amazon.in/Sf-Jeans-Pantaloons-T-Sh...</td>\n",
              "      <td>Sf Jeans By Pantaloons Men's Plain Slim fit T-...</td>\n",
              "      <td>265.0</td>\n",
              "      <td>3.6</td>\n",
              "      <td>Sf Jeans By Pantaloons Men's Plain Slim fit T-...</td>\n",
              "      <td>https://images-na.ssl-images-amazon.com/images...</td>\n",
              "      <td>None</td>\n",
              "    </tr>\n",
              "    <tr>\n",
              "      <th>2</th>\n",
              "      <td>B07WJ6WPN1</td>\n",
              "      <td>https://www.amazon.in/LOVISTA-Traditional-Prin...</td>\n",
              "      <td>LOVISTA Cotton Gota Patti Tassel Traditional P...</td>\n",
              "      <td>660.0</td>\n",
              "      <td>3.5</td>\n",
              "      <td>LOVISTA Cotton Gota Patti Tassel Traditional P...</td>\n",
              "      <td>https://images-na.ssl-images-amazon.com/images...</td>\n",
              "      <td>LOVISTA</td>\n",
              "    </tr>\n",
              "    <tr>\n",
              "      <th>3</th>\n",
              "      <td>B07PYSF4WZ</td>\n",
              "      <td>https://www.amazon.in/People-Printed-Regular-T...</td>\n",
              "      <td>People Men's Printed Regular fit T-Shirt</td>\n",
              "      <td>195.0</td>\n",
              "      <td>3.0</td>\n",
              "      <td>People Men's Printed Regular fit T-Shirt,People</td>\n",
              "      <td>https://images-na.ssl-images-amazon.com/images...</td>\n",
              "      <td>None</td>\n",
              "    </tr>\n",
              "    <tr>\n",
              "      <th>5</th>\n",
              "      <td>B07X5M41BJ</td>\n",
              "      <td>https://www.amazon.in/Forest-Club-Sports-Breat...</td>\n",
              "      <td>Forest Club | Gym Wear | Sports Shorts| Shorts...</td>\n",
              "      <td>350.0</td>\n",
              "      <td>4.1</td>\n",
              "      <td>Forest Club | Gym Wear | Sports Shorts| Shorts...</td>\n",
              "      <td>https://images-na.ssl-images-amazon.com/images...</td>\n",
              "      <td>Forest Club</td>\n",
              "    </tr>\n",
              "  </tbody>\n",
              "</table>\n",
              "</div>\n",
              "    <div class=\"colab-df-buttons\">\n",
              "\n",
              "  <div class=\"colab-df-container\">\n",
              "    <button class=\"colab-df-convert\" onclick=\"convertToInteractive('df-563e4770-57a6-43d8-ba69-b6c4b304a942')\"\n",
              "            title=\"Convert this dataframe to an interactive table.\"\n",
              "            style=\"display:none;\">\n",
              "\n",
              "  <svg xmlns=\"http://www.w3.org/2000/svg\" height=\"24px\" viewBox=\"0 -960 960 960\">\n",
              "    <path d=\"M120-120v-720h720v720H120Zm60-500h600v-160H180v160Zm220 220h160v-160H400v160Zm0 220h160v-160H400v160ZM180-400h160v-160H180v160Zm440 0h160v-160H620v160ZM180-180h160v-160H180v160Zm440 0h160v-160H620v160Z\"/>\n",
              "  </svg>\n",
              "    </button>\n",
              "\n",
              "  <style>\n",
              "    .colab-df-container {\n",
              "      display:flex;\n",
              "      gap: 12px;\n",
              "    }\n",
              "\n",
              "    .colab-df-convert {\n",
              "      background-color: #E8F0FE;\n",
              "      border: none;\n",
              "      border-radius: 50%;\n",
              "      cursor: pointer;\n",
              "      display: none;\n",
              "      fill: #1967D2;\n",
              "      height: 32px;\n",
              "      padding: 0 0 0 0;\n",
              "      width: 32px;\n",
              "    }\n",
              "\n",
              "    .colab-df-convert:hover {\n",
              "      background-color: #E2EBFA;\n",
              "      box-shadow: 0px 1px 2px rgba(60, 64, 67, 0.3), 0px 1px 3px 1px rgba(60, 64, 67, 0.15);\n",
              "      fill: #174EA6;\n",
              "    }\n",
              "\n",
              "    .colab-df-buttons div {\n",
              "      margin-bottom: 4px;\n",
              "    }\n",
              "\n",
              "    [theme=dark] .colab-df-convert {\n",
              "      background-color: #3B4455;\n",
              "      fill: #D2E3FC;\n",
              "    }\n",
              "\n",
              "    [theme=dark] .colab-df-convert:hover {\n",
              "      background-color: #434B5C;\n",
              "      box-shadow: 0px 1px 3px 1px rgba(0, 0, 0, 0.15);\n",
              "      filter: drop-shadow(0px 1px 2px rgba(0, 0, 0, 0.3));\n",
              "      fill: #FFFFFF;\n",
              "    }\n",
              "  </style>\n",
              "\n",
              "    <script>\n",
              "      const buttonEl =\n",
              "        document.querySelector('#df-563e4770-57a6-43d8-ba69-b6c4b304a942 button.colab-df-convert');\n",
              "      buttonEl.style.display =\n",
              "        google.colab.kernel.accessAllowed ? 'block' : 'none';\n",
              "\n",
              "      async function convertToInteractive(key) {\n",
              "        const element = document.querySelector('#df-563e4770-57a6-43d8-ba69-b6c4b304a942');\n",
              "        const dataTable =\n",
              "          await google.colab.kernel.invokeFunction('convertToInteractive',\n",
              "                                                    [key], {});\n",
              "        if (!dataTable) return;\n",
              "\n",
              "        const docLinkHtml = 'Like what you see? Visit the ' +\n",
              "          '<a target=\"_blank\" href=https://colab.research.google.com/notebooks/data_table.ipynb>data table notebook</a>'\n",
              "          + ' to learn more about interactive tables.';\n",
              "        element.innerHTML = '';\n",
              "        dataTable['output_type'] = 'display_data';\n",
              "        await google.colab.output.renderOutput(dataTable, element);\n",
              "        const docLink = document.createElement('div');\n",
              "        docLink.innerHTML = docLinkHtml;\n",
              "        element.appendChild(docLink);\n",
              "      }\n",
              "    </script>\n",
              "  </div>\n",
              "\n",
              "\n",
              "<div id=\"df-3353596c-3f8d-4e82-a6a4-a8f0deeff105\">\n",
              "  <button class=\"colab-df-quickchart\" onclick=\"quickchart('df-3353596c-3f8d-4e82-a6a4-a8f0deeff105')\"\n",
              "            title=\"Suggest charts\"\n",
              "            style=\"display:none;\">\n",
              "\n",
              "<svg xmlns=\"http://www.w3.org/2000/svg\" height=\"24px\"viewBox=\"0 0 24 24\"\n",
              "     width=\"24px\">\n",
              "    <g>\n",
              "        <path d=\"M19 3H5c-1.1 0-2 .9-2 2v14c0 1.1.9 2 2 2h14c1.1 0 2-.9 2-2V5c0-1.1-.9-2-2-2zM9 17H7v-7h2v7zm4 0h-2V7h2v10zm4 0h-2v-4h2v4z\"/>\n",
              "    </g>\n",
              "</svg>\n",
              "  </button>\n",
              "\n",
              "<style>\n",
              "  .colab-df-quickchart {\n",
              "      --bg-color: #E8F0FE;\n",
              "      --fill-color: #1967D2;\n",
              "      --hover-bg-color: #E2EBFA;\n",
              "      --hover-fill-color: #174EA6;\n",
              "      --disabled-fill-color: #AAA;\n",
              "      --disabled-bg-color: #DDD;\n",
              "  }\n",
              "\n",
              "  [theme=dark] .colab-df-quickchart {\n",
              "      --bg-color: #3B4455;\n",
              "      --fill-color: #D2E3FC;\n",
              "      --hover-bg-color: #434B5C;\n",
              "      --hover-fill-color: #FFFFFF;\n",
              "      --disabled-bg-color: #3B4455;\n",
              "      --disabled-fill-color: #666;\n",
              "  }\n",
              "\n",
              "  .colab-df-quickchart {\n",
              "    background-color: var(--bg-color);\n",
              "    border: none;\n",
              "    border-radius: 50%;\n",
              "    cursor: pointer;\n",
              "    display: none;\n",
              "    fill: var(--fill-color);\n",
              "    height: 32px;\n",
              "    padding: 0;\n",
              "    width: 32px;\n",
              "  }\n",
              "\n",
              "  .colab-df-quickchart:hover {\n",
              "    background-color: var(--hover-bg-color);\n",
              "    box-shadow: 0 1px 2px rgba(60, 64, 67, 0.3), 0 1px 3px 1px rgba(60, 64, 67, 0.15);\n",
              "    fill: var(--button-hover-fill-color);\n",
              "  }\n",
              "\n",
              "  .colab-df-quickchart-complete:disabled,\n",
              "  .colab-df-quickchart-complete:disabled:hover {\n",
              "    background-color: var(--disabled-bg-color);\n",
              "    fill: var(--disabled-fill-color);\n",
              "    box-shadow: none;\n",
              "  }\n",
              "\n",
              "  .colab-df-spinner {\n",
              "    border: 2px solid var(--fill-color);\n",
              "    border-color: transparent;\n",
              "    border-bottom-color: var(--fill-color);\n",
              "    animation:\n",
              "      spin 1s steps(1) infinite;\n",
              "  }\n",
              "\n",
              "  @keyframes spin {\n",
              "    0% {\n",
              "      border-color: transparent;\n",
              "      border-bottom-color: var(--fill-color);\n",
              "      border-left-color: var(--fill-color);\n",
              "    }\n",
              "    20% {\n",
              "      border-color: transparent;\n",
              "      border-left-color: var(--fill-color);\n",
              "      border-top-color: var(--fill-color);\n",
              "    }\n",
              "    30% {\n",
              "      border-color: transparent;\n",
              "      border-left-color: var(--fill-color);\n",
              "      border-top-color: var(--fill-color);\n",
              "      border-right-color: var(--fill-color);\n",
              "    }\n",
              "    40% {\n",
              "      border-color: transparent;\n",
              "      border-right-color: var(--fill-color);\n",
              "      border-top-color: var(--fill-color);\n",
              "    }\n",
              "    60% {\n",
              "      border-color: transparent;\n",
              "      border-right-color: var(--fill-color);\n",
              "    }\n",
              "    80% {\n",
              "      border-color: transparent;\n",
              "      border-right-color: var(--fill-color);\n",
              "      border-bottom-color: var(--fill-color);\n",
              "    }\n",
              "    90% {\n",
              "      border-color: transparent;\n",
              "      border-bottom-color: var(--fill-color);\n",
              "    }\n",
              "  }\n",
              "</style>\n",
              "\n",
              "  <script>\n",
              "    async function quickchart(key) {\n",
              "      const quickchartButtonEl =\n",
              "        document.querySelector('#' + key + ' button');\n",
              "      quickchartButtonEl.disabled = true;  // To prevent multiple clicks.\n",
              "      quickchartButtonEl.classList.add('colab-df-spinner');\n",
              "      try {\n",
              "        const charts = await google.colab.kernel.invokeFunction(\n",
              "            'suggestCharts', [key], {});\n",
              "      } catch (error) {\n",
              "        console.error('Error during call to suggestCharts:', error);\n",
              "      }\n",
              "      quickchartButtonEl.classList.remove('colab-df-spinner');\n",
              "      quickchartButtonEl.classList.add('colab-df-quickchart-complete');\n",
              "    }\n",
              "    (() => {\n",
              "      let quickchartButtonEl =\n",
              "        document.querySelector('#df-3353596c-3f8d-4e82-a6a4-a8f0deeff105 button');\n",
              "      quickchartButtonEl.style.display =\n",
              "        google.colab.kernel.accessAllowed ? 'block' : 'none';\n",
              "    })();\n",
              "  </script>\n",
              "</div>\n",
              "\n",
              "    </div>\n",
              "  </div>\n"
            ],
            "application/vnd.google.colaboratory.intrinsic+json": {
              "type": "dataframe",
              "variable_name": "data",
              "summary": "{\n  \"name\": \"data\",\n  \"rows\": 26620,\n  \"fields\": [\n    {\n      \"column\": \"asin\",\n      \"properties\": {\n        \"dtype\": \"string\",\n        \"num_unique_values\": 26155,\n        \"samples\": [\n          \"B01JUQMLZQ\",\n          \"B07T9THVMF\",\n          \"B07DXFX8T5\"\n        ],\n        \"semantic_type\": \"\",\n        \"description\": \"\"\n      }\n    },\n    {\n      \"column\": \"product_url\",\n      \"properties\": {\n        \"dtype\": \"string\",\n        \"num_unique_values\": 26620,\n        \"samples\": [\n          \"https://www.amazon.in/HITVA-DESIGNER-WOVEN-CHIFFON-SAREE/dp/B07W2YQD53/\",\n          \"https://www.amazon.in/BRAGITOFF-Mens-100-Cotton-T-Shirt/dp/B07W6SVXVJ/\",\n          \"https://www.amazon.in/BIBA-Womens-Straight-MNMISLAND-T13810_INDIGO_34/dp/B078W5GQ7L/\"\n        ],\n        \"semantic_type\": \"\",\n        \"description\": \"\"\n      }\n    },\n    {\n      \"column\": \"product_name\",\n      \"properties\": {\n        \"dtype\": \"string\",\n        \"num_unique_values\": 19563,\n        \"samples\": [\n          \"Naughty Ninos Crepe Shirt Dress\",\n          \"PrintOctopus Graphic Printed T-Shirt for Men Motivational Quote T-Shirt | Half Sleeve T-Shirt | Round Neck T Shirt | 100% Cotton T-Shirt for Women | Short Sleeve T Shirt\",\n          \"Phoenix Retail's Kalamkari Maysore Silk Saree With Blouse Piece\"\n        ],\n        \"semantic_type\": \"\",\n        \"description\": \"\"\n      }\n    },\n    {\n      \"column\": \"sales_price\",\n      \"properties\": {\n        \"dtype\": \"number\",\n        \"std\": 287.397521753008,\n        \"min\": 39.0,\n        \"max\": 1524.0,\n        \"num_unique_values\": 1369,\n        \"samples\": [\n          565.0,\n          237.5,\n          936.0\n        ],\n        \"semantic_type\": \"\",\n        \"description\": \"\"\n      }\n    },\n    {\n      \"column\": \"rating\",\n      \"properties\": {\n        \"dtype\": \"number\",\n        \"std\": 0.7258857427032629,\n        \"min\": 1.6,\n        \"max\": 5.0,\n        \"num_unique_values\": 35,\n        \"samples\": [\n          2.7,\n          3.2,\n          2.4\n        ],\n        \"semantic_type\": \"\",\n        \"description\": \"\"\n      }\n    },\n    {\n      \"column\": \"meta_keywords\",\n      \"properties\": {\n        \"dtype\": \"string\",\n        \"num_unique_values\": 21659,\n        \"samples\": [\n          \"Women's Collection Rustam ART Silk Ex.Premium Saree,Imperial collection\",\n          \"Fashion And Youth Women Cotton Panda Hoodie | Hoodies for Girls Winter Sweat Shirt Panda White Color,Fashion And Youth\",\n          \"RIMSHA CREATIONS Beanie Cap Black for Mens\"\n        ],\n        \"semantic_type\": \"\",\n        \"description\": \"\"\n      }\n    },\n    {\n      \"column\": \"medium\",\n      \"properties\": {\n        \"dtype\": \"string\",\n        \"num_unique_values\": 26126,\n        \"samples\": [\n          \"https://images-na.ssl-images-amazon.com/images/I/41B7iYAIsuL.jpg|https://images-na.ssl-images-amazon.com/images/I/41LHuAnNy8L.jpg\",\n          \"https://images-na.ssl-images-amazon.com/images/I/51ee-YawUPL.jpg|https://images-na.ssl-images-amazon.com/images/I/41do24nApeL.jpg|https://images-na.ssl-images-amazon.com/images/I/41kCad5C8aL.jpg|https://images-na.ssl-images-amazon.com/images/I/51c9Yax8J6L.jpg\",\n          \"https://images-na.ssl-images-amazon.com/images/I/415GKvUrjZL.jpg|https://images-na.ssl-images-amazon.com/images/I/41JANQx1V7L.jpg|https://images-na.ssl-images-amazon.com/images/I/31lVoA9iChL.jpg|https://images-na.ssl-images-amazon.com/images/I/418BR1TnL%2BL.jpg|https://images-na.ssl-images-amazon.com/images/I/41b7sHpn5eL.jpg|https://images-na.ssl-images-amazon.com/images/I/517xrwGrf-L.jpg\"\n        ],\n        \"semantic_type\": \"\",\n        \"description\": \"\"\n      }\n    },\n    {\n      \"column\": \"brand\",\n      \"properties\": {\n        \"dtype\": \"category\",\n        \"num_unique_values\": 5681,\n        \"samples\": [\n          \"VSTAR\",\n          \"Vesh\",\n          \"Aesthetinc\"\n        ],\n        \"semantic_type\": \"\",\n        \"description\": \"\"\n      }\n    }\n  ]\n}"
            }
          },
          "metadata": {},
          "execution_count": 12
        }
      ],
      "source": [
        "data=data[['asin','product_url','product_name','sales_price','rating','meta_keywords','medium','brand']]\n",
        "data.head()"
      ]
    },
    {
      "cell_type": "markdown",
      "metadata": {
        "id": "r30LnETExuaU"
      },
      "source": [
        "Visulaizing the dataset that contains the missing values"
      ]
    },
    {
      "cell_type": "code",
      "execution_count": 44,
      "metadata": {
        "colab": {
          "base_uri": "https://localhost:8080/",
          "height": 653
        },
        "id": "pj0rQUeaTtrD",
        "outputId": "70e5c3a8-b428-478b-b928-e1498048a40a"
      },
      "outputs": [
        {
          "output_type": "display_data",
          "data": {
            "text/plain": [
              "<Figure size 640x480 with 1 Axes>"
            ],
            "image/png": "[encoded data removed]"
          },
          "metadata": {}
        }
      ],
      "source": [
        "import seaborn as sns\n",
        "import matplotlib.pyplot as plt\n",
        "\n",
        "sns.heatmap(data.isnull(),yticklabels=False, cbar=False)\n",
        "plt.title('Missing Values Heatmap')\n",
        "plt.show()\n"
      ]
    },
    {
      "cell_type": "code",
      "execution_count": null,
      "metadata": {
        "id": "SBncc_2KdkvQ"
      },
      "outputs": [],
      "source": [
        "data['brand']=data['brand'].fillna('None')\n",
        "data['sales_price'] = pd.to_numeric(data['sales_price'], errors='coerce')\n",
        "data['sales_price']=data['sales_price'].fillna(data['sales_price'].median())"
      ]
    },
    {
      "cell_type": "code",
      "execution_count": null,
      "metadata": {
        "id": "Ylzn32hOCyOi"
      },
      "outputs": [],
      "source": [
        "columns_to_check = ['product_name', 'product_url', 'asin', 'meta_keywords', 'medium']\n",
        "data = data.drop_duplicates(subset=columns_to_check, keep='first')\n",
        "data = data.reset_index(drop=True)"
      ]
    },
    {
      "cell_type": "code",
      "execution_count": null,
      "metadata": {
        "colab": {
          "base_uri": "https://localhost:8080/",
          "height": 472
        },
        "id": "RmMbrpgjjqTf",
        "outputId": "c2d07f32-bc22-4dfb-8238-984e47b18963"
      },
      "outputs": [
        {
          "output_type": "display_data",
          "data": {
            "text/plain": [
              "<Figure size 640x480 with 1 Axes>"
            ],
            "image/png": "[encoded data removed]"
          },
          "metadata": {}
        }
      ],
      "source": [
        "sns.scatterplot(x='sales_price', y='rating', data=data)\n",
        "plt.title('Scatter Plot of Sales Price vs. Rating')\n",
        "plt.show()"
      ]
    },
    {
      "cell_type": "code",
      "execution_count": null,
      "metadata": {
        "id": "FLE2HxnUgdmX"
      },
      "outputs": [],
      "source": [
        "data['sales_price'] = pd.to_numeric(data['sales_price'], errors='coerce')\n",
        "data['rating'] = pd.to_numeric(data['rating'], errors='coerce')\n",
        "\n",
        "\n",
        "def remove_outliers_iqr(df, column):\n",
        "    Q1 = df[column].quantile(0.25)\n",
        "    Q3 = df[column].quantile(0.75)\n",
        "    IQR = Q3 - Q1\n",
        "    lower_bound = Q1 - 1.5 * IQR\n",
        "    upper_bound = Q3 + 1.5 * IQR\n",
        "    df_out = df[(df[column] >= lower_bound) & (df[column] <= upper_bound)]\n",
        "    return df_out\n",
        "\n",
        "numerical_features = ['sales_price', 'rating']\n",
        "\n",
        "for feature in numerical_features:\n",
        "    data = remove_outliers_iqr(data, feature)"
      ]
    },
    {
      "cell_type": "code",
      "execution_count": null,
      "metadata": {
        "colab": {
          "base_uri": "https://localhost:8080/",
          "height": 472
        },
        "id": "H1PtB52ymTJk",
        "outputId": "6c935dbe-e2ef-4605-af49-d2053c1304f7"
      },
      "outputs": [
        {
          "data": {
            "image/png": "[encoded data removed]",
            "text/plain": [
              "<Figure size 640x480 with 1 Axes>"
            ]
          },
          "metadata": {},
          "output_type": "display_data"
        }
      ],
      "source": [
        "sns.scatterplot(x='sales_price', y='rating', data=data)\n",
        "plt.title('Scatter Plot of Sales Price vs. Rating')\n",
        "plt.show()"
      ]
    },
    {
      "cell_type": "code",
      "execution_count": null,
      "metadata": {
        "colab": {
          "base_uri": "https://localhost:8080/",
          "height": 472
        },
        "id": "pV6TSoSCjSSA",
        "outputId": "a15378bd-ea8d-4f6a-98c7-36550ff22fb2"
      },
      "outputs": [
        {
          "data": {
            "image/png": "[encoded data removed]",
            "text/plain": [
              "<Figure size 640x480 with 1 Axes>"
            ]
          },
          "metadata": {},
          "output_type": "display_data"
        }
      ],
      "source": [
        "plt.hist(data['sales_price'], bins=20)\n",
        "plt.title('Histogram of Sales Price')\n",
        "plt.xlabel('Sales Price')\n",
        "plt.ylabel('Frequency')\n",
        "plt.show()"
      ]
    },
    {
      "cell_type": "code",
      "execution_count": null,
      "metadata": {
        "colab": {
          "base_uri": "https://localhost:8080/",
          "height": 428
        },
        "id": "MrAKKDEMy97R",
        "outputId": "1e80a075-ebf7-4de2-c098-674efb9f1a8a"
      },
      "outputs": [
        {
          "data": {
            "image/png": "[encoded data removed]",
            "text/plain": [
              "<Figure size 640x480 with 1 Axes>"
            ]
          },
          "metadata": {},
          "output_type": "display_data"
        }
      ],
      "source": [
        "# Pie chart of delivery types\n",
        "data['delivery_type'].value_counts().plot(kind='pie', autopct='%1.1f%%')\n",
        "plt.title('Pie Chart of Delivery Types')\n",
        "plt.show()"
      ]
    },
    {
      "cell_type": "code",
      "execution_count": null,
      "metadata": {
        "colab": {
          "base_uri": "https://localhost:8080/",
          "height": 620
        },
        "id": "yZL2i7ab5n0W",
        "outputId": "f05856f8-6981-45ce-c7df-8fe1881a65d8"
      },
      "outputs": [
        {
          "name": "stderr",
          "output_type": "stream",
          "text": [
            "<ipython-input-26-f39ea5787a22>:8: FutureWarning: \n",
            "\n",
            "Passing `palette` without assigning `hue` is deprecated and will be removed in v0.14.0. Assign the `x` variable to `hue` and set `legend=False` for the same effect.\n",
            "\n",
            "  ax = sns.countplot(x='brand', data=top_10_data, order=top_10_brands, palette='husl')\n"
          ]
        },
        {
          "data": {
            "image/png": "[encoded data removed]",
            "text/plain": [
              "<Figure size 1200x600 with 1 Axes>"
            ]
          },
          "metadata": {},
          "output_type": "display_data"
        }
      ],
      "source": [
        "\n",
        "top_10_brands = data['brand'].value_counts().nlargest(10).index\n",
        "\n",
        "\n",
        "top_10_data = data[data['brand'].isin(top_10_brands)]\n",
        "\n",
        "\n",
        "plt.figure(figsize=(12, 6))\n",
        "ax = sns.countplot(x='brand', data=top_10_data, order=top_10_brands, palette='husl')\n",
        "plt.title('Top 10 Brands by Count')\n",
        "plt.xlabel('Brand')\n",
        "plt.ylabel('Count')\n",
        "plt.xticks(rotation=45, ha='right')\n",
        "for p in ax.patches:\n",
        "    ax.annotate(f'{p.get_height()}', (p.get_x() + p.get_width() / 2., p.get_height()),\n",
        "                ha='center', va='center', xytext=(0, 10), textcoords='offset points')\n",
        "\n",
        "plt.tight_layout()\n",
        "plt.show()"
      ]
    },
    {
      "cell_type": "code",
      "execution_count": null,
      "metadata": {
        "colab": {
          "base_uri": "https://localhost:8080/",
          "height": 472
        },
        "id": "mtiSxWMsjYKP",
        "outputId": "f054187f-400d-43d1-f0fe-1430a574bc01"
      },
      "outputs": [
        {
          "data": {
            "image/png": "[encoded data removed]",
            "text/plain": [
              "<Figure size 640x480 with 1 Axes>"
            ]
          },
          "metadata": {},
          "output_type": "display_data"
        }
      ],
      "source": [
        "sns.boxplot(x=data['rating'])\n",
        "plt.title('Box Plot of Ratings')\n",
        "plt.show()"
      ]
    },
    {
      "cell_type": "code",
      "execution_count": null,
      "metadata": {
        "id": "NvKPBIPGDX1w"
      },
      "outputs": [],
      "source": [
        "data = data.sort_values(by=['product_name'])\n",
        "data = data.reset_index(drop=True)"
      ]
    },
    {
      "cell_type": "code",
      "execution_count": null,
      "metadata": {
        "id": "J4XjVuGP77bY"
      },
      "outputs": [],
      "source": [
        "import nltk\n",
        "import re\n",
        "from nltk.corpus import stopwords"
      ]
    },
    {
      "cell_type": "code",
      "execution_count": null,
      "metadata": {
        "colab": {
          "base_uri": "https://localhost:8080/"
        },
        "id": "znCT1Dr58F-j",
        "outputId": "ac64e00d-04b7-47dd-99b6-9845fe113711"
      },
      "outputs": [
        {
          "output_type": "stream",
          "name": "stderr",
          "text": [
            "[nltk_data] Downloading package stopwords to /root/nltk_data...\n",
            "[nltk_data]   Unzipping corpora/stopwords.zip.\n"
          ]
        },
        {
          "output_type": "stream",
          "name": "stdout",
          "text": [
            "0    ce ice cotton round neck half sleeve printed t...\n",
            "1    adventure belt 12532mm nickel free daily use m...\n",
            "2                        47 nhl mens neps football tee\n",
            "3    free delivery women 2hook bra extender combo pack\n",
            "4     001 girls shopping sleeveless denim jacket women\n",
            "Name: cleaned_product_name, dtype: object\n"
          ]
        }
      ],
      "source": [
        "nltk.download('stopwords')\n",
        "def clean_product_name(text):\n",
        "    text = re.sub(r\"[^a-zA-Z0-9 ]\", \"\", text)\n",
        "    words = text.lower().split()\n",
        "    stop_words = set(stopwords.words('english'))\n",
        "    words = [word for word in words if word not in stop_words]\n",
        "    cleaned_text = \" \".join(words)\n",
        "\n",
        "    return cleaned_text\n",
        "\n",
        "\n",
        "data['cleaned_product_name'] = data['product_name'].apply(clean_product_name)\n",
        "print(data['cleaned_product_name'].head())"
      ]
    },
    {
      "cell_type": "code",
      "execution_count": null,
      "metadata": {
        "colab": {
          "base_uri": "https://localhost:8080/"
        },
        "id": "1Pezj74n8rrX",
        "outputId": "4ec1b59c-8300-41aa-b860-26cad68825ec"
      },
      "outputs": [
        {
          "output_type": "stream",
          "name": "stdout",
          "text": [
            "             asin                                        product_url  \\\n",
            "0      B07QCYNW3C  https://www.amazon.in/CE-Cotton-Sleeve-Printed...   \n",
            "1      B01MU190KT  https://www.amazon.in/Adventure-Nickel-Securit...   \n",
            "2      B01G8P7TFO  https://www.amazon.in/47-NHL-Mens-Neps-Footbal...   \n",
            "3      B077Y5LM8Z  https://www.amazon.in/Delivery-Women-2hook-Ext...   \n",
            "5      B07HY6DQNT  https://www.amazon.in/0Month-Girls-Ankle-Lengt...   \n",
            "...           ...                                                ...   \n",
            "26613  B00Q49AXWQ  https://www.amazon.in/winchester-brothers-face...   \n",
            "26614  B07PM5FZ5Y  https://www.amazon.in/Yashika-Blouse-Piece-Sar...   \n",
            "26615  B07TXQSC16  https://www.amazon.in/yashmo-Womens-Sleepwear-...   \n",
            "26616  B07BJ7WWV4  https://www.amazon.in/yazhi-Mens-Cotton-T-Shir...   \n",
            "26617  B07P7QB58S  https://www.amazon.in/ZERO-Cotton-Casual-Dress...   \n",
            "\n",
            "                                            product_name  sales_price  rating  \\\n",
            "0      !CE ICE Cotton Round Neck Half Sleeve Printed ...        150.0     5.0   \n",
            "1      \"Adventure\" Belt; 1.25\"(32mm) Nickel Free; Dai...        590.0     4.3   \n",
            "2                        '47 NHL Men's Neps Football Tee        590.0     3.6   \n",
            "3      (Free Delivery) Women 2hook Bra Extender Combo...        249.0     5.0   \n",
            "5      0Month+ Boys & Girls Ankle Length Lycra White ...        225.0     2.9   \n",
            "...                                                  ...          ...     ...   \n",
            "26613  winchester brothers faces close-up logo seatbe...        590.0     4.1   \n",
            "26614  women's art silk kalamkari and bhagalpuri styl...        299.0     5.0   \n",
            "26615                      yashmo Women's Sleepwear Pink        399.0     4.0   \n",
            "26616  yazhi Men's Cotton T-Shirt - Be You - Dark Blu...        349.0     4.0   \n",
            "26617  zero by Hopscotch Girls' Cotton Art Print Casu...        239.0     4.8   \n",
            "\n",
            "                                           meta_keywords  \\\n",
            "0      !CE ICE Cotton Round Neck Half Sleeve Printed ...   \n",
            "1      \"Adventure\" Belt; 1.25\"(32mm) Nickel Free; Dai...   \n",
            "2      '47 NHL New York Rangers Men's Neps Football T...   \n",
            "3      (Free Delivery) Women 2hook Bra Extender Combo...   \n",
            "5      0Month+ Boys & Girls Ankle Length Lycra White ...   \n",
            "...                                                  ...   \n",
            "26613  winchester brothers faces close-up logo seatbe...   \n",
            "26614  Yashika Art Silk with Blouse Piece Saree (SDPL...   \n",
            "26615                      yashmo Women's Sleepwear Pink   \n",
            "26616  yazhi Men's Cotton T-Shirt - Be You - Dark Blu...   \n",
            "26617  Zero by Hopscotch Girls' Cotton Art Print Casu...   \n",
            "\n",
            "                                                  medium        brand  \\\n",
            "0      https://images-na.ssl-images-amazon.com/images...          !CE   \n",
            "1      https://images-na.ssl-images-amazon.com/images...     Airoflux   \n",
            "2      https://images-na.ssl-images-amazon.com/images...          '47   \n",
            "3      https://images-na.ssl-images-amazon.com/images...       Pegaso   \n",
            "5      https://images-na.ssl-images-amazon.com/images...      0Month+   \n",
            "...                                                  ...          ...   \n",
            "26613  https://images-na.ssl-images-amazon.com/images...  Buckle Down   \n",
            "26614  https://images-na.ssl-images-amazon.com/images...      Yashika   \n",
            "26615  https://images-na.ssl-images-amazon.com/images...       yashmo   \n",
            "26616  https://images-na.ssl-images-amazon.com/images...        yazhi   \n",
            "26617  https://images-na.ssl-images-amazon.com/images...         Zero   \n",
            "\n",
            "                                    cleaned_product_name  has_special_chars  \n",
            "0      ce ice cotton round neck half sleeve printed t...               True  \n",
            "1      adventure belt 12532mm nickel free daily use m...               True  \n",
            "2                          47 nhl mens neps football tee               True  \n",
            "3      free delivery women 2hook bra extender combo pack               True  \n",
            "5      0month boys girls ankle length lycra white sol...               True  \n",
            "...                                                  ...                ...  \n",
            "26613  winchester brothers faces closeup logo seatbel...               True  \n",
            "26614  womens art silk kalamkari bhagalpuri style sar...               True  \n",
            "26615                       yashmo womens sleepwear pink               True  \n",
            "26616   yazhi mens cotton tshirt dark blue quote tshirts               True  \n",
            "26617  zero hopscotch girls cotton art print casual d...               True  \n",
            "\n",
            "[22834 rows x 10 columns]\n",
            "Number of product names with special characters: 22834\n"
          ]
        }
      ],
      "source": [
        "def has_special_characters(text):\n",
        "\n",
        "    pattern = r\"[^a-zA-Z0-9 ]\"\n",
        "    if re.search(pattern, text):\n",
        "        return True\n",
        "    else:\n",
        "        return False\n",
        "\n",
        "\n",
        "data['has_special_chars'] = data['product_name'].apply(has_special_characters)\n",
        "print(data[data['has_special_chars'] == True])\n",
        "num_special_chars = data['has_special_chars'].sum()\n",
        "print(f\"Number of product names with special characters: {num_special_chars}\")"
      ]
    },
    {
      "cell_type": "code",
      "execution_count": null,
      "metadata": {
        "colab": {
          "base_uri": "https://localhost:8080/"
        },
        "id": "BsFgixbt9I-l",
        "outputId": "c6f6ba32-6c27-4dbb-985f-3259fd6cdb5b"
      },
      "outputs": [
        {
          "output_type": "stream",
          "name": "stdout",
          "text": [
            "0    CE ICE Cotton Round Neck Half Sleeve Printed T...\n",
            "1    Adventure Belt 12532mm Nickel Free Daily Use N...\n",
            "2                        47 NHL Mens Neps Football Tee\n",
            "3    Free Delivery Women 2hook Bra Extender Combo Pack\n",
            "4    001 Girls Shopping Sleeveless Denim Jacket for...\n",
            "Name: product_name, dtype: object\n"
          ]
        }
      ],
      "source": [
        "import re\n",
        "\n",
        "def remove_special_characters(text):\n",
        "\n",
        "    cleaned_text = re.sub(r\"[^a-zA-Z0-9 ]\", \"\", text)\n",
        "    return cleaned_text\n",
        "\n",
        "data['product_name'] = data['product_name'].apply(remove_special_characters)\n",
        "\n",
        "\n",
        "print(data['product_name'].head())"
      ]
    },
    {
      "cell_type": "code",
      "execution_count": null,
      "metadata": {
        "colab": {
          "base_uri": "https://localhost:8080/"
        },
        "id": "V5CWYWDg9NbN",
        "outputId": "e066c3a3-6035-4ff6-e0f8-4e1e12957c76"
      },
      "outputs": [
        {
          "output_type": "stream",
          "name": "stdout",
          "text": [
            "Empty DataFrame\n",
            "Columns: [asin, product_url, product_name, sales_price, rating, meta_keywords, medium, brand, cleaned_product_name, has_special_chars]\n",
            "Index: []\n",
            "Number of product names with special characters: 0\n"
          ]
        }
      ],
      "source": [
        "def has_special_characters(text):\n",
        "\n",
        "    pattern = r\"[^a-zA-Z0-9 ]\"\n",
        "    if re.search(pattern, text):\n",
        "        return True\n",
        "    else:\n",
        "        return False\n",
        "\n",
        "\n",
        "data['has_special_chars'] = data['product_name'].apply(has_special_characters)\n",
        "print(data[data['has_special_chars'] == True])\n",
        "num_special_chars = data['has_special_chars'].sum()\n",
        "print(f\"Number of product names with special characters: {num_special_chars}\")"
      ]
    },
    {
      "cell_type": "code",
      "execution_count": null,
      "metadata": {
        "id": "0F4RzU04BxZo"
      },
      "outputs": [],
      "source": [
        "import re\n",
        "\n",
        "def remove_non_english_chars(text):\n",
        "    pattern = r\"[^\\x00-\\x7F]+\"\n",
        "    cleaned_text = re.sub(pattern, \"\", text)\n",
        "    return cleaned_text\n",
        "\n",
        "\n",
        "data['product_name'] = data['product_name'].apply(remove_non_english_chars)"
      ]
    },
    {
      "cell_type": "code",
      "execution_count": null,
      "metadata": {
        "colab": {
          "base_uri": "https://localhost:8080/"
        },
        "id": "vHc7_WA4Eavd",
        "outputId": "fe087d31-069f-4cd7-9aa7-d1ff8fc4b910"
      },
      "outputs": [
        {
          "output_type": "stream",
          "name": "stdout",
          "text": [
            "         asin                                       product_name    attribute  \\\n",
            "0  B07QCYNW3C  CE ICE Cotton Round Neck Half Sleeve Printed T...  product_url   \n",
            "1  B01MU190KT  Adventure Belt 12532mm Nickel Free Daily Use N...  product_url   \n",
            "2  B01G8P7TFO                      47 NHL Mens Neps Football Tee  product_url   \n",
            "3  B077Y5LM8Z  Free Delivery Women 2hook Bra Extender Combo Pack  product_url   \n",
            "4  B07GWJ9Z1F  001 Girls Shopping Sleeveless Denim Jacket for...  product_url   \n",
            "\n",
            "                                               value  \n",
            "0  https://www.amazon.in/CE-Cotton-Sleeve-Printed...  \n",
            "1  https://www.amazon.in/Adventure-Nickel-Securit...  \n",
            "2  https://www.amazon.in/47-NHL-Mens-Neps-Footbal...  \n",
            "3  https://www.amazon.in/Delivery-Women-2hook-Ext...  \n",
            "4  https://www.amazon.in/001-Girls-Shopping-Sleev...  \n"
          ]
        }
      ],
      "source": [
        "def reshape_to_long_format(data, id_vars=['asin', 'product_name']):\n",
        "    data_columns = data.columns.tolist()\n",
        "    value_vars = [col for col in data_columns if col not in id_vars]\n",
        "    data_long = pd.melt(data,\n",
        "                        id_vars=id_vars,\n",
        "                        value_vars=value_vars,\n",
        "                        var_name='attribute',\n",
        "                        value_name='value')\n",
        "    return data_long\n",
        "\n",
        "data_long = reshape_to_long_format(data)\n",
        "print(data_long.head())\n"
      ]
    },
    {
      "cell_type": "code",
      "execution_count": null,
      "metadata": {
        "colab": {
          "base_uri": "https://localhost:8080/"
        },
        "id": "s5e3A8_EEpKL",
        "outputId": "7bd27370-f4a3-4b48-9b42-15a60ae3427b"
      },
      "outputs": [
        {
          "output_type": "stream",
          "name": "stderr",
          "text": [
            "[nltk_data] Downloading package punkt to /root/nltk_data...\n",
            "[nltk_data]   Unzipping tokenizers/punkt.zip.\n",
            "[nltk_data] Downloading package wordnet to /root/nltk_data...\n",
            "[nltk_data] Downloading package punkt_tab to /root/nltk_data...\n",
            "[nltk_data]   Unzipping tokenizers/punkt_tab.zip.\n"
          ]
        },
        {
          "output_type": "stream",
          "name": "stdout",
          "text": [
            "                                        product_name  \\\n",
            "0  CE ICE Cotton Round Neck Half Sleeve Printed T...   \n",
            "1  Adventure Belt 12532mm Nickel Free Daily Use N...   \n",
            "2                      47 NHL Mens Neps Football Tee   \n",
            "3  Free Delivery Women 2hook Bra Extender Combo Pack   \n",
            "4  001 Girls Shopping Sleeveless Denim Jacket for...   \n",
            "\n",
            "                             lemmatized_product_name  \\\n",
            "0  CE ICE Cotton Round Neck Half Sleeve Printed T...   \n",
            "1  Adventure Belt 12532mm Nickel Free Daily Use N...   \n",
            "2                      47 NHL Mens Neps Football Tee   \n",
            "3  Free Delivery Women 2hook Bra Extender Combo Pack   \n",
            "4  001 Girls Shopping Sleeveless Denim Jacket for...   \n",
            "\n",
            "                                stemmed_product_name  \n",
            "0  ce ice cotton round neck half sleev print tshi...  \n",
            "1  adventur belt 12532mm nickel free daili use no...  \n",
            "2                         47 nhl men nep footbal tee  \n",
            "3    free deliveri women 2hook bra extend combo pack  \n",
            "4    001 girl shop sleeveless denim jacket for women  \n"
          ]
        }
      ],
      "source": [
        "from nltk.stem import WordNetLemmatizer, PorterStemmer\n",
        "from nltk.tokenize import word_tokenize\n",
        "\n",
        "\n",
        "nltk.download('punkt')\n",
        "nltk.download('wordnet')\n",
        "nltk.download('punkt_tab')\n",
        "\n",
        "lemmatizer = WordNetLemmatizer()\n",
        "stemmer = PorterStemmer()\n",
        "\n",
        "def lemmatize_text(text):\n",
        "    tokens = word_tokenize(text)\n",
        "    lemmas = [lemmatizer.lemmatize(token) for token in tokens]\n",
        "    return \" \".join(lemmas)\n",
        "\n",
        "def stem_text(text):\n",
        "    tokens = word_tokenize(text)\n",
        "    stems = [stemmer.stem(token) for token in tokens]\n",
        "    return \" \".join(stems)\n",
        "\n",
        "\n",
        "data['lemmatized_product_name'] = data['product_name'].apply(lemmatize_text)\n",
        "data['stemmed_product_name'] = data['product_name'].apply(stem_text)\n",
        "\n",
        "\n",
        "print(data[['product_name', 'lemmatized_product_name', 'stemmed_product_name']].head())"
      ]
    },
    {
      "cell_type": "code",
      "execution_count": null,
      "metadata": {
        "colab": {
          "base_uri": "https://localhost:8080/",
          "height": 1000
        },
        "id": "_ityzXyzu-YB",
        "outputId": "7eab29d2-a3b0-46d6-ce7d-f3451a197444"
      },
      "outputs": [
        {
          "output_type": "display_data",
          "data": {
            "text/plain": [
              "<IPython.core.display.HTML object>"
            ],
            "text/html": [
              "<h3>ADA Womens Cotton Kurti</h3>"
            ]
          },
          "metadata": {}
        },
        {
          "output_type": "display_data",
          "data": {
            "text/plain": [
              "<IPython.core.display.HTML object>"
            ],
            "text/html": [
              "<p>ASIN: B075HF8TMN</p>"
            ]
          },
          "metadata": {}
        },
        {
          "output_type": "display_data",
          "data": {
            "text/html": [
              "<img src=\"https://images-na.ssl-images-amazon.com/images/I/31vYhX0Y6mL.jpg|https://images-na.ssl-images-amazon.com/images/I/31MYQ8IprsL.jpg|https://images-na.ssl-images-amazon.com/images/I/511FKWvwkiL.jpg|https://images-na.ssl-images-amazon.com/images/I/51dzSWqrYmL.jpg\"/>"
            ],
            "text/plain": [
              "<IPython.core.display.Image object>"
            ]
          },
          "metadata": {}
        },
        {
          "output_type": "display_data",
          "data": {
            "text/plain": [
              "<IPython.core.display.HTML object>"
            ],
            "text/html": [
              "<h3>ADA Womens Cotton Kurti</h3>"
            ]
          },
          "metadata": {}
        },
        {
          "output_type": "display_data",
          "data": {
            "text/plain": [
              "<IPython.core.display.HTML object>"
            ],
            "text/html": [
              "<p>ASIN: B07C7TPKQW</p>"
            ]
          },
          "metadata": {}
        },
        {
          "output_type": "display_data",
          "data": {
            "text/html": [
              "<img src=\"https://images-na.ssl-images-amazon.com/images/I/31D4-9%2BzugL.jpg|https://images-na.ssl-images-amazon.com/images/I/31HAWm3hiCL.jpg|https://images-na.ssl-images-amazon.com/images/I/511FKWvwkiL.jpg|https://images-na.ssl-images-amazon.com/images/I/31hP1GL99aL.jpg|https://images-na.ssl-images-amazon.com/images/I/41RbZegfL9L.jpg\"/>"
            ],
            "text/plain": [
              "<IPython.core.display.Image object>"
            ]
          },
          "metadata": {}
        },
        {
          "output_type": "display_data",
          "data": {
            "text/plain": [
              "<IPython.core.display.HTML object>"
            ],
            "text/html": [
              "<h3>Janasya Womens Yellow Digital Printed Crepe Kurti</h3>"
            ]
          },
          "metadata": {}
        },
        {
          "output_type": "display_data",
          "data": {
            "text/plain": [
              "<IPython.core.display.HTML object>"
            ],
            "text/html": [
              "<p>ASIN: B071GV88K8</p>"
            ]
          },
          "metadata": {}
        },
        {
          "output_type": "display_data",
          "data": {
            "text/html": [
              "<img src=\"https://images-na.ssl-images-amazon.com/images/I/41sXjUEZiDL.jpg|https://images-na.ssl-images-amazon.com/images/I/41zp2DgBzcL.jpg|https://images-na.ssl-images-amazon.com/images/I/41qrdytnzsL.jpg|https://images-na.ssl-images-amazon.com/images/I/41NMIn47FHL.jpg|https://images-na.ssl-images-amazon.com/images/I/31Lc04d36%2BL.jpg|https://images-na.ssl-images-amazon.com/images/I/5133xp0oTjL.jpg|https://images-na.ssl-images-amazon.com/images/I/31bkudZzidL.jpg\"/>"
            ],
            "text/plain": [
              "<IPython.core.display.Image object>"
            ]
          },
          "metadata": {}
        },
        {
          "output_type": "display_data",
          "data": {
            "text/plain": [
              "<IPython.core.display.HTML object>"
            ],
            "text/html": [
              "<h3>TexStile Casual Printed Womens Kurti</h3>"
            ]
          },
          "metadata": {}
        },
        {
          "output_type": "display_data",
          "data": {
            "text/plain": [
              "<IPython.core.display.HTML object>"
            ],
            "text/html": [
              "<p>ASIN: B07VM8QX17</p>"
            ]
          },
          "metadata": {}
        },
        {
          "output_type": "display_data",
          "data": {
            "text/html": [
              "<img src=\"https://images-na.ssl-images-amazon.com/images/I/41BDPOKWWiL.jpg|https://images-na.ssl-images-amazon.com/images/I/41Tj4vsFZhL.jpg|https://images-na.ssl-images-amazon.com/images/I/41jdN0MjlnL.jpg|https://images-na.ssl-images-amazon.com/images/I/41JKhOUNC%2BL.jpg|https://images-na.ssl-images-amazon.com/images/I/41NoMI23zmL.jpg|https://images-na.ssl-images-amazon.com/images/I/41XPH23OFJL.jpg\"/>"
            ],
            "text/plain": [
              "<IPython.core.display.Image object>"
            ]
          },
          "metadata": {}
        },
        {
          "output_type": "display_data",
          "data": {
            "text/plain": [
              "<IPython.core.display.HTML object>"
            ],
            "text/html": [
              "<h3>Unicx Womens Readymade Aline Cotton Printed Kurti</h3>"
            ]
          },
          "metadata": {}
        },
        {
          "output_type": "display_data",
          "data": {
            "text/plain": [
              "<IPython.core.display.HTML object>"
            ],
            "text/html": [
              "<p>ASIN: B07NYZ23SB</p>"
            ]
          },
          "metadata": {}
        },
        {
          "output_type": "display_data",
          "data": {
            "text/html": [
              "<img src=\"https://images-na.ssl-images-amazon.com/images/I/41mb7CgFIAL.jpg|https://images-na.ssl-images-amazon.com/images/I/41mb7CgFIAL.jpg|https://images-na.ssl-images-amazon.com/images/I/41mb7CgFIAL.jpg\"/>"
            ],
            "text/plain": [
              "<IPython.core.display.Image object>"
            ]
          },
          "metadata": {}
        },
        {
          "output_type": "display_data",
          "data": {
            "text/plain": [
              "<IPython.core.display.HTML object>"
            ],
            "text/html": [
              "<h3>Womens Crepe Kurti Multicolored XL</h3>"
            ]
          },
          "metadata": {}
        },
        {
          "output_type": "display_data",
          "data": {
            "text/plain": [
              "<IPython.core.display.HTML object>"
            ],
            "text/html": [
              "<p>ASIN: B07VZ2BJ4F</p>"
            ]
          },
          "metadata": {}
        },
        {
          "output_type": "display_data",
          "data": {
            "text/html": [
              "<img src=\"https://images-na.ssl-images-amazon.com/images/I/413SXynattL.jpg\"/>"
            ],
            "text/plain": [
              "<IPython.core.display.Image object>"
            ]
          },
          "metadata": {}
        }
      ],
      "source": [
        "from sklearn.feature_extraction.text import CountVectorizer\n",
        "from sklearn.metrics.pairwise import pairwise_distances\n",
        "from sklearn.feature_extraction.text import TfidfVectorizer\n",
        "\n",
        "def recommend_products_count_vectorizer(product_id, num_products, data):\n",
        "    product_names = data['product_name'].tolist()\n",
        "    product_names = [\n",
        "        name for name in product_names\n",
        "        if isinstance(name, str) and name.strip() and not pd.isnull(name)\n",
        "    ]\n",
        "    vectorizer = CountVectorizer()\n",
        "    bow_matrix = vectorizer.fit_transform(product_names)\n",
        "    distance_matrix = pairwise_distances(bow_matrix)\n",
        "    distance_df = pd.DataFrame(\n",
        "        distance_matrix, index=product_names, columns=product_names\n",
        "    )\n",
        "\n",
        "\n",
        "    target_product_name = data.loc[data['asin'] == product_id, 'product_name'].iloc[0]\n",
        "    if target_product_name in distance_df.index:\n",
        "        distances = distance_df.loc[target_product_name]\n",
        "\n",
        "        sorted_distances = distances.sort_values()\n",
        "\n",
        "        recommended_indices = sorted_distances.index[1:num_products + 1]\n",
        "\n",
        "        recommended_products = data.loc[data['product_name'].isin(recommended_indices), 'asin'].tolist()\n",
        "    else:\n",
        "        recommended_products = []\n",
        "\n",
        "    return recommended_products\n",
        "\n",
        "from IPython.display import display, HTML, Image\n",
        "\n",
        "def display_recommended_products(recommended_products, data):\n",
        "    for asin in recommended_products:\n",
        "        product_info = data[data['asin'] == asin].iloc[0]\n",
        "        display(HTML(f\"<h3>{product_info['product_name']}</h3>\"))\n",
        "        display(HTML(f\"<p>ASIN: {product_info['asin']}</p>\"))\n",
        "        image_url = product_info['medium']\n",
        "        if image_url:\n",
        "            display(Image(url=image_url))\n",
        "        else:\n",
        "            display(HTML(\"<p>Image not available</p>\"))\n",
        "\n",
        "product_id = 'B01BKBMTW4'\n",
        "recommended_products = recommend_products_count_vectorizer(product_id, 5, data)\n",
        "display_recommended_products(recommended_products, data)"
      ]
    },
    {
      "cell_type": "code",
      "execution_count": null,
      "metadata": {
        "colab": {
          "base_uri": "https://localhost:8080/",
          "height": 1000
        },
        "id": "cA6gHTdBPikz",
        "outputId": "50067f54-a977-4887-8769-6ab61afdf121"
      },
      "outputs": [
        {
          "output_type": "display_data",
          "data": {
            "text/plain": [
              "<IPython.core.display.HTML object>"
            ],
            "text/html": [
              "<h3>Arrow Newyork Mens Checkered Slim Fit Formal Shirt</h3>"
            ]
          },
          "metadata": {}
        },
        {
          "output_type": "display_data",
          "data": {
            "text/plain": [
              "<IPython.core.display.HTML object>"
            ],
            "text/html": [
              "<p>ASIN: B07F9ZS2PY</p>"
            ]
          },
          "metadata": {}
        },
        {
          "output_type": "display_data",
          "data": {
            "text/html": [
              "<img src=\"https://images-na.ssl-images-amazon.com/images/I/41eHq5xpMuL.jpg|https://images-na.ssl-images-amazon.com/images/I/31OAF-H%2B5jL.jpg|https://images-na.ssl-images-amazon.com/images/I/41RiNNtAqOL.jpg|https://images-na.ssl-images-amazon.com/images/I/31It7XwcohL.jpg\"/>"
            ],
            "text/plain": [
              "<IPython.core.display.Image object>"
            ]
          },
          "metadata": {}
        },
        {
          "output_type": "display_data",
          "data": {
            "text/plain": [
              "<IPython.core.display.HTML object>"
            ],
            "text/html": [
              "<h3>Arrow Newyork Mens Checkered Slim Fit Formal Shirt</h3>"
            ]
          },
          "metadata": {}
        },
        {
          "output_type": "display_data",
          "data": {
            "text/plain": [
              "<IPython.core.display.HTML object>"
            ],
            "text/html": [
              "<p>ASIN: B07F9WSJDM</p>"
            ]
          },
          "metadata": {}
        },
        {
          "output_type": "display_data",
          "data": {
            "text/html": [
              "<img src=\"https://images-na.ssl-images-amazon.com/images/I/41dfeDm%2BW4L.jpg|https://images-na.ssl-images-amazon.com/images/I/41navTb1voL.jpg|https://images-na.ssl-images-amazon.com/images/I/41nD1cap5ZL.jpg|https://images-na.ssl-images-amazon.com/images/I/31s17PqYPwL.jpg\"/>"
            ],
            "text/plain": [
              "<IPython.core.display.Image object>"
            ]
          },
          "metadata": {}
        },
        {
          "output_type": "display_data",
          "data": {
            "text/plain": [
              "<IPython.core.display.HTML object>"
            ],
            "text/html": [
              "<h3>Arrow Newyork Mens Checkered Slim Fit Formal Shirt</h3>"
            ]
          },
          "metadata": {}
        },
        {
          "output_type": "display_data",
          "data": {
            "text/plain": [
              "<IPython.core.display.HTML object>"
            ],
            "text/html": [
              "<p>ASIN: B07F9ZHWCN</p>"
            ]
          },
          "metadata": {}
        },
        {
          "output_type": "display_data",
          "data": {
            "text/html": [
              "<img src=\"https://images-na.ssl-images-amazon.com/images/I/41yZV4oSMYL.jpg|https://images-na.ssl-images-amazon.com/images/I/413U-i0tkmL.jpg|https://images-na.ssl-images-amazon.com/images/I/517sDH3kLXL.jpg|https://images-na.ssl-images-amazon.com/images/I/31D1ZxJpd6L.jpg\"/>"
            ],
            "text/plain": [
              "<IPython.core.display.Image object>"
            ]
          },
          "metadata": {}
        },
        {
          "output_type": "display_data",
          "data": {
            "text/plain": [
              "<IPython.core.display.HTML object>"
            ],
            "text/html": [
              "<h3>Arrow Newyork Mens Checkered Slim Fit Formal Shirt</h3>"
            ]
          },
          "metadata": {}
        },
        {
          "output_type": "display_data",
          "data": {
            "text/plain": [
              "<IPython.core.display.HTML object>"
            ],
            "text/html": [
              "<p>ASIN: B07BGB9HS2</p>"
            ]
          },
          "metadata": {}
        },
        {
          "output_type": "display_data",
          "data": {
            "text/html": [
              "<img src=\"https://images-na.ssl-images-amazon.com/images/I/41vWdgMQomL.jpg|https://images-na.ssl-images-amazon.com/images/I/41N7ktV6fML.jpg|https://images-na.ssl-images-amazon.com/images/I/41979s-hr6L.jpg|https://images-na.ssl-images-amazon.com/images/I/41-41WxwTtL.jpg\"/>"
            ],
            "text/plain": [
              "<IPython.core.display.Image object>"
            ]
          },
          "metadata": {}
        },
        {
          "output_type": "display_data",
          "data": {
            "text/plain": [
              "<IPython.core.display.HTML object>"
            ],
            "text/html": [
              "<h3>Arrow Newyork Mens Checkered Slim Fit Formal Shirt</h3>"
            ]
          },
          "metadata": {}
        },
        {
          "output_type": "display_data",
          "data": {
            "text/plain": [
              "<IPython.core.display.HTML object>"
            ],
            "text/html": [
              "<p>ASIN: B07F9WSNWF</p>"
            ]
          },
          "metadata": {}
        },
        {
          "output_type": "display_data",
          "data": {
            "text/html": [
              "<img src=\"https://images-na.ssl-images-amazon.com/images/I/31RXRN8QkYL.jpg|https://images-na.ssl-images-amazon.com/images/I/31UAW3xRQlL.jpg|https://images-na.ssl-images-amazon.com/images/I/41rEwYtKuWL.jpg|https://images-na.ssl-images-amazon.com/images/I/31VU45NHNqL.jpg\"/>"
            ],
            "text/plain": [
              "<IPython.core.display.Image object>"
            ]
          },
          "metadata": {}
        }
      ],
      "source": [
        "from sklearn.feature_extraction.text import TfidfVectorizer\n",
        "from sklearn.metrics.pairwise import cosine_similarity\n",
        "from IPython.display import display, HTML,Image\n",
        "\n",
        "def recommend_products_tfidf(product_id, num_products, data):\n",
        "  vectorizer = TfidfVectorizer()\n",
        "  tfidf_vectors = vectorizer.fit_transform(data['product_name'])\n",
        "  if product_id in data['asin'].values:\n",
        "    product_index = data.index[data['asin'] == product_id].tolist()[0]\n",
        "    cosine_similarities = cosine_similarity(tfidf_vectors[product_index], tfidf_vectors).flatten()\n",
        "    related_product_indices = cosine_similarities.argsort()[:-num_products-2:-1][1:]\n",
        "    recommended_products = data.iloc[related_product_indices]['asin'].tolist()\n",
        "\n",
        "    return recommended_products\n",
        "  else:\n",
        "    print(f\"Product ID {product_id} not found in the data.\")\n",
        "    return []\n",
        "\n",
        "\n",
        "def display_recommended_products(recommended_products, data):\n",
        "  for asin in recommended_products:\n",
        "    product_info = data[data['asin'] == asin].iloc[0]\n",
        "    display(HTML(f\"<h3>{product_info['product_name']}</h3>\"))\n",
        "    display(HTML(f\"<p>ASIN: {product_info['asin']}</p>\"))\n",
        "    image_url = product_info['medium']\n",
        "    if image_url:\n",
        "      display(Image(url=image_url))\n",
        "    else:\n",
        "      display(HTML(\"<p>Image not available</p>\"))\n",
        "\n",
        "product_id = 'B07F9ZS2PY'\n",
        "recommended_products = recommend_products_tfidf(product_id, 5, data)\n",
        "display_recommended_products(recommended_products, data)"
      ]
    },
    {
      "cell_type": "code",
      "execution_count": null,
      "metadata": {
        "colab": {
          "base_uri": "https://localhost:8080/",
          "height": 1000
        },
        "id": "vaEZHhTQ2EJy",
        "outputId": "e4ab4982-e7e2-4a5b-e24f-154c37025477"
      },
      "outputs": [
        {
          "output_type": "stream",
          "name": "stderr",
          "text": [
            "[nltk_data] Downloading package punkt to /root/nltk_data...\n",
            "[nltk_data]   Package punkt is already up-to-date!\n"
          ]
        },
        {
          "output_type": "display_data",
          "data": {
            "text/plain": [
              "<IPython.core.display.HTML object>"
            ],
            "text/html": [
              "<h3>SAUMYA DESIGNER Womens Silk Lehenga Choli Maroon Free Size</h3>"
            ]
          },
          "metadata": {}
        },
        {
          "output_type": "display_data",
          "data": {
            "text/plain": [
              "<IPython.core.display.HTML object>"
            ],
            "text/html": [
              "<p>ASIN: B07GWQLCZX</p>"
            ]
          },
          "metadata": {}
        },
        {
          "output_type": "display_data",
          "data": {
            "text/html": [
              "<img src=\"https://images-na.ssl-images-amazon.com/images/I/41jWZkJ-p3L.jpg|https://images-na.ssl-images-amazon.com/images/I/41ccrwzo8WL.jpg|https://images-na.ssl-images-amazon.com/images/I/41SmnGV-FDL.jpg|https://images-na.ssl-images-amazon.com/images/I/41y93hzSNCL.jpg\"/>"
            ],
            "text/plain": [
              "<IPython.core.display.Image object>"
            ]
          },
          "metadata": {}
        },
        {
          "output_type": "display_data",
          "data": {
            "text/plain": [
              "<IPython.core.display.HTML object>"
            ],
            "text/html": [
              "<h3>Florence Womens silk Lehenga Choli LGPramukhNX02Blue Blue One Size</h3>"
            ]
          },
          "metadata": {}
        },
        {
          "output_type": "display_data",
          "data": {
            "text/plain": [
              "<IPython.core.display.HTML object>"
            ],
            "text/html": [
              "<p>ASIN: B07ML3SVXK</p>"
            ]
          },
          "metadata": {}
        },
        {
          "output_type": "display_data",
          "data": {
            "text/html": [
              "<img src=\"https://images-na.ssl-images-amazon.com/images/I/41LohJob5bL.jpg\"/>"
            ],
            "text/plain": [
              "<IPython.core.display.Image object>"
            ]
          },
          "metadata": {}
        },
        {
          "output_type": "display_data",
          "data": {
            "text/plain": [
              "<IPython.core.display.HTML object>"
            ],
            "text/html": [
              "<h3>WestCoastOn Womens Banglori Silk Embroidered Lehenga Choli wclc001 Red Free Size</h3>"
            ]
          },
          "metadata": {}
        },
        {
          "output_type": "display_data",
          "data": {
            "text/plain": [
              "<IPython.core.display.HTML object>"
            ],
            "text/html": [
              "<p>ASIN: B07GFPGNZZ</p>"
            ]
          },
          "metadata": {}
        },
        {
          "output_type": "display_data",
          "data": {
            "text/html": [
              "<img src=\"https://images-na.ssl-images-amazon.com/images/I/4110Psf6A3L.jpg|https://images-na.ssl-images-amazon.com/images/I/41wyon8LeoL.jpg\"/>"
            ],
            "text/plain": [
              "<IPython.core.display.Image object>"
            ]
          },
          "metadata": {}
        },
        {
          "output_type": "display_data",
          "data": {
            "text/plain": [
              "<IPython.core.display.HTML object>"
            ],
            "text/html": [
              "<h3>shivganga fashion Womens Silk SemiStitched Lehenga CholiPink Free Size</h3>"
            ]
          },
          "metadata": {}
        },
        {
          "output_type": "display_data",
          "data": {
            "text/plain": [
              "<IPython.core.display.HTML object>"
            ],
            "text/html": [
              "<p>ASIN: B07XDZJGDW</p>"
            ]
          },
          "metadata": {}
        },
        {
          "output_type": "display_data",
          "data": {
            "text/html": [
              "<img src=\"https://images-na.ssl-images-amazon.com/images/I/41gfFEiTg3L.jpg|https://images-na.ssl-images-amazon.com/images/I/51RzIDV8ZwL.jpg\"/>"
            ],
            "text/plain": [
              "<IPython.core.display.Image object>"
            ]
          },
          "metadata": {}
        },
        {
          "output_type": "display_data",
          "data": {
            "text/plain": [
              "<IPython.core.display.HTML object>"
            ],
            "text/html": [
              "<h3>Rise On Fab Womens Raw Silk Lehenga Choli RAJAVI Navy Blue Free Size</h3>"
            ]
          },
          "metadata": {}
        },
        {
          "output_type": "display_data",
          "data": {
            "text/plain": [
              "<IPython.core.display.HTML object>"
            ],
            "text/html": [
              "<p>ASIN: B078R72JBK</p>"
            ]
          },
          "metadata": {}
        },
        {
          "output_type": "display_data",
          "data": {
            "text/html": [
              "<img src=\"https://images-na.ssl-images-amazon.com/images/I/41R2mI0HlZL.jpg|https://images-na.ssl-images-amazon.com/images/I/51JLfsEP3PL.jpg|https://images-na.ssl-images-amazon.com/images/I/41RlN6McTAL.jpg|https://images-na.ssl-images-amazon.com/images/I/51hlUp3ZQnL.jpg\"/>"
            ],
            "text/plain": [
              "<IPython.core.display.Image object>"
            ]
          },
          "metadata": {}
        }
      ],
      "source": [
        "import nltk\n",
        "import numpy as np\n",
        "import pandas as pd\n",
        "from gensim.models import Word2Vec\n",
        "from nltk.tokenize import word_tokenize\n",
        "from sklearn.metrics.pairwise import cosine_similarity\n",
        "from IPython.display import display, HTML, Image\n",
        "import re\n",
        "\n",
        "nltk.download('punkt')\n",
        "\n",
        "\n",
        "def remove_non_english_chars(text):\n",
        "    pattern = r\"[^\\x00-\\x7F]+\"\n",
        "    cleaned_text = re.sub(pattern, \"\", text)\n",
        "    return cleaned_text\n",
        "\n",
        "def recommend_products_word2vec(product_id, num_products, data):\n",
        "    data['product_name_cleaned'] = data['product_name'].apply(remove_non_english_chars)\n",
        "    all_product_names = data['product_name_cleaned'].tolist()\n",
        "    tokenized_product_names = [word_tokenize(name) for name in all_product_names if isinstance(name, str)]\n",
        "    model = Word2Vec(tokenized_product_names, vector_size=1000, window=5, min_count=1, workers=4)\n",
        "    product_name = data.loc[data['asin'] == product_id, 'product_name_cleaned'].iloc[0]\n",
        "    product_embedding = get_product_embedding(product_name, model)\n",
        "\n",
        "\n",
        "    similarities = {}\n",
        "    for index, row in data.iterrows():\n",
        "        if row['asin'] != product_id:\n",
        "            other_product_name = row['product_name_cleaned']\n",
        "            other_product_embedding = get_product_embedding(other_product_name, model)\n",
        "            if other_product_embedding is not None:\n",
        "                similarity = cosine_similarity(product_embedding.reshape(1, -1), other_product_embedding.reshape(1, -1))[0][0]\n",
        "                similarities[row['asin']] = similarity\n",
        "\n",
        "\n",
        "    sorted_similarities = sorted(similarities.items(), key=lambda item: item[1], reverse=True)\n",
        "    recommended_products = [asin for asin, similarity in sorted_similarities[:num_products]]\n",
        "\n",
        "    return recommended_products\n",
        "\n",
        "def get_product_embedding(product_name, model):\n",
        "    try:\n",
        "        tokens = word_tokenize(product_name)\n",
        "        embeddings = [model.wv[token] for token in tokens if token in model.wv]\n",
        "        if embeddings:\n",
        "            return np.mean(embeddings, axis=0)\n",
        "        else:\n",
        "            return None\n",
        "    except TypeError:\n",
        "        return None\n",
        "\n",
        "def display_recommended_products(recommended_products, data):\n",
        "    for asin in recommended_products:\n",
        "        product_info = data[data['asin'] == asin].iloc[0]\n",
        "        display(HTML(f\"<h3>{product_info['product_name']}</h3>\"))\n",
        "        display(HTML(f\"<p>ASIN: {product_info['asin']}</p>\"))\n",
        "        image_url = product_info['medium']\n",
        "        if image_url:\n",
        "            display(Image(url=image_url))\n",
        "        else:\n",
        "            display(HTML(\"<p>Image not available</p>\"))\n",
        "\n",
        "product_id = 'B07HNQK9JX'\n",
        "recommended_products = recommend_products_word2vec(product_id, 5, data)\n",
        "display_recommended_products(recommended_products, data)"
      ]
    },
    {
      "cell_type": "code",
      "execution_count": null,
      "metadata": {
        "colab": {
          "base_uri": "https://localhost:8080/",
          "height": 1000
        },
        "id": "ea5Oxabe4uYy",
        "outputId": "839afd89-df04-453b-cb86-418de8a02bd1"
      },
      "outputs": [
        {
          "output_type": "stream",
          "name": "stderr",
          "text": [
            "[nltk_data] Downloading package punkt to /root/nltk_data...\n",
            "[nltk_data]   Package punkt is already up-to-date!\n"
          ]
        },
        {
          "output_type": "display_data",
          "data": {
            "text/plain": [
              "<IPython.core.display.HTML object>"
            ],
            "text/html": [
              "<h3>Arihant Mens Checkered 100 Cotton Half Sleeves Regular Fit Formal Shirt</h3>"
            ]
          },
          "metadata": {}
        },
        {
          "output_type": "display_data",
          "data": {
            "text/plain": [
              "<IPython.core.display.HTML object>"
            ],
            "text/html": [
              "<p>ASIN: B07NP84B7L</p>"
            ]
          },
          "metadata": {}
        },
        {
          "output_type": "display_data",
          "data": {
            "text/html": [
              "<img src=\"https://images-na.ssl-images-amazon.com/images/I/41-Nxee5qwL.jpg|https://images-na.ssl-images-amazon.com/images/I/3178MXrSiRL.jpg|https://images-na.ssl-images-amazon.com/images/I/41T9Ncvc1-L.jpg\"/>"
            ],
            "text/plain": [
              "<IPython.core.display.Image object>"
            ]
          },
          "metadata": {}
        },
        {
          "output_type": "display_data",
          "data": {
            "text/plain": [
              "<IPython.core.display.HTML object>"
            ],
            "text/html": [
              "<h3>Arihant Mens Checkered 100 Cotton Half Sleeves Regular Fit Formal Shirt</h3>"
            ]
          },
          "metadata": {}
        },
        {
          "output_type": "display_data",
          "data": {
            "text/plain": [
              "<IPython.core.display.HTML object>"
            ],
            "text/html": [
              "<p>ASIN: B07PZ1KYSG</p>"
            ]
          },
          "metadata": {}
        },
        {
          "output_type": "display_data",
          "data": {
            "text/html": [
              "<img src=\"https://images-na.ssl-images-amazon.com/images/I/41IPdIdiB7L.jpg|https://images-na.ssl-images-amazon.com/images/I/41geF5N3orL.jpg|https://images-na.ssl-images-amazon.com/images/I/41T9Ncvc1-L.jpg\"/>"
            ],
            "text/plain": [
              "<IPython.core.display.Image object>"
            ]
          },
          "metadata": {}
        },
        {
          "output_type": "display_data",
          "data": {
            "text/plain": [
              "<IPython.core.display.HTML object>"
            ],
            "text/html": [
              "<h3>Arihant Mens Checkered 100 Cotton Half Sleeves Regular Fit Formal Shirt</h3>"
            ]
          },
          "metadata": {}
        },
        {
          "output_type": "display_data",
          "data": {
            "text/plain": [
              "<IPython.core.display.HTML object>"
            ],
            "text/html": [
              "<p>ASIN: B07PLC84RV</p>"
            ]
          },
          "metadata": {}
        },
        {
          "output_type": "display_data",
          "data": {
            "text/html": [
              "<img src=\"https://images-na.ssl-images-amazon.com/images/I/512%2BPszv33L.jpg|https://images-na.ssl-images-amazon.com/images/I/616pICyHhdL.jpg|https://images-na.ssl-images-amazon.com/images/I/41T9Ncvc1-L.jpg\"/>"
            ],
            "text/plain": [
              "<IPython.core.display.Image object>"
            ]
          },
          "metadata": {}
        },
        {
          "output_type": "display_data",
          "data": {
            "text/plain": [
              "<IPython.core.display.HTML object>"
            ],
            "text/html": [
              "<h3>Arihant Mens Checkered 100 Cotton Half Sleeves Regular Fit Formal Shirt</h3>"
            ]
          },
          "metadata": {}
        },
        {
          "output_type": "display_data",
          "data": {
            "text/plain": [
              "<IPython.core.display.HTML object>"
            ],
            "text/html": [
              "<p>ASIN: B07P7T9N4Q</p>"
            ]
          },
          "metadata": {}
        },
        {
          "output_type": "display_data",
          "data": {
            "text/html": [
              "<img src=\"https://images-na.ssl-images-amazon.com/images/I/51-7sVbqXpL.jpg|https://images-na.ssl-images-amazon.com/images/I/51A4EOkvceL.jpg|https://images-na.ssl-images-amazon.com/images/I/41T9Ncvc1-L.jpg\"/>"
            ],
            "text/plain": [
              "<IPython.core.display.Image object>"
            ]
          },
          "metadata": {}
        },
        {
          "output_type": "display_data",
          "data": {
            "text/plain": [
              "<IPython.core.display.HTML object>"
            ],
            "text/html": [
              "<h3>Arihant Mens Checkered 100 Cotton Half Sleeves Regular Fit Formal Shirt</h3>"
            ]
          },
          "metadata": {}
        },
        {
          "output_type": "display_data",
          "data": {
            "text/plain": [
              "<IPython.core.display.HTML object>"
            ],
            "text/html": [
              "<p>ASIN: B07Q2YH6BQ</p>"
            ]
          },
          "metadata": {}
        },
        {
          "output_type": "display_data",
          "data": {
            "text/html": [
              "<img src=\"https://images-na.ssl-images-amazon.com/images/I/41W89kSM0eL.jpg|https://images-na.ssl-images-amazon.com/images/I/51BkFCwkv5L.jpg|https://images-na.ssl-images-amazon.com/images/I/41T9Ncvc1-L.jpg\"/>"
            ],
            "text/plain": [
              "<IPython.core.display.Image object>"
            ]
          },
          "metadata": {}
        }
      ],
      "source": [
        "nltk.download('punkt')\n",
        "\n",
        "def recommend_products_tfidf_word2vec(product_id, num_products, data):\n",
        "    all_product_names = data['product_name'].tolist()\n",
        "    tokenized_product_names = [word_tokenize(name) for name in all_product_names if isinstance(name, str)]\n",
        "    model = Word2Vec(tokenized_product_names, vector_size=1000, window=5, min_count=1, workers=4)\n",
        "    vectorizer = TfidfVectorizer()\n",
        "    tfidf_matrix = vectorizer.fit_transform(data['product_name'])\n",
        "\n",
        "\n",
        "    product_name = data.loc[data['asin'] == product_id, 'product_name'].iloc[0]\n",
        "    product_embedding = get_product_embedding(product_name, model)\n",
        "    product_tfidf = tfidf_matrix[data.index[data['asin'] == product_id].tolist()[0]]\n",
        "\n",
        "\n",
        "    similarities = {}\n",
        "    for index, row in data.iterrows():\n",
        "        if row['asin'] != product_id:\n",
        "            other_product_name = row['product_name']\n",
        "            other_product_embedding = get_product_embedding(other_product_name, model)\n",
        "            other_product_tfidf = tfidf_matrix[index]\n",
        "\n",
        "            if other_product_embedding is not None:\n",
        "                word2vec_similarity = cosine_similarity(product_embedding.reshape(1, -1), other_product_embedding.reshape(1, -1))[0][0]\n",
        "                tfidf_similarity = cosine_similarity(product_tfidf, other_product_tfidf)[0][0]\n",
        "                combined_similarity = 0.5 * word2vec_similarity + 0.5 * tfidf_similarity\n",
        "\n",
        "                similarities[row['asin']] = combined_similarity\n",
        "\n",
        "    sorted_similarities = sorted(similarities.items(), key=lambda item: item[1], reverse=True)\n",
        "    recommended_products = [asin for asin, similarity in sorted_similarities[:num_products]]\n",
        "\n",
        "    return recommended_products\n",
        "\n",
        "def get_product_embedding(product_name, model):\n",
        "    try:\n",
        "        tokens = word_tokenize(product_name)\n",
        "        embeddings = [model.wv[token] for token in tokens if token in model.wv]\n",
        "        if embeddings:\n",
        "            return np.mean(embeddings, axis=0)\n",
        "        else:\n",
        "            return None\n",
        "    except TypeError:\n",
        "        return None\n",
        "\n",
        "def display_recommended_products(recommended_products, data):\n",
        "    for asin in recommended_products:\n",
        "        product_info = data[data['asin'] == asin].iloc[0]\n",
        "        display(HTML(f\"<h3>{product_info['product_name']}</h3>\"))\n",
        "        display(HTML(f\"<p>ASIN: {product_info['asin']}</p>\"))\n",
        "        image_url = product_info['medium']\n",
        "        if image_url:\n",
        "            display(Image(url=image_url))\n",
        "        else:\n",
        "            display(HTML(\"<p>Image not available</p>\"))\n",
        "\n",
        "product_id = 'B07Q2WSBDR'\n",
        "recommended_products = recommend_products_tfidf_word2vec(product_id, 5, data)\n",
        "display_recommended_products(recommended_products, data)"
      ]
    },
    {
      "cell_type": "code",
      "execution_count": null,
      "metadata": {
        "colab": {
          "base_uri": "https://localhost:8080/",
          "height": 1000
        },
        "id": "iRZaRmZLoCNb",
        "outputId": "075b896b-7f64-4224-a325-476ca8b802de"
      },
      "outputs": [
        {
          "data": {
            "text/html": [
              "<h3>Miss Chase Womens Basic Top</h3>"
            ],
            "text/plain": [
              "<IPython.core.display.HTML object>"
            ]
          },
          "metadata": {},
          "output_type": "display_data"
        },
        {
          "data": {
            "text/html": [
              "<p>ASIN: B00QA54FEG</p>"
            ],
            "text/plain": [
              "<IPython.core.display.HTML object>"
            ]
          },
          "metadata": {},
          "output_type": "display_data"
        },
        {
          "data": {
            "text/html": [
              "<img src=\"https://images-na.ssl-images-amazon.com/images/I/31oEkgMWu8L.jpg|https://images-na.ssl-images-amazon.com/images/I/312NkUR6-CL.jpg|https://images-na.ssl-images-amazon.com/images/I/3131R5-e9tL.jpg|https://images-na.ssl-images-amazon.com/images/I/31%2BuDAq%2BSvL.jpg|https://images-na.ssl-images-amazon.com/images/I/31ZzhOhfA4L.jpg\"/>"
            ],
            "text/plain": [
              "<IPython.core.display.Image object>"
            ]
          },
          "metadata": {},
          "output_type": "display_data"
        },
        {
          "data": {
            "text/html": [
              "<h3>Miss Chase Womens Black Cotton Boxy Crop Sweatshirt</h3>"
            ],
            "text/plain": [
              "<IPython.core.display.HTML object>"
            ]
          },
          "metadata": {},
          "output_type": "display_data"
        },
        {
          "data": {
            "text/html": [
              "<p>ASIN: B07RFYT9V9</p>"
            ],
            "text/plain": [
              "<IPython.core.display.HTML object>"
            ]
          },
          "metadata": {},
          "output_type": "display_data"
        },
        {
          "data": {
            "text/html": [
              "<img src=\"https://images-na.ssl-images-amazon.com/images/I/31NHbz4K5WL.jpg|https://images-na.ssl-images-amazon.com/images/I/31JsfT5JK9L.jpg|https://images-na.ssl-images-amazon.com/images/I/31CksQc5NsL.jpg|https://images-na.ssl-images-amazon.com/images/I/31SogKPecYL.jpg\"/>"
            ],
            "text/plain": [
              "<IPython.core.display.Image object>"
            ]
          },
          "metadata": {},
          "output_type": "display_data"
        },
        {
          "data": {
            "text/html": [
              "<h3>Miss Chase Womens Black Cotton Sequined Sweatshirt</h3>"
            ],
            "text/plain": [
              "<IPython.core.display.HTML object>"
            ]
          },
          "metadata": {},
          "output_type": "display_data"
        },
        {
          "data": {
            "text/html": [
              "<p>ASIN: B07HWQ2XSB</p>"
            ],
            "text/plain": [
              "<IPython.core.display.HTML object>"
            ]
          },
          "metadata": {},
          "output_type": "display_data"
        },
        {
          "data": {
            "text/html": [
              "<img src=\"https://images-na.ssl-images-amazon.com/images/I/31QhQOsDYdL.jpg|https://images-na.ssl-images-amazon.com/images/I/31EjunOEUxL.jpg|https://images-na.ssl-images-amazon.com/images/I/31q78zWtcDL.jpg|https://images-na.ssl-images-amazon.com/images/I/31NhiiNYTvL.jpg\"/>"
            ],
            "text/plain": [
              "<IPython.core.display.Image object>"
            ]
          },
          "metadata": {},
          "output_type": "display_data"
        },
        {
          "data": {
            "text/html": [
              "<h3>Miss Chase Womens Black Hooded Crop Sweatshirt</h3>"
            ],
            "text/plain": [
              "<IPython.core.display.HTML object>"
            ]
          },
          "metadata": {},
          "output_type": "display_data"
        },
        {
          "data": {
            "text/html": [
              "<p>ASIN: B07RH2RRCX</p>"
            ],
            "text/plain": [
              "<IPython.core.display.HTML object>"
            ]
          },
          "metadata": {},
          "output_type": "display_data"
        },
        {
          "data": {
            "text/html": [
              "<img src=\"https://images-na.ssl-images-amazon.com/images/I/41DPyBz6mJL.jpg|https://images-na.ssl-images-amazon.com/images/I/31fJQ2kaZRL.jpg|https://images-na.ssl-images-amazon.com/images/I/41C%2BGIkXkzL.jpg|https://images-na.ssl-images-amazon.com/images/I/41NRzMapa-L.jpg\"/>"
            ],
            "text/plain": [
              "<IPython.core.display.Image object>"
            ]
          },
          "metadata": {},
          "output_type": "display_data"
        },
        {
          "data": {
            "text/html": [
              "<h3>Miss Chase Womens Black Rib Boxy Sweatshirt</h3>"
            ],
            "text/plain": [
              "<IPython.core.display.HTML object>"
            ]
          },
          "metadata": {},
          "output_type": "display_data"
        },
        {
          "data": {
            "text/html": [
              "<p>ASIN: B07RCJKB13</p>"
            ],
            "text/plain": [
              "<IPython.core.display.HTML object>"
            ]
          },
          "metadata": {},
          "output_type": "display_data"
        },
        {
          "data": {
            "text/html": [
              "<img src=\"https://images-na.ssl-images-amazon.com/images/I/31VI36f4itL.jpg|https://images-na.ssl-images-amazon.com/images/I/31wKsRKYuUL.jpg|https://images-na.ssl-images-amazon.com/images/I/31QKeyrC7LL.jpg|https://images-na.ssl-images-amazon.com/images/I/31hGkQwAGCL.jpg\"/>"
            ],
            "text/plain": [
              "<IPython.core.display.Image object>"
            ]
          },
          "metadata": {},
          "output_type": "display_data"
        }
      ],
      "source": [
        "from sklearn.feature_extraction.text import CountVectorizer\n",
        "from sklearn.metrics.pairwise import pairwise_distances\n",
        "import pandas as pd\n",
        "\n",
        "def recommend_products_brandbased(product_id, num_products, data):\n",
        "    product_brand = data.loc[data['asin'] == product_id, 'brand'].iloc[0]\n",
        "    recommended_products = data[\n",
        "        (data['brand'] == product_brand) & (data['asin'] != product_id)\n",
        "    ]['asin'].head(num_products).tolist()\n",
        "\n",
        "    return recommended_products\n",
        "\n",
        "def display_recommended_products(recommended_products, data):\n",
        "    for asin in recommended_products:\n",
        "        product_info = data[data['asin'] == asin].iloc[0]\n",
        "        display(HTML(f\"<h3>{product_info['product_name']}</h3>\"))\n",
        "        display(HTML(f\"<p>ASIN: {product_info['asin']}</p>\"))\n",
        "        image_url = product_info['medium']\n",
        "        if image_url:\n",
        "            display(Image(url=image_url))\n",
        "        else:\n",
        "            display(HTML(\"<p>Image not available</p>\"))\n",
        "\n",
        "\n",
        "product_id = 'B083ZKXVGN'\n",
        "recommended_products = recommend_products_brandbased(product_id, 5, data)\n",
        "display_recommended_products(recommended_products, data)"
      ]
    },
    {
      "cell_type": "code",
      "execution_count": null,
      "metadata": {
        "colab": {
          "base_uri": "https://localhost:8080/",
          "height": 1000
        },
        "id": "wdMFSXH5-LR6",
        "outputId": "5d245aef-c97a-4731-98a3-14a379226046"
      },
      "outputs": [
        {
          "output_type": "stream",
          "name": "stderr",
          "text": [
            "<ipython-input-32-3395e17f8d4d>:12: UserWarning: `input_shape` is undefined or non-square, or `rows` is not in [96, 128, 160, 192, 224]. Weights for input shape (224, 224) will be loaded as the default.\n",
            "  base_model = MobileNetV2(weights='imagenet', include_top=False)\n"
          ]
        },
        {
          "output_type": "stream",
          "name": "stdout",
          "text": [
            "\u001b[1m1/1\u001b[0m \u001b[32m━━━━━━━━━━━━━━━━━━━━\u001b[0m\u001b[37m\u001b[0m \u001b[1m1s\u001b[0m 1s/step\n",
            "\u001b[1m1/1\u001b[0m \u001b[32m━━━━━━━━━━━━━━━━━━━━\u001b[0m\u001b[37m\u001b[0m \u001b[1m0s\u001b[0m 58ms/step\n",
            "\u001b[1m1/1\u001b[0m \u001b[32m━━━━━━━━━━━━━━━━━━━━\u001b[0m\u001b[37m\u001b[0m \u001b[1m0s\u001b[0m 69ms/step\n",
            "\u001b[1m1/1\u001b[0m \u001b[32m━━━━━━━━━━━━━━━━━━━━\u001b[0m\u001b[37m\u001b[0m \u001b[1m0s\u001b[0m 93ms/step\n",
            "\u001b[1m1/1\u001b[0m \u001b[32m━━━━━━━━━━━━━━━━━━━━\u001b[0m\u001b[37m\u001b[0m \u001b[1m0s\u001b[0m 103ms/step\n",
            "\u001b[1m1/1\u001b[0m \u001b[32m━━━━━━━━━━━━━━━━━━━━\u001b[0m\u001b[37m\u001b[0m \u001b[1m0s\u001b[0m 130ms/step\n",
            "\u001b[1m1/1\u001b[0m \u001b[32m━━━━━━━━━━━━━━━━━━━━\u001b[0m\u001b[37m\u001b[0m \u001b[1m0s\u001b[0m 173ms/step\n",
            "\u001b[1m1/1\u001b[0m \u001b[32m━━━━━━━━━━━━━━━━━━━━\u001b[0m\u001b[37m\u001b[0m \u001b[1m0s\u001b[0m 134ms/step\n",
            "\u001b[1m1/1\u001b[0m \u001b[32m━━━━━━━━━━━━━━━━━━━━\u001b[0m\u001b[37m\u001b[0m \u001b[1m0s\u001b[0m 201ms/step\n",
            "\u001b[1m1/1\u001b[0m \u001b[32m━━━━━━━━━━━━━━━━━━━━\u001b[0m\u001b[37m\u001b[0m \u001b[1m0s\u001b[0m 164ms/step\n",
            "\u001b[1m1/1\u001b[0m \u001b[32m━━━━━━━━━━━━━━━━━━━━\u001b[0m\u001b[37m\u001b[0m \u001b[1m0s\u001b[0m 137ms/step\n",
            "\u001b[1m1/1\u001b[0m \u001b[32m━━━━━━━━━━━━━━━━━━━━\u001b[0m\u001b[37m\u001b[0m \u001b[1m0s\u001b[0m 221ms/step\n",
            "\u001b[1m1/1\u001b[0m \u001b[32m━━━━━━━━━━━━━━━━━━━━\u001b[0m\u001b[37m\u001b[0m \u001b[1m0s\u001b[0m 220ms/step\n",
            "\u001b[1m1/1\u001b[0m \u001b[32m━━━━━━━━━━━━━━━━━━━━\u001b[0m\u001b[37m\u001b[0m \u001b[1m0s\u001b[0m 95ms/step\n",
            "\u001b[1m1/1\u001b[0m \u001b[32m━━━━━━━━━━━━━━━━━━━━\u001b[0m\u001b[37m\u001b[0m \u001b[1m0s\u001b[0m 377ms/step\n",
            "\u001b[1m1/1\u001b[0m \u001b[32m━━━━━━━━━━━━━━━━━━━━\u001b[0m\u001b[37m\u001b[0m \u001b[1m0s\u001b[0m 273ms/step\n",
            "\u001b[1m1/1\u001b[0m \u001b[32m━━━━━━━━━━━━━━━━━━━━\u001b[0m\u001b[37m\u001b[0m \u001b[1m0s\u001b[0m 243ms/step\n",
            "\u001b[1m1/1\u001b[0m \u001b[32m━━━━━━━━━━━━━━━━━━━━\u001b[0m\u001b[37m\u001b[0m \u001b[1m0s\u001b[0m 187ms/step\n",
            "\u001b[1m1/1\u001b[0m \u001b[32m━━━━━━━━━━━━━━━━━━━━\u001b[0m\u001b[37m\u001b[0m \u001b[1m0s\u001b[0m 133ms/step\n",
            "\u001b[1m1/1\u001b[0m \u001b[32m━━━━━━━━━━━━━━━━━━━━\u001b[0m\u001b[37m\u001b[0m \u001b[1m0s\u001b[0m 248ms/step\n",
            "\u001b[1m1/1\u001b[0m \u001b[32m━━━━━━━━━━━━━━━━━━━━\u001b[0m\u001b[37m\u001b[0m \u001b[1m0s\u001b[0m 151ms/step\n",
            "\u001b[1m1/1\u001b[0m \u001b[32m━━━━━━━━━━━━━━━━━━━━\u001b[0m\u001b[37m\u001b[0m \u001b[1m0s\u001b[0m 239ms/step\n",
            "\u001b[1m1/1\u001b[0m \u001b[32m━━━━━━━━━━━━━━━━━━━━\u001b[0m\u001b[37m\u001b[0m \u001b[1m0s\u001b[0m 165ms/step\n",
            "\u001b[1m1/1\u001b[0m \u001b[32m━━━━━━━━━━━━━━━━━━━━\u001b[0m\u001b[37m\u001b[0m \u001b[1m0s\u001b[0m 91ms/step\n",
            "\u001b[1m1/1\u001b[0m \u001b[32m━━━━━━━━━━━━━━━━━━━━\u001b[0m\u001b[37m\u001b[0m \u001b[1m0s\u001b[0m 87ms/step\n",
            "\u001b[1m1/1\u001b[0m \u001b[32m━━━━━━━━━━━━━━━━━━━━\u001b[0m\u001b[37m\u001b[0m \u001b[1m0s\u001b[0m 96ms/step\n",
            "\u001b[1m1/1\u001b[0m \u001b[32m━━━━━━━━━━━━━━━━━━━━\u001b[0m\u001b[37m\u001b[0m \u001b[1m0s\u001b[0m 98ms/step\n",
            "\u001b[1m1/1\u001b[0m \u001b[32m━━━━━━━━━━━━━━━━━━━━\u001b[0m\u001b[37m\u001b[0m \u001b[1m0s\u001b[0m 98ms/step\n",
            "\u001b[1m1/1\u001b[0m \u001b[32m━━━━━━━━━━━━━━━━━━━━\u001b[0m\u001b[37m\u001b[0m \u001b[1m0s\u001b[0m 166ms/step\n",
            "\u001b[1m1/1\u001b[0m \u001b[32m━━━━━━━━━━━━━━━━━━━━\u001b[0m\u001b[37m\u001b[0m \u001b[1m0s\u001b[0m 95ms/step\n",
            "\u001b[1m1/1\u001b[0m \u001b[32m━━━━━━━━━━━━━━━━━━━━\u001b[0m\u001b[37m\u001b[0m \u001b[1m0s\u001b[0m 100ms/step\n",
            "\u001b[1m1/1\u001b[0m \u001b[32m━━━━━━━━━━━━━━━━━━━━\u001b[0m\u001b[37m\u001b[0m \u001b[1m0s\u001b[0m 93ms/step\n",
            "\u001b[1m1/1\u001b[0m \u001b[32m━━━━━━━━━━━━━━━━━━━━\u001b[0m\u001b[37m\u001b[0m \u001b[1m0s\u001b[0m 99ms/step\n",
            "\u001b[1m1/1\u001b[0m \u001b[32m━━━━━━━━━━━━━━━━━━━━\u001b[0m\u001b[37m\u001b[0m \u001b[1m0s\u001b[0m 104ms/step\n",
            "\u001b[1m1/1\u001b[0m \u001b[32m━━━━━━━━━━━━━━━━━━━━\u001b[0m\u001b[37m\u001b[0m \u001b[1m0s\u001b[0m 111ms/step\n",
            "\u001b[1m1/1\u001b[0m \u001b[32m━━━━━━━━━━━━━━━━━━━━\u001b[0m\u001b[37m\u001b[0m \u001b[1m0s\u001b[0m 76ms/step\n",
            "\u001b[1m1/1\u001b[0m \u001b[32m━━━━━━━━━━━━━━━━━━━━\u001b[0m\u001b[37m\u001b[0m \u001b[1m0s\u001b[0m 60ms/step\n",
            "\u001b[1m1/1\u001b[0m \u001b[32m━━━━━━━━━━━━━━━━━━━━\u001b[0m\u001b[37m\u001b[0m \u001b[1m0s\u001b[0m 61ms/step\n",
            "\u001b[1m1/1\u001b[0m \u001b[32m━━━━━━━━━━━━━━━━━━━━\u001b[0m\u001b[37m\u001b[0m \u001b[1m0s\u001b[0m 57ms/step\n",
            "\u001b[1m1/1\u001b[0m \u001b[32m━━━━━━━━━━━━━━━━━━━━\u001b[0m\u001b[37m\u001b[0m \u001b[1m0s\u001b[0m 58ms/step\n",
            "\u001b[1m1/1\u001b[0m \u001b[32m━━━━━━━━━━━━━━━━━━━━\u001b[0m\u001b[37m\u001b[0m \u001b[1m0s\u001b[0m 67ms/step\n",
            "\u001b[1m1/1\u001b[0m \u001b[32m━━━━━━━━━━━━━━━━━━━━\u001b[0m\u001b[37m\u001b[0m \u001b[1m0s\u001b[0m 55ms/step\n",
            "\u001b[1m1/1\u001b[0m \u001b[32m━━━━━━━━━━━━━━━━━━━━\u001b[0m\u001b[37m\u001b[0m \u001b[1m0s\u001b[0m 67ms/step\n",
            "\u001b[1m1/1\u001b[0m \u001b[32m━━━━━━━━━━━━━━━━━━━━\u001b[0m\u001b[37m\u001b[0m \u001b[1m0s\u001b[0m 65ms/step\n",
            "\u001b[1m1/1\u001b[0m \u001b[32m━━━━━━━━━━━━━━━━━━━━\u001b[0m\u001b[37m\u001b[0m \u001b[1m0s\u001b[0m 60ms/step\n",
            "\u001b[1m1/1\u001b[0m \u001b[32m━━━━━━━━━━━━━━━━━━━━\u001b[0m\u001b[37m\u001b[0m \u001b[1m0s\u001b[0m 56ms/step\n",
            "\u001b[1m1/1\u001b[0m \u001b[32m━━━━━━━━━━━━━━━━━━━━\u001b[0m\u001b[37m\u001b[0m \u001b[1m0s\u001b[0m 58ms/step\n",
            "\u001b[1m1/1\u001b[0m \u001b[32m━━━━━━━━━━━━━━━━━━━━\u001b[0m\u001b[37m\u001b[0m \u001b[1m0s\u001b[0m 57ms/step\n",
            "\u001b[1m1/1\u001b[0m \u001b[32m━━━━━━━━━━━━━━━━━━━━\u001b[0m\u001b[37m\u001b[0m \u001b[1m0s\u001b[0m 55ms/step\n",
            "\u001b[1m1/1\u001b[0m \u001b[32m━━━━━━━━━━━━━━━━━━━━\u001b[0m\u001b[37m\u001b[0m \u001b[1m0s\u001b[0m 58ms/step\n",
            "\u001b[1m1/1\u001b[0m \u001b[32m━━━━━━━━━━━━━━━━━━━━\u001b[0m\u001b[37m\u001b[0m \u001b[1m0s\u001b[0m 55ms/step\n",
            "\u001b[1m1/1\u001b[0m \u001b[32m━━━━━━━━━━━━━━━━━━━━\u001b[0m\u001b[37m\u001b[0m \u001b[1m0s\u001b[0m 58ms/step\n",
            "\u001b[1m1/1\u001b[0m \u001b[32m━━━━━━━━━━━━━━━━━━━━\u001b[0m\u001b[37m\u001b[0m \u001b[1m0s\u001b[0m 57ms/step\n",
            "\u001b[1m1/1\u001b[0m \u001b[32m━━━━━━━━━━━━━━━━━━━━\u001b[0m\u001b[37m\u001b[0m \u001b[1m0s\u001b[0m 68ms/step\n",
            "\u001b[1m1/1\u001b[0m \u001b[32m━━━━━━━━━━━━━━━━━━━━\u001b[0m\u001b[37m\u001b[0m \u001b[1m0s\u001b[0m 57ms/step\n",
            "\u001b[1m1/1\u001b[0m \u001b[32m━━━━━━━━━━━━━━━━━━━━\u001b[0m\u001b[37m\u001b[0m \u001b[1m0s\u001b[0m 54ms/step\n",
            "\u001b[1m1/1\u001b[0m \u001b[32m━━━━━━━━━━━━━━━━━━━━\u001b[0m\u001b[37m\u001b[0m \u001b[1m0s\u001b[0m 54ms/step\n",
            "\u001b[1m1/1\u001b[0m \u001b[32m━━━━━━━━━━━━━━━━━━━━\u001b[0m\u001b[37m\u001b[0m \u001b[1m0s\u001b[0m 61ms/step\n",
            "\u001b[1m1/1\u001b[0m \u001b[32m━━━━━━━━━━━━━━━━━━━━\u001b[0m\u001b[37m\u001b[0m \u001b[1m0s\u001b[0m 57ms/step\n",
            "\u001b[1m1/1\u001b[0m \u001b[32m━━━━━━━━━━━━━━━━━━━━\u001b[0m\u001b[37m\u001b[0m \u001b[1m0s\u001b[0m 62ms/step\n",
            "\u001b[1m1/1\u001b[0m \u001b[32m━━━━━━━━━━━━━━━━━━━━\u001b[0m\u001b[37m\u001b[0m \u001b[1m0s\u001b[0m 58ms/step\n",
            "\u001b[1m1/1\u001b[0m \u001b[32m━━━━━━━━━━━━━━━━━━━━\u001b[0m\u001b[37m\u001b[0m \u001b[1m0s\u001b[0m 55ms/step\n",
            "\u001b[1m1/1\u001b[0m \u001b[32m━━━━━━━━━━━━━━━━━━━━\u001b[0m\u001b[37m\u001b[0m \u001b[1m0s\u001b[0m 55ms/step\n",
            "\u001b[1m1/1\u001b[0m \u001b[32m━━━━━━━━━━━━━━━━━━━━\u001b[0m\u001b[37m\u001b[0m \u001b[1m0s\u001b[0m 66ms/step\n",
            "\u001b[1m1/1\u001b[0m \u001b[32m━━━━━━━━━━━━━━━━━━━━\u001b[0m\u001b[37m\u001b[0m \u001b[1m0s\u001b[0m 54ms/step\n",
            "\u001b[1m1/1\u001b[0m \u001b[32m━━━━━━━━━━━━━━━━━━━━\u001b[0m\u001b[37m\u001b[0m \u001b[1m0s\u001b[0m 86ms/step\n",
            "\u001b[1m1/1\u001b[0m \u001b[32m━━━━━━━━━━━━━━━━━━━━\u001b[0m\u001b[37m\u001b[0m \u001b[1m0s\u001b[0m 95ms/step\n",
            "\u001b[1m1/1\u001b[0m \u001b[32m━━━━━━━━━━━━━━━━━━━━\u001b[0m\u001b[37m\u001b[0m \u001b[1m0s\u001b[0m 84ms/step\n",
            "\u001b[1m1/1\u001b[0m \u001b[32m━━━━━━━━━━━━━━━━━━━━\u001b[0m\u001b[37m\u001b[0m \u001b[1m0s\u001b[0m 96ms/step\n",
            "\u001b[1m1/1\u001b[0m \u001b[32m━━━━━━━━━━━━━━━━━━━━\u001b[0m\u001b[37m\u001b[0m \u001b[1m0s\u001b[0m 89ms/step\n",
            "\u001b[1m1/1\u001b[0m \u001b[32m━━━━━━━━━━━━━━━━━━━━\u001b[0m\u001b[37m\u001b[0m \u001b[1m0s\u001b[0m 87ms/step\n",
            "\u001b[1m1/1\u001b[0m \u001b[32m━━━━━━━━━━━━━━━━━━━━\u001b[0m\u001b[37m\u001b[0m \u001b[1m0s\u001b[0m 85ms/step\n",
            "\u001b[1m1/1\u001b[0m \u001b[32m━━━━━━━━━━━━━━━━━━━━\u001b[0m\u001b[37m\u001b[0m \u001b[1m0s\u001b[0m 105ms/step\n",
            "\u001b[1m1/1\u001b[0m \u001b[32m━━━━━━━━━━━━━━━━━━━━\u001b[0m\u001b[37m\u001b[0m \u001b[1m0s\u001b[0m 106ms/step\n",
            "\u001b[1m1/1\u001b[0m \u001b[32m━━━━━━━━━━━━━━━━━━━━\u001b[0m\u001b[37m\u001b[0m \u001b[1m0s\u001b[0m 114ms/step\n",
            "\u001b[1m1/1\u001b[0m \u001b[32m━━━━━━━━━━━━━━━━━━━━\u001b[0m\u001b[37m\u001b[0m \u001b[1m0s\u001b[0m 95ms/step\n",
            "\u001b[1m1/1\u001b[0m \u001b[32m━━━━━━━━━━━━━━━━━━━━\u001b[0m\u001b[37m\u001b[0m \u001b[1m0s\u001b[0m 95ms/step\n",
            "\u001b[1m1/1\u001b[0m \u001b[32m━━━━━━━━━━━━━━━━━━━━\u001b[0m\u001b[37m\u001b[0m \u001b[1m0s\u001b[0m 103ms/step\n",
            "\u001b[1m1/1\u001b[0m \u001b[32m━━━━━━━━━━━━━━━━━━━━\u001b[0m\u001b[37m\u001b[0m \u001b[1m0s\u001b[0m 93ms/step\n",
            "\u001b[1m1/1\u001b[0m \u001b[32m━━━━━━━━━━━━━━━━━━━━\u001b[0m\u001b[37m\u001b[0m \u001b[1m0s\u001b[0m 102ms/step\n",
            "\u001b[1m1/1\u001b[0m \u001b[32m━━━━━━━━━━━━━━━━━━━━\u001b[0m\u001b[37m\u001b[0m \u001b[1m0s\u001b[0m 55ms/step\n",
            "\u001b[1m1/1\u001b[0m \u001b[32m━━━━━━━━━━━━━━━━━━━━\u001b[0m\u001b[37m\u001b[0m \u001b[1m0s\u001b[0m 58ms/step\n",
            "\u001b[1m1/1\u001b[0m \u001b[32m━━━━━━━━━━━━━━━━━━━━\u001b[0m\u001b[37m\u001b[0m \u001b[1m0s\u001b[0m 56ms/step\n",
            "\u001b[1m1/1\u001b[0m \u001b[32m━━━━━━━━━━━━━━━━━━━━\u001b[0m\u001b[37m\u001b[0m \u001b[1m0s\u001b[0m 54ms/step\n",
            "\u001b[1m1/1\u001b[0m \u001b[32m━━━━━━━━━━━━━━━━━━━━\u001b[0m\u001b[37m\u001b[0m \u001b[1m0s\u001b[0m 62ms/step\n",
            "\u001b[1m1/1\u001b[0m \u001b[32m━━━━━━━━━━━━━━━━━━━━\u001b[0m\u001b[37m\u001b[0m \u001b[1m0s\u001b[0m 57ms/step\n",
            "\u001b[1m1/1\u001b[0m \u001b[32m━━━━━━━━━━━━━━━━━━━━\u001b[0m\u001b[37m\u001b[0m \u001b[1m0s\u001b[0m 70ms/step\n",
            "\u001b[1m1/1\u001b[0m \u001b[32m━━━━━━━━━━━━━━━━━━━━\u001b[0m\u001b[37m\u001b[0m \u001b[1m0s\u001b[0m 57ms/step\n",
            "\u001b[1m1/1\u001b[0m \u001b[32m━━━━━━━━━━━━━━━━━━━━\u001b[0m\u001b[37m\u001b[0m \u001b[1m0s\u001b[0m 62ms/step\n",
            "\u001b[1m1/1\u001b[0m \u001b[32m━━━━━━━━━━━━━━━━━━━━\u001b[0m\u001b[37m\u001b[0m \u001b[1m0s\u001b[0m 57ms/step\n",
            "\u001b[1m1/1\u001b[0m \u001b[32m━━━━━━━━━━━━━━━━━━━━\u001b[0m\u001b[37m\u001b[0m \u001b[1m0s\u001b[0m 58ms/step\n",
            "\u001b[1m1/1\u001b[0m \u001b[32m━━━━━━━━━━━━━━━━━━━━\u001b[0m\u001b[37m\u001b[0m \u001b[1m0s\u001b[0m 74ms/step\n",
            "\u001b[1m1/1\u001b[0m \u001b[32m━━━━━━━━━━━━━━━━━━━━\u001b[0m\u001b[37m\u001b[0m \u001b[1m0s\u001b[0m 56ms/step\n",
            "\u001b[1m1/1\u001b[0m \u001b[32m━━━━━━━━━━━━━━━━━━━━\u001b[0m\u001b[37m\u001b[0m \u001b[1m0s\u001b[0m 63ms/step\n",
            "\u001b[1m1/1\u001b[0m \u001b[32m━━━━━━━━━━━━━━━━━━━━\u001b[0m\u001b[37m\u001b[0m \u001b[1m0s\u001b[0m 53ms/step\n",
            "\u001b[1m1/1\u001b[0m \u001b[32m━━━━━━━━━━━━━━━━━━━━\u001b[0m\u001b[37m\u001b[0m \u001b[1m0s\u001b[0m 54ms/step\n",
            "\u001b[1m1/1\u001b[0m \u001b[32m━━━━━━━━━━━━━━━━━━━━\u001b[0m\u001b[37m\u001b[0m \u001b[1m0s\u001b[0m 57ms/step\n",
            "\u001b[1m1/1\u001b[0m \u001b[32m━━━━━━━━━━━━━━━━━━━━\u001b[0m\u001b[37m\u001b[0m \u001b[1m0s\u001b[0m 78ms/step\n",
            "\u001b[1m1/1\u001b[0m \u001b[32m━━━━━━━━━━━━━━━━━━━━\u001b[0m\u001b[37m\u001b[0m \u001b[1m0s\u001b[0m 59ms/step\n",
            "\u001b[1m1/1\u001b[0m \u001b[32m━━━━━━━━━━━━━━━━━━━━\u001b[0m\u001b[37m\u001b[0m \u001b[1m0s\u001b[0m 58ms/step\n",
            "Epoch 1/10\n"
          ]
        },
        {
          "output_type": "stream",
          "name": "stderr",
          "text": [
            "<ipython-input-32-3395e17f8d4d>:34: SettingWithCopyWarning: \n",
            "A value is trying to be set on a copy of a slice from a DataFrame.\n",
            "Try using .loc[row_indexer,col_indexer] = value instead\n",
            "\n",
            "See the caveats in the documentation: https://pandas.pydata.org/pandas-docs/stable/user_guide/indexing.html#returning-a-view-versus-a-copy\n",
            "  data_subset['features'] = data_subset['medium'].apply(lambda img_url: extract_features(img_url, model))\n",
            "/usr/local/lib/python3.10/dist-packages/keras/src/layers/core/dense.py:87: UserWarning: Do not pass an `input_shape`/`input_dim` argument to a layer. When using Sequential models, prefer using an `Input(shape)` object as the first layer in the model instead.\n",
            "  super().__init__(activity_regularizer=activity_regularizer, **kwargs)\n"
          ]
        },
        {
          "output_type": "stream",
          "name": "stdout",
          "text": [
            "\u001b[1m4/4\u001b[0m \u001b[32m━━━━━━━━━━━━━━━━━━━━\u001b[0m\u001b[37m\u001b[0m \u001b[1m1s\u001b[0m 12ms/step - accuracy: 0.0000e+00 - loss: 4.6985\n",
            "Epoch 2/10\n",
            "\u001b[1m4/4\u001b[0m \u001b[32m━━━━━━━━━━━━━━━━━━━━\u001b[0m\u001b[37m\u001b[0m \u001b[1m0s\u001b[0m 14ms/step - accuracy: 0.2432 - loss: 3.9510 \n",
            "Epoch 3/10\n",
            "\u001b[1m4/4\u001b[0m \u001b[32m━━━━━━━━━━━━━━━━━━━━\u001b[0m\u001b[37m\u001b[0m \u001b[1m0s\u001b[0m 13ms/step - accuracy: 0.3680 - loss: 3.3986\n",
            "Epoch 4/10\n",
            "\u001b[1m4/4\u001b[0m \u001b[32m━━━━━━━━━━━━━━━━━━━━\u001b[0m\u001b[37m\u001b[0m \u001b[1m0s\u001b[0m 12ms/step - accuracy: 0.4326 - loss: 2.7903\n",
            "Epoch 5/10\n",
            "\u001b[1m4/4\u001b[0m \u001b[32m━━━━━━━━━━━━━━━━━━━━\u001b[0m\u001b[37m\u001b[0m \u001b[1m0s\u001b[0m 12ms/step - accuracy: 0.6466 - loss: 2.2130 \n",
            "Epoch 6/10\n",
            "\u001b[1m4/4\u001b[0m \u001b[32m━━━━━━━━━━━━━━━━━━━━\u001b[0m\u001b[37m\u001b[0m \u001b[1m0s\u001b[0m 12ms/step - accuracy: 0.7121 - loss: 1.6731\n",
            "Epoch 7/10\n",
            "\u001b[1m4/4\u001b[0m \u001b[32m━━━━━━━━━━━━━━━━━━━━\u001b[0m\u001b[37m\u001b[0m \u001b[1m0s\u001b[0m 12ms/step - accuracy: 0.7175 - loss: 1.2678 \n",
            "Epoch 8/10\n",
            "\u001b[1m4/4\u001b[0m \u001b[32m━━━━━━━━━━━━━━━━━━━━\u001b[0m\u001b[37m\u001b[0m \u001b[1m0s\u001b[0m 12ms/step - accuracy: 0.8640 - loss: 0.9669\n",
            "Epoch 9/10\n",
            "\u001b[1m4/4\u001b[0m \u001b[32m━━━━━━━━━━━━━━━━━━━━\u001b[0m\u001b[37m\u001b[0m \u001b[1m0s\u001b[0m 12ms/step - accuracy: 0.8482 - loss: 0.7821\n",
            "Epoch 10/10\n",
            "\u001b[1m4/4\u001b[0m \u001b[32m━━━━━━━━━━━━━━━━━━━━\u001b[0m\u001b[37m\u001b[0m \u001b[1m0s\u001b[0m 11ms/step - accuracy: 0.9173 - loss: 0.4812\n",
            "\u001b[1m1/1\u001b[0m \u001b[32m━━━━━━━━━━━━━━━━━━━━\u001b[0m\u001b[37m\u001b[0m \u001b[1m0s\u001b[0m 99ms/step\n",
            "\u001b[1m1/1\u001b[0m \u001b[32m━━━━━━━━━━━━━━━━━━━━\u001b[0m\u001b[37m\u001b[0m \u001b[1m0s\u001b[0m 65ms/step\n",
            "\u001b[1m4/4\u001b[0m \u001b[32m━━━━━━━━━━━━━━━━━━━━\u001b[0m\u001b[37m\u001b[0m \u001b[1m0s\u001b[0m 6ms/step \n"
          ]
        },
        {
          "output_type": "display_data",
          "data": {
            "text/plain": [
              "<IPython.core.display.HTML object>"
            ],
            "text/html": [
              "<h3>1 Stop Fashion Womens Crepe Knee Long Plain KurtaKurti 530127</h3>"
            ]
          },
          "metadata": {}
        },
        {
          "output_type": "display_data",
          "data": {
            "text/plain": [
              "<IPython.core.display.HTML object>"
            ],
            "text/html": [
              "<p>ASIN: B082XVZD4M</p>"
            ]
          },
          "metadata": {}
        },
        {
          "output_type": "display_data",
          "data": {
            "text/html": [
              "<img src=\"https://images-na.ssl-images-amazon.com/images/I/31YjLivGdQL.jpg|https://images-na.ssl-images-amazon.com/images/I/31t5no3k37L.jpg\"/>"
            ],
            "text/plain": [
              "<IPython.core.display.Image object>"
            ]
          },
          "metadata": {}
        },
        {
          "output_type": "display_data",
          "data": {
            "text/plain": [
              "<IPython.core.display.HTML object>"
            ],
            "text/html": [
              "<h3>109 F Women Polyester Ivory Perforated Dress</h3>"
            ]
          },
          "metadata": {}
        },
        {
          "output_type": "display_data",
          "data": {
            "text/plain": [
              "<IPython.core.display.HTML object>"
            ],
            "text/html": [
              "<p>ASIN: B07FYC6RV1</p>"
            ]
          },
          "metadata": {}
        },
        {
          "output_type": "display_data",
          "data": {
            "text/html": [
              "<img src=\"https://images-na.ssl-images-amazon.com/images/I/412lt1Hj%2BeL.jpg|https://images-na.ssl-images-amazon.com/images/I/41fCG8QZBxL.jpg|https://images-na.ssl-images-amazon.com/images/I/41QUtqWpDrL.jpg|https://images-na.ssl-images-amazon.com/images/I/41-hYuRg9zL.jpg|https://images-na.ssl-images-amazon.com/images/I/51yVkpZ21UL.jpg\"/>"
            ],
            "text/plain": [
              "<IPython.core.display.Image object>"
            ]
          },
          "metadata": {}
        },
        {
          "output_type": "display_data",
          "data": {
            "text/plain": [
              "<IPython.core.display.HTML object>"
            ],
            "text/html": [
              "<h3>18 FIRE LABLE Womens White and Blue Kurti for Women Straight Sleeveless Floral Printed Kurti  Comfortable Knee Length Kurti  Ethnic Wear Casual Wear Office Wear</h3>"
            ]
          },
          "metadata": {}
        },
        {
          "output_type": "display_data",
          "data": {
            "text/plain": [
              "<IPython.core.display.HTML object>"
            ],
            "text/html": [
              "<p>ASIN: B07RK54GCY</p>"
            ]
          },
          "metadata": {}
        },
        {
          "output_type": "display_data",
          "data": {
            "text/html": [
              "<img src=\"https://images-na.ssl-images-amazon.com/images/I/41g3TDntFXL.jpg|https://images-na.ssl-images-amazon.com/images/I/41vb-IeNBPL.jpg|https://images-na.ssl-images-amazon.com/images/I/314pcFN4NCL.jpg|https://images-na.ssl-images-amazon.com/images/I/514wHoetM%2BL.jpg|https://images-na.ssl-images-amazon.com/images/I/516xVqMfSNL.jpg|https://images-na.ssl-images-amazon.com/images/I/31YGGTacHTL.jpg|https://images-na.ssl-images-amazon.com/images/I/41qHDOTbFuL.jpg\"/>"
            ],
            "text/plain": [
              "<IPython.core.display.Image object>"
            ]
          },
          "metadata": {}
        },
        {
          "output_type": "display_data",
          "data": {
            "text/plain": [
              "<IPython.core.display.HTML object>"
            ],
            "text/html": [
              "<h3>109 F Women Viscose Black  White Polka Dress</h3>"
            ]
          },
          "metadata": {}
        },
        {
          "output_type": "display_data",
          "data": {
            "text/plain": [
              "<IPython.core.display.HTML object>"
            ],
            "text/html": [
              "<p>ASIN: B07H4G2GVW</p>"
            ]
          },
          "metadata": {}
        },
        {
          "output_type": "display_data",
          "data": {
            "text/html": [
              "<img src=\"https://images-na.ssl-images-amazon.com/images/I/51286VDCi9L.jpg|https://images-na.ssl-images-amazon.com/images/I/41H0Iw-oOIL.jpg|https://images-na.ssl-images-amazon.com/images/I/412vemkOKQL.jpg|https://images-na.ssl-images-amazon.com/images/I/51Qb6ig2ZdL.jpg|https://images-na.ssl-images-amazon.com/images/I/51%2BgL2GyAvL.jpg|https://images-na.ssl-images-amazon.com/images/I/61VKlrwgStL.jpg|https://images-na.ssl-images-amazon.com/images/I/51yVkpZ21UL.jpg\"/>"
            ],
            "text/plain": [
              "<IPython.core.display.Image object>"
            ]
          },
          "metadata": {}
        },
        {
          "output_type": "display_data",
          "data": {
            "text/plain": [
              "<IPython.core.display.HTML object>"
            ],
            "text/html": [
              "<h3>109 F Women Polyester Blue Dress</h3>"
            ]
          },
          "metadata": {}
        },
        {
          "output_type": "display_data",
          "data": {
            "text/plain": [
              "<IPython.core.display.HTML object>"
            ],
            "text/html": [
              "<p>ASIN: B07G8FCPQN</p>"
            ]
          },
          "metadata": {}
        },
        {
          "output_type": "display_data",
          "data": {
            "text/html": [
              "<img src=\"https://images-na.ssl-images-amazon.com/images/I/41VxGGb9joL.jpg|https://images-na.ssl-images-amazon.com/images/I/41SSxST0mKL.jpg|https://images-na.ssl-images-amazon.com/images/I/41zB-%2BQzxoL.jpg|https://images-na.ssl-images-amazon.com/images/I/41icxbIpmXL.jpg|https://images-na.ssl-images-amazon.com/images/I/41qFpOLashL.jpg|https://images-na.ssl-images-amazon.com/images/I/51mJfukz6bL.jpg|https://images-na.ssl-images-amazon.com/images/I/41drGCtzz6L.jpg\"/>"
            ],
            "text/plain": [
              "<IPython.core.display.Image object>"
            ]
          },
          "metadata": {}
        }
      ],
      "source": [
        "from tensorflow.keras.applications.mobilenet_v2 import MobileNetV2, preprocess_input\n",
        "from tensorflow.keras.preprocessing import image\n",
        "from tensorflow.keras.models import Model\n",
        "from tensorflow.keras.layers import Dense, GlobalAveragePooling2D\n",
        "import numpy as np\n",
        "from sklearn.metrics.pairwise import cosine_similarity\n",
        "from IPython.display import display, HTML, Image\n",
        "import requests\n",
        "from io import BytesIO\n",
        "\n",
        "\n",
        "base_model = MobileNetV2(weights='imagenet', include_top=False)\n",
        "x = base_model.output\n",
        "x = GlobalAveragePooling2D()(x)\n",
        "model = Model(inputs=base_model.input, outputs=x)\n",
        "\n",
        "\n",
        "data_subset = data.head(100)\n",
        "\n",
        "def extract_features(img_url, model):\n",
        "    try:\n",
        "        response = requests.get(img_url)\n",
        "        response.raise_for_status()\n",
        "        img = image.load_img(BytesIO(response.content), target_size=(224, 224))\n",
        "        img_data = image.img_to_array(img)\n",
        "        img_data = np.expand_dims(img_data, axis=0)\n",
        "        img_data = preprocess_input(img_data)\n",
        "        features = model.predict(img_data)\n",
        "        return features.flatten()\n",
        "    except requests.exceptions.RequestException as e:\n",
        "        print(f\"Error loading image from URL: {img_url}, Error: {e}\")\n",
        "        return None\n",
        "\n",
        "data_subset['features'] = data_subset['medium'].apply(lambda img_url: extract_features(img_url, model))\n",
        "\n",
        "\n",
        "from tensorflow.keras.models import Sequential\n",
        "\n",
        "ann_model = Sequential()\n",
        "ann_model.add(Dense(512, activation='relu', input_shape=(model.output_shape[1],)))\n",
        "ann_model.add(Dense(256, activation='relu'))\n",
        "ann_model.add(Dense(128, activation='relu'))\n",
        "ann_model.add(Dense(data_subset['asin'].nunique(), activation='softmax'))\n",
        "\n",
        "ann_model.compile(optimizer='adam', loss='sparse_categorical_crossentropy', metrics=['accuracy'])\n",
        "\n",
        "\n",
        "asin_to_label = {asin: i for i, asin in enumerate(data_subset['asin'].unique())}\n",
        "labels = data_subset['asin'].map(asin_to_label).values\n",
        "\n",
        "ann_model.fit(np.vstack(data_subset['features'].values), labels, epochs=10, batch_size=32)\n",
        "\n",
        "def recommend_products_ann(product_id, num_products, data, data_subset, ann_model, asin_to_label):\n",
        "    product_image_url = data.loc[data['asin'] == product_id, 'medium'].iloc[0]\n",
        "    input_features = extract_features(product_image_url, model)\n",
        "    if input_features is None:\n",
        "        print(f\"Could not extract features for product ID: {product_id}\")\n",
        "        return []\n",
        "\n",
        "    input_features = input_features.reshape(1, -1)\n",
        "    predictions = ann_model.predict(input_features)\n",
        "\n",
        "    all_predictions = ann_model.predict(np.vstack(data_subset['features'].values))\n",
        "\n",
        "    similarities = cosine_similarity(predictions, all_predictions)\n",
        "\n",
        "    most_similar_indices = similarities.argsort()[0][::-1][1:num_products + 1]\n",
        "\n",
        "    recommended_asins = [data_subset['asin'].iloc[i] for i in most_similar_indices]\n",
        "\n",
        "    return recommended_asins\n",
        "\n",
        "def display_recommended_products(recommended_products, data):\n",
        "    for asin in recommended_products:\n",
        "        product_info = data[data['asin'] == asin].iloc[0]\n",
        "        display(HTML(f\"<h3>{product_info['product_name']}</h3>\"))\n",
        "        display(HTML(f\"<p>ASIN: {product_info['asin']}</p>\"))\n",
        "        image_url = product_info['medium']\n",
        "        if image_url:\n",
        "            display(Image(url=image_url))\n",
        "        else:\n",
        "            display(HTML(\"<p>Image not available</p>\"))\n",
        "\n",
        "\n",
        "product_id = 'B07SJV54VQ'\n",
        "recommended_products = recommend_products_ann(product_id, 5, data, data_subset, ann_model, asin_to_label)\n",
        "display_recommended_products(recommended_products, data)"
      ]
    },
    {
      "cell_type": "code",
      "execution_count": null,
      "metadata": {
        "colab": {
          "base_uri": "https://localhost:8080/",
          "height": 1000
        },
        "id": "SQZZDywAvPeR",
        "outputId": "0bfb2e0b-5fbc-4483-d143-7f308a72fd50"
      },
      "outputs": [
        {
          "name": "stderr",
          "output_type": "stream",
          "text": [
            "[nltk_data] Downloading package punkt to /root/nltk_data...\n",
            "[nltk_data]   Package punkt is already up-to-date!\n",
            "<ipython-input-45-9a96927211d1>:35: SettingWithCopyWarning: \n",
            "A value is trying to be set on a copy of a slice from a DataFrame.\n",
            "Try using .loc[row_indexer,col_indexer] = value instead\n",
            "\n",
            "See the caveats in the documentation: https://pandas.pydata.org/pandas-docs/stable/user_guide/indexing.html#returning-a-view-versus-a-copy\n",
            "  filtered_data['product_name_cleaned'] = filtered_data['product_name'].apply(remove_non_english_chars)\n"
          ]
        },
        {
          "data": {
            "text/html": [
              "<h3>John Miller Mens Striped Slim Fit Formal Shirt</h3>"
            ],
            "text/plain": [
              "<IPython.core.display.HTML object>"
            ]
          },
          "metadata": {},
          "output_type": "display_data"
        },
        {
          "data": {
            "text/html": [
              "<p>ASIN: B07HXL4YNT</p>"
            ],
            "text/plain": [
              "<IPython.core.display.HTML object>"
            ]
          },
          "metadata": {},
          "output_type": "display_data"
        },
        {
          "data": {
            "text/html": [
              "<img src=\"https://images-na.ssl-images-amazon.com/images/I/41LFMyItvFL.jpg|https://images-na.ssl-images-amazon.com/images/I/41yvvPkAZGL.jpg|https://images-na.ssl-images-amazon.com/images/I/411fo-abziL.jpg|https://images-na.ssl-images-amazon.com/images/I/31L1tzUxMnL.jpg|https://images-na.ssl-images-amazon.com/images/I/412qbrLS7LL.jpg\"/>"
            ],
            "text/plain": [
              "<IPython.core.display.Image object>"
            ]
          },
          "metadata": {},
          "output_type": "display_data"
        },
        {
          "data": {
            "text/html": [
              "<h3>John Miller Mens Checkered Slim Fit Cotton Casual Shirt</h3>"
            ],
            "text/plain": [
              "<IPython.core.display.HTML object>"
            ]
          },
          "metadata": {},
          "output_type": "display_data"
        },
        {
          "data": {
            "text/html": [
              "<p>ASIN: B0795VMMDW</p>"
            ],
            "text/plain": [
              "<IPython.core.display.HTML object>"
            ]
          },
          "metadata": {},
          "output_type": "display_data"
        },
        {
          "data": {
            "text/html": [
              "<img src=\"https://images-na.ssl-images-amazon.com/images/I/41OK6lAzV5L.jpg|https://images-na.ssl-images-amazon.com/images/I/41a8gQX9lAL.jpg|https://images-na.ssl-images-amazon.com/images/I/41PcfnVTvmL.jpg|https://images-na.ssl-images-amazon.com/images/I/41gkH6sd%2BmL.jpg\"/>"
            ],
            "text/plain": [
              "<IPython.core.display.Image object>"
            ]
          },
          "metadata": {},
          "output_type": "display_data"
        },
        {
          "data": {
            "text/html": [
              "<h3>John Miller Mens Checkered Slim Fit Cotton Casual Shirt</h3>"
            ],
            "text/plain": [
              "<IPython.core.display.HTML object>"
            ]
          },
          "metadata": {},
          "output_type": "display_data"
        },
        {
          "data": {
            "text/html": [
              "<p>ASIN: B0795VFWNP</p>"
            ],
            "text/plain": [
              "<IPython.core.display.HTML object>"
            ]
          },
          "metadata": {},
          "output_type": "display_data"
        },
        {
          "data": {
            "text/html": [
              "<img src=\"https://images-na.ssl-images-amazon.com/images/I/41aARJYigGL.jpg|https://images-na.ssl-images-amazon.com/images/I/41%2BbPGXQcxL.jpg|https://images-na.ssl-images-amazon.com/images/I/51dEf-dHl5L.jpg|https://images-na.ssl-images-amazon.com/images/I/51mQTT2j8XL.jpg|https://images-na.ssl-images-amazon.com/images/I/41MLtUHq6CL.jpg\"/>"
            ],
            "text/plain": [
              "<IPython.core.display.Image object>"
            ]
          },
          "metadata": {},
          "output_type": "display_data"
        },
        {
          "data": {
            "text/html": [
              "<h3>John Miller Mens Solid Slim Fit Cotton Formal Shirt</h3>"
            ],
            "text/plain": [
              "<IPython.core.display.HTML object>"
            ]
          },
          "metadata": {},
          "output_type": "display_data"
        },
        {
          "data": {
            "text/html": [
              "<p>ASIN: B0795ZF6D7</p>"
            ],
            "text/plain": [
              "<IPython.core.display.HTML object>"
            ]
          },
          "metadata": {},
          "output_type": "display_data"
        },
        {
          "data": {
            "text/html": [
              "<img src=\"https://images-na.ssl-images-amazon.com/images/I/41FFB4cdvqL.jpg|https://images-na.ssl-images-amazon.com/images/I/315b4SnxjqL.jpg|https://images-na.ssl-images-amazon.com/images/I/41jDI9hJrFL.jpg|https://images-na.ssl-images-amazon.com/images/I/31EPCMSkQHL.jpg\"/>"
            ],
            "text/plain": [
              "<IPython.core.display.Image object>"
            ]
          },
          "metadata": {},
          "output_type": "display_data"
        },
        {
          "data": {
            "text/html": [
              "<h3>John Miller Mens Formal Shirt</h3>"
            ],
            "text/plain": [
              "<IPython.core.display.HTML object>"
            ]
          },
          "metadata": {},
          "output_type": "display_data"
        },
        {
          "data": {
            "text/html": [
              "<p>ASIN: B011I2TU68</p>"
            ],
            "text/plain": [
              "<IPython.core.display.HTML object>"
            ]
          },
          "metadata": {},
          "output_type": "display_data"
        },
        {
          "data": {
            "text/html": [
              "<img src=\"https://images-na.ssl-images-amazon.com/images/I/41NX0zXVyPL.jpg|https://images-na.ssl-images-amazon.com/images/I/61Nh4ktPSvL.jpg\"/>"
            ],
            "text/plain": [
              "<IPython.core.display.Image object>"
            ]
          },
          "metadata": {},
          "output_type": "display_data"
        }
      ],
      "source": [
        "import nltk\n",
        "import numpy as np\n",
        "import pandas as pd\n",
        "from gensim.models import Word2Vec\n",
        "from nltk.tokenize import word_tokenize\n",
        "from sklearn.metrics.pairwise import cosine_similarity\n",
        "from IPython.display import display, HTML, Image\n",
        "import re\n",
        "\n",
        "nltk.download('punkt')\n",
        "\n",
        "def remove_non_english_chars(text):\n",
        "    pattern = r\"[^\\x00-\\x7F]+\"\n",
        "    cleaned_text = re.sub(pattern, \"\", text)\n",
        "    return cleaned_text\n",
        "\n",
        "def get_product_embedding(product_name, model):\n",
        "    try:\n",
        "        tokens = word_tokenize(product_name)\n",
        "        embeddings = [model.wv[token] for token in tokens if token in model.wv]\n",
        "        if embeddings:\n",
        "            return np.mean(embeddings, axis=0)\n",
        "        else:\n",
        "            return None\n",
        "    except TypeError:\n",
        "        return None\n",
        "\n",
        "def recommend_products_brandbased_word2vec(product_id, num_products, data):\n",
        "    product_brand = data.loc[data['asin'] == product_id, 'brand'].iloc[0]\n",
        "    filtered_data = data[(data['brand'] == product_brand) & (data['asin'] != product_id)]\n",
        "    if filtered_data.empty:\n",
        "        print(f\"No other products found for brand: {product_brand}\")\n",
        "        return []\n",
        "    data['product_name_cleaned'] = data['product_name'].apply(remove_non_english_chars)\n",
        "    filtered_data['product_name_cleaned'] = filtered_data['product_name'].apply(remove_non_english_chars)\n",
        "\n",
        "    all_product_names = filtered_data['product_name_cleaned'].tolist()\n",
        "    tokenized_product_names = [word_tokenize(name) for name in all_product_names if isinstance(name, str)]\n",
        "    model = Word2Vec(tokenized_product_names, vector_size=500, window=5, min_count=1, workers=4)\n",
        "\n",
        "    product_name = data.loc[data['asin'] == product_id, 'product_name_cleaned'].iloc[0]\n",
        "    product_embedding = get_product_embedding(product_name, model)\n",
        "\n",
        "    similarities = {}\n",
        "    for index, row in filtered_data.iterrows():\n",
        "        other_product_name = row['product_name_cleaned']\n",
        "        other_product_embedding = get_product_embedding(other_product_name, model)\n",
        "        if other_product_embedding is not None:\n",
        "            similarity = cosine_similarity(product_embedding.reshape(1, -1), other_product_embedding.reshape(1, -1))[0][0]\n",
        "            similarities[row['asin']] = similarity\n",
        "    sorted_similarities = sorted(similarities.items(), key=lambda item: item[1], reverse=True)\n",
        "    recommended_products = [asin for asin, similarity in sorted_similarities[:num_products]]\n",
        "\n",
        "    return recommended_products\n",
        "\n",
        "\n",
        "product_id = 'B0795ZJXT8'\n",
        "recommended_products = recommend_products_brandbased_word2vec(product_id, 5, data)\n",
        "display_recommended_products(recommended_products, data)"
      ]
    },
    {
      "cell_type": "code",
      "execution_count": null,
      "metadata": {
        "colab": {
          "base_uri": "https://localhost:8080/",
          "height": 1000
        },
        "id": "tFuw7uTkOxOc",
        "outputId": "8406cf1e-cc9c-42ec-b0fe-204e47c62680"
      },
      "outputs": [
        {
          "output_type": "display_data",
          "data": {
            "text/plain": [
              "<IPython.core.display.HTML object>"
            ],
            "text/html": [
              "<h3>My Lil Princess Baby Girls Birthday Frock DressRed Polka010 Years</h3>"
            ]
          },
          "metadata": {}
        },
        {
          "output_type": "display_data",
          "data": {
            "text/plain": [
              "<IPython.core.display.HTML object>"
            ],
            "text/html": [
              "<p>ASIN: B07J5CL7BF</p>"
            ]
          },
          "metadata": {}
        },
        {
          "output_type": "display_data",
          "data": {
            "text/plain": [
              "<IPython.core.display.HTML object>"
            ],
            "text/html": [
              "<p>Rating: 5.0</p>"
            ]
          },
          "metadata": {}
        },
        {
          "output_type": "display_data",
          "data": {
            "text/plain": [
              "<IPython.core.display.HTML object>"
            ],
            "text/html": [
              "<p>Similarity Score: 0.7581540003253722</p>"
            ]
          },
          "metadata": {}
        },
        {
          "output_type": "display_data",
          "data": {
            "image/jpeg": "[encoded data removed]",
            "text/plain": [
              "<IPython.core.display.Image object>"
            ]
          },
          "metadata": {
            "image/jpeg": {
              "width": 200,
              "height": 200
            }
          }
        },
        {
          "output_type": "display_data",
          "data": {
            "text/plain": [
              "<IPython.core.display.HTML object>"
            ],
            "text/html": [
              "<hr>"
            ]
          },
          "metadata": {}
        },
        {
          "output_type": "display_data",
          "data": {
            "text/plain": [
              "<IPython.core.display.HTML object>"
            ],
            "text/html": [
              "<h3>My Lil Princess Baby Girls Birthday Frock DressGlory Pink Frock310 Years</h3>"
            ]
          },
          "metadata": {}
        },
        {
          "output_type": "display_data",
          "data": {
            "text/plain": [
              "<IPython.core.display.HTML object>"
            ],
            "text/html": [
              "<p>ASIN: B07TK22Y7D</p>"
            ]
          },
          "metadata": {}
        },
        {
          "output_type": "display_data",
          "data": {
            "text/plain": [
              "<IPython.core.display.HTML object>"
            ],
            "text/html": [
              "<p>Rating: 5.0</p>"
            ]
          },
          "metadata": {}
        },
        {
          "output_type": "display_data",
          "data": {
            "text/plain": [
              "<IPython.core.display.HTML object>"
            ],
            "text/html": [
              "<p>Similarity Score: 0.28437941571139413</p>"
            ]
          },
          "metadata": {}
        },
        {
          "output_type": "display_data",
          "data": {
            "image/jpeg": "[encoded data removed]",
            "text/plain": [
              "<IPython.core.display.Image object>"
            ]
          },
          "metadata": {
            "image/jpeg": {
              "width": 200,
              "height": 200
            }
          }
        },
        {
          "output_type": "display_data",
          "data": {
            "text/plain": [
              "<IPython.core.display.HTML object>"
            ],
            "text/html": [
              "<hr>"
            ]
          },
          "metadata": {}
        },
        {
          "output_type": "display_data",
          "data": {
            "text/plain": [
              "<IPython.core.display.HTML object>"
            ],
            "text/html": [
              "<h3>My Lil Princess Baby Girls Birthday Frock DressBlue Polka010 Years</h3>"
            ]
          },
          "metadata": {}
        },
        {
          "output_type": "display_data",
          "data": {
            "text/plain": [
              "<IPython.core.display.HTML object>"
            ],
            "text/html": [
              "<p>ASIN: B07HDC6TG1</p>"
            ]
          },
          "metadata": {}
        },
        {
          "output_type": "display_data",
          "data": {
            "text/plain": [
              "<IPython.core.display.HTML object>"
            ],
            "text/html": [
              "<p>Rating: 4.2</p>"
            ]
          },
          "metadata": {}
        },
        {
          "output_type": "display_data",
          "data": {
            "text/plain": [
              "<IPython.core.display.HTML object>"
            ],
            "text/html": [
              "<p>Similarity Score: 0.28437941571139413</p>"
            ]
          },
          "metadata": {}
        },
        {
          "output_type": "stream",
          "name": "stdout",
          "text": [
            "Error displaying image for ASIN B07HDC6TG1: HTTP Error 400: Bad Request\n"
          ]
        },
        {
          "output_type": "display_data",
          "data": {
            "text/plain": [
              "<IPython.core.display.HTML object>"
            ],
            "text/html": [
              "<hr>"
            ]
          },
          "metadata": {}
        },
        {
          "output_type": "display_data",
          "data": {
            "text/plain": [
              "<IPython.core.display.HTML object>"
            ],
            "text/html": [
              "<h3>My Lil Princess Baby Girls Birthday Frock DressBlue Polka010 Years</h3>"
            ]
          },
          "metadata": {}
        },
        {
          "output_type": "display_data",
          "data": {
            "text/plain": [
              "<IPython.core.display.HTML object>"
            ],
            "text/html": [
              "<p>ASIN: B07MJT4CZQ</p>"
            ]
          },
          "metadata": {}
        },
        {
          "output_type": "display_data",
          "data": {
            "text/plain": [
              "<IPython.core.display.HTML object>"
            ],
            "text/html": [
              "<p>Rating: 4.0</p>"
            ]
          },
          "metadata": {}
        },
        {
          "output_type": "display_data",
          "data": {
            "text/plain": [
              "<IPython.core.display.HTML object>"
            ],
            "text/html": [
              "<p>Similarity Score: 0.2771714761190061</p>"
            ]
          },
          "metadata": {}
        },
        {
          "output_type": "display_data",
          "data": {
            "image/jpeg": "[encoded data removed]",
            "text/plain": [
              "<IPython.core.display.Image object>"
            ]
          },
          "metadata": {
            "image/jpeg": {
              "width": 200,
              "height": 200
            }
          }
        },
        {
          "output_type": "display_data",
          "data": {
            "text/plain": [
              "<IPython.core.display.HTML object>"
            ],
            "text/html": [
              "<hr>"
            ]
          },
          "metadata": {}
        },
        {
          "output_type": "display_data",
          "data": {
            "text/plain": [
              "<IPython.core.display.HTML object>"
            ],
            "text/html": [
              "<h3>My Lil Princess Baby Girls Birthday Frock DressMLPBOWGLD310 Years</h3>"
            ]
          },
          "metadata": {}
        },
        {
          "output_type": "display_data",
          "data": {
            "text/plain": [
              "<IPython.core.display.HTML object>"
            ],
            "text/html": [
              "<p>ASIN: B01F4ZFDWA</p>"
            ]
          },
          "metadata": {}
        },
        {
          "output_type": "display_data",
          "data": {
            "text/plain": [
              "<IPython.core.display.HTML object>"
            ],
            "text/html": [
              "<p>Rating: 3.8</p>"
            ]
          },
          "metadata": {}
        },
        {
          "output_type": "display_data",
          "data": {
            "text/plain": [
              "<IPython.core.display.HTML object>"
            ],
            "text/html": [
              "<p>Similarity Score: 0.2771714761190061</p>"
            ]
          },
          "metadata": {}
        },
        {
          "output_type": "display_data",
          "data": {
            "image/jpeg": "[encoded data removed]",
            "text/plain": [
              "<IPython.core.display.Image object>"
            ]
          },
          "metadata": {
            "image/jpeg": {
              "width": 200,
              "height": 200
            }
          }
        },
        {
          "output_type": "display_data",
          "data": {
            "text/plain": [
              "<IPython.core.display.HTML object>"
            ],
            "text/html": [
              "<hr>"
            ]
          },
          "metadata": {}
        },
        {
          "output_type": "display_data",
          "data": {
            "text/plain": [
              "<IPython.core.display.HTML object>"
            ],
            "text/html": [
              "<h3>My Lil Princess Baby Girls Birthday Frock Dress Red Scuba16 Years</h3>"
            ]
          },
          "metadata": {}
        },
        {
          "output_type": "display_data",
          "data": {
            "text/plain": [
              "<IPython.core.display.HTML object>"
            ],
            "text/html": [
              "<p>ASIN: B017GDCPEC</p>"
            ]
          },
          "metadata": {}
        },
        {
          "output_type": "display_data",
          "data": {
            "text/plain": [
              "<IPython.core.display.HTML object>"
            ],
            "text/html": [
              "<p>Rating: 3.8</p>"
            ]
          },
          "metadata": {}
        },
        {
          "output_type": "display_data",
          "data": {
            "text/plain": [
              "<IPython.core.display.HTML object>"
            ],
            "text/html": [
              "<p>Similarity Score: 0.2771714761190061</p>"
            ]
          },
          "metadata": {}
        },
        {
          "output_type": "display_data",
          "data": {
            "image/jpeg": "[encoded data removed]",
            "text/plain": [
              "<IPython.core.display.Image object>"
            ]
          },
          "metadata": {
            "image/jpeg": {
              "width": 200,
              "height": 200
            }
          }
        },
        {
          "output_type": "display_data",
          "data": {
            "text/plain": [
              "<IPython.core.display.HTML object>"
            ],
            "text/html": [
              "<hr>"
            ]
          },
          "metadata": {}
        },
        {
          "output_type": "display_data",
          "data": {
            "text/plain": [
              "<IPython.core.display.HTML object>"
            ],
            "text/html": [
              "<h3>My Lil Princess Baby Girls Silk Frock</h3>"
            ]
          },
          "metadata": {}
        },
        {
          "output_type": "display_data",
          "data": {
            "text/plain": [
              "<IPython.core.display.HTML object>"
            ],
            "text/html": [
              "<p>ASIN: B07193TDY3</p>"
            ]
          },
          "metadata": {}
        },
        {
          "output_type": "display_data",
          "data": {
            "text/plain": [
              "<IPython.core.display.HTML object>"
            ],
            "text/html": [
              "<p>Rating: 3.5</p>"
            ]
          },
          "metadata": {}
        },
        {
          "output_type": "display_data",
          "data": {
            "text/plain": [
              "<IPython.core.display.HTML object>"
            ],
            "text/html": [
              "<p>Similarity Score: 0.2543427129965542</p>"
            ]
          },
          "metadata": {}
        },
        {
          "output_type": "stream",
          "name": "stdout",
          "text": [
            "Error displaying image for ASIN B07193TDY3: HTTP Error 400: Bad Request\n"
          ]
        },
        {
          "output_type": "display_data",
          "data": {
            "text/plain": [
              "<IPython.core.display.HTML object>"
            ],
            "text/html": [
              "<hr>"
            ]
          },
          "metadata": {}
        },
        {
          "output_type": "display_data",
          "data": {
            "text/plain": [
              "<IPython.core.display.HTML object>"
            ],
            "text/html": [
              "<h3>My Lil Princess Baby Girls Birthday Frock DressRRG010 Years</h3>"
            ]
          },
          "metadata": {}
        },
        {
          "output_type": "display_data",
          "data": {
            "text/plain": [
              "<IPython.core.display.HTML object>"
            ],
            "text/html": [
              "<p>ASIN: B016WAHLX0</p>"
            ]
          },
          "metadata": {}
        },
        {
          "output_type": "display_data",
          "data": {
            "text/plain": [
              "<IPython.core.display.HTML object>"
            ],
            "text/html": [
              "<p>Rating: 3.4</p>"
            ]
          },
          "metadata": {}
        },
        {
          "output_type": "display_data",
          "data": {
            "text/plain": [
              "<IPython.core.display.HTML object>"
            ],
            "text/html": [
              "<p>Similarity Score: 0.23794196351876234</p>"
            ]
          },
          "metadata": {}
        },
        {
          "output_type": "display_data",
          "data": {
            "image/jpeg": "[encoded data removed]",
            "text/plain": [
              "<IPython.core.display.Image object>"
            ]
          },
          "metadata": {
            "image/jpeg": {
              "width": 200,
              "height": 200
            }
          }
        },
        {
          "output_type": "display_data",
          "data": {
            "text/plain": [
              "<IPython.core.display.HTML object>"
            ],
            "text/html": [
              "<hr>"
            ]
          },
          "metadata": {}
        },
        {
          "output_type": "display_data",
          "data": {
            "text/plain": [
              "<IPython.core.display.HTML object>"
            ],
            "text/html": [
              "<h3>My Lil Princess Baby Girls Birthday Frock DressBlue Polka010 Years</h3>"
            ]
          },
          "metadata": {}
        },
        {
          "output_type": "display_data",
          "data": {
            "text/plain": [
              "<IPython.core.display.HTML object>"
            ],
            "text/html": [
              "<p>ASIN: B07FWDXF7C</p>"
            ]
          },
          "metadata": {}
        },
        {
          "output_type": "display_data",
          "data": {
            "text/plain": [
              "<IPython.core.display.HTML object>"
            ],
            "text/html": [
              "<p>Rating: 3.1</p>"
            ]
          },
          "metadata": {}
        },
        {
          "output_type": "display_data",
          "data": {
            "text/plain": [
              "<IPython.core.display.HTML object>"
            ],
            "text/html": [
              "<p>Similarity Score: 0.23641091046436413</p>"
            ]
          },
          "metadata": {}
        },
        {
          "output_type": "display_data",
          "data": {
            "image/jpeg": "[encoded data removed]",
            "text/plain": [
              "<IPython.core.display.Image object>"
            ]
          },
          "metadata": {
            "image/jpeg": {
              "width": 200,
              "height": 200
            }
          }
        },
        {
          "output_type": "display_data",
          "data": {
            "text/plain": [
              "<IPython.core.display.HTML object>"
            ],
            "text/html": [
              "<hr>"
            ]
          },
          "metadata": {}
        },
        {
          "output_type": "display_data",
          "data": {
            "text/plain": [
              "<IPython.core.display.HTML object>"
            ],
            "text/html": [
              "<h3>My Lil Princess Baby Girls Birthday Frock DressBlue BeedsNet Fabric39 Years</h3>"
            ]
          },
          "metadata": {}
        },
        {
          "output_type": "display_data",
          "data": {
            "text/plain": [
              "<IPython.core.display.HTML object>"
            ],
            "text/html": [
              "<p>ASIN: B0174RGSGG</p>"
            ]
          },
          "metadata": {}
        },
        {
          "output_type": "display_data",
          "data": {
            "text/plain": [
              "<IPython.core.display.HTML object>"
            ],
            "text/html": [
              "<p>Rating: 3.0</p>"
            ]
          },
          "metadata": {}
        },
        {
          "output_type": "display_data",
          "data": {
            "text/plain": [
              "<IPython.core.display.HTML object>"
            ],
            "text/html": [
              "<p>Similarity Score: 0.2331570678110092</p>"
            ]
          },
          "metadata": {}
        },
        {
          "output_type": "display_data",
          "data": {
            "image/jpeg": "[encoded data removed]",
            "text/plain": [
              "<IPython.core.display.Image object>"
            ]
          },
          "metadata": {
            "image/jpeg": {
              "width": 200,
              "height": 200
            }
          }
        },
        {
          "output_type": "display_data",
          "data": {
            "text/plain": [
              "<IPython.core.display.HTML object>"
            ],
            "text/html": [
              "<hr>"
            ]
          },
          "metadata": {}
        }
      ],
      "source": [
        "from sklearn.feature_extraction.text import TfidfVectorizer\n",
        "from sklearn.metrics.pairwise import cosine_similarity\n",
        "from IPython.display import Image, display\n",
        "import urllib.parse\n",
        "\n",
        "def recommend_products_brand_similarity_rating(product_id, num_products, data):\n",
        "    product_brand = data.loc[data['asin'] == product_id, 'brand'].iloc[0]\n",
        "    filtered_data = data[data['brand'] == product_brand].copy()\n",
        "    filtered_data = filtered_data.reset_index(drop=True)\n",
        "    vectorizer = TfidfVectorizer()\n",
        "    tfidf_vectors = vectorizer.fit_transform(filtered_data['product_name'])\n",
        "    product_index = filtered_data.index[filtered_data['asin'] == product_id].tolist()[0]\n",
        "    cosine_similarities = cosine_similarity(tfidf_vectors[product_index], tfidf_vectors).flatten()\n",
        "    related_product_indices = cosine_similarities.argsort()[:-num_products - 2:-1][1:]\n",
        "    recommended_products = filtered_data.iloc[related_product_indices].copy()\n",
        "    recommended_products = recommended_products.sort_values(by=['rating'], ascending=False)\n",
        "    recommended_products['similarity_score'] = cosine_similarities[related_product_indices]\n",
        "    top_products = recommended_products[['asin', 'rating', 'similarity_score']].head(num_products)\n",
        "\n",
        "    return top_products\n",
        "\n",
        "def display_recommended_products(top_products, data):\n",
        "    for index, row in top_products.iterrows():\n",
        "        asin = row['asin']\n",
        "        rating = row['rating']\n",
        "        similarity_score = row['similarity_score']\n",
        "\n",
        "        product_info = data[data['asin'] == asin].iloc[0]\n",
        "        image_url = product_info['medium']\n",
        "\n",
        "        display(HTML(f\"<h3>{product_info['product_name']}</h3>\"))\n",
        "        display(HTML(f\"<p>ASIN: {asin}</p>\"))\n",
        "        display(HTML(f\"<p>Rating: {rating}</p>\"))\n",
        "        display(HTML(f\"<p>Similarity Score: {similarity_score}</p>\"))\n",
        "\n",
        "        if image_url:\n",
        "            try:\n",
        "                encoded_url = urllib.parse.quote(image_url, safe='/:')\n",
        "                display(Image(url=encoded_url, embed=True, width=200, height=200))\n",
        "            except Exception as e:\n",
        "                print(f\"Error displaying image for ASIN {asin}: {e}\")\n",
        "        else:\n",
        "            display(HTML(\"<p>Image not available</p>\"))\n",
        "\n",
        "        display(HTML(\"<hr>\"))\n",
        "\n",
        "\n",
        "product_id = 'B0174RGJEW'\n",
        "top_products = recommend_products_brand_similarity_rating(product_id, 10, data)\n",
        "display_recommended_products(top_products, data)"
      ]
    }
  ],
  "metadata": {
    "colab": {
      "provenance": []
    },
    "kernelspec": {
      "display_name": "Python 3",
      "name": "python3"
    },
    "language_info": {
      "name": "python"
    }
  },
  "nbformat": 4,
  "nbformat_minor": 0
}