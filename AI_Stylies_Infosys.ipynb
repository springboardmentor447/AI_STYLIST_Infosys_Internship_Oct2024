{
  "cells": [
    {
      "cell_type": "code",
      "execution_count": 4,
      "metadata": {
        "id": "SsbSgdIwoU5m"
      },
      "outputs": [],
      "source": [
        "import pandas as pd\n",
        "import numpy as np\n",
        "import seaborn as sns\n",
        "import matplotlib.pyplot as plt\n",
        "import json\n",
        "\n"
      ]
    },
    {
      "cell_type": "code",
      "execution_count": 9,
      "metadata": {
        "colab": {
          "base_uri": "https://localhost:8080/"
        },
        "id": "otUc9OlXYLiG",
        "outputId": "e7230a81-92b0-4226-ef9d-57b99e70c4f9"
      },
      "outputs": [
        {
          "output_type": "stream",
          "name": "stdout",
          "text": [
            "Skipping line due to error: Unterminated string starting at: line 1 column 1139 (char 1138)\n"
          ]
        }
      ],
      "source": [
        "data = []\n",
        "with open(\"/fashion_products_data.json\", encoding=\"utf-8\") as f:\n",
        "    for line in f:\n",
        "        try:\n",
        "            data.append(json.loads(line.strip()))\n",
        "        except json.JSONDecodeError as e:\n",
        "            print(f\"Skipping line due to error: {e}\")\n",
        "\n",
        "df = pd.DataFrame(data)"
      ]
    },
    {
      "cell_type": "code",
      "source": [
        "print(df.head())\n"
      ],
      "metadata": {
        "colab": {
          "base_uri": "https://localhost:8080/"
        },
        "id": "TLAiViXH4CKb",
        "outputId": "b56a82d2-5a35-4012-9061-e889cd34be70"
      },
      "execution_count": 10,
      "outputs": [
        {
          "output_type": "stream",
          "name": "stdout",
          "text": [
            "                            uniq_id            crawl_timestamp        asin  \\\n",
            "0  26d41bdc1495de290bc8e6062d927729  2020-02-07 05:11:36 +0000  B07STS2W9T   \n",
            "1  410c62298852e68f34c35560f2311e5a  2020-02-07 08:45:56 +0000  B07N6TD2WL   \n",
            "2  52e31bb31680b0ec73de0d781a23cc0a  2020-02-06 11:09:38 +0000  B07WJ6WPN1   \n",
            "3  25798d6dc43239c118452d1bee0fb088  2020-02-07 08:32:45 +0000  B07PYSF4WZ   \n",
            "4  ad8a5a196d515ef09dfdaf082bdc37c4  2020-02-06 14:27:48 +0000  B082KXNM7X   \n",
            "\n",
            "                                         product_url  \\\n",
            "0  https://www.amazon.in/Facon-Kalamkari-Handbloc...   \n",
            "1  https://www.amazon.in/Sf-Jeans-Pantaloons-T-Sh...   \n",
            "2  https://www.amazon.in/LOVISTA-Traditional-Prin...   \n",
            "3  https://www.amazon.in/People-Printed-Regular-T...   \n",
            "4  https://www.amazon.in/Monte-Carlo-Cotton-Colla...   \n",
            "\n",
            "                                        product_name  \\\n",
            "0  LA' Facon Cotton Kalamkari Handblock Saree Blo...   \n",
            "1  Sf Jeans By Pantaloons Men's Plain Slim fit T-...   \n",
            "2  LOVISTA Cotton Gota Patti Tassel Traditional P...   \n",
            "3           People Men's Printed Regular fit T-Shirt   \n",
            "4  Monte Carlo Grey Solid Cotton Blend Polo Colla...   \n",
            "\n",
            "                                   image_urls__small  \\\n",
            "0  https://images-na.ssl-images-amazon.com/images...   \n",
            "1  https://images-na.ssl-images-amazon.com/images...   \n",
            "2  https://images-na.ssl-images-amazon.com/images...   \n",
            "3  https://images-na.ssl-images-amazon.com/images...   \n",
            "4  https://images-na.ssl-images-amazon.com/images...   \n",
            "\n",
            "                                              medium  \\\n",
            "0  https://images-na.ssl-images-amazon.com/images...   \n",
            "1  https://images-na.ssl-images-amazon.com/images...   \n",
            "2  https://images-na.ssl-images-amazon.com/images...   \n",
            "3  https://images-na.ssl-images-amazon.com/images...   \n",
            "4  https://images-na.ssl-images-amazon.com/images...   \n",
            "\n",
            "                                               large  browsenode      brand  \\\n",
            "0  https://images-na.ssl-images-amazon.com/images...  1968255031  LA' Facon   \n",
            "1  https://images-na.ssl-images-amazon.com/images...  1968123031        NaN   \n",
            "2  https://images-na.ssl-images-amazon.com/images...  1968255031    LOVISTA   \n",
            "3  https://images-na.ssl-images-amazon.com/images...  1968123031        NaN   \n",
            "4  https://images-na.ssl-images-amazon.com/images...  1968070031        NaN   \n",
            "\n",
            "   ... colour no__of_reviews seller_name seller_id left_in_stock  \\\n",
            "0  ...    NaN            NaN         NaN       NaN           NaN   \n",
            "1  ...    NaN            NaN         NaN       NaN           NaN   \n",
            "2  ...    NaN            NaN         NaN       NaN           NaN   \n",
            "3  ...    NaN            NaN         NaN       NaN           NaN   \n",
            "4  ...    NaN            NaN         NaN       NaN           NaN   \n",
            "\n",
            "  no__of_offers no__of_sellers technical_details__k_v_pairs  \\\n",
            "0           NaN            NaN                          NaN   \n",
            "1           NaN            NaN                          NaN   \n",
            "2           NaN            NaN                          NaN   \n",
            "3           NaN            NaN                          NaN   \n",
            "4           NaN            NaN                          NaN   \n",
            "\n",
            "  formats___editions name_of_author_for_books  \n",
            "0                NaN                      NaN  \n",
            "1                NaN                      NaN  \n",
            "2                NaN                      NaN  \n",
            "3                NaN                      NaN  \n",
            "4                NaN                      NaN  \n",
            "\n",
            "[5 rows x 33 columns]\n"
          ]
        }
      ]
    },
    {
      "cell_type": "code",
      "source": [
        "# Show the first 5 rows\n",
        "print(df.head())\n",
        "\n",
        "# Check data types and non-null count\n",
        "print(df.info())\n",
        "\n",
        "# Check for missing values\n",
        "print(df.isnull().sum())\n"
      ],
      "metadata": {
        "colab": {
          "base_uri": "https://localhost:8080/"
        },
        "id": "Z_dG6c874J9K",
        "outputId": "1924498e-90aa-4943-e3f8-8080f74ac694"
      },
      "execution_count": 11,
      "outputs": [
        {
          "output_type": "stream",
          "name": "stdout",
          "text": [
            "                            uniq_id            crawl_timestamp        asin  \\\n",
            "0  26d41bdc1495de290bc8e6062d927729  2020-02-07 05:11:36 +0000  B07STS2W9T   \n",
            "1  410c62298852e68f34c35560f2311e5a  2020-02-07 08:45:56 +0000  B07N6TD2WL   \n",
            "2  52e31bb31680b0ec73de0d781a23cc0a  2020-02-06 11:09:38 +0000  B07WJ6WPN1   \n",
            "3  25798d6dc43239c118452d1bee0fb088  2020-02-07 08:32:45 +0000  B07PYSF4WZ   \n",
            "4  ad8a5a196d515ef09dfdaf082bdc37c4  2020-02-06 14:27:48 +0000  B082KXNM7X   \n",
            "\n",
            "                                         product_url  \\\n",
            "0  https://www.amazon.in/Facon-Kalamkari-Handbloc...   \n",
            "1  https://www.amazon.in/Sf-Jeans-Pantaloons-T-Sh...   \n",
            "2  https://www.amazon.in/LOVISTA-Traditional-Prin...   \n",
            "3  https://www.amazon.in/People-Printed-Regular-T...   \n",
            "4  https://www.amazon.in/Monte-Carlo-Cotton-Colla...   \n",
            "\n",
            "                                        product_name  \\\n",
            "0  LA' Facon Cotton Kalamkari Handblock Saree Blo...   \n",
            "1  Sf Jeans By Pantaloons Men's Plain Slim fit T-...   \n",
            "2  LOVISTA Cotton Gota Patti Tassel Traditional P...   \n",
            "3           People Men's Printed Regular fit T-Shirt   \n",
            "4  Monte Carlo Grey Solid Cotton Blend Polo Colla...   \n",
            "\n",
            "                                   image_urls__small  \\\n",
            "0  https://images-na.ssl-images-amazon.com/images...   \n",
            "1  https://images-na.ssl-images-amazon.com/images...   \n",
            "2  https://images-na.ssl-images-amazon.com/images...   \n",
            "3  https://images-na.ssl-images-amazon.com/images...   \n",
            "4  https://images-na.ssl-images-amazon.com/images...   \n",
            "\n",
            "                                              medium  \\\n",
            "0  https://images-na.ssl-images-amazon.com/images...   \n",
            "1  https://images-na.ssl-images-amazon.com/images...   \n",
            "2  https://images-na.ssl-images-amazon.com/images...   \n",
            "3  https://images-na.ssl-images-amazon.com/images...   \n",
            "4  https://images-na.ssl-images-amazon.com/images...   \n",
            "\n",
            "                                               large  browsenode      brand  \\\n",
            "0  https://images-na.ssl-images-amazon.com/images...  1968255031  LA' Facon   \n",
            "1  https://images-na.ssl-images-amazon.com/images...  1968123031        NaN   \n",
            "2  https://images-na.ssl-images-amazon.com/images...  1968255031    LOVISTA   \n",
            "3  https://images-na.ssl-images-amazon.com/images...  1968123031        NaN   \n",
            "4  https://images-na.ssl-images-amazon.com/images...  1968070031        NaN   \n",
            "\n",
            "   ... colour no__of_reviews seller_name seller_id left_in_stock  \\\n",
            "0  ...    NaN            NaN         NaN       NaN           NaN   \n",
            "1  ...    NaN            NaN         NaN       NaN           NaN   \n",
            "2  ...    NaN            NaN         NaN       NaN           NaN   \n",
            "3  ...    NaN            NaN         NaN       NaN           NaN   \n",
            "4  ...    NaN            NaN         NaN       NaN           NaN   \n",
            "\n",
            "  no__of_offers no__of_sellers technical_details__k_v_pairs  \\\n",
            "0           NaN            NaN                          NaN   \n",
            "1           NaN            NaN                          NaN   \n",
            "2           NaN            NaN                          NaN   \n",
            "3           NaN            NaN                          NaN   \n",
            "4           NaN            NaN                          NaN   \n",
            "\n",
            "  formats___editions name_of_author_for_books  \n",
            "0                NaN                      NaN  \n",
            "1                NaN                      NaN  \n",
            "2                NaN                      NaN  \n",
            "3                NaN                      NaN  \n",
            "4                NaN                      NaN  \n",
            "\n",
            "[5 rows x 33 columns]\n",
            "<class 'pandas.core.frame.DataFrame'>\n",
            "RangeIndex: 17009 entries, 0 to 17008\n",
            "Data columns (total 33 columns):\n",
            " #   Column                         Non-Null Count  Dtype \n",
            "---  ------                         --------------  ----- \n",
            " 0   uniq_id                        17009 non-null  object\n",
            " 1   crawl_timestamp                17009 non-null  object\n",
            " 2   asin                           17009 non-null  object\n",
            " 3   product_url                    17009 non-null  object\n",
            " 4   product_name                   17009 non-null  object\n",
            " 5   image_urls__small              17007 non-null  object\n",
            " 6   medium                         17007 non-null  object\n",
            " 7   large                          16337 non-null  object\n",
            " 8   browsenode                     16722 non-null  object\n",
            " 9   brand                          12373 non-null  object\n",
            " 10  sales_price                    15432 non-null  object\n",
            " 11  weight                         17009 non-null  object\n",
            " 12  rating                         17009 non-null  object\n",
            " 13  sales_rank_in_parent_category  14493 non-null  object\n",
            " 14  sales_rank_in_child_category   14135 non-null  object\n",
            " 15  delivery_type                  17009 non-null  object\n",
            " 16  meta_keywords                  17009 non-null  object\n",
            " 17  amazon_prime__y_or_n           17009 non-null  object\n",
            " 18  parent___child_category__all   14493 non-null  object\n",
            " 19  best_seller_tag__y_or_n        17009 non-null  object\n",
            " 20  other_items_customers_buy      13853 non-null  object\n",
            " 21  product_details__k_v_pairs     16360 non-null  object\n",
            " 22  discount_percentage            8366 non-null   object\n",
            " 23  colour                         3400 non-null   object\n",
            " 24  no__of_reviews                 1922 non-null   object\n",
            " 25  seller_name                    4869 non-null   object\n",
            " 26  seller_id                      4869 non-null   object\n",
            " 27  left_in_stock                  1755 non-null   object\n",
            " 28  no__of_offers                  606 non-null    object\n",
            " 29  no__of_sellers                 606 non-null    object\n",
            " 30  technical_details__k_v_pairs   627 non-null    object\n",
            " 31  formats___editions             2 non-null      object\n",
            " 32  name_of_author_for_books       1 non-null      object\n",
            "dtypes: object(33)\n",
            "memory usage: 4.3+ MB\n",
            "None\n",
            "uniq_id                              0\n",
            "crawl_timestamp                      0\n",
            "asin                                 0\n",
            "product_url                          0\n",
            "product_name                         0\n",
            "image_urls__small                    2\n",
            "medium                               2\n",
            "large                              672\n",
            "browsenode                         287\n",
            "brand                             4636\n",
            "sales_price                       1577\n",
            "weight                               0\n",
            "rating                               0\n",
            "sales_rank_in_parent_category     2516\n",
            "sales_rank_in_child_category      2874\n",
            "delivery_type                        0\n",
            "meta_keywords                        0\n",
            "amazon_prime__y_or_n                 0\n",
            "parent___child_category__all      2516\n",
            "best_seller_tag__y_or_n              0\n",
            "other_items_customers_buy         3156\n",
            "product_details__k_v_pairs         649\n",
            "discount_percentage               8643\n",
            "colour                           13609\n",
            "no__of_reviews                   15087\n",
            "seller_name                      12140\n",
            "seller_id                        12140\n",
            "left_in_stock                    15254\n",
            "no__of_offers                    16403\n",
            "no__of_sellers                   16403\n",
            "technical_details__k_v_pairs     16382\n",
            "formats___editions               17007\n",
            "name_of_author_for_books         17008\n",
            "dtype: int64\n"
          ]
        }
      ]
    },
    {
      "cell_type": "code",
      "source": [
        "# Selecting only the required columns\n",
        "df_selected = df[['asin', 'product_url', 'product_name', 'sales_price', 'rating', 'meta_keywords', 'medium', 'brand']]\n"
      ],
      "metadata": {
        "id": "pcb81Jer4Ucx"
      },
      "execution_count": 13,
      "outputs": []
    },
    {
      "cell_type": "code",
      "source": [
        "print(df_selected.head())\n"
      ],
      "metadata": {
        "colab": {
          "base_uri": "https://localhost:8080/"
        },
        "id": "fpLhiU_o4j9r",
        "outputId": "88c018b5-a161-4481-cbe9-033a301fff9f"
      },
      "execution_count": 14,
      "outputs": [
        {
          "output_type": "stream",
          "name": "stdout",
          "text": [
            "         asin                                        product_url  \\\n",
            "0  B07STS2W9T  https://www.amazon.in/Facon-Kalamkari-Handbloc...   \n",
            "1  B07N6TD2WL  https://www.amazon.in/Sf-Jeans-Pantaloons-T-Sh...   \n",
            "2  B07WJ6WPN1  https://www.amazon.in/LOVISTA-Traditional-Prin...   \n",
            "3  B07PYSF4WZ  https://www.amazon.in/People-Printed-Regular-T...   \n",
            "4  B082KXNM7X  https://www.amazon.in/Monte-Carlo-Cotton-Colla...   \n",
            "\n",
            "                                        product_name sales_price rating  \\\n",
            "0  LA' Facon Cotton Kalamkari Handblock Saree Blo...      200.00    5.0   \n",
            "1  Sf Jeans By Pantaloons Men's Plain Slim fit T-...      265.00    3.6   \n",
            "2  LOVISTA Cotton Gota Patti Tassel Traditional P...      660.00    3.5   \n",
            "3           People Men's Printed Regular fit T-Shirt      195.00    3.0   \n",
            "4  Monte Carlo Grey Solid Cotton Blend Polo Colla...     1914.00    5.0   \n",
            "\n",
            "                                       meta_keywords  \\\n",
            "0  LA' Facon Cotton Kalamkari Handblock Saree Blo...   \n",
            "1  Sf Jeans By Pantaloons Men's Plain Slim fit T-...   \n",
            "2  LOVISTA Cotton Gota Patti Tassel Traditional P...   \n",
            "3    People Men's Printed Regular fit T-Shirt,People   \n",
            "4  Monte Carlo Grey Solid Cotton Blend Polo Colla...   \n",
            "\n",
            "                                              medium      brand  \n",
            "0  https://images-na.ssl-images-amazon.com/images...  LA' Facon  \n",
            "1  https://images-na.ssl-images-amazon.com/images...        NaN  \n",
            "2  https://images-na.ssl-images-amazon.com/images...    LOVISTA  \n",
            "3  https://images-na.ssl-images-amazon.com/images...        NaN  \n",
            "4  https://images-na.ssl-images-amazon.com/images...        NaN  \n"
          ]
        }
      ]
    },
    {
      "cell_type": "code",
      "source": [
        "import re\n",
        "\n",
        "# Removing special characters from the product_name column\n",
        "df_selected['product_name'] = df_selected['product_name'].str.replace(r'[^A-Za-z0-9\\s]+', '', regex=True)\n",
        "print(df_selected[['product_name']].head())\n"
      ],
      "metadata": {
        "colab": {
          "base_uri": "https://localhost:8080/"
        },
        "id": "A7E6BIKT4_aU",
        "outputId": "5131c87d-0f52-4423-f50c-11409c8f69b5"
      },
      "execution_count": 16,
      "outputs": [
        {
          "output_type": "stream",
          "name": "stdout",
          "text": [
            "                                        product_name\n",
            "0  LA Facon Cotton Kalamkari Handblock Saree Blou...\n",
            "1  Sf Jeans By Pantaloons Mens Plain Slim fit TShirt\n",
            "2  LOVISTA Cotton Gota Patti Tassel Traditional P...\n",
            "3             People Mens Printed Regular fit TShirt\n",
            "4  Monte Carlo Grey Solid Cotton Blend Polo Colla...\n"
          ]
        },
        {
          "output_type": "stream",
          "name": "stderr",
          "text": [
            "<ipython-input-16-13e3d2e1677e>:4: SettingWithCopyWarning: \n",
            "A value is trying to be set on a copy of a slice from a DataFrame.\n",
            "Try using .loc[row_indexer,col_indexer] = value instead\n",
            "\n",
            "See the caveats in the documentation: https://pandas.pydata.org/pandas-docs/stable/user_guide/indexing.html#returning-a-view-versus-a-copy\n",
            "  df_selected['product_name'] = df_selected['product_name'].str.replace(r'[^A-Za-z0-9\\s]+', '', regex=True)\n"
          ]
        }
      ]
    },
    {
      "cell_type": "code",
      "source": [
        "import nltk\n",
        "nltk.download('stopwords')\n",
        "from nltk.corpus import stopwords\n",
        "# Define the list of stopwords\n",
        "stop_words = set(stopwords.words('english'))\n",
        "\n",
        "# Remove stopwords from product_name\n",
        "df_selected['product_name'] = df_selected['product_name'].apply(lambda x: ' '.join([word for word in x.split() if word.lower() not in stop_words]))\n",
        "print(df_selected[['product_name']].head())\n"
      ],
      "metadata": {
        "colab": {
          "base_uri": "https://localhost:8080/"
        },
        "id": "xsyJZYUy6uFX",
        "outputId": "ed9a9821-7803-45d7-d640-d304e1c73ee4"
      },
      "execution_count": 17,
      "outputs": [
        {
          "output_type": "stream",
          "name": "stdout",
          "text": [
            "                                        product_name\n",
            "0  LA Facon Cotton Kalamkari Handblock Saree Blou...\n",
            "1     Sf Jeans Pantaloons Mens Plain Slim fit TShirt\n",
            "2  LOVISTA Cotton Gota Patti Tassel Traditional P...\n",
            "3             People Mens Printed Regular fit TShirt\n",
            "4  Monte Carlo Grey Solid Cotton Blend Polo Colla...\n"
          ]
        },
        {
          "output_type": "stream",
          "name": "stderr",
          "text": [
            "[nltk_data] Downloading package stopwords to /root/nltk_data...\n",
            "[nltk_data]   Unzipping corpora/stopwords.zip.\n",
            "<ipython-input-17-fbb509b581b8>:8: SettingWithCopyWarning: \n",
            "A value is trying to be set on a copy of a slice from a DataFrame.\n",
            "Try using .loc[row_indexer,col_indexer] = value instead\n",
            "\n",
            "See the caveats in the documentation: https://pandas.pydata.org/pandas-docs/stable/user_guide/indexing.html#returning-a-view-versus-a-copy\n",
            "  df_selected['product_name'] = df_selected['product_name'].apply(lambda x: ' '.join([word for word in x.split() if word.lower() not in stop_words]))\n"
          ]
        }
      ]
    },
    {
      "cell_type": "code",
      "source": [
        "import nltk\n",
        "nltk.download('words')\n",
        "from nltk.corpus import words\n",
        "\n",
        "# Define the set of English words\n",
        "english_words = set(words.words())\n",
        "\n",
        "# Remove non-English words from product_name\n",
        "df_selected['product_name'] = df_selected['product_name'].apply(\n",
        "    lambda x: ' '.join([word for word in x.split() if word.lower() in english_words])\n",
        ")\n",
        "print(df_selected[['product_name']].head())\n",
        "\n"
      ],
      "metadata": {
        "colab": {
          "base_uri": "https://localhost:8080/"
        },
        "id": "bjnaPj1E64J3",
        "outputId": "7c1b2eab-8c5f-4cb2-afed-edd555d39e28"
      },
      "execution_count": 18,
      "outputs": [
        {
          "output_type": "stream",
          "name": "stderr",
          "text": [
            "[nltk_data] Downloading package words to /root/nltk_data...\n"
          ]
        },
        {
          "output_type": "stream",
          "name": "stdout",
          "text": [
            "                                product_name\n",
            "0  LA Cotton Blouse Fabric Black Base Cotton\n",
            "1            Jeans Pantaloons Plain Slim fit\n",
            "2     Cotton Tassel Traditional Printed Suit\n",
            "3                 People Printed Regular fit\n",
            "4  Monte Grey Solid Cotton Blend Polo Collar\n"
          ]
        },
        {
          "output_type": "stream",
          "name": "stderr",
          "text": [
            "[nltk_data]   Unzipping corpora/words.zip.\n",
            "<ipython-input-18-7826d21066e1>:9: SettingWithCopyWarning: \n",
            "A value is trying to be set on a copy of a slice from a DataFrame.\n",
            "Try using .loc[row_indexer,col_indexer] = value instead\n",
            "\n",
            "See the caveats in the documentation: https://pandas.pydata.org/pandas-docs/stable/user_guide/indexing.html#returning-a-view-versus-a-copy\n",
            "  df_selected['product_name'] = df_selected['product_name'].apply(\n"
          ]
        }
      ]
    },
    {
      "cell_type": "code",
      "source": [
        "#convert short form to long form"
      ],
      "metadata": {
        "id": "1-EupCzv84Ip"
      },
      "execution_count": null,
      "outputs": []
    },
    {
      "cell_type": "code",
      "source": [
        "import nltk\n",
        "from nltk.stem import PorterStemmer\n",
        "\n",
        "# Initialize the stemmer\n",
        "stemmer = PorterStemmer()\n",
        "from nltk.stem import LancasterStemmer\n",
        "\n",
        "# Initialize the stemmer\n",
        "stemmer = LancasterStemmer()\n",
        "\n",
        "# Apply stemming to each word in the product_name column\n",
        "df_selected['product_name'] = df_selected['product_name'].apply(\n",
        "    lambda x: ' '.join([stemmer.stem(word) for word in x.split()])\n",
        ")\n",
        "print(df_selected[['product_name']].head())\n"
      ],
      "metadata": {
        "colab": {
          "base_uri": "https://localhost:8080/"
        },
        "id": "_kUoLOIV7yUg",
        "outputId": "a5b721a7-dbd0-4b4c-f62f-ab835706c4da"
      },
      "execution_count": 20,
      "outputs": [
        {
          "output_type": "stream",
          "name": "stdout",
          "text": [
            "                             product_name\n",
            "0   la cotton blous fabr black bas cotton\n",
            "1           jean pantaloon plain slim fit\n",
            "2         cotton tassel tradit print suit\n",
            "3                   peopl print regul fit\n",
            "4  mont grey solid cotton blend polo coll\n"
          ]
        },
        {
          "output_type": "stream",
          "name": "stderr",
          "text": [
            "<ipython-input-20-fe5f94abe03b>:12: SettingWithCopyWarning: \n",
            "A value is trying to be set on a copy of a slice from a DataFrame.\n",
            "Try using .loc[row_indexer,col_indexer] = value instead\n",
            "\n",
            "See the caveats in the documentation: https://pandas.pydata.org/pandas-docs/stable/user_guide/indexing.html#returning-a-view-versus-a-copy\n",
            "  df_selected['product_name'] = df_selected['product_name'].apply(\n"
          ]
        }
      ]
    }
  ],
  "metadata": {
    "colab": {
      "provenance": []
    },
    "kernelspec": {
      "display_name": "Python 3",
      "name": "python3"
    },
    "language_info": {
      "name": "python"
    }
  },
  "nbformat": 4,
  "nbformat_minor": 0
}