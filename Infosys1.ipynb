{
 "cells": [
  {
   "cell_type": "code",
   "execution_count": 1,
   "id": "0dfc051d-433e-456c-9cc1-032e1eef9517",
   "metadata": {},
   "outputs": [
    {
     "name": "stdout",
     "output_type": "stream",
     "text": [
      "                            uniq_id            crawl_timestamp        asin  \\\n",
      "0  26d41bdc1495de290bc8e6062d927729  2020-02-07 05:11:36 +0000  B07STS2W9T   \n",
      "1  410c62298852e68f34c35560f2311e5a  2020-02-07 08:45:56 +0000  B07N6TD2WL   \n",
      "2  52e31bb31680b0ec73de0d781a23cc0a  2020-02-06 11:09:38 +0000  B07WJ6WPN1   \n",
      "3  25798d6dc43239c118452d1bee0fb088  2020-02-07 08:32:45 +0000  B07PYSF4WZ   \n",
      "4  ad8a5a196d515ef09dfdaf082bdc37c4  2020-02-06 14:27:48 +0000  B082KXNM7X   \n",
      "\n",
      "                                         product_url  \\\n",
      "0  https://www.amazon.in/Facon-Kalamkari-Handbloc...   \n",
      "1  https://www.amazon.in/Sf-Jeans-Pantaloons-T-Sh...   \n",
      "2  https://www.amazon.in/LOVISTA-Traditional-Prin...   \n",
      "3  https://www.amazon.in/People-Printed-Regular-T...   \n",
      "4  https://www.amazon.in/Monte-Carlo-Cotton-Colla...   \n",
      "\n",
      "                                        product_name  \\\n",
      "0  LA' Facon Cotton Kalamkari Handblock Saree Blo...   \n",
      "1  Sf Jeans By Pantaloons Men's Plain Slim fit T-...   \n",
      "2  LOVISTA Cotton Gota Patti Tassel Traditional P...   \n",
      "3           People Men's Printed Regular fit T-Shirt   \n",
      "4  Monte Carlo Grey Solid Cotton Blend Polo Colla...   \n",
      "\n",
      "                                   image_urls__small  \\\n",
      "0  https://images-na.ssl-images-amazon.com/images...   \n",
      "1  https://images-na.ssl-images-amazon.com/images...   \n",
      "2  https://images-na.ssl-images-amazon.com/images...   \n",
      "3  https://images-na.ssl-images-amazon.com/images...   \n",
      "4  https://images-na.ssl-images-amazon.com/images...   \n",
      "\n",
      "                                              medium  \\\n",
      "0  https://images-na.ssl-images-amazon.com/images...   \n",
      "1  https://images-na.ssl-images-amazon.com/images...   \n",
      "2  https://images-na.ssl-images-amazon.com/images...   \n",
      "3  https://images-na.ssl-images-amazon.com/images...   \n",
      "4  https://images-na.ssl-images-amazon.com/images...   \n",
      "\n",
      "                                               large    browsenode      brand  \\\n",
      "0  https://images-na.ssl-images-amazon.com/images...  1.968255e+09  LA' Facon   \n",
      "1  https://images-na.ssl-images-amazon.com/images...  1.968123e+09        NaN   \n",
      "2  https://images-na.ssl-images-amazon.com/images...  1.968255e+09    LOVISTA   \n",
      "3  https://images-na.ssl-images-amazon.com/images...  1.968123e+09        NaN   \n",
      "4  https://images-na.ssl-images-amazon.com/images...  1.968070e+09        NaN   \n",
      "\n",
      "   ...                                      meta_keywords  \\\n",
      "0  ...  LA' Facon Cotton Kalamkari Handblock Saree Blo...   \n",
      "1  ...  Sf Jeans By Pantaloons Men's Plain Slim fit T-...   \n",
      "2  ...  LOVISTA Cotton Gota Patti Tassel Traditional P...   \n",
      "3  ...    People Men's Printed Regular fit T-Shirt,People   \n",
      "4  ...  Monte Carlo Grey Solid Cotton Blend Polo Colla...   \n",
      "\n",
      "  amazon_prime__y_or_n                       parent___child_category__all  \\\n",
      "0                    N  {'ClothingAccessories': '#19,259', 'WomensKurt...   \n",
      "1                    N  {'ClothingAccessories': '#1,59,062', 'MensT_Sh...   \n",
      "2                    Y  {'ClothingAccessories': '#1,050', 'WomensKurta...   \n",
      "3                    N  {'ClothingAccessories': '#2,47,234', 'MensT_Sh...   \n",
      "4                    Y  {'ClothingAccessories': '#13,980', 'MensTracks...   \n",
      "\n",
      "  best_seller_tag__y_or_n                          other_items_customers_buy  \\\n",
      "0                       N  Cotton Kalamkari Handblock Saree Blouse/Kurti ...   \n",
      "1                       N  Sf Jeans By Pantaloons Men's Slim fit T-Shirt ...   \n",
      "2                       N  Stylum Women's Cotton Floral Print Straight ku...   \n",
      "3                       N  People Men's Printed Regular Fit T-Shirt | Lee...   \n",
      "4                       N  Monte Carlo Grey Solid Cotton Blend Polo Colla...   \n",
      "\n",
      "                          product_details__k_v_pairs discount_percentage  \\\n",
      "0  {'Item_part_number': 'Devi face', 'ASIN': 'B07...                 NaN   \n",
      "1  {'ASIN': 'B07N6TD2WL', 'Date_first_available_a...                 NaN   \n",
      "2  {'Item_part_number': 'KUM-011', 'ASIN': 'B07WJ...                 NaN   \n",
      "3  {'ASIN': 'B07PYSF4WZ', 'Date_first_available_a...                 NaN   \n",
      "4  {'Item_part_number': 'BBAPLMC154483', 'ASIN': ...                 40%   \n",
      "\n",
      "  colour seller_name seller_id  \n",
      "0    NaN         NaN       NaN  \n",
      "1    NaN         NaN       NaN  \n",
      "2    NaN         NaN       NaN  \n",
      "3    NaN         NaN       NaN  \n",
      "4    NaN         NaN       NaN  \n",
      "\n",
      "[5 rows x 26 columns]\n"
     ]
    }
   ],
   "source": [
    "#outliers...\n",
    "import pandas as pd\n",
    "import numpy as np\n",
    "\n",
    "# File path to your dataset\n",
    "file_path = 'C:/Users/ADMIN/Downloads/fashion_product_data.ldjson'\n",
    "\n",
    "# Load the Line-delimited JSON (ldjson) dataset\n",
    "df = pd.read_json(file_path, lines=True)\n",
    "\n",
    "# Check for missing values\n",
    "missing_values = df.isnull().sum()\n",
    "\n",
    "# Remove columns with more than 20% missing values\n",
    "threshold = 0.2 * len(df)\n",
    "df = df.dropna(axis=1, thresh=threshold)\n",
    "\n",
    "# Impute remaining missing values with median\n",
    "df.fillna(df.median(numeric_only=True), inplace=True)\n",
    "\n",
    "# Output the first few rows to verify\n",
    "print(df.head())\n"
   ]
  },
  {
   "cell_type": "code",
   "execution_count": 3,
   "id": "8101eecb-9285-4c23-abe1-9844de9474ff",
   "metadata": {},
   "outputs": [
    {
     "name": "stdout",
     "output_type": "stream",
     "text": [
      "Missing values before processing:\n",
      " uniq_id                              0\n",
      "crawl_timestamp                      0\n",
      "asin                                 0\n",
      "product_url                          0\n",
      "product_name                         0\n",
      "image_urls__small                    2\n",
      "medium                               2\n",
      "large                             1159\n",
      "browsenode                         520\n",
      "brand                             8143\n",
      "sales_price                       2890\n",
      "weight                               0\n",
      "rating                               0\n",
      "sales_rank_in_parent_category     4503\n",
      "sales_rank_in_child_category      5149\n",
      "delivery_type                        0\n",
      "meta_keywords                        0\n",
      "amazon_prime__y_or_n                 0\n",
      "parent___child_category__all      4503\n",
      "best_seller_tag__y_or_n              0\n",
      "other_items_customers_buy         5637\n",
      "product_details__k_v_pairs        1183\n",
      "discount_percentage              15376\n",
      "colour                           23971\n",
      "no__of_reviews                   26548\n",
      "seller_name                      21636\n",
      "seller_id                        21636\n",
      "left_in_stock                    26943\n",
      "no__of_offers                    28980\n",
      "no__of_sellers                   28980\n",
      "technical_details__k_v_pairs     28846\n",
      "formats___editions               29998\n",
      "name_of_author_for_books         29999\n",
      "dtype: int64\n",
      "Columns after removing those with >20% missing values:\n",
      " Index(['uniq_id', 'crawl_timestamp', 'asin', 'product_url', 'product_name',\n",
      "       'image_urls__small', 'medium', 'large', 'browsenode', 'brand',\n",
      "       'sales_price', 'weight', 'rating', 'sales_rank_in_parent_category',\n",
      "       'sales_rank_in_child_category', 'delivery_type', 'meta_keywords',\n",
      "       'amazon_prime__y_or_n', 'parent___child_category__all',\n",
      "       'best_seller_tag__y_or_n', 'other_items_customers_buy',\n",
      "       'product_details__k_v_pairs', 'discount_percentage', 'colour',\n",
      "       'seller_name', 'seller_id'],\n",
      "      dtype='object')\n"
     ]
    }
   ],
   "source": [
    "import pandas as pd\n",
    "import numpy as np\n",
    "import matplotlib.pyplot as plt\n",
    "import seaborn as sns\n",
    "from scipy.stats import boxcox\n",
    "\n",
    "# File path to your dataset\n",
    "file_path = 'C:/Users/ADMIN/Downloads/fashion_product_data.ldjson'\n",
    "\n",
    "# Load the Line-delimited JSON (ldjson) dataset\n",
    "df = pd.read_json(file_path, lines=True)\n",
    "\n",
    "# Check for missing values\n",
    "missing_values = df.isnull().sum()\n",
    "print(\"Missing values before processing:\\n\", missing_values)\n",
    "\n",
    "# Remove columns with more than 20% missing values\n",
    "threshold = 0.2 * len(df)\n",
    "df = df.dropna(axis=1, thresh=threshold)\n",
    "print(\"Columns after removing those with >20% missing values:\\n\", df.columns)"
   ]
  },
  {
   "cell_type": "code",
   "execution_count": 5,
   "id": "29ad3d60-4241-4e81-a0d3-252ae4dd30e0",
   "metadata": {},
   "outputs": [],
   "source": [
    "# Impute remaining missing values with the median\n",
    "df.fillna(df.median(numeric_only=True), inplace=True)"
   ]
  },
  {
   "cell_type": "code",
   "execution_count": 7,
   "id": "29265f6f-c333-4030-9930-7546e2804f25",
   "metadata": {},
   "outputs": [],
   "source": [
    "# Identify numeric columns for outlier handling\n",
    "numeric_cols = df.select_dtypes(include=[np.number]).columns"
   ]
  },
  {
   "cell_type": "code",
   "execution_count": 9,
   "id": "f6e41967-4419-4d02-a256-6ec6897053f0",
   "metadata": {},
   "outputs": [],
   "source": [
    "# Handle Outliers Using IQR\n",
    "for col in numeric_cols:\n",
    "    Q1 = df[col].quantile(0.25)  # 25th percentile\n",
    "    Q3 = df[col].quantile(0.75)  # 75th percentile\n",
    "    IQR = Q3 - Q1\n",
    "    lower_bound = Q1 - 1.5 * IQR\n",
    "    upper_bound = Q3 + 1.5 * IQR\n",
    "    # Replace outliers\n",
    "    df[col] = np.where(df[col] < lower_bound, lower_bound, df[col])\n",
    "    df[col] = np.where(df[col] > upper_bound, upper_bound, df[col])"
   ]
  },
  {
   "cell_type": "code",
   "execution_count": 11,
   "id": "ef86b530-a273-4e46-bb92-6d3b22a9d9b8",
   "metadata": {},
   "outputs": [
    {
     "data": {
      "image/png": "[encoded data removed]",
      "text/plain": [
       "<Figure size 600x400 with 1 Axes>"
      ]
     },
     "metadata": {},
     "output_type": "display_data"
    },
    {
     "data": {
      "image/png": "[encoded data removed]",
      "text/plain": [
       "<Figure size 600x400 with 1 Axes>"
      ]
     },
     "metadata": {},
     "output_type": "display_data"
    },
    {
     "data": {
      "image/png": "[encoded data removed]",
      "text/plain": [
       "<Figure size 600x400 with 1 Axes>"
      ]
     },
     "metadata": {},
     "output_type": "display_data"
    }
   ],
   "source": [
    "# Visualization: Box Plots\n",
    "for col in numeric_cols:\n",
    "    plt.figure(figsize=(6, 4))\n",
    "    sns.boxplot(data=df, x=col)\n",
    "    plt.title(f\"Box Plot of {col}\")\n",
    "    plt.show()"
   ]
  },
  {
   "cell_type": "code",
   "execution_count": 13,
   "id": "bbcf6a84-4525-4b73-8dba-c15ce1b980bf",
   "metadata": {},
   "outputs": [
    {
     "data": {
      "image/png": "[encoded data removed]",
      "text/plain": [
       "<Figure size 800x600 with 1 Axes>"
      ]
     },
     "metadata": {},
     "output_type": "display_data"
    }
   ],
   "source": [
    "# Visualization: Scatter Plots\n",
    "if len(numeric_cols) > 1:\n",
    "    plt.figure(figsize=(8, 6))\n",
    "    sns.scatterplot(x=df[numeric_cols[0]], y=df[numeric_cols[1]])\n",
    "    plt.title(f\"Scatter Plot: {numeric_cols[0]} vs {numeric_cols[1]}\")\n",
    "    plt.show()"
   ]
  },
  {
   "cell_type": "code",
   "execution_count": 23,
   "id": "e00c8e51-0096-4955-9f6a-4526afa77807",
   "metadata": {},
   "outputs": [],
   "source": [
    "# Ensure positive values for log transformation\n",
    "if (df[log_col] >= 0).all():\n",
    "    df[f\"log_{log_col}\"] = np.log1p(df[log_col])\n",
    "else:\n",
    "    print(f\"Skipping log transformation for {log_col}, contains negative values.\")\n",
    "\n"
   ]
  },
  {
   "cell_type": "code",
   "execution_count": 25,
   "id": "a51b1157-decd-4bf2-8251-333344badbd8",
   "metadata": {},
   "outputs": [
    {
     "name": "stderr",
     "output_type": "stream",
     "text": [
      "C:\\ProgramData\\anaconda3\\Lib\\site-packages\\seaborn\\_oldcore.py:1119: FutureWarning: use_inf_as_na option is deprecated and will be removed in a future version. Convert inf values to NaN before operating instead.\n",
      "  with pd.option_context('mode.use_inf_as_na', True):\n"
     ]
    },
    {
     "data": {
      "image/png": "[encoded data removed]",
      "text/plain": [
       "<Figure size 600x400 with 1 Axes>"
      ]
     },
     "metadata": {},
     "output_type": "display_data"
    }
   ],
   "source": [
    "# Visualize Log Transformation Effect\n",
    "plt.figure(figsize=(6, 4))\n",
    "sns.histplot(df[f\"log_{log_col}\"], kde=True, bins=30)\n",
    "plt.title(f\"Log Transformation Effect on {log_col}\")\n",
    "plt.show()"
   ]
  },
  {
   "cell_type": "code",
   "execution_count": 29,
   "id": "62ae754d-a83a-4853-b58e-6ff868c107d1",
   "metadata": {},
   "outputs": [
    {
     "data": {
      "image/png": "[encoded data removed]",
      "text/plain": [
       "<Figure size 640x480 with 1 Axes>"
      ]
     },
     "metadata": {},
     "output_type": "display_data"
    },
    {
     "data": {
      "image/png": "[encoded data removed]",
      "text/plain": [
       "<Figure size 640x480 with 1 Axes>"
      ]
     },
     "metadata": {},
     "output_type": "display_data"
    },
    {
     "data": {
      "image/png": "[encoded data removed]",
      "text/plain": [
       "<Figure size 640x480 with 1 Axes>"
      ]
     },
     "metadata": {},
     "output_type": "display_data"
    }
   ],
   "source": [
    "#Use histograms or box plots to understand data distributions\n",
    "import matplotlib.pyplot as plt\n",
    "for col in numeric_cols:\n",
    "    plt.hist(df[col].dropna(), bins=30)\n",
    "    plt.title(f\"Distribution of {col}\")\n",
    "    plt.show()\n"
   ]
  },
  {
   "cell_type": "code",
   "execution_count": 31,
   "id": "c5c2303c-add9-4457-8380-fb50c1e45300",
   "metadata": {},
   "outputs": [],
   "source": [
    "# Removing columns with more than 50% null values\n",
    "threshold = len(df) * 0.5\n",
    "df = df.dropna(thresh=threshold, axis=1)\n"
   ]
  },
  {
   "cell_type": "code",
   "execution_count": 33,
   "id": "29a7ef79-09d5-45b6-b865-79f6de8a9813",
   "metadata": {},
   "outputs": [],
   "source": [
    "from scipy.stats import zscore\n",
    "\n",
    "# Calculate z-scores for numerical columns\n",
    "numeric_cols = df.select_dtypes(include=['float64', 'int64']).columns\n",
    "df = df[(zscore(df[numeric_cols]) < 3).all(axis=1)]"
   ]
  },
  {
   "cell_type": "code",
   "execution_count": 37,
   "id": "c8b1762f-f26a-4649-8247-32936bddf11a",
   "metadata": {},
   "outputs": [
    {
     "name": "stdout",
     "output_type": "stream",
     "text": [
      "Index(['uniq_id', 'crawl_timestamp', 'asin', 'product_url', 'product_name',\n",
      "       'image_urls__small', 'medium', 'large', 'browsenode', 'brand',\n",
      "       'sales_price', 'weight', 'rating', 'sales_rank_in_parent_category',\n",
      "       'sales_rank_in_child_category', 'delivery_type', 'meta_keywords',\n",
      "       'amazon_prime__y_or_n', 'parent___child_category__all',\n",
      "       'best_seller_tag__y_or_n', 'other_items_customers_buy',\n",
      "       'product_details__k_v_pairs', 'log_browsenode', 'boxcox_browsenode',\n",
      "       'boxcox_sales_price', 'boxcox_rating'],\n",
      "      dtype='object')\n"
     ]
    }
   ],
   "source": [
    "print(df.columns)  # List all columns in the DataFrame\n"
   ]
  },
  {
   "cell_type": "code",
   "execution_count": 39,
   "id": "0891e1cc-62bd-4674-9da7-bfc026f974f3",
   "metadata": {},
   "outputs": [
    {
     "name": "stdout",
     "output_type": "stream",
     "text": [
      "Series([], Name: product_name, dtype: object)\n",
      "0\n",
      "Series([], Name: count, dtype: int64)\n"
     ]
    }
   ],
   "source": [
    "print(df['product_name'].head())  # Preview the first few rows\n",
    "print(df['product_name'].isnull().sum())  # Count missing values\n",
    "print(df['product_name'].value_counts())  # Check value distribution\n"
   ]
  },
  {
   "cell_type": "code",
   "execution_count": 47,
   "id": "c20fcc53-bdb0-4fa2-8596-0eff5381910d",
   "metadata": {},
   "outputs": [
    {
     "name": "stdout",
     "output_type": "stream",
     "text": [
      "Dataset loaded successfully!\n",
      "                            uniq_id            crawl_timestamp        asin  \\\n",
      "0  26d41bdc1495de290bc8e6062d927729  2020-02-07 05:11:36 +0000  B07STS2W9T   \n",
      "1  410c62298852e68f34c35560f2311e5a  2020-02-07 08:45:56 +0000  B07N6TD2WL   \n",
      "2  52e31bb31680b0ec73de0d781a23cc0a  2020-02-06 11:09:38 +0000  B07WJ6WPN1   \n",
      "3  25798d6dc43239c118452d1bee0fb088  2020-02-07 08:32:45 +0000  B07PYSF4WZ   \n",
      "4  ad8a5a196d515ef09dfdaf082bdc37c4  2020-02-06 14:27:48 +0000  B082KXNM7X   \n",
      "\n",
      "                                         product_url  \\\n",
      "0  https://www.amazon.in/Facon-Kalamkari-Handbloc...   \n",
      "1  https://www.amazon.in/Sf-Jeans-Pantaloons-T-Sh...   \n",
      "2  https://www.amazon.in/LOVISTA-Traditional-Prin...   \n",
      "3  https://www.amazon.in/People-Printed-Regular-T...   \n",
      "4  https://www.amazon.in/Monte-Carlo-Cotton-Colla...   \n",
      "\n",
      "                                        product_name  \\\n",
      "0  LA' Facon Cotton Kalamkari Handblock Saree Blo...   \n",
      "1  Sf Jeans By Pantaloons Men's Plain Slim fit T-...   \n",
      "2  LOVISTA Cotton Gota Patti Tassel Traditional P...   \n",
      "3           People Men's Printed Regular fit T-Shirt   \n",
      "4  Monte Carlo Grey Solid Cotton Blend Polo Colla...   \n",
      "\n",
      "                                   image_urls__small  \\\n",
      "0  https://images-na.ssl-images-amazon.com/images...   \n",
      "1  https://images-na.ssl-images-amazon.com/images...   \n",
      "2  https://images-na.ssl-images-amazon.com/images...   \n",
      "3  https://images-na.ssl-images-amazon.com/images...   \n",
      "4  https://images-na.ssl-images-amazon.com/images...   \n",
      "\n",
      "                                              medium  \\\n",
      "0  https://images-na.ssl-images-amazon.com/images...   \n",
      "1  https://images-na.ssl-images-amazon.com/images...   \n",
      "2  https://images-na.ssl-images-amazon.com/images...   \n",
      "3  https://images-na.ssl-images-amazon.com/images...   \n",
      "4  https://images-na.ssl-images-amazon.com/images...   \n",
      "\n",
      "                                               large    browsenode      brand  \\\n",
      "0  https://images-na.ssl-images-amazon.com/images...  1.968255e+09  LA' Facon   \n",
      "1  https://images-na.ssl-images-amazon.com/images...  1.968123e+09        NaN   \n",
      "2  https://images-na.ssl-images-amazon.com/images...  1.968255e+09    LOVISTA   \n",
      "3  https://images-na.ssl-images-amazon.com/images...  1.968123e+09        NaN   \n",
      "4  https://images-na.ssl-images-amazon.com/images...  1.968070e+09        NaN   \n",
      "\n",
      "   ...  colour no__of_reviews  seller_name seller_id left_in_stock  \\\n",
      "0  ...     NaN            NaN          NaN       NaN           NaN   \n",
      "1  ...     NaN            NaN          NaN       NaN           NaN   \n",
      "2  ...     NaN            NaN          NaN       NaN           NaN   \n",
      "3  ...     NaN            NaN          NaN       NaN           NaN   \n",
      "4  ...     NaN            NaN          NaN       NaN           NaN   \n",
      "\n",
      "  no__of_offers no__of_sellers technical_details__k_v_pairs  \\\n",
      "0           NaN            NaN                          NaN   \n",
      "1           NaN            NaN                          NaN   \n",
      "2           NaN            NaN                          NaN   \n",
      "3           NaN            NaN                          NaN   \n",
      "4           NaN            NaN                          NaN   \n",
      "\n",
      "  formats___editions name_of_author_for_books  \n",
      "0                NaN                      NaN  \n",
      "1                NaN                      NaN  \n",
      "2                NaN                      NaN  \n",
      "3                NaN                      NaN  \n",
      "4                NaN                      NaN  \n",
      "\n",
      "[5 rows x 33 columns]\n",
      "\n",
      "Bag of Words Representation (First 10 Rows):\n",
      "   00  00033  0005  000570_pink_2  0006_multicoloerd_free  001  0013  \\\n",
      "0   0      0     0              0                       0    0     0   \n",
      "1   0      0     0              0                       0    0     0   \n",
      "2   0      0     0              0                       0    0     0   \n",
      "3   0      0     0              0                       0    0     0   \n",
      "4   0      0     0              0                       0    0     0   \n",
      "5   0      0     0              0                       0    0     0   \n",
      "6   0      0     0              0                       0    0     0   \n",
      "7   0      0     0              0                       0    0     0   \n",
      "8   0      0     0              0                       0    0     0   \n",
      "9   0      0     0              0                       0    0     0   \n",
      "\n",
      "   0013_orange  0017  00199boysswss  ...  zs  ztlvrpl05_black  zumba  zumka  \\\n",
      "0            0     0              0  ...   0                0      0      0   \n",
      "1            0     0              0  ...   0                0      0      0   \n",
      "2            0     0              0  ...   0                0      0      0   \n",
      "3            0     0              0  ...   0                0      0      0   \n",
      "4            0     0              0  ...   0                0      0      0   \n",
      "5            0     0              0  ...   0                0      0      0   \n",
      "6            0     0              0  ...   0                0      0      0   \n",
      "7            0     0              0  ...   0                0      0      0   \n",
      "8            0     0              0  ...   0                0      0      0   \n",
      "9            0     0              0  ...   0                0      0      0   \n",
      "\n",
      "   zunahme  zupaco  zutano  zysta  ââ  çhástîty  \n",
      "0        0       0       0      0   0         0  \n",
      "1        0       0       0      0   0         0  \n",
      "2        0       0       0      0   0         0  \n",
      "3        0       0       0      0   0         0  \n",
      "4        0       0       0      0   0         0  \n",
      "5        0       0       0      0   0         0  \n",
      "6        0       0       0      0   0         0  \n",
      "7        0       0       0      0   0         0  \n",
      "8        0       0       0      0   0         0  \n",
      "9        0       0       0      0   0         0  \n",
      "\n",
      "[10 rows x 16660 columns]\n"
     ]
    },
    {
     "data": {
      "text/plain": [
       "<Figure size 1200x600 with 0 Axes>"
      ]
     },
     "metadata": {},
     "output_type": "display_data"
    },
    {
     "data": {
      "image/png": "[encoded data removed]",
      "text/plain": [
       "<Figure size 640x480 with 1 Axes>"
      ]
     },
     "metadata": {},
     "output_type": "display_data"
    }
   ],
   "source": [
    "#Bag of words....\n",
    "\n",
    "import pandas as pd\n",
    "from sklearn.feature_extraction.text import CountVectorizer\n",
    "import matplotlib.pyplot as plt\n",
    "\n",
    "# Step 1: Load the dataset\n",
    "file_path = 'C:/Users/ADMIN/Downloads/fashion_product_data.ldjson'\n",
    "try:\n",
    "    # Reading the ldjson file\n",
    "    df = pd.read_json(file_path, lines=True)\n",
    "    print(\"Dataset loaded successfully!\")\n",
    "    print(df.head())  # Display the first few rows to understand the structure\n",
    "except Exception as e:\n",
    "    print(f\"Error loading dataset: {e}\")\n",
    "    exit()\n",
    "\n",
    "# Step 2: Inspect and preprocess the data\n",
    "# Assuming the column of interest is 'product_name' (adjust if necessary)\n",
    "if 'product_name' in df.columns: # ensure that the product name exits in the dataset\n",
    "    df['product_name'] = df['product_name'].astype(str).str.lower().str.strip()  #  Convert the product_name to string and Convert to lowercase and strip spaces\n",
    "    df = df.dropna(subset=['product_name'])  # Remove rows with missing product names\n",
    "else:\n",
    "    print(\"Column 'product_name' not found in the dataset!\")\n",
    "    exit()\n",
    "\n",
    "# Step 3: Apply Bag of Words\n",
    "vectorizer = CountVectorizer()  # to create a bow model , splits text into individual words and count their occurences.\n",
    "bow_matrix = vectorizer.fit_transform(df['product_name'])  # creates a sparse matrix where each row represents a product name and each column represents a words .\n",
    "\n",
    "# Step 4: Analyze and visualize\n",
    "feature_names = vectorizer.get_feature_names_out()\n",
    "bow_df = pd.DataFrame(bow_matrix.toarray(), columns=feature_names) # converts sparse matrix to dense matrix..\n",
    "\n",
    "# Display the BoW matrix\n",
    "print(\"\\nBag of Words Representation (First 10 Rows):\")\n",
    "print(bow_df.head(10))\n",
    "\n",
    "# Calculate word frequencies\n",
    "word_counts = bow_matrix.sum(axis=0)\n",
    "word_freq = [(word, word_counts[0, idx]) for word, idx in vectorizer.vocabulary_.items()]\n",
    "word_freq = sorted(word_freq, key=lambda x: x[1], reverse=True)\n",
    "\n",
    "# Convert to DataFrame for visualization\n",
    "word_freq_df = pd.DataFrame(word_freq, columns=['Word', 'Frequency'])\n",
    "\n",
    "# Plotting the most common words\n",
    "plt.figure(figsize=(12, 6))\n",
    "word_freq_df.head(10).plot(kind='bar', x='Word', y='Frequency', color='skyblue')\n",
    "plt.title(\"Top Words in Product Names\")\n",
    "plt.xlabel(\"Words\")\n",
    "plt.ylabel(\"Frequency\")\n",
    "plt.show()\n"
   ]
  },
  {
   "cell_type": "code",
   "execution_count": 49,
   "id": "b1ab43c5-3de5-46ed-aa39-9b4d1a000d5b",
   "metadata": {},
   "outputs": [
    {
     "name": "stdout",
     "output_type": "stream",
     "text": [
      "Recommendations for product 'forest club | gym wear | sports shorts| shorts for men | smooth breathable fabric | shorts with pocket zippers | all time wear |':\n",
      "1. easy 2 wear men's shorts (Similarity: 0.58)\n",
      "2. mark louiis soft cotton shorts for men for regular wear, gym wear, running and night wear with 2 zipper and 1 back pocket. (Similarity: 0.52)\n",
      "3. ezee sleeves men's cotton shorts combo (set of 3) shorts for gyming/jogging/running/exercise/cycling | shorts for men | cotton shorts for men. (Similarity: 0.50)\n",
      "4. fitinc n.s lycra gym shorts for men with both side safety zippered pockets, elastic waistband & adjustable drawstrings - fitness shorts for workout and casual wear (Similarity: 0.48)\n",
      "5. reebok men's shorts (Similarity: 0.44)\n"
     ]
    }
   ],
   "source": [
    "from sklearn.metrics.pairwise import cosine_similarity\n",
    "import numpy as np\n",
    "\n",
    "def recommend_products(product_id, num_recommendations, vectors, product_names):\n",
    "    \"\"\"\n",
    "    Recommend similar products based on Bag of Words representation.\n",
    "    \n",
    "    Arguments:\n",
    "    - product_id: The index of the product in the dataset.\n",
    "    - num_recommendations: Number of similar products to recommend.\n",
    "    - vectors: The BoW matrix (from CountVectorizer).\n",
    "    - product_names: List of product names corresponding to each vector.\n",
    "    \n",
    "    Returns:\n",
    "    - List of recommended product names with similarity scores.\n",
    "    \"\"\"\n",
    "    if product_id >= vectors.shape[0]:\n",
    "        raise ValueError(\"Product ID is out of range!\")\n",
    "\n",
    "    # Compute cosine similarity\n",
    "    similarity_scores = cosine_similarity(vectors[product_id], vectors).flatten()\n",
    "\n",
    "    # Get top N recommendations (excluding the product itself)\n",
    "    similar_indices = np.argsort(similarity_scores)[::-1]  # Sort in descending order\n",
    "    similar_indices = [i for i in similar_indices if i != product_id]  # Exclude the product itself\n",
    "    top_indices = similar_indices[:num_recommendations]\n",
    "\n",
    "    # Create a list of recommended products\n",
    "    recommendations = [(product_names[i], similarity_scores[i]) for i in top_indices]\n",
    "\n",
    "    return recommendations\n",
    "\n",
    "# Example usage:\n",
    "\n",
    "# Assuming 'df' contains the product names and 'bow_matrix' is the BoW matrix\n",
    "product_id = 5  # Replace with the desired product index\n",
    "num_recommendations = 5  # Number of recommendations\n",
    "product_names = df['product_name'].tolist()  # List of product names\n",
    "\n",
    "# Call the function\n",
    "recommendations = recommend_products(product_id, num_recommendations, bow_matrix, product_names)\n",
    "\n",
    "# Display the recommendations\n",
    "print(f\"Recommendations for product '{product_names[product_id]}':\")\n",
    "for i, (name, score) in enumerate(recommendations, 1):\n",
    "    print(f\"{i}. {name} (Similarity: {score:.2f})\")\n"
   ]
  },
  {
   "cell_type": "code",
   "execution_count": 55,
   "id": "407dffba-fe23-44b0-8eb6-62f2d192b874",
   "metadata": {},
   "outputs": [
    {
     "name": "stdout",
     "output_type": "stream",
     "text": [
      "                            uniq_id            crawl_timestamp        asin  \\\n",
      "0  26d41bdc1495de290bc8e6062d927729  2020-02-07 05:11:36 +0000  B07STS2W9T   \n",
      "1  410c62298852e68f34c35560f2311e5a  2020-02-07 08:45:56 +0000  B07N6TD2WL   \n",
      "2  52e31bb31680b0ec73de0d781a23cc0a  2020-02-06 11:09:38 +0000  B07WJ6WPN1   \n",
      "3  25798d6dc43239c118452d1bee0fb088  2020-02-07 08:32:45 +0000  B07PYSF4WZ   \n",
      "4  ad8a5a196d515ef09dfdaf082bdc37c4  2020-02-06 14:27:48 +0000  B082KXNM7X   \n",
      "\n",
      "                                         product_url  \\\n",
      "0  https://www.amazon.in/Facon-Kalamkari-Handbloc...   \n",
      "1  https://www.amazon.in/Sf-Jeans-Pantaloons-T-Sh...   \n",
      "2  https://www.amazon.in/LOVISTA-Traditional-Prin...   \n",
      "3  https://www.amazon.in/People-Printed-Regular-T...   \n",
      "4  https://www.amazon.in/Monte-Carlo-Cotton-Colla...   \n",
      "\n",
      "                                        product_name  \\\n",
      "0  LA' Facon Cotton Kalamkari Handblock Saree Blo...   \n",
      "1  Sf Jeans By Pantaloons Men's Plain Slim fit T-...   \n",
      "2  LOVISTA Cotton Gota Patti Tassel Traditional P...   \n",
      "3           People Men's Printed Regular fit T-Shirt   \n",
      "4  Monte Carlo Grey Solid Cotton Blend Polo Colla...   \n",
      "\n",
      "                                   image_urls__small  \\\n",
      "0  https://images-na.ssl-images-amazon.com/images...   \n",
      "1  https://images-na.ssl-images-amazon.com/images...   \n",
      "2  https://images-na.ssl-images-amazon.com/images...   \n",
      "3  https://images-na.ssl-images-amazon.com/images...   \n",
      "4  https://images-na.ssl-images-amazon.com/images...   \n",
      "\n",
      "                                              medium  \\\n",
      "0  https://images-na.ssl-images-amazon.com/images...   \n",
      "1  https://images-na.ssl-images-amazon.com/images...   \n",
      "2  https://images-na.ssl-images-amazon.com/images...   \n",
      "3  https://images-na.ssl-images-amazon.com/images...   \n",
      "4  https://images-na.ssl-images-amazon.com/images...   \n",
      "\n",
      "                                               large    browsenode      brand  \\\n",
      "0  https://images-na.ssl-images-amazon.com/images...  1.968255e+09  LA' Facon   \n",
      "1  https://images-na.ssl-images-amazon.com/images...  1.968123e+09        NaN   \n",
      "2  https://images-na.ssl-images-amazon.com/images...  1.968255e+09    LOVISTA   \n",
      "3  https://images-na.ssl-images-amazon.com/images...  1.968123e+09        NaN   \n",
      "4  https://images-na.ssl-images-amazon.com/images...  1.968070e+09        NaN   \n",
      "\n",
      "   ...  colour no__of_reviews  seller_name seller_id left_in_stock  \\\n",
      "0  ...     NaN            NaN          NaN       NaN           NaN   \n",
      "1  ...     NaN            NaN          NaN       NaN           NaN   \n",
      "2  ...     NaN            NaN          NaN       NaN           NaN   \n",
      "3  ...     NaN            NaN          NaN       NaN           NaN   \n",
      "4  ...     NaN            NaN          NaN       NaN           NaN   \n",
      "\n",
      "  no__of_offers no__of_sellers technical_details__k_v_pairs  \\\n",
      "0           NaN            NaN                          NaN   \n",
      "1           NaN            NaN                          NaN   \n",
      "2           NaN            NaN                          NaN   \n",
      "3           NaN            NaN                          NaN   \n",
      "4           NaN            NaN                          NaN   \n",
      "\n",
      "  formats___editions name_of_author_for_books  \n",
      "0                NaN                      NaN  \n",
      "1                NaN                      NaN  \n",
      "2                NaN                      NaN  \n",
      "3                NaN                      NaN  \n",
      "4                NaN                      NaN  \n",
      "\n",
      "[5 rows x 33 columns]\n"
     ]
    }
   ],
   "source": [
    "import pandas as pd\n",
    "\n",
    "# Try loading the dataset with lines=True for JSON Lines format\n",
    "df = pd.read_json('C:/Users/ADMIN/Downloads/fashion_product_data.ldjson', lines=True)\n",
    "\n",
    "# Check the first few rows of the dataframe to ensure it's loaded properly\n",
    "print(df.head())\n"
   ]
  },
  {
   "cell_type": "code",
   "execution_count": 57,
   "id": "bce9bb6d-765a-4f53-a43c-cc3227e533b0",
   "metadata": {},
   "outputs": [
    {
     "name": "stdout",
     "output_type": "stream",
     "text": [
      "Recommendations for product 'Toddler Little Boy Straight Outta Timeout Long Sleeve T-Shirt (2T, Black)':\n",
      "1. Waldeal Boys Girls Straight Outta Timeout Toddler T Shirt Funny Out of Timeout Tee 5 6\n",
      "2. carter's Little Boys' Graphic Tee (Toddler/Kid)\n",
      "3. Marvel Boy's Regular fit Long Sleeve Top\n",
      "4. RuggedButts Little Boys Pre-tied Bow Tie/Bowtie - Green - 2T-4T\n",
      "5. Toddler Infant Baby Boys Stripe Soft Cotton Crew Dress Socks Non-Skid, 1-2T, (6-Pack)\n"
     ]
    }
   ],
   "source": [
    "\n",
    "#using TF-IDF\n",
    "\n",
    "#Converts textual data into numerical form using the TF-IDF method , which weighs terms based on their frequency and importance ...\n",
    "import pandas as pd\n",
    "from sklearn.feature_extraction.text import TfidfVectorizer\n",
    "from sklearn.metrics.pairwise import cosine_similarity   # measures similarity between vectors ranging -1 to 1.\n",
    "\n",
    "# Load the dataset (assuming it's in the correct format now)\n",
    "df = pd.read_json('C:/Users/ADMIN/Downloads/fashion_product_data.ldjson', lines=True)\n",
    "\n",
    "# Use the 'product_name' column or other relevant column as input for the recommendation system\n",
    "# Here, we'll use the 'product_name' column for TF-IDF processing\n",
    "product_names = df['product_name'].fillna('').tolist()  # Replace missing values with empty strings    tolist() - converts the column into a python list for easier processing.\n",
    "\n",
    "# Initialize TfidfVectorizer and fit_transform the 'product_name' text data\n",
    "vectorizer = TfidfVectorizer(stop_words='english')    # removes comman english words ...\n",
    "tfidf_matrix = vectorizer.fit_transform(product_names)  # converts into TF-IDF matrix \n",
    "\n",
    "# Function to get recommendations for a specific product ID\n",
    "def recommend_products_tfidf(product_id, num_recommendations=5):\n",
    "    # Calculate cosine similarity between the target product and all other products\n",
    "    cosine_similarities = cosine_similarity(tfidf_matrix[product_id], tfidf_matrix).flatten()  #computes similarity between target product and other products\n",
    "    \n",
    "    # Get the indices of the most similar products, excluding the target product\n",
    "    similar_indices = cosine_similarities.argsort()[-(num_recommendations + 1):-1][::-1]\n",
    "    \n",
    "    # Return the product names of the most similar products\n",
    "    return df['product_name'].iloc[similar_indices].tolist()\n",
    "\n",
    "# Example usage:\n",
    "product_id = 10  # Example product ID (you can change this as needed)\n",
    "num_recommendations = 5  # Number of recommendations to generate\n",
    "\n",
    "# Get recommendations for the specified product ID\n",
    "recommended_products = recommend_products_tfidf(product_id, num_recommendations)\n",
    "\n",
    "# Print the recommendations\n",
    "print(f\"Recommendations for product '{df['product_name'].iloc[product_id]}':\")\n",
    "for i, product in enumerate(recommended_products, 1):\n",
    "    print(f\"{i}. {product}\")\n"
   ]
  },
  {
   "cell_type": "code",
   "execution_count": 8,
   "id": "5f9b2ebc-40b6-4d34-ad47-07ad9e8f67d5",
   "metadata": {},
   "outputs": [
    {
     "name": "stdout",
     "output_type": "stream",
     "text": [
      "                            uniq_id            crawl_timestamp        asin  \\\n",
      "0  26d41bdc1495de290bc8e6062d927729  2020-02-07 05:11:36 +0000  B07STS2W9T   \n",
      "1  410c62298852e68f34c35560f2311e5a  2020-02-07 08:45:56 +0000  B07N6TD2WL   \n",
      "2  52e31bb31680b0ec73de0d781a23cc0a  2020-02-06 11:09:38 +0000  B07WJ6WPN1   \n",
      "3  25798d6dc43239c118452d1bee0fb088  2020-02-07 08:32:45 +0000  B07PYSF4WZ   \n",
      "4  ad8a5a196d515ef09dfdaf082bdc37c4  2020-02-06 14:27:48 +0000  B082KXNM7X   \n",
      "\n",
      "                                         product_url  \\\n",
      "0  https://www.amazon.in/Facon-Kalamkari-Handbloc...   \n",
      "1  https://www.amazon.in/Sf-Jeans-Pantaloons-T-Sh...   \n",
      "2  https://www.amazon.in/LOVISTA-Traditional-Prin...   \n",
      "3  https://www.amazon.in/People-Printed-Regular-T...   \n",
      "4  https://www.amazon.in/Monte-Carlo-Cotton-Colla...   \n",
      "\n",
      "                                        product_name  \\\n",
      "0  LA' Facon Cotton Kalamkari Handblock Saree Blo...   \n",
      "1  Sf Jeans By Pantaloons Men's Plain Slim fit T-...   \n",
      "2  LOVISTA Cotton Gota Patti Tassel Traditional P...   \n",
      "3           People Men's Printed Regular fit T-Shirt   \n",
      "4  Monte Carlo Grey Solid Cotton Blend Polo Colla...   \n",
      "\n",
      "                                   image_urls__small  \\\n",
      "0  https://images-na.ssl-images-amazon.com/images...   \n",
      "1  https://images-na.ssl-images-amazon.com/images...   \n",
      "2  https://images-na.ssl-images-amazon.com/images...   \n",
      "3  https://images-na.ssl-images-amazon.com/images...   \n",
      "4  https://images-na.ssl-images-amazon.com/images...   \n",
      "\n",
      "                                              medium  \\\n",
      "0  https://images-na.ssl-images-amazon.com/images...   \n",
      "1  https://images-na.ssl-images-amazon.com/images...   \n",
      "2  https://images-na.ssl-images-amazon.com/images...   \n",
      "3  https://images-na.ssl-images-amazon.com/images...   \n",
      "4  https://images-na.ssl-images-amazon.com/images...   \n",
      "\n",
      "                                               large    browsenode      brand  \\\n",
      "0  https://images-na.ssl-images-amazon.com/images...  1.968255e+09  LA' Facon   \n",
      "1  https://images-na.ssl-images-amazon.com/images...  1.968123e+09        NaN   \n",
      "2  https://images-na.ssl-images-amazon.com/images...  1.968255e+09    LOVISTA   \n",
      "3  https://images-na.ssl-images-amazon.com/images...  1.968123e+09        NaN   \n",
      "4  https://images-na.ssl-images-amazon.com/images...  1.968070e+09        NaN   \n",
      "\n",
      "   ...  colour no__of_reviews  seller_name seller_id left_in_stock  \\\n",
      "0  ...     NaN            NaN          NaN       NaN           NaN   \n",
      "1  ...     NaN            NaN          NaN       NaN           NaN   \n",
      "2  ...     NaN            NaN          NaN       NaN           NaN   \n",
      "3  ...     NaN            NaN          NaN       NaN           NaN   \n",
      "4  ...     NaN            NaN          NaN       NaN           NaN   \n",
      "\n",
      "  no__of_offers no__of_sellers technical_details__k_v_pairs  \\\n",
      "0           NaN            NaN                          NaN   \n",
      "1           NaN            NaN                          NaN   \n",
      "2           NaN            NaN                          NaN   \n",
      "3           NaN            NaN                          NaN   \n",
      "4           NaN            NaN                          NaN   \n",
      "\n",
      "  formats___editions name_of_author_for_books  \n",
      "0                NaN                      NaN  \n",
      "1                NaN                      NaN  \n",
      "2                NaN                      NaN  \n",
      "3                NaN                      NaN  \n",
      "4                NaN                      NaN  \n",
      "\n",
      "[5 rows x 33 columns]\n"
     ]
    }
   ],
   "source": [
    "import pandas as pd\n",
    "\n",
    "# Try loading the dataset with lines=True for JSON Lines format\n",
    "df = pd.read_json('C:/Users/ADMIN/Downloads/fashion_product_data.ldjson', lines=True)\n",
    "\n",
    "# Check the first few rows of the dataframe to ensure it's loaded properly\n",
    "print(df.head())"
   ]
  },
  {
   "cell_type": "code",
   "execution_count": 14,
   "id": "398f889b-a167-4a5c-a116-07930c1fe1f0",
   "metadata": {},
   "outputs": [
    {
     "name": "stdout",
     "output_type": "stream",
     "text": [
      "Product 1: LA' Facon Cotton Kalamkari Handblock Saree Blouse Fabric 100 cms Black Base Dancers (Cotton)\n"
     ]
    },
    {
     "data": {
      "text/html": [
       "<img src=\"https://images-na.ssl-images-amazon.com/images/I/51Wj2WownyL._SR38,50_.jpg|https://images-na.ssl-images-amazon.com/images/I/51tylkSxAIL._SR38,50_.jpg|https://images-na.ssl-images-amazon.com/images/I/51345gshQ9L._SR38,50_.jpg\"/>"
      ],
      "text/plain": [
       "<IPython.core.display.Image object>"
      ]
     },
     "metadata": {},
     "output_type": "display_data"
    },
    {
     "name": "stdout",
     "output_type": "stream",
     "text": [
      "Product 2: Sf Jeans By Pantaloons Men's Plain Slim fit T-Shirt\n"
     ]
    },
    {
     "data": {
      "text/html": [
       "<img src=\"https://images-na.ssl-images-amazon.com/images/I/41fqj9cvevL._SR38,50_.jpg|https://images-na.ssl-images-amazon.com/images/I/41gTOgKzJpL._SR38,50_.jpg|https://images-na.ssl-images-amazon.com/images/I/41CZ2wta57L._SR38,50_.jpg|https://images-na.ssl-images-amazon.com/images/I/31eNCCl7bxL._SR38,50_.jpg|https://images-na.ssl-images-amazon.com/images/I/51xqirDBKHL._SR38,50_.jpg\"/>"
      ],
      "text/plain": [
       "<IPython.core.display.Image object>"
      ]
     },
     "metadata": {},
     "output_type": "display_data"
    },
    {
     "name": "stdout",
     "output_type": "stream",
     "text": [
      "Product 3: LOVISTA Cotton Gota Patti Tassel Traditional Printed Kurti with Pant,Angrakha Salwar Suit\n"
     ]
    },
    {
     "data": {
      "text/html": [
       "<img src=\"https://images-na.ssl-images-amazon.com/images/I/31Gd40UmBTL._SR38,50_.jpg|https://images-na.ssl-images-amazon.com/images/I/31jiPD9IyQL._SR38,50_.jpg|https://images-na.ssl-images-amazon.com/images/I/41GLhLnUCGL._SR38,50_.jpg\"/>"
      ],
      "text/plain": [
       "<IPython.core.display.Image object>"
      ]
     },
     "metadata": {},
     "output_type": "display_data"
    },
    {
     "name": "stdout",
     "output_type": "stream",
     "text": [
      "Product 4: People Men's Printed Regular fit T-Shirt\n"
     ]
    },
    {
     "data": {
      "text/html": [
       "<img src=\"https://images-na.ssl-images-amazon.com/images/I/41O5j3l3ofL._SR38,50_.jpg|https://images-na.ssl-images-amazon.com/images/I/41VgvZ4QnvL._SR38,50_.jpg|https://images-na.ssl-images-amazon.com/images/I/51EGl11EsJL._SR38,50_.jpg|https://images-na.ssl-images-amazon.com/images/I/41fQqIqi9%2BL._SR38,50_.jpg\"/>"
      ],
      "text/plain": [
       "<IPython.core.display.Image object>"
      ]
     },
     "metadata": {},
     "output_type": "display_data"
    },
    {
     "name": "stdout",
     "output_type": "stream",
     "text": [
      "Product 5: Monte Carlo Grey Solid Cotton Blend Polo Collar Tracksuit\n"
     ]
    },
    {
     "data": {
      "text/html": [
       "<img src=\"https://images-na.ssl-images-amazon.com/images/I/31UYeJhMAbL._SR38,50_.jpg|https://images-na.ssl-images-amazon.com/images/I/31JxfBshZbL._SR38,50_.jpg|https://images-na.ssl-images-amazon.com/images/I/314fs0OwGzL._SR38,50_.jpg|https://images-na.ssl-images-amazon.com/images/I/31lsqpnNaLL._SR38,50_.jpg|https://images-na.ssl-images-amazon.com/images/I/61u9JH4PwTL._SR38,50_.jpg|https://images-na.ssl-images-amazon.com/images/I/51XxzG1X0cL._SR38,50_.jpg\"/>"
      ],
      "text/plain": [
       "<IPython.core.display.Image object>"
      ]
     },
     "metadata": {},
     "output_type": "display_data"
    },
    {
     "name": "stdout",
     "output_type": "stream",
     "text": [
      "Product 6: Forest Club | Gym Wear | Sports Shorts| Shorts for Men | Smooth Breathable Fabric | Shorts with Pocket Zippers | All TIME WEAR |\n"
     ]
    },
    {
     "data": {
      "text/html": [
       "<img src=\"https://images-na.ssl-images-amazon.com/images/I/417-zhcsWiL._SR38,50_.jpg|https://images-na.ssl-images-amazon.com/images/I/31OvZrq-V8L._SR38,50_.jpg|https://images-na.ssl-images-amazon.com/images/I/51v8bE10KkL._SR38,50_.jpg|https://images-na.ssl-images-amazon.com/images/I/51hHbv0RPJL._SR38,50_.jpg|https://images-na.ssl-images-amazon.com/images/I/31fw-rufuWL._SR38,50_.jpg\"/>"
      ],
      "text/plain": [
       "<IPython.core.display.Image object>"
      ]
     },
     "metadata": {},
     "output_type": "display_data"
    },
    {
     "name": "stdout",
     "output_type": "stream",
     "text": [
      "Product 7: PrintOctopus Graphic Printed T-Shirt for Men Chill T-Shirt | Hindi Quote T-Shirt | Half Sleeve T-Shirt for Women | Round Neck T Shirt | 100% Cotton T-Shirt | Short Sleeve T Shirt\n"
     ]
    },
    {
     "data": {
      "text/html": [
       "<img src=\"https://images-na.ssl-images-amazon.com/images/I/41-t1F0%2BHgL._SR38,50_.jpg|https://images-na.ssl-images-amazon.com/images/I/41zv8uJZbzL._SR38,50_.jpg|https://images-na.ssl-images-amazon.com/images/I/410weiOVSHL._SR38,50_.jpg|https://images-na.ssl-images-amazon.com/images/I/41eLh5S-2mL._SR38,50_.jpg|https://images-na.ssl-images-amazon.com/images/I/61KiL918oiL._SR38,50_.jpg|https://images-na.ssl-images-amazon.com/images/I/414-blmdnqL._SR38,50_.jpg\"/>"
      ],
      "text/plain": [
       "<IPython.core.display.Image object>"
      ]
     },
     "metadata": {},
     "output_type": "display_data"
    },
    {
     "name": "stdout",
     "output_type": "stream",
     "text": [
      "Product 8: Pepe Jeans Men's Solid Regular fit Casual Shirt\n"
     ]
    },
    {
     "data": {
      "text/html": [
       "<img src=\"https://images-na.ssl-images-amazon.com/images/I/41M7k32XfeL._SR38,50_.jpg|https://images-na.ssl-images-amazon.com/images/I/51GihNpO2YL._SR38,50_.jpg|https://images-na.ssl-images-amazon.com/images/I/51aHANXIk1L._SR38,50_.jpg|https://images-na.ssl-images-amazon.com/images/I/41lbu-cAD-L._SR38,50_.jpg|https://images-na.ssl-images-amazon.com/images/I/51qtXu%2Bmx5L._SR38,50_.jpg\"/>"
      ],
      "text/plain": [
       "<IPython.core.display.Image object>"
      ]
     },
     "metadata": {},
     "output_type": "display_data"
    },
    {
     "name": "stdout",
     "output_type": "stream",
     "text": [
      "Product 9: Carahere Boys Handmade Pre-Tied Classic Polka Dot Bow Ties M132 Navy Blue\n"
     ]
    },
    {
     "data": {
      "text/html": [
       "<img src=\"https://images-na.ssl-images-amazon.com/images/I/41Xf9XxNOeL._SR38,50_.jpg|https://images-na.ssl-images-amazon.com/images/I/41KHR3Bq7UL._SR38,50_.jpg|https://images-na.ssl-images-amazon.com/images/I/41BvTEU68wL._SR38,50_.jpg|https://images-na.ssl-images-amazon.com/images/I/41VpBiSCWNL._SR38,50_.jpg\"/>"
      ],
      "text/plain": [
       "<IPython.core.display.Image object>"
      ]
     },
     "metadata": {},
     "output_type": "display_data"
    },
    {
     "name": "stdout",
     "output_type": "stream",
     "text": [
      "Product 10: Peppermint Synthetic Dress\n"
     ]
    },
    {
     "data": {
      "text/html": [
       "<img src=\"https://images-na.ssl-images-amazon.com/images/I/41XMF11QpBL._SR38,50_.jpg|https://images-na.ssl-images-amazon.com/images/I/41gyqTOXvJL._SR38,50_.jpg|https://images-na.ssl-images-amazon.com/images/I/51DHZR06muL._SR38,50_.jpg\"/>"
      ],
      "text/plain": [
       "<IPython.core.display.Image object>"
      ]
     },
     "metadata": {},
     "output_type": "display_data"
    },
    {
     "name": "stdout",
     "output_type": "stream",
     "text": [
      "Product 11: Toddler Little Boy Straight Outta Timeout Long Sleeve T-Shirt (2T, Black)\n"
     ]
    },
    {
     "data": {
      "text/html": [
       "<img src=\"https://images-na.ssl-images-amazon.com/images/I/41qz%2BXyQ9RL._SR38,50_.jpg|https://images-na.ssl-images-amazon.com/images/I/41HEzQMfkkL._SR38,50_.jpg|https://images-na.ssl-images-amazon.com/images/I/41l%2BSUMM4AL._SR38,50_.jpg|https://images-na.ssl-images-amazon.com/images/I/41gqIw0BG4L._SR38,50_.jpg\"/>"
      ],
      "text/plain": [
       "<IPython.core.display.Image object>"
      ]
     },
     "metadata": {},
     "output_type": "display_data"
    },
    {
     "name": "stdout",
     "output_type": "stream",
     "text": [
      "Product 12: Puma Unisex Tribal Regular Fit T-Shirt\n"
     ]
    },
    {
     "data": {
      "text/html": [
       "<img src=\"https://images-na.ssl-images-amazon.com/images/I/51-vGqtBBNL._SR38,50_.jpg|https://images-na.ssl-images-amazon.com/images/I/41DAr8FkhQL._SR38,50_.jpg|https://images-na.ssl-images-amazon.com/images/I/51VdlrkR8KL._SR38,50_.jpg\"/>"
      ],
      "text/plain": [
       "<IPython.core.display.Image object>"
      ]
     },
     "metadata": {},
     "output_type": "display_data"
    },
    {
     "name": "stdout",
     "output_type": "stream",
     "text": [
      "Product 13: Jevi Prints Women's Cotton Printed Straight Kurta (PRJ-617)\n"
     ]
    },
    {
     "data": {
      "text/html": [
       "<img src=\"https://images-na.ssl-images-amazon.com/images/I/4167huYlHoL._SR38,50_.jpg|https://images-na.ssl-images-amazon.com/images/I/41MTTssfKqL._SR38,50_.jpg|https://images-na.ssl-images-amazon.com/images/I/61Co1EvLLOL._SR38,50_.jpg\"/>"
      ],
      "text/plain": [
       "<IPython.core.display.Image object>"
      ]
     },
     "metadata": {},
     "output_type": "display_data"
    },
    {
     "name": "stdout",
     "output_type": "stream",
     "text": [
      "Product 14: OLLI Men's Orange, Lex Purple, White Cotton Brief Innerwear (Pack of 3)\n"
     ]
    },
    {
     "data": {
      "text/html": [
       "<img src=\"https://images-na.ssl-images-amazon.com/images/I/51fcxubSr8L._SR38,50_.jpg\"/>"
      ],
      "text/plain": [
       "<IPython.core.display.Image object>"
      ]
     },
     "metadata": {},
     "output_type": "display_data"
    },
    {
     "name": "stdout",
     "output_type": "stream",
     "text": [
      "Product 15: Pinkmint Women's Multi-Coloured Digital Print Crepe Kurti\n"
     ]
    },
    {
     "data": {
      "text/html": [
       "<img src=\"https://images-na.ssl-images-amazon.com/images/I/31ST%2B4OaCJL._SR38,50_.jpg|https://images-na.ssl-images-amazon.com/images/I/31e-xe9IxiL._SR38,50_.jpg|https://images-na.ssl-images-amazon.com/images/I/417AZ3iCZYL._SR38,50_.jpg|https://images-na.ssl-images-amazon.com/images/I/31ha3gySyJL._SR38,50_.jpg|https://images-na.ssl-images-amazon.com/images/I/31zHoHLkvXL._SR38,50_.jpg\"/>"
      ],
      "text/plain": [
       "<IPython.core.display.Image object>"
      ]
     },
     "metadata": {},
     "output_type": "display_data"
    },
    {
     "name": "stdout",
     "output_type": "stream",
     "text": [
      "Product 16: Miss Chase Women's Solid Shoulder Cut-Out Half-Sleeve Round Neck Mini Dresses\n"
     ]
    },
    {
     "data": {
      "text/html": [
       "<img src=\"https://images-na.ssl-images-amazon.com/images/I/41IN22JzGBL._SR38,50_.jpg|https://images-na.ssl-images-amazon.com/images/I/31tIEAzfyCL._SR38,50_.jpg|https://images-na.ssl-images-amazon.com/images/I/31uA4zXSlHL._SR38,50_.jpg|https://images-na.ssl-images-amazon.com/images/I/31fNHbh5i8L._SR38,50_.jpg\"/>"
      ],
      "text/plain": [
       "<IPython.core.display.Image object>"
      ]
     },
     "metadata": {},
     "output_type": "display_data"
    },
    {
     "name": "stdout",
     "output_type": "stream",
     "text": [
      "Product 17: bebe Women Genuine Leather Slim Belt\n"
     ]
    },
    {
     "data": {
      "text/html": [
       "<img src=\"https://images-na.ssl-images-amazon.com/images/I/31luQW%2BeZKL._SR38,50_.jpg|https://images-na.ssl-images-amazon.com/images/I/31bSkI1tgtL._SR38,50_.jpg|https://images-na.ssl-images-amazon.com/images/I/21BpmpCyAzL._SR38,50_.jpg|https://images-na.ssl-images-amazon.com/images/I/31YKW-gEJZL._SR38,50_.jpg|https://images-na.ssl-images-amazon.com/images/I/31ozeAZI2fL._SR38,50_.jpg|https://images-na.ssl-images-amazon.com/images/I/3188h2MDtXL._SR38,50_.jpg\"/>"
      ],
      "text/plain": [
       "<IPython.core.display.Image object>"
      ]
     },
     "metadata": {},
     "output_type": "display_data"
    },
    {
     "name": "stdout",
     "output_type": "stream",
     "text": [
      "Product 18: Colt by Unlimited Men's T-Shirt\n"
     ]
    },
    {
     "data": {
      "text/html": [
       "<img src=\"https://images-na.ssl-images-amazon.com/images/I/41TfxaPBU4L._SR38,50_.jpg|https://images-na.ssl-images-amazon.com/images/I/41K%2BscORHnL._SR38,50_.jpg|https://images-na.ssl-images-amazon.com/images/I/41ycoQo5IcL._SR38,50_.jpg|https://images-na.ssl-images-amazon.com/images/I/31sSRGmfWrL._SR38,50_.jpg|https://images-na.ssl-images-amazon.com/images/I/31VbT8Knb-L._SR38,50_.jpg\"/>"
      ],
      "text/plain": [
       "<IPython.core.display.Image object>"
      ]
     },
     "metadata": {},
     "output_type": "display_data"
    },
    {
     "name": "stdout",
     "output_type": "stream",
     "text": [
      "Product 19: Pepe Jeans Women's Solid T-Shirt\n"
     ]
    },
    {
     "data": {
      "text/html": [
       "<img src=\"https://images-na.ssl-images-amazon.com/images/I/41GxU7C%2BQML._SR38,50_.jpg|https://images-na.ssl-images-amazon.com/images/I/418KOIt4t1L._SR38,50_.jpg|https://images-na.ssl-images-amazon.com/images/I/41L87eLLaaL._SR38,50_.jpg|https://images-na.ssl-images-amazon.com/images/I/41ilAjMTtfL._SR38,50_.jpg|https://images-na.ssl-images-amazon.com/images/I/41fzYYyV7JL._SR38,50_.jpg\"/>"
      ],
      "text/plain": [
       "<IPython.core.display.Image object>"
      ]
     },
     "metadata": {},
     "output_type": "display_data"
    },
    {
     "name": "stdout",
     "output_type": "stream",
     "text": [
      "Product 20: C9 Women Turquoise Active T-Shirt\n"
     ]
    },
    {
     "data": {
      "text/html": [
       "<img src=\"https://images-na.ssl-images-amazon.com/images/I/41sqKtinRHL._SR38,50_.jpg|https://images-na.ssl-images-amazon.com/images/I/31ynrYpR34L._SR38,50_.jpg|https://images-na.ssl-images-amazon.com/images/I/410ARkdgj7L._SR38,50_.jpg|https://images-na.ssl-images-amazon.com/images/I/410ARkdgj7L._SR38,50_.jpg|https://images-na.ssl-images-amazon.com/images/I/31o1AKX3QpL._SR38,50_.jpg|https://images-na.ssl-images-amazon.com/images/I/51fS8o5kfxL._SR38,50_.jpg\"/>"
      ],
      "text/plain": [
       "<IPython.core.display.Image object>"
      ]
     },
     "metadata": {},
     "output_type": "display_data"
    },
    {
     "name": "stdout",
     "output_type": "stream",
     "text": [
      "Product 21: PuJoy Women's Soft Cotton Traditional Bengali Handloom Jharna Design Tant Saree with Blouse Piece …\n"
     ]
    },
    {
     "data": {
      "text/html": [
       "<img src=\"https://images-na.ssl-images-amazon.com/images/I/41xOAqSkkoL._SR38,50_.jpg|https://images-na.ssl-images-amazon.com/images/I/41hnDfB-7EL._SR38,50_.jpg|https://images-na.ssl-images-amazon.com/images/I/41ipf1Uu9oL._SR38,50_.jpg|https://images-na.ssl-images-amazon.com/images/I/41aQr4%2BZs8L._SR38,50_.jpg|https://images-na.ssl-images-amazon.com/images/I/412YMu2waLL._SR38,50_.jpg|https://images-na.ssl-images-amazon.com/images/I/51gIYHmXIfL._SR38,50_.jpg|https://images-na.ssl-images-amazon.com/images/I/41ALL0Q3EtL._SR38,50_.jpg|https://images-na.ssl-images-amazon.com/images/I/41ALL0Q3EtL._SR38,50_.jpg|https://images-na.ssl-images-amazon.com/images/I/315x%2B-eQTyL._SR38,50_.jpg\"/>"
      ],
      "text/plain": [
       "<IPython.core.display.Image object>"
      ]
     },
     "metadata": {},
     "output_type": "display_data"
    },
    {
     "name": "stdout",
     "output_type": "stream",
     "text": [
      "Product 22: Winza Designer Chiffon Saree with Blouse Piece\n"
     ]
    },
    {
     "data": {
      "text/html": [
       "<img src=\"https://images-na.ssl-images-amazon.com/images/I/41PUEb5WGuL._SR38,50_.jpg|https://images-na.ssl-images-amazon.com/images/I/61VHdMRzyfL._SR38,50_.jpg\"/>"
      ],
      "text/plain": [
       "<IPython.core.display.Image object>"
      ]
     },
     "metadata": {},
     "output_type": "display_data"
    },
    {
     "name": "stdout",
     "output_type": "stream",
     "text": [
      "Product 23: kalpit creations Men's Comfort Soft Cotton Black Plain Polo Collar Half Sleeve T-Shirt with Solid Color\n"
     ]
    },
    {
     "data": {
      "text/html": [
       "<img src=\"https://images-na.ssl-images-amazon.com/images/I/41LlXsWjvQL._SR38,50_.jpg|https://images-na.ssl-images-amazon.com/images/I/41KsduUiHgL._SR38,50_.jpg|https://images-na.ssl-images-amazon.com/images/I/41W9rANg1fL._SR38,50_.jpg|https://images-na.ssl-images-amazon.com/images/I/51CCVWTfwSL._SR38,50_.jpg|https://images-na.ssl-images-amazon.com/images/I/41UCti0zBUL._SR38,50_.jpg\"/>"
      ],
      "text/plain": [
       "<IPython.core.display.Image object>"
      ]
     },
     "metadata": {},
     "output_type": "display_data"
    },
    {
     "name": "stdout",
     "output_type": "stream",
     "text": [
      "Product 24: Pooplu Mens Ajay Cotton Printed Round Neck Half Sleeves Black & White T.Shirt. Common Names, Symbol Tshirts\n"
     ]
    },
    {
     "data": {
      "text/html": [
       "<img src=\"https://images-na.ssl-images-amazon.com/images/I/41W7VTVCw6L._SR38,50_.jpg|https://images-na.ssl-images-amazon.com/images/I/41R6rQmMX5L._SR38,50_.jpg|https://images-na.ssl-images-amazon.com/images/I/41wF2pW-PVL._SR38,50_.jpg|https://images-na.ssl-images-amazon.com/images/I/41c7gmatehL._SR38,50_.jpg\"/>"
      ],
      "text/plain": [
       "<IPython.core.display.Image object>"
      ]
     },
     "metadata": {},
     "output_type": "display_data"
    },
    {
     "name": "stdout",
     "output_type": "stream",
     "text": [
      "Product 25: JORKK Men's Cotton Polo Neck T-Shirt.\n"
     ]
    },
    {
     "data": {
      "text/html": [
       "<img src=\"https://images-na.ssl-images-amazon.com/images/I/41bGAb9j1RL._SR38,50_.jpg|https://images-na.ssl-images-amazon.com/images/I/313yn80tNxL._SR38,50_.jpg|https://images-na.ssl-images-amazon.com/images/I/41-Y%2Btm-W3L._SR38,50_.jpg|https://images-na.ssl-images-amazon.com/images/I/31oDi7B0w-L._SR38,50_.jpg\"/>"
      ],
      "text/plain": [
       "<IPython.core.display.Image object>"
      ]
     },
     "metadata": {},
     "output_type": "display_data"
    },
    {
     "name": "stdout",
     "output_type": "stream",
     "text": [
      "Product 26: nauti nati Girls' Midi Dress\n"
     ]
    },
    {
     "data": {
      "text/html": [
       "<img src=\"https://images-na.ssl-images-amazon.com/images/I/41o9tIJDlXL._SR38,50_.jpg|https://images-na.ssl-images-amazon.com/images/I/41llwkuCBvL._SR38,50_.jpg|https://images-na.ssl-images-amazon.com/images/I/41iAC8ZYVAL._SR38,50_.jpg\"/>"
      ],
      "text/plain": [
       "<IPython.core.display.Image object>"
      ]
     },
     "metadata": {},
     "output_type": "display_data"
    },
    {
     "name": "stdout",
     "output_type": "stream",
     "text": [
      "Product 27: 7 ate 9 Apparel Kids Fifth Birthday Unicorn T-Shirt 2T\n"
     ]
    },
    {
     "data": {
      "text/html": [
       "<img src=\"https://images-na.ssl-images-amazon.com/images/I/41-QI4H41zL._SS40_.jpg|https://images-na.ssl-images-amazon.com/images/I/41jcNeRrItL._SS40_.jpg|https://images-na.ssl-images-amazon.com/images/I/41MgLz2L4TL._SS40_.jpg\"/>"
      ],
      "text/plain": [
       "<IPython.core.display.Image object>"
      ]
     },
     "metadata": {},
     "output_type": "display_data"
    },
    {
     "name": "stdout",
     "output_type": "stream",
     "text": [
      "Product 28: Patangaa Ethnic Digital Printed Multicolored Readymade Women's Kurti\n"
     ]
    },
    {
     "data": {
      "text/html": [
       "<img src=\"https://images-na.ssl-images-amazon.com/images/I/41phzBoyRSL._SR38,50_.jpg|https://images-na.ssl-images-amazon.com/images/I/412XPyt5nhL._SR38,50_.jpg|https://images-na.ssl-images-amazon.com/images/I/41Gbg1XZg0L._SR38,50_.jpg|https://images-na.ssl-images-amazon.com/images/I/41TpW8SgevL._SR38,50_.jpg\"/>"
      ],
      "text/plain": [
       "<IPython.core.display.Image object>"
      ]
     },
     "metadata": {},
     "output_type": "display_data"
    },
    {
     "name": "stdout",
     "output_type": "stream",
     "text": [
      "Product 29: 3Pcs/Set Kids Baby Girls Dot Wrapped Tops + Big Hole Denim Jeans Pants + Headband Outfits Clothing Set\n"
     ]
    },
    {
     "data": {
      "text/html": [
       "<img src=\"https://images-na.ssl-images-amazon.com/images/I/51A5rnyn9gL._SS40_.jpg\"/>"
      ],
      "text/plain": [
       "<IPython.core.display.Image object>"
      ]
     },
     "metadata": {},
     "output_type": "display_data"
    },
    {
     "name": "stdout",
     "output_type": "stream",
     "text": [
      "Product 30: GOLDSTROMS Minelli Women Round Neck Rayon Fabric Nursing/Feeding/Maternity Gown\n"
     ]
    },
    {
     "data": {
      "text/html": [
       "<img src=\"https://images-na.ssl-images-amazon.com/images/I/41neBHgyRKL._SR38,50_.jpg|https://images-na.ssl-images-amazon.com/images/I/41peDKVkPJL._SR38,50_.jpg|https://images-na.ssl-images-amazon.com/images/I/41Y5tggXroL._SR38,50_.jpg|https://images-na.ssl-images-amazon.com/images/I/41DmtbGETkL._SR38,50_.jpg|https://images-na.ssl-images-amazon.com/images/I/51QIsf%2BhBrL._SR38,50_.jpg|https://images-na.ssl-images-amazon.com/images/I/61PBJMS-36L._SR38,50_.jpg|https://images-na.ssl-images-amazon.com/images/I/41LU8QlW%2B8L._SR38,50_.jpg\"/>"
      ],
      "text/plain": [
       "<IPython.core.display.Image object>"
      ]
     },
     "metadata": {},
     "output_type": "display_data"
    },
    {
     "name": "stdout",
     "output_type": "stream",
     "text": [
      "Product 31: Calvin Klein Jeans Men's Plain Slim fit Casual Shirt (40I8055100_Standard White_XL)\n"
     ]
    },
    {
     "data": {
      "text/html": [
       "<img src=\"https://images-na.ssl-images-amazon.com/images/I/512ITR-yX1L._SR38,50_.jpg|https://images-na.ssl-images-amazon.com/images/I/31Op-SE3zxL._SR38,50_.jpg\"/>"
      ],
      "text/plain": [
       "<IPython.core.display.Image object>"
      ]
     },
     "metadata": {},
     "output_type": "display_data"
    },
    {
     "name": "stdout",
     "output_type": "stream",
     "text": [
      "Product 32: Pari Singh Orange Plain Women's Frok\n"
     ]
    },
    {
     "data": {
      "text/html": [
       "<img src=\"https://images-na.ssl-images-amazon.com/images/I/41T80Xhi1iL._SR38,50_.jpg\"/>"
      ],
      "text/plain": [
       "<IPython.core.display.Image object>"
      ]
     },
     "metadata": {},
     "output_type": "display_data"
    },
    {
     "name": "stdout",
     "output_type": "stream",
     "text": [
      "Product 33: ChicNChic Toddler Baby Girls Summer Clothes Whale Print Top with Plaid Shorts Outfits Set (7T, Pink)\n"
     ]
    },
    {
     "data": {
      "text/html": [
       "<img src=\"https://images-na.ssl-images-amazon.com/images/I/51S4bV58EAL._SS40_.jpg|https://images-na.ssl-images-amazon.com/images/I/41%2BzjfJH-1L._SS40_.jpg|https://images-na.ssl-images-amazon.com/images/I/51vO79H49lL._SS40_.jpg|https://images-na.ssl-images-amazon.com/images/I/51GCLMBPV%2BL._SS40_.jpg|https://images-na.ssl-images-amazon.com/images/I/51epB5BLHwL._SS40_.jpg|https://images-na.ssl-images-amazon.com/images/I/51K0X8zZqYL._SS40_.jpg|https://images-na.ssl-images-amazon.com/images/I/515x47hnDyL._SS40_.jpg\"/>"
      ],
      "text/plain": [
       "<IPython.core.display.Image object>"
      ]
     },
     "metadata": {},
     "output_type": "display_data"
    },
    {
     "name": "stdout",
     "output_type": "stream",
     "text": [
      "Product 34: TEXCO Pink Side Draw Strings Crop Top\n"
     ]
    },
    {
     "data": {
      "text/html": [
       "<img src=\"https://images-na.ssl-images-amazon.com/images/I/41USREhME1L._SR38,50_.jpg|https://images-na.ssl-images-amazon.com/images/I/41rcIzv2mqL._SR38,50_.jpg|https://images-na.ssl-images-amazon.com/images/I/41mw4QRWVIL._SR38,50_.jpg|https://images-na.ssl-images-amazon.com/images/I/41kEkUOqt0L._SR38,50_.jpg\"/>"
      ],
      "text/plain": [
       "<IPython.core.display.Image object>"
      ]
     },
     "metadata": {},
     "output_type": "display_data"
    },
    {
     "name": "stdout",
     "output_type": "stream",
     "text": [
      "Product 35: DHRUVI TRENDZ Women's Soft Cotton Plain Saree with Blouse Piece Material\n"
     ]
    },
    {
     "data": {
      "text/html": [
       "<img src=\"https://images-na.ssl-images-amazon.com/images/I/41GoauxRa-L._SR38,50_.jpg|https://images-na.ssl-images-amazon.com/images/I/41arA9AsDdL._SR38,50_.jpg|https://images-na.ssl-images-amazon.com/images/I/41fUk9vsm8L._SR38,50_.jpg|https://images-na.ssl-images-amazon.com/images/I/41msmfprn-L._SR38,50_.jpg\"/>"
      ],
      "text/plain": [
       "<IPython.core.display.Image object>"
      ]
     },
     "metadata": {},
     "output_type": "display_data"
    },
    {
     "name": "stdout",
     "output_type": "stream",
     "text": [
      "Product 36: Colt Boy's Pyjama Set\n"
     ]
    },
    {
     "data": {
      "text/html": [
       "<img src=\"https://images-na.ssl-images-amazon.com/images/I/51vgN79cc6L._SR38,50_.jpg|https://images-na.ssl-images-amazon.com/images/I/41X-1VtzJjL._SR38,50_.jpg|https://images-na.ssl-images-amazon.com/images/I/510k6rGQNvL._SR38,50_.jpg\"/>"
      ],
      "text/plain": [
       "<IPython.core.display.Image object>"
      ]
     },
     "metadata": {},
     "output_type": "display_data"
    },
    {
     "name": "stdout",
     "output_type": "stream",
     "text": [
      "Product 37: bluehaaat Balidan Dena Hoga Sacred Games Quote Printed Cotton Tshirt for Men\n"
     ]
    },
    {
     "data": {
      "text/html": [
       "<img src=\"https://images-na.ssl-images-amazon.com/images/I/41CRz8eP1DL._SR38,50_.jpg|https://images-na.ssl-images-amazon.com/images/I/51c2qyBfw-L._SR38,50_.jpg|https://images-na.ssl-images-amazon.com/images/I/316OB74sADL._SR38,50_.jpg\"/>"
      ],
      "text/plain": [
       "<IPython.core.display.Image object>"
      ]
     },
     "metadata": {},
     "output_type": "display_data"
    },
    {
     "name": "stdout",
     "output_type": "stream",
     "text": [
      "Product 38: Magson Neo Men's Assorted Tie (2018 collection)\n"
     ]
    },
    {
     "data": {
      "text/html": [
       "<img src=\"https://images-na.ssl-images-amazon.com/images/I/41UOdBJ6vWL._SR38,50_.jpg\"/>"
      ],
      "text/plain": [
       "<IPython.core.display.Image object>"
      ]
     },
     "metadata": {},
     "output_type": "display_data"
    },
    {
     "name": "stdout",
     "output_type": "stream",
     "text": [
      "Product 39: Arrow Newyork Men's Checkered Slim Fit Formal Shirt\n"
     ]
    },
    {
     "data": {
      "text/html": [
       "<img src=\"https://images-na.ssl-images-amazon.com/images/I/41eHq5xpMuL._SR38,50_.jpg|https://images-na.ssl-images-amazon.com/images/I/31OAF-H%2B5jL._SR38,50_.jpg|https://images-na.ssl-images-amazon.com/images/I/41RiNNtAqOL._SR38,50_.jpg|https://images-na.ssl-images-amazon.com/images/I/31It7XwcohL._SR38,50_.jpg\"/>"
      ],
      "text/plain": [
       "<IPython.core.display.Image object>"
      ]
     },
     "metadata": {},
     "output_type": "display_data"
    },
    {
     "name": "stdout",
     "output_type": "stream",
     "text": [
      "Product 40: Tommy Hilfiger Men's Checkered Regular fit Casual Shirt\n"
     ]
    },
    {
     "data": {
      "text/html": [
       "<img src=\"https://images-na.ssl-images-amazon.com/images/I/41yL7dukGkL._SR38,50_.jpg|https://images-na.ssl-images-amazon.com/images/I/41QY1%2BK-eCL._SR38,50_.jpg|https://images-na.ssl-images-amazon.com/images/I/51-PNzJhvVL._SR38,50_.jpg|https://images-na.ssl-images-amazon.com/images/I/31zrhYOlHLL._SR38,50_.jpg\"/>"
      ],
      "text/plain": [
       "<IPython.core.display.Image object>"
      ]
     },
     "metadata": {},
     "output_type": "display_data"
    },
    {
     "name": "stdout",
     "output_type": "stream",
     "text": [
      "Product 41: Vetrokart Women's Tappeta Silk Semi-stitched Lehenga Choli (Blue, Free Size)\n"
     ]
    },
    {
     "data": {
      "text/html": [
       "<img src=\"https://images-na.ssl-images-amazon.com/images/I/41XFwq3zutL._SR38,50_.jpg|https://images-na.ssl-images-amazon.com/images/I/51%2BPiKKrCeL._SR38,50_.jpg|https://images-na.ssl-images-amazon.com/images/I/4153ImZYJeL._SR38,50_.jpg|https://images-na.ssl-images-amazon.com/images/I/41OstlQXYiL._SR38,50_.jpg\"/>"
      ],
      "text/plain": [
       "<IPython.core.display.Image object>"
      ]
     },
     "metadata": {},
     "output_type": "display_data"
    },
    {
     "name": "stdout",
     "output_type": "stream",
     "text": [
      "Product 42: ONLY Women Casual Dress\n"
     ]
    },
    {
     "data": {
      "text/html": [
       "<img src=\"https://images-na.ssl-images-amazon.com/images/I/41lhyV7-v3L._SR38,50_.jpg|https://images-na.ssl-images-amazon.com/images/I/41nmp56w68L._SR38,50_.jpg|https://images-na.ssl-images-amazon.com/images/I/413UY%2BC4ljL._SR38,50_.jpg|https://images-na.ssl-images-amazon.com/images/I/51yWKpBRFiL._SR38,50_.jpg|https://images-na.ssl-images-amazon.com/images/I/41K29vQGdDL._SR38,50_.jpg\"/>"
      ],
      "text/plain": [
       "<IPython.core.display.Image object>"
      ]
     },
     "metadata": {},
     "output_type": "display_data"
    },
    {
     "name": "stdout",
     "output_type": "stream",
     "text": [
      "Product 43: Rangeelo rajasthan Women's Straight Kurta\n"
     ]
    },
    {
     "data": {
      "text/html": [
       "<img src=\"https://images-na.ssl-images-amazon.com/images/I/41FiRDT8FDL._SR38,50_.jpg|https://images-na.ssl-images-amazon.com/images/I/31eQPGZESJL._SR38,50_.jpg|https://images-na.ssl-images-amazon.com/images/I/41yoP1oTjjL._SR38,50_.jpg|https://images-na.ssl-images-amazon.com/images/I/41S8m-ibm9L._SR38,50_.jpg|https://images-na.ssl-images-amazon.com/images/I/41vUHZYnOWL._SR38,50_.jpg\"/>"
      ],
      "text/plain": [
       "<IPython.core.display.Image object>"
      ]
     },
     "metadata": {},
     "output_type": "display_data"
    },
    {
     "name": "stdout",
     "output_type": "stream",
     "text": [
      "Product 44: Pepe Jeans Girl's Plain Regular fit T-Shirt\n"
     ]
    },
    {
     "data": {
      "text/html": [
       "<img src=\"https://images-na.ssl-images-amazon.com/images/I/41hzkkLMD3L._SR38,50_.jpg|https://images-na.ssl-images-amazon.com/images/I/311psnMdDHL._SR38,50_.jpg|https://images-na.ssl-images-amazon.com/images/I/41RYrC2PZpL._SR38,50_.jpg\"/>"
      ],
      "text/plain": [
       "<IPython.core.display.Image object>"
      ]
     },
     "metadata": {},
     "output_type": "display_data"
    },
    {
     "name": "stdout",
     "output_type": "stream",
     "text": [
      "Product 45: Peter England Men's Slim fit Formal Shirt\n"
     ]
    },
    {
     "data": {
      "text/html": [
       "<img src=\"https://images-na.ssl-images-amazon.com/images/I/41NkieGHOUL._SR38,50_.jpg|https://images-na.ssl-images-amazon.com/images/I/41PE1-S-v-L._SR38,50_.jpg|https://images-na.ssl-images-amazon.com/images/I/51aU3RYYPjL._SR38,50_.jpg|https://images-na.ssl-images-amazon.com/images/I/31ereOPprLL._SR38,50_.jpg\"/>"
      ],
      "text/plain": [
       "<IPython.core.display.Image object>"
      ]
     },
     "metadata": {},
     "output_type": "display_data"
    },
    {
     "name": "stdout",
     "output_type": "stream",
     "text": [
      "Product 46: LEADING LADY Women's Full Cup Non Padded Non Wired Bra (Pack of 2)\n"
     ]
    },
    {
     "data": {
      "text/html": [
       "<img src=\"https://images-na.ssl-images-amazon.com/images/I/51zWOLsQqAL._SR38,50_.jpg|https://images-na.ssl-images-amazon.com/images/I/51KbkzXONdL._SR38,50_.jpg\"/>"
      ],
      "text/plain": [
       "<IPython.core.display.Image object>"
      ]
     },
     "metadata": {},
     "output_type": "display_data"
    },
    {
     "name": "stdout",
     "output_type": "stream",
     "text": [
      "Product 47: RIGO Men's Striped Slim Fit T-Shirt\n"
     ]
    },
    {
     "data": {
      "text/html": [
       "<img src=\"https://images-na.ssl-images-amazon.com/images/I/41q6ydde0sL._SR38,50_.jpg|https://images-na.ssl-images-amazon.com/images/I/41Iwlp5%2BXhL._SR38,50_.jpg|https://images-na.ssl-images-amazon.com/images/I/41twYRq0GmL._SR38,50_.jpg|https://images-na.ssl-images-amazon.com/images/I/51QoCbTKkhL._SR38,50_.jpg\"/>"
      ],
      "text/plain": [
       "<IPython.core.display.Image object>"
      ]
     },
     "metadata": {},
     "output_type": "display_data"
    },
    {
     "name": "stdout",
     "output_type": "stream",
     "text": [
      "Product 48: Miss Chase Women's Pink Self Design Bardot Neck Half Sleeved Off Shoulder Ruffled Top\n"
     ]
    },
    {
     "data": {
      "text/html": [
       "<img src=\"https://images-na.ssl-images-amazon.com/images/I/41cRiYKt30L._SR38,50_.jpg|https://images-na.ssl-images-amazon.com/images/I/31DxuzmI6dL._SR38,50_.jpg|https://images-na.ssl-images-amazon.com/images/I/41RszqzPx5L._SR38,50_.jpg|https://images-na.ssl-images-amazon.com/images/I/41V%2Bh5KVPPL._SR38,50_.jpg|https://images-na.ssl-images-amazon.com/images/I/417PcRzd-wL._SR38,50_.jpg|https://images-na.ssl-images-amazon.com/images/I/41V-QFQFGoL._SR38,50_.jpg\"/>"
      ],
      "text/plain": [
       "<IPython.core.display.Image object>"
      ]
     },
     "metadata": {},
     "output_type": "display_data"
    },
    {
     "name": "stdout",
     "output_type": "stream",
     "text": [
      "Product 49: EDGEMETER Navy Blue Round Neck Half Sleeves Solid Plane t-Shirt\n"
     ]
    },
    {
     "data": {
      "text/html": [
       "<img src=\"https://images-na.ssl-images-amazon.com/images/I/41yq1W9tsPL._SR38,50_.jpg|https://images-na.ssl-images-amazon.com/images/I/31sl7cBA7vL._SR38,50_.jpg|https://images-na.ssl-images-amazon.com/images/I/41b8900KCRL._SR38,50_.jpg\"/>"
      ],
      "text/plain": [
       "<IPython.core.display.Image object>"
      ]
     },
     "metadata": {},
     "output_type": "display_data"
    },
    {
     "name": "stdout",
     "output_type": "stream",
     "text": [
      "Product 50: SWORNOF Women's Silk Saree With Blouse Piece (Blue)\n"
     ]
    },
    {
     "data": {
      "text/html": [
       "<img src=\"https://images-na.ssl-images-amazon.com/images/I/41O6PxBNTiL._SR38,50_.jpg|https://images-na.ssl-images-amazon.com/images/I/41ODHEG2rOL._SR38,50_.jpg|https://images-na.ssl-images-amazon.com/images/I/51nLako0dtL._SR38,50_.jpg|https://images-na.ssl-images-amazon.com/images/I/41cnCPc5keL._SR38,50_.jpg\"/>"
      ],
      "text/plain": [
       "<IPython.core.display.Image object>"
      ]
     },
     "metadata": {},
     "output_type": "display_data"
    },
    {
     "name": "stdout",
     "output_type": "stream",
     "text": [
      "Product 51: People Women's Regular Fit Top\n"
     ]
    },
    {
     "data": {
      "text/html": [
       "<img src=\"https://images-na.ssl-images-amazon.com/images/I/319nzLg5HiL._SR38,50_.jpg|https://images-na.ssl-images-amazon.com/images/I/31wvXs2lpvL._SR38,50_.jpg|https://images-na.ssl-images-amazon.com/images/I/31WMr6gXUYL._SR38,50_.jpg|https://images-na.ssl-images-amazon.com/images/I/413SUOyGU2L._SR38,50_.jpg|https://images-na.ssl-images-amazon.com/images/I/41Lb54k7ijL._SR38,50_.jpg|https://images-na.ssl-images-amazon.com/images/I/31g5sXgv%2BlL._SR38,50_.jpg\"/>"
      ],
      "text/plain": [
       "<IPython.core.display.Image object>"
      ]
     },
     "metadata": {},
     "output_type": "display_data"
    },
    {
     "name": "stdout",
     "output_type": "stream",
     "text": [
      "Product 52: GURUS FOREVER RAYON PLAZZO XXL TO 5XL\n"
     ]
    },
    {
     "data": {
      "text/html": [
       "<img src=\"https://images-na.ssl-images-amazon.com/images/I/31lpf2TU9aL._SR38,50_.jpg|https://images-na.ssl-images-amazon.com/images/I/311q62A6rUL._SR38,50_.jpg|https://images-na.ssl-images-amazon.com/images/I/31UVPr%2BdFkL._SR38,50_.jpg\"/>"
      ],
      "text/plain": [
       "<IPython.core.display.Image object>"
      ]
     },
     "metadata": {},
     "output_type": "display_data"
    },
    {
     "name": "stdout",
     "output_type": "stream",
     "text": [
      "Product 53: Aurelia Women's Straight Kurta\n"
     ]
    },
    {
     "data": {
      "text/html": [
       "<img src=\"https://images-na.ssl-images-amazon.com/images/I/41laKoXcSSL._SR38,50_.jpg|https://images-na.ssl-images-amazon.com/images/I/31eDLSCbMsL._SR38,50_.jpg|https://images-na.ssl-images-amazon.com/images/I/41pJq0C2caL._SR38,50_.jpg|https://images-na.ssl-images-amazon.com/images/I/51SKavCxAwL._SR38,50_.jpg\"/>"
      ],
      "text/plain": [
       "<IPython.core.display.Image object>"
      ]
     },
     "metadata": {},
     "output_type": "display_data"
    },
    {
     "name": "stdout",
     "output_type": "stream",
     "text": [
      "Product 54: arars Women's Kanchipuram Kanjivaram Pattu style crepe butta silk saree with Blouse, Saree Colour: (267)\n"
     ]
    },
    {
     "data": {
      "text/html": [
       "<img src=\"https://images-na.ssl-images-amazon.com/images/I/41u1Vfbd1XL._SR38,50_.jpg|https://images-na.ssl-images-amazon.com/images/I/51AM6sGtcdL._SR38,50_.jpg|https://images-na.ssl-images-amazon.com/images/I/519OVmJPzDL._SR38,50_.jpg|https://images-na.ssl-images-amazon.com/images/I/41qdHU%2BuHnL._SR38,50_.jpg\"/>"
      ],
      "text/plain": [
       "<IPython.core.display.Image object>"
      ]
     },
     "metadata": {},
     "output_type": "display_data"
    },
    {
     "name": "stdout",
     "output_type": "stream",
     "text": [
      "Product 55: Hot Wheels Boys' T-Shirt (HWPBSL0893_Grey_4-5 Years)\n"
     ]
    },
    {
     "data": {
      "text/html": [
       "<img src=\"https://images-na.ssl-images-amazon.com/images/I/51yfUVYYS5L._SR38,50_.jpg|https://images-na.ssl-images-amazon.com/images/I/51JO9JqYYkL._SR38,50_.jpg|https://images-na.ssl-images-amazon.com/images/I/51KFQt%2BIC5L._SR38,50_.jpg\"/>"
      ],
      "text/plain": [
       "<IPython.core.display.Image object>"
      ]
     },
     "metadata": {},
     "output_type": "display_data"
    },
    {
     "name": "stdout",
     "output_type": "stream",
     "text": [
      "Product 56: Van Heusen Men's Slim fit Formal Shirt\n"
     ]
    },
    {
     "data": {
      "text/html": [
       "<img src=\"https://images-na.ssl-images-amazon.com/images/I/413X%2BMJdflL._SR38,50_.jpg|https://images-na.ssl-images-amazon.com/images/I/41tyBfXeKIL._SR38,50_.jpg|https://images-na.ssl-images-amazon.com/images/I/51MetDcRUQL._SR38,50_.jpg|https://images-na.ssl-images-amazon.com/images/I/31WsXVeqKIL._SR38,50_.jpg\"/>"
      ],
      "text/plain": [
       "<IPython.core.display.Image object>"
      ]
     },
     "metadata": {},
     "output_type": "display_data"
    },
    {
     "name": "stdout",
     "output_type": "stream",
     "text": [
      "Product 57: Rupa Thermocot Women's Plain/Solid Synthetic Thermal Bottom\n"
     ]
    },
    {
     "data": {
      "text/html": [
       "<img src=\"https://images-na.ssl-images-amazon.com/images/I/415V10uXTwL._SR38,50_.jpg|https://images-na.ssl-images-amazon.com/images/I/41GE%2BhquW%2BL._SR38,50_.jpg\"/>"
      ],
      "text/plain": [
       "<IPython.core.display.Image object>"
      ]
     },
     "metadata": {},
     "output_type": "display_data"
    },
    {
     "name": "stdout",
     "output_type": "stream",
     "text": [
      "Product 58: Aai Shree Khodiyar Art Georgette Saree\n"
     ]
    },
    {
     "data": {
      "text/html": [
       "<img src=\"https://images-na.ssl-images-amazon.com/images/I/41SgxA1gpoL._SR38,50_.jpg|https://images-na.ssl-images-amazon.com/images/I/51d1Sb7eF4L._SR38,50_.jpg\"/>"
      ],
      "text/plain": [
       "<IPython.core.display.Image object>"
      ]
     },
     "metadata": {},
     "output_type": "display_data"
    },
    {
     "name": "stdout",
     "output_type": "stream",
     "text": [
      "Product 59: The Children's Place Boys' Big Fleece Sherpa Sweater\n"
     ]
    },
    {
     "data": {
      "text/html": [
       "<img src=\"https://images-na.ssl-images-amazon.com/images/I/61%2BDBWjLvgL._SR38,50_.jpg\"/>"
      ],
      "text/plain": [
       "<IPython.core.display.Image object>"
      ]
     },
     "metadata": {},
     "output_type": "display_data"
    },
    {
     "name": "stdout",
     "output_type": "stream",
     "text": [
      "Product 60: Women's Chicken Embellished/Embroidery Kurta -(Medium) Red\n"
     ]
    },
    {
     "data": {
      "text/html": [
       "<img src=\"https://images-na.ssl-images-amazon.com/images/I/41Slv3JH7XL._SR38,50_.jpg|https://images-na.ssl-images-amazon.com/images/I/31qKeqeVLLL._SR38,50_.jpg\"/>"
      ],
      "text/plain": [
       "<IPython.core.display.Image object>"
      ]
     },
     "metadata": {},
     "output_type": "display_data"
    },
    {
     "name": "stdout",
     "output_type": "stream",
     "text": [
      "Product 61: Simplicity Patterns Creative Patterns Uv5124Os Shorts Or Pants, One Size\n"
     ]
    },
    {
     "data": {
      "text/html": [
       "<img src=\"https://images-na.ssl-images-amazon.com/images/I/51sEP3UaPAL._SS40_.jpg|https://images-na.ssl-images-amazon.com/images/I/511dd41L92L._SS40_.jpg|https://images-na.ssl-images-amazon.com/images/I/51U3r22-cKL._SS40_.jpg|https://images-na.ssl-images-amazon.com/images/I/41i2zN4tIXL._SS40_.jpg|https://images-na.ssl-images-amazon.com/images/I/51uNlu3BsvL._SS40_.jpg|https://images-na.ssl-images-amazon.com/images/I/41E%2BnRiJQFL._SS40_.jpg\"/>"
      ],
      "text/plain": [
       "<IPython.core.display.Image object>"
      ]
     },
     "metadata": {},
     "output_type": "display_data"
    },
    {
     "name": "stdout",
     "output_type": "stream",
     "text": [
      "Product 62: Lincy fashion women's anarkli gown (Semi-Stitched Gown_Free Size)\n"
     ]
    },
    {
     "data": {
      "text/html": [
       "<img src=\"https://images-na.ssl-images-amazon.com/images/I/51h6EVNSpQL._SR38,50_.jpg|https://images-na.ssl-images-amazon.com/images/I/51Uvh-jeYPL._SR38,50_.jpg|https://images-na.ssl-images-amazon.com/images/I/51IWCulsOyL._SR38,50_.jpg|https://images-na.ssl-images-amazon.com/images/I/418EES1whwL._SR38,50_.jpg\"/>"
      ],
      "text/plain": [
       "<IPython.core.display.Image object>"
      ]
     },
     "metadata": {},
     "output_type": "display_data"
    },
    {
     "name": "stdout",
     "output_type": "stream",
     "text": [
      "Product 63: Max Men's Regular fit T-Shirt\n"
     ]
    },
    {
     "data": {
      "text/html": [
       "<img src=\"https://images-na.ssl-images-amazon.com/images/I/31EjK%2BaoaXL._SR38,50_.jpg|https://images-na.ssl-images-amazon.com/images/I/41bMSmYxhUL._SR38,50_.jpg|https://images-na.ssl-images-amazon.com/images/I/41bkIFtzhKL._SR38,50_.jpg|https://images-na.ssl-images-amazon.com/images/I/41CRVApEozL._SR38,50_.jpg|https://images-na.ssl-images-amazon.com/images/I/41vnw4N9SPL._SR38,50_.jpg\"/>"
      ],
      "text/plain": [
       "<IPython.core.display.Image object>"
      ]
     },
     "metadata": {},
     "output_type": "display_data"
    },
    {
     "name": "stdout",
     "output_type": "stream",
     "text": [
      "Product 64: Claura Floral Printed Red Color Cotton Nighty With Robe Or Nightdress\n"
     ]
    },
    {
     "data": {
      "text/html": [
       "<img src=\"https://images-na.ssl-images-amazon.com/images/I/51AuilKWN0L._SR38,50_.jpg|https://images-na.ssl-images-amazon.com/images/I/41nNwEu6umL._SR38,50_.jpg|https://images-na.ssl-images-amazon.com/images/I/41%2Bm%2BTDfPgL._SR38,50_.jpg|https://images-na.ssl-images-amazon.com/images/I/41GanVi7ZJL._SR38,50_.jpg|https://images-na.ssl-images-amazon.com/images/I/41kUkUqtNlL._SR38,50_.jpg|https://images-na.ssl-images-amazon.com/images/I/510kzCD-iTL._SR38,50_.jpg|https://images-na.ssl-images-amazon.com/images/I/61F8VhYwNaL._SR38,50_.jpg\"/>"
      ],
      "text/plain": [
       "<IPython.core.display.Image object>"
      ]
     },
     "metadata": {},
     "output_type": "display_data"
    },
    {
     "name": "stdout",
     "output_type": "stream",
     "text": [
      "Product 65: CAVALLO by Linen Club: Red Checked Casual Linen Shirt for Men\n"
     ]
    },
    {
     "data": {
      "text/html": [
       "<img src=\"https://images-na.ssl-images-amazon.com/images/I/41eCuUkcDFL._SR38,50_.jpg|https://images-na.ssl-images-amazon.com/images/I/41jn17cxWDL._SR38,50_.jpg|https://images-na.ssl-images-amazon.com/images/I/41VViQF3-ML._SR38,50_.jpg|https://images-na.ssl-images-amazon.com/images/I/41Z0uVR9zTL._SR38,50_.jpg|https://images-na.ssl-images-amazon.com/images/I/51lJTgV7SwL._SR38,50_.jpg|https://images-na.ssl-images-amazon.com/images/I/316FUy5uO9L._SR38,50_.jpg\"/>"
      ],
      "text/plain": [
       "<IPython.core.display.Image object>"
      ]
     },
     "metadata": {},
     "output_type": "display_data"
    },
    {
     "name": "stdout",
     "output_type": "stream",
     "text": [
      "Product 66: Roden Men's Solid Full Sleeve Tshirt\n"
     ]
    },
    {
     "data": {
      "text/html": [
       "<img src=\"https://images-na.ssl-images-amazon.com/images/I/411-2k0aNXL._SR38,50_.jpg|https://images-na.ssl-images-amazon.com/images/I/417tuk3kTjL._SR38,50_.jpg|https://images-na.ssl-images-amazon.com/images/I/41DPmY3giwL._SR38,50_.jpg|https://images-na.ssl-images-amazon.com/images/I/31XM-FHyAbL._SR38,50_.jpg\"/>"
      ],
      "text/plain": [
       "<IPython.core.display.Image object>"
      ]
     },
     "metadata": {},
     "output_type": "display_data"
    },
    {
     "name": "stdout",
     "output_type": "stream",
     "text": [
      "Product 67: SEALINF Womens Top Handle Leather Shoulder Bag Convertible Backpack with Front Flap (brown)\n"
     ]
    },
    {
     "data": {
      "text/html": [
       "<img src=\"https://images-na.ssl-images-amazon.com/images/I/51BuSr44eJL._SR38,50_.jpg|https://images-na.ssl-images-amazon.com/images/I/51P5NhlI5oL._SR38,50_.jpg|https://images-na.ssl-images-amazon.com/images/I/41Qj78yrVgL._SR38,50_.jpg|https://images-na.ssl-images-amazon.com/images/I/411WHtDMWkL._SR38,50_.jpg|https://images-na.ssl-images-amazon.com/images/I/41zRNLQfmAL._SR38,50_.jpg|https://images-na.ssl-images-amazon.com/images/I/61w8E0-AkXL._SR38,50_.jpg\"/>"
      ],
      "text/plain": [
       "<IPython.core.display.Image object>"
      ]
     },
     "metadata": {},
     "output_type": "display_data"
    },
    {
     "name": "stdout",
     "output_type": "stream",
     "text": [
      "Product 68: Vinay's Women's Cotton Straight Kurta\n"
     ]
    },
    {
     "data": {
      "text/html": [
       "<img src=\"https://images-na.ssl-images-amazon.com/images/I/31HuWbdi-ZL._SR38,50_.jpg|https://images-na.ssl-images-amazon.com/images/I/31MJr4mOZNL._SR38,50_.jpg|https://images-na.ssl-images-amazon.com/images/I/31I2-opWuZL._SR38,50_.jpg|https://images-na.ssl-images-amazon.com/images/I/31rGLYeLojL._SR38,50_.jpg\"/>"
      ],
      "text/plain": [
       "<IPython.core.display.Image object>"
      ]
     },
     "metadata": {},
     "output_type": "display_data"
    },
    {
     "name": "stdout",
     "output_type": "stream",
     "text": [
      "Product 69: Stormborn Men's Printed Regular Fit T-Shirt\n"
     ]
    },
    {
     "data": {
      "text/html": [
       "<img src=\"https://images-na.ssl-images-amazon.com/images/I/51QLzbv5DvL._SR38,50_.jpg|https://images-na.ssl-images-amazon.com/images/I/41ympw%2BX3UL._SR38,50_.jpg\"/>"
      ],
      "text/plain": [
       "<IPython.core.display.Image object>"
      ]
     },
     "metadata": {},
     "output_type": "display_data"
    },
    {
     "name": "stdout",
     "output_type": "stream",
     "text": [
      "Product 70: VIP Frenchie Pro Cotton Briefs - Assorted Pack of 3 (Colors May Vary)\n"
     ]
    },
    {
     "data": {
      "text/html": [
       "<img src=\"https://images-na.ssl-images-amazon.com/images/I/41zbSWwFlJL._SR38,50_.jpg\"/>"
      ],
      "text/plain": [
       "<IPython.core.display.Image object>"
      ]
     },
     "metadata": {},
     "output_type": "display_data"
    },
    {
     "name": "stdout",
     "output_type": "stream",
     "text": [
      "Product 71: NYFASHION101 Boys& Solid Color Adjustable Pre-Tied Bow Ties\n"
     ]
    },
    {
     "data": {
      "text/html": [
       "<img src=\"https://images-na.ssl-images-amazon.com/images/I/31U1CXqh-VL._SR38,50_.jpg\"/>"
      ],
      "text/plain": [
       "<IPython.core.display.Image object>"
      ]
     },
     "metadata": {},
     "output_type": "display_data"
    },
    {
     "name": "stdout",
     "output_type": "stream",
     "text": [
      "Product 72: Usi universal Razor Black, Red and White Shorts\n"
     ]
    },
    {
     "data": {
      "text/html": [
       "<img src=\"https://images-na.ssl-images-amazon.com/images/I/41xGEnwpZZL._SR38,50_.jpg|https://images-na.ssl-images-amazon.com/images/I/41rj1W23ROL._SR38,50_.jpg|https://images-na.ssl-images-amazon.com/images/I/41l4wDPH2RL._SR38,50_.jpg|https://images-na.ssl-images-amazon.com/images/I/41ozanS32QL._SR38,50_.jpg\"/>"
      ],
      "text/plain": [
       "<IPython.core.display.Image object>"
      ]
     },
     "metadata": {},
     "output_type": "display_data"
    },
    {
     "name": "stdout",
     "output_type": "stream",
     "text": [
      "Product 73: Fruit of the Loom Men's Brief\n"
     ]
    },
    {
     "data": {
      "text/html": [
       "<img src=\"https://images-na.ssl-images-amazon.com/images/I/41OTovKBk7L._SR38,50_.jpg|https://images-na.ssl-images-amazon.com/images/I/41c3GrGWunL._SR38,50_.jpg|https://images-na.ssl-images-amazon.com/images/I/41VKV50Mt3L._SR38,50_.jpg|https://images-na.ssl-images-amazon.com/images/I/41JxJI0jh6L._SR38,50_.jpg|https://images-na.ssl-images-amazon.com/images/I/41aisUchJ5L._SR38,50_.jpg|https://images-na.ssl-images-amazon.com/images/I/41rLzOOx-gL._SR38,50_.jpg|https://images-na.ssl-images-amazon.com/images/I/41AGtLO0l8L._SR38,50_.jpg|https://images-na.ssl-images-amazon.com/images/I/41cMWkyp58L._SR38,50_.jpg\"/>"
      ],
      "text/plain": [
       "<IPython.core.display.Image object>"
      ]
     },
     "metadata": {},
     "output_type": "display_data"
    },
    {
     "name": "stdout",
     "output_type": "stream",
     "text": [
      "Product 74: Stacy Adams Men's Plus-Size 30 MM Pinseal Leather Belt with Brushed Nickel Buckle, Chocolate, 52\n"
     ]
    },
    {
     "data": {
      "text/html": [
       "<img src=\"https://images-na.ssl-images-amazon.com/images/I/31T2hJuFLLL._SR38,50_.jpg\"/>"
      ],
      "text/plain": [
       "<IPython.core.display.Image object>"
      ]
     },
     "metadata": {},
     "output_type": "display_data"
    },
    {
     "name": "stdout",
     "output_type": "stream",
     "text": [
      "Product 75: Hudson Baby First Birthday Outfit, 4 Piece\n"
     ]
    },
    {
     "data": {
      "text/html": [
       "<img src=\"https://images-na.ssl-images-amazon.com/images/I/31xPPUKmb6L._SR38,50_.jpg\"/>"
      ],
      "text/plain": [
       "<IPython.core.display.Image object>"
      ]
     },
     "metadata": {},
     "output_type": "display_data"
    },
    {
     "name": "stdout",
     "output_type": "stream",
     "text": [
      "Product 76: SCH Regular Fit Women's Cotton Rayon Casual Palazzo\n"
     ]
    },
    {
     "data": {
      "text/html": [
       "<img src=\"https://images-na.ssl-images-amazon.com/images/I/41SHFp4fAWL._SR38,50_.jpg|https://images-na.ssl-images-amazon.com/images/I/31J88rr%2B6aL._SR38,50_.jpg|https://images-na.ssl-images-amazon.com/images/I/31es4U%2BPG1L._SR38,50_.jpg|https://images-na.ssl-images-amazon.com/images/I/31N0Oy5DAVL._SR38,50_.jpg\"/>"
      ],
      "text/plain": [
       "<IPython.core.display.Image object>"
      ]
     },
     "metadata": {},
     "output_type": "display_data"
    },
    {
     "name": "stdout",
     "output_type": "stream",
     "text": [
      "Product 77: Hangout Hub Cotton Mens Tshirts Shiva Tilak Printed for Brothers/Sibiling/Family/Friends\n"
     ]
    },
    {
     "data": {
      "text/html": [
       "<img src=\"https://images-na.ssl-images-amazon.com/images/I/41ijIQsHabL._SR38,50_.jpg|https://images-na.ssl-images-amazon.com/images/I/41mwc8eWk9L._SR38,50_.jpg|https://images-na.ssl-images-amazon.com/images/I/311OjdcTacL._SR38,50_.jpg|https://images-na.ssl-images-amazon.com/images/I/415ke%2BDitcL._SR38,50_.jpg|https://images-na.ssl-images-amazon.com/images/I/519FmHdm10L._SR38,50_.jpg\"/>"
      ],
      "text/plain": [
       "<IPython.core.display.Image object>"
      ]
     },
     "metadata": {},
     "output_type": "display_data"
    },
    {
     "name": "stdout",
     "output_type": "stream",
     "text": [
      "Product 78: Peter England Men's Regular fit Formal Shirt\n"
     ]
    },
    {
     "data": {
      "text/html": [
       "<img src=\"https://images-na.ssl-images-amazon.com/images/I/51A18JrSRuL._SR38,50_.jpg|https://images-na.ssl-images-amazon.com/images/I/51iXhkymBWL._SR38,50_.jpg|https://images-na.ssl-images-amazon.com/images/I/51h-m1O-mQL._SR38,50_.jpg|https://images-na.ssl-images-amazon.com/images/I/31-AoBCsLfL._SR38,50_.jpg|https://images-na.ssl-images-amazon.com/images/I/51gV1piEjQL._SR38,50_.jpg\"/>"
      ],
      "text/plain": [
       "<IPython.core.display.Image object>"
      ]
     },
     "metadata": {},
     "output_type": "display_data"
    },
    {
     "name": "stdout",
     "output_type": "stream",
     "text": [
      "Product 79: Summer T-Shirts Blue Orange Green and Peach for Girl and Boy (Pack of 4)\n"
     ]
    },
    {
     "data": {
      "text/html": [
       "<img src=\"https://images-na.ssl-images-amazon.com/images/I/51zmulnQJEL._SR38,50_.jpg\"/>"
      ],
      "text/plain": [
       "<IPython.core.display.Image object>"
      ]
     },
     "metadata": {},
     "output_type": "display_data"
    },
    {
     "name": "stdout",
     "output_type": "stream",
     "text": [
      "Product 80: Aarika Cotton a-line Dress\n"
     ]
    },
    {
     "data": {
      "text/html": [
       "<img src=\"https://images-na.ssl-images-amazon.com/images/I/51jony9EzJL._SR38,50_.jpg|https://images-na.ssl-images-amazon.com/images/I/31AISVZWX6L._SR38,50_.jpg|https://images-na.ssl-images-amazon.com/images/I/51mlpCukheL._SR38,50_.jpg|https://images-na.ssl-images-amazon.com/images/I/51XaFKvyPQL._SR38,50_.jpg\"/>"
      ],
      "text/plain": [
       "<IPython.core.display.Image object>"
      ]
     },
     "metadata": {},
     "output_type": "display_data"
    },
    {
     "name": "stdout",
     "output_type": "stream",
     "text": [
      "Product 81: Excalibur by Unlimited Men's Solid Regular Fit Formal Shirt (Pack of 2)(Colors & Print May Vary)\n"
     ]
    },
    {
     "data": {
      "text/html": [
       "<img src=\"https://images-na.ssl-images-amazon.com/images/I/51m6yoVo5bL._SR38,50_.jpg|https://images-na.ssl-images-amazon.com/images/I/61anhDsYolL._SR38,50_.jpg|https://images-na.ssl-images-amazon.com/images/I/61eyMSOLOnL._SR38,50_.jpg\"/>"
      ],
      "text/plain": [
       "<IPython.core.display.Image object>"
      ]
     },
     "metadata": {},
     "output_type": "display_data"
    },
    {
     "name": "stdout",
     "output_type": "stream",
     "text": [
      "Product 82: Athflex Flex-Fit Fitness Gym Stringer Vest, Tank Top, Racer Back, Gym Vest, Men's Vest, Bodybuilding Stringer Vest\n"
     ]
    },
    {
     "data": {
      "text/html": [
       "<img src=\"https://images-na.ssl-images-amazon.com/images/I/41JhHSDZ3LL._SR38,50_.jpg|https://images-na.ssl-images-amazon.com/images/I/41WShn5KwZL._SR38,50_.jpg|https://images-na.ssl-images-amazon.com/images/I/31V9Z4sE0KL._SR38,50_.jpg|https://images-na.ssl-images-amazon.com/images/I/41txhuYRDpL._SR38,50_.jpg|https://images-na.ssl-images-amazon.com/images/I/413vFReRmcL._SR38,50_.jpg\"/>"
      ],
      "text/plain": [
       "<IPython.core.display.Image object>"
      ]
     },
     "metadata": {},
     "output_type": "display_data"
    },
    {
     "name": "stdout",
     "output_type": "stream",
     "text": [
      "Product 83: C.Cozami Women's Long Sleeves Casual White/Black/Red Checkered Shirt\n"
     ]
    },
    {
     "data": {
      "text/html": [
       "<img src=\"https://images-na.ssl-images-amazon.com/images/I/51vZ3qAtu9L._SR38,50_.jpg|https://images-na.ssl-images-amazon.com/images/I/51ALFeksHkL._SR38,50_.jpg|https://images-na.ssl-images-amazon.com/images/I/51%2BkDW4IUtL._SR38,50_.jpg|https://images-na.ssl-images-amazon.com/images/I/519Yl6aIgqL._SR38,50_.jpg|https://images-na.ssl-images-amazon.com/images/I/51KrZQREnPL._SR38,50_.jpg|https://images-na.ssl-images-amazon.com/images/I/51H6GubR0xL._SR38,50_.jpg\"/>"
      ],
      "text/plain": [
       "<IPython.core.display.Image object>"
      ]
     },
     "metadata": {},
     "output_type": "display_data"
    },
    {
     "name": "stdout",
     "output_type": "stream",
     "text": [
      "Product 84: Linkin Park by Free Authority Men's Regular fit T-Shirt\n"
     ]
    },
    {
     "data": {
      "text/html": [
       "<img src=\"https://images-na.ssl-images-amazon.com/images/I/31N5qJDlvuL._SR38,50_.jpg|https://images-na.ssl-images-amazon.com/images/I/31SY-%2BMoiwL._SR38,50_.jpg|https://images-na.ssl-images-amazon.com/images/I/418a0Poz3yL._SR38,50_.jpg|https://images-na.ssl-images-amazon.com/images/I/31Vx9zgVn6L._SR38,50_.jpg\"/>"
      ],
      "text/plain": [
       "<IPython.core.display.Image object>"
      ]
     },
     "metadata": {},
     "output_type": "display_data"
    },
    {
     "name": "stdout",
     "output_type": "stream",
     "text": [
      "Product 85: Forever Men Braided Casual Pure Leather Belt with Imported pin Buckle with belts for Boy casual stylish width 38mm color Blue New collection leather belt for men formal branded,Free Size upto 44 inch\n"
     ]
    },
    {
     "data": {
      "text/html": [
       "<img src=\"https://images-na.ssl-images-amazon.com/images/I/41m4w0oXt-L._SR38,50_.jpg|https://images-na.ssl-images-amazon.com/images/I/31DSZrJf%2BmL._SR38,50_.jpg|https://images-na.ssl-images-amazon.com/images/I/41aseh04GGL._SR38,50_.jpg|https://images-na.ssl-images-amazon.com/images/I/416MEI%2BPAOL._SR38,50_.jpg\"/>"
      ],
      "text/plain": [
       "<IPython.core.display.Image object>"
      ]
     },
     "metadata": {},
     "output_type": "display_data"
    },
    {
     "name": "stdout",
     "output_type": "stream",
     "text": [
      "Product 86: Silly Punter Punisher One Batch Two Batch Men's Cotton T-Shirt\n"
     ]
    },
    {
     "data": {
      "text/html": [
       "<img src=\"https://images-na.ssl-images-amazon.com/images/I/51ePPJwbVLL._SR38,50_.jpg|https://images-na.ssl-images-amazon.com/images/I/418omiy4q7L._SR38,50_.jpg|https://images-na.ssl-images-amazon.com/images/I/41AY9dRNeEL._SR38,50_.jpg\"/>"
      ],
      "text/plain": [
       "<IPython.core.display.Image object>"
      ]
     },
     "metadata": {},
     "output_type": "display_data"
    },
    {
     "name": "stdout",
     "output_type": "stream",
     "text": [
      "Product 87: Roden Mens Colorblock Cotton Vest\n"
     ]
    },
    {
     "data": {
      "text/html": [
       "<img src=\"https://images-na.ssl-images-amazon.com/images/I/313%2BEFpCWWL._SR38,50_.jpg|https://images-na.ssl-images-amazon.com/images/I/3101hsup8WL._SR38,50_.jpg|https://images-na.ssl-images-amazon.com/images/I/31jqb3iCFaL._SR38,50_.jpg|https://images-na.ssl-images-amazon.com/images/I/31HQwdBAZRL._SR38,50_.jpg\"/>"
      ],
      "text/plain": [
       "<IPython.core.display.Image object>"
      ]
     },
     "metadata": {},
     "output_type": "display_data"
    },
    {
     "name": "stdout",
     "output_type": "stream",
     "text": [
      "Product 88: Indigo Women's A-Line Kurti\n"
     ]
    },
    {
     "data": {
      "text/html": [
       "<img src=\"https://images-na.ssl-images-amazon.com/images/I/41z7OCqRCtL._SR38,50_.jpg|https://images-na.ssl-images-amazon.com/images/I/31CaZCpQVqL._SR38,50_.jpg|https://images-na.ssl-images-amazon.com/images/I/41orC1XwHdL._SR38,50_.jpg|https://images-na.ssl-images-amazon.com/images/I/51RaIASJp4L._SR38,50_.jpg|https://images-na.ssl-images-amazon.com/images/I/41SpgJwBAHL._SR38,50_.jpg\"/>"
      ],
      "text/plain": [
       "<IPython.core.display.Image object>"
      ]
     },
     "metadata": {},
     "output_type": "display_data"
    },
    {
     "name": "stdout",
     "output_type": "stream",
     "text": [
      "Product 89: Peter England Men's Printed Slim Fit Formal Shirt\n"
     ]
    },
    {
     "data": {
      "text/html": [
       "<img src=\"https://images-na.ssl-images-amazon.com/images/I/41jS0oirfuL._SR38,50_.jpg|https://images-na.ssl-images-amazon.com/images/I/41GUiWeETDL._SR38,50_.jpg|https://images-na.ssl-images-amazon.com/images/I/51J0eVHtHPL._SR38,50_.jpg|https://images-na.ssl-images-amazon.com/images/I/41%2BU09aRvaL._SR38,50_.jpg\"/>"
      ],
      "text/plain": [
       "<IPython.core.display.Image object>"
      ]
     },
     "metadata": {},
     "output_type": "display_data"
    },
    {
     "name": "stdout",
     "output_type": "stream",
     "text": [
      "Product 90: BIBA Women's Straight Kurta\n"
     ]
    },
    {
     "data": {
      "text/html": [
       "<img src=\"https://images-na.ssl-images-amazon.com/images/I/31kewjvwuGL._SR38,50_.jpg|https://images-na.ssl-images-amazon.com/images/I/41FIVMwAYcL._SR38,50_.jpg|https://images-na.ssl-images-amazon.com/images/I/31PY3ZcZlzL._SR38,50_.jpg|https://images-na.ssl-images-amazon.com/images/I/51y%2B5VQ-lyL._SR38,50_.jpg|https://images-na.ssl-images-amazon.com/images/I/31GSlcoVMML._SR38,50_.jpg\"/>"
      ],
      "text/plain": [
       "<IPython.core.display.Image object>"
      ]
     },
     "metadata": {},
     "output_type": "display_data"
    },
    {
     "name": "stdout",
     "output_type": "stream",
     "text": [
      "Product 91: Red Eye black suspender with bow for kids\n"
     ]
    },
    {
     "data": {
      "text/html": [
       "<img src=\"https://images-na.ssl-images-amazon.com/images/I/410cl1%2BmJGL._SR38,50_.jpg|https://images-na.ssl-images-amazon.com/images/I/41zl84draIL._SR38,50_.jpg|https://images-na.ssl-images-amazon.com/images/I/4101fwzd%2BWL._SR38,50_.jpg\"/>"
      ],
      "text/plain": [
       "<IPython.core.display.Image object>"
      ]
     },
     "metadata": {},
     "output_type": "display_data"
    },
    {
     "name": "stdout",
     "output_type": "stream",
     "text": [
      "Product 92: Loviena Gypsy Men's Tie\n"
     ]
    },
    {
     "data": {
      "text/html": [
       "<img src=\"https://images-na.ssl-images-amazon.com/images/I/41BDlCNDUvL._SR38,50_.jpg|https://images-na.ssl-images-amazon.com/images/I/312MYFwN1%2BL._SR38,50_.jpg|https://images-na.ssl-images-amazon.com/images/I/41MhKxkRq6L._SR38,50_.jpg\"/>"
      ],
      "text/plain": [
       "<IPython.core.display.Image object>"
      ]
     },
     "metadata": {},
     "output_type": "display_data"
    },
    {
     "name": "stdout",
     "output_type": "stream",
     "text": [
      "Product 93: LOPA CORAL-PINK FOIL PRINTED & EMBROIDERED RAYON STRAIGHT FIT KURTA AND PRINTED PALAZZO\n"
     ]
    },
    {
     "data": {
      "text/html": [
       "<img src=\"https://images-na.ssl-images-amazon.com/images/I/31sq%2BRV%2B7ML._SR38,50_.jpg|https://images-na.ssl-images-amazon.com/images/I/31eBQkNtZsL._SR38,50_.jpg|https://images-na.ssl-images-amazon.com/images/I/31vHhqS5wNL._SR38,50_.jpg|https://images-na.ssl-images-amazon.com/images/I/31MPMBW%2BMzL._SR38,50_.jpg|https://images-na.ssl-images-amazon.com/images/I/41FuiRLa95L._SR38,50_.jpg\"/>"
      ],
      "text/plain": [
       "<IPython.core.display.Image object>"
      ]
     },
     "metadata": {},
     "output_type": "display_data"
    },
    {
     "name": "stdout",
     "output_type": "stream",
     "text": [
      "Product 94: Enchanted Drapes Womens' Blue Red Cheque Crepe Kurti [Size: M] {EDK0193}\n"
     ]
    },
    {
     "data": {
      "text/html": [
       "<img src=\"https://images-na.ssl-images-amazon.com/images/I/41vV0VksWTL._SR38,50_.jpg\"/>"
      ],
      "text/plain": [
       "<IPython.core.display.Image object>"
      ]
     },
     "metadata": {},
     "output_type": "display_data"
    },
    {
     "name": "stdout",
     "output_type": "stream",
     "text": [
      "Product 95: Aurelia Women's Cotton A-Line Kurta\n"
     ]
    },
    {
     "data": {
      "text/html": [
       "<img src=\"https://images-na.ssl-images-amazon.com/images/I/41EPKldN8sL._SR38,50_.jpg|https://images-na.ssl-images-amazon.com/images/I/31KxGbsRayL._SR38,50_.jpg|https://images-na.ssl-images-amazon.com/images/I/31fQas5HMqL._SR38,50_.jpg|https://images-na.ssl-images-amazon.com/images/I/51u4fFeCNYL._SR38,50_.jpg|https://images-na.ssl-images-amazon.com/images/I/41PN70iqYoL._SR38,50_.jpg|https://images-na.ssl-images-amazon.com/images/I/31rhALn3LRL._SR38,50_.jpg|https://images-na.ssl-images-amazon.com/images/I/51pHlGOn27L._SR38,50_.jpg\"/>"
      ],
      "text/plain": [
       "<IPython.core.display.Image object>"
      ]
     },
     "metadata": {},
     "output_type": "display_data"
    },
    {
     "name": "stdout",
     "output_type": "stream",
     "text": [
      "Product 96: Levi's Women Sweater\n"
     ]
    },
    {
     "data": {
      "text/html": [
       "<img src=\"https://images-na.ssl-images-amazon.com/images/I/41pEUJGp28L._SR38,50_.jpg|https://images-na.ssl-images-amazon.com/images/I/515CAReLjIL._SR38,50_.jpg|https://images-na.ssl-images-amazon.com/images/I/41z0W-e5TuL._SR38,50_.jpg|https://images-na.ssl-images-amazon.com/images/I/512GIcx2ZCL._SR38,50_.jpg|https://images-na.ssl-images-amazon.com/images/I/31gCqprNGWL._SR38,50_.jpg\"/>"
      ],
      "text/plain": [
       "<IPython.core.display.Image object>"
      ]
     },
     "metadata": {},
     "output_type": "display_data"
    },
    {
     "name": "stdout",
     "output_type": "stream",
     "text": [
      "Product 97: KEOTI Dailywear Comfort Fit Nighty Gown Pack - Pack of 2\n"
     ]
    },
    {
     "data": {
      "text/html": [
       "<img src=\"https://images-na.ssl-images-amazon.com/images/I/51GmFH3oW3L._SR38,50_.jpg|https://images-na.ssl-images-amazon.com/images/I/41eyx-U4X0L._SR38,50_.jpg|https://images-na.ssl-images-amazon.com/images/I/41VuLMGGKaL._SR38,50_.jpg|https://images-na.ssl-images-amazon.com/images/I/416zG0UNOSL._SR38,50_.jpg|https://images-na.ssl-images-amazon.com/images/I/41zpRGy4y8L._SR38,50_.jpg\"/>"
      ],
      "text/plain": [
       "<IPython.core.display.Image object>"
      ]
     },
     "metadata": {},
     "output_type": "display_data"
    },
    {
     "name": "stdout",
     "output_type": "stream",
     "text": [
      "Product 98: BIBA Women's Straight Kurta\n"
     ]
    },
    {
     "data": {
      "text/html": [
       "<img src=\"https://images-na.ssl-images-amazon.com/images/I/411MDuf3C%2BL._SR38,50_.jpg|https://images-na.ssl-images-amazon.com/images/I/31MZtFd%2BXVL._SR38,50_.jpg|https://images-na.ssl-images-amazon.com/images/I/41tficYG6oL._SR38,50_.jpg|https://images-na.ssl-images-amazon.com/images/I/51d6wJXx7YL._SR38,50_.jpg\"/>"
      ],
      "text/plain": [
       "<IPython.core.display.Image object>"
      ]
     },
     "metadata": {},
     "output_type": "display_data"
    },
    {
     "name": "stdout",
     "output_type": "stream",
     "text": [
      "Product 99: Forever9teen Women's Hosiery Maxi Dress_3SS16-1060/NS1-P\n"
     ]
    },
    {
     "data": {
      "text/html": [
       "<img src=\"https://images-na.ssl-images-amazon.com/images/I/41REJOnubDL._SR38,50_.jpg|https://images-na.ssl-images-amazon.com/images/I/41f2QpA7-AL._SR38,50_.jpg|https://images-na.ssl-images-amazon.com/images/I/414uI9A2uUL._SR38,50_.jpg\"/>"
      ],
      "text/plain": [
       "<IPython.core.display.Image object>"
      ]
     },
     "metadata": {},
     "output_type": "display_data"
    },
    {
     "name": "stdout",
     "output_type": "stream",
     "text": [
      "Product 100: Digital Print Pattern Regular Fit C-Cut Kurti With Plazo\n"
     ]
    },
    {
     "data": {
      "text/html": [
       "<img src=\"https://images-na.ssl-images-amazon.com/images/I/41LqOq-Xp%2BL._SR38,50_.jpg|https://images-na.ssl-images-amazon.com/images/I/41j1hXJH9GL._SR38,50_.jpg|https://images-na.ssl-images-amazon.com/images/I/41fRBu%2BQw8L._SR38,50_.jpg|https://images-na.ssl-images-amazon.com/images/I/41cU8DIUk5L._SR38,50_.jpg|https://images-na.ssl-images-amazon.com/images/I/61bksUfBKfL._SR38,50_.jpg|https://images-na.ssl-images-amazon.com/images/I/417N-c8stSL._SR38,50_.jpg\"/>"
      ],
      "text/plain": [
       "<IPython.core.display.Image object>"
      ]
     },
     "metadata": {},
     "output_type": "display_data"
    },
    {
     "name": "stdout",
     "output_type": "stream",
     "text": [
      "Product 101: Max Boy's Regular Fit T-Shirt\n"
     ]
    },
    {
     "data": {
      "text/html": [
       "<img src=\"https://images-na.ssl-images-amazon.com/images/I/41Tovi7MktL._SR38,50_.jpg|https://images-na.ssl-images-amazon.com/images/I/31HOp4TbgrL._SR38,50_.jpg|https://images-na.ssl-images-amazon.com/images/I/41vC3oZaLCL._SR38,50_.jpg\"/>"
      ],
      "text/plain": [
       "<IPython.core.display.Image object>"
      ]
     },
     "metadata": {},
     "output_type": "display_data"
    },
    {
     "name": "stdout",
     "output_type": "stream",
     "text": [
      "Product 102: WonderWink Women's Wonderwork Women's V-Neck Scrub Top\n"
     ]
    },
    {
     "data": {
      "text/html": [
       "<img src=\"https://images-na.ssl-images-amazon.com/images/I/41y6JV0jlTL._SR38,50_.jpg|https://images-na.ssl-images-amazon.com/images/I/412UdG6PPXL._SR38,50_.jpg\"/>"
      ],
      "text/plain": [
       "<IPython.core.display.Image object>"
      ]
     },
     "metadata": {},
     "output_type": "display_data"
    },
    {
     "name": "stdout",
     "output_type": "stream",
     "text": [
      "Product 103: Park Avenue Solid Cotton Medium Red Super Slim Fit Narrow Collar Full Sleeve Shirt\n"
     ]
    },
    {
     "data": {
      "text/html": [
       "<img src=\"https://images-na.ssl-images-amazon.com/images/I/41gUIFtd1oL._SR38,50_.jpg|https://images-na.ssl-images-amazon.com/images/I/410h2hrMtaL._SR38,50_.jpg|https://images-na.ssl-images-amazon.com/images/I/41JGu9irNYL._SR38,50_.jpg|https://images-na.ssl-images-amazon.com/images/I/4153iUrztvL._SR38,50_.jpg|https://images-na.ssl-images-amazon.com/images/I/312IGSzZYWL._SR38,50_.jpg\"/>"
      ],
      "text/plain": [
       "<IPython.core.display.Image object>"
      ]
     },
     "metadata": {},
     "output_type": "display_data"
    },
    {
     "name": "stdout",
     "output_type": "stream",
     "text": [
      "Product 104: IRYA Red Designer Palazzo Free Size\n"
     ]
    },
    {
     "data": {
      "text/html": [
       "<img src=\"https://images-na.ssl-images-amazon.com/images/I/31yW9IvCGhL._SR38,50_.jpg|https://images-na.ssl-images-amazon.com/images/I/41D2RFlt9PL._SR38,50_.jpg|https://images-na.ssl-images-amazon.com/images/I/313k80NblUL._SR38,50_.jpg|https://images-na.ssl-images-amazon.com/images/I/41wSl8yYitL._SR38,50_.jpg|https://images-na.ssl-images-amazon.com/images/I/41qd-ukzqWL._SR38,50_.jpg\"/>"
      ],
      "text/plain": [
       "<IPython.core.display.Image object>"
      ]
     },
     "metadata": {},
     "output_type": "display_data"
    },
    {
     "name": "stdout",
     "output_type": "stream",
     "text": [
      "Product 105: Park Avenue Violet Cotton Silm Fit Shirt\n"
     ]
    },
    {
     "data": {
      "text/html": [
       "<img src=\"https://images-na.ssl-images-amazon.com/images/I/31rD%2BxXkIzL._SR38,50_.jpg|https://images-na.ssl-images-amazon.com/images/I/31893Q6xF2L._SR38,50_.jpg|https://images-na.ssl-images-amazon.com/images/I/313QMZBurDL._SR38,50_.jpg|https://images-na.ssl-images-amazon.com/images/I/31mzjZT80kL._SR38,50_.jpg\"/>"
      ],
      "text/plain": [
       "<IPython.core.display.Image object>"
      ]
     },
     "metadata": {},
     "output_type": "display_data"
    },
    {
     "name": "stdout",
     "output_type": "stream",
     "text": [
      "Product 106: Chromozome Men's Striped Brief\n"
     ]
    },
    {
     "data": {
      "text/html": [
       "<img src=\"https://images-na.ssl-images-amazon.com/images/I/413ILS4u%2BSL._SR38,50_.jpg|https://images-na.ssl-images-amazon.com/images/I/41uw4iKDeRL._SR38,50_.jpg|https://images-na.ssl-images-amazon.com/images/I/41SUYOTv9KL._SR38,50_.jpg\"/>"
      ],
      "text/plain": [
       "<IPython.core.display.Image object>"
      ]
     },
     "metadata": {},
     "output_type": "display_data"
    },
    {
     "name": "stdout",
     "output_type": "stream",
     "text": [
      "Product 107: ONLY Women's Plain Regular Fit Top\n"
     ]
    },
    {
     "data": {
      "text/html": [
       "<img src=\"https://images-na.ssl-images-amazon.com/images/I/51Cm-yYVlaL._SR38,50_.jpg|https://images-na.ssl-images-amazon.com/images/I/41uGSb5dyRL._SR38,50_.jpg|https://images-na.ssl-images-amazon.com/images/I/413QpPGkWWL._SR38,50_.jpg|https://images-na.ssl-images-amazon.com/images/I/51Wthg5UTmL._SR38,50_.jpg|https://images-na.ssl-images-amazon.com/images/I/31UHlC%2BnCdL._SR38,50_.jpg\"/>"
      ],
      "text/plain": [
       "<IPython.core.display.Image object>"
      ]
     },
     "metadata": {},
     "output_type": "display_data"
    },
    {
     "name": "stdout",
     "output_type": "stream",
     "text": [
      "Product 108: Masha Women's Cotton-Bikini/Hipster panty-Valupack-3pcs\n"
     ]
    },
    {
     "data": {
      "text/html": [
       "<img src=\"https://images-na.ssl-images-amazon.com/images/I/41b0ANILLDL._SR38,50_.jpg|https://images-na.ssl-images-amazon.com/images/I/41AEg0RHzZL._SR38,50_.jpg|https://images-na.ssl-images-amazon.com/images/I/41qSAnrLpPL._SR38,50_.jpg|https://images-na.ssl-images-amazon.com/images/I/41ou55xwsML._SR38,50_.jpg|https://images-na.ssl-images-amazon.com/images/I/41Cj8BT-X5L._SR38,50_.jpg\"/>"
      ],
      "text/plain": [
       "<IPython.core.display.Image object>"
      ]
     },
     "metadata": {},
     "output_type": "display_data"
    },
    {
     "name": "stdout",
     "output_type": "stream",
     "text": [
      "Product 109: TOMMY HILFIGER Girls' Dress\n"
     ]
    },
    {
     "data": {
      "text/html": [
       "<img src=\"https://images-na.ssl-images-amazon.com/images/I/51bdI4M214L._SR38,50_.jpg|https://images-na.ssl-images-amazon.com/images/I/51MlD8Eg12L._SR38,50_.jpg|https://images-na.ssl-images-amazon.com/images/I/51fVEUvKv3L._SR38,50_.jpg\"/>"
      ],
      "text/plain": [
       "<IPython.core.display.Image object>"
      ]
     },
     "metadata": {},
     "output_type": "display_data"
    },
    {
     "name": "stdout",
     "output_type": "stream",
     "text": [
      "Product 110: Premium Summer Mesh Golf Ivy Driver Cabby Newsboy Cap Hat\n"
     ]
    },
    {
     "data": {
      "text/html": [
       "<img src=\"https://images-na.ssl-images-amazon.com/images/I/414wtzDCH0L._SR38,50_.jpg|https://images-na.ssl-images-amazon.com/images/I/41XZnoVkFtL._SR38,50_.jpg|https://images-na.ssl-images-amazon.com/images/I/41CuqtgHH6L._SR38,50_.jpg|https://images-na.ssl-images-amazon.com/images/I/41QvJLP8AcL._SR38,50_.jpg\"/>"
      ],
      "text/plain": [
       "<IPython.core.display.Image object>"
      ]
     },
     "metadata": {},
     "output_type": "display_data"
    },
    {
     "name": "stdout",
     "output_type": "stream",
     "text": [
      "Product 111: Neostreak Men's Slim Fit Stretchable Jeans\n"
     ]
    },
    {
     "data": {
      "text/html": [
       "<img src=\"https://images-na.ssl-images-amazon.com/images/I/31zSO7cJBML._SR38,50_.jpg|https://images-na.ssl-images-amazon.com/images/I/31rGykolByL._SR38,50_.jpg|https://images-na.ssl-images-amazon.com/images/I/41P2uxljOxL._SR38,50_.jpg|https://images-na.ssl-images-amazon.com/images/I/41HenInoB6L._SR38,50_.jpg|https://images-na.ssl-images-amazon.com/images/I/41MXwKMFFAL._SR38,50_.jpg|https://images-na.ssl-images-amazon.com/images/I/31vIV2v%2BMsL._SR38,50_.jpg\"/>"
      ],
      "text/plain": [
       "<IPython.core.display.Image object>"
      ]
     },
     "metadata": {},
     "output_type": "display_data"
    },
    {
     "name": "stdout",
     "output_type": "stream",
     "text": [
      "Product 112: HUETRAP Men's Om Printed T Shirt\n"
     ]
    },
    {
     "data": {
      "text/html": [
       "<img src=\"https://images-na.ssl-images-amazon.com/images/I/51sk5gtKkaL._SR38,50_.jpg|https://images-na.ssl-images-amazon.com/images/I/51vgaShNknL._SR38,50_.jpg|https://images-na.ssl-images-amazon.com/images/I/51%2BGj0G8NjL._SR38,50_.jpg|https://images-na.ssl-images-amazon.com/images/I/51D75od2TuL._SR38,50_.jpg\"/>"
      ],
      "text/plain": [
       "<IPython.core.display.Image object>"
      ]
     },
     "metadata": {},
     "output_type": "display_data"
    },
    {
     "name": "stdout",
     "output_type": "stream",
     "text": [
      "Product 113: Alena Cotton Women casual wear kurta in Beige Colour Size\n"
     ]
    },
    {
     "data": {
      "text/html": [
       "<img src=\"https://images-na.ssl-images-amazon.com/images/I/41vRF4m61CL._SR38,50_.jpg|https://images-na.ssl-images-amazon.com/images/I/41SkjbALewL._SR38,50_.jpg|https://images-na.ssl-images-amazon.com/images/I/41SkjbALewL._SR38,50_.jpg|https://images-na.ssl-images-amazon.com/images/I/41SkjbALewL._SR38,50_.jpg\"/>"
      ],
      "text/plain": [
       "<IPython.core.display.Image object>"
      ]
     },
     "metadata": {},
     "output_type": "display_data"
    },
    {
     "name": "stdout",
     "output_type": "stream",
     "text": [
      "Product 114: Child Cottage Banarasi Silk Saree\n"
     ]
    },
    {
     "data": {
      "text/html": [
       "<img src=\"https://images-na.ssl-images-amazon.com/images/I/41cf8NxGGuL._SR38,50_.jpg\"/>"
      ],
      "text/plain": [
       "<IPython.core.display.Image object>"
      ]
     },
     "metadata": {},
     "output_type": "display_data"
    },
    {
     "name": "stdout",
     "output_type": "stream",
     "text": [
      "Product 115: Faux Leather Belt with Nickel Buckle - Tan 44\n"
     ]
    },
    {
     "data": {
      "text/html": [
       "<img src=\"https://images-na.ssl-images-amazon.com/images/I/41H-cXa-b-L._SR38,50_.jpg|https://images-na.ssl-images-amazon.com/images/I/41tYw9v3FbL._SR38,50_.jpg|https://images-na.ssl-images-amazon.com/images/I/417A7I90TkL._SR38,50_.jpg|https://images-na.ssl-images-amazon.com/images/I/51eF9AUZEKL._SR38,50_.jpg\"/>"
      ],
      "text/plain": [
       "<IPython.core.display.Image object>"
      ]
     },
     "metadata": {},
     "output_type": "display_data"
    },
    {
     "name": "stdout",
     "output_type": "stream",
     "text": [
      "Product 116: Coco Reef Women's Master Classic The Five Way Tankini\n"
     ]
    },
    {
     "data": {
      "text/html": [
       "<img src=\"https://images-na.ssl-images-amazon.com/images/I/41gHp06h%2BjL._SR38,50_.jpg|https://images-na.ssl-images-amazon.com/images/I/41ByWjxI-UL._SR38,50_.jpg|https://images-na.ssl-images-amazon.com/images/I/41CyWcxz%2BIL._SR38,50_.jpg|https://images-na.ssl-images-amazon.com/images/I/41E7HBW-TNL._SR38,50_.jpg|https://images-na.ssl-images-amazon.com/images/I/41ozPVF%2BbqL._SR38,50_.jpg|https://images-na.ssl-images-amazon.com/images/I/41aqwn7NvfL._SR38,50_.jpg|https://images-na.ssl-images-amazon.com/images/I/314AfMbcxVL._SR38,50_.jpg\"/>"
      ],
      "text/plain": [
       "<IPython.core.display.Image object>"
      ]
     },
     "metadata": {},
     "output_type": "display_data"
    },
    {
     "name": "stdout",
     "output_type": "stream",
     "text": [
      "Product 117: Mimosa Art Chiffon saree Kanjivarm Pattu style With Running Blouse Color: Green (4313-2280-SD-OLV)\n"
     ]
    },
    {
     "data": {
      "text/html": [
       "<img src=\"https://images-na.ssl-images-amazon.com/images/I/41jas8gb64L._SR38,50_.jpg|https://images-na.ssl-images-amazon.com/images/I/41l6CntHcpL._SR38,50_.jpg|https://images-na.ssl-images-amazon.com/images/I/417TOtWE9EL._SR38,50_.jpg|https://images-na.ssl-images-amazon.com/images/I/41vFvoYFr9L._SR38,50_.jpg|https://images-na.ssl-images-amazon.com/images/I/41TYTDq9xpL._SR38,50_.jpg|https://images-na.ssl-images-amazon.com/images/I/41RqBGmVMqL._SR38,50_.jpg|https://images-na.ssl-images-amazon.com/images/I/31VnN6y%2B%2BhL._SR38,50_.jpg|https://images-na.ssl-images-amazon.com/images/I/51AkygCLlYL._SR38,50_.jpg\"/>"
      ],
      "text/plain": [
       "<IPython.core.display.Image object>"
      ]
     },
     "metadata": {},
     "output_type": "display_data"
    },
    {
     "name": "stdout",
     "output_type": "stream",
     "text": [
      "Product 118: Puma Men Style Athletics Tee Red Dahlia Heather\n"
     ]
    },
    {
     "data": {
      "text/html": [
       "<img src=\"https://images-na.ssl-images-amazon.com/images/I/31i9AZrYoWL._SR38,50_.jpg|https://images-na.ssl-images-amazon.com/images/I/31qiGUaxkjL._SR38,50_.jpg|https://images-na.ssl-images-amazon.com/images/I/31mITh5pgVL._SR38,50_.jpg|https://images-na.ssl-images-amazon.com/images/I/31ATQZfDwOL._SR38,50_.jpg|https://images-na.ssl-images-amazon.com/images/I/51mMYjBwKKL._SR38,50_.jpg|https://images-na.ssl-images-amazon.com/images/I/31xRJOAzZiL._SR38,50_.jpg\"/>"
      ],
      "text/plain": [
       "<IPython.core.display.Image object>"
      ]
     },
     "metadata": {},
     "output_type": "display_data"
    },
    {
     "name": "stdout",
     "output_type": "stream",
     "text": [
      "Product 119: Chalk By Pantaloons Boys' Sweater\n"
     ]
    },
    {
     "data": {
      "text/html": [
       "<img src=\"https://images-na.ssl-images-amazon.com/images/I/41rPOIV84VL._SR38,50_.jpg|https://images-na.ssl-images-amazon.com/images/I/41CmioWCMTL._SR38,50_.jpg|https://images-na.ssl-images-amazon.com/images/I/51JhuDdkCmL._SR38,50_.jpg\"/>"
      ],
      "text/plain": [
       "<IPython.core.display.Image object>"
      ]
     },
     "metadata": {},
     "output_type": "display_data"
    },
    {
     "name": "stdout",
     "output_type": "stream",
     "text": [
      "Product 120: Jaipur Kurti Women's Straight Kurta\n"
     ]
    },
    {
     "data": {
      "text/html": [
       "<img src=\"https://images-na.ssl-images-amazon.com/images/I/41ABZTV%2BAtL._SR38,50_.jpg|https://images-na.ssl-images-amazon.com/images/I/41mADbgkVhL._SR38,50_.jpg|https://images-na.ssl-images-amazon.com/images/I/41MlRVLnjPL._SR38,50_.jpg|https://images-na.ssl-images-amazon.com/images/I/51TR27Nuz7L._SR38,50_.jpg\"/>"
      ],
      "text/plain": [
       "<IPython.core.display.Image object>"
      ]
     },
     "metadata": {},
     "output_type": "display_data"
    },
    {
     "name": "stdout",
     "output_type": "stream",
     "text": [
      "Product 121: Dollar Bigboss Men's Cotton Vest (8902889301228_MDVE-02-BB-DERBY-WHITE_85_White)\n"
     ]
    },
    {
     "data": {
      "text/html": [
       "<img src=\"https://images-na.ssl-images-amazon.com/images/I/41lyuaV1IqL._SR38,50_.jpg|https://images-na.ssl-images-amazon.com/images/I/41WrJDBisgL._SR38,50_.jpg\"/>"
      ],
      "text/plain": [
       "<IPython.core.display.Image object>"
      ]
     },
     "metadata": {},
     "output_type": "display_data"
    },
    {
     "name": "stdout",
     "output_type": "stream",
     "text": [
      "Product 122: Paramount Hand Embroiderey Chikan Kurti for Women\n"
     ]
    },
    {
     "data": {
      "text/html": [
       "<img src=\"https://images-na.ssl-images-amazon.com/images/I/31Yl-vC3kHL._SR38,50_.jpg|https://images-na.ssl-images-amazon.com/images/I/31UqKbszZSL._SR38,50_.jpg|https://images-na.ssl-images-amazon.com/images/I/31bjk8ggACL._SR38,50_.jpg|https://images-na.ssl-images-amazon.com/images/I/31RFlo51djL._SR38,50_.jpg|https://images-na.ssl-images-amazon.com/images/I/51RQsMFO-SL._SR38,50_.jpg|https://images-na.ssl-images-amazon.com/images/I/41ixtR6RluL._SR38,50_.jpg|https://images-na.ssl-images-amazon.com/images/I/31rFFqlJNsL._SR38,50_.jpg\"/>"
      ],
      "text/plain": [
       "<IPython.core.display.Image object>"
      ]
     },
     "metadata": {},
     "output_type": "display_data"
    },
    {
     "name": "stdout",
     "output_type": "stream",
     "text": [
      "Product 123: ALC Creations Women's Faux Crepe Straight Kurti\n"
     ]
    },
    {
     "data": {
      "text/html": [
       "<img src=\"https://images-na.ssl-images-amazon.com/images/I/419FyIloXNL._SR38,50_.jpg|https://images-na.ssl-images-amazon.com/images/I/41ri7kEkrwL._SR38,50_.jpg|https://images-na.ssl-images-amazon.com/images/I/41vDcI%2BCh7L._SR38,50_.jpg|https://images-na.ssl-images-amazon.com/images/I/31k8BSH6VML._SR38,50_.jpg\"/>"
      ],
      "text/plain": [
       "<IPython.core.display.Image object>"
      ]
     },
     "metadata": {},
     "output_type": "display_data"
    },
    {
     "name": "stdout",
     "output_type": "stream",
     "text": [
      "Product 124: 612 League Boys' Shirt\n"
     ]
    },
    {
     "data": {
      "text/html": [
       "<img src=\"https://images-na.ssl-images-amazon.com/images/I/41BiuHpmUjL._SR38,50_.jpg|https://images-na.ssl-images-amazon.com/images/I/31fxrCqu3kL._SR38,50_.jpg|https://images-na.ssl-images-amazon.com/images/I/41jycSgqzpL._SR38,50_.jpg\"/>"
      ],
      "text/plain": [
       "<IPython.core.display.Image object>"
      ]
     },
     "metadata": {},
     "output_type": "display_data"
    },
    {
     "name": "stdout",
     "output_type": "stream",
     "text": [
      "Product 125: global desi Synthetic a-line Dress\n"
     ]
    },
    {
     "data": {
      "text/html": [
       "<img src=\"https://images-na.ssl-images-amazon.com/images/I/41YIIB0H%2ByL._SR38,50_.jpg|https://images-na.ssl-images-amazon.com/images/I/41qrP9zJaIL._SR38,50_.jpg|https://images-na.ssl-images-amazon.com/images/I/41esTc3--tL._SR38,50_.jpg|https://images-na.ssl-images-amazon.com/images/I/51YixODxyDL._SR38,50_.jpg|https://images-na.ssl-images-amazon.com/images/I/41gyYYWU8LL._SR38,50_.jpg|https://images-na.ssl-images-amazon.com/images/I/616dZAw2JcL._SR38,50_.jpg\"/>"
      ],
      "text/plain": [
       "<IPython.core.display.Image object>"
      ]
     },
     "metadata": {},
     "output_type": "display_data"
    },
    {
     "name": "stdout",
     "output_type": "stream",
     "text": [
      "Product 126: Drapes Women's Cotton Printed Unstitched Dress Material (Black)\n"
     ]
    },
    {
     "data": {
      "text/html": [
       "<img src=\"https://images-na.ssl-images-amazon.com/images/I/511LS2m7B0L._SR38,50_.jpg|https://images-na.ssl-images-amazon.com/images/I/41tDiD1o4lL._SR38,50_.jpg|https://images-na.ssl-images-amazon.com/images/I/41XTQL1XBiL._SR38,50_.jpg|https://images-na.ssl-images-amazon.com/images/I/61BScE2OKsL._SR38,50_.jpg\"/>"
      ],
      "text/plain": [
       "<IPython.core.display.Image object>"
      ]
     },
     "metadata": {},
     "output_type": "display_data"
    },
    {
     "name": "stdout",
     "output_type": "stream",
     "text": [
      "Product 127: United Colors of Benetton Men's Baseball Cap\n"
     ]
    },
    {
     "data": {
      "text/html": [
       "<img src=\"https://images-na.ssl-images-amazon.com/images/I/51F497p4LhL._SR38,50_.jpg|https://images-na.ssl-images-amazon.com/images/I/41j1dMKckjL._SR38,50_.jpg|https://images-na.ssl-images-amazon.com/images/I/41HNE5cHjfL._SR38,50_.jpg|https://images-na.ssl-images-amazon.com/images/I/41TR1bTk5WL._SR38,50_.jpg\"/>"
      ],
      "text/plain": [
       "<IPython.core.display.Image object>"
      ]
     },
     "metadata": {},
     "output_type": "display_data"
    },
    {
     "name": "stdout",
     "output_type": "stream",
     "text": [
      "Product 128: Funbase Children Outdoor Sports Star Shaped Bling Baseball Hiking Cap Pink\n"
     ]
    },
    {
     "data": {
      "text/html": [
       "<img src=\"https://images-na.ssl-images-amazon.com/images/I/41r9sFMEmKL._SR38,50_.jpg|https://images-na.ssl-images-amazon.com/images/I/41TPRYwJ5RL._SR38,50_.jpg|https://images-na.ssl-images-amazon.com/images/I/41o93LbImLL._SR38,50_.jpg|https://images-na.ssl-images-amazon.com/images/I/41vwWqJxm8L._SR38,50_.jpg|https://images-na.ssl-images-amazon.com/images/I/41mP7tW09ZL._SR38,50_.jpg\"/>"
      ],
      "text/plain": [
       "<IPython.core.display.Image object>"
      ]
     },
     "metadata": {},
     "output_type": "display_data"
    },
    {
     "name": "stdout",
     "output_type": "stream",
     "text": [
      "Product 129: John Miller Men's Checkered Slim Fit Synthetic Formal Shirt\n"
     ]
    },
    {
     "data": {
      "text/html": [
       "<img src=\"https://images-na.ssl-images-amazon.com/images/I/41P0XSX43LL._SR38,50_.jpg|https://images-na.ssl-images-amazon.com/images/I/41C%2BkvrfJ1L._SR38,50_.jpg|https://images-na.ssl-images-amazon.com/images/I/51UTXWScxJL._SR38,50_.jpg|https://images-na.ssl-images-amazon.com/images/I/315XcnY4yvL._SR38,50_.jpg\"/>"
      ],
      "text/plain": [
       "<IPython.core.display.Image object>"
      ]
     },
     "metadata": {},
     "output_type": "display_data"
    },
    {
     "name": "stdout",
     "output_type": "stream",
     "text": [
      "Product 130: Varkala Silk Sarees Women's Banarasi Soft Cotton Silk Saree (V161RNNB-SM_Magenta & Navy Blue_Free Size)\n"
     ]
    },
    {
     "data": {
      "text/html": [
       "<img src=\"https://images-na.ssl-images-amazon.com/images/I/31ZHKDXu5GL._SR38,50_.jpg|https://images-na.ssl-images-amazon.com/images/I/41RvDHJrO3L._SR38,50_.jpg|https://images-na.ssl-images-amazon.com/images/I/612OBRWE0XL._SR38,50_.jpg|https://images-na.ssl-images-amazon.com/images/I/31K2OcrzYwL._SR38,50_.jpg\"/>"
      ],
      "text/plain": [
       "<IPython.core.display.Image object>"
      ]
     },
     "metadata": {},
     "output_type": "display_data"
    },
    {
     "name": "stdout",
     "output_type": "stream",
     "text": [
      "Product 131: ABOF Women Sweatshirt\n"
     ]
    },
    {
     "data": {
      "text/html": [
       "<img src=\"https://images-na.ssl-images-amazon.com/images/I/41F%2Bin66A5L._SR38,50_.jpg|https://images-na.ssl-images-amazon.com/images/I/41mZL1BlqfL._SR38,50_.jpg|https://images-na.ssl-images-amazon.com/images/I/41xnHCEao3L._SR38,50_.jpg|https://images-na.ssl-images-amazon.com/images/I/41wSYtbkVZL._SR38,50_.jpg|https://images-na.ssl-images-amazon.com/images/I/31CBKPOo2AL._SR38,50_.jpg\"/>"
      ],
      "text/plain": [
       "<IPython.core.display.Image object>"
      ]
     },
     "metadata": {},
     "output_type": "display_data"
    },
    {
     "name": "stdout",
     "output_type": "stream",
     "text": [
      "Product 132: Sofra Women's Cotton Ribbed Tank Top\n"
     ]
    },
    {
     "data": {
      "text/html": [
       "<img src=\"https://images-na.ssl-images-amazon.com/images/I/51br63Wi8DL._SR38,50_.jpg\"/>"
      ],
      "text/plain": [
       "<IPython.core.display.Image object>"
      ]
     },
     "metadata": {},
     "output_type": "display_data"
    },
    {
     "name": "stdout",
     "output_type": "stream",
     "text": [
      "Product 133: Levi's Men's Printed Regular Fit Casual Shirt\n"
     ]
    },
    {
     "data": {
      "text/html": [
       "<img src=\"https://images-na.ssl-images-amazon.com/images/I/41vOe6BrALL._SR38,50_.jpg|https://images-na.ssl-images-amazon.com/images/I/416v1TmfmHL._SR38,50_.jpg|https://images-na.ssl-images-amazon.com/images/I/51S%2ByKD-4TL._SR38,50_.jpg|https://images-na.ssl-images-amazon.com/images/I/41Dbn5PxdVL._SR38,50_.jpg\"/>"
      ],
      "text/plain": [
       "<IPython.core.display.Image object>"
      ]
     },
     "metadata": {},
     "output_type": "display_data"
    },
    {
     "name": "stdout",
     "output_type": "stream",
     "text": [
      "Product 134: McHenry Men's Regular Fit Poly Viscose Checkered Formal Trousers\n"
     ]
    },
    {
     "data": {
      "text/html": [
       "<img src=\"https://images-na.ssl-images-amazon.com/images/I/31u3l37fSkL._SR38,50_.jpg|https://images-na.ssl-images-amazon.com/images/I/31E54SEG%2BiL._SR38,50_.jpg|https://images-na.ssl-images-amazon.com/images/I/31%2Bugv74gFL._SR38,50_.jpg|https://images-na.ssl-images-amazon.com/images/I/51pTzrFYmvL._SR38,50_.jpg|https://images-na.ssl-images-amazon.com/images/I/31V0qPW2KOL._SR38,50_.jpg\"/>"
      ],
      "text/plain": [
       "<IPython.core.display.Image object>"
      ]
     },
     "metadata": {},
     "output_type": "display_data"
    },
    {
     "name": "stdout",
     "output_type": "stream",
     "text": [
      "Product 135: MATCH MUCH Satin Skinny Neckties -6 Different Styles(Music Notes)\n"
     ]
    },
    {
     "data": {
      "text/html": [
       "<img src=\"https://images-na.ssl-images-amazon.com/images/I/41zTx496n%2BL._SR38,50_.jpg|https://images-na.ssl-images-amazon.com/images/I/41nPm8u-N1L._SR38,50_.jpg\"/>"
      ],
      "text/plain": [
       "<IPython.core.display.Image object>"
      ]
     },
     "metadata": {},
     "output_type": "display_data"
    },
    {
     "name": "stdout",
     "output_type": "stream",
     "text": [
      "Product 136: Gini & Jony Boys' Starred Regular Fit Shirt\n"
     ]
    },
    {
     "data": {
      "text/html": [
       "<img src=\"https://images-na.ssl-images-amazon.com/images/I/41HmAicZgRL._SR38,50_.jpg|https://images-na.ssl-images-amazon.com/images/I/41MYaI4wdGL._SR38,50_.jpg\"/>"
      ],
      "text/plain": [
       "<IPython.core.display.Image object>"
      ]
     },
     "metadata": {},
     "output_type": "display_data"
    },
    {
     "name": "stdout",
     "output_type": "stream",
     "text": [
      "Product 137: GOWRI MARKETING Girls' Dress\n"
     ]
    },
    {
     "data": {
      "text/html": [
       "<img src=\"https://images-na.ssl-images-amazon.com/images/I/51qzQyQ5suL._SR38,50_.jpg|https://images-na.ssl-images-amazon.com/images/I/51tLp3NO%2BBL._SR38,50_.jpg\"/>"
      ],
      "text/plain": [
       "<IPython.core.display.Image object>"
      ]
     },
     "metadata": {},
     "output_type": "display_data"
    },
    {
     "name": "stdout",
     "output_type": "stream",
     "text": [
      "Product 138: Jevi Prints Women's Unstitched Cotton Blue Chevron Printed Kurti Fabric (Fabric only for Top) (S-1604)\n"
     ]
    },
    {
     "data": {
      "text/html": [
       "<img src=\"https://images-na.ssl-images-amazon.com/images/I/519i6RC9jmL._SR38,50_.jpg|https://images-na.ssl-images-amazon.com/images/I/51ztRsT9QqL._SR38,50_.jpg|https://images-na.ssl-images-amazon.com/images/I/41Eo-lB9D9L._SR38,50_.jpg|https://images-na.ssl-images-amazon.com/images/I/51wLzX8pNHL._SR38,50_.jpg\"/>"
      ],
      "text/plain": [
       "<IPython.core.display.Image object>"
      ]
     },
     "metadata": {},
     "output_type": "display_data"
    },
    {
     "name": "stdout",
     "output_type": "stream",
     "text": [
      "Product 139: Rupa Jon Men's Plain Vest (Pack of 3)\n"
     ]
    },
    {
     "data": {
      "text/html": [
       "<img src=\"https://images-na.ssl-images-amazon.com/images/I/41Ls2xo6KdL._SR38,50_.jpg|https://images-na.ssl-images-amazon.com/images/I/31VxvE8owAL._SR38,50_.jpg|https://images-na.ssl-images-amazon.com/images/I/31f9vfgzG4L._SR38,50_.jpg|https://images-na.ssl-images-amazon.com/images/I/318NIhmdE-L._SR38,50_.jpg\"/>"
      ],
      "text/plain": [
       "<IPython.core.display.Image object>"
      ]
     },
     "metadata": {},
     "output_type": "display_data"
    },
    {
     "name": "stdout",
     "output_type": "stream",
     "text": [
      "Product 140: Aurelia Women's cotton straight Kurta\n"
     ]
    },
    {
     "data": {
      "text/html": [
       "<img src=\"https://images-na.ssl-images-amazon.com/images/I/41vJMpbumEL._SR38,50_.jpg|https://images-na.ssl-images-amazon.com/images/I/31P1gsX48sL._SR38,50_.jpg|https://images-na.ssl-images-amazon.com/images/I/41X47OCx5EL._SR38,50_.jpg|https://images-na.ssl-images-amazon.com/images/I/51ZlmqE8tiL._SR38,50_.jpg|https://images-na.ssl-images-amazon.com/images/I/31Eezw34HaL._SR38,50_.jpg\"/>"
      ],
      "text/plain": [
       "<IPython.core.display.Image object>"
      ]
     },
     "metadata": {},
     "output_type": "display_data"
    },
    {
     "name": "stdout",
     "output_type": "stream",
     "text": [
      "Product 141: E4hats California Embroidered Washed Cap - Black OSFM\n"
     ]
    },
    {
     "data": {
      "text/html": [
       "<img src=\"https://images-na.ssl-images-amazon.com/images/I/51U4S%2Bh-wmL._SR38,50_.jpg|https://images-na.ssl-images-amazon.com/images/I/41WoCEg0ZHL._SR38,50_.jpg|https://images-na.ssl-images-amazon.com/images/I/51p3GHaTIvL._SR38,50_.jpg|https://images-na.ssl-images-amazon.com/images/I/51KHfnabSdL._SR38,50_.jpg|https://images-na.ssl-images-amazon.com/images/I/41Lpu3g1XkL._SR38,50_.jpg\"/>"
      ],
      "text/plain": [
       "<IPython.core.display.Image object>"
      ]
     },
     "metadata": {},
     "output_type": "display_data"
    },
    {
     "name": "stdout",
     "output_type": "stream",
     "text": [
      "Product 142: Royal Men's Silk Blend Dhoti & Kurta Set_Purple\n"
     ]
    },
    {
     "data": {
      "text/html": [
       "<img src=\"https://images-na.ssl-images-amazon.com/images/I/41LI9rUB01L._SR38,50_.jpg|https://images-na.ssl-images-amazon.com/images/I/31sKapHoCGL._SR38,50_.jpg|https://images-na.ssl-images-amazon.com/images/I/41WJTy1QtJL._SR38,50_.jpg\"/>"
      ],
      "text/plain": [
       "<IPython.core.display.Image object>"
      ]
     },
     "metadata": {},
     "output_type": "display_data"
    },
    {
     "name": "stdout",
     "output_type": "stream",
     "text": [
      "Product 143: Urban Ranger by Pantaloons Men's Plain Slim Fit Casual Shirt\n"
     ]
    },
    {
     "data": {
      "text/html": [
       "<img src=\"https://images-na.ssl-images-amazon.com/images/I/31gt-J-VpYL._SR38,50_.jpg|https://images-na.ssl-images-amazon.com/images/I/31M8%2BALvowL._SR38,50_.jpg|https://images-na.ssl-images-amazon.com/images/I/31zSPcjVTXL._SR38,50_.jpg|https://images-na.ssl-images-amazon.com/images/I/3100h63I0yL._SR38,50_.jpg\"/>"
      ],
      "text/plain": [
       "<IPython.core.display.Image object>"
      ]
     },
     "metadata": {},
     "output_type": "display_data"
    },
    {
     "name": "stdout",
     "output_type": "stream",
     "text": [
      "Product 144: Luke and Lilly Girl's Cotton Half Sleeve Tshirt - Pack of 6\n"
     ]
    },
    {
     "data": {
      "text/html": [
       "<img src=\"https://images-na.ssl-images-amazon.com/images/I/41R-5AmvAnL._SR38,50_.jpg|https://images-na.ssl-images-amazon.com/images/I/51-G1PmVDpL._SR38,50_.jpg|https://images-na.ssl-images-amazon.com/images/I/41or2QKM0RL._SR38,50_.jpg|https://images-na.ssl-images-amazon.com/images/I/41SOIZZLszL._SR38,50_.jpg|https://images-na.ssl-images-amazon.com/images/I/41x6PZle70L._SR38,50_.jpg|https://images-na.ssl-images-amazon.com/images/I/411NXv6miOL._SR38,50_.jpg|https://images-na.ssl-images-amazon.com/images/I/51WMp-9eKLL._SR38,50_.jpg|https://images-na.ssl-images-amazon.com/images/I/41pK8s0bYkL._SR38,50_.jpg\"/>"
      ],
      "text/plain": [
       "<IPython.core.display.Image object>"
      ]
     },
     "metadata": {},
     "output_type": "display_data"
    },
    {
     "name": "stdout",
     "output_type": "stream",
     "text": [
      "Product 145: bioworld Men's Star Wars Rogue One Sublimated Bill Snapback Cap\n"
     ]
    },
    {
     "data": {
      "text/html": [
       "<img src=\"https://images-na.ssl-images-amazon.com/images/I/51-%2BCqw-ArL._SR38,50_.jpg|https://images-na.ssl-images-amazon.com/images/I/41MWXQfs%2BQL._SR38,50_.jpg\"/>"
      ],
      "text/plain": [
       "<IPython.core.display.Image object>"
      ]
     },
     "metadata": {},
     "output_type": "display_data"
    },
    {
     "name": "stdout",
     "output_type": "stream",
     "text": [
      "Product 146: BSTORIES Women's Viscose Morocco Cullout Lounge Shorts\n"
     ]
    },
    {
     "data": {
      "text/html": [
       "<img src=\"https://images-na.ssl-images-amazon.com/images/I/51YbrFyKgaL._SR38,50_.jpg|https://images-na.ssl-images-amazon.com/images/I/516FXUMFwfL._SR38,50_.jpg|https://images-na.ssl-images-amazon.com/images/I/51xqndS5B2L._SR38,50_.jpg|https://images-na.ssl-images-amazon.com/images/I/41pvTOK2yvL._SR38,50_.jpg\"/>"
      ],
      "text/plain": [
       "<IPython.core.display.Image object>"
      ]
     },
     "metadata": {},
     "output_type": "display_data"
    },
    {
     "name": "stdout",
     "output_type": "stream",
     "text": [
      "Product 147: J2J Men's Red Cotton Vest Casual Sleeveless Inner Wear\n"
     ]
    },
    {
     "data": {
      "text/html": [
       "<img src=\"https://images-na.ssl-images-amazon.com/images/I/31gALIjJGxL._SR38,50_.jpg|https://images-na.ssl-images-amazon.com/images/I/31-5cG9PWrL._SR38,50_.jpg|https://images-na.ssl-images-amazon.com/images/I/31Bhav15e9L._SR38,50_.jpg|https://images-na.ssl-images-amazon.com/images/I/31JCs4z%2B5OL._SR38,50_.jpg\"/>"
      ],
      "text/plain": [
       "<IPython.core.display.Image object>"
      ]
     },
     "metadata": {},
     "output_type": "display_data"
    },
    {
     "name": "stdout",
     "output_type": "stream",
     "text": [
      "Product 148: LADY CHOICE Women's Sports Bra Combo Pack of 6\n"
     ]
    },
    {
     "data": {
      "text/html": [
       "<img src=\"https://images-na.ssl-images-amazon.com/images/I/31zJbj8EJPL._SR38,50_.jpg|https://images-na.ssl-images-amazon.com/images/I/31XsKflsO6L._SR38,50_.jpg|https://images-na.ssl-images-amazon.com/images/I/31MZ4eFs6XL._SR38,50_.jpg|https://images-na.ssl-images-amazon.com/images/I/31lACbmTr4L._SR38,50_.jpg|https://images-na.ssl-images-amazon.com/images/I/31jcvNS8kEL._SR38,50_.jpg|https://images-na.ssl-images-amazon.com/images/I/31qEPNT6qQL._SR38,50_.jpg|https://images-na.ssl-images-amazon.com/images/I/31wJqoBF6kL._SR38,50_.jpg|https://images-na.ssl-images-amazon.com/images/I/31%2BqhIsKR9L._SR38,50_.jpg|https://images-na.ssl-images-amazon.com/images/I/21%2Bk8An7E5L._SR38,50_.jpg\"/>"
      ],
      "text/plain": [
       "<IPython.core.display.Image object>"
      ]
     },
     "metadata": {},
     "output_type": "display_data"
    },
    {
     "name": "stdout",
     "output_type": "stream",
     "text": [
      "Product 149: Rangriti Women's Asymmetric Kurta\n"
     ]
    },
    {
     "data": {
      "text/html": [
       "<img src=\"https://images-na.ssl-images-amazon.com/images/I/41w3Bbm6aaL._SR38,50_.jpg|https://images-na.ssl-images-amazon.com/images/I/413gPmAofwL._SR38,50_.jpg\"/>"
      ],
      "text/plain": [
       "<IPython.core.display.Image object>"
      ]
     },
     "metadata": {},
     "output_type": "display_data"
    },
    {
     "name": "stdout",
     "output_type": "stream",
     "text": [
      "Product 150: JAIPUR ATTIRE Women's Cotton Flared Kurti\n"
     ]
    },
    {
     "data": {
      "text/html": [
       "<img src=\"https://images-na.ssl-images-amazon.com/images/I/41kSuAymBlL._SR38,50_.jpg|https://images-na.ssl-images-amazon.com/images/I/410IR9WpMzL._SR38,50_.jpg|https://images-na.ssl-images-amazon.com/images/I/41eirEVtkBL._SR38,50_.jpg|https://images-na.ssl-images-amazon.com/images/I/41zwJumwhKL._SR38,50_.jpg|https://images-na.ssl-images-amazon.com/images/I/41u6cieYcZL._SR38,50_.jpg\"/>"
      ],
      "text/plain": [
       "<IPython.core.display.Image object>"
      ]
     },
     "metadata": {},
     "output_type": "display_data"
    },
    {
     "name": "stdout",
     "output_type": "stream",
     "text": [
      "Product 151: Lusiyu Girl Solid Child Size Wrist Length Formal Glove with Bow (White)\n"
     ]
    },
    {
     "data": {
      "text/html": [
       "<img src=\"https://images-na.ssl-images-amazon.com/images/I/411ajbD134L._SR38,50_.jpg|https://images-na.ssl-images-amazon.com/images/I/41Pe-7x6REL._SR38,50_.jpg|https://images-na.ssl-images-amazon.com/images/I/41wGVCP5txL._SR38,50_.jpg|https://images-na.ssl-images-amazon.com/images/I/41z6rfgaojL._SR38,50_.jpg|https://images-na.ssl-images-amazon.com/images/I/41PdMUpHdZL._SR38,50_.jpg|https://images-na.ssl-images-amazon.com/images/I/41TGTIGSEQL._SR38,50_.jpg\"/>"
      ],
      "text/plain": [
       "<IPython.core.display.Image object>"
      ]
     },
     "metadata": {},
     "output_type": "display_data"
    },
    {
     "name": "stdout",
     "output_type": "stream",
     "text": [
      "Product 152: Next Look Men's Solid Slim Fit Formal Shirt\n"
     ]
    },
    {
     "data": {
      "text/html": [
       "<img src=\"https://images-na.ssl-images-amazon.com/images/I/41mDJDpTWsL._SR38,50_.jpg|https://images-na.ssl-images-amazon.com/images/I/41tVS9N8YeL._SR38,50_.jpg|https://images-na.ssl-images-amazon.com/images/I/41HKhaIDzXL._SR38,50_.jpg|https://images-na.ssl-images-amazon.com/images/I/51Qp21bDonL._SR38,50_.jpg|https://images-na.ssl-images-amazon.com/images/I/318P16NCy7L._SR38,50_.jpg\"/>"
      ],
      "text/plain": [
       "<IPython.core.display.Image object>"
      ]
     },
     "metadata": {},
     "output_type": "display_data"
    },
    {
     "name": "stdout",
     "output_type": "stream",
     "text": [
      "Product 153: Bronz by Unlimited Women's Slim fit Shirt\n"
     ]
    },
    {
     "data": {
      "text/html": [
       "<img src=\"https://images-na.ssl-images-amazon.com/images/I/31d9dhiPMyL._SR38,50_.jpg|https://images-na.ssl-images-amazon.com/images/I/31dWzJxPL9L._SR38,50_.jpg|https://images-na.ssl-images-amazon.com/images/I/31M17m7-b9L._SR38,50_.jpg|https://images-na.ssl-images-amazon.com/images/I/41Yfu6jrKKL._SR38,50_.jpg|https://images-na.ssl-images-amazon.com/images/I/31kJ9osrHGL._SR38,50_.jpg|https://images-na.ssl-images-amazon.com/images/I/51RuQvz-ycL._SR38,50_.jpg\"/>"
      ],
      "text/plain": [
       "<IPython.core.display.Image object>"
      ]
     },
     "metadata": {},
     "output_type": "display_data"
    },
    {
     "name": "stdout",
     "output_type": "stream",
     "text": [
      "Product 154: Sikander -Men's|Women's Black Soft Warm Cozy Fully Stretchable Faux Fur Velvet Socks Without Thumb (Pack of 1)\n"
     ]
    },
    {
     "data": {
      "text/html": [
       "<img src=\"https://images-na.ssl-images-amazon.com/images/I/41mJRhg3zHL._SR38,50_.jpg|https://images-na.ssl-images-amazon.com/images/I/41xGBpKtggL._SR38,50_.jpg|https://images-na.ssl-images-amazon.com/images/I/41W4eRPnb1L._SR38,50_.jpg|https://images-na.ssl-images-amazon.com/images/I/31QkJBxWv4L._SR38,50_.jpg\"/>"
      ],
      "text/plain": [
       "<IPython.core.display.Image object>"
      ]
     },
     "metadata": {},
     "output_type": "display_data"
    },
    {
     "name": "stdout",
     "output_type": "stream",
     "text": [
      "Product 155: Jersey Hood | Liverpool Home & GK Jersey/Shorts for Mens/Boys | 2019-20 | Polyester Dri-Fit Unbranded |\n"
     ]
    },
    {
     "data": {
      "text/html": [
       "<img src=\"https://images-na.ssl-images-amazon.com/images/I/31JfXmrSSqL._SR38,50_.jpg\"/>"
      ],
      "text/plain": [
       "<IPython.core.display.Image object>"
      ]
     },
     "metadata": {},
     "output_type": "display_data"
    },
    {
     "name": "stdout",
     "output_type": "stream",
     "text": [
      "Product 156: Quiksilver Men's Clip Charger Trucker Hat\n"
     ]
    },
    {
     "data": {
      "text/html": [
       "<img src=\"https://images-na.ssl-images-amazon.com/images/I/41W-LWuVBlL._SR38,50_.jpg|https://images-na.ssl-images-amazon.com/images/I/412c8CpHGIL._SR38,50_.jpg|https://images-na.ssl-images-amazon.com/images/I/41XIOSWDFmL._SR38,50_.jpg\"/>"
      ],
      "text/plain": [
       "<IPython.core.display.Image object>"
      ]
     },
     "metadata": {},
     "output_type": "display_data"
    },
    {
     "name": "stdout",
     "output_type": "stream",
     "text": [
      "Product 157: dongli Boys Marvellous T Shirt (Pack of 3)\n"
     ]
    },
    {
     "data": {
      "text/html": [
       "<img src=\"https://images-na.ssl-images-amazon.com/images/I/41B0rjPRiVL._SR38,50_.jpg|https://images-na.ssl-images-amazon.com/images/I/51sMV95DkPL._SR38,50_.jpg|https://images-na.ssl-images-amazon.com/images/I/41AmLj6hRfL._SR38,50_.jpg|https://images-na.ssl-images-amazon.com/images/I/41a1JITYkeL._SR38,50_.jpg|https://images-na.ssl-images-amazon.com/images/I/41Emv4%2B3scL._SR38,50_.jpg\"/>"
      ],
      "text/plain": [
       "<IPython.core.display.Image object>"
      ]
     },
     "metadata": {},
     "output_type": "display_data"
    },
    {
     "name": "stdout",
     "output_type": "stream",
     "text": [
      "Product 158: Fabclub Women's Cambric Cotton Floral Printed Straight Kurti\n"
     ]
    },
    {
     "data": {
      "text/html": [
       "<img src=\"https://images-na.ssl-images-amazon.com/images/I/31H2NE5r4rL._SR38,50_.jpg|https://images-na.ssl-images-amazon.com/images/I/31q6nR7VnFL._SR38,50_.jpg|https://images-na.ssl-images-amazon.com/images/I/31u-E0rNIEL._SR38,50_.jpg|https://images-na.ssl-images-amazon.com/images/I/31X8aJ0T0pL._SR38,50_.jpg|https://images-na.ssl-images-amazon.com/images/I/51EUhsXjFFL._SR38,50_.jpg\"/>"
      ],
      "text/plain": [
       "<IPython.core.display.Image object>"
      ]
     },
     "metadata": {},
     "output_type": "display_data"
    },
    {
     "name": "stdout",
     "output_type": "stream",
     "text": [
      "Product 159: Campus Sutra Men's Plain Regular fit T-Shirt\n"
     ]
    },
    {
     "data": {
      "text/html": [
       "<img src=\"https://images-na.ssl-images-amazon.com/images/I/412wTXHcc1L._SR38,50_.jpg|https://images-na.ssl-images-amazon.com/images/I/41hD0005%2B7L._SR38,50_.jpg|https://images-na.ssl-images-amazon.com/images/I/418v1cFO-ML._SR38,50_.jpg|https://images-na.ssl-images-amazon.com/images/I/414jfOhdOOL._SR38,50_.jpg\"/>"
      ],
      "text/plain": [
       "<IPython.core.display.Image object>"
      ]
     },
     "metadata": {},
     "output_type": "display_data"
    },
    {
     "name": "stdout",
     "output_type": "stream",
     "text": [
      "Product 160: Flairs New York Gentlemans Essentials Bow Tie and Pocket Square Matching Set (Peacock Green [Glitter Dot Print])\n"
     ]
    },
    {
     "data": {
      "text/html": [
       "<img src=\"https://images-na.ssl-images-amazon.com/images/I/61HvSg0fLnL._SR38,50_.jpg\"/>"
      ],
      "text/plain": [
       "<IPython.core.display.Image object>"
      ]
     },
     "metadata": {},
     "output_type": "display_data"
    },
    {
     "name": "stdout",
     "output_type": "stream",
     "text": [
      "Product 161: ADRO Men's GOT Printed Cotton T-Shirt\n"
     ]
    },
    {
     "data": {
      "text/html": [
       "<img src=\"https://images-na.ssl-images-amazon.com/images/I/411K5tT8WGL._SR38,50_.jpg|https://images-na.ssl-images-amazon.com/images/I/41NU9%2BgZQpL._SR38,50_.jpg|https://images-na.ssl-images-amazon.com/images/I/41xIoYM%2BTML._SR38,50_.jpg\"/>"
      ],
      "text/plain": [
       "<IPython.core.display.Image object>"
      ]
     },
     "metadata": {},
     "output_type": "display_data"
    },
    {
     "name": "stdout",
     "output_type": "stream",
     "text": [
      "Product 162: Mens Solid Formal Banded Pre-tied Bow Ties (Pink)\n"
     ]
    },
    {
     "data": {
      "text/html": [
       "<img src=\"https://images-na.ssl-images-amazon.com/images/I/41e-He55NYL._SR38,50_.jpg|https://images-na.ssl-images-amazon.com/images/I/419-RrvQZdL._SR38,50_.jpg|https://images-na.ssl-images-amazon.com/images/I/4159mNsrgpL._SR38,50_.jpg|https://images-na.ssl-images-amazon.com/images/I/61pyDAqmKVL._SR38,50_.jpg|https://images-na.ssl-images-amazon.com/images/I/51SIXgpzWyL._SR38,50_.jpg|https://images-na.ssl-images-amazon.com/images/I/51fPhIRhGkL._SR38,50_.jpg\"/>"
      ],
      "text/plain": [
       "<IPython.core.display.Image object>"
      ]
     },
     "metadata": {},
     "output_type": "display_data"
    },
    {
     "name": "stdout",
     "output_type": "stream",
     "text": [
      "Product 163: Adjustable White Adult Ice Cream Cone Embroidered Visor Dad Hat\n"
     ]
    },
    {
     "data": {
      "text/html": [
       "<img src=\"https://images-na.ssl-images-amazon.com/images/I/31wD%2BQWbHAL._SR38,50_.jpg|https://images-na.ssl-images-amazon.com/images/I/31ORAitBqJL._SR38,50_.jpg\"/>"
      ],
      "text/plain": [
       "<IPython.core.display.Image object>"
      ]
     },
     "metadata": {},
     "output_type": "display_data"
    },
    {
     "name": "stdout",
     "output_type": "stream",
     "text": [
      "Product 164: US Polo Association Men's Formal Shirt\n"
     ]
    },
    {
     "data": {
      "text/html": [
       "<img src=\"https://images-na.ssl-images-amazon.com/images/I/31f6Eh5QUVL._SR38,50_.jpg|https://images-na.ssl-images-amazon.com/images/I/31B53yp9fLL._SR38,50_.jpg|https://images-na.ssl-images-amazon.com/images/I/51Uv80wG-dL._SR38,50_.jpg|https://images-na.ssl-images-amazon.com/images/I/41eXuRjJqhL._SR38,50_.jpg|https://images-na.ssl-images-amazon.com/images/I/31RnFz3U91L._SR38,50_.jpg\"/>"
      ],
      "text/plain": [
       "<IPython.core.display.Image object>"
      ]
     },
     "metadata": {},
     "output_type": "display_data"
    },
    {
     "name": "stdout",
     "output_type": "stream",
     "text": [
      "Product 165: Greenery Thicken Fleece Balaclava Hat Hood Double Layers Police Swat Ski Bike Wind Proof Mask Winter Outdoors Warm Caps Neck Warmer (ARMY GREEN)\n"
     ]
    },
    {
     "data": {
      "text/html": [
       "<img src=\"https://images-na.ssl-images-amazon.com/images/I/41pn2W1ks2L._SR38,50_.jpg|https://images-na.ssl-images-amazon.com/images/I/41GzRf8hxeL._SR38,50_.jpg|https://images-na.ssl-images-amazon.com/images/I/4191C8BtLlL._SR38,50_.jpg|https://images-na.ssl-images-amazon.com/images/I/418YFrki1NL._SR38,50_.jpg|https://images-na.ssl-images-amazon.com/images/I/41LpbKej94L._SR38,50_.jpg|https://images-na.ssl-images-amazon.com/images/I/51uj1MQxVcL._SR38,50_.jpg|https://images-na.ssl-images-amazon.com/images/I/51vt%2BZeyZ0L._SR38,50_.jpg\"/>"
      ],
      "text/plain": [
       "<IPython.core.display.Image object>"
      ]
     },
     "metadata": {},
     "output_type": "display_data"
    },
    {
     "name": "stdout",
     "output_type": "stream",
     "text": [
      "Product 166: Kidofash Pack of 2 Pair Antislip Socks Antiskid Socks cum Booties for Kids (6 Months to 2 Years Old)\n"
     ]
    },
    {
     "data": {
      "text/html": [
       "<img src=\"https://images-na.ssl-images-amazon.com/images/I/41YYdZgMDEL._SR38,50_.jpg|https://images-na.ssl-images-amazon.com/images/I/31THyQqKlrL._SR38,50_.jpg\"/>"
      ],
      "text/plain": [
       "<IPython.core.display.Image object>"
      ]
     },
     "metadata": {},
     "output_type": "display_data"
    },
    {
     "name": "stdout",
     "output_type": "stream",
     "text": [
      "Product 167: Magic Collections Girls Birthday Dress Gown_M C_888\n"
     ]
    },
    {
     "data": {
      "text/html": [
       "<img src=\"https://images-na.ssl-images-amazon.com/images/I/41GDkmyUfFL._SR38,50_.jpg|https://images-na.ssl-images-amazon.com/images/I/41vbJpuPNdL._SR38,50_.jpg\"/>"
      ],
      "text/plain": [
       "<IPython.core.display.Image object>"
      ]
     },
     "metadata": {},
     "output_type": "display_data"
    },
    {
     "name": "stdout",
     "output_type": "stream",
     "text": [
      "Product 168: Bronz Women's Plain Slim fit Shirt\n"
     ]
    },
    {
     "data": {
      "text/html": [
       "<img src=\"https://images-na.ssl-images-amazon.com/images/I/411cKxGNGEL._SR38,50_.jpg|https://images-na.ssl-images-amazon.com/images/I/415G6vCUiML._SR38,50_.jpg|https://images-na.ssl-images-amazon.com/images/I/41%2BFrOch4bL._SR38,50_.jpg|https://images-na.ssl-images-amazon.com/images/I/41puN2DSgPL._SR38,50_.jpg|https://images-na.ssl-images-amazon.com/images/I/31YkwNjpR0L._SR38,50_.jpg\"/>"
      ],
      "text/plain": [
       "<IPython.core.display.Image object>"
      ]
     },
     "metadata": {},
     "output_type": "display_data"
    },
    {
     "name": "stdout",
     "output_type": "stream",
     "text": [
      "Product 169: US Polo Men's Solid Regular Fit Casual Shirt\n"
     ]
    },
    {
     "data": {
      "text/html": [
       "<img src=\"https://images-na.ssl-images-amazon.com/images/I/31CJ2jAe0PL._SR38,50_.jpg|https://images-na.ssl-images-amazon.com/images/I/31laqJq%2BW8L._SR38,50_.jpg|https://images-na.ssl-images-amazon.com/images/I/31c9sncePcL._SR38,50_.jpg|https://images-na.ssl-images-amazon.com/images/I/31VQKp5oCPL._SR38,50_.jpg\"/>"
      ],
      "text/plain": [
       "<IPython.core.display.Image object>"
      ]
     },
     "metadata": {},
     "output_type": "display_data"
    },
    {
     "name": "stdout",
     "output_type": "stream",
     "text": [
      "Product 170: GRITSTONES Men's Multi Army Print Vest GSVST720\n"
     ]
    },
    {
     "data": {
      "text/html": [
       "<img src=\"https://images-na.ssl-images-amazon.com/images/I/41YDKLlND9L._SR38,50_.jpg|https://images-na.ssl-images-amazon.com/images/I/31ZZqsE2WOL._SR38,50_.jpg|https://images-na.ssl-images-amazon.com/images/I/41E62bqC3AL._SR38,50_.jpg|https://images-na.ssl-images-amazon.com/images/I/41EnTpGmn8L._SR38,50_.jpg\"/>"
      ],
      "text/plain": [
       "<IPython.core.display.Image object>"
      ]
     },
     "metadata": {},
     "output_type": "display_data"
    },
    {
     "name": "stdout",
     "output_type": "stream",
     "text": [
      "Product 171: Sisjuly Sisjuly Rhinestone Crystal Sash Wedding Belt For Prom Party Evening Dresses\n"
     ]
    },
    {
     "data": {
      "text/html": [
       "<img src=\"https://images-na.ssl-images-amazon.com/images/I/41OCsLkAC8L._SR38,50_.jpg|https://images-na.ssl-images-amazon.com/images/I/41crTEvIleL._SR38,50_.jpg|https://images-na.ssl-images-amazon.com/images/I/5107HSGf17L._SR38,50_.jpg|https://images-na.ssl-images-amazon.com/images/I/51s7zYtYtkL._SR38,50_.jpg|https://images-na.ssl-images-amazon.com/images/I/41t2Zg86qfL._SR38,50_.jpg|https://images-na.ssl-images-amazon.com/images/I/41wgKyp1NJL._SR38,50_.jpg|https://images-na.ssl-images-amazon.com/images/I/21f71nJmrxL._SR38,50_.jpg\"/>"
      ],
      "text/plain": [
       "<IPython.core.display.Image object>"
      ]
     },
     "metadata": {},
     "output_type": "display_data"
    },
    {
     "name": "stdout",
     "output_type": "stream",
     "text": [
      "Product 172: bilAnca Premium Quality Women's Girl's Ladies Cotton Velvet Finish Casual Belt Stylish Trendy Buckle Strap Ideal for Jeans Trousers Cargo Joggers | 2 CMS (0.75\") Wide | 41\" Long | Waist Upto 36\"\n"
     ]
    },
    {
     "data": {
      "text/html": [
       "<img src=\"https://images-na.ssl-images-amazon.com/images/I/41ccVvCgS8L._SR38,50_.jpg|https://images-na.ssl-images-amazon.com/images/I/41KITQVAAfL._SR38,50_.jpg|https://images-na.ssl-images-amazon.com/images/I/41BvAvvZ1uL._SR38,50_.jpg\"/>"
      ],
      "text/plain": [
       "<IPython.core.display.Image object>"
      ]
     },
     "metadata": {},
     "output_type": "display_data"
    },
    {
     "name": "stdout",
     "output_type": "stream",
     "text": [
      "Product 173: Smit Enterprise Kachhi Bandhani Cotton Silk Unstitched Dress Material For Women\n"
     ]
    },
    {
     "data": {
      "text/html": [
       "<img src=\"https://images-na.ssl-images-amazon.com/images/I/513Q4hs6HcL._SR38,50_.jpg|https://images-na.ssl-images-amazon.com/images/I/514V4-So3hL._SR38,50_.jpg|https://images-na.ssl-images-amazon.com/images/I/41nSIlRHehL._SR38,50_.jpg|https://images-na.ssl-images-amazon.com/images/I/31xPOSVYdJL._SR38,50_.jpg\"/>"
      ],
      "text/plain": [
       "<IPython.core.display.Image object>"
      ]
     },
     "metadata": {},
     "output_type": "display_data"
    },
    {
     "name": "stdout",
     "output_type": "stream",
     "text": [
      "Product 174: AD & AV Men's Formal Trouser (298_Linen_Cream_AA_30, Grey, 30)\n"
     ]
    },
    {
     "data": {
      "text/html": [
       "<img src=\"https://images-na.ssl-images-amazon.com/images/I/411ZbXQ0PXL._SR38,50_.jpg|https://images-na.ssl-images-amazon.com/images/I/414QvMKYupL._SR38,50_.jpg|https://images-na.ssl-images-amazon.com/images/I/41Ej8kJq0IL._SR38,50_.jpg|https://images-na.ssl-images-amazon.com/images/I/41LgIGEfpkL._SR38,50_.jpg|https://images-na.ssl-images-amazon.com/images/I/41gAIs-pukL._SR38,50_.jpg|https://images-na.ssl-images-amazon.com/images/I/614yHTvmyTL._SR38,50_.jpg|https://images-na.ssl-images-amazon.com/images/I/61YmaA6jQpL._SR38,50_.jpg\"/>"
      ],
      "text/plain": [
       "<IPython.core.display.Image object>"
      ]
     },
     "metadata": {},
     "output_type": "display_data"
    },
    {
     "name": "stdout",
     "output_type": "stream",
     "text": [
      "Product 175: HELG Mens Formal Cotton Plain Mandarin Chinese Collar Half Sleeves Comfort Fit Shirt\n"
     ]
    },
    {
     "data": {
      "text/html": [
       "<img src=\"https://images-na.ssl-images-amazon.com/images/I/41nChjXqZZL._SR38,50_.jpg|https://images-na.ssl-images-amazon.com/images/I/51zOn7mxVNL._SR38,50_.jpg|https://images-na.ssl-images-amazon.com/images/I/41wM7I4XmLL._SR38,50_.jpg\"/>"
      ],
      "text/plain": [
       "<IPython.core.display.Image object>"
      ]
     },
     "metadata": {},
     "output_type": "display_data"
    },
    {
     "name": "stdout",
     "output_type": "stream",
     "text": [
      "Product 176: Inkholic Men's Cricket Sports Jersey IN701\n"
     ]
    },
    {
     "data": {
      "text/html": [
       "<img src=\"https://images-na.ssl-images-amazon.com/images/I/41vMYnO9VeL._SR38,50_.jpg|https://images-na.ssl-images-amazon.com/images/I/31325IEiNbL._SR38,50_.jpg|https://images-na.ssl-images-amazon.com/images/I/41JQfm4etbL._SR38,50_.jpg\"/>"
      ],
      "text/plain": [
       "<IPython.core.display.Image object>"
      ]
     },
     "metadata": {},
     "output_type": "display_data"
    },
    {
     "name": "stdout",
     "output_type": "stream",
     "text": [
      "Product 177: Lole Women's Caribbean Bottom\n"
     ]
    },
    {
     "data": {
      "text/html": [
       "<img src=\"https://images-na.ssl-images-amazon.com/images/I/41Nd1bQJC6L._SS40_.jpg|https://images-na.ssl-images-amazon.com/images/I/41e0eltkNZL._SS40_.jpg\"/>"
      ],
      "text/plain": [
       "<IPython.core.display.Image object>"
      ]
     },
     "metadata": {},
     "output_type": "display_data"
    },
    {
     "name": "stdout",
     "output_type": "stream",
     "text": [
      "Product 178: Ruggers Men's Striped Regular fit T-Shirt\n"
     ]
    },
    {
     "data": {
      "text/html": [
       "<img src=\"https://images-na.ssl-images-amazon.com/images/I/41MtmXTwDzL._SR38,50_.jpg|https://images-na.ssl-images-amazon.com/images/I/41LQp0mCf7L._SR38,50_.jpg|https://images-na.ssl-images-amazon.com/images/I/410wXzhN7ML._SR38,50_.jpg|https://images-na.ssl-images-amazon.com/images/I/31LsK0qzb6L._SR38,50_.jpg|https://images-na.ssl-images-amazon.com/images/I/41OvHdo6wNL._SR38,50_.jpg\"/>"
      ],
      "text/plain": [
       "<IPython.core.display.Image object>"
      ]
     },
     "metadata": {},
     "output_type": "display_data"
    },
    {
     "name": "stdout",
     "output_type": "stream",
     "text": [
      "Product 179: Mehrunnisa BAGRU MAHESHWARI Cotton Silk Saree With Blouse Piece From Jaipur\n"
     ]
    },
    {
     "data": {
      "text/html": [
       "<img src=\"https://images-na.ssl-images-amazon.com/images/I/41RWXV1fDtL._SR38,50_.jpg|https://images-na.ssl-images-amazon.com/images/I/41MVoJOD7GL._SR38,50_.jpg|https://images-na.ssl-images-amazon.com/images/I/41y77L4gjKL._SR38,50_.jpg\"/>"
      ],
      "text/plain": [
       "<IPython.core.display.Image object>"
      ]
     },
     "metadata": {},
     "output_type": "display_data"
    },
    {
     "name": "stdout",
     "output_type": "stream",
     "text": [
      "Product 180: pietra Combo Plain Patiala Salwar and Dhoti for Women\n"
     ]
    },
    {
     "data": {
      "text/html": [
       "<img src=\"https://images-na.ssl-images-amazon.com/images/I/41Fo7%2BbeyLL._SR38,50_.jpg|https://images-na.ssl-images-amazon.com/images/I/41dQn2rXL-L._SR38,50_.jpg|https://images-na.ssl-images-amazon.com/images/I/41mhA8DxzSL._SR38,50_.jpg|https://images-na.ssl-images-amazon.com/images/I/41P3YbDNxSL._SR38,50_.jpg|https://images-na.ssl-images-amazon.com/images/I/41OewyxpdqL._SR38,50_.jpg|https://images-na.ssl-images-amazon.com/images/I/414YmOPbbfL._SR38,50_.jpg|https://images-na.ssl-images-amazon.com/images/I/41CzqzJoanL._SR38,50_.jpg\"/>"
      ],
      "text/plain": [
       "<IPython.core.display.Image object>"
      ]
     },
     "metadata": {},
     "output_type": "display_data"
    },
    {
     "name": "stdout",
     "output_type": "stream",
     "text": [
      "Product 181: BIBA Women's Cotton Straight Kurta\n"
     ]
    },
    {
     "data": {
      "text/html": [
       "<img src=\"https://images-na.ssl-images-amazon.com/images/I/41SiQnqOA3L._SR38,50_.jpg|https://images-na.ssl-images-amazon.com/images/I/31xDmQnXZCL._SR38,50_.jpg|https://images-na.ssl-images-amazon.com/images/I/31Y%2B5-S0QIL._SR38,50_.jpg|https://images-na.ssl-images-amazon.com/images/I/41jkO-bx2hL._SR38,50_.jpg|https://images-na.ssl-images-amazon.com/images/I/31H0bLAtEJL._SR38,50_.jpg\"/>"
      ],
      "text/plain": [
       "<IPython.core.display.Image object>"
      ]
     },
     "metadata": {},
     "output_type": "display_data"
    },
    {
     "name": "stdout",
     "output_type": "stream",
     "text": [
      "Product 182: ONN Men's Cotton Vest\n"
     ]
    },
    {
     "data": {
      "text/html": [
       "<img src=\"https://images-na.ssl-images-amazon.com/images/I/41HPGTxxdYL._SR38,50_.jpg|https://images-na.ssl-images-amazon.com/images/I/41IX-EFzegL._SR38,50_.jpg\"/>"
      ],
      "text/plain": [
       "<IPython.core.display.Image object>"
      ]
     },
     "metadata": {},
     "output_type": "display_data"
    },
    {
     "name": "stdout",
     "output_type": "stream",
     "text": [
      "Product 183: New Ethical Fashion Crepe Fully Stiched Womens Top\n"
     ]
    },
    {
     "data": {
      "text/html": [
       "<img src=\"https://images-na.ssl-images-amazon.com/images/I/41bdEOZTYXL._SR38,50_.jpg|https://images-na.ssl-images-amazon.com/images/I/41MnttlL2gL._SR38,50_.jpg|https://images-na.ssl-images-amazon.com/images/I/41IggvvuUbL._SR38,50_.jpg|https://images-na.ssl-images-amazon.com/images/I/41f-cY1Hl5L._SR38,50_.jpg|https://images-na.ssl-images-amazon.com/images/I/31uEY1vcfpL._SR38,50_.jpg|https://images-na.ssl-images-amazon.com/images/I/5172lxyNtpL._SR38,50_.jpg\"/>"
      ],
      "text/plain": [
       "<IPython.core.display.Image object>"
      ]
     },
     "metadata": {},
     "output_type": "display_data"
    },
    {
     "name": "stdout",
     "output_type": "stream",
     "text": [
      "Product 184: Max Girl's Regular Fit T-Shirt\n"
     ]
    },
    {
     "data": {
      "text/html": [
       "<img src=\"https://images-na.ssl-images-amazon.com/images/I/41mYhqwMC-L._SR38,50_.jpg|https://images-na.ssl-images-amazon.com/images/I/31SXfCMNwZL._SR38,50_.jpg|https://images-na.ssl-images-amazon.com/images/I/41Jx1dNGJLL._SR38,50_.jpg\"/>"
      ],
      "text/plain": [
       "<IPython.core.display.Image object>"
      ]
     },
     "metadata": {},
     "output_type": "display_data"
    },
    {
     "name": "stdout",
     "output_type": "stream",
     "text": [
      "Product 185: Captain America By Kidsville Boy's Plain Regular fit T-Shirt\n"
     ]
    },
    {
     "data": {
      "text/html": [
       "<img src=\"https://images-na.ssl-images-amazon.com/images/I/517HGZrM%2BoL._SR38,50_.jpg|https://images-na.ssl-images-amazon.com/images/I/51o5C2ZvtaL._SR38,50_.jpg|https://images-na.ssl-images-amazon.com/images/I/61yglpNMXML._SR38,50_.jpg\"/>"
      ],
      "text/plain": [
       "<IPython.core.display.Image object>"
      ]
     },
     "metadata": {},
     "output_type": "display_data"
    },
    {
     "name": "stdout",
     "output_type": "stream",
     "text": [
      "Product 186: Aarika Silk a-line Dress\n"
     ]
    },
    {
     "data": {
      "text/html": [
       "<img src=\"https://images-na.ssl-images-amazon.com/images/I/41htHB0bgNL._SR38,50_.jpg|https://images-na.ssl-images-amazon.com/images/I/41GSXFxYATL._SR38,50_.jpg|https://images-na.ssl-images-amazon.com/images/I/51NRZLaFirL._SR38,50_.jpg\"/>"
      ],
      "text/plain": [
       "<IPython.core.display.Image object>"
      ]
     },
     "metadata": {},
     "output_type": "display_data"
    },
    {
     "name": "stdout",
     "output_type": "stream",
     "text": [
      "Product 187: M.Weft Men's Trendy Blue Jeans _36\n"
     ]
    },
    {
     "data": {
      "text/html": [
       "<img src=\"https://images-na.ssl-images-amazon.com/images/I/512m1fFuaSL._SR38,50_.jpg|https://images-na.ssl-images-amazon.com/images/I/51uk8MVBRHL._SR38,50_.jpg|https://images-na.ssl-images-amazon.com/images/I/51Y6IjLTFNL._SR38,50_.jpg\"/>"
      ],
      "text/plain": [
       "<IPython.core.display.Image object>"
      ]
     },
     "metadata": {},
     "output_type": "display_data"
    },
    {
     "name": "stdout",
     "output_type": "stream",
     "text": [
      "Product 188: Printoctopus Women'S Green T-Shirts\n"
     ]
    },
    {
     "data": {
      "text/html": [
       "<img src=\"https://images-na.ssl-images-amazon.com/images/I/41SJaW40yeL._SR38,50_.jpg|https://images-na.ssl-images-amazon.com/images/I/41rc0qQr56L._SR38,50_.jpg|https://images-na.ssl-images-amazon.com/images/I/31dEalo-qhL._SR38,50_.jpg|https://images-na.ssl-images-amazon.com/images/I/41eLh5S-2mL._SR38,50_.jpg|https://images-na.ssl-images-amazon.com/images/I/61ixwfvMbiL._SR38,50_.jpg|https://images-na.ssl-images-amazon.com/images/I/41cbshj2-QL._SR38,50_.jpg|https://images-na.ssl-images-amazon.com/images/I/31v5Swm-%2BsL._SR38,50_.jpg\"/>"
      ],
      "text/plain": [
       "<IPython.core.display.Image object>"
      ]
     },
     "metadata": {},
     "output_type": "display_data"
    },
    {
     "name": "stdout",
     "output_type": "stream",
     "text": [
      "Product 189: SKULT by Shahid Kapoor Men's Varsity Jacket\n"
     ]
    },
    {
     "data": {
      "text/html": [
       "<img src=\"https://images-na.ssl-images-amazon.com/images/I/31KXrbWWQ%2BL._SR38,50_.jpg|https://images-na.ssl-images-amazon.com/images/I/31XnEU2J8rL._SR38,50_.jpg|https://images-na.ssl-images-amazon.com/images/I/31z76rWIgXL._SR38,50_.jpg|https://images-na.ssl-images-amazon.com/images/I/31%2B-YoswkoL._SR38,50_.jpg|https://images-na.ssl-images-amazon.com/images/I/31wXbQGC9xL._SR38,50_.jpg|https://images-na.ssl-images-amazon.com/images/I/31M-I6Evp%2BL._SR38,50_.jpg\"/>"
      ],
      "text/plain": [
       "<IPython.core.display.Image object>"
      ]
     },
     "metadata": {},
     "output_type": "display_data"
    },
    {
     "name": "stdout",
     "output_type": "stream",
     "text": [
      "Product 190: Atharv Collection Women's Unstitched Cotton Salwar Suit Dress Material With Nazneen Printed Dupatta (Brown; Free Size)\n"
     ]
    },
    {
     "data": {
      "text/html": [
       "<img src=\"https://images-na.ssl-images-amazon.com/images/I/41IlCH%2Bga9L._SR38,50_.jpg|https://images-na.ssl-images-amazon.com/images/I/41KLpSqQUAL._SR38,50_.jpg|https://images-na.ssl-images-amazon.com/images/I/41KwrDPY0aL._SR38,50_.jpg\"/>"
      ],
      "text/plain": [
       "<IPython.core.display.Image object>"
      ]
     },
     "metadata": {},
     "output_type": "display_data"
    },
    {
     "name": "stdout",
     "output_type": "stream",
     "text": [
      "Product 191: Navabi Export Women's Wrap Kurta(VF-KU-125 XXXL _Grey_XXX-Large)\n"
     ]
    },
    {
     "data": {
      "text/html": [
       "<img src=\"https://images-na.ssl-images-amazon.com/images/I/4182-DCQAQL._SR38,50_.jpg|https://images-na.ssl-images-amazon.com/images/I/41eVjv%2BbKPL._SR38,50_.jpg|https://images-na.ssl-images-amazon.com/images/I/41k60YjvzzL._SR38,50_.jpg|https://images-na.ssl-images-amazon.com/images/I/612--v0%2Bw8L._SR38,50_.jpg\"/>"
      ],
      "text/plain": [
       "<IPython.core.display.Image object>"
      ]
     },
     "metadata": {},
     "output_type": "display_data"
    },
    {
     "name": "stdout",
     "output_type": "stream",
     "text": [
      "Product 192: High Point Little Girls' My Little Pony Knee High Socks- Blue/Pink (Pack of 2)\n"
     ]
    },
    {
     "data": {
      "text/html": [
       "<img src=\"https://images-na.ssl-images-amazon.com/images/I/51DxG9pd1pL._SR38,50_.jpg\"/>"
      ],
      "text/plain": [
       "<IPython.core.display.Image object>"
      ]
     },
     "metadata": {},
     "output_type": "display_data"
    },
    {
     "name": "stdout",
     "output_type": "stream",
     "text": [
      "Product 193: KURTA DHOTHI with KHANDWA\n"
     ]
    },
    {
     "data": {
      "text/html": [
       "<img src=\"https://images-na.ssl-images-amazon.com/images/I/31sGUuSumfL._SR38,50_.jpg|https://images-na.ssl-images-amazon.com/images/I/314gkm0xYnL._SR38,50_.jpg\"/>"
      ],
      "text/plain": [
       "<IPython.core.display.Image object>"
      ]
     },
     "metadata": {},
     "output_type": "display_data"
    },
    {
     "name": "stdout",
     "output_type": "stream",
     "text": [
      "Product 194: McHenry Mens Pure Cotton Regular Fit Checkered Casual Full Sleeves Shirt\n"
     ]
    },
    {
     "data": {
      "text/html": [
       "<img src=\"https://images-na.ssl-images-amazon.com/images/I/51K8ggE4VFL._SR38,50_.jpg|https://images-na.ssl-images-amazon.com/images/I/411hd4EBP1L._SR38,50_.jpg|https://images-na.ssl-images-amazon.com/images/I/41%2B07ZjWrPL._SR38,50_.jpg|https://images-na.ssl-images-amazon.com/images/I/41hwy9T4bLL._SR38,50_.jpg|https://images-na.ssl-images-amazon.com/images/I/51lTVP%2B%2BapL._SR38,50_.jpg|https://images-na.ssl-images-amazon.com/images/I/31s6OvbF-YL._SR38,50_.jpg|https://images-na.ssl-images-amazon.com/images/I/41wGvHdK7PL._SR38,50_.jpg\"/>"
      ],
      "text/plain": [
       "<IPython.core.display.Image object>"
      ]
     },
     "metadata": {},
     "output_type": "display_data"
    },
    {
     "name": "stdout",
     "output_type": "stream",
     "text": [
      "Product 195: Romano Women's Rain Skirt and Rain Jacket\n"
     ]
    },
    {
     "data": {
      "text/html": [
       "<img src=\"https://images-na.ssl-images-amazon.com/images/I/4155cBPJOLL._SS40_.jpg|https://images-na.ssl-images-amazon.com/images/I/41NTYl0bFCL._SS40_.jpg|https://images-na.ssl-images-amazon.com/images/I/41OS-Xwx1hL._SS40_.jpg|https://images-na.ssl-images-amazon.com/images/I/41s2mtJx0gL._SS40_.jpg|https://images-na.ssl-images-amazon.com/images/I/41mIYXCEk5L._SS40_.jpg|https://images-na.ssl-images-amazon.com/images/I/51fhD7i%2BVmL._SS40_.jpg\"/>"
      ],
      "text/plain": [
       "<IPython.core.display.Image object>"
      ]
     },
     "metadata": {},
     "output_type": "display_data"
    },
    {
     "name": "stdout",
     "output_type": "stream",
     "text": [
      "Product 196: American Noti White Jeans Men | White Denim Jeans for Men | White Cotton Jeans for Men | Jeans for Men Slim fit Stretchable Pure White | Jeans White for Men\n"
     ]
    },
    {
     "data": {
      "text/html": [
       "<img src=\"https://images-na.ssl-images-amazon.com/images/I/41vAEETICuL._SR38,50_.jpg|https://images-na.ssl-images-amazon.com/images/I/31GQoAan9OL._SR38,50_.jpg|https://images-na.ssl-images-amazon.com/images/I/31ztEdKnsML._SR38,50_.jpg|https://images-na.ssl-images-amazon.com/images/I/418zpcEWtEL._SR38,50_.jpg|https://images-na.ssl-images-amazon.com/images/I/41e86cNSM2L._SR38,50_.jpg\"/>"
      ],
      "text/plain": [
       "<IPython.core.display.Image object>"
      ]
     },
     "metadata": {},
     "output_type": "display_data"
    },
    {
     "name": "stdout",
     "output_type": "stream",
     "text": [
      "Product 197: SHOPMOZO Unisex Pure Cotton Checkered Short Sleeve Night Suit for Boys and Girls Full Pyjama with Short Top Combo Set (SM-00515UNISEXSWPS Multicolor)\n"
     ]
    },
    {
     "data": {
      "text/html": [
       "<img src=\"https://images-na.ssl-images-amazon.com/images/I/511me3xmPWL._SR38,50_.jpg|https://images-na.ssl-images-amazon.com/images/I/51sxMw1xO8L._SR38,50_.jpg\"/>"
      ],
      "text/plain": [
       "<IPython.core.display.Image object>"
      ]
     },
     "metadata": {},
     "output_type": "display_data"
    },
    {
     "name": "stdout",
     "output_type": "stream",
     "text": [
      "Product 198: ultrasav Women's Net Embroidered Semi-Stitched Lehenga Choli (Fanta_001, Orange, Free Size)\n"
     ]
    },
    {
     "data": {
      "text/html": [
       "<img src=\"https://images-na.ssl-images-amazon.com/images/I/51vN%2BPYuQJL._SR38,50_.jpg|https://images-na.ssl-images-amazon.com/images/I/41IGEX6ztQL._SR38,50_.jpg\"/>"
      ],
      "text/plain": [
       "<IPython.core.display.Image object>"
      ]
     },
     "metadata": {},
     "output_type": "display_data"
    },
    {
     "name": "stdout",
     "output_type": "stream",
     "text": [
      "Product 199: My Lil Princess Baby Girls Birthday Frock Dress_Pink Beeds_Net Fabric_3-9 Years\n"
     ]
    },
    {
     "data": {
      "text/html": [
       "<img src=\"https://images-na.ssl-images-amazon.com/images/I/41frRqFYt7L._SR38,50_.jpg|https://images-na.ssl-images-amazon.com/images/I/514oNnSQEEL._SR38,50_.jpg|https://images-na.ssl-images-amazon.com/images/I/41jq1CrdUHL._SR38,50_.jpg\"/>"
      ],
      "text/plain": [
       "<IPython.core.display.Image object>"
      ]
     },
     "metadata": {},
     "output_type": "display_data"
    },
    {
     "name": "stdout",
     "output_type": "stream",
     "text": [
      "Product 200: GURU KRIPA BABY PRODUCTS Born Baby Zero Kids Inner Wear Baniyan Baby Vest Zero Unisex 100% Cotton White\n"
     ]
    },
    {
     "data": {
      "text/html": [
       "<img src=\"https://images-na.ssl-images-amazon.com/images/I/41LIDCpoyjL._SR38,50_.jpg|https://images-na.ssl-images-amazon.com/images/I/31OPJzt4UCL._SR38,50_.jpg|https://images-na.ssl-images-amazon.com/images/I/41eM%2B7JofGL._SR38,50_.jpg|https://images-na.ssl-images-amazon.com/images/I/41oaf88TMKL._SR38,50_.jpg\"/>"
      ],
      "text/plain": [
       "<IPython.core.display.Image object>"
      ]
     },
     "metadata": {},
     "output_type": "display_data"
    },
    {
     "name": "stdout",
     "output_type": "stream",
     "text": [
      "Product 201: Mizago Women's Casual Sleeveless Solid,Frill Front Design Women's Shirt\n"
     ]
    },
    {
     "data": {
      "text/html": [
       "<img src=\"https://images-na.ssl-images-amazon.com/images/I/41bd51FDfnL._SR38,50_.jpg|https://images-na.ssl-images-amazon.com/images/I/41TIAPgTeSL._SR38,50_.jpg|https://images-na.ssl-images-amazon.com/images/I/31UR8ByMwSL._SR38,50_.jpg|https://images-na.ssl-images-amazon.com/images/I/41FG5b1iovL._SR38,50_.jpg\"/>"
      ],
      "text/plain": [
       "<IPython.core.display.Image object>"
      ]
     },
     "metadata": {},
     "output_type": "display_data"
    },
    {
     "name": "stdout",
     "output_type": "stream",
     "text": [
      "Product 202: Zacharias Unisex Hip Hop Cap zach-hip-hop-Black-cap,\n"
     ]
    },
    {
     "data": {
      "text/html": [
       "<img src=\"https://images-na.ssl-images-amazon.com/images/I/51OlTb4dUYL._SR38,50_.jpg|https://images-na.ssl-images-amazon.com/images/I/51z6NoSQ-9L._SR38,50_.jpg|https://images-na.ssl-images-amazon.com/images/I/51hIcE9W4uL._SR38,50_.jpg|https://images-na.ssl-images-amazon.com/images/I/51kLLrzs3DL._SR38,50_.jpg|https://images-na.ssl-images-amazon.com/images/I/418XkzTP9vL._SR38,50_.jpg|https://images-na.ssl-images-amazon.com/images/I/51YBpGX%2BiLL._SR38,50_.jpg\"/>"
      ],
      "text/plain": [
       "<IPython.core.display.Image object>"
      ]
     },
     "metadata": {},
     "output_type": "display_data"
    },
    {
     "name": "stdout",
     "output_type": "stream",
     "text": [
      "Product 203: Max Boy's Regular fit T-Shirt\n"
     ]
    },
    {
     "data": {
      "text/html": [
       "<img src=\"https://images-na.ssl-images-amazon.com/images/I/41eOJR5A8sL._SR38,50_.jpg|https://images-na.ssl-images-amazon.com/images/I/31TJvtDTMSL._SR38,50_.jpg|https://images-na.ssl-images-amazon.com/images/I/41mc-Q-FxZL._SR38,50_.jpg\"/>"
      ],
      "text/plain": [
       "<IPython.core.display.Image object>"
      ]
     },
     "metadata": {},
     "output_type": "display_data"
    },
    {
     "name": "stdout",
     "output_type": "stream",
     "text": [
      "Product 204: ATTIRE FASHIONS Womens Rayon Embroidered and Festival Kurta Full Stitched\n"
     ]
    },
    {
     "data": {
      "text/html": [
       "<img src=\"https://images-na.ssl-images-amazon.com/images/I/419fNeKZzbL._SR38,50_.jpg|https://images-na.ssl-images-amazon.com/images/I/31DVxPlbKEL._SR38,50_.jpg|https://images-na.ssl-images-amazon.com/images/I/31fDJFN8gNL._SR38,50_.jpg|https://images-na.ssl-images-amazon.com/images/I/51AxnaaSZtL._SR38,50_.jpg|https://images-na.ssl-images-amazon.com/images/I/31ZRlss6zcL._SR38,50_.jpg|https://images-na.ssl-images-amazon.com/images/I/31ZRlss6zcL._SR38,50_.jpg\"/>"
      ],
      "text/plain": [
       "<IPython.core.display.Image object>"
      ]
     },
     "metadata": {},
     "output_type": "display_data"
    },
    {
     "name": "stdout",
     "output_type": "stream",
     "text": [
      "Product 205: W for Woman Women's Straight Kurta\n"
     ]
    },
    {
     "data": {
      "text/html": [
       "<img src=\"https://images-na.ssl-images-amazon.com/images/I/41if2HqNmlL._SR38,50_.jpg|https://images-na.ssl-images-amazon.com/images/I/31UjcBNAFxL._SR38,50_.jpg|https://images-na.ssl-images-amazon.com/images/I/317oopED6rL._SR38,50_.jpg|https://images-na.ssl-images-amazon.com/images/I/41UnNv8SFqL._SR38,50_.jpg|https://images-na.ssl-images-amazon.com/images/I/312-DYstFXL._SR38,50_.jpg|https://images-na.ssl-images-amazon.com/images/I/41dD1r3BNfL._SR38,50_.jpg\"/>"
      ],
      "text/plain": [
       "<IPython.core.display.Image object>"
      ]
     },
     "metadata": {},
     "output_type": "display_data"
    },
    {
     "name": "stdout",
     "output_type": "stream",
     "text": [
      "Product 206: ARJUBAN Women's Rayon Empire Kurta\n"
     ]
    },
    {
     "data": {
      "text/html": [
       "<img src=\"https://images-na.ssl-images-amazon.com/images/I/418G1Gv2DXL._SR38,50_.jpg|https://images-na.ssl-images-amazon.com/images/I/41I8YzEiW6L._SR38,50_.jpg|https://images-na.ssl-images-amazon.com/images/I/41kFC-wxt5L._SR38,50_.jpg|https://images-na.ssl-images-amazon.com/images/I/41GxHmH7eIL._SR38,50_.jpg|https://images-na.ssl-images-amazon.com/images/I/518xYVXB9nL._SR38,50_.jpg|https://images-na.ssl-images-amazon.com/images/I/51iKtDUyHpL._SR38,50_.jpg\"/>"
      ],
      "text/plain": [
       "<IPython.core.display.Image object>"
      ]
     },
     "metadata": {},
     "output_type": "display_data"
    },
    {
     "name": "stdout",
     "output_type": "stream",
     "text": [
      "Product 207: Korea Veteran 3D Embroidered Sandwich Bill Military Baseball Cap (One Size\n"
     ]
    },
    {
     "data": {
      "text/html": [
       "<img src=\"https://images-na.ssl-images-amazon.com/images/I/419zL8BSbAL._SR38,50_.jpg|https://images-na.ssl-images-amazon.com/images/I/41YJoeUGElL._SR38,50_.jpg|https://images-na.ssl-images-amazon.com/images/I/41AiBB-h%2ByL._SR38,50_.jpg\"/>"
      ],
      "text/plain": [
       "<IPython.core.display.Image object>"
      ]
     },
     "metadata": {},
     "output_type": "display_data"
    },
    {
     "name": "stdout",
     "output_type": "stream",
     "text": [
      "Product 208: Luvable Friends Girls' 24-Piece Gift Cube\n"
     ]
    },
    {
     "data": {
      "text/html": [
       "<img src=\"https://images-na.ssl-images-amazon.com/images/I/517h7SK-8sL._SR38,50_.jpg|https://images-na.ssl-images-amazon.com/images/I/41mFIpcrP6L._SR38,50_.jpg\"/>"
      ],
      "text/plain": [
       "<IPython.core.display.Image object>"
      ]
     },
     "metadata": {},
     "output_type": "display_data"
    },
    {
     "name": "stdout",
     "output_type": "stream",
     "text": [
      "Product 209: Macroman M-Series Men's Cotton Vest\n"
     ]
    },
    {
     "data": {
      "text/html": [
       "<img src=\"https://images-na.ssl-images-amazon.com/images/I/419-2S6-kvL._SR38,50_.jpg|https://images-na.ssl-images-amazon.com/images/I/41JpEbLZe-L._SR38,50_.jpg|https://images-na.ssl-images-amazon.com/images/I/41oEsDyPmUL._SR38,50_.jpg\"/>"
      ],
      "text/plain": [
       "<IPython.core.display.Image object>"
      ]
     },
     "metadata": {},
     "output_type": "display_data"
    },
    {
     "name": "stdout",
     "output_type": "stream",
     "text": [
      "Product 210: Parx Men's Printed Regular Fit T-Shirt\n"
     ]
    },
    {
     "data": {
      "text/html": [
       "<img src=\"https://images-na.ssl-images-amazon.com/images/I/41vPSJzlPBL._SR38,50_.jpg|https://images-na.ssl-images-amazon.com/images/I/41DNoxMVLNL._SR38,50_.jpg|https://images-na.ssl-images-amazon.com/images/I/41QVYdoIzYL._SR38,50_.jpg|https://images-na.ssl-images-amazon.com/images/I/51iAwLu4%2BRL._SR38,50_.jpg|https://images-na.ssl-images-amazon.com/images/I/41K7WWDeWxL._SR38,50_.jpg\"/>"
      ],
      "text/plain": [
       "<IPython.core.display.Image object>"
      ]
     },
     "metadata": {},
     "output_type": "display_data"
    },
    {
     "name": "stdout",
     "output_type": "stream",
     "text": [
      "Product 211: Neu Look Printed T-Shirt for Women | Plain T-Shirt | Half Sleeve T-Shirt | Round Neck T Shirt | 100% Cotton T-Shirt | Short Sleeve T Shirt\n"
     ]
    },
    {
     "data": {
      "text/html": [
       "<img src=\"https://images-na.ssl-images-amazon.com/images/I/415n%2BvXSQfL._SR38,50_.jpg|https://images-na.ssl-images-amazon.com/images/I/31xkNssxwRL._SR38,50_.jpg\"/>"
      ],
      "text/plain": [
       "<IPython.core.display.Image object>"
      ]
     },
     "metadata": {},
     "output_type": "display_data"
    },
    {
     "name": "stdout",
     "output_type": "stream",
     "text": [
      "Product 212: WHOLESOME DEAL men's navy blue black and maroon microfiber tie pack of three(wsdtie11)\n"
     ]
    },
    {
     "data": {
      "text/html": [
       "<img src=\"https://images-na.ssl-images-amazon.com/images/I/418k3aZESBL._SR38,50_.jpg|https://images-na.ssl-images-amazon.com/images/I/41nRbzoL-rL._SR38,50_.jpg|https://images-na.ssl-images-amazon.com/images/I/41XG7i3N04L._SR38,50_.jpg|https://images-na.ssl-images-amazon.com/images/I/418%2BEktK6CL._SR38,50_.jpg|https://images-na.ssl-images-amazon.com/images/I/41Agxs08nLL._SR38,50_.jpg|https://images-na.ssl-images-amazon.com/images/I/41kBBlLMbVL._SR38,50_.jpg|https://images-na.ssl-images-amazon.com/images/I/41Hgy7uxDRL._SR38,50_.jpg|https://images-na.ssl-images-amazon.com/images/I/41y9W2TCjeL._SR38,50_.jpg\"/>"
      ],
      "text/plain": [
       "<IPython.core.display.Image object>"
      ]
     },
     "metadata": {},
     "output_type": "display_data"
    },
    {
     "name": "stdout",
     "output_type": "stream",
     "text": [
      "Product 213: Bobcat 250023 Black One Size Cap (Value Silver Tipping)\n"
     ]
    },
    {
     "data": {
      "text/html": [
       "<img src=\"https://images-na.ssl-images-amazon.com/images/I/41JvDkwOaRL._SS40_.jpg\"/>"
      ],
      "text/plain": [
       "<IPython.core.display.Image object>"
      ]
     },
     "metadata": {},
     "output_type": "display_data"
    },
    {
     "name": "stdout",
     "output_type": "stream",
     "text": [
      "Product 214: Indian Handicraft Standards Women Cotton Kashmiri Kurti.\n"
     ]
    },
    {
     "data": {
      "text/html": [
       "<img src=\"https://images-na.ssl-images-amazon.com/images/I/311HOsNJagL._SR38,50_.jpg|https://images-na.ssl-images-amazon.com/images/I/41fJsrij3QL._SR38,50_.jpg|https://images-na.ssl-images-amazon.com/images/I/31TCOr9JuqL._SR38,50_.jpg\"/>"
      ],
      "text/plain": [
       "<IPython.core.display.Image object>"
      ]
     },
     "metadata": {},
     "output_type": "display_data"
    },
    {
     "name": "stdout",
     "output_type": "stream",
     "text": [
      "Product 215: Claura Women's Satin Pack of 6pc Night Dress {1 NIGHTY+1 ROBE+1TOP+1 CAPRI+1 SPAGHETTI TOP+1 SHORT SKIRT} (Pink)\n"
     ]
    },
    {
     "data": {
      "text/html": [
       "<img src=\"https://images-na.ssl-images-amazon.com/images/I/5188iFl%2Bo-L._SR38,50_.jpg|https://images-na.ssl-images-amazon.com/images/I/512wXmYfOHL._SR38,50_.jpg|https://images-na.ssl-images-amazon.com/images/I/41PyvD6CdvL._SR38,50_.jpg|https://images-na.ssl-images-amazon.com/images/I/41UDg%2B88jhL._SR38,50_.jpg|https://images-na.ssl-images-amazon.com/images/I/41Cb1nWL5hL._SR38,50_.jpg|https://images-na.ssl-images-amazon.com/images/I/41IseFy31hL._SR38,50_.jpg|https://images-na.ssl-images-amazon.com/images/I/31ZYh-c2inL._SR38,50_.jpg\"/>"
      ],
      "text/plain": [
       "<IPython.core.display.Image object>"
      ]
     },
     "metadata": {},
     "output_type": "display_data"
    },
    {
     "name": "stdout",
     "output_type": "stream",
     "text": [
      "Product 216: IndusDiva Straight Cut Printed Kurta with Threadwork\n"
     ]
    },
    {
     "data": {
      "text/html": [
       "<img src=\"https://images-na.ssl-images-amazon.com/images/I/418Qzn5f9KL._SR38,50_.jpg|https://images-na.ssl-images-amazon.com/images/I/41nSegTVDVL._SR38,50_.jpg|https://images-na.ssl-images-amazon.com/images/I/41aLkKyLZAL._SR38,50_.jpg|https://images-na.ssl-images-amazon.com/images/I/51krkCoHQ4L._SR38,50_.jpg|https://images-na.ssl-images-amazon.com/images/I/51dDg%2BxSUyL._SR38,50_.jpg\"/>"
      ],
      "text/plain": [
       "<IPython.core.display.Image object>"
      ]
     },
     "metadata": {},
     "output_type": "display_data"
    },
    {
     "name": "stdout",
     "output_type": "stream",
     "text": [
      "Product 217: Malati Bastrabitan Stylish Yellow Pure Handloom Khadi Saree, comfortable & very soft with Pom Pom for Women\n"
     ]
    },
    {
     "data": {
      "text/html": [
       "<img src=\"https://images-na.ssl-images-amazon.com/images/I/41smdyJF0bL._SR38,50_.jpg|https://images-na.ssl-images-amazon.com/images/I/41a8Lem0GAL._SR38,50_.jpg|https://images-na.ssl-images-amazon.com/images/I/41vtQKpGvvL._SR38,50_.jpg|https://images-na.ssl-images-amazon.com/images/I/51AITX78iqL._SR38,50_.jpg\"/>"
      ],
      "text/plain": [
       "<IPython.core.display.Image object>"
      ]
     },
     "metadata": {},
     "output_type": "display_data"
    },
    {
     "name": "stdout",
     "output_type": "stream",
     "text": [
      "Product 218: Indistar Boys Wollen Warm High Neck Full Sleeves T-Shirt/Inner/Skivvy for Winter (Pack of 2)\n"
     ]
    },
    {
     "data": {
      "text/html": [
       "<img src=\"https://images-na.ssl-images-amazon.com/images/I/41mAx3v7VXL._SR38,50_.jpg|https://images-na.ssl-images-amazon.com/images/I/31mlFwaNRjL._SR38,50_.jpg|https://images-na.ssl-images-amazon.com/images/I/41FoOZeWJGL._SR38,50_.jpg|https://images-na.ssl-images-amazon.com/images/I/41FoKIzHGzL._SR38,50_.jpg|https://images-na.ssl-images-amazon.com/images/I/41Svf2NchgL._SR38,50_.jpg\"/>"
      ],
      "text/plain": [
       "<IPython.core.display.Image object>"
      ]
     },
     "metadata": {},
     "output_type": "display_data"
    },
    {
     "name": "stdout",
     "output_type": "stream",
     "text": [
      "Product 219: Stripe Dress for Girls : Princess Bow Skirt by PuppetBox\n"
     ]
    },
    {
     "data": {
      "text/html": [
       "<img src=\"https://images-na.ssl-images-amazon.com/images/I/51vqYwnBogL._SR38,50_.jpg|https://images-na.ssl-images-amazon.com/images/I/51ZBSD6t1UL._SR38,50_.jpg|https://images-na.ssl-images-amazon.com/images/I/41WuOggts8L._SR38,50_.jpg|https://images-na.ssl-images-amazon.com/images/I/41OrDbigTGL._SR38,50_.jpg\"/>"
      ],
      "text/plain": [
       "<IPython.core.display.Image object>"
      ]
     },
     "metadata": {},
     "output_type": "display_data"
    },
    {
     "name": "stdout",
     "output_type": "stream",
     "text": [
      "Product 220: ChamproLeather Baseball Belt\n"
     ]
    },
    {
     "data": {
      "text/html": [
       "<img src=\"https://images-na.ssl-images-amazon.com/images/I/31tFqOh-VCL._SS40_.jpg|https://images-na.ssl-images-amazon.com/images/I/31mP-eRkDlL._SS40_.jpg\"/>"
      ],
      "text/plain": [
       "<IPython.core.display.Image object>"
      ]
     },
     "metadata": {},
     "output_type": "display_data"
    },
    {
     "name": "stdout",
     "output_type": "stream",
     "text": [
      "Product 221: Sukhvilas Fashion Women's Cotton Off White Printed Straight Kurti (SV-KU-225_$P)\n"
     ]
    },
    {
     "data": {
      "text/html": [
       "<img src=\"https://images-na.ssl-images-amazon.com/images/I/31VHdouaArL._SR38,50_.jpg|https://images-na.ssl-images-amazon.com/images/I/31urpo3aeRL._SR38,50_.jpg|https://images-na.ssl-images-amazon.com/images/I/31hI4nX-suL._SR38,50_.jpg|https://images-na.ssl-images-amazon.com/images/I/41Fa9XLm01L._SR38,50_.jpg|https://images-na.ssl-images-amazon.com/images/I/41AaUpMy-fL._SR38,50_.jpg|https://images-na.ssl-images-amazon.com/images/I/41i223dTRAL._SR38,50_.jpg\"/>"
      ],
      "text/plain": [
       "<IPython.core.display.Image object>"
      ]
     },
     "metadata": {},
     "output_type": "display_data"
    },
    {
     "name": "stdout",
     "output_type": "stream",
     "text": [
      "Product 222: Lovable Women Girls Cotton Padded Non Wired Full Coverage Everyday Bra in Multicolor- L3516 - BK - CP\n"
     ]
    },
    {
     "data": {
      "text/html": [
       "<img src=\"https://images-na.ssl-images-amazon.com/images/I/41KqZMHunYL._SR38,50_.jpg|https://images-na.ssl-images-amazon.com/images/I/41btSKK2mrL._SR38,50_.jpg|https://images-na.ssl-images-amazon.com/images/I/41RgQB3Kw1L._SR38,50_.jpg|https://images-na.ssl-images-amazon.com/images/I/41rLm6OuBbL._SR38,50_.jpg\"/>"
      ],
      "text/plain": [
       "<IPython.core.display.Image object>"
      ]
     },
     "metadata": {},
     "output_type": "display_data"
    },
    {
     "name": "stdout",
     "output_type": "stream",
     "text": [
      "Product 223: Allen Solly Men's Slim fit Casual Shirt\n"
     ]
    },
    {
     "data": {
      "text/html": [
       "<img src=\"https://images-na.ssl-images-amazon.com/images/I/41mfYmD08yL._SR38,50_.jpg|https://images-na.ssl-images-amazon.com/images/I/41tBJ5NkwaL._SR38,50_.jpg|https://images-na.ssl-images-amazon.com/images/I/41ea3lFxoCL._SR38,50_.jpg|https://images-na.ssl-images-amazon.com/images/I/31cCA6RmzWL._SR38,50_.jpg|https://images-na.ssl-images-amazon.com/images/I/51%2BUrk-YASL._SR38,50_.jpg\"/>"
      ],
      "text/plain": [
       "<IPython.core.display.Image object>"
      ]
     },
     "metadata": {},
     "output_type": "display_data"
    },
    {
     "name": "stdout",
     "output_type": "stream",
     "text": [
      "Product 224: ADA Lucknow Chikan Needlecraft Regular Wear Faux Georgette Short Top A211921\n"
     ]
    },
    {
     "data": {
      "text/html": [
       "<img src=\"https://images-na.ssl-images-amazon.com/images/I/3179GmQcYKL._SR38,50_.jpg|https://images-na.ssl-images-amazon.com/images/I/31sZKXs1UlL._SR38,50_.jpg|https://images-na.ssl-images-amazon.com/images/I/31TtUewB1ML._SR38,50_.jpg|https://images-na.ssl-images-amazon.com/images/I/51brUwYbRDL._SR38,50_.jpg\"/>"
      ],
      "text/plain": [
       "<IPython.core.display.Image object>"
      ]
     },
     "metadata": {},
     "output_type": "display_data"
    },
    {
     "name": "stdout",
     "output_type": "stream",
     "text": [
      "Product 225: Adjustable Navy Adult California Republic Bear Embroidered Deluxe Dad Hat\n"
     ]
    },
    {
     "data": {
      "text/html": [
       "<img src=\"https://images-na.ssl-images-amazon.com/images/I/418wTNaTuDL._SR38,50_.jpg|https://images-na.ssl-images-amazon.com/images/I/41FGQPKAGrL._SR38,50_.jpg\"/>"
      ],
      "text/plain": [
       "<IPython.core.display.Image object>"
      ]
     },
     "metadata": {},
     "output_type": "display_data"
    },
    {
     "name": "stdout",
     "output_type": "stream",
     "text": [
      "Product 226: Arihant Men's Checkered 100% Cotton Half Sleeves Regular Fit Formal Shirt\n"
     ]
    },
    {
     "data": {
      "text/html": [
       "<img src=\"https://images-na.ssl-images-amazon.com/images/I/41yQUlak9DL._SR38,50_.jpg|https://images-na.ssl-images-amazon.com/images/I/514VFfP2VUL._SR38,50_.jpg|https://images-na.ssl-images-amazon.com/images/I/41T9Ncvc1-L._SR38,50_.jpg\"/>"
      ],
      "text/plain": [
       "<IPython.core.display.Image object>"
      ]
     },
     "metadata": {},
     "output_type": "display_data"
    },
    {
     "name": "stdout",
     "output_type": "stream",
     "text": [
      "Product 227: INDIBELLE Women's Rayon Straight Kurta\n"
     ]
    },
    {
     "data": {
      "text/html": [
       "<img src=\"https://images-na.ssl-images-amazon.com/images/I/41AK1w45ThL._SR38,50_.jpg|https://images-na.ssl-images-amazon.com/images/I/41YXotldYVL._SR38,50_.jpg|https://images-na.ssl-images-amazon.com/images/I/41-jtPtP8oL._SR38,50_.jpg|https://images-na.ssl-images-amazon.com/images/I/41aUx2dgk2L._SR38,50_.jpg\"/>"
      ],
      "text/plain": [
       "<IPython.core.display.Image object>"
      ]
     },
     "metadata": {},
     "output_type": "display_data"
    },
    {
     "name": "stdout",
     "output_type": "stream",
     "text": [
      "Product 228: Max Women's Rayon a-line Kurta\n"
     ]
    },
    {
     "data": {
      "text/html": [
       "<img src=\"https://images-na.ssl-images-amazon.com/images/I/31zeWSSUIXL._SR38,50_.jpg|https://images-na.ssl-images-amazon.com/images/I/31-Hc2mxFAL._SR38,50_.jpg|https://images-na.ssl-images-amazon.com/images/I/31%2BKiseFy2L._SR38,50_.jpg|https://images-na.ssl-images-amazon.com/images/I/51PiIHLf-JL._SR38,50_.jpg|https://images-na.ssl-images-amazon.com/images/I/31QH%2B41cUsL._SR38,50_.jpg\"/>"
      ],
      "text/plain": [
       "<IPython.core.display.Image object>"
      ]
     },
     "metadata": {},
     "output_type": "display_data"
    },
    {
     "name": "stdout",
     "output_type": "stream",
     "text": [
      "Product 229: Van Heusen Men's Printed Slim fit Formal Shirt\n"
     ]
    },
    {
     "data": {
      "text/html": [
       "<img src=\"https://images-na.ssl-images-amazon.com/images/I/41x3Gn21sGL._SR38,50_.jpg|https://images-na.ssl-images-amazon.com/images/I/31h0CDYHN6L._SR38,50_.jpg|https://images-na.ssl-images-amazon.com/images/I/31kGabmrX1L._SR38,50_.jpg|https://images-na.ssl-images-amazon.com/images/I/31jl7f7I1IL._SR38,50_.jpg\"/>"
      ],
      "text/plain": [
       "<IPython.core.display.Image object>"
      ]
     },
     "metadata": {},
     "output_type": "display_data"
    },
    {
     "name": "stdout",
     "output_type": "stream",
     "text": [
      "Product 230: SKULT by Shahid Kapoor Men's Plain Athleisure, White, Slim Fit T-Shirt with Thumbhole and Crew Neck for Workout/Casual/Semi-Formal Occasions\n"
     ]
    },
    {
     "data": {
      "text/html": [
       "<img src=\"https://images-na.ssl-images-amazon.com/images/I/31GeP47ttAL._SR38,50_.jpg|https://images-na.ssl-images-amazon.com/images/I/31rKJGNH3UL._SR38,50_.jpg|https://images-na.ssl-images-amazon.com/images/I/31xqJWF8hsL._SR38,50_.jpg|https://images-na.ssl-images-amazon.com/images/I/31gJziuv5hL._SR38,50_.jpg\"/>"
      ],
      "text/plain": [
       "<IPython.core.display.Image object>"
      ]
     },
     "metadata": {},
     "output_type": "display_data"
    },
    {
     "name": "stdout",
     "output_type": "stream",
     "text": [
      "Product 231: 3Pcs Baby Girls Headband + Top T-Shirt + Jeans Set Kids Clothes Outfits (3T Multicoloured)\n"
     ]
    },
    {
     "data": {
      "text/html": [
       "<img src=\"https://images-na.ssl-images-amazon.com/images/I/41w20PnKu2L._SR38,50_.jpg|https://images-na.ssl-images-amazon.com/images/I/61yJ7qeodNL._SR38,50_.jpg|https://images-na.ssl-images-amazon.com/images/I/51HJ66IdxvL._SR38,50_.jpg|https://images-na.ssl-images-amazon.com/images/I/41uDSQyUfLL._SR38,50_.jpg|https://images-na.ssl-images-amazon.com/images/I/51tEhTqTMbL._SR38,50_.jpg\"/>"
      ],
      "text/plain": [
       "<IPython.core.display.Image object>"
      ]
     },
     "metadata": {},
     "output_type": "display_data"
    },
    {
     "name": "stdout",
     "output_type": "stream",
     "text": [
      "Product 232: Jevi Prints Women's Cotton Printed Straight Kurta/Kurti (SH-1709)\n"
     ]
    },
    {
     "data": {
      "text/html": [
       "<img src=\"https://images-na.ssl-images-amazon.com/images/I/41qETPIjLeL._SR38,50_.jpg|https://images-na.ssl-images-amazon.com/images/I/51nTuSEhWWL._SR38,50_.jpg|https://images-na.ssl-images-amazon.com/images/I/41-q4BmVYmL._SR38,50_.jpg|https://images-na.ssl-images-amazon.com/images/I/61OlN7CguDL._SR38,50_.jpg\"/>"
      ],
      "text/plain": [
       "<IPython.core.display.Image object>"
      ]
     },
     "metadata": {},
     "output_type": "display_data"
    },
    {
     "name": "stdout",
     "output_type": "stream",
     "text": [
      "Product 233: Peter England Men'\n"
     ]
    },
    {
     "data": {
      "text/html": [
       "<img src=\"https://images-na.ssl-images-amazon.com/images/I/41PwCiCK9FL._SR38,50_.jpg|https://images-na.ssl-images-amazon.com/images/I/41sIJxAnoSL._SR38,50_.jpg|https://images-na.ssl-images-amazon.com/images/I/41xPfpfzN9L._SR38,50_.jpg|https://images-na.ssl-images-amazon.com/images/I/41y83OuGMbL._SR38,50_.jpg|https://images-na.ssl-images-amazon.com/images/I/314S7OweMfL._SR38,50_.jpg\"/>"
      ],
      "text/plain": [
       "<IPython.core.display.Image object>"
      ]
     },
     "metadata": {},
     "output_type": "display_data"
    },
    {
     "name": "stdout",
     "output_type": "stream",
     "text": [
      "Product 234: SKULT by Shahid Kapoor Men's Solid Regular Fit T-Shirt\n"
     ]
    },
    {
     "data": {
      "text/html": [
       "<img src=\"https://images-na.ssl-images-amazon.com/images/I/31HYAYPtCmL._SR38,50_.jpg|https://images-na.ssl-images-amazon.com/images/I/31IveWzb4CL._SR38,50_.jpg|https://images-na.ssl-images-amazon.com/images/I/41ndCfaEIyL._SR38,50_.jpg|https://images-na.ssl-images-amazon.com/images/I/31h-8%2BHK01L._SR38,50_.jpg\"/>"
      ],
      "text/plain": [
       "<IPython.core.display.Image object>"
      ]
     },
     "metadata": {},
     "output_type": "display_data"
    },
    {
     "name": "stdout",
     "output_type": "stream",
     "text": [
      "Product 235: TANJOtweet Women's Cambric Cotton Floral Kurti (Pink, Small)\n"
     ]
    },
    {
     "data": {
      "text/html": [
       "<img src=\"https://images-na.ssl-images-amazon.com/images/I/3140ExPaGtL._SR38,50_.jpg|https://images-na.ssl-images-amazon.com/images/I/316zKHjIciL._SR38,50_.jpg|https://images-na.ssl-images-amazon.com/images/I/31Vt25j1MkL._SR38,50_.jpg|https://images-na.ssl-images-amazon.com/images/I/31yX54BpgtL._SR38,50_.jpg\"/>"
      ],
      "text/plain": [
       "<IPython.core.display.Image object>"
      ]
     },
     "metadata": {},
     "output_type": "display_data"
    },
    {
     "name": "stdout",
     "output_type": "stream",
     "text": [
      "Product 236: PROTEENS Bodycare Mickey Printed Boys Blue Striped Night Suit\n"
     ]
    },
    {
     "data": {
      "text/html": [
       "<img src=\"https://images-na.ssl-images-amazon.com/images/I/41Yeumxy03L._SR38,50_.jpg|https://images-na.ssl-images-amazon.com/images/I/31CIurPvUBL._SR38,50_.jpg|https://images-na.ssl-images-amazon.com/images/I/31HurBnOYXL._SR38,50_.jpg|https://images-na.ssl-images-amazon.com/images/I/51YmzIJdyCL._SR38,50_.jpg|https://images-na.ssl-images-amazon.com/images/I/41pMUA%2BpaWL._SR38,50_.jpg|https://images-na.ssl-images-amazon.com/images/I/411LqnupRiL._SR38,50_.jpg|https://images-na.ssl-images-amazon.com/images/I/31f8VBBPsVL._SR38,50_.jpg|https://images-na.ssl-images-amazon.com/images/I/31Fn7R80PwL._SR38,50_.jpg|https://images-na.ssl-images-amazon.com/images/I/311ajXExAGL._SR38,50_.jpg\"/>"
      ],
      "text/plain": [
       "<IPython.core.display.Image object>"
      ]
     },
     "metadata": {},
     "output_type": "display_data"
    },
    {
     "name": "stdout",
     "output_type": "stream",
     "text": [
      "Product 237: Mickey & Friends Boys' T-Shirt\n"
     ]
    },
    {
     "data": {
      "text/html": [
       "<img src=\"https://images-na.ssl-images-amazon.com/images/I/41Gvo-IouGL._SR38,50_.jpg|https://images-na.ssl-images-amazon.com/images/I/41R1jfUWrUL._SR38,50_.jpg|https://images-na.ssl-images-amazon.com/images/I/41v2bYWliQL._SR38,50_.jpg\"/>"
      ],
      "text/plain": [
       "<IPython.core.display.Image object>"
      ]
     },
     "metadata": {},
     "output_type": "display_data"
    },
    {
     "name": "stdout",
     "output_type": "stream",
     "text": [
      "Product 238: Kids Headquarters Baby Girls Tunic Set-Capsleeves, White/Blue/Yellow, 12M\n"
     ]
    },
    {
     "data": {
      "text/html": [
       "<img src=\"https://images-na.ssl-images-amazon.com/images/I/51ECR%2BppobL._SS40_.jpg\"/>"
      ],
      "text/plain": [
       "<IPython.core.display.Image object>"
      ]
     },
     "metadata": {},
     "output_type": "display_data"
    },
    {
     "name": "stdout",
     "output_type": "stream",
     "text": [
      "Product 239: DAP3E01 Various Solid Microfiber Pre-tied Bowtie and Knit Skinny Tie Set By Dan Smith\n"
     ]
    },
    {
     "data": {
      "text/html": [
       "<img src=\"https://images-na.ssl-images-amazon.com/images/I/51GsQ2ixN7L._SR38,50_.jpg|https://images-na.ssl-images-amazon.com/images/I/6142YRUF8mL._SR38,50_.jpg|https://images-na.ssl-images-amazon.com/images/I/41cTQ20jezL._SR38,50_.jpg|https://images-na.ssl-images-amazon.com/images/I/51LdWmhOxqL._SR38,50_.jpg|https://images-na.ssl-images-amazon.com/images/I/51B7uNK01gL._SR38,50_.jpg|https://images-na.ssl-images-amazon.com/images/I/51KCSo5ed3L._SR38,50_.jpg\"/>"
      ],
      "text/plain": [
       "<IPython.core.display.Image object>"
      ]
     },
     "metadata": {},
     "output_type": "display_data"
    },
    {
     "name": "stdout",
     "output_type": "stream",
     "text": [
      "Product 240: AHALYAA Women's Crepe Straight Kurti (Magneta)\n"
     ]
    },
    {
     "data": {
      "text/html": [
       "<img src=\"https://images-na.ssl-images-amazon.com/images/I/41Cpr3LQqaL._SR38,50_.jpg|https://images-na.ssl-images-amazon.com/images/I/41omlInLqrL._SR38,50_.jpg|https://images-na.ssl-images-amazon.com/images/I/31WqbX6iqNL._SR38,50_.jpg|https://images-na.ssl-images-amazon.com/images/I/41jYjJMLWKL._SR38,50_.jpg|https://images-na.ssl-images-amazon.com/images/I/4114i8II9YL._SR38,50_.jpg|https://images-na.ssl-images-amazon.com/images/I/51oLfXQSEXL._SR38,50_.jpg|https://images-na.ssl-images-amazon.com/images/I/51KSo7wmxQL._SR38,50_.jpg\"/>"
      ],
      "text/plain": [
       "<IPython.core.display.Image object>"
      ]
     },
     "metadata": {},
     "output_type": "display_data"
    },
    {
     "name": "stdout",
     "output_type": "stream",
     "text": [
      "Product 241: W for Woman Straight Kurta\n"
     ]
    },
    {
     "data": {
      "text/html": [
       "<img src=\"https://images-na.ssl-images-amazon.com/images/I/31a9BqcO06L._SR38,50_.jpg|https://images-na.ssl-images-amazon.com/images/I/314xV9T0OTL._SR38,50_.jpg|https://images-na.ssl-images-amazon.com/images/I/31cGyZKf-OL._SR38,50_.jpg|https://images-na.ssl-images-amazon.com/images/I/41VX7y-wsjL._SR38,50_.jpg|https://images-na.ssl-images-amazon.com/images/I/41340Uv5e1L._SR38,50_.jpg|https://images-na.ssl-images-amazon.com/images/I/31lxk6IyXdL._SR38,50_.jpg\"/>"
      ],
      "text/plain": [
       "<IPython.core.display.Image object>"
      ]
     },
     "metadata": {},
     "output_type": "display_data"
    },
    {
     "name": "stdout",
     "output_type": "stream",
     "text": [
      "Product 242: Singhal Fashion Men's Sleeveless Jute Hunting Jacket\n"
     ]
    },
    {
     "data": {
      "text/html": [
       "<img src=\"https://images-na.ssl-images-amazon.com/images/I/31pw7ogfusL._SR38,50_.jpg|https://images-na.ssl-images-amazon.com/images/I/41fydxfaViL._SR38,50_.jpg|https://images-na.ssl-images-amazon.com/images/I/41Yzbl9OC0L._SR38,50_.jpg|https://images-na.ssl-images-amazon.com/images/I/31hLtWmxX2L._SR38,50_.jpg\"/>"
      ],
      "text/plain": [
       "<IPython.core.display.Image object>"
      ]
     },
     "metadata": {},
     "output_type": "display_data"
    },
    {
     "name": "stdout",
     "output_type": "stream",
     "text": [
      "Product 243: VERO MODA Women's Crop T-Shirt\n"
     ]
    },
    {
     "data": {
      "text/html": [
       "<img src=\"https://images-na.ssl-images-amazon.com/images/I/31zDJwCBuOL._SR38,50_.jpg|https://images-na.ssl-images-amazon.com/images/I/313Dl2OUoFL._SR38,50_.jpg|https://images-na.ssl-images-amazon.com/images/I/31YQbKR6UEL._SR38,50_.jpg|https://images-na.ssl-images-amazon.com/images/I/319pgPeB7GL._SR38,50_.jpg|https://images-na.ssl-images-amazon.com/images/I/312EkyzTKAL._SR38,50_.jpg|https://images-na.ssl-images-amazon.com/images/I/31CUOxWLFWL._SR38,50_.jpg|https://images-na.ssl-images-amazon.com/images/I/41uE1ENepFL._SR38,50_.jpg|https://images-na.ssl-images-amazon.com/images/I/51Df9iYDHSL._SR38,50_.jpg|https://images-na.ssl-images-amazon.com/images/I/41cRLyS4yEL._SR38,50_.jpg|https://images-na.ssl-images-amazon.com/images/I/31My8E8qeYL._SR38,50_.jpg\"/>"
      ],
      "text/plain": [
       "<IPython.core.display.Image object>"
      ]
     },
     "metadata": {},
     "output_type": "display_data"
    },
    {
     "name": "stdout",
     "output_type": "stream",
     "text": [
      "Product 244: NEFF Women's Sarah Textured and Embroidered Beanie\n"
     ]
    },
    {
     "data": {
      "text/html": [
       "<img src=\"https://images-na.ssl-images-amazon.com/images/I/51yhlMR3E-L._SR38,50_.jpg\"/>"
      ],
      "text/plain": [
       "<IPython.core.display.Image object>"
      ]
     },
     "metadata": {},
     "output_type": "display_data"
    },
    {
     "name": "stdout",
     "output_type": "stream",
     "text": [
      "Product 245: 9teenAGAIN Women's Cotton Checkered Nighty (Brown)\n"
     ]
    },
    {
     "data": {
      "text/html": [
       "<img src=\"https://images-na.ssl-images-amazon.com/images/I/41jFrB-YuAL._SR38,50_.jpg|https://images-na.ssl-images-amazon.com/images/I/416sBOmpv5L._SR38,50_.jpg|https://images-na.ssl-images-amazon.com/images/I/412GcNvTF5L._SR38,50_.jpg|https://images-na.ssl-images-amazon.com/images/I/41XyGNb1EhL._SR38,50_.jpg\"/>"
      ],
      "text/plain": [
       "<IPython.core.display.Image object>"
      ]
     },
     "metadata": {},
     "output_type": "display_data"
    },
    {
     "name": "stdout",
     "output_type": "stream",
     "text": [
      "Product 246: Excalibur by Unlimited Men's Solid Regular Fit Formal Shirt (Pack of 2)(Colors & Print May Vary)\n"
     ]
    },
    {
     "data": {
      "text/html": [
       "<img src=\"https://images-na.ssl-images-amazon.com/images/I/41s37I%2BLWzL._SR38,50_.jpg|https://images-na.ssl-images-amazon.com/images/I/41lTapp2H7L._SR38,50_.jpg|https://images-na.ssl-images-amazon.com/images/I/41I8wRbaBSL._SR38,50_.jpg|https://images-na.ssl-images-amazon.com/images/I/61iDzsMyQrL._SR38,50_.jpg|https://images-na.ssl-images-amazon.com/images/I/414cn6jsn7L._SR38,50_.jpg|https://images-na.ssl-images-amazon.com/images/I/31VEvxYpwzL._SR38,50_.jpg|https://images-na.ssl-images-amazon.com/images/I/51%2Bbs%2B6-IBL._SR38,50_.jpg\"/>"
      ],
      "text/plain": [
       "<IPython.core.display.Image object>"
      ]
     },
     "metadata": {},
     "output_type": "display_data"
    },
    {
     "name": "stdout",
     "output_type": "stream",
     "text": [
      "Product 247: W for Woman Straight Kurta\n"
     ]
    },
    {
     "data": {
      "text/html": [
       "<img src=\"https://images-na.ssl-images-amazon.com/images/I/41JZsQDa7bL._SR38,50_.jpg|https://images-na.ssl-images-amazon.com/images/I/31vf8a%2B3ePL._SR38,50_.jpg|https://images-na.ssl-images-amazon.com/images/I/41cb95uNQiL._SR38,50_.jpg|https://images-na.ssl-images-amazon.com/images/I/51K%2BW8ZbhvL._SR38,50_.jpg|https://images-na.ssl-images-amazon.com/images/I/416hZty2LcL._SR38,50_.jpg\"/>"
      ],
      "text/plain": [
       "<IPython.core.display.Image object>"
      ]
     },
     "metadata": {},
     "output_type": "display_data"
    },
    {
     "name": "stdout",
     "output_type": "stream",
     "text": [
      "Product 248: Puma Men's Regular fit T-Shirt\n"
     ]
    },
    {
     "data": {
      "text/html": [
       "<img src=\"https://images-na.ssl-images-amazon.com/images/I/4181UDIFEBL._SR38,50_.jpg|https://images-na.ssl-images-amazon.com/images/I/413rcr1Sw1L._SR38,50_.jpg|https://images-na.ssl-images-amazon.com/images/I/41iY3maLwkL._SR38,50_.jpg|https://images-na.ssl-images-amazon.com/images/I/41D4VnKP%2BpL._SR38,50_.jpg|https://images-na.ssl-images-amazon.com/images/I/31WXjNUFjUL._SR38,50_.jpg|https://images-na.ssl-images-amazon.com/images/I/61ZJk294qTL._SR38,50_.jpg\"/>"
      ],
      "text/plain": [
       "<IPython.core.display.Image object>"
      ]
     },
     "metadata": {},
     "output_type": "display_data"
    },
    {
     "name": "stdout",
     "output_type": "stream",
     "text": [
      "Product 249: Lee Men's Modern Series Relaxed Fit Bootcut Jean\n"
     ]
    },
    {
     "data": {
      "text/html": [
       "<img src=\"https://images-na.ssl-images-amazon.com/images/I/41OwqIVlGrL._SR38,50_.jpg|https://images-na.ssl-images-amazon.com/images/I/41KeKIK2x9L._SR38,50_.jpg\"/>"
      ],
      "text/plain": [
       "<IPython.core.display.Image object>"
      ]
     },
     "metadata": {},
     "output_type": "display_data"
    },
    {
     "name": "stdout",
     "output_type": "stream",
     "text": [
      "Product 250: What The Duck? Black Printed T-Shirt\n"
     ]
    },
    {
     "data": {
      "text/html": [
       "<img src=\"https://images-na.ssl-images-amazon.com/images/I/41XtN2aOSsL._SR38,50_.jpg|https://images-na.ssl-images-amazon.com/images/I/31xPdopK4DL._SR38,50_.jpg|https://images-na.ssl-images-amazon.com/images/I/31R4ZHFTFjL._SR38,50_.jpg\"/>"
      ],
      "text/plain": [
       "<IPython.core.display.Image object>"
      ]
     },
     "metadata": {},
     "output_type": "display_data"
    },
    {
     "name": "stdout",
     "output_type": "stream",
     "text": [
      "Product 251: Mohrupi Women's Cotton Flex ikkat Floral Printed Kurta\n"
     ]
    },
    {
     "data": {
      "text/html": [
       "<img src=\"https://images-na.ssl-images-amazon.com/images/I/31KWHy0GA5L._SR38,50_.jpg|https://images-na.ssl-images-amazon.com/images/I/31JIMp2%2BdnL._SR38,50_.jpg|https://images-na.ssl-images-amazon.com/images/I/31fdANk-bsL._SR38,50_.jpg|https://images-na.ssl-images-amazon.com/images/I/31DTprPEivL._SR38,50_.jpg|https://images-na.ssl-images-amazon.com/images/I/4151VpWWaNL._SR38,50_.jpg\"/>"
      ],
      "text/plain": [
       "<IPython.core.display.Image object>"
      ]
     },
     "metadata": {},
     "output_type": "display_data"
    },
    {
     "name": "stdout",
     "output_type": "stream",
     "text": [
      "Product 252: Royal Export Women's Net Floor length Readymade Gown\n"
     ]
    },
    {
     "data": {
      "text/html": [
       "<img src=\"https://images-na.ssl-images-amazon.com/images/I/41Unbxea4WL._SR38,50_.jpg|https://images-na.ssl-images-amazon.com/images/I/41G3tbWzR8L._SR38,50_.jpg|https://images-na.ssl-images-amazon.com/images/I/41j-uK6pmML._SR38,50_.jpg|https://images-na.ssl-images-amazon.com/images/I/515VHrtLteL._SR38,50_.jpg|https://images-na.ssl-images-amazon.com/images/I/515asUM8yuL._SR38,50_.jpg|https://images-na.ssl-images-amazon.com/images/I/41fkLWZyq5L._SR38,50_.jpg\"/>"
      ],
      "text/plain": [
       "<IPython.core.display.Image object>"
      ]
     },
     "metadata": {},
     "output_type": "display_data"
    },
    {
     "name": "stdout",
     "output_type": "stream",
     "text": [
      "Product 253: TEXCO Winter Cotton Polyster Fleece Hooded Jacket\n"
     ]
    },
    {
     "data": {
      "text/html": [
       "<img src=\"https://images-na.ssl-images-amazon.com/images/I/41RrAGt5WVL._SR38,50_.jpg|https://images-na.ssl-images-amazon.com/images/I/4142eWQc8iL._SR38,50_.jpg|https://images-na.ssl-images-amazon.com/images/I/41ppXMllHFL._SR38,50_.jpg|https://images-na.ssl-images-amazon.com/images/I/316MbhJ6SZL._SR38,50_.jpg\"/>"
      ],
      "text/plain": [
       "<IPython.core.display.Image object>"
      ]
     },
     "metadata": {},
     "output_type": "display_data"
    },
    {
     "name": "stdout",
     "output_type": "stream",
     "text": [
      "Product 254: Parx Grey Slim Fit Cotton Blend Casual Shirt\n"
     ]
    },
    {
     "data": {
      "text/html": [
       "<img src=\"https://images-na.ssl-images-amazon.com/images/I/41rMcIrEkLL._SR38,50_.jpg|https://images-na.ssl-images-amazon.com/images/I/41Y5wncfeTL._SR38,50_.jpg|https://images-na.ssl-images-amazon.com/images/I/41ELKtk-kHL._SR38,50_.jpg|https://images-na.ssl-images-amazon.com/images/I/41Mu8kCkvpL._SR38,50_.jpg\"/>"
      ],
      "text/plain": [
       "<IPython.core.display.Image object>"
      ]
     },
     "metadata": {},
     "output_type": "display_data"
    },
    {
     "name": "stdout",
     "output_type": "stream",
     "text": [
      "Product 255: United Colors of Benetton Baby Girls' Regular Fit Clothing Set\n"
     ]
    },
    {
     "data": {
      "text/html": [
       "<img src=\"https://images-na.ssl-images-amazon.com/images/I/41%2BcGLqrKbL._SR38,50_.jpg|https://images-na.ssl-images-amazon.com/images/I/41Qc84rQVaL._SR38,50_.jpg|https://images-na.ssl-images-amazon.com/images/I/41gW8oYeVQL._SR38,50_.jpg\"/>"
      ],
      "text/plain": [
       "<IPython.core.display.Image object>"
      ]
     },
     "metadata": {},
     "output_type": "display_data"
    },
    {
     "name": "stdout",
     "output_type": "stream",
     "text": [
      "Product 256: Indian Virasat Peach Colored Cotton Printed Tunic\n"
     ]
    },
    {
     "data": {
      "text/html": [
       "<img src=\"https://images-na.ssl-images-amazon.com/images/I/41smZwsQdHL._SR38,50_.jpg|https://images-na.ssl-images-amazon.com/images/I/31R1usXuIgL._SR38,50_.jpg|https://images-na.ssl-images-amazon.com/images/I/41fbjoNuL3L._SR38,50_.jpg|https://images-na.ssl-images-amazon.com/images/I/41s8c-t80QL._SR38,50_.jpg|https://images-na.ssl-images-amazon.com/images/I/41aTi-h8oML._SR38,50_.jpg|https://images-na.ssl-images-amazon.com/images/I/51FlLC-eY3L._SR38,50_.jpg\"/>"
      ],
      "text/plain": [
       "<IPython.core.display.Image object>"
      ]
     },
     "metadata": {},
     "output_type": "display_data"
    },
    {
     "name": "stdout",
     "output_type": "stream",
     "text": [
      "Product 257: Alfa Quilted Off White/Grey Winter wear Cotton Thermal Set (Top + Pyjama) for Men + 1 Pair Socks Free\n"
     ]
    },
    {
     "data": {
      "text/html": [
       "<img src=\"https://images-na.ssl-images-amazon.com/images/I/21N%2BYjxjfuL._SR38,50_.jpg|https://images-na.ssl-images-amazon.com/images/I/21idb3n3pHL._SR38,50_.jpg|https://images-na.ssl-images-amazon.com/images/I/31OIIckbnPL._SR38,50_.jpg|https://images-na.ssl-images-amazon.com/images/I/21YhkjVcY2L._SR38,50_.jpg\"/>"
      ],
      "text/plain": [
       "<IPython.core.display.Image object>"
      ]
     },
     "metadata": {},
     "output_type": "display_data"
    },
    {
     "name": "stdout",
     "output_type": "stream",
     "text": [
      "Product 258: Van Heusen Woman Women Pullover\n"
     ]
    },
    {
     "data": {
      "text/html": [
       "<img src=\"https://images-na.ssl-images-amazon.com/images/I/41s4ninqf0L._SR38,50_.jpg|https://images-na.ssl-images-amazon.com/images/I/41U56tKKJcL._SR38,50_.jpg|https://images-na.ssl-images-amazon.com/images/I/41tfyVXhVIL._SR38,50_.jpg|https://images-na.ssl-images-amazon.com/images/I/41KQksYFgGL._SR38,50_.jpg|https://images-na.ssl-images-amazon.com/images/I/319r7DHX6rL._SR38,50_.jpg\"/>"
      ],
      "text/plain": [
       "<IPython.core.display.Image object>"
      ]
     },
     "metadata": {},
     "output_type": "display_data"
    },
    {
     "name": "stdout",
     "output_type": "stream",
     "text": [
      "Product 259: Weavers Villa Women's Shawl\n"
     ]
    },
    {
     "data": {
      "text/html": [
       "<img src=\"https://images-na.ssl-images-amazon.com/images/I/41NO7IEYJaL._SR38,50_.jpg|https://images-na.ssl-images-amazon.com/images/I/514IOiGai2L._SR38,50_.jpg|https://images-na.ssl-images-amazon.com/images/I/61E%2BmNZX72L._SR38,50_.jpg\"/>"
      ],
      "text/plain": [
       "<IPython.core.display.Image object>"
      ]
     },
     "metadata": {},
     "output_type": "display_data"
    },
    {
     "name": "stdout",
     "output_type": "stream",
     "text": [
      "Product 260: Janasya Women's Rayon Printed Straight Kurta\n"
     ]
    },
    {
     "data": {
      "text/html": [
       "<img src=\"https://images-na.ssl-images-amazon.com/images/I/31FYT-LJDpL._SR38,50_.jpg|https://images-na.ssl-images-amazon.com/images/I/31MihArfOWL._SR38,50_.jpg|https://images-na.ssl-images-amazon.com/images/I/31%2Bp3cUuXtL._SR38,50_.jpg|https://images-na.ssl-images-amazon.com/images/I/31OyQ6bx0DL._SR38,50_.jpg|https://images-na.ssl-images-amazon.com/images/I/31dodpBESdL._SR38,50_.jpg|https://images-na.ssl-images-amazon.com/images/I/51kCbYnjP2L._SR38,50_.jpg|https://images-na.ssl-images-amazon.com/images/I/41ExThCUKBL._SR38,50_.jpg\"/>"
      ],
      "text/plain": [
       "<IPython.core.display.Image object>"
      ]
     },
     "metadata": {},
     "output_type": "display_data"
    },
    {
     "name": "stdout",
     "output_type": "stream",
     "text": [
      "Product 261: Mothercare Baby Boys' Knitwear\n"
     ]
    },
    {
     "data": {
      "text/html": [
       "<img src=\"https://images-na.ssl-images-amazon.com/images/I/51J2zX6VQzL._SR38,50_.jpg|https://images-na.ssl-images-amazon.com/images/I/51KefQaWWmL._SR38,50_.jpg|https://images-na.ssl-images-amazon.com/images/I/61NtIDpB2hL._SR38,50_.jpg\"/>"
      ],
      "text/plain": [
       "<IPython.core.display.Image object>"
      ]
     },
     "metadata": {},
     "output_type": "display_data"
    },
    {
     "name": "stdout",
     "output_type": "stream",
     "text": [
      "Product 262: United Colors of Benetton Baby Girl's Regular fit Trousers\n"
     ]
    },
    {
     "data": {
      "text/html": [
       "<img src=\"https://images-na.ssl-images-amazon.com/images/I/518UIVRSi2L._SR38,50_.jpg|https://images-na.ssl-images-amazon.com/images/I/51RJLW2s-OL._SR38,50_.jpg|https://images-na.ssl-images-amazon.com/images/I/51tsw-8eliL._SR38,50_.jpg\"/>"
      ],
      "text/plain": [
       "<IPython.core.display.Image object>"
      ]
     },
     "metadata": {},
     "output_type": "display_data"
    },
    {
     "name": "stdout",
     "output_type": "stream",
     "text": [
      "Product 263: Oneliner Men's Cotton Full Sleeve T-Shirts-(OLMT20-$P)\n"
     ]
    },
    {
     "data": {
      "text/html": [
       "<img src=\"https://images-na.ssl-images-amazon.com/images/I/41gZu762HjL._SR38,50_.jpg|https://images-na.ssl-images-amazon.com/images/I/41m8cwieflL._SR38,50_.jpg|https://images-na.ssl-images-amazon.com/images/I/31xclCp2dTL._SR38,50_.jpg|https://images-na.ssl-images-amazon.com/images/I/41b0QNrQa-L._SR38,50_.jpg\"/>"
      ],
      "text/plain": [
       "<IPython.core.display.Image object>"
      ]
     },
     "metadata": {},
     "output_type": "display_data"
    },
    {
     "name": "stdout",
     "output_type": "stream",
     "text": [
      "Product 264: Khadi Vastra Men Solid Full Sleeve Cotton Formal Spread Shirt - Pack of 2\n"
     ]
    },
    {
     "data": {
      "text/html": [
       "<img src=\"https://images-na.ssl-images-amazon.com/images/I/418ne59nLIL._SR38,50_.jpg|https://images-na.ssl-images-amazon.com/images/I/41JyQ2iICuL._SR38,50_.jpg|https://images-na.ssl-images-amazon.com/images/I/41TmB3ehmeL._SR38,50_.jpg\"/>"
      ],
      "text/plain": [
       "<IPython.core.display.Image object>"
      ]
     },
     "metadata": {},
     "output_type": "display_data"
    },
    {
     "name": "stdout",
     "output_type": "stream",
     "text": [
      "Product 265: Dixcy Scott UNO Men's Cotton Vest (Assorted, Medium/80-85 Cm) - Pack of 2\n"
     ]
    },
    {
     "data": {
      "text/html": [
       "<img src=\"https://images-na.ssl-images-amazon.com/images/I/41HOt1DCRTL._SR38,50_.jpg\"/>"
      ],
      "text/plain": [
       "<IPython.core.display.Image object>"
      ]
     },
     "metadata": {},
     "output_type": "display_data"
    },
    {
     "name": "stdout",
     "output_type": "stream",
     "text": [
      "Product 266: BYC Men's Solid Curved Hem Round Neck Full Sleeve Tshirt/Tshirt for Mens/Round Neck Tshirt/Sports Trim Tshirt/Hip Hop Tshirt\n"
     ]
    },
    {
     "data": {
      "text/html": [
       "<img src=\"https://images-na.ssl-images-amazon.com/images/I/41o0J2m3ScL._SR38,50_.jpg|https://images-na.ssl-images-amazon.com/images/I/414e6GW-hAL._SR38,50_.jpg\"/>"
      ],
      "text/plain": [
       "<IPython.core.display.Image object>"
      ]
     },
     "metadata": {},
     "output_type": "display_data"
    },
    {
     "name": "stdout",
     "output_type": "stream",
     "text": [
      "Product 267: Kalt Men's Full Sleeves Cotton Blend Mandarin Collar T-Shirt (TM0644 Teal)\n"
     ]
    },
    {
     "data": {
      "text/html": [
       "<img src=\"https://images-na.ssl-images-amazon.com/images/I/316au6mKCwL._SR38,50_.jpg|https://images-na.ssl-images-amazon.com/images/I/31OmB%2Bqdv1L._SR38,50_.jpg|https://images-na.ssl-images-amazon.com/images/I/310DgkqqC4L._SR38,50_.jpg|https://images-na.ssl-images-amazon.com/images/I/31mZMttrZ5L._SR38,50_.jpg\"/>"
      ],
      "text/plain": [
       "<IPython.core.display.Image object>"
      ]
     },
     "metadata": {},
     "output_type": "display_data"
    },
    {
     "name": "stdout",
     "output_type": "stream",
     "text": [
      "Product 268: Arrow New York Men's Formal Shirt\n"
     ]
    },
    {
     "data": {
      "text/html": [
       "<img src=\"https://images-na.ssl-images-amazon.com/images/I/51kjqQvISML._SR38,50_.jpg|https://images-na.ssl-images-amazon.com/images/I/51cTLviT5AL._SR38,50_.jpg\"/>"
      ],
      "text/plain": [
       "<IPython.core.display.Image object>"
      ]
     },
     "metadata": {},
     "output_type": "display_data"
    },
    {
     "name": "stdout",
     "output_type": "stream",
     "text": [
      "Product 269: Stylee Lifestyle Green Cotton Printed Dress Material\n"
     ]
    },
    {
     "data": {
      "text/html": [
       "<img src=\"https://images-na.ssl-images-amazon.com/images/I/41EtPYC4j5L._SR38,50_.jpg|https://images-na.ssl-images-amazon.com/images/I/41cDnYHR9TL._SR38,50_.jpg|https://images-na.ssl-images-amazon.com/images/I/41aMkQcn2uL._SR38,50_.jpg\"/>"
      ],
      "text/plain": [
       "<IPython.core.display.Image object>"
      ]
     },
     "metadata": {},
     "output_type": "display_data"
    },
    {
     "name": "stdout",
     "output_type": "stream",
     "text": [
      "Product 270: Superman By Kidsville Boy's Plain Regular fit T-Shirt\n"
     ]
    },
    {
     "data": {
      "text/html": [
       "<img src=\"https://images-na.ssl-images-amazon.com/images/I/51k--dH2ukL._SR38,50_.jpg|https://images-na.ssl-images-amazon.com/images/I/41%2BkYMwwhpL._SR38,50_.jpg|https://images-na.ssl-images-amazon.com/images/I/51MYC4dMOnL._SR38,50_.jpg\"/>"
      ],
      "text/plain": [
       "<IPython.core.display.Image object>"
      ]
     },
     "metadata": {},
     "output_type": "display_data"
    },
    {
     "name": "stdout",
     "output_type": "stream",
     "text": [
      "Product 271: RAJMANDIRFABRICS Women's Cotton A-Line Kurti\n"
     ]
    },
    {
     "data": {
      "text/html": [
       "<img src=\"https://images-na.ssl-images-amazon.com/images/I/41uhs8jignL._SR38,50_.jpg|https://images-na.ssl-images-amazon.com/images/I/41B2uLtaoFL._SR38,50_.jpg|https://images-na.ssl-images-amazon.com/images/I/41X3HBIKwdL._SR38,50_.jpg|https://images-na.ssl-images-amazon.com/images/I/41Xzxv9hjTL._SR38,50_.jpg|https://images-na.ssl-images-amazon.com/images/I/51Y-KZjrOuL._SR38,50_.jpg\"/>"
      ],
      "text/plain": [
       "<IPython.core.display.Image object>"
      ]
     },
     "metadata": {},
     "output_type": "display_data"
    },
    {
     "name": "stdout",
     "output_type": "stream",
     "text": [
      "Product 272: Indiweaves Women's Velvet Churidar Embossed Leggings_Green_Free Size_71542\n"
     ]
    },
    {
     "data": {
      "text/html": [
       "<img src=\"https://images-na.ssl-images-amazon.com/images/I/41UQB-F1FxL._SR38,50_.jpg|https://images-na.ssl-images-amazon.com/images/I/51N-%2B9zk%2B6L._SR38,50_.jpg|https://images-na.ssl-images-amazon.com/images/I/41K2BEQPP8L._SR38,50_.jpg\"/>"
      ],
      "text/plain": [
       "<IPython.core.display.Image object>"
      ]
     },
     "metadata": {},
     "output_type": "display_data"
    },
    {
     "name": "stdout",
     "output_type": "stream",
     "text": [
      "Product 273: Nihaan Impex Cotton Straight Kurti for Women and Girls Red\n"
     ]
    },
    {
     "data": {
      "text/html": [
       "<img src=\"https://images-na.ssl-images-amazon.com/images/I/313FFQB20qL._SR38,50_.jpg\"/>"
      ],
      "text/plain": [
       "<IPython.core.display.Image object>"
      ]
     },
     "metadata": {},
     "output_type": "display_data"
    },
    {
     "name": "stdout",
     "output_type": "stream",
     "text": [
      "Product 274: Gubbarey Boys Kurta Pyjama\n"
     ]
    },
    {
     "data": {
      "text/html": [
       "<img src=\"https://images-na.ssl-images-amazon.com/images/I/41JDRAnvWzL._SR38,50_.jpg|https://images-na.ssl-images-amazon.com/images/I/31T-uKr2XEL._SR38,50_.jpg|https://images-na.ssl-images-amazon.com/images/I/51BI%2BjQBvEL._SR38,50_.jpg\"/>"
      ],
      "text/plain": [
       "<IPython.core.display.Image object>"
      ]
     },
     "metadata": {},
     "output_type": "display_data"
    },
    {
     "name": "stdout",
     "output_type": "stream",
     "text": [
      "Product 275: Zeeya Fashion Women's Chanderi Straight Unstitched Salwar Kameez (ZF-40001, Sky Blue, Free Size)\n"
     ]
    },
    {
     "data": {
      "text/html": [
       "<img src=\"https://images-na.ssl-images-amazon.com/images/I/51E%2BqxhlqKL._SR38,50_.jpg|https://images-na.ssl-images-amazon.com/images/I/51K7mbeTFqL._SR38,50_.jpg\"/>"
      ],
      "text/plain": [
       "<IPython.core.display.Image object>"
      ]
     },
     "metadata": {},
     "output_type": "display_data"
    },
    {
     "name": "stdout",
     "output_type": "stream",
     "text": [
      "Product 276: Art Décor Cotton Silk Broad Bordered Pack of 2 Sarees- Combo of 2 (DP Green & Pink Blue)\n"
     ]
    },
    {
     "data": {
      "text/html": [
       "<img src=\"https://images-na.ssl-images-amazon.com/images/I/51YesDyVTGL._SR38,50_.jpg|https://images-na.ssl-images-amazon.com/images/I/41pEYDxDIAL._SR38,50_.jpg|https://images-na.ssl-images-amazon.com/images/I/413y-iTLPTL._SR38,50_.jpg|https://images-na.ssl-images-amazon.com/images/I/41-cjIJ%2BSUL._SR38,50_.jpg|https://images-na.ssl-images-amazon.com/images/I/41lskZCv1RL._SR38,50_.jpg\"/>"
      ],
      "text/plain": [
       "<IPython.core.display.Image object>"
      ]
     },
     "metadata": {},
     "output_type": "display_data"
    },
    {
     "name": "stdout",
     "output_type": "stream",
     "text": [
      "Product 277: Max Women's Regular Fit Shirt\n"
     ]
    },
    {
     "data": {
      "text/html": [
       "<img src=\"https://images-na.ssl-images-amazon.com/images/I/41zKarFf8KL._SR38,50_.jpg|https://images-na.ssl-images-amazon.com/images/I/41RzgeS-tnL._SR38,50_.jpg|https://images-na.ssl-images-amazon.com/images/I/41nypuq0WUL._SR38,50_.jpg|https://images-na.ssl-images-amazon.com/images/I/51PVboR%2Bd5L._SR38,50_.jpg|https://images-na.ssl-images-amazon.com/images/I/51yF0Mw47mL._SR38,50_.jpg|https://images-na.ssl-images-amazon.com/images/I/414l9f0V1EL._SR38,50_.jpg\"/>"
      ],
      "text/plain": [
       "<IPython.core.display.Image object>"
      ]
     },
     "metadata": {},
     "output_type": "display_data"
    },
    {
     "name": "stdout",
     "output_type": "stream",
     "text": [
      "Product 278: Karigari Women's Rayon A-Line Kurta\n"
     ]
    },
    {
     "data": {
      "text/html": [
       "<img src=\"https://images-na.ssl-images-amazon.com/images/I/41LWilKo7rL._SR38,50_.jpg|https://images-na.ssl-images-amazon.com/images/I/31BnpsgSZRL._SR38,50_.jpg|https://images-na.ssl-images-amazon.com/images/I/41tjb1pt47L._SR38,50_.jpg|https://images-na.ssl-images-amazon.com/images/I/41PIW7sRddL._SR38,50_.jpg|https://images-na.ssl-images-amazon.com/images/I/41bE5k6mrEL._SR38,50_.jpg\"/>"
      ],
      "text/plain": [
       "<IPython.core.display.Image object>"
      ]
     },
     "metadata": {},
     "output_type": "display_data"
    },
    {
     "name": "stdout",
     "output_type": "stream",
     "text": [
      "Product 279: Amazon Brand - Symbol Women's T-Shirt\n"
     ]
    },
    {
     "data": {
      "text/html": [
       "<img src=\"https://images-na.ssl-images-amazon.com/images/I/41nHykEIusL._SR38,50_.jpg|https://images-na.ssl-images-amazon.com/images/I/41kNi03aRTL._SR38,50_.jpg|https://images-na.ssl-images-amazon.com/images/I/413MF02WgTL._SR38,50_.jpg|https://images-na.ssl-images-amazon.com/images/I/51Y4JrIOk1L._SR38,50_.jpg|https://images-na.ssl-images-amazon.com/images/I/51JpcqrqYXL._SR38,50_.jpg|https://images-na.ssl-images-amazon.com/images/I/31fXy3CMd3L._SR38,50_.jpg\"/>"
      ],
      "text/plain": [
       "<IPython.core.display.Image object>"
      ]
     },
     "metadata": {},
     "output_type": "display_data"
    },
    {
     "name": "stdout",
     "output_type": "stream",
     "text": [
      "Product 280: hhichkki Cold Shoulder Solid Women Green top\n"
     ]
    },
    {
     "data": {
      "text/html": [
       "<img src=\"https://images-na.ssl-images-amazon.com/images/I/31G35GprbgL._SR38,50_.jpg|https://images-na.ssl-images-amazon.com/images/I/41L9pD6q3OL._SR38,50_.jpg|https://images-na.ssl-images-amazon.com/images/I/41t1RiJZ%2BmL._SR38,50_.jpg|https://images-na.ssl-images-amazon.com/images/I/41AzrklecxL._SR38,50_.jpg|https://images-na.ssl-images-amazon.com/images/I/41WtqMlUCqL._SR38,50_.jpg\"/>"
      ],
      "text/plain": [
       "<IPython.core.display.Image object>"
      ]
     },
     "metadata": {},
     "output_type": "display_data"
    },
    {
     "name": "stdout",
     "output_type": "stream",
     "text": [
      "Product 281: Flying Machine Men's Plain Slim Fit T-Shirt\n"
     ]
    },
    {
     "data": {
      "text/html": [
       "<img src=\"https://images-na.ssl-images-amazon.com/images/I/41MU0bDqGML._SR38,50_.jpg|https://images-na.ssl-images-amazon.com/images/I/4114NG7nXGL._SR38,50_.jpg|https://images-na.ssl-images-amazon.com/images/I/51GoXElpdkL._SR38,50_.jpg|https://images-na.ssl-images-amazon.com/images/I/61QDPEZ0dwL._SR38,50_.jpg|https://images-na.ssl-images-amazon.com/images/I/41R25myeL6L._SR38,50_.jpg\"/>"
      ],
      "text/plain": [
       "<IPython.core.display.Image object>"
      ]
     },
     "metadata": {},
     "output_type": "display_data"
    },
    {
     "name": "stdout",
     "output_type": "stream",
     "text": [
      "Product 282: Arihant Checkered 100% Cotton Half Sleeve Regular Fit Formal Shirt for Men\n"
     ]
    },
    {
     "data": {
      "text/html": [
       "<img src=\"https://images-na.ssl-images-amazon.com/images/I/31fubBf7cXL._SR38,50_.jpg|https://images-na.ssl-images-amazon.com/images/I/31twOqPUjIL._SR38,50_.jpg|https://images-na.ssl-images-amazon.com/images/I/41T9Ncvc1-L._SR38,50_.jpg\"/>"
      ],
      "text/plain": [
       "<IPython.core.display.Image object>"
      ]
     },
     "metadata": {},
     "output_type": "display_data"
    },
    {
     "name": "stdout",
     "output_type": "stream",
     "text": [
      "Product 283: One Size White Adult Avocado Embroidered Bucket Cap Dad Hat\n"
     ]
    },
    {
     "data": {
      "text/html": [
       "<img src=\"https://images-na.ssl-images-amazon.com/images/I/310i3x7WzHL._SR38,50_.jpg\"/>"
      ],
      "text/plain": [
       "<IPython.core.display.Image object>"
      ]
     },
     "metadata": {},
     "output_type": "display_data"
    },
    {
     "name": "stdout",
     "output_type": "stream",
     "text": [
      "Product 284: Safana Cotton a-line Dress\n"
     ]
    },
    {
     "data": {
      "text/html": [
       "<img src=\"https://images-na.ssl-images-amazon.com/images/I/31ElRsQDLJL._SR38,50_.jpg|https://images-na.ssl-images-amazon.com/images/I/31b93%2B4UZxL._SR38,50_.jpg|https://images-na.ssl-images-amazon.com/images/I/31CZVkqQogL._SR38,50_.jpg|https://images-na.ssl-images-amazon.com/images/I/41XE31ahbML._SR38,50_.jpg|https://images-na.ssl-images-amazon.com/images/I/3147QOBNntL._SR38,50_.jpg\"/>"
      ],
      "text/plain": [
       "<IPython.core.display.Image object>"
      ]
     },
     "metadata": {},
     "output_type": "display_data"
    },
    {
     "name": "stdout",
     "output_type": "stream",
     "text": [
      "Product 285: PINKY PARI SCREEN PRINTED RAYON BLUE STRAIGHT FESTIVE KURTA WITH PRINTED RAYON PALAZZO\n"
     ]
    },
    {
     "data": {
      "text/html": [
       "<img src=\"https://images-na.ssl-images-amazon.com/images/I/416kPDJDd7L._SR38,50_.jpg|https://images-na.ssl-images-amazon.com/images/I/31pwUy8WwgL._SR38,50_.jpg|https://images-na.ssl-images-amazon.com/images/I/41seGn-R1LL._SR38,50_.jpg|https://images-na.ssl-images-amazon.com/images/I/41Bme5UgrfL._SR38,50_.jpg|https://images-na.ssl-images-amazon.com/images/I/51lzsdi9uYL._SR38,50_.jpg|https://images-na.ssl-images-amazon.com/images/I/41ZiLy7tq1L._SR38,50_.jpg\"/>"
      ],
      "text/plain": [
       "<IPython.core.display.Image object>"
      ]
     },
     "metadata": {},
     "output_type": "display_data"
    },
    {
     "name": "stdout",
     "output_type": "stream",
     "text": [
      "Product 286: blackberrys Men's Solid Slim Fit Casual Shirt\n"
     ]
    },
    {
     "data": {
      "text/html": [
       "<img src=\"https://images-na.ssl-images-amazon.com/images/I/41zqqOb%2BWyL._SR38,50_.jpg|https://images-na.ssl-images-amazon.com/images/I/41L2-SIlxJL._SR38,50_.jpg|https://images-na.ssl-images-amazon.com/images/I/41MOWsfkCEL._SR38,50_.jpg|https://images-na.ssl-images-amazon.com/images/I/31aEPtonyPL._SR38,50_.jpg\"/>"
      ],
      "text/plain": [
       "<IPython.core.display.Image object>"
      ]
     },
     "metadata": {},
     "output_type": "display_data"
    },
    {
     "name": "stdout",
     "output_type": "stream",
     "text": [
      "Product 287: KRONOS Men's | Round Neck T-Shirt | 100% Polyester | Quick-Dry | Sports T-Shirt\n"
     ]
    },
    {
     "data": {
      "text/html": [
       "<img src=\"https://images-na.ssl-images-amazon.com/images/I/41b%2BJOwPx0L._SR38,50_.jpg|https://images-na.ssl-images-amazon.com/images/I/414UC3NkJNL._SR38,50_.jpg|https://images-na.ssl-images-amazon.com/images/I/31w0MzACGUL._SR38,50_.jpg|https://images-na.ssl-images-amazon.com/images/I/31LLaa6J2WL._SR38,50_.jpg\"/>"
      ],
      "text/plain": [
       "<IPython.core.display.Image object>"
      ]
     },
     "metadata": {},
     "output_type": "display_data"
    },
    {
     "name": "stdout",
     "output_type": "stream",
     "text": [
      "Product 288: Yash Gallery Women's Cotton Angrakha Kurta\n"
     ]
    },
    {
     "data": {
      "text/html": [
       "<img src=\"https://images-na.ssl-images-amazon.com/images/I/312lUCRYlkL._SR38,50_.jpg|https://images-na.ssl-images-amazon.com/images/I/31ZaQ3sGZoL._SR38,50_.jpg|https://images-na.ssl-images-amazon.com/images/I/311YAcJkF-L._SR38,50_.jpg|https://images-na.ssl-images-amazon.com/images/I/31bEh0nonUL._SR38,50_.jpg|https://images-na.ssl-images-amazon.com/images/I/51p0GYARCdL._SR38,50_.jpg|https://images-na.ssl-images-amazon.com/images/I/51XpdRopHsL._SR38,50_.jpg|https://images-na.ssl-images-amazon.com/images/I/51nDoi-uylL._SR38,50_.jpg\"/>"
      ],
      "text/plain": [
       "<IPython.core.display.Image object>"
      ]
     },
     "metadata": {},
     "output_type": "display_data"
    },
    {
     "name": "stdout",
     "output_type": "stream",
     "text": [
      "Product 289: W for Women's Straight Kurta\n"
     ]
    },
    {
     "data": {
      "text/html": [
       "<img src=\"https://images-na.ssl-images-amazon.com/images/I/41LBiPGA1xL._SR38,50_.jpg|https://images-na.ssl-images-amazon.com/images/I/31l445UgShL._SR38,50_.jpg|https://images-na.ssl-images-amazon.com/images/I/41vPJa46LFL._SR38,50_.jpg|https://images-na.ssl-images-amazon.com/images/I/51wsnZlIriL._SR38,50_.jpg\"/>"
      ],
      "text/plain": [
       "<IPython.core.display.Image object>"
      ]
     },
     "metadata": {},
     "output_type": "display_data"
    },
    {
     "name": "stdout",
     "output_type": "stream",
     "text": [
      "Product 290: United Colors of Benetton Girls' Dress\n"
     ]
    },
    {
     "data": {
      "text/html": [
       "<img src=\"https://images-na.ssl-images-amazon.com/images/I/61%2ByWStUd6L._SR38,50_.jpg\"/>"
      ],
      "text/plain": [
       "<IPython.core.display.Image object>"
      ]
     },
     "metadata": {},
     "output_type": "display_data"
    },
    {
     "name": "stdout",
     "output_type": "stream",
     "text": [
      "Product 291: US Polo Association Men's Regular fit T-Shirt\n"
     ]
    },
    {
     "data": {
      "text/html": [
       "<img src=\"https://images-na.ssl-images-amazon.com/images/I/41kxYyF7eYL._SR38,50_.jpg|https://images-na.ssl-images-amazon.com/images/I/41FEiM-4pML._SR38,50_.jpg|https://images-na.ssl-images-amazon.com/images/I/41WcKhDNFHL._SR38,50_.jpg|https://images-na.ssl-images-amazon.com/images/I/51gonJfkSPL._SR38,50_.jpg|https://images-na.ssl-images-amazon.com/images/I/31Jw5GRnQPL._SR38,50_.jpg\"/>"
      ],
      "text/plain": [
       "<IPython.core.display.Image object>"
      ]
     },
     "metadata": {},
     "output_type": "display_data"
    },
    {
     "name": "stdout",
     "output_type": "stream",
     "text": [
      "Product 292: Marks & Spencer Men's Regular fit Formal Shirt (Pack of 3)\n"
     ]
    },
    {
     "data": {
      "text/html": [
       "<img src=\"https://images-na.ssl-images-amazon.com/images/I/41014fzrMtL._SR38,50_.jpg|https://images-na.ssl-images-amazon.com/images/I/31QCFxjiYGL._SR38,50_.jpg|https://images-na.ssl-images-amazon.com/images/I/31DUSXqjp8L._SR38,50_.jpg|https://images-na.ssl-images-amazon.com/images/I/31GiFtwVfTL._SR38,50_.jpg|https://images-na.ssl-images-amazon.com/images/I/419KzwkFgGL._SR38,50_.jpg|https://images-na.ssl-images-amazon.com/images/I/311pRWNGB3L._SR38,50_.jpg|https://images-na.ssl-images-amazon.com/images/I/31ZiprgVELL._SR38,50_.jpg|https://images-na.ssl-images-amazon.com/images/I/41qBCyY7mEL._SR38,50_.jpg\"/>"
      ],
      "text/plain": [
       "<IPython.core.display.Image object>"
      ]
     },
     "metadata": {},
     "output_type": "display_data"
    },
    {
     "name": "stdout",
     "output_type": "stream",
     "text": [
      "Product 293: Amazon Brand - Solimo Water Resistant Polyester Long Rain Coat, Blue, XX Large\n"
     ]
    },
    {
     "data": {
      "text/html": [
       "<img src=\"https://images-na.ssl-images-amazon.com/images/I/41EuUW5k7BL._SS40_.jpg|https://images-na.ssl-images-amazon.com/images/I/41pQU8AF4BL._SS40_.jpg|https://images-na.ssl-images-amazon.com/images/I/41ueRwHGRDL._SS40_.jpg|https://images-na.ssl-images-amazon.com/images/I/41FuhxCF2qL._SS40_.jpg|https://images-na.ssl-images-amazon.com/images/I/4178JNbPiUL._SS40_.jpg|https://images-na.ssl-images-amazon.com/images/I/41xiC3CWKPL._SS40_.jpg\"/>"
      ],
      "text/plain": [
       "<IPython.core.display.Image object>"
      ]
     },
     "metadata": {},
     "output_type": "display_data"
    },
    {
     "name": "stdout",
     "output_type": "stream",
     "text": [
      "Product 294: Jockey Men's Cotton Zone (8901326099520_US31_XL_Navy and Grey Melange)\n"
     ]
    },
    {
     "data": {
      "text/html": [
       "<img src=\"https://images-na.ssl-images-amazon.com/images/I/41ArAB2-zWL._SR38,50_.jpg|https://images-na.ssl-images-amazon.com/images/I/41Gk%2BwRiCtL._SR38,50_.jpg\"/>"
      ],
      "text/plain": [
       "<IPython.core.display.Image object>"
      ]
     },
     "metadata": {},
     "output_type": "display_data"
    },
    {
     "name": "stdout",
     "output_type": "stream",
     "text": [
      "Product 295: Mothercare Girls' Tribal Regular Fit T-Shirt\n"
     ]
    },
    {
     "data": {
      "text/html": [
       "<img src=\"https://images-na.ssl-images-amazon.com/images/I/41xqjJKVVrL._SR38,50_.jpg|https://images-na.ssl-images-amazon.com/images/I/317%2Bl56toML._SR38,50_.jpg|https://images-na.ssl-images-amazon.com/images/I/41tRUV3TvFL._SR38,50_.jpg\"/>"
      ],
      "text/plain": [
       "<IPython.core.display.Image object>"
      ]
     },
     "metadata": {},
     "output_type": "display_data"
    },
    {
     "name": "stdout",
     "output_type": "stream",
     "text": [
      "Product 296: Amazon Brand - Myx Women's Cotton a-line Kurti\n"
     ]
    },
    {
     "data": {
      "text/html": [
       "<img src=\"https://images-na.ssl-images-amazon.com/images/I/41zYXnBbl4L._SR38,50_.jpg|https://images-na.ssl-images-amazon.com/images/I/41IpFY5BfGL._SR38,50_.jpg|https://images-na.ssl-images-amazon.com/images/I/413xC00zH6L._SR38,50_.jpg|https://images-na.ssl-images-amazon.com/images/I/61OIkElg61L._SR38,50_.jpg|https://images-na.ssl-images-amazon.com/images/I/31C2ZPSB4VL._SR38,50_.jpg\"/>"
      ],
      "text/plain": [
       "<IPython.core.display.Image object>"
      ]
     },
     "metadata": {},
     "output_type": "display_data"
    },
    {
     "name": "stdout",
     "output_type": "stream",
     "text": [
      "Product 297: USPA Boy's Striped Regular Fit Shirt\n"
     ]
    },
    {
     "data": {
      "text/html": [
       "<img src=\"https://images-na.ssl-images-amazon.com/images/I/61sKFKh1NwL._SR38,50_.jpg|https://images-na.ssl-images-amazon.com/images/I/614%2B7g35LKL._SR38,50_.jpg\"/>"
      ],
      "text/plain": [
       "<IPython.core.display.Image object>"
      ]
     },
     "metadata": {},
     "output_type": "display_data"
    },
    {
     "name": "stdout",
     "output_type": "stream",
     "text": [
      "Product 298: Double-layer Heavy-duty Polar Fleece Winter Balaclava Hood (Army Green)\n"
     ]
    },
    {
     "data": {
      "text/html": [
       "<img src=\"https://images-na.ssl-images-amazon.com/images/I/51nH9EF6IUL._SR38,50_.jpg|https://images-na.ssl-images-amazon.com/images/I/41HQl3XnOrL._SR38,50_.jpg|https://images-na.ssl-images-amazon.com/images/I/51BBeMeFmEL._SR38,50_.jpg\"/>"
      ],
      "text/plain": [
       "<IPython.core.display.Image object>"
      ]
     },
     "metadata": {},
     "output_type": "display_data"
    },
    {
     "name": "stdout",
     "output_type": "stream",
     "text": [
      "Product 299: Si rosa by Hopscotch Girls Poly Viscose Charming Embroidered Full Length Party Dress in Pink Color for Ages 5-6 Years\n"
     ]
    },
    {
     "data": {
      "text/html": [
       "<img src=\"https://images-na.ssl-images-amazon.com/images/I/417uJf6MasL._SR38,50_.jpg|https://images-na.ssl-images-amazon.com/images/I/41P5YqWXMuL._SR38,50_.jpg|https://images-na.ssl-images-amazon.com/images/I/413YVR3MRVL._SR38,50_.jpg|https://images-na.ssl-images-amazon.com/images/I/41tild70E4L._SR38,50_.jpg\"/>"
      ],
      "text/plain": [
       "<IPython.core.display.Image object>"
      ]
     },
     "metadata": {},
     "output_type": "display_data"
    },
    {
     "name": "stdout",
     "output_type": "stream",
     "text": [
      "Product 300: ZEYO Women's Cotton Green & Peach Stripe Print Short Nighty\n"
     ]
    },
    {
     "data": {
      "text/html": [
       "<img src=\"https://images-na.ssl-images-amazon.com/images/I/312aYHNpcoL._SR38,50_.jpg|https://images-na.ssl-images-amazon.com/images/I/410L%2BqAO1%2BL._SR38,50_.jpg|https://images-na.ssl-images-amazon.com/images/I/31XtaPvGo%2BL._SR38,50_.jpg|https://images-na.ssl-images-amazon.com/images/I/31pKixKzCZL._SR38,50_.jpg|https://images-na.ssl-images-amazon.com/images/I/41FxIZhRkFL._SR38,50_.jpg|https://images-na.ssl-images-amazon.com/images/I/41LMSoDY56L._SR38,50_.jpg\"/>"
      ],
      "text/plain": [
       "<IPython.core.display.Image object>"
      ]
     },
     "metadata": {},
     "output_type": "display_data"
    },
    {
     "name": "stdout",
     "output_type": "stream",
     "text": [
      "Product 301: W for Woman Women's Straight Kurta\n"
     ]
    },
    {
     "data": {
      "text/html": [
       "<img src=\"https://images-na.ssl-images-amazon.com/images/I/41sN2lKm1NL._SR38,50_.jpg|https://images-na.ssl-images-amazon.com/images/I/41Ec2SjH4eL._SR38,50_.jpg|https://images-na.ssl-images-amazon.com/images/I/41Nx9wYHFFL._SR38,50_.jpg|https://images-na.ssl-images-amazon.com/images/I/51bSTZMj7eL._SR38,50_.jpg\"/>"
      ],
      "text/plain": [
       "<IPython.core.display.Image object>"
      ]
     },
     "metadata": {},
     "output_type": "display_data"
    },
    {
     "name": "stdout",
     "output_type": "stream",
     "text": [
      "Product 302: Baluchi Bob Minion Graphic Tee\n"
     ]
    },
    {
     "data": {
      "text/html": [
       "<img src=\"https://images-na.ssl-images-amazon.com/images/I/41f1FsTkAkL._SR38,50_.jpg|https://images-na.ssl-images-amazon.com/images/I/31aCGLIYvPL._SR38,50_.jpg|https://images-na.ssl-images-amazon.com/images/I/31wX7n-EG7L._SR38,50_.jpg|https://images-na.ssl-images-amazon.com/images/I/31xqNhA4bvL._SR38,50_.jpg\"/>"
      ],
      "text/plain": [
       "<IPython.core.display.Image object>"
      ]
     },
     "metadata": {},
     "output_type": "display_data"
    },
    {
     "name": "stdout",
     "output_type": "stream",
     "text": [
      "Product 303: Raymond Men's Formal Shirt\n"
     ]
    },
    {
     "data": {
      "text/html": [
       "<img src=\"https://images-na.ssl-images-amazon.com/images/I/41HaFYv%2BMoL._SR38,50_.jpg|https://images-na.ssl-images-amazon.com/images/I/41Cs6GsdvlL._SR38,50_.jpg|https://images-na.ssl-images-amazon.com/images/I/610Tkcb5XZL._SR38,50_.jpg|https://images-na.ssl-images-amazon.com/images/I/51kqk7p0QpL._SR38,50_.jpg|https://images-na.ssl-images-amazon.com/images/I/31bbPYpITEL._SR38,50_.jpg\"/>"
      ],
      "text/plain": [
       "<IPython.core.display.Image object>"
      ]
     },
     "metadata": {},
     "output_type": "display_data"
    },
    {
     "name": "stdout",
     "output_type": "stream",
     "text": [
      "Product 304: JOKL® Women's Net Embroidered anarkali Semi Stitched Long Gown With Duptta\n"
     ]
    },
    {
     "data": {
      "text/html": [
       "<img src=\"https://images-na.ssl-images-amazon.com/images/I/415RTrtfTLL._SR38,50_.jpg\"/>"
      ],
      "text/plain": [
       "<IPython.core.display.Image object>"
      ]
     },
     "metadata": {},
     "output_type": "display_data"
    },
    {
     "name": "stdout",
     "output_type": "stream",
     "text": [
      "Product 305: Amazon Brand - Myx Women's A-Line Kurti\n"
     ]
    },
    {
     "data": {
      "text/html": [
       "<img src=\"https://images-na.ssl-images-amazon.com/images/I/519e6mSBwSL._SR38,50_.jpg|https://images-na.ssl-images-amazon.com/images/I/31PqTDp6a-L._SR38,50_.jpg|https://images-na.ssl-images-amazon.com/images/I/416u-Qr9AhL._SR38,50_.jpg|https://images-na.ssl-images-amazon.com/images/I/51Dv7xFsLdL._SR38,50_.jpg|https://images-na.ssl-images-amazon.com/images/I/41NJ6X%2B-UiL._SR38,50_.jpg\"/>"
      ],
      "text/plain": [
       "<IPython.core.display.Image object>"
      ]
     },
     "metadata": {},
     "output_type": "display_data"
    },
    {
     "name": "stdout",
     "output_type": "stream",
     "text": [
      "Product 306: Dopp Mens Tahoe Leather Casual Belt\n"
     ]
    },
    {
     "data": {
      "text/html": [
       "<img src=\"https://images-na.ssl-images-amazon.com/images/I/31uYLMpRc4L._SR38,50_.jpg\"/>"
      ],
      "text/plain": [
       "<IPython.core.display.Image object>"
      ]
     },
     "metadata": {},
     "output_type": "display_data"
    },
    {
     "name": "stdout",
     "output_type": "stream",
     "text": [
      "Product 307: Playboy Men's Solid Brief (Packof 2)\n"
     ]
    },
    {
     "data": {
      "text/html": [
       "<img src=\"https://images-na.ssl-images-amazon.com/images/I/41S9g7oOyqL._SR38,50_.jpg|https://images-na.ssl-images-amazon.com/images/I/41UFbYmdDvL._SR38,50_.jpg|https://images-na.ssl-images-amazon.com/images/I/41tXf37GPIL._SR38,50_.jpg\"/>"
      ],
      "text/plain": [
       "<IPython.core.display.Image object>"
      ]
     },
     "metadata": {},
     "output_type": "display_data"
    },
    {
     "name": "stdout",
     "output_type": "stream",
     "text": [
      "Product 308: Red Eye Men's Check Print Necktie, Pocket Square, Cufflinks (Red)\n"
     ]
    },
    {
     "data": {
      "text/html": [
       "<img src=\"https://images-na.ssl-images-amazon.com/images/I/51rD9qztd1L._SR38,50_.jpg|https://images-na.ssl-images-amazon.com/images/I/41T1DPiN7BL._SR38,50_.jpg|https://images-na.ssl-images-amazon.com/images/I/51127e%2BtNtL._SR38,50_.jpg|https://images-na.ssl-images-amazon.com/images/I/41shC-5jxnL._SR38,50_.jpg|https://images-na.ssl-images-amazon.com/images/I/41ZL5BnJwdL._SR38,50_.jpg\"/>"
      ],
      "text/plain": [
       "<IPython.core.display.Image object>"
      ]
     },
     "metadata": {},
     "output_type": "display_data"
    },
    {
     "name": "stdout",
     "output_type": "stream",
     "text": [
      "Product 309: Lgc Women'S Rust Bronze Jumpsuits\n"
     ]
    },
    {
     "data": {
      "text/html": [
       "<img src=\"https://images-na.ssl-images-amazon.com/images/I/31HOQzGMGpL._SR38,50_.jpg|https://images-na.ssl-images-amazon.com/images/I/31M9NIxnfHL._SR38,50_.jpg|https://images-na.ssl-images-amazon.com/images/I/31InbAbh%2BpL._SR38,50_.jpg|https://images-na.ssl-images-amazon.com/images/I/31ztkISgF0L._SR38,50_.jpg\"/>"
      ],
      "text/plain": [
       "<IPython.core.display.Image object>"
      ]
     },
     "metadata": {},
     "output_type": "display_data"
    },
    {
     "name": "stdout",
     "output_type": "stream",
     "text": [
      "Product 310: Jockey Men's Cotton Vest (Pack of 4) (8901326061992_8816-0210-WHITE White 85)\n"
     ]
    },
    {
     "data": {
      "text/html": [
       "<img src=\"https://images-na.ssl-images-amazon.com/images/I/416bYXwjqdL._SR38,50_.jpg\"/>"
      ],
      "text/plain": [
       "<IPython.core.display.Image object>"
      ]
     },
     "metadata": {},
     "output_type": "display_data"
    },
    {
     "name": "stdout",
     "output_type": "stream",
     "text": [
      "Product 311: Manash Fashion Women Denim Dungaree Ice Blue\n"
     ]
    },
    {
     "data": {
      "text/html": [
       "<img src=\"https://images-na.ssl-images-amazon.com/images/I/31x-PNuCSHL._SR38,50_.jpg|https://images-na.ssl-images-amazon.com/images/I/41QzC08ALAL._SR38,50_.jpg|https://images-na.ssl-images-amazon.com/images/I/41hk61ImVCL._SR38,50_.jpg|https://images-na.ssl-images-amazon.com/images/I/31ZB-YxlUhL._SR38,50_.jpg|https://images-na.ssl-images-amazon.com/images/I/61E9fQ9UblL._SR38,50_.jpg\"/>"
      ],
      "text/plain": [
       "<IPython.core.display.Image object>"
      ]
     },
     "metadata": {},
     "output_type": "display_data"
    },
    {
     "name": "stdout",
     "output_type": "stream",
     "text": [
      "Product 312: Puma Men's V-Neck Cotton T-Shirt\n"
     ]
    },
    {
     "data": {
      "text/html": [
       "<img src=\"https://images-na.ssl-images-amazon.com/images/I/41XVASiBjVL._SR38,50_.jpg|https://images-na.ssl-images-amazon.com/images/I/41Om-CJ7KSL._SR38,50_.jpg|https://images-na.ssl-images-amazon.com/images/I/31JhnSQpcaL._SR38,50_.jpg|https://images-na.ssl-images-amazon.com/images/I/319jYP5b0DL._SR38,50_.jpg\"/>"
      ],
      "text/plain": [
       "<IPython.core.display.Image object>"
      ]
     },
     "metadata": {},
     "output_type": "display_data"
    },
    {
     "name": "stdout",
     "output_type": "stream",
     "text": [
      "Product 313: Pokmon Ash Ketchum Embroidered Unisex-adult Hat Cap -One-size Red/white\n"
     ]
    },
    {
     "data": {
      "text/html": [
       "<img src=\"https://images-na.ssl-images-amazon.com/images/I/41XbZjXTpYL._SR38,50_.jpg|https://images-na.ssl-images-amazon.com/images/I/51RDjOFnPcL._SR38,50_.jpg|https://images-na.ssl-images-amazon.com/images/I/41sxBfvYDDL._SR38,50_.jpg\"/>"
      ],
      "text/plain": [
       "<IPython.core.display.Image object>"
      ]
     },
     "metadata": {},
     "output_type": "display_data"
    },
    {
     "name": "stdout",
     "output_type": "stream",
     "text": [
      "Product 314: Deruicent Fishing Hat Folding Sun Hat 360 UV Protection Adjust Cap for Men Women Hiking Fishing Outdoor Yard Garden Working (Grey)\n"
     ]
    },
    {
     "data": {
      "text/html": [
       "<img src=\"https://images-na.ssl-images-amazon.com/images/I/41h2wP7LZRL._SR38,50_.jpg|https://images-na.ssl-images-amazon.com/images/I/41NHFvXfhDL._SR38,50_.jpg|https://images-na.ssl-images-amazon.com/images/I/41astzn6WML._SR38,50_.jpg|https://images-na.ssl-images-amazon.com/images/I/41FkoG-i8SL._SR38,50_.jpg|https://images-na.ssl-images-amazon.com/images/I/416R8t5Mm%2BL._SR38,50_.jpg|https://images-na.ssl-images-amazon.com/images/I/41JMy0yWetL._SR38,50_.jpg|https://images-na.ssl-images-amazon.com/images/I/41uw%2B%2Bw-Q1L._SR38,50_.jpg|https://images-na.ssl-images-amazon.com/images/I/41RzkaNog3L._SR38,50_.jpg\"/>"
      ],
      "text/plain": [
       "<IPython.core.display.Image object>"
      ]
     },
     "metadata": {},
     "output_type": "display_data"
    },
    {
     "name": "stdout",
     "output_type": "stream",
     "text": [
      "Product 315: Blacksmith Men's Combo of Necktie, Pocket Square Lapel Pin and Cufflinks(Black, Free Size) - Gift Set for Men Wedding Marriage Groom Accessories For Blazer And Suit\n"
     ]
    },
    {
     "data": {
      "text/html": [
       "<img src=\"https://images-na.ssl-images-amazon.com/images/I/41jcdiexmJL._SR38,50_.jpg|https://images-na.ssl-images-amazon.com/images/I/419BXH1bqbL._SR38,50_.jpg|https://images-na.ssl-images-amazon.com/images/I/51rRGuqTj9L._SR38,50_.jpg|https://images-na.ssl-images-amazon.com/images/I/51YTb2bN3xL._SR38,50_.jpg\"/>"
      ],
      "text/plain": [
       "<IPython.core.display.Image object>"
      ]
     },
     "metadata": {},
     "output_type": "display_data"
    },
    {
     "name": "stdout",
     "output_type": "stream",
     "text": [
      "Product 316: Looks Akira Cotton with Blouse Piece Saree (LA-S1396_Pink_One Size)\n"
     ]
    },
    {
     "data": {
      "text/html": [
       "<img src=\"https://images-na.ssl-images-amazon.com/images/I/41HWceLFJ5L._SR38,50_.jpg|https://images-na.ssl-images-amazon.com/images/I/41QBS8GGdML._SR38,50_.jpg|https://images-na.ssl-images-amazon.com/images/I/31QHI2pXnXL._SR38,50_.jpg|https://images-na.ssl-images-amazon.com/images/I/41IA0PugvpL._SR38,50_.jpg\"/>"
      ],
      "text/plain": [
       "<IPython.core.display.Image object>"
      ]
     },
     "metadata": {},
     "output_type": "display_data"
    },
    {
     "name": "stdout",
     "output_type": "stream",
     "text": [
      "Product 317: Allen Solly Women's A-Line Dress\n"
     ]
    },
    {
     "data": {
      "text/html": [
       "<img src=\"https://images-na.ssl-images-amazon.com/images/I/417SSbex%2BVL._SR38,50_.jpg|https://images-na.ssl-images-amazon.com/images/I/419N0EGSBzL._SR38,50_.jpg|https://images-na.ssl-images-amazon.com/images/I/51P70bV8TjL._SR38,50_.jpg|https://images-na.ssl-images-amazon.com/images/I/41GC4mzI9VL._SR38,50_.jpg\"/>"
      ],
      "text/plain": [
       "<IPython.core.display.Image object>"
      ]
     },
     "metadata": {},
     "output_type": "display_data"
    },
    {
     "name": "stdout",
     "output_type": "stream",
     "text": [
      "Product 318: CHINMAYA Regular fir Straight Kurti | kurties for Women (Light Green & Baby Pink) Combo Kurtis for Women\n"
     ]
    },
    {
     "data": {
      "text/html": [
       "<img src=\"https://images-na.ssl-images-amazon.com/images/I/413iD41R2QL._SR38,50_.jpg|https://images-na.ssl-images-amazon.com/images/I/31VpmeOiR8L._SR38,50_.jpg|https://images-na.ssl-images-amazon.com/images/I/41VNoMWey9L._SR38,50_.jpg|https://images-na.ssl-images-amazon.com/images/I/31j9BCuoe4L._SR38,50_.jpg\"/>"
      ],
      "text/plain": [
       "<IPython.core.display.Image object>"
      ]
     },
     "metadata": {},
     "output_type": "display_data"
    },
    {
     "name": "stdout",
     "output_type": "stream",
     "text": [
      "Product 319: Shut up Legs!: My Wild Ride On and Off the Bike\n"
     ]
    },
    {
     "ename": "TypeError",
     "evalue": "expected str, bytes or os.PathLike object, not float",
     "output_type": "error",
     "traceback": [
      "\u001b[1;31m---------------------------------------------------------------------------\u001b[0m",
      "\u001b[1;31mTypeError\u001b[0m                                 Traceback (most recent call last)",
      "Cell \u001b[1;32mIn[14], line 34\u001b[0m\n\u001b[0;32m     32\u001b[0m \u001b[38;5;28;01mfor\u001b[39;00m i, (name, img_url) \u001b[38;5;129;01min\u001b[39;00m \u001b[38;5;28menumerate\u001b[39m(\u001b[38;5;28mzip\u001b[39m(product_names, product_images)):\n\u001b[0;32m     33\u001b[0m     \u001b[38;5;28mprint\u001b[39m(\u001b[38;5;124mf\u001b[39m\u001b[38;5;124m\"\u001b[39m\u001b[38;5;124mProduct \u001b[39m\u001b[38;5;132;01m{\u001b[39;00mi\u001b[38;5;241m+\u001b[39m\u001b[38;5;241m1\u001b[39m\u001b[38;5;132;01m}\u001b[39;00m\u001b[38;5;124m: \u001b[39m\u001b[38;5;132;01m{\u001b[39;00mname\u001b[38;5;132;01m}\u001b[39;00m\u001b[38;5;124m\"\u001b[39m)\n\u001b[1;32m---> 34\u001b[0m     display(Image(url\u001b[38;5;241m=\u001b[39mimg_url))\n",
      "File \u001b[1;32mC:\\ProgramData\\anaconda3\\Lib\\site-packages\\IPython\\core\\display.py:923\u001b[0m, in \u001b[0;36mImage.__init__\u001b[1;34m(self, data, url, filename, format, embed, width, height, retina, unconfined, metadata, alt)\u001b[0m\n\u001b[0;32m    921\u001b[0m     ext \u001b[38;5;241m=\u001b[39m \u001b[38;5;28mself\u001b[39m\u001b[38;5;241m.\u001b[39m_find_ext(filename)\n\u001b[0;32m    922\u001b[0m \u001b[38;5;28;01melif\u001b[39;00m url \u001b[38;5;129;01mis\u001b[39;00m \u001b[38;5;129;01mnot\u001b[39;00m \u001b[38;5;28;01mNone\u001b[39;00m:\n\u001b[1;32m--> 923\u001b[0m     ext \u001b[38;5;241m=\u001b[39m \u001b[38;5;28mself\u001b[39m\u001b[38;5;241m.\u001b[39m_find_ext(url)\n\u001b[0;32m    924\u001b[0m \u001b[38;5;28;01melif\u001b[39;00m data \u001b[38;5;129;01mis\u001b[39;00m \u001b[38;5;28;01mNone\u001b[39;00m:\n\u001b[0;32m    925\u001b[0m     \u001b[38;5;28;01mraise\u001b[39;00m \u001b[38;5;167;01mValueError\u001b[39;00m(\u001b[38;5;124m\"\u001b[39m\u001b[38;5;124mNo image data found. Expecting filename, url, or data.\u001b[39m\u001b[38;5;124m\"\u001b[39m)\n",
      "File \u001b[1;32mC:\\ProgramData\\anaconda3\\Lib\\site-packages\\IPython\\core\\display.py:1074\u001b[0m, in \u001b[0;36mImage._find_ext\u001b[1;34m(self, s)\u001b[0m\n\u001b[0;32m   1073\u001b[0m \u001b[38;5;28;01mdef\u001b[39;00m \u001b[38;5;21m_find_ext\u001b[39m(\u001b[38;5;28mself\u001b[39m, s):\n\u001b[1;32m-> 1074\u001b[0m     base, ext \u001b[38;5;241m=\u001b[39m splitext(s)\n\u001b[0;32m   1076\u001b[0m     \u001b[38;5;28;01mif\u001b[39;00m \u001b[38;5;129;01mnot\u001b[39;00m ext:\n\u001b[0;32m   1077\u001b[0m         \u001b[38;5;28;01mreturn\u001b[39;00m base\n",
      "File \u001b[1;32m<frozen ntpath>:232\u001b[0m, in \u001b[0;36msplitext\u001b[1;34m(p)\u001b[0m\n",
      "\u001b[1;31mTypeError\u001b[0m: expected str, bytes or os.PathLike object, not float"
     ]
    }
   ],
   "source": [
    "#Bag of Words \n",
    "\n",
    "import numpy as np  # for numerical computation...\n",
    "from sklearn.metrics.pairwise import cosine_similarity  # measures similarity between vectors ranging -1 to 1.\n",
    "import pandas as pd\n",
    "from IPython.display import Image, display  # For displaying images in Jupyter Notebook\n",
    "\n",
    "# Load the dataset\n",
    "file_path = 'C:/Users/ADMIN/Downloads/fashion_product_data.ldjson'  # Replace with your file path\n",
    "df = pd.read_json(file_path, lines=True)  # Use lines=True for JSON lines format\n",
    "\n",
    "# Load pre-trained GloVe vectors\n",
    "def load_glove_vectors(glove_file):\n",
    "    glove_dict = {}\n",
    "    with open(glove_file, 'r', encoding='utf-8') as f:\n",
    "        for line in f:\n",
    "            values = line.strip().split()  # removes extra whitespaces and splits \n",
    "            word = values[0]\n",
    "            vector = np.array(values[1:], dtype='float32') # converts the remaining components into numpy array..\n",
    "            glove_dict[word] = vector\n",
    "    return glove_dict\n",
    "\n",
    "# Convert product name to its vector representation using GloVe embeddings\n",
    "def get_product_vector(product_name, glove_dict):\n",
    "    words = product_name.split()\n",
    "    vectors = [glove_dict.get(word, np.zeros(50)) for word in words]  # Default to zero vector if word not found\n",
    "    return np.mean(vectors, axis=0)  # Average of word vectors\n",
    "\n",
    "# Example usage:\n",
    "product_names = df['product_name'].tolist()  # List of product names\n",
    "product_images = df['image_urls__small'].tolist()  # List of product image URLs (use appropriate column)\n",
    "\n",
    "# Displaying the products and their images\n",
    "for i, (name, img_url) in enumerate(zip(product_names, product_images)):\n",
    "    print(f\"Product {i+1}: {name}\")\n",
    "    display(Image(url=img_url))  # Display the image of the product\n"
   ]
  },
  {
   "cell_type": "code",
   "execution_count": 20,
   "id": "8524379a-3cb8-4ca4-9e13-5decb02b1b63",
   "metadata": {},
   "outputs": [
    {
     "name": "stdout",
     "output_type": "stream",
     "text": [
      "Selected product: Forest Club | Gym Wear | Sports Shorts| Shorts for Men | Smooth Breathable Fabric | Shorts with Pocket Zippers | All TIME WEAR |\n"
     ]
    },
    {
     "data": {
      "text/html": [
       "<img src=\"https://images-na.ssl-images-amazon.com/images/I/417-zhcsWiL._SR38,50_.jpg|https://images-na.ssl-images-amazon.com/images/I/31OvZrq-V8L._SR38,50_.jpg|https://images-na.ssl-images-amazon.com/images/I/51v8bE10KkL._SR38,50_.jpg|https://images-na.ssl-images-amazon.com/images/I/51hHbv0RPJL._SR38,50_.jpg|https://images-na.ssl-images-amazon.com/images/I/31fw-rufuWL._SR38,50_.jpg\"/>"
      ],
      "text/plain": [
       "<IPython.core.display.Image object>"
      ]
     },
     "metadata": {},
     "output_type": "display_data"
    },
    {
     "name": "stdout",
     "output_type": "stream",
     "text": [
      "\n",
      "Top 5 recommendations:\n",
      "1. Color Club 1 Women's Sports Gym and Yoga Shorts (Similarity: 0.44)\n"
     ]
    },
    {
     "data": {
      "text/html": [
       "<img src=\"https://images-na.ssl-images-amazon.com/images/I/31TREoIPf%2BL._SR38,50_.jpg|https://images-na.ssl-images-amazon.com/images/I/31DHXf7BXjL._SR38,50_.jpg|https://images-na.ssl-images-amazon.com/images/I/41v0x7Y3h2L._SR38,50_.jpg|https://images-na.ssl-images-amazon.com/images/I/41AzVNSqtrL._SR38,50_.jpg|https://images-na.ssl-images-amazon.com/images/I/31OishT3HuL._SR38,50_.jpg|https://images-na.ssl-images-amazon.com/images/I/31XUCo7bZ6L._SR38,50_.jpg|https://images-na.ssl-images-amazon.com/images/I/31JDVeNOPXL._SR38,50_.jpg\"/>"
      ],
      "text/plain": [
       "<IPython.core.display.Image object>"
      ]
     },
     "metadata": {},
     "output_type": "display_data"
    },
    {
     "name": "stdout",
     "output_type": "stream",
     "text": [
      "2. EASY 2 WEAR Men's Shorts (Similarity: 0.43)\n"
     ]
    },
    {
     "data": {
      "text/html": [
       "<img src=\"https://images-na.ssl-images-amazon.com/images/I/41u78Nsk30L._SR38,50_.jpg|https://images-na.ssl-images-amazon.com/images/I/41qCWEX5%2B3L._SR38,50_.jpg|https://images-na.ssl-images-amazon.com/images/I/417HT8TgxwL._SR38,50_.jpg\"/>"
      ],
      "text/plain": [
       "<IPython.core.display.Image object>"
      ]
     },
     "metadata": {},
     "output_type": "display_data"
    },
    {
     "name": "stdout",
     "output_type": "stream",
     "text": [
      "3. Max Women's Sports Shorts (Similarity: 0.40)\n"
     ]
    },
    {
     "data": {
      "text/html": [
       "<img src=\"https://images-na.ssl-images-amazon.com/images/I/31hCgVInG9L._SR38,50_.jpg|https://images-na.ssl-images-amazon.com/images/I/31BV8dsnOwL._SR38,50_.jpg|https://images-na.ssl-images-amazon.com/images/I/311gjmsTWyL._SR38,50_.jpg|https://images-na.ssl-images-amazon.com/images/I/41gLiLKQvVL._SR38,50_.jpg|https://images-na.ssl-images-amazon.com/images/I/319PvHWZMgL._SR38,50_.jpg\"/>"
      ],
      "text/plain": [
       "<IPython.core.display.Image object>"
      ]
     },
     "metadata": {},
     "output_type": "display_data"
    },
    {
     "name": "stdout",
     "output_type": "stream",
     "text": [
      "4. Puma Women's Sports Shorts (Similarity: 0.38)\n"
     ]
    },
    {
     "data": {
      "text/html": [
       "<img src=\"https://images-na.ssl-images-amazon.com/images/I/41RUfBBcviL._SR38,50_.jpg|https://images-na.ssl-images-amazon.com/images/I/41h%2BTPJ%2BiEL._SR38,50_.jpg|https://images-na.ssl-images-amazon.com/images/I/41ytxRN6dEL._SR38,50_.jpg|https://images-na.ssl-images-amazon.com/images/I/4140sNHHiGL._SR38,50_.jpg|https://images-na.ssl-images-amazon.com/images/I/31mdHfirpBL._SR38,50_.jpg\"/>"
      ],
      "text/plain": [
       "<IPython.core.display.Image object>"
      ]
     },
     "metadata": {},
     "output_type": "display_data"
    },
    {
     "name": "stdout",
     "output_type": "stream",
     "text": [
      "5. MARK LOUIIS Soft Cotton Shorts for Men for Regular Wear, Gym Wear, Running and Night Wear with 2 Zipper and 1 Back Pocket. (Similarity: 0.38)\n"
     ]
    },
    {
     "data": {
      "text/html": [
       "<img src=\"https://images-na.ssl-images-amazon.com/images/I/41hauzrW27L._SR38,50_.jpg|https://images-na.ssl-images-amazon.com/images/I/41ufj7-tDsL._SR38,50_.jpg|https://images-na.ssl-images-amazon.com/images/I/31zLpJ1melL._SR38,50_.jpg\"/>"
      ],
      "text/plain": [
       "<IPython.core.display.Image object>"
      ]
     },
     "metadata": {},
     "output_type": "display_data"
    }
   ],
   "source": [
    "#Similarity Recommendation (TF-IDF)\n",
    "import numpy as np\n",
    "from sklearn.metrics.pairwise import cosine_similarity  # measures similarity between vectors ranging -1 to 1.\n",
    "from sklearn.feature_extraction.text import TfidfVectorizer # converts product_names into numerical feature vectors based on TF-IDF model...\n",
    "import pandas as pd\n",
    "from IPython.display import Image, display  # For displaying images in Jupyter Notebook\n",
    "\n",
    "# Load the dataset\n",
    "file_path = 'C:/Users/ADMIN/Downloads/fashion_product_data.ldjson'  # Replace with your file path\n",
    "df = pd.read_json(file_path, lines=True)  # Use lines=True for JSON lines format\n",
    "\n",
    "# Extract product names and images from the dataset\n",
    "product_names = df['product_name'].tolist()  # List of product names\n",
    "product_images = df['image_urls__small'].tolist()  # List of product image URLs (use appropriate column)\n",
    "\n",
    "# Function to recommend similar products using TF-IDF and cosine similarity\n",
    "def recommend_similar_products(product_id, num_recommendations, product_names, product_images):\n",
    "    # Initialize TF-IDF Vectorizer\n",
    "    tfidf_vectorizer = TfidfVectorizer(stop_words='english')\n",
    "    \n",
    "    # Convert product names to TF-IDF features (vectors)\n",
    "    tfidf_matrix = tfidf_vectorizer.fit_transform(product_names)\n",
    "    \n",
    "    # Get the TF-IDF vector of the selected product\n",
    "    product_vector = tfidf_matrix[product_id]\n",
    "    \n",
    "    # Calculate cosine similarity between the selected product and all other products\n",
    "    similarities = []\n",
    "    for i in range(len(product_names)):\n",
    "        if i != product_id:  # Skip the product itself\n",
    "            similarity = cosine_similarity(product_vector, tfidf_matrix[i])[0][0]\n",
    "            similarities.append((product_names[i], product_images[i], similarity))\n",
    "    \n",
    "    # Sort by similarity and get the top N recommendations\n",
    "    similarities.sort(key=lambda x: x[2], reverse=True)\n",
    "    recommendations = similarities[:num_recommendations]\n",
    "    \n",
    "    return recommendations\n",
    "\n",
    "# Example usage:\n",
    "product_id = 5  # Replace with the desired product index\n",
    "num_recommendations = 5  # Number of recommendations\n",
    "\n",
    "# Get recommendations\n",
    "recommendations = recommend_similar_products(product_id, num_recommendations, product_names, product_images)\n",
    "\n",
    "# Display the selected product\n",
    "print(f\"Selected product: {product_names[product_id]}\")\n",
    "display(Image(url=product_images[product_id]))  # Display the selected product's image\n",
    "\n",
    "# Display the recommendations with images\n",
    "print(f\"\\nTop {num_recommendations} recommendations:\")\n",
    "for i, (name, img_url, score) in enumerate(recommendations, 1):\n",
    "    print(f\"{i}. {name} (Similarity: {score:.2f})\")\n",
    "    display(Image(url=img_url))  # Display the recommended product's image\n"
   ]
  },
  {
   "cell_type": "code",
   "execution_count": 18,
   "id": "767fd133-08cf-41a1-b0d7-c3fa3c9484f3",
   "metadata": {},
   "outputs": [
    {
     "name": "stdout",
     "output_type": "stream",
     "text": [
      "Recommendations for product 'Toddler Little Boy Straight Outta Timeout Long Sleeve T-Shirt (2T, Black)':\n",
      "1. Waldeal Boys Girls Straight Outta Timeout Toddler T Shirt Funny Out of Timeout Tee 5 6\n"
     ]
    },
    {
     "data": {
      "text/html": [
       "<img src=\"https://images-na.ssl-images-amazon.com/images/I/51di4ZC2SIL._SR38,50_.jpg|https://images-na.ssl-images-amazon.com/images/I/617c-pvVEQL._SR38,50_.jpg|https://images-na.ssl-images-amazon.com/images/I/61MhVJ3kauL._SR38,50_.jpg|https://images-na.ssl-images-amazon.com/images/I/41J9lAJsoUL._SR38,50_.jpg|https://images-na.ssl-images-amazon.com/images/I/61eNObHRlaL._SR38,50_.jpg|https://images-na.ssl-images-amazon.com/images/I/51uXSILgQAL._SR38,50_.jpg|https://images-na.ssl-images-amazon.com/images/I/51ExZ%2Bhhm3L._SR38,50_.jpg\"/>"
      ],
      "text/plain": [
       "<IPython.core.display.Image object>"
      ]
     },
     "metadata": {},
     "output_type": "display_data"
    },
    {
     "name": "stdout",
     "output_type": "stream",
     "text": [
      "2. carter's Little Boys' Graphic Tee (Toddler/Kid)\n"
     ]
    },
    {
     "data": {
      "text/html": [
       "<img src=\"https://images-na.ssl-images-amazon.com/images/I/519nT0fI6jL._SR38,50_.jpg\"/>"
      ],
      "text/plain": [
       "<IPython.core.display.Image object>"
      ]
     },
     "metadata": {},
     "output_type": "display_data"
    },
    {
     "name": "stdout",
     "output_type": "stream",
     "text": [
      "3. Marvel Boy's Regular fit Long Sleeve Top\n"
     ]
    },
    {
     "data": {
      "text/html": [
       "<img src=\"https://images-na.ssl-images-amazon.com/images/I/416DR6aekcL._SR38,50_.jpg|https://images-na.ssl-images-amazon.com/images/I/313cABV2S9L._SR38,50_.jpg|https://images-na.ssl-images-amazon.com/images/I/51CrSd7MZRL._SR38,50_.jpg|https://images-na.ssl-images-amazon.com/images/I/51Zqu0kZhnL._SR38,50_.jpg|https://images-na.ssl-images-amazon.com/images/I/51Zqu0kZhnL._SR38,50_.jpg\"/>"
      ],
      "text/plain": [
       "<IPython.core.display.Image object>"
      ]
     },
     "metadata": {},
     "output_type": "display_data"
    },
    {
     "name": "stdout",
     "output_type": "stream",
     "text": [
      "4. RuggedButts Little Boys Pre-tied Bow Tie/Bowtie - Green - 2T-4T\n"
     ]
    },
    {
     "data": {
      "text/html": [
       "<img src=\"https://images-na.ssl-images-amazon.com/images/I/31RfFOaQi%2BL._SR38,50_.jpg|https://images-na.ssl-images-amazon.com/images/I/41q2ppwypAL._SR38,50_.jpg\"/>"
      ],
      "text/plain": [
       "<IPython.core.display.Image object>"
      ]
     },
     "metadata": {},
     "output_type": "display_data"
    },
    {
     "name": "stdout",
     "output_type": "stream",
     "text": [
      "5. Toddler Infant Baby Boys Stripe Soft Cotton Crew Dress Socks Non-Skid, 1-2T, (6-Pack)\n"
     ]
    },
    {
     "data": {
      "text/html": [
       "<img src=\"https://images-na.ssl-images-amazon.com/images/I/410ej4ChadL._SS40_.jpg|https://images-na.ssl-images-amazon.com/images/I/410ej4ChadL._SS40_.jpg\"/>"
      ],
      "text/plain": [
       "<IPython.core.display.Image object>"
      ]
     },
     "metadata": {},
     "output_type": "display_data"
    }
   ],
   "source": [
    "\n",
    "#TF-IDF with displaying the images...\n",
    "import pandas as pd\n",
    "from sklearn.feature_extraction.text import TfidfVectorizer\n",
    "from sklearn.metrics.pairwise import cosine_similarity\n",
    "from IPython.display import Image, display  # For displaying images in Jupyter Notebook\n",
    "\n",
    "# Load the dataset\n",
    "df = pd.read_json('C:/Users/ADMIN/Downloads/fashion_product_data.ldjson', lines=True)\n",
    "\n",
    "# Use the 'product_name' column or other relevant column as input for the recommendation system\n",
    "# Here, we'll use the 'product_name' column for TF-IDF processing\n",
    "product_names = df['product_name'].fillna('').tolist()  # Replace missing values with empty strings\n",
    "product_images = df['image_urls__small'].fillna('').tolist()  # Replace missing image URLs with empty strings\n",
    "\n",
    "# Initialize TfidfVectorizer and fit_transform the 'product_name' text data\n",
    "vectorizer = TfidfVectorizer(stop_words='english')  #ensures that common English words (e.g., \"the\", \"is\") are ignored.\n",
    "tfidf_matrix = vectorizer.fit_transform(product_names) #Transforms the list of product names into a sparse matrix of TF-IDF features.\n",
    "\n",
    "# Function to get recommendations for a specific product ID\n",
    "def recommend_products_tfidf(product_id, num_recommendations=5):\n",
    "    # Calculate cosine similarity between the target product and all other products\n",
    "    cosine_similarities = cosine_similarity(tfidf_matrix[product_id], tfidf_matrix).flatten() \n",
    "    \n",
    "    # Get the indices of the most similar products, excluding the target product\n",
    "    similar_indices = cosine_similarities.argsort()[-(num_recommendations + 1):-1][::-1] #Sorts the list of products in descending order of similarity scores\n",
    "    \n",
    "    # Return the indices and product names of the most similar products\n",
    "    return similar_indices, df['product_name'].iloc[similar_indices].tolist(), df['image_urls__small'].iloc[similar_indices].tolist()\n",
    "\n",
    "# Example usage:\n",
    "product_id = 10  # Example product ID (you can change this as needed)\n",
    "num_recommendations = 5  # Number of recommendations to generate\n",
    "\n",
    "# Get recommendations for the specified product ID\n",
    "similar_indices, recommended_products, recommended_images = recommend_products_tfidf(product_id, num_recommendations)\n",
    "\n",
    "# Print and display the recommendations with images\n",
    "print(f\"Recommendations for product '{df['product_name'].iloc[product_id]}':\")\n",
    "for i, (product_name, img_url) in enumerate(zip(recommended_products, recommended_images), 1):\n",
    "    print(f\"{i}. {product_name}\")\n",
    "    display(Image(url=img_url))  # Display the image of the recommended product\n"
   ]
  },
  {
   "cell_type": "code",
   "execution_count": 3,
   "id": "b620add8-2dd8-4da0-ad2e-773bfef12fe2",
   "metadata": {},
   "outputs": [
    {
     "name": "stdout",
     "output_type": "stream",
     "text": [
      "Main Product: 'Forest Club | Gym Wear | Sports Shorts| Shorts for Men | Smooth Breathable Fabric | Shorts with Pocket Zippers | All TIME WEAR |'\n"
     ]
    },
    {
     "data": {
      "text/html": [
       "<img src=\"https://images-na.ssl-images-amazon.com/images/I/417-zhcsWiL._SR38,50_.jpg|https://images-na.ssl-images-amazon.com/images/I/31OvZrq-V8L._SR38,50_.jpg|https://images-na.ssl-images-amazon.com/images/I/51v8bE10KkL._SR38,50_.jpg|https://images-na.ssl-images-amazon.com/images/I/51hHbv0RPJL._SR38,50_.jpg|https://images-na.ssl-images-amazon.com/images/I/31fw-rufuWL._SR38,50_.jpg\"/>"
      ],
      "text/plain": [
       "<IPython.core.display.Image object>"
      ]
     },
     "metadata": {},
     "output_type": "display_data"
    },
    {
     "name": "stdout",
     "output_type": "stream",
     "text": [
      "\n",
      "Recommended Products:\n",
      "Product ID 18073: Forest Club | Water Resistant | Light Weight | Jacket for Men with Hood | (Slim FIT) (Similarity: 0.99)\n"
     ]
    },
    {
     "data": {
      "text/html": [
       "<img src=\"https://images-na.ssl-images-amazon.com/images/I/41XCWorUD2L._SR38,50_.jpg|https://images-na.ssl-images-amazon.com/images/I/41FDtQUJ3DL._SR38,50_.jpg|https://images-na.ssl-images-amazon.com/images/I/413ERgYLHfL._SR38,50_.jpg|https://images-na.ssl-images-amazon.com/images/I/41EcVVozk7L._SR38,50_.jpg|https://images-na.ssl-images-amazon.com/images/I/419q%2BzN%2BDSL._SR38,50_.jpg|https://images-na.ssl-images-amazon.com/images/I/41BHwn0eEFL._SR38,50_.jpg|https://images-na.ssl-images-amazon.com/images/I/41BSfYba0fL._SR38,50_.jpg\"/>"
      ],
      "text/plain": [
       "<IPython.core.display.Image object>"
      ]
     },
     "metadata": {},
     "output_type": "display_data"
    },
    {
     "name": "stdout",
     "output_type": "stream",
     "text": [
      "Product ID 22025: Forest Club | Light Weight | Casual Wear | Quilted Jackets | Winter Jackets for Men | Hood Removable | (Similarity: 0.99)\n"
     ]
    },
    {
     "data": {
      "text/html": [
       "<img src=\"https://images-na.ssl-images-amazon.com/images/I/41er%2BybhzoL._SR38,50_.jpg|https://images-na.ssl-images-amazon.com/images/I/41b%2BEeKA9DL._SR38,50_.jpg|https://images-na.ssl-images-amazon.com/images/I/31Nf80CqPxL._SR38,50_.jpg|https://images-na.ssl-images-amazon.com/images/I/31c8t7lRXIL._SR38,50_.jpg|https://images-na.ssl-images-amazon.com/images/I/41u8ts6MIGL._SR38,50_.jpg|https://images-na.ssl-images-amazon.com/images/I/41Qo7PJwVEL._SR38,50_.jpg|https://images-na.ssl-images-amazon.com/images/I/41ouZv8T4OL._SR38,50_.jpg\"/>"
      ],
      "text/plain": [
       "<IPython.core.display.Image object>"
      ]
     },
     "metadata": {},
     "output_type": "display_data"
    },
    {
     "name": "stdout",
     "output_type": "stream",
     "text": [
      "Product ID 2777: jersey hood | India Cricket Jersey World Cup 2019 for Men & Boys | Polyester Dri-Fit | Unbranded (Similarity: 0.99)\n"
     ]
    },
    {
     "data": {
      "text/html": [
       "<img src=\"https://images-na.ssl-images-amazon.com/images/I/414acYwyePL._SR38,50_.jpg\"/>"
      ],
      "text/plain": [
       "<IPython.core.display.Image object>"
      ]
     },
     "metadata": {},
     "output_type": "display_data"
    },
    {
     "name": "stdout",
     "output_type": "stream",
     "text": [
      "Product ID 154: Jersey Hood | Liverpool Home & GK Jersey/Shorts for Mens/Boys | 2019-20 | Polyester Dri-Fit Unbranded | (Similarity: 0.99)\n"
     ]
    },
    {
     "data": {
      "text/html": [
       "<img src=\"https://images-na.ssl-images-amazon.com/images/I/31JfXmrSSqL._SR38,50_.jpg\"/>"
      ],
      "text/plain": [
       "<IPython.core.display.Image object>"
      ]
     },
     "metadata": {},
     "output_type": "display_data"
    },
    {
     "name": "stdout",
     "output_type": "stream",
     "text": [
      "Product ID 27526: Jersey Hood | Barcelona Third Jersey for Men & Boys| 2019-20 | Polyester Dri-Fit | Unbranded (Similarity: 0.99)\n"
     ]
    },
    {
     "data": {
      "text/html": [
       "<img src=\"https://images-na.ssl-images-amazon.com/images/I/41uF32m2BdL._SR38,50_.jpg\"/>"
      ],
      "text/plain": [
       "<IPython.core.display.Image object>"
      ]
     },
     "metadata": {},
     "output_type": "display_data"
    },
    {
     "name": "stdout",
     "output_type": "stream",
     "text": [
      "Step 1 complete: Word2Vec model trained on product names and recommendations displayed with images.\n"
     ]
    }
   ],
   "source": [
    "#word2vec\n",
    "import pandas as pd\n",
    "from gensim.models import Word2Vec # gensimlibrary used for generating word embedding ..\n",
    "from sklearn.metrics.pairwise import cosine_similarity   #to measure the similarity between two vectors..\n",
    "from IPython.display import Image, display\n",
    "\n",
    "# Load the dataset\n",
    "df = pd.read_json('C:/Users/ADMIN/Downloads/fashion_product_data.ldjson', lines=True)\n",
    "\n",
    "# Preprocess product names\n",
    "product_names = df['product_name'].fillna('').tolist() #extract product name , replaces the missing values and convert it into a list..\n",
    "processed_names = [name.split() for name in product_names]  # splits each product names into a list of words ,preparing data for word2vec training...\n",
    "\n",
    "# Train Word2Vec model\n",
    "word2vec_model = Word2Vec(processed_names, vector_size=50, window=3, min_count=1, workers=4) #vector_size=repesents the dimensional vector for each word , min_count -ensures all words are included ,workers- 4 cpu cores for parallel processing during training. \n",
    "\n",
    "# Function to get vector representation for a product\n",
    "def get_product_vector(product_name, model):\n",
    "    words = product_name.split() # Tokenizes the product name into words.\n",
    "    vectors = [model.wv[word] for word in words if word in model.wv]\n",
    "    if vectors:\n",
    "        return sum(vectors) / len(vectors)  # Average vector   Computes the average vector for all words in the product name. This represents the product as a single vector.\n",
    "    return [0] * model.vector_size  # Zero vector if no words are found\n",
    "\n",
    "# Function to recommend products\n",
    "def recommend_products(product_id, num_recommendations, product_names, model, df):\n",
    "    product_vector = get_product_vector(product_names[product_id], model)\n",
    "    #Gets the vector representation of the specified product (product_id) using the Word2Vec model.\n",
    "    similarities = []\n",
    "    for i, name in enumerate(product_names):\n",
    "        if i != product_id:  # Skip the product itself\n",
    "            other_vector = get_product_vector(name, model)\n",
    "            similarity = cosine_similarity([product_vector], [other_vector])[0][0]  \n",
    "            #Computes the similarity score between the target product vector and the current product vector.\n",
    "            similarities.append((i, name, similarity))  # Store index, name, and similarity score\n",
    "    \n",
    "    # Sort by similarity and get top N\n",
    "    # Sorts the list by similarity scores in descending order.\n",
    "    similarities.sort(key=lambda x: x[2], reverse=True)\n",
    "    return similarities[:num_recommendations]\n",
    "\n",
    "# Example usage\n",
    "product_id = 5  # Specify the product ID to get recommendations\n",
    "num_recommendations = 5  # Number of recommendations\n",
    "\n",
    "# Get recommendations\n",
    "recommendations = recommend_products(product_id, num_recommendations, product_names, word2vec_model, df)\n",
    "\n",
    "# Display the main product\n",
    "print(f\"Main Product: '{product_names[product_id]}'\")\n",
    "display(Image(url=df['image_urls__small'].iloc[product_id]))\n",
    "\n",
    "# Display recommended products\n",
    "print(\"\\nRecommended Products:\")\n",
    "for rec_id, name, score in recommendations:\n",
    "    print(f\"Product ID {rec_id}: {name} (Similarity: {score:.2f})\")\n",
    "    display(Image(url=df['image_urls__small'].iloc[rec_id]))\n",
    "\n",
    "print(\"Step 1 complete: Word2Vec model trained on product names and recommendations displayed with images.\")\n"
   ]
  },
  {
   "cell_type": "code",
   "execution_count": 5,
   "id": "191aab2b-04cf-40f0-8132-b540e8332e80",
   "metadata": {},
   "outputs": [
    {
     "name": "stdout",
     "output_type": "stream",
     "text": [
      "CBOW model trained on product names.\n",
      "Recommendations for product 'Forest Club | Gym Wear | Sports Shorts| Shorts for Men | Smooth Breathable Fabric | Shorts with Pocket Zippers | All TIME WEAR |':\n"
     ]
    },
    {
     "data": {
      "text/html": [
       "<img src=\"https://images-na.ssl-images-amazon.com/images/I/417-zhcsWiL._SR38,50_.jpg|https://images-na.ssl-images-amazon.com/images/I/31OvZrq-V8L._SR38,50_.jpg|https://images-na.ssl-images-amazon.com/images/I/51v8bE10KkL._SR38,50_.jpg|https://images-na.ssl-images-amazon.com/images/I/51hHbv0RPJL._SR38,50_.jpg|https://images-na.ssl-images-amazon.com/images/I/31fw-rufuWL._SR38,50_.jpg\"/>"
      ],
      "text/plain": [
       "<IPython.core.display.Image object>"
      ]
     },
     "metadata": {},
     "output_type": "display_data"
    },
    {
     "name": "stdout",
     "output_type": "stream",
     "text": [
      "1. Forest Club | Water Resistant | Light Weight | Jacket for Men with Hood | (Slim FIT) (Similarity: 1.00)\n"
     ]
    },
    {
     "data": {
      "text/html": [
       "<img src=\"https://images-na.ssl-images-amazon.com/images/I/41XCWorUD2L._SR38,50_.jpg|https://images-na.ssl-images-amazon.com/images/I/41FDtQUJ3DL._SR38,50_.jpg|https://images-na.ssl-images-amazon.com/images/I/413ERgYLHfL._SR38,50_.jpg|https://images-na.ssl-images-amazon.com/images/I/41EcVVozk7L._SR38,50_.jpg|https://images-na.ssl-images-amazon.com/images/I/419q%2BzN%2BDSL._SR38,50_.jpg|https://images-na.ssl-images-amazon.com/images/I/41BHwn0eEFL._SR38,50_.jpg|https://images-na.ssl-images-amazon.com/images/I/41BSfYba0fL._SR38,50_.jpg\"/>"
      ],
      "text/plain": [
       "<IPython.core.display.Image object>"
      ]
     },
     "metadata": {},
     "output_type": "display_data"
    },
    {
     "name": "stdout",
     "output_type": "stream",
     "text": [
      "2. jersey hood | India Cricket Jersey World Cup 2019 for Men & Boys | Polyester Dri-Fit | Unbranded (Similarity: 0.99)\n"
     ]
    },
    {
     "data": {
      "text/html": [
       "<img src=\"https://images-na.ssl-images-amazon.com/images/I/414acYwyePL._SR38,50_.jpg\"/>"
      ],
      "text/plain": [
       "<IPython.core.display.Image object>"
      ]
     },
     "metadata": {},
     "output_type": "display_data"
    },
    {
     "name": "stdout",
     "output_type": "stream",
     "text": [
      "3. Forest Club | Light Weight | Casual Wear | Quilted Jackets | Winter Jackets for Men | Hood Removable | (Similarity: 0.99)\n"
     ]
    },
    {
     "data": {
      "text/html": [
       "<img src=\"https://images-na.ssl-images-amazon.com/images/I/41er%2BybhzoL._SR38,50_.jpg|https://images-na.ssl-images-amazon.com/images/I/41b%2BEeKA9DL._SR38,50_.jpg|https://images-na.ssl-images-amazon.com/images/I/31Nf80CqPxL._SR38,50_.jpg|https://images-na.ssl-images-amazon.com/images/I/31c8t7lRXIL._SR38,50_.jpg|https://images-na.ssl-images-amazon.com/images/I/41u8ts6MIGL._SR38,50_.jpg|https://images-na.ssl-images-amazon.com/images/I/41Qo7PJwVEL._SR38,50_.jpg|https://images-na.ssl-images-amazon.com/images/I/41ouZv8T4OL._SR38,50_.jpg\"/>"
      ],
      "text/plain": [
       "<IPython.core.display.Image object>"
      ]
     },
     "metadata": {},
     "output_type": "display_data"
    },
    {
     "name": "stdout",
     "output_type": "stream",
     "text": [
      "4. Jersey Hood | Barcelona Third Jersey for Men & Boys| 2019-20 | Polyester Dri-Fit | Unbranded (Similarity: 0.99)\n"
     ]
    },
    {
     "data": {
      "text/html": [
       "<img src=\"https://images-na.ssl-images-amazon.com/images/I/41uF32m2BdL._SR38,50_.jpg\"/>"
      ],
      "text/plain": [
       "<IPython.core.display.Image object>"
      ]
     },
     "metadata": {},
     "output_type": "display_data"
    },
    {
     "name": "stdout",
     "output_type": "stream",
     "text": [
      "5. Jersey Hood | Barcelona Home Messi Jersey for Men & Boys | 2019-20 | Polyester Dri-Fit | Unbranded (Similarity: 0.99)\n"
     ]
    },
    {
     "data": {
      "text/html": [
       "<img src=\"https://images-na.ssl-images-amazon.com/images/I/41qEAcOrmRL._SR38,50_.jpg|https://images-na.ssl-images-amazon.com/images/I/410FdFpqFRL._SR38,50_.jpg|https://images-na.ssl-images-amazon.com/images/I/412MtsnljML._SR38,50_.jpg|https://images-na.ssl-images-amazon.com/images/I/41itfO5sqJL._SR38,50_.jpg\"/>"
      ],
      "text/plain": [
       "<IPython.core.display.Image object>"
      ]
     },
     "metadata": {},
     "output_type": "display_data"
    }
   ],
   "source": [
    "#CBOW (Continuous Bag of Words)...\n",
    "import pandas as pd\n",
    "from gensim.models import Word2Vec\n",
    "from sklearn.metrics.pairwise import cosine_similarity\n",
    "from IPython.display import display, Image\n",
    "\n",
    "# Load the dataset\n",
    "df = pd.read_json('C:/Users/ADMIN/Downloads/fashion_product_data.ldjson', lines=True)\n",
    "\n",
    "# Preprocess product names\n",
    "product_names = df['product_name'].fillna('').tolist()\n",
    "processed_names = [name.split() for name in product_names]  # Tokenize product names into words  \n",
    "#Splits each product name into a list of words (tokens) using split().\n",
    "\n",
    "# Train Word2Vec model using CBOW\n",
    "# Set sg=0 for CBOW (default is Skip-Gram)\n",
    "word2vec_model = Word2Vec(sentences=processed_names, vector_size=50, window=3, min_count=1, workers=4, sg=0)\n",
    "\n",
    "print(\"CBOW model trained on product names.\")\n",
    "\n",
    "# Function to get vector representation for a product\n",
    "def get_product_vector(product_name, model):\n",
    "    words = product_name.split()\n",
    "    vectors = [model.wv[word] for word in words if word in model.wv] # Fetches the word vector for each word in the product name\n",
    "    if vectors:\n",
    "        return sum(vectors) / len(vectors)  # Average vector\n",
    "    return [0] * model.vector_size  #  return Zero vector if no words are found\n",
    "\n",
    "# Function to recommend similar products\n",
    "def recommend_products_cbow(product_id, num_recommendations):\n",
    "    product_name = product_names[product_id]\n",
    "    product_vector = get_product_vector(product_name, word2vec_model)\n",
    "    \n",
    "    similarities = []\n",
    "    for i, name in enumerate(product_names):\n",
    "        if i != product_id:  # Skip the product itself\n",
    "            other_vector = get_product_vector(name, word2vec_model) #Computes the vector for another product name (other_vector).\n",
    "            similarity = cosine_similarity([product_vector], [other_vector])[0][0]\n",
    "            #cosine_similarity: Calculates similarity between product_vector and other_vector.\n",
    "            similarities.append((i, name, similarity))\n",
    "    \n",
    "    # Sort by similarity and get top N\n",
    "    similarities.sort(key=lambda x: x[2], reverse=True)\n",
    "    recommendations = similarities[:num_recommendations] #Selects the top num_recommendations most similar products..\n",
    "    \n",
    "    return recommendations\n",
    "\n",
    "# Example usage\n",
    "product_id = 5  # Choose the product ID to base recommendations on\n",
    "num_recommendations = 5  # Number of recommendations\n",
    "\n",
    "# Get recommendations\n",
    "recommendations = recommend_products_cbow(product_id, num_recommendations)\n",
    "\n",
    "# Display the selected product and recommendations\n",
    "print(f\"Recommendations for product '{product_names[product_id]}':\")\n",
    "display(Image(url=df['image_urls__small'].iloc[product_id]))  # Display image of the selected product\n",
    "\n",
    "for i, (idx, name, score) in enumerate(recommendations, 1):\n",
    "    print(f\"{i}. {name} (Similarity: {score:.2f})\")\n",
    "    display(Image(url=df['image_urls__small'].iloc[idx]))  # Display image of the recommended product\n"
   ]
  },
  {
   "cell_type": "code",
   "execution_count": 7,
   "id": "a6180a6c-16c2-4aaa-b064-3373ff08e242",
   "metadata": {},
   "outputs": [
    {
     "name": "stdout",
     "output_type": "stream",
     "text": [
      "Skip-Gram model trained on product names.\n",
      "Recommendations for product 'Forest Club | Gym Wear | Sports Shorts| Shorts for Men | Smooth Breathable Fabric | Shorts with Pocket Zippers | All TIME WEAR |':\n"
     ]
    },
    {
     "data": {
      "text/html": [
       "<img src=\"https://images-na.ssl-images-amazon.com/images/I/417-zhcsWiL._SR38,50_.jpg|https://images-na.ssl-images-amazon.com/images/I/31OvZrq-V8L._SR38,50_.jpg|https://images-na.ssl-images-amazon.com/images/I/51v8bE10KkL._SR38,50_.jpg|https://images-na.ssl-images-amazon.com/images/I/51hHbv0RPJL._SR38,50_.jpg|https://images-na.ssl-images-amazon.com/images/I/31fw-rufuWL._SR38,50_.jpg\"/>"
      ],
      "text/plain": [
       "<IPython.core.display.Image object>"
      ]
     },
     "metadata": {},
     "output_type": "display_data"
    },
    {
     "name": "stdout",
     "output_type": "stream",
     "text": [
      "1. Forest Club | Water Resistant | Light Weight | Jacket for Men with Hood | (Slim FIT) (Similarity: 0.99)\n"
     ]
    },
    {
     "data": {
      "text/html": [
       "<img src=\"https://images-na.ssl-images-amazon.com/images/I/41XCWorUD2L._SR38,50_.jpg|https://images-na.ssl-images-amazon.com/images/I/41FDtQUJ3DL._SR38,50_.jpg|https://images-na.ssl-images-amazon.com/images/I/413ERgYLHfL._SR38,50_.jpg|https://images-na.ssl-images-amazon.com/images/I/41EcVVozk7L._SR38,50_.jpg|https://images-na.ssl-images-amazon.com/images/I/419q%2BzN%2BDSL._SR38,50_.jpg|https://images-na.ssl-images-amazon.com/images/I/41BHwn0eEFL._SR38,50_.jpg|https://images-na.ssl-images-amazon.com/images/I/41BSfYba0fL._SR38,50_.jpg\"/>"
      ],
      "text/plain": [
       "<IPython.core.display.Image object>"
      ]
     },
     "metadata": {},
     "output_type": "display_data"
    },
    {
     "name": "stdout",
     "output_type": "stream",
     "text": [
      "2. Forest Club | Light Weight | Casual Wear | Quilted Jackets | Winter Jackets for Men | Hood Removable | (Similarity: 0.98)\n"
     ]
    },
    {
     "data": {
      "text/html": [
       "<img src=\"https://images-na.ssl-images-amazon.com/images/I/41er%2BybhzoL._SR38,50_.jpg|https://images-na.ssl-images-amazon.com/images/I/41b%2BEeKA9DL._SR38,50_.jpg|https://images-na.ssl-images-amazon.com/images/I/31Nf80CqPxL._SR38,50_.jpg|https://images-na.ssl-images-amazon.com/images/I/31c8t7lRXIL._SR38,50_.jpg|https://images-na.ssl-images-amazon.com/images/I/41u8ts6MIGL._SR38,50_.jpg|https://images-na.ssl-images-amazon.com/images/I/41Qo7PJwVEL._SR38,50_.jpg|https://images-na.ssl-images-amazon.com/images/I/41ouZv8T4OL._SR38,50_.jpg\"/>"
      ],
      "text/plain": [
       "<IPython.core.display.Image object>"
      ]
     },
     "metadata": {},
     "output_type": "display_data"
    },
    {
     "name": "stdout",
     "output_type": "stream",
     "text": [
      "3. Just rider Mens Stretchable Gym and Sports Wear Tshirt for Men | Bodyfit Skinny Tshirt for Gymming and Sports | Gymming Tshirt (Similarity: 0.98)\n"
     ]
    },
    {
     "data": {
      "text/html": [
       "<img src=\"https://images-na.ssl-images-amazon.com/images/I/31bdKENNVWL._SS40_.jpg|https://images-na.ssl-images-amazon.com/images/I/31NIcTtvbUL._SS40_.jpg\"/>"
      ],
      "text/plain": [
       "<IPython.core.display.Image object>"
      ]
     },
     "metadata": {},
     "output_type": "display_data"
    },
    {
     "name": "stdout",
     "output_type": "stream",
     "text": [
      "4. Just rider Mens Stretchable Gym and Sports Wear Tshirt for Men | Bodyfit Skinny Tshirt for Gymming and Sports | Gymming Tshirt (Similarity: 0.98)\n"
     ]
    },
    {
     "data": {
      "text/html": [
       "<img src=\"https://images-na.ssl-images-amazon.com/images/I/31Le6w43LGL._SS40_.jpg\"/>"
      ],
      "text/plain": [
       "<IPython.core.display.Image object>"
      ]
     },
     "metadata": {},
     "output_type": "display_data"
    },
    {
     "name": "stdout",
     "output_type": "stream",
     "text": [
      "5. Mommy Fash'n Women's Maternity Yoga Capri | 100% Organic Cotton | Soft Over-The-Belly Elastic top Support | GOTS® Certified Best for Prenatal Exercise | Active wear for Pregnancy (Similarity: 0.98)\n"
     ]
    },
    {
     "data": {
      "text/html": [
       "<img src=\"https://images-na.ssl-images-amazon.com/images/I/31d2BAs%2B5-L._SR38,50_.jpg|https://images-na.ssl-images-amazon.com/images/I/41C3L51Sw3L._SR38,50_.jpg|https://images-na.ssl-images-amazon.com/images/I/4118Di4nBIL._SR38,50_.jpg|https://images-na.ssl-images-amazon.com/images/I/41cFpLC-BmL._SR38,50_.jpg|https://images-na.ssl-images-amazon.com/images/I/41GNwx7pgzL._SR38,50_.jpg|https://images-na.ssl-images-amazon.com/images/I/41fLw6W8oSL._SR38,50_.jpg|https://images-na.ssl-images-amazon.com/images/I/51mNKJ2jOLL._SR38,50_.jpg|https://images-na.ssl-images-amazon.com/images/I/41-Ojei4vBL._SR38,50_.jpg\"/>"
      ],
      "text/plain": [
       "<IPython.core.display.Image object>"
      ]
     },
     "metadata": {},
     "output_type": "display_data"
    }
   ],
   "source": [
    "#using skip-gram\n",
    "import pandas as pd\n",
    "from gensim.models import Word2Vec\n",
    "from sklearn.metrics.pairwise import cosine_similarity\n",
    "from IPython.display import display, Image\n",
    "\n",
    "# Load the dataset\n",
    "df = pd.read_json('C:/Users/ADMIN/Downloads/fashion_product_data.ldjson', lines=True)\n",
    "\n",
    "# Preprocess product names\n",
    "product_names = df['product_name'].fillna('').tolist()\n",
    "processed_names = [name.split() for name in product_names]  # Tokenize product names into words\n",
    "\n",
    "# Train Word2Vec model using Skip-Gram\n",
    "# Set sg=1 for Skip-Gram (default is CBOW)\n",
    "word2vec_model = Word2Vec(sentences=processed_names, vector_size=50, window=3, min_count=1, workers=4, sg=1)\n",
    "\n",
    "print(\"Skip-Gram model trained on product names.\")\n",
    "\n",
    "# Function to get vector representation for a product\n",
    "def get_product_vector(product_name, model):\n",
    "    words = product_name.split()\n",
    "    vectors = [model.wv[word] for word in words if word in model.wv]\n",
    "    if vectors:\n",
    "        return sum(vectors) / len(vectors)  # Average vector\n",
    "    return [0] * model.vector_size  # Zero vector if no words are found\n",
    "\n",
    "# Function to recommend similar products\n",
    "def recommend_products_skipgram(product_id, num_recommendations):\n",
    "    product_name = product_names[product_id]\n",
    "    product_vector = get_product_vector(product_name, word2vec_model)\n",
    "    \n",
    "    similarities = []\n",
    "    for i, name in enumerate(product_names):\n",
    "        if i != product_id:  # Skip the product itself\n",
    "            other_vector = get_product_vector(name, word2vec_model)\n",
    "            similarity = cosine_similarity([product_vector], [other_vector])[0][0]\n",
    "            similarities.append((i, name, similarity))\n",
    "    \n",
    "    # Sort by similarity and get top N\n",
    "    similarities.sort(key=lambda x: x[2], reverse=True)\n",
    "    recommendations = similarities[:num_recommendations]\n",
    "    \n",
    "    return recommendations\n",
    "\n",
    "# Example usage\n",
    "product_id = 5  # Choose the product ID to base recommendations on\n",
    "num_recommendations = 5  # Number of recommendations\n",
    "\n",
    "# Get recommendations\n",
    "recommendations = recommend_products_skipgram(product_id, num_recommendations)\n",
    "\n",
    "# Display the selected product and recommendations\n",
    "print(f\"Recommendations for product '{product_names[product_id]}':\")\n",
    "display(Image(url=df['image_urls__small'].iloc[product_id]))  # Display image of the selected product\n",
    "\n",
    "for i, (idx, name, score) in enumerate(recommendations, 1):\n",
    "    print(f\"{i}. {name} (Similarity: {score:.2f})\")\n",
    "    display(Image(url=df['image_urls__small'].iloc[idx]))  # Display image of the recommended product\n"
   ]
  },
  {
   "cell_type": "code",
   "execution_count": 6,
   "id": "34ba1ccf-cd8d-4770-a24f-fe2221d1ccb1",
   "metadata": {},
   "outputs": [
    {
     "name": "stdout",
     "output_type": "stream",
     "text": [
      "Skip-Gram model trained on brand names.\n",
      "Recommendations for brand 'Forest Club':\n",
      "1. LA' Facon (Similarity: 0.00)\n",
      "2.  (Similarity: 0.00)\n",
      "3. LOVISTA (Similarity: 0.00)\n",
      "4.  (Similarity: 0.00)\n",
      "5.  (Similarity: 0.00)\n"
     ]
    }
   ],
   "source": [
    "import pandas as pd\n",
    "import numpy as np\n",
    "from sklearn.feature_extraction.text import TfidfVectorizer\n",
    "from gensim.models import Word2Vec\n",
    "from sklearn.metrics.pairwise import cosine_similarity\n",
    "\n",
    "# Load the dataset (adjust path as needed)\n",
    "df = pd.read_json('C:/Users/ADMIN/Downloads/fashion_product_data.ldjson', lines=True)\n",
    "\n",
    "# Preprocess brand names\n",
    "brand_names = df['brand'].fillna('').tolist()\n",
    "processed_brands = [name.split() for name in brand_names]  # Tokenize brand names into words\n",
    "\n",
    "# Step 1: Calculate TF-IDF for each word in brand names\n",
    "tfidf_vectorizer = TfidfVectorizer(stop_words='english')\n",
    "tfidf_matrix = tfidf_vectorizer.fit_transform(brand_names)\n",
    "\n",
    "# Step 2: Train Word2Vec model using Skip-Gram (sg=1)\n",
    "word2vec_model = Word2Vec(sentences=processed_brands, vector_size=50, window=3, min_count=1, workers=4, sg=1)\n",
    "print(\"Skip-Gram model trained on brand names.\")\n",
    "\n",
    "# Step 3: Function to convert brand names to weighted Word2Vec vectors\n",
    "def get_weighted_vector(brand_name, word2vec_model, tfidf_vectorizer, tfidf_matrix):\n",
    "    words = brand_name.split()\n",
    "    vectors = []\n",
    "    \n",
    "    # Get TF-IDF values for the current brand\n",
    "    feature_names = tfidf_vectorizer.get_feature_names_out()\n",
    "    tfidf_weights = tfidf_matrix[brand_names.index(brand_name)].toarray().flatten()\n",
    "    \n",
    "    for word in words:\n",
    "        if word in word2vec_model.wv:\n",
    "            word_idx = feature_names.tolist().index(word) if word in feature_names else -1\n",
    "            if word_idx != -1:\n",
    "                tfidf_weight = tfidf_weights[word_idx]\n",
    "                # Multiply Word2Vec vector by its TF-IDF weight\n",
    "                word_vector = word2vec_model.wv[word] * tfidf_weight\n",
    "                vectors.append(word_vector)\n",
    "    \n",
    "    if vectors:\n",
    "        # Return the average of weighted word vectors\n",
    "        return np.mean(vectors, axis=0)\n",
    "    return np.zeros(word2vec_model.vector_size)  # Return zero vector if no match\n",
    "\n",
    "# Step 4: Function to recommend similar brands based on TF-IDF weighted Word2Vec vectors\n",
    "def recommend_brands_tfidf(brand_id, num_recommendations=5):\n",
    "    brand_name = brand_names[brand_id]\n",
    "    brand_vector = get_weighted_vector(brand_name, word2vec_model, tfidf_vectorizer, tfidf_matrix)\n",
    "    \n",
    "    similarities = []\n",
    "    for i, name in enumerate(brand_names):\n",
    "        if i != brand_id:  # Skip the brand itself\n",
    "            other_vector = get_weighted_vector(name, word2vec_model, tfidf_vectorizer, tfidf_matrix)\n",
    "            similarity = cosine_similarity([brand_vector], [other_vector])[0][0]\n",
    "            similarities.append((i, name, similarity))\n",
    "    \n",
    "    # Sort by similarity and return top N recommendations\n",
    "    similarities.sort(key=lambda x: x[2], reverse=True)\n",
    "    recommendations = similarities[:num_recommendations]\n",
    "    \n",
    "    return recommendations\n",
    "\n",
    "# Example usage\n",
    "brand_id = 5  # Choose the brand ID to base recommendations on\n",
    "num_recommendations = 5  # Number of recommendations to return\n",
    "\n",
    "# Get recommendations\n",
    "recommendations = recommend_brands_tfidf(brand_id, num_recommendations)\n",
    "\n",
    "# Display the selected brand and recommendations\n",
    "print(f\"Recommendations for brand '{brand_names[brand_id]}':\")\n",
    "\n",
    "for i, (idx, name, score) in enumerate(recommendations, 1):\n",
    "    print(f\"{i}. {name} (Similarity: {score:.2f})\")\n"
   ]
  },
  {
   "cell_type": "code",
   "execution_count": 10,
   "id": "cefe673a-8c19-46f3-9f59-9c6e390deeaf",
   "metadata": {},
   "outputs": [
    {
     "name": "stdout",
     "output_type": "stream",
     "text": [
      "Recommendations for brand 'forest club':\n"
     ]
    },
    {
     "data": {
      "text/html": [
       "<img src=\"https://images-na.ssl-images-amazon.com/images/I/417-zhcsWiL._SR38,50_.jpg|https://images-na.ssl-images-amazon.com/images/I/31OvZrq-V8L._SR38,50_.jpg|https://images-na.ssl-images-amazon.com/images/I/51v8bE10KkL._SR38,50_.jpg|https://images-na.ssl-images-amazon.com/images/I/51hHbv0RPJL._SR38,50_.jpg|https://images-na.ssl-images-amazon.com/images/I/31fw-rufuWL._SR38,50_.jpg\"/>"
      ],
      "text/plain": [
       "<IPython.core.display.Image object>"
      ]
     },
     "metadata": {},
     "output_type": "display_data"
    },
    {
     "name": "stdout",
     "output_type": "stream",
     "text": [
      "1. Brand: forest club (Similarity: 1.00)\n"
     ]
    },
    {
     "data": {
      "text/html": [
       "<img src=\"https://images-na.ssl-images-amazon.com/images/I/41XCWorUD2L._SR38,50_.jpg|https://images-na.ssl-images-amazon.com/images/I/41FDtQUJ3DL._SR38,50_.jpg|https://images-na.ssl-images-amazon.com/images/I/413ERgYLHfL._SR38,50_.jpg|https://images-na.ssl-images-amazon.com/images/I/41EcVVozk7L._SR38,50_.jpg|https://images-na.ssl-images-amazon.com/images/I/419q%2BzN%2BDSL._SR38,50_.jpg|https://images-na.ssl-images-amazon.com/images/I/41BHwn0eEFL._SR38,50_.jpg|https://images-na.ssl-images-amazon.com/images/I/41BSfYba0fL._SR38,50_.jpg\"/>"
      ],
      "text/plain": [
       "<IPython.core.display.Image object>"
      ]
     },
     "metadata": {},
     "output_type": "display_data"
    },
    {
     "name": "stdout",
     "output_type": "stream",
     "text": [
      "2. Brand: forest club (Similarity: 1.00)\n"
     ]
    },
    {
     "data": {
      "text/html": [
       "<img src=\"https://images-na.ssl-images-amazon.com/images/I/41er%2BybhzoL._SR38,50_.jpg|https://images-na.ssl-images-amazon.com/images/I/41b%2BEeKA9DL._SR38,50_.jpg|https://images-na.ssl-images-amazon.com/images/I/31Nf80CqPxL._SR38,50_.jpg|https://images-na.ssl-images-amazon.com/images/I/31c8t7lRXIL._SR38,50_.jpg|https://images-na.ssl-images-amazon.com/images/I/41u8ts6MIGL._SR38,50_.jpg|https://images-na.ssl-images-amazon.com/images/I/41Qo7PJwVEL._SR38,50_.jpg|https://images-na.ssl-images-amazon.com/images/I/41ouZv8T4OL._SR38,50_.jpg\"/>"
      ],
      "text/plain": [
       "<IPython.core.display.Image object>"
      ]
     },
     "metadata": {},
     "output_type": "display_data"
    },
    {
     "name": "stdout",
     "output_type": "stream",
     "text": [
      "3. Brand: v club (Similarity: 0.73)\n"
     ]
    },
    {
     "data": {
      "text/html": [
       "<img src=\"https://images-na.ssl-images-amazon.com/images/I/41X9j90ORxL._SR38,50_.jpg|https://images-na.ssl-images-amazon.com/images/I/31hShigalmL._SR38,50_.jpg\"/>"
      ],
      "text/plain": [
       "<IPython.core.display.Image object>"
      ]
     },
     "metadata": {},
     "output_type": "display_data"
    },
    {
     "name": "stdout",
     "output_type": "stream",
     "text": [
      "4. Brand: color club 1 (Similarity: 0.62)\n"
     ]
    },
    {
     "data": {
      "text/html": [
       "<img src=\"https://images-na.ssl-images-amazon.com/images/I/31TREoIPf%2BL._SR38,50_.jpg|https://images-na.ssl-images-amazon.com/images/I/31DHXf7BXjL._SR38,50_.jpg|https://images-na.ssl-images-amazon.com/images/I/41v0x7Y3h2L._SR38,50_.jpg|https://images-na.ssl-images-amazon.com/images/I/41AzVNSqtrL._SR38,50_.jpg|https://images-na.ssl-images-amazon.com/images/I/31OishT3HuL._SR38,50_.jpg|https://images-na.ssl-images-amazon.com/images/I/31XUCo7bZ6L._SR38,50_.jpg|https://images-na.ssl-images-amazon.com/images/I/31JDVeNOPXL._SR38,50_.jpg\"/>"
      ],
      "text/plain": [
       "<IPython.core.display.Image object>"
      ]
     },
     "metadata": {},
     "output_type": "display_data"
    },
    {
     "name": "stdout",
     "output_type": "stream",
     "text": [
      "5. Brand: chopper club (Similarity: 0.55)\n"
     ]
    },
    {
     "data": {
      "text/html": [
       "<img src=\"https://images-na.ssl-images-amazon.com/images/I/41GjUxHycbL._SR38,50_.jpg|https://images-na.ssl-images-amazon.com/images/I/31Nx1pXySML._SR38,50_.jpg|https://images-na.ssl-images-amazon.com/images/I/414ixCFBE4L._SR38,50_.jpg|https://images-na.ssl-images-amazon.com/images/I/31BQbTIy78L._SR38,50_.jpg|https://images-na.ssl-images-amazon.com/images/I/31k-YiaU3PL._SR38,50_.jpg|https://images-na.ssl-images-amazon.com/images/I/416FF5gr07L._SR38,50_.jpg\"/>"
      ],
      "text/plain": [
       "<IPython.core.display.Image object>"
      ]
     },
     "metadata": {},
     "output_type": "display_data"
    }
   ],
   "source": [
    "#tf_idf with Word2Vec... \n",
    "import pandas as pd\n",
    "import numpy as np\n",
    "from sklearn.feature_extraction.text import TfidfVectorizer\n",
    "from gensim.models import Word2Vec\n",
    "from sklearn.metrics.pairwise import cosine_similarity\n",
    "from IPython.display import display, Image\n",
    "\n",
    "# Load the dataset (adjust path as needed)\n",
    "df = pd.read_json('C:/Users/ADMIN/Downloads/fashion_product_data.ldjson', lines=True)\n",
    "\n",
    "# Preprocess brand names\n",
    "df['brand'] = df['brand'].fillna('').str.lower().str.strip()\n",
    "brand_names = df['brand'].tolist()\n",
    "processed_brands = [name.split() for name in brand_names]\n",
    "\n",
    "# Train TF-IDF\n",
    "tfidf_vectorizer = TfidfVectorizer(stop_words='english')\n",
    "tfidf_matrix = tfidf_vectorizer.fit_transform(brand_names)\n",
    "\n",
    "# Train Word2Vec\n",
    "word2vec_model = Word2Vec(sentences=processed_brands, vector_size=50, window=3, min_count=1, workers=4, sg=1)\n",
    "\n",
    "# Function to get weighted vectors\n",
    "def get_weighted_vector(brand_name, word2vec_model, tfidf_vectorizer, tfidf_matrix):\n",
    "    words = brand_name.split()\n",
    "    vectors = []\n",
    "    \n",
    "    feature_names = tfidf_vectorizer.get_feature_names_out()\n",
    "    tfidf_weights = dict(zip(feature_names, tfidf_matrix[brand_names.index(brand_name)].toarray().flatten()))\n",
    "    \n",
    "    for word in words:\n",
    "        if word in word2vec_model.wv:\n",
    "            tfidf_weight = tfidf_weights.get(word, 0)\n",
    "            word_vector = word2vec_model.wv[word] * tfidf_weight\n",
    "            vectors.append(word_vector)\n",
    "    \n",
    "    if vectors:\n",
    "        return np.mean(vectors, axis=0)\n",
    "    return np.zeros(word2vec_model.vector_size)\n",
    "\n",
    "# Recommendation function\n",
    "def recommend_brands_tfidf(brand_id, num_recommendations=5):\n",
    "    brand_name = brand_names[brand_id]\n",
    "    brand_vector = get_weighted_vector(brand_name, word2vec_model, tfidf_vectorizer, tfidf_matrix)\n",
    "    \n",
    "    similarities = []\n",
    "    for i, name in enumerate(brand_names):\n",
    "        if i != brand_id:\n",
    "            other_vector = get_weighted_vector(name, word2vec_model, tfidf_vectorizer, tfidf_matrix)\n",
    "            similarity = cosine_similarity([brand_vector], [other_vector])[0][0]\n",
    "            similarities.append((i, name, similarity))\n",
    "    \n",
    "    similarities.sort(key=lambda x: x[2], reverse=True)\n",
    "    return similarities[:num_recommendations]\n",
    "\n",
    "# Example usage\n",
    "brand_id = 5  # Select a brand ID\n",
    "num_recommendations = 5\n",
    "\n",
    "recommendations = recommend_brands_tfidf(brand_id, num_recommendations)\n",
    "\n",
    "# Display results\n",
    "print(f\"Recommendations for brand '{brand_names[brand_id]}':\")\n",
    "display(Image(url=df['image_urls__small'].iloc[brand_id]))  # Adjust column name for images\n",
    "\n",
    "for i, (idx, name, score) in enumerate(recommendations, 1):\n",
    "    print(f\"{i}. Brand: {name} (Similarity: {score:.2f})\")\n",
    "    display(Image(url=df['image_urls__small'].iloc[idx]))\n"
   ]
  },
  {
   "cell_type": "code",
   "execution_count": 14,
   "id": "5dc20f31-606f-4ebe-b3cf-3dce5ef31d4b",
   "metadata": {},
   "outputs": [
    {
     "name": "stdout",
     "output_type": "stream",
     "text": [
      "Recommendations for brand 'forest club':\n"
     ]
    },
    {
     "data": {
      "text/html": [
       "<img src=\"https://images-na.ssl-images-amazon.com/images/I/417-zhcsWiL._SR38,50_.jpg|https://images-na.ssl-images-amazon.com/images/I/31OvZrq-V8L._SR38,50_.jpg|https://images-na.ssl-images-amazon.com/images/I/51v8bE10KkL._SR38,50_.jpg|https://images-na.ssl-images-amazon.com/images/I/51hHbv0RPJL._SR38,50_.jpg|https://images-na.ssl-images-amazon.com/images/I/31fw-rufuWL._SR38,50_.jpg\"/>"
      ],
      "text/plain": [
       "<IPython.core.display.Image object>"
      ]
     },
     "metadata": {},
     "output_type": "display_data"
    },
    {
     "name": "stdout",
     "output_type": "stream",
     "text": [
      "1. Brand: forest club (Similarity: 1.00)\n"
     ]
    },
    {
     "data": {
      "text/html": [
       "<img src=\"https://images-na.ssl-images-amazon.com/images/I/41XCWorUD2L._SR38,50_.jpg|https://images-na.ssl-images-amazon.com/images/I/41FDtQUJ3DL._SR38,50_.jpg|https://images-na.ssl-images-amazon.com/images/I/413ERgYLHfL._SR38,50_.jpg|https://images-na.ssl-images-amazon.com/images/I/41EcVVozk7L._SR38,50_.jpg|https://images-na.ssl-images-amazon.com/images/I/419q%2BzN%2BDSL._SR38,50_.jpg|https://images-na.ssl-images-amazon.com/images/I/41BHwn0eEFL._SR38,50_.jpg|https://images-na.ssl-images-amazon.com/images/I/41BSfYba0fL._SR38,50_.jpg\"/>"
      ],
      "text/plain": [
       "<IPython.core.display.Image object>"
      ]
     },
     "metadata": {},
     "output_type": "display_data"
    },
    {
     "name": "stdout",
     "output_type": "stream",
     "text": [
      "2. Brand: forest club (Similarity: 1.00)\n"
     ]
    },
    {
     "data": {
      "text/html": [
       "<img src=\"https://images-na.ssl-images-amazon.com/images/I/41er%2BybhzoL._SR38,50_.jpg|https://images-na.ssl-images-amazon.com/images/I/41b%2BEeKA9DL._SR38,50_.jpg|https://images-na.ssl-images-amazon.com/images/I/31Nf80CqPxL._SR38,50_.jpg|https://images-na.ssl-images-amazon.com/images/I/31c8t7lRXIL._SR38,50_.jpg|https://images-na.ssl-images-amazon.com/images/I/41u8ts6MIGL._SR38,50_.jpg|https://images-na.ssl-images-amazon.com/images/I/41Qo7PJwVEL._SR38,50_.jpg|https://images-na.ssl-images-amazon.com/images/I/41ouZv8T4OL._SR38,50_.jpg\"/>"
      ],
      "text/plain": [
       "<IPython.core.display.Image object>"
      ]
     },
     "metadata": {},
     "output_type": "display_data"
    },
    {
     "name": "stdout",
     "output_type": "stream",
     "text": [
      "3. Brand: chopper club (Similarity: 0.69)\n"
     ]
    },
    {
     "data": {
      "text/html": [
       "<img src=\"https://images-na.ssl-images-amazon.com/images/I/41GjUxHycbL._SR38,50_.jpg|https://images-na.ssl-images-amazon.com/images/I/31Nx1pXySML._SR38,50_.jpg|https://images-na.ssl-images-amazon.com/images/I/414ixCFBE4L._SR38,50_.jpg|https://images-na.ssl-images-amazon.com/images/I/31BQbTIy78L._SR38,50_.jpg|https://images-na.ssl-images-amazon.com/images/I/31k-YiaU3PL._SR38,50_.jpg|https://images-na.ssl-images-amazon.com/images/I/416FF5gr07L._SR38,50_.jpg\"/>"
      ],
      "text/plain": [
       "<IPython.core.display.Image object>"
      ]
     },
     "metadata": {},
     "output_type": "display_data"
    },
    {
     "name": "stdout",
     "output_type": "stream",
     "text": [
      "4. Brand: chopper club (Similarity: 0.69)\n"
     ]
    },
    {
     "data": {
      "text/html": [
       "<img src=\"https://images-na.ssl-images-amazon.com/images/I/413BCGizgxL._SR38,50_.jpg|https://images-na.ssl-images-amazon.com/images/I/51kbQoXa67L._SR38,50_.jpg\"/>"
      ],
      "text/plain": [
       "<IPython.core.display.Image object>"
      ]
     },
     "metadata": {},
     "output_type": "display_data"
    },
    {
     "name": "stdout",
     "output_type": "stream",
     "text": [
      "5. Brand: chopper club (Similarity: 0.69)\n"
     ]
    },
    {
     "data": {
      "text/html": [
       "<img src=\"https://images-na.ssl-images-amazon.com/images/I/31arnKK1UeL._SR38,50_.jpg|https://images-na.ssl-images-amazon.com/images/I/31YjZmRl5PL._SR38,50_.jpg|https://images-na.ssl-images-amazon.com/images/I/31BV77-r4WL._SR38,50_.jpg\"/>"
      ],
      "text/plain": [
       "<IPython.core.display.Image object>"
      ]
     },
     "metadata": {},
     "output_type": "display_data"
    }
   ],
   "source": [
    "#word2Vec  For brands...\n",
    "\n",
    "import pandas as pd\n",
    "import numpy as np\n",
    "from gensim.models import Word2Vec\n",
    "from sklearn.metrics.pairwise import cosine_similarity\n",
    "from IPython.display import display, Image\n",
    "\n",
    "# Load the dataset (adjust path as needed)\n",
    "df = pd.read_json('C:/Users/ADMIN/Downloads/fashion_product_data.ldjson', lines=True)\n",
    "\n",
    "# Preprocess brand names\n",
    "df['brand'] = df['brand'].fillna('').str.lower().str.strip()\n",
    "brand_names = df['brand'].tolist()\n",
    "processed_brands = [name.split() for name in brand_names]  # Tokenize brand names into words\n",
    "\n",
    "# Train Word2Vec using Skip-Gram (sg=1)\n",
    "word2vec_model = Word2Vec(sentences=processed_brands, vector_size=50, window=3, min_count=1, workers=4, sg=1)\n",
    "#print(\"Skip-Gram model trained on brand names.\")\n",
    "\n",
    "# Function to convert brand names into Word2Vec vectors\n",
    "def get_brand_vector(brand_name, word2vec_model):\n",
    "    words = brand_name.split()\n",
    "    vectors = [word2vec_model.wv[word] for word in words if word in word2vec_model.wv]\n",
    "    \n",
    "    if vectors:\n",
    "        # Return the average vector for the brand name\n",
    "        return np.mean(vectors, axis=0)\n",
    "    return np.zeros(word2vec_model.vector_size)  # Return zero vector if no valid words\n",
    "\n",
    "# Function to recommend similar brands\n",
    "def recommend_brands_word2vec(brand_id, num_recommendations=5):\n",
    "    brand_name = brand_names[brand_id]\n",
    "    brand_vector = get_brand_vector(brand_name, word2vec_model)\n",
    "    \n",
    "    similarities = []\n",
    "    for i, name in enumerate(brand_names):\n",
    "        if i != brand_id:\n",
    "            other_vector = get_brand_vector(name, word2vec_model)\n",
    "            similarity = cosine_similarity([brand_vector], [other_vector])[0][0]\n",
    "            similarities.append((i, name, similarity))\n",
    "    \n",
    "    # Sort by similarity and return top N recommendations\n",
    "    similarities.sort(key=lambda x: x[2], reverse=True)\n",
    "    return similarities[:num_recommendations]\n",
    "\n",
    "# Example usage\n",
    "brand_id = 5  # Select a brand ID to base recommendations on\n",
    "num_recommendations = 5  # Number of recommendations to return\n",
    "\n",
    "# Get recommendations\n",
    "recommendations = recommend_brands_word2vec(brand_id, num_recommendations)\n",
    "\n",
    "# Display results\n",
    "print(f\"Recommendations for brand '{brand_names[brand_id]}':\")\n",
    "display(Image(url=df['image_urls__small'].iloc[brand_id]))  # Display image for the selected brand\n",
    "\n",
    "for i, (idx, name, score) in enumerate(recommendations, 1):\n",
    "    print(f\"{i}. Brand: {name} (Similarity: {score:.2f})\")\n",
    "    display(Image(url=df['image_urls__small'].iloc[idx]))\n"
   ]
  },
  {
   "cell_type": "code",
   "execution_count": 16,
   "id": "ca44dee3-b474-487b-b2e2-e6ed1a778651",
   "metadata": {},
   "outputs": [
    {
     "name": "stdout",
     "output_type": "stream",
     "text": [
      "TF-IDF matrix calculated for brand names.\n",
      "Recommendations for brand 'forest club':\n"
     ]
    },
    {
     "data": {
      "text/html": [
       "<img src=\"https://images-na.ssl-images-amazon.com/images/I/417-zhcsWiL._SR38,50_.jpg|https://images-na.ssl-images-amazon.com/images/I/31OvZrq-V8L._SR38,50_.jpg|https://images-na.ssl-images-amazon.com/images/I/51v8bE10KkL._SR38,50_.jpg|https://images-na.ssl-images-amazon.com/images/I/51hHbv0RPJL._SR38,50_.jpg|https://images-na.ssl-images-amazon.com/images/I/31fw-rufuWL._SR38,50_.jpg\"/>"
      ],
      "text/plain": [
       "<IPython.core.display.Image object>"
      ]
     },
     "metadata": {},
     "output_type": "display_data"
    },
    {
     "name": "stdout",
     "output_type": "stream",
     "text": [
      "1. Brand: forest club (Similarity: 1.00)\n"
     ]
    },
    {
     "data": {
      "text/html": [
       "<img src=\"https://images-na.ssl-images-amazon.com/images/I/41er%2BybhzoL._SR38,50_.jpg|https://images-na.ssl-images-amazon.com/images/I/41b%2BEeKA9DL._SR38,50_.jpg|https://images-na.ssl-images-amazon.com/images/I/31Nf80CqPxL._SR38,50_.jpg|https://images-na.ssl-images-amazon.com/images/I/31c8t7lRXIL._SR38,50_.jpg|https://images-na.ssl-images-amazon.com/images/I/41u8ts6MIGL._SR38,50_.jpg|https://images-na.ssl-images-amazon.com/images/I/41Qo7PJwVEL._SR38,50_.jpg|https://images-na.ssl-images-amazon.com/images/I/41ouZv8T4OL._SR38,50_.jpg\"/>"
      ],
      "text/plain": [
       "<IPython.core.display.Image object>"
      ]
     },
     "metadata": {},
     "output_type": "display_data"
    },
    {
     "name": "stdout",
     "output_type": "stream",
     "text": [
      "2. Brand: forest club (Similarity: 1.00)\n"
     ]
    },
    {
     "data": {
      "text/html": [
       "<img src=\"https://images-na.ssl-images-amazon.com/images/I/41XCWorUD2L._SR38,50_.jpg|https://images-na.ssl-images-amazon.com/images/I/41FDtQUJ3DL._SR38,50_.jpg|https://images-na.ssl-images-amazon.com/images/I/413ERgYLHfL._SR38,50_.jpg|https://images-na.ssl-images-amazon.com/images/I/41EcVVozk7L._SR38,50_.jpg|https://images-na.ssl-images-amazon.com/images/I/419q%2BzN%2BDSL._SR38,50_.jpg|https://images-na.ssl-images-amazon.com/images/I/41BHwn0eEFL._SR38,50_.jpg|https://images-na.ssl-images-amazon.com/images/I/41BSfYba0fL._SR38,50_.jpg\"/>"
      ],
      "text/plain": [
       "<IPython.core.display.Image object>"
      ]
     },
     "metadata": {},
     "output_type": "display_data"
    },
    {
     "name": "stdout",
     "output_type": "stream",
     "text": [
      "3. Brand: v club (Similarity: 0.59)\n"
     ]
    },
    {
     "data": {
      "text/html": [
       "<img src=\"https://images-na.ssl-images-amazon.com/images/I/41X9j90ORxL._SR38,50_.jpg|https://images-na.ssl-images-amazon.com/images/I/31hShigalmL._SR38,50_.jpg\"/>"
      ],
      "text/plain": [
       "<IPython.core.display.Image object>"
      ]
     },
     "metadata": {},
     "output_type": "display_data"
    },
    {
     "name": "stdout",
     "output_type": "stream",
     "text": [
      "4. Brand: club fashion (Similarity: 0.49)\n"
     ]
    },
    {
     "data": {
      "text/html": [
       "<img src=\"https://images-na.ssl-images-amazon.com/images/I/41IJ3pa0SQL._SR38,50_.jpg|https://images-na.ssl-images-amazon.com/images/I/31veMFFLeTL._SR38,50_.jpg|https://images-na.ssl-images-amazon.com/images/I/31khcdpeR5L._SR38,50_.jpg|https://images-na.ssl-images-amazon.com/images/I/31ocT4On7GL._SR38,50_.jpg|https://images-na.ssl-images-amazon.com/images/I/51FTzJ7Hn%2BL._SR38,50_.jpg\"/>"
      ],
      "text/plain": [
       "<IPython.core.display.Image object>"
      ]
     },
     "metadata": {},
     "output_type": "display_data"
    },
    {
     "name": "stdout",
     "output_type": "stream",
     "text": [
      "5. Brand: club fashion (Similarity: 0.49)\n"
     ]
    },
    {
     "data": {
      "text/html": [
       "<img src=\"https://images-na.ssl-images-amazon.com/images/I/31VF1pisxnL._SR38,50_.jpg|https://images-na.ssl-images-amazon.com/images/I/31RoduDr81L._SR38,50_.jpg|https://images-na.ssl-images-amazon.com/images/I/31PhOMRtfSL._SR38,50_.jpg|https://images-na.ssl-images-amazon.com/images/I/31Pi-Ye3NGL._SR38,50_.jpg|https://images-na.ssl-images-amazon.com/images/I/41SFDCRBjHL._SR38,50_.jpg\"/>"
      ],
      "text/plain": [
       "<IPython.core.display.Image object>"
      ]
     },
     "metadata": {},
     "output_type": "display_data"
    }
   ],
   "source": [
    "#TF-IDF  for brands... \n",
    "import pandas as pd\n",
    "from sklearn.feature_extraction.text import TfidfVectorizer\n",
    "from sklearn.metrics.pairwise import cosine_similarity\n",
    "from IPython.display import display, Image\n",
    "\n",
    "# Load the dataset (adjust path as needed)\n",
    "df = pd.read_json('C:/Users/ADMIN/Downloads/fashion_product_data.ldjson', lines=True)\n",
    "\n",
    "# Preprocess brand names\n",
    "df['brand'] = df['brand'].fillna('').str.lower().str.strip()\n",
    "brand_names = df['brand'].tolist()\n",
    "\n",
    "# Step 1: Calculate TF-IDF for brand names\n",
    "tfidf_vectorizer = TfidfVectorizer(stop_words='english')\n",
    "tfidf_matrix = tfidf_vectorizer.fit_transform(brand_names)\n",
    "print(\"TF-IDF matrix calculated for brand names.\")\n",
    "\n",
    "# Step 2: Function to recommend similar brands based on TF-IDF\n",
    "def recommend_brands_tfidf(brand_id, num_recommendations=5):\n",
    "    # Get the TF-IDF vector for the selected brand\n",
    "    brand_vector = tfidf_matrix[brand_id]\n",
    "    \n",
    "    # Calculate cosine similarity between the selected brand and all other brands\n",
    "    similarity_scores = cosine_similarity(brand_vector, tfidf_matrix).flatten()\n",
    "    \n",
    "    # Exclude the selected brand and sort by similarity scores\n",
    "    similarity_scores[brand_id] = -1  # Ignore the brand itself\n",
    "    top_indices = similarity_scores.argsort()[::-1][:num_recommendations]\n",
    "    \n",
    "    # Get recommendations\n",
    "    recommendations = [(i, brand_names[i], similarity_scores[i]) for i in top_indices]\n",
    "    return recommendations\n",
    "\n",
    "# Example usage\n",
    "brand_id = 5  # Select a brand ID to base recommendations on\n",
    "num_recommendations = 5  # Number of recommendations to return\n",
    "\n",
    "# Get recommendations\n",
    "recommendations = recommend_brands_tfidf(brand_id, num_recommendations)\n",
    "\n",
    "# Display results\n",
    "print(f\"Recommendations for brand '{brand_names[brand_id]}':\")\n",
    "display(Image(url=df['image_urls__small'].iloc[brand_id]))  # Display image for the selected brand\n",
    "\n",
    "for i, (idx, name, score) in enumerate(recommendations, 1):\n",
    "    print(f\"{i}. Brand: {name} (Similarity: {score:.2f})\")\n",
    "    display(Image(url=df['image_urls__small'].iloc[idx]))\n"
   ]
  },
  {
   "cell_type": "code",
   "execution_count": null,
   "id": "6761b6bf-1d08-4312-8b46-6c108980c538",
   "metadata": {},
   "outputs": [],
   "source": []
  }
 ],
 "metadata": {
  "kernelspec": {
   "display_name": "Python 3 (ipykernel)",
   "language": "python",
   "name": "python3"
  },
  "language_info": {
   "codemirror_mode": {
    "name": "ipython",
    "version": 3
   },
   "file_extension": ".py",
   "mimetype": "text/x-python",
   "name": "python",
   "nbconvert_exporter": "python",
   "pygments_lexer": "ipython3",
   "version": "3.11.7"
  }
 },
 "nbformat": 4,
 "nbformat_minor": 5
}
