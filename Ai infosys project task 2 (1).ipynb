{
 "cells": [
  {
   "cell_type": "markdown",
   "id": "4897ed4c-692d-441c-92aa-09e393f1641a",
   "metadata": {},
   "source": [
    "TASK 1"
   ]
  },
  {
   "cell_type": "code",
   "execution_count": 1,
   "id": "7b62d9a0-98b2-4799-8654-d5c52002472c",
   "metadata": {},
   "outputs": [
    {
     "name": "stdout",
     "output_type": "stream",
     "text": [
      "Dataset loaded\n"
     ]
    }
   ],
   "source": [
    "import pandas as pd\n",
    "\n",
    "# Load the dataset from a JSON file, specifying lines=True for ldjson\n",
    "df = pd.read_json(r\"C:\\Users\\ANGELIN\\Downloads\\fashion_products_data.ldjson\", lines=True)\n",
    "print(\"Dataset loaded\")"
   ]
  },
  {
   "cell_type": "code",
   "execution_count": 2,
   "id": "dd6146c8-0a96-4d45-9790-792b43cdb1bb",
   "metadata": {},
   "outputs": [
    {
     "data": {
      "text/html": [
       "<div>\n",
       "<style scoped>\n",
       "    .dataframe tbody tr th:only-of-type {\n",
       "        vertical-align: middle;\n",
       "    }\n",
       "\n",
       "    .dataframe tbody tr th {\n",
       "        vertical-align: top;\n",
       "    }\n",
       "\n",
       "    .dataframe thead th {\n",
       "        text-align: right;\n",
       "    }\n",
       "</style>\n",
       "<table border=\"1\" class=\"dataframe\">\n",
       "  <thead>\n",
       "    <tr style=\"text-align: right;\">\n",
       "      <th></th>\n",
       "      <th>uniq_id</th>\n",
       "      <th>crawl_timestamp</th>\n",
       "      <th>asin</th>\n",
       "      <th>product_url</th>\n",
       "      <th>product_name</th>\n",
       "      <th>image_urls__small</th>\n",
       "      <th>medium</th>\n",
       "      <th>large</th>\n",
       "      <th>browsenode</th>\n",
       "      <th>brand</th>\n",
       "      <th>...</th>\n",
       "      <th>colour</th>\n",
       "      <th>no__of_reviews</th>\n",
       "      <th>seller_name</th>\n",
       "      <th>seller_id</th>\n",
       "      <th>left_in_stock</th>\n",
       "      <th>no__of_offers</th>\n",
       "      <th>no__of_sellers</th>\n",
       "      <th>technical_details__k_v_pairs</th>\n",
       "      <th>formats___editions</th>\n",
       "      <th>name_of_author_for_books</th>\n",
       "    </tr>\n",
       "  </thead>\n",
       "  <tbody>\n",
       "    <tr>\n",
       "      <th>0</th>\n",
       "      <td>26d41bdc1495de290bc8e6062d927729</td>\n",
       "      <td>2020-02-07 05:11:36 +0000</td>\n",
       "      <td>B07STS2W9T</td>\n",
       "      <td>https://www.amazon.in/Facon-Kalamkari-Handbloc...</td>\n",
       "      <td>LA' Facon Cotton Kalamkari Handblock Saree Blo...</td>\n",
       "      <td>https://images-na.ssl-images-amazon.com/images...</td>\n",
       "      <td>https://images-na.ssl-images-amazon.com/images...</td>\n",
       "      <td>https://images-na.ssl-images-amazon.com/images...</td>\n",
       "      <td>1.968255e+09</td>\n",
       "      <td>LA' Facon</td>\n",
       "      <td>...</td>\n",
       "      <td>NaN</td>\n",
       "      <td>NaN</td>\n",
       "      <td>NaN</td>\n",
       "      <td>NaN</td>\n",
       "      <td>NaN</td>\n",
       "      <td>NaN</td>\n",
       "      <td>NaN</td>\n",
       "      <td>NaN</td>\n",
       "      <td>NaN</td>\n",
       "      <td>NaN</td>\n",
       "    </tr>\n",
       "    <tr>\n",
       "      <th>1</th>\n",
       "      <td>410c62298852e68f34c35560f2311e5a</td>\n",
       "      <td>2020-02-07 08:45:56 +0000</td>\n",
       "      <td>B07N6TD2WL</td>\n",
       "      <td>https://www.amazon.in/Sf-Jeans-Pantaloons-T-Sh...</td>\n",
       "      <td>Sf Jeans By Pantaloons Men's Plain Slim fit T-...</td>\n",
       "      <td>https://images-na.ssl-images-amazon.com/images...</td>\n",
       "      <td>https://images-na.ssl-images-amazon.com/images...</td>\n",
       "      <td>https://images-na.ssl-images-amazon.com/images...</td>\n",
       "      <td>1.968123e+09</td>\n",
       "      <td>NaN</td>\n",
       "      <td>...</td>\n",
       "      <td>NaN</td>\n",
       "      <td>NaN</td>\n",
       "      <td>NaN</td>\n",
       "      <td>NaN</td>\n",
       "      <td>NaN</td>\n",
       "      <td>NaN</td>\n",
       "      <td>NaN</td>\n",
       "      <td>NaN</td>\n",
       "      <td>NaN</td>\n",
       "      <td>NaN</td>\n",
       "    </tr>\n",
       "    <tr>\n",
       "      <th>2</th>\n",
       "      <td>52e31bb31680b0ec73de0d781a23cc0a</td>\n",
       "      <td>2020-02-06 11:09:38 +0000</td>\n",
       "      <td>B07WJ6WPN1</td>\n",
       "      <td>https://www.amazon.in/LOVISTA-Traditional-Prin...</td>\n",
       "      <td>LOVISTA Cotton Gota Patti Tassel Traditional P...</td>\n",
       "      <td>https://images-na.ssl-images-amazon.com/images...</td>\n",
       "      <td>https://images-na.ssl-images-amazon.com/images...</td>\n",
       "      <td>https://images-na.ssl-images-amazon.com/images...</td>\n",
       "      <td>1.968255e+09</td>\n",
       "      <td>LOVISTA</td>\n",
       "      <td>...</td>\n",
       "      <td>NaN</td>\n",
       "      <td>NaN</td>\n",
       "      <td>NaN</td>\n",
       "      <td>NaN</td>\n",
       "      <td>NaN</td>\n",
       "      <td>NaN</td>\n",
       "      <td>NaN</td>\n",
       "      <td>NaN</td>\n",
       "      <td>NaN</td>\n",
       "      <td>NaN</td>\n",
       "    </tr>\n",
       "    <tr>\n",
       "      <th>3</th>\n",
       "      <td>25798d6dc43239c118452d1bee0fb088</td>\n",
       "      <td>2020-02-07 08:32:45 +0000</td>\n",
       "      <td>B07PYSF4WZ</td>\n",
       "      <td>https://www.amazon.in/People-Printed-Regular-T...</td>\n",
       "      <td>People Men's Printed Regular fit T-Shirt</td>\n",
       "      <td>https://images-na.ssl-images-amazon.com/images...</td>\n",
       "      <td>https://images-na.ssl-images-amazon.com/images...</td>\n",
       "      <td>https://images-na.ssl-images-amazon.com/images...</td>\n",
       "      <td>1.968123e+09</td>\n",
       "      <td>NaN</td>\n",
       "      <td>...</td>\n",
       "      <td>NaN</td>\n",
       "      <td>NaN</td>\n",
       "      <td>NaN</td>\n",
       "      <td>NaN</td>\n",
       "      <td>NaN</td>\n",
       "      <td>NaN</td>\n",
       "      <td>NaN</td>\n",
       "      <td>NaN</td>\n",
       "      <td>NaN</td>\n",
       "      <td>NaN</td>\n",
       "    </tr>\n",
       "    <tr>\n",
       "      <th>4</th>\n",
       "      <td>ad8a5a196d515ef09dfdaf082bdc37c4</td>\n",
       "      <td>2020-02-06 14:27:48 +0000</td>\n",
       "      <td>B082KXNM7X</td>\n",
       "      <td>https://www.amazon.in/Monte-Carlo-Cotton-Colla...</td>\n",
       "      <td>Monte Carlo Grey Solid Cotton Blend Polo Colla...</td>\n",
       "      <td>https://images-na.ssl-images-amazon.com/images...</td>\n",
       "      <td>https://images-na.ssl-images-amazon.com/images...</td>\n",
       "      <td>https://images-na.ssl-images-amazon.com/images...</td>\n",
       "      <td>1.968070e+09</td>\n",
       "      <td>NaN</td>\n",
       "      <td>...</td>\n",
       "      <td>NaN</td>\n",
       "      <td>NaN</td>\n",
       "      <td>NaN</td>\n",
       "      <td>NaN</td>\n",
       "      <td>NaN</td>\n",
       "      <td>NaN</td>\n",
       "      <td>NaN</td>\n",
       "      <td>NaN</td>\n",
       "      <td>NaN</td>\n",
       "      <td>NaN</td>\n",
       "    </tr>\n",
       "    <tr>\n",
       "      <th>...</th>\n",
       "      <td>...</td>\n",
       "      <td>...</td>\n",
       "      <td>...</td>\n",
       "      <td>...</td>\n",
       "      <td>...</td>\n",
       "      <td>...</td>\n",
       "      <td>...</td>\n",
       "      <td>...</td>\n",
       "      <td>...</td>\n",
       "      <td>...</td>\n",
       "      <td>...</td>\n",
       "      <td>...</td>\n",
       "      <td>...</td>\n",
       "      <td>...</td>\n",
       "      <td>...</td>\n",
       "      <td>...</td>\n",
       "      <td>...</td>\n",
       "      <td>...</td>\n",
       "      <td>...</td>\n",
       "      <td>...</td>\n",
       "      <td>...</td>\n",
       "    </tr>\n",
       "    <tr>\n",
       "      <th>29995</th>\n",
       "      <td>976b6bda7076509778da69eb3fe0f59c</td>\n",
       "      <td>2020-02-06 23:53:43 +0000</td>\n",
       "      <td>B07FVRMFTX</td>\n",
       "      <td>https://www.amazon.in/Indian-Virasat-Pushp-Cha...</td>\n",
       "      <td>Indian Virasat Women's Rayon Anarkali Kurta</td>\n",
       "      <td>https://images-na.ssl-images-amazon.com/images...</td>\n",
       "      <td>https://images-na.ssl-images-amazon.com/images...</td>\n",
       "      <td>https://images-na.ssl-images-amazon.com/images...</td>\n",
       "      <td>1.968255e+09</td>\n",
       "      <td>NaN</td>\n",
       "      <td>...</td>\n",
       "      <td>NaN</td>\n",
       "      <td>NaN</td>\n",
       "      <td>NaN</td>\n",
       "      <td>NaN</td>\n",
       "      <td>NaN</td>\n",
       "      <td>NaN</td>\n",
       "      <td>NaN</td>\n",
       "      <td>NaN</td>\n",
       "      <td>NaN</td>\n",
       "      <td>NaN</td>\n",
       "    </tr>\n",
       "    <tr>\n",
       "      <th>29996</th>\n",
       "      <td>3006a520f71804b055d92216f5dc946d</td>\n",
       "      <td>2020-02-06 20:32:09 +0000</td>\n",
       "      <td>B07RR3XYZD</td>\n",
       "      <td>https://www.amazon.in/Urban-Ranger-Pantaloons-...</td>\n",
       "      <td>Urban Ranger by Pantaloons Men's Slim fit T-Shirt</td>\n",
       "      <td>https://images-na.ssl-images-amazon.com/images...</td>\n",
       "      <td>https://images-na.ssl-images-amazon.com/images...</td>\n",
       "      <td>https://images-na.ssl-images-amazon.com/images...</td>\n",
       "      <td>1.968123e+09</td>\n",
       "      <td>Urban Ranger by Pantaloons</td>\n",
       "      <td>...</td>\n",
       "      <td>NaN</td>\n",
       "      <td>NaN</td>\n",
       "      <td>NaN</td>\n",
       "      <td>NaN</td>\n",
       "      <td>NaN</td>\n",
       "      <td>NaN</td>\n",
       "      <td>NaN</td>\n",
       "      <td>NaN</td>\n",
       "      <td>NaN</td>\n",
       "      <td>NaN</td>\n",
       "    </tr>\n",
       "    <tr>\n",
       "      <th>29997</th>\n",
       "      <td>45ea7c463997f4cd91851617edbfee32</td>\n",
       "      <td>2020-02-06 19:55:44 +0000</td>\n",
       "      <td>B07SSLSR9X</td>\n",
       "      <td>https://www.amazon.in/Peter-England-Striped-Re...</td>\n",
       "      <td>Peter England Men's Regular fit T-Shirt</td>\n",
       "      <td>https://images-na.ssl-images-amazon.com/images...</td>\n",
       "      <td>https://images-na.ssl-images-amazon.com/images...</td>\n",
       "      <td>https://images-na.ssl-images-amazon.com/images...</td>\n",
       "      <td>1.968123e+09</td>\n",
       "      <td>NaN</td>\n",
       "      <td>...</td>\n",
       "      <td>NaN</td>\n",
       "      <td>NaN</td>\n",
       "      <td>NaN</td>\n",
       "      <td>NaN</td>\n",
       "      <td>NaN</td>\n",
       "      <td>NaN</td>\n",
       "      <td>NaN</td>\n",
       "      <td>NaN</td>\n",
       "      <td>NaN</td>\n",
       "      <td>NaN</td>\n",
       "    </tr>\n",
       "    <tr>\n",
       "      <th>29998</th>\n",
       "      <td>2ecada524df6ff8c2d0c53a249cfcddc</td>\n",
       "      <td>2020-02-06 05:08:00 +0000</td>\n",
       "      <td>B07P561W67</td>\n",
       "      <td>https://www.amazon.in/PINKY-PARI-Womens-Embroi...</td>\n",
       "      <td>PINKY PARI Women's Embroidered Short Denim Str...</td>\n",
       "      <td>https://images-na.ssl-images-amazon.com/images...</td>\n",
       "      <td>https://images-na.ssl-images-amazon.com/images...</td>\n",
       "      <td>https://images-na.ssl-images-amazon.com/images...</td>\n",
       "      <td>1.968255e+09</td>\n",
       "      <td>PINKY PARI</td>\n",
       "      <td>...</td>\n",
       "      <td>DARK BLUE (BEIGE)|DARK BLUE (RED)|LIGHT BLUE</td>\n",
       "      <td>NaN</td>\n",
       "      <td>NaN</td>\n",
       "      <td>NaN</td>\n",
       "      <td>NaN</td>\n",
       "      <td>NaN</td>\n",
       "      <td>NaN</td>\n",
       "      <td>NaN</td>\n",
       "      <td>NaN</td>\n",
       "      <td>NaN</td>\n",
       "    </tr>\n",
       "    <tr>\n",
       "      <th>29999</th>\n",
       "      <td>a4e77b9b1addb68bdfc4b178ac27e7c2</td>\n",
       "      <td>2020-02-06 23:32:41 +0000</td>\n",
       "      <td>B07GPQ7V5W</td>\n",
       "      <td>https://www.amazon.in/Gutsy-Triple-Striped-Sle...</td>\n",
       "      <td>Gutsy Men's Full Sleeve All Over Printed Navy ...</td>\n",
       "      <td>https://images-na.ssl-images-amazon.com/images...</td>\n",
       "      <td>https://images-na.ssl-images-amazon.com/images...</td>\n",
       "      <td>https://images-na.ssl-images-amazon.com/images...</td>\n",
       "      <td>1.968123e+09</td>\n",
       "      <td>Gutsy</td>\n",
       "      <td>...</td>\n",
       "      <td>NaN</td>\n",
       "      <td>NaN</td>\n",
       "      <td>NaN</td>\n",
       "      <td>NaN</td>\n",
       "      <td>NaN</td>\n",
       "      <td>NaN</td>\n",
       "      <td>NaN</td>\n",
       "      <td>NaN</td>\n",
       "      <td>NaN</td>\n",
       "      <td>NaN</td>\n",
       "    </tr>\n",
       "  </tbody>\n",
       "</table>\n",
       "<p>30000 rows × 33 columns</p>\n",
       "</div>"
      ],
      "text/plain": [
       "                                uniq_id            crawl_timestamp  \\\n",
       "0      26d41bdc1495de290bc8e6062d927729  2020-02-07 05:11:36 +0000   \n",
       "1      410c62298852e68f34c35560f2311e5a  2020-02-07 08:45:56 +0000   \n",
       "2      52e31bb31680b0ec73de0d781a23cc0a  2020-02-06 11:09:38 +0000   \n",
       "3      25798d6dc43239c118452d1bee0fb088  2020-02-07 08:32:45 +0000   \n",
       "4      ad8a5a196d515ef09dfdaf082bdc37c4  2020-02-06 14:27:48 +0000   \n",
       "...                                 ...                        ...   \n",
       "29995  976b6bda7076509778da69eb3fe0f59c  2020-02-06 23:53:43 +0000   \n",
       "29996  3006a520f71804b055d92216f5dc946d  2020-02-06 20:32:09 +0000   \n",
       "29997  45ea7c463997f4cd91851617edbfee32  2020-02-06 19:55:44 +0000   \n",
       "29998  2ecada524df6ff8c2d0c53a249cfcddc  2020-02-06 05:08:00 +0000   \n",
       "29999  a4e77b9b1addb68bdfc4b178ac27e7c2  2020-02-06 23:32:41 +0000   \n",
       "\n",
       "             asin                                        product_url  \\\n",
       "0      B07STS2W9T  https://www.amazon.in/Facon-Kalamkari-Handbloc...   \n",
       "1      B07N6TD2WL  https://www.amazon.in/Sf-Jeans-Pantaloons-T-Sh...   \n",
       "2      B07WJ6WPN1  https://www.amazon.in/LOVISTA-Traditional-Prin...   \n",
       "3      B07PYSF4WZ  https://www.amazon.in/People-Printed-Regular-T...   \n",
       "4      B082KXNM7X  https://www.amazon.in/Monte-Carlo-Cotton-Colla...   \n",
       "...           ...                                                ...   \n",
       "29995  B07FVRMFTX  https://www.amazon.in/Indian-Virasat-Pushp-Cha...   \n",
       "29996  B07RR3XYZD  https://www.amazon.in/Urban-Ranger-Pantaloons-...   \n",
       "29997  B07SSLSR9X  https://www.amazon.in/Peter-England-Striped-Re...   \n",
       "29998  B07P561W67  https://www.amazon.in/PINKY-PARI-Womens-Embroi...   \n",
       "29999  B07GPQ7V5W  https://www.amazon.in/Gutsy-Triple-Striped-Sle...   \n",
       "\n",
       "                                            product_name  \\\n",
       "0      LA' Facon Cotton Kalamkari Handblock Saree Blo...   \n",
       "1      Sf Jeans By Pantaloons Men's Plain Slim fit T-...   \n",
       "2      LOVISTA Cotton Gota Patti Tassel Traditional P...   \n",
       "3               People Men's Printed Regular fit T-Shirt   \n",
       "4      Monte Carlo Grey Solid Cotton Blend Polo Colla...   \n",
       "...                                                  ...   \n",
       "29995        Indian Virasat Women's Rayon Anarkali Kurta   \n",
       "29996  Urban Ranger by Pantaloons Men's Slim fit T-Shirt   \n",
       "29997            Peter England Men's Regular fit T-Shirt   \n",
       "29998  PINKY PARI Women's Embroidered Short Denim Str...   \n",
       "29999  Gutsy Men's Full Sleeve All Over Printed Navy ...   \n",
       "\n",
       "                                       image_urls__small  \\\n",
       "0      https://images-na.ssl-images-amazon.com/images...   \n",
       "1      https://images-na.ssl-images-amazon.com/images...   \n",
       "2      https://images-na.ssl-images-amazon.com/images...   \n",
       "3      https://images-na.ssl-images-amazon.com/images...   \n",
       "4      https://images-na.ssl-images-amazon.com/images...   \n",
       "...                                                  ...   \n",
       "29995  https://images-na.ssl-images-amazon.com/images...   \n",
       "29996  https://images-na.ssl-images-amazon.com/images...   \n",
       "29997  https://images-na.ssl-images-amazon.com/images...   \n",
       "29998  https://images-na.ssl-images-amazon.com/images...   \n",
       "29999  https://images-na.ssl-images-amazon.com/images...   \n",
       "\n",
       "                                                  medium  \\\n",
       "0      https://images-na.ssl-images-amazon.com/images...   \n",
       "1      https://images-na.ssl-images-amazon.com/images...   \n",
       "2      https://images-na.ssl-images-amazon.com/images...   \n",
       "3      https://images-na.ssl-images-amazon.com/images...   \n",
       "4      https://images-na.ssl-images-amazon.com/images...   \n",
       "...                                                  ...   \n",
       "29995  https://images-na.ssl-images-amazon.com/images...   \n",
       "29996  https://images-na.ssl-images-amazon.com/images...   \n",
       "29997  https://images-na.ssl-images-amazon.com/images...   \n",
       "29998  https://images-na.ssl-images-amazon.com/images...   \n",
       "29999  https://images-na.ssl-images-amazon.com/images...   \n",
       "\n",
       "                                                   large    browsenode  \\\n",
       "0      https://images-na.ssl-images-amazon.com/images...  1.968255e+09   \n",
       "1      https://images-na.ssl-images-amazon.com/images...  1.968123e+09   \n",
       "2      https://images-na.ssl-images-amazon.com/images...  1.968255e+09   \n",
       "3      https://images-na.ssl-images-amazon.com/images...  1.968123e+09   \n",
       "4      https://images-na.ssl-images-amazon.com/images...  1.968070e+09   \n",
       "...                                                  ...           ...   \n",
       "29995  https://images-na.ssl-images-amazon.com/images...  1.968255e+09   \n",
       "29996  https://images-na.ssl-images-amazon.com/images...  1.968123e+09   \n",
       "29997  https://images-na.ssl-images-amazon.com/images...  1.968123e+09   \n",
       "29998  https://images-na.ssl-images-amazon.com/images...  1.968255e+09   \n",
       "29999  https://images-na.ssl-images-amazon.com/images...  1.968123e+09   \n",
       "\n",
       "                            brand  ...  \\\n",
       "0                       LA' Facon  ...   \n",
       "1                             NaN  ...   \n",
       "2                         LOVISTA  ...   \n",
       "3                             NaN  ...   \n",
       "4                             NaN  ...   \n",
       "...                           ...  ...   \n",
       "29995                         NaN  ...   \n",
       "29996  Urban Ranger by Pantaloons  ...   \n",
       "29997                         NaN  ...   \n",
       "29998                  PINKY PARI  ...   \n",
       "29999                       Gutsy  ...   \n",
       "\n",
       "                                             colour no__of_reviews  \\\n",
       "0                                               NaN            NaN   \n",
       "1                                               NaN            NaN   \n",
       "2                                               NaN            NaN   \n",
       "3                                               NaN            NaN   \n",
       "4                                               NaN            NaN   \n",
       "...                                             ...            ...   \n",
       "29995                                           NaN            NaN   \n",
       "29996                                           NaN            NaN   \n",
       "29997                                           NaN            NaN   \n",
       "29998  DARK BLUE (BEIGE)|DARK BLUE (RED)|LIGHT BLUE            NaN   \n",
       "29999                                           NaN            NaN   \n",
       "\n",
       "       seller_name seller_id left_in_stock no__of_offers no__of_sellers  \\\n",
       "0              NaN       NaN           NaN           NaN            NaN   \n",
       "1              NaN       NaN           NaN           NaN            NaN   \n",
       "2              NaN       NaN           NaN           NaN            NaN   \n",
       "3              NaN       NaN           NaN           NaN            NaN   \n",
       "4              NaN       NaN           NaN           NaN            NaN   \n",
       "...            ...       ...           ...           ...            ...   \n",
       "29995          NaN       NaN           NaN           NaN            NaN   \n",
       "29996          NaN       NaN           NaN           NaN            NaN   \n",
       "29997          NaN       NaN           NaN           NaN            NaN   \n",
       "29998          NaN       NaN           NaN           NaN            NaN   \n",
       "29999          NaN       NaN           NaN           NaN            NaN   \n",
       "\n",
       "      technical_details__k_v_pairs formats___editions name_of_author_for_books  \n",
       "0                              NaN                NaN                      NaN  \n",
       "1                              NaN                NaN                      NaN  \n",
       "2                              NaN                NaN                      NaN  \n",
       "3                              NaN                NaN                      NaN  \n",
       "4                              NaN                NaN                      NaN  \n",
       "...                            ...                ...                      ...  \n",
       "29995                          NaN                NaN                      NaN  \n",
       "29996                          NaN                NaN                      NaN  \n",
       "29997                          NaN                NaN                      NaN  \n",
       "29998                          NaN                NaN                      NaN  \n",
       "29999                          NaN                NaN                      NaN  \n",
       "\n",
       "[30000 rows x 33 columns]"
      ]
     },
     "execution_count": 2,
     "metadata": {},
     "output_type": "execute_result"
    }
   ],
   "source": [
    "df"
   ]
  },
  {
   "cell_type": "code",
   "execution_count": 3,
   "id": "d1229e73-0663-4bd7-8b13-5822bad83ac6",
   "metadata": {},
   "outputs": [
    {
     "name": "stdout",
     "output_type": "stream",
     "text": [
      "                            uniq_id            crawl_timestamp        asin  \\\n",
      "0  26d41bdc1495de290bc8e6062d927729  2020-02-07 05:11:36 +0000  B07STS2W9T   \n",
      "1  410c62298852e68f34c35560f2311e5a  2020-02-07 08:45:56 +0000  B07N6TD2WL   \n",
      "2  52e31bb31680b0ec73de0d781a23cc0a  2020-02-06 11:09:38 +0000  B07WJ6WPN1   \n",
      "3  25798d6dc43239c118452d1bee0fb088  2020-02-07 08:32:45 +0000  B07PYSF4WZ   \n",
      "4  ad8a5a196d515ef09dfdaf082bdc37c4  2020-02-06 14:27:48 +0000  B082KXNM7X   \n",
      "\n",
      "                                         product_url  \\\n",
      "0  https://www.amazon.in/Facon-Kalamkari-Handbloc...   \n",
      "1  https://www.amazon.in/Sf-Jeans-Pantaloons-T-Sh...   \n",
      "2  https://www.amazon.in/LOVISTA-Traditional-Prin...   \n",
      "3  https://www.amazon.in/People-Printed-Regular-T...   \n",
      "4  https://www.amazon.in/Monte-Carlo-Cotton-Colla...   \n",
      "\n",
      "                                        product_name  \\\n",
      "0  LA' Facon Cotton Kalamkari Handblock Saree Blo...   \n",
      "1  Sf Jeans By Pantaloons Men's Plain Slim fit T-...   \n",
      "2  LOVISTA Cotton Gota Patti Tassel Traditional P...   \n",
      "3           People Men's Printed Regular fit T-Shirt   \n",
      "4  Monte Carlo Grey Solid Cotton Blend Polo Colla...   \n",
      "\n",
      "                                   image_urls__small  \\\n",
      "0  https://images-na.ssl-images-amazon.com/images...   \n",
      "1  https://images-na.ssl-images-amazon.com/images...   \n",
      "2  https://images-na.ssl-images-amazon.com/images...   \n",
      "3  https://images-na.ssl-images-amazon.com/images...   \n",
      "4  https://images-na.ssl-images-amazon.com/images...   \n",
      "\n",
      "                                              medium  \\\n",
      "0  https://images-na.ssl-images-amazon.com/images...   \n",
      "1  https://images-na.ssl-images-amazon.com/images...   \n",
      "2  https://images-na.ssl-images-amazon.com/images...   \n",
      "3  https://images-na.ssl-images-amazon.com/images...   \n",
      "4  https://images-na.ssl-images-amazon.com/images...   \n",
      "\n",
      "                                               large    browsenode      brand  \\\n",
      "0  https://images-na.ssl-images-amazon.com/images...  1.968255e+09  LA' Facon   \n",
      "1  https://images-na.ssl-images-amazon.com/images...  1.968123e+09        NaN   \n",
      "2  https://images-na.ssl-images-amazon.com/images...  1.968255e+09    LOVISTA   \n",
      "3  https://images-na.ssl-images-amazon.com/images...  1.968123e+09        NaN   \n",
      "4  https://images-na.ssl-images-amazon.com/images...  1.968070e+09        NaN   \n",
      "\n",
      "   ...  colour no__of_reviews  seller_name seller_id left_in_stock  \\\n",
      "0  ...     NaN            NaN          NaN       NaN           NaN   \n",
      "1  ...     NaN            NaN          NaN       NaN           NaN   \n",
      "2  ...     NaN            NaN          NaN       NaN           NaN   \n",
      "3  ...     NaN            NaN          NaN       NaN           NaN   \n",
      "4  ...     NaN            NaN          NaN       NaN           NaN   \n",
      "\n",
      "  no__of_offers no__of_sellers technical_details__k_v_pairs  \\\n",
      "0           NaN            NaN                          NaN   \n",
      "1           NaN            NaN                          NaN   \n",
      "2           NaN            NaN                          NaN   \n",
      "3           NaN            NaN                          NaN   \n",
      "4           NaN            NaN                          NaN   \n",
      "\n",
      "  formats___editions name_of_author_for_books  \n",
      "0                NaN                      NaN  \n",
      "1                NaN                      NaN  \n",
      "2                NaN                      NaN  \n",
      "3                NaN                      NaN  \n",
      "4                NaN                      NaN  \n",
      "\n",
      "[5 rows x 33 columns]\n"
     ]
    }
   ],
   "source": [
    "print(df.head())\n"
   ]
  },
  {
   "cell_type": "code",
   "execution_count": 4,
   "id": "fd6a0e96-0835-4e0c-971d-3f07756f5937",
   "metadata": {},
   "outputs": [
    {
     "name": "stdout",
     "output_type": "stream",
     "text": [
      "Index(['uniq_id', 'crawl_timestamp', 'asin', 'product_url', 'product_name',\n",
      "       'image_urls__small', 'medium', 'large', 'browsenode', 'brand',\n",
      "       'sales_price', 'weight', 'rating', 'sales_rank_in_parent_category',\n",
      "       'sales_rank_in_child_category', 'delivery_type', 'meta_keywords',\n",
      "       'amazon_prime__y_or_n', 'parent___child_category__all',\n",
      "       'best_seller_tag__y_or_n', 'other_items_customers_buy',\n",
      "       'product_details__k_v_pairs', 'discount_percentage', 'colour',\n",
      "       'no__of_reviews', 'seller_name', 'seller_id', 'left_in_stock',\n",
      "       'no__of_offers', 'no__of_sellers', 'technical_details__k_v_pairs',\n",
      "       'formats___editions', 'name_of_author_for_books'],\n",
      "      dtype='object')\n"
     ]
    }
   ],
   "source": [
    "print(df.columns)\n"
   ]
  },
  {
   "cell_type": "code",
   "execution_count": 5,
   "id": "9769fbfe-42a7-4b61-a3b5-40478c083fc4",
   "metadata": {},
   "outputs": [
    {
     "name": "stdout",
     "output_type": "stream",
     "text": [
      "(30000, 33)\n"
     ]
    }
   ],
   "source": [
    "print(df.shape)\n"
   ]
  },
  {
   "cell_type": "code",
   "execution_count": 6,
   "id": "1a573340-3e0c-437c-965e-b10b0e0e4b80",
   "metadata": {},
   "outputs": [
    {
     "name": "stdout",
     "output_type": "stream",
     "text": [
      "<class 'pandas.core.frame.DataFrame'>\n",
      "RangeIndex: 30000 entries, 0 to 29999\n",
      "Data columns (total 33 columns):\n",
      " #   Column                         Non-Null Count  Dtype  \n",
      "---  ------                         --------------  -----  \n",
      " 0   uniq_id                        30000 non-null  object \n",
      " 1   crawl_timestamp                30000 non-null  object \n",
      " 2   asin                           30000 non-null  object \n",
      " 3   product_url                    30000 non-null  object \n",
      " 4   product_name                   30000 non-null  object \n",
      " 5   image_urls__small              29998 non-null  object \n",
      " 6   medium                         29998 non-null  object \n",
      " 7   large                          28841 non-null  object \n",
      " 8   browsenode                     29480 non-null  float64\n",
      " 9   brand                          21857 non-null  object \n",
      " 10  sales_price                    27110 non-null  float64\n",
      " 11  weight                         30000 non-null  object \n",
      " 12  rating                         30000 non-null  float64\n",
      " 13  sales_rank_in_parent_category  25497 non-null  object \n",
      " 14  sales_rank_in_child_category   24851 non-null  object \n",
      " 15  delivery_type                  30000 non-null  object \n",
      " 16  meta_keywords                  30000 non-null  object \n",
      " 17  amazon_prime__y_or_n           30000 non-null  object \n",
      " 18  parent___child_category__all   25497 non-null  object \n",
      " 19  best_seller_tag__y_or_n        30000 non-null  object \n",
      " 20  other_items_customers_buy      24363 non-null  object \n",
      " 21  product_details__k_v_pairs     28817 non-null  object \n",
      " 22  discount_percentage            14624 non-null  object \n",
      " 23  colour                         6029 non-null   object \n",
      " 24  no__of_reviews                 3452 non-null   float64\n",
      " 25  seller_name                    8364 non-null   object \n",
      " 26  seller_id                      8364 non-null   object \n",
      " 27  left_in_stock                  3057 non-null   float64\n",
      " 28  no__of_offers                  1020 non-null   float64\n",
      " 29  no__of_sellers                 1020 non-null   float64\n",
      " 30  technical_details__k_v_pairs   1154 non-null   object \n",
      " 31  formats___editions             2 non-null      object \n",
      " 32  name_of_author_for_books       1 non-null      object \n",
      "dtypes: float64(7), object(26)\n",
      "memory usage: 7.6+ MB\n"
     ]
    }
   ],
   "source": [
    "df.info()   # Shows the structure, types, and non-null counts of each column"
   ]
  },
  {
   "cell_type": "code",
   "execution_count": 7,
   "id": "da20b30a-c8e8-4f36-b7fd-9f4c705b60d9",
   "metadata": {},
   "outputs": [
    {
     "data": {
      "text/html": [
       "<div>\n",
       "<style scoped>\n",
       "    .dataframe tbody tr th:only-of-type {\n",
       "        vertical-align: middle;\n",
       "    }\n",
       "\n",
       "    .dataframe tbody tr th {\n",
       "        vertical-align: top;\n",
       "    }\n",
       "\n",
       "    .dataframe thead th {\n",
       "        text-align: right;\n",
       "    }\n",
       "</style>\n",
       "<table border=\"1\" class=\"dataframe\">\n",
       "  <thead>\n",
       "    <tr style=\"text-align: right;\">\n",
       "      <th></th>\n",
       "      <th>browsenode</th>\n",
       "      <th>sales_price</th>\n",
       "      <th>rating</th>\n",
       "      <th>no__of_reviews</th>\n",
       "      <th>left_in_stock</th>\n",
       "      <th>no__of_offers</th>\n",
       "      <th>no__of_sellers</th>\n",
       "    </tr>\n",
       "  </thead>\n",
       "  <tbody>\n",
       "    <tr>\n",
       "      <th>count</th>\n",
       "      <td>2.948000e+04</td>\n",
       "      <td>27110.000000</td>\n",
       "      <td>30000.000000</td>\n",
       "      <td>3452.000000</td>\n",
       "      <td>3057.000000</td>\n",
       "      <td>1020.000000</td>\n",
       "      <td>1020.000000</td>\n",
       "    </tr>\n",
       "    <tr>\n",
       "      <th>mean</th>\n",
       "      <td>2.898248e+09</td>\n",
       "      <td>862.172397</td>\n",
       "      <td>4.039857</td>\n",
       "      <td>136.642236</td>\n",
       "      <td>2.091920</td>\n",
       "      <td>6.230392</td>\n",
       "      <td>6.230392</td>\n",
       "    </tr>\n",
       "    <tr>\n",
       "      <th>std</th>\n",
       "      <td>3.050401e+09</td>\n",
       "      <td>964.223008</td>\n",
       "      <td>0.840009</td>\n",
       "      <td>525.484988</td>\n",
       "      <td>1.317071</td>\n",
       "      <td>16.919507</td>\n",
       "      <td>16.919507</td>\n",
       "    </tr>\n",
       "    <tr>\n",
       "      <th>min</th>\n",
       "      <td>1.953148e+09</td>\n",
       "      <td>39.000000</td>\n",
       "      <td>1.000000</td>\n",
       "      <td>1.000000</td>\n",
       "      <td>1.000000</td>\n",
       "      <td>1.000000</td>\n",
       "      <td>1.000000</td>\n",
       "    </tr>\n",
       "    <tr>\n",
       "      <th>25%</th>\n",
       "      <td>1.968067e+09</td>\n",
       "      <td>379.000000</td>\n",
       "      <td>3.500000</td>\n",
       "      <td>4.000000</td>\n",
       "      <td>1.000000</td>\n",
       "      <td>1.000000</td>\n",
       "      <td>1.000000</td>\n",
       "    </tr>\n",
       "    <tr>\n",
       "      <th>50%</th>\n",
       "      <td>1.968135e+09</td>\n",
       "      <td>590.000000</td>\n",
       "      <td>4.000000</td>\n",
       "      <td>15.000000</td>\n",
       "      <td>2.000000</td>\n",
       "      <td>2.500000</td>\n",
       "      <td>2.500000</td>\n",
       "    </tr>\n",
       "    <tr>\n",
       "      <th>75%</th>\n",
       "      <td>1.968444e+09</td>\n",
       "      <td>899.000000</td>\n",
       "      <td>4.900000</td>\n",
       "      <td>72.000000</td>\n",
       "      <td>3.000000</td>\n",
       "      <td>4.000000</td>\n",
       "      <td>4.000000</td>\n",
       "    </tr>\n",
       "    <tr>\n",
       "      <th>max</th>\n",
       "      <td>1.751625e+10</td>\n",
       "      <td>9988.000000</td>\n",
       "      <td>5.000000</td>\n",
       "      <td>9896.000000</td>\n",
       "      <td>5.000000</td>\n",
       "      <td>310.000000</td>\n",
       "      <td>310.000000</td>\n",
       "    </tr>\n",
       "  </tbody>\n",
       "</table>\n",
       "</div>"
      ],
      "text/plain": [
       "         browsenode   sales_price        rating  no__of_reviews  \\\n",
       "count  2.948000e+04  27110.000000  30000.000000     3452.000000   \n",
       "mean   2.898248e+09    862.172397      4.039857      136.642236   \n",
       "std    3.050401e+09    964.223008      0.840009      525.484988   \n",
       "min    1.953148e+09     39.000000      1.000000        1.000000   \n",
       "25%    1.968067e+09    379.000000      3.500000        4.000000   \n",
       "50%    1.968135e+09    590.000000      4.000000       15.000000   \n",
       "75%    1.968444e+09    899.000000      4.900000       72.000000   \n",
       "max    1.751625e+10   9988.000000      5.000000     9896.000000   \n",
       "\n",
       "       left_in_stock  no__of_offers  no__of_sellers  \n",
       "count    3057.000000    1020.000000     1020.000000  \n",
       "mean        2.091920       6.230392        6.230392  \n",
       "std         1.317071      16.919507       16.919507  \n",
       "min         1.000000       1.000000        1.000000  \n",
       "25%         1.000000       1.000000        1.000000  \n",
       "50%         2.000000       2.500000        2.500000  \n",
       "75%         3.000000       4.000000        4.000000  \n",
       "max         5.000000     310.000000      310.000000  "
      ]
     },
     "execution_count": 7,
     "metadata": {},
     "output_type": "execute_result"
    }
   ],
   "source": [
    "df.describe()"
   ]
  },
  {
   "cell_type": "code",
   "execution_count": 8,
   "id": "c050788d-3b8e-4c20-825e-4eb6d46a296a",
   "metadata": {},
   "outputs": [
    {
     "data": {
      "text/plain": [
       "uniq_id                              0\n",
       "crawl_timestamp                      0\n",
       "asin                                 0\n",
       "product_url                          0\n",
       "product_name                         0\n",
       "image_urls__small                    2\n",
       "medium                               2\n",
       "large                             1159\n",
       "browsenode                         520\n",
       "brand                             8143\n",
       "sales_price                       2890\n",
       "weight                               0\n",
       "rating                               0\n",
       "sales_rank_in_parent_category     4503\n",
       "sales_rank_in_child_category      5149\n",
       "delivery_type                        0\n",
       "meta_keywords                        0\n",
       "amazon_prime__y_or_n                 0\n",
       "parent___child_category__all      4503\n",
       "best_seller_tag__y_or_n              0\n",
       "other_items_customers_buy         5637\n",
       "product_details__k_v_pairs        1183\n",
       "discount_percentage              15376\n",
       "colour                           23971\n",
       "no__of_reviews                   26548\n",
       "seller_name                      21636\n",
       "seller_id                        21636\n",
       "left_in_stock                    26943\n",
       "no__of_offers                    28980\n",
       "no__of_sellers                   28980\n",
       "technical_details__k_v_pairs     28846\n",
       "formats___editions               29998\n",
       "name_of_author_for_books         29999\n",
       "dtype: int64"
      ]
     },
     "execution_count": 8,
     "metadata": {},
     "output_type": "execute_result"
    }
   ],
   "source": [
    "df.isnull().sum()  # Shows how many missing values are in each column"
   ]
  },
  {
   "cell_type": "code",
   "execution_count": 9,
   "id": "8511e6f1-156d-4ff3-abd9-681fadfadb35",
   "metadata": {},
   "outputs": [
    {
     "name": "stdout",
     "output_type": "stream",
     "text": [
      "product_name\n",
      "BIBA Women's Straight Kurta                                             70\n",
      "W for Woman Straight Kurta                                              63\n",
      "W for Woman Women's Straight Kurta                                      55\n",
      "W for Women's Straight Kurta                                            47\n",
      "Aurelia Women's Straight Kurta                                          43\n",
      "                                                                        ..\n",
      "DAZZIO Solid Slim Fit Green Casual Shirt (Please Refer Size Chart)       1\n",
      "DJ&C By fbb Girl's Floral Regular fit T-Shirt                            1\n",
      "ITRRA Women's Solid Buttoned Down Full Length Long Flared Maxi Dress     1\n",
      "VIXENWRAP Berry Blue Solid Babydoll                                      1\n",
      "Gutsy Men's Full Sleeve All Over Printed Navy T-Shirt                    1\n",
      "Name: count, Length: 22424, dtype: int64\n"
     ]
    }
   ],
   "source": [
    "print(df['product_name'].value_counts())\n"
   ]
  },
  {
   "cell_type": "code",
   "execution_count": 10,
   "id": "3182da62-1ac5-42fb-83ff-cba376d11965",
   "metadata": {},
   "outputs": [
    {
     "name": "stdout",
     "output_type": "stream",
     "text": [
      "object\n"
     ]
    }
   ],
   "source": [
    "print(df['product_name'].dtype)\n"
   ]
  },
  {
   "cell_type": "code",
   "execution_count": 11,
   "id": "c477c4e3-25a4-4a55-b413-975e87856a60",
   "metadata": {},
   "outputs": [
    {
     "name": "stdout",
     "output_type": "stream",
     "text": [
      "  ClothingAccessories WomensKurtasKurtis MensT_Shirts MensTracksuits  \\\n",
      "0             #19,259              #1793          NaN            NaN   \n",
      "1           #1,59,062                NaN       #12151            NaN   \n",
      "2              #1,050                #91          NaN            NaN   \n",
      "3           #2,47,234                NaN       #19368            NaN   \n",
      "4             #13,980                NaN          NaN            #12   \n",
      "\n",
      "  MensShorts MensCasualShirts GirlsDressesJumpsuits GirlsT_Shirts  \\\n",
      "0        NaN              NaN                   NaN           NaN   \n",
      "1        NaN              NaN                   NaN           NaN   \n",
      "2        NaN              NaN                   NaN           NaN   \n",
      "3        NaN              NaN                   NaN           NaN   \n",
      "4        NaN              NaN                   NaN           NaN   \n",
      "\n",
      "  MensUnderwearBriefs WomensDresses  ... BoysDungarees GirlsBeginnersBras  \\\n",
      "0                 NaN           NaN  ...           NaN                NaN   \n",
      "1                 NaN           NaN  ...           NaN                NaN   \n",
      "2                 NaN           NaN  ...           NaN                NaN   \n",
      "3                 NaN           NaN  ...           NaN                NaN   \n",
      "4                 NaN           NaN  ...           NaN                NaN   \n",
      "\n",
      "  BoysSportswearCaps WomensIndianClothing WomensYogaClothing GirlsSkirts  \\\n",
      "0                NaN                  NaN                NaN         NaN   \n",
      "1                NaN                  NaN                NaN         NaN   \n",
      "2                NaN                  NaN                NaN         NaN   \n",
      "3                NaN                  NaN                NaN         NaN   \n",
      "4                NaN                  NaN                NaN         NaN   \n",
      "\n",
      "  MensGlassesCases GirlsBikinis MensSneakers GirlsAthleticSocks  \n",
      "0              NaN          NaN          NaN                NaN  \n",
      "1              NaN          NaN          NaN                NaN  \n",
      "2              NaN          NaN          NaN                NaN  \n",
      "3              NaN          NaN          NaN                NaN  \n",
      "4              NaN          NaN          NaN                NaN  \n",
      "\n",
      "[5 rows x 253 columns]\n"
     ]
    }
   ],
   "source": [
    "category_df = pd.json_normalize(df['parent___child_category__all'])\n",
    "print(category_df.head())\n"
   ]
  },
  {
   "cell_type": "code",
   "execution_count": 12,
   "id": "febbaea6-173a-491b-804f-9d6e40d1c363",
   "metadata": {},
   "outputs": [
    {
     "name": "stdout",
     "output_type": "stream",
     "text": [
      "Checking for null values:\n",
      "uniq_id                              0\n",
      "crawl_timestamp                      0\n",
      "asin                                 0\n",
      "product_url                          0\n",
      "product_name                         0\n",
      "image_urls__small                    2\n",
      "medium                               2\n",
      "large                             1159\n",
      "browsenode                         520\n",
      "brand                             8143\n",
      "sales_price                       2890\n",
      "weight                               0\n",
      "rating                               0\n",
      "sales_rank_in_parent_category     4503\n",
      "sales_rank_in_child_category      5149\n",
      "delivery_type                        0\n",
      "meta_keywords                        0\n",
      "amazon_prime__y_or_n                 0\n",
      "parent___child_category__all      4503\n",
      "best_seller_tag__y_or_n              0\n",
      "other_items_customers_buy         5637\n",
      "product_details__k_v_pairs        1183\n",
      "discount_percentage              15376\n",
      "colour                           23971\n",
      "no__of_reviews                   26548\n",
      "seller_name                      21636\n",
      "seller_id                        21636\n",
      "left_in_stock                    26943\n",
      "no__of_offers                    28980\n",
      "no__of_sellers                   28980\n",
      "technical_details__k_v_pairs     28846\n",
      "formats___editions               29998\n",
      "name_of_author_for_books         29999\n",
      "dtype: int64\n"
     ]
    }
   ],
   "source": [
    "print(\"Checking for null values:\")\n",
    "print(df.isnull().sum())\n"
   ]
  },
  {
   "cell_type": "code",
   "execution_count": 13,
   "id": "dcbf5c83-4c45-4bc9-82e0-7984722e241f",
   "metadata": {},
   "outputs": [],
   "source": [
    "# Remove columns with more than 50% null values\n",
    "threshold = len(df) * 0.5\n",
    "data = df.dropna(thresh=threshold, axis=1)\n"
   ]
  },
  {
   "cell_type": "code",
   "execution_count": 14,
   "id": "0a57572d-282f-40a5-ab98-9e115e9950ed",
   "metadata": {},
   "outputs": [],
   "source": [
    "# Define a function to remove outliers based on IQR\n",
    "def remove_outliers(df, column):\n",
    "    Q1 = df[column].quantile(0.25)\n",
    "    Q3 = df[column].quantile(0.75)\n",
    "    IQR = Q3 - Q1\n",
    "    lower_bound = Q1 - 1.5 * IQR\n",
    "    upper_bound = Q3 + 1.5 * IQR\n",
    "    return df[(df[column] >= lower_bound) & (df[column] <= upper_bound)]\n",
    "\n",
    "# Apply the function to selected columns\n",
    "for col in ['sales_price', 'rating']:\n",
    "    data = remove_outliers(data, col)\n"
   ]
  },
  {
   "cell_type": "code",
   "execution_count": 15,
   "id": "27649ee2-12a2-49d2-8450-3a5e038b999b",
   "metadata": {},
   "outputs": [
    {
     "name": "stdout",
     "output_type": "stream",
     "text": [
      "Before removing outliers:\n",
      "       sales_price        rating\n",
      "count  24028.00000  24028.000000\n",
      "mean     606.02048      4.054632\n",
      "std      319.55423      0.731817\n",
      "min       39.00000      1.700000\n",
      "25%      358.00000      3.500000\n",
      "50%      545.00000      4.000000\n",
      "75%      799.00000      4.800000\n",
      "max     1679.00000      5.000000\n"
     ]
    },
    {
     "data": {
      "image/png": "[encoded data removed]",
      "text/plain": [
       "<Figure size 1200x500 with 2 Axes>"
      ]
     },
     "metadata": {},
     "output_type": "display_data"
    }
   ],
   "source": [
    "# Describe the columns to view statistical details\n",
    "print(\"Before removing outliers:\")\n",
    "print(data[['sales_price', 'rating']].describe())\n",
    "\n",
    "# Plot boxplots to visualize outliers\n",
    "import matplotlib.pyplot as plt\n",
    "import seaborn as sns\n",
    "\n",
    "plt.figure(figsize=(12, 5))\n",
    "for i, col in enumerate(['sales_price', 'rating'], 1):\n",
    "    plt.subplot(1, 2, i)\n",
    "    sns.boxplot(data[col])\n",
    "    plt.title(f'Boxplot of {col} (Before)')\n",
    "plt.tight_layout()\n",
    "plt.show()\n"
   ]
  },
  {
   "cell_type": "code",
   "execution_count": 16,
   "id": "96dcbffc-36d3-4fce-897e-42c3296c523c",
   "metadata": {},
   "outputs": [],
   "source": [
    "# Apply the function to remove outliers\n",
    "for col in ['sales_price', 'rating']:\n",
    "    data = remove_outliers(data, col)\n"
   ]
  },
  {
   "cell_type": "code",
   "execution_count": 17,
   "id": "8781cdc8-14a1-4826-9f18-8a8fb543495d",
   "metadata": {},
   "outputs": [
    {
     "name": "stdout",
     "output_type": "stream",
     "text": [
      "After removing outliers:\n",
      "        sales_price        rating\n",
      "count  23478.000000  23478.000000\n",
      "mean     584.139646      4.052266\n",
      "std      288.998258      0.730835\n",
      "min       39.000000      1.700000\n",
      "25%      350.000000      3.500000\n",
      "50%      534.000000      4.000000\n",
      "75%      769.000000      4.800000\n",
      "max     1460.000000      5.000000\n"
     ]
    },
    {
     "data": {
      "image/png": "[encoded data removed]",
      "text/plain": [
       "<Figure size 1200x500 with 2 Axes>"
      ]
     },
     "metadata": {},
     "output_type": "display_data"
    }
   ],
   "source": [
    "# Describe the columns again\n",
    "print(\"After removing outliers:\")\n",
    "print(data[['sales_price', 'rating']].describe())\n",
    "\n",
    "# Plot boxplots again\n",
    "plt.figure(figsize=(12, 5))\n",
    "for i, col in enumerate(['sales_price', 'rating'], 1):\n",
    "    plt.subplot(1, 2, i)\n",
    "    sns.boxplot(data[col])\n",
    "    plt.title(f'Boxplot of {col} (After)')\n",
    "plt.tight_layout()\n",
    "plt.show()\n"
   ]
  },
  {
   "cell_type": "code",
   "execution_count": 18,
   "id": "a26bf68b-d867-4754-bdd6-16f571a1689d",
   "metadata": {},
   "outputs": [
    {
     "name": "stdout",
     "output_type": "stream",
     "text": [
      "Rows before outlier removal: 23478\n",
      "Rows removed: 215\n",
      "Rows after outlier removal: 23263\n"
     ]
    }
   ],
   "source": [
    "# Compare shape before and after\n",
    "print(f\"Rows before outlier removal: {data.shape[0]}\")\n",
    "\n",
    "# Apply outlier removal function again for counting (use a copy of the data for comparison)\n",
    "rows_removed = 0\n",
    "for col in ['sales_price', 'rating']:\n",
    "    rows_before = data.shape[0]\n",
    "    data = remove_outliers(data, col)\n",
    "    rows_removed += rows_before - data.shape[0]\n",
    "\n",
    "print(f\"Rows removed: {rows_removed}\")\n",
    "print(f\"Rows after outlier removal: {data.shape[0]}\")\n"
   ]
  },
  {
   "cell_type": "code",
   "execution_count": 19,
   "id": "3e274d99-dd77-484f-bef6-c06db85c369e",
   "metadata": {},
   "outputs": [
    {
     "data": {
      "image/png": "[encoded data removed]",
      "text/plain": [
       "<Figure size 1000x600 with 1 Axes>"
      ]
     },
     "metadata": {},
     "output_type": "display_data"
    }
   ],
   "source": [
    "plt.figure(figsize=(10, 6))\n",
    "data['sales_price'].dropna().plot(kind='hist', bins=30, color='skyblue', edgecolor='black')\n",
    "plt.title('Sales Price Distribution')\n",
    "plt.xlabel('Sales Price')\n",
    "plt.ylabel('Frequency')\n",
    "plt.show()\n"
   ]
  },
  {
   "cell_type": "code",
   "execution_count": 20,
   "id": "bf1c9a29-8134-4161-a485-80551c55d72d",
   "metadata": {},
   "outputs": [
    {
     "data": {
      "image/png": "[encoded data removed]",
      "text/plain": [
       "<Figure size 800x500 with 1 Axes>"
      ]
     },
     "metadata": {},
     "output_type": "display_data"
    }
   ],
   "source": [
    "plt.figure(figsize=(8, 5))\n",
    "data['rating'].dropna().plot(kind='hist', bins=10, color='salmon', edgecolor='black')\n",
    "plt.title('Product Rating Distribution')\n",
    "plt.xlabel('Rating')\n",
    "plt.ylabel('Count')\n",
    "plt.show()"
   ]
  },
  {
   "cell_type": "code",
   "execution_count": 21,
   "id": "80989c33-162a-4e09-bbd6-e65aa3eed67d",
   "metadata": {},
   "outputs": [
    {
     "data": {
      "image/png": "[encoded data removed]",
      "text/plain": [
       "<Figure size 1200x600 with 1 Axes>"
      ]
     },
     "metadata": {},
     "output_type": "display_data"
    }
   ],
   "source": [
    "plt.figure(figsize=(12, 6))\n",
    "data['brand'].value_counts().head(10).plot(kind='bar', color='purple')\n",
    "plt.title('Top 10 Brands by Count')\n",
    "plt.xlabel('Brand')\n",
    "plt.ylabel('Frequency')\n",
    "plt.show()\n"
   ]
  },
  {
   "cell_type": "code",
   "execution_count": 22,
   "id": "944bb6d8-1299-447d-940e-3d02e455e9d9",
   "metadata": {},
   "outputs": [
    {
     "data": {
      "image/png": "[encoded data removed]",
      "text/plain": [
       "<Figure size 600x600 with 1 Axes>"
      ]
     },
     "metadata": {},
     "output_type": "display_data"
    }
   ],
   "source": [
    "plt.figure(figsize=(6, 6))\n",
    "data['amazon_prime__y_or_n'].value_counts().plot(kind='pie', autopct='%1.1f%%', startangle=140, colors=['lightblue', 'lightcoral'])\n",
    "plt.title('Amazon Prime Availability')\n",
    "plt.ylabel('')  # Hide y-label for aesthetics\n",
    "plt.show()\n"
   ]
  },
  {
   "cell_type": "code",
   "execution_count": 23,
   "id": "194924ba-45bd-4f2d-a428-f7da6602c02b",
   "metadata": {},
   "outputs": [
    {
     "data": {
      "image/png": "[encoded data removed]",
      "text/plain": [
       "<Figure size 1000x600 with 1 Axes>"
      ]
     },
     "metadata": {},
     "output_type": "display_data"
    },
    {
     "data": {
      "image/png": "[encoded data removed]",
      "text/plain": [
       "<Figure size 1000x800 with 2 Axes>"
      ]
     },
     "metadata": {},
     "output_type": "display_data"
    }
   ],
   "source": [
    "\n",
    "\n",
    "# Distribution of Sales Price\n",
    "plt.figure(figsize=(10, 6))\n",
    "data['sales_price'].dropna().plot(kind='hist', bins=20, color='blue', edgecolor='black')\n",
    "plt.title('Sales Price Distribution')\n",
    "plt.xlabel('Sales Price')\n",
    "plt.ylabel('Frequency')\n",
    "plt.show()\n",
    "\n",
    "# Correlation Heatmap for Selected Columns\n",
    "plt.figure(figsize=(10, 8))\n",
    "sns.heatmap(data[['sales_price', 'rating']].corr(), annot=True, cmap='coolwarm')\n",
    "plt.title('Correlation Matrix')\n",
    "plt.show()"
   ]
  },
  {
   "cell_type": "markdown",
   "id": "da5a3af2-d48f-4407-ac8e-7ef1f996156b",
   "metadata": {},
   "source": [
    "TASK 2"
   ]
  },
  {
   "cell_type": "code",
   "execution_count": 24,
   "id": "433f08cd-28ff-49f9-abbc-15bfda9918d0",
   "metadata": {},
   "outputs": [
    {
     "name": "stdout",
     "output_type": "stream",
     "text": [
      "Dataset sorted by product name:\n",
      "                                uniq_id            crawl_timestamp  \\\n",
      "14068  9786fe52dd3215600bda26d441348353  2020-02-06 06:41:40 +0000   \n",
      "18193  e9e58e9a4aba44bc84b5332cc2a718dc  2020-02-06 17:15:49 +0000   \n",
      "17686  3a80d73e1eae284d385c090612ee4090  2020-02-07 02:03:25 +0000   \n",
      "9204   33546712a623f3051ebfa072b2fd729f  2020-02-06 12:42:01 +0000   \n",
      "4816   8f1eaeabdffe8c2035f8bdd294f2b0eb  2020-02-06 15:39:45 +0000   \n",
      "\n",
      "             asin                                        product_url  \\\n",
      "14068  B07QCYNW3C  https://www.amazon.in/CE-Cotton-Sleeve-Printed...   \n",
      "18193  B077Y5LM8Z  https://www.amazon.in/Delivery-Women-2hook-Ext...   \n",
      "17686  B07GWJ9Z1F  https://www.amazon.in/001-Girls-Shopping-Sleev...   \n",
      "9204   B07HY6DQNT  https://www.amazon.in/0Month-Girls-Ankle-Lengt...   \n",
      "4816   B07NNQXF4G  https://www.amazon.in/0Month-Newborn-Booty-Mit...   \n",
      "\n",
      "                                            product_name  \\\n",
      "14068  !CE ICE Cotton Round Neck Half Sleeve Printed ...   \n",
      "18193  (Free Delivery) Women 2hook Bra Extender Combo...   \n",
      "17686  001 Girls Shopping Sleeveless Denim Jacket for...   \n",
      "9204   0Month+ Boys & Girls Ankle Length Lycra White ...   \n",
      "4816   0Month+ Newborn Baby Cap Booty Mitten Set (Mul...   \n",
      "\n",
      "                                       image_urls__small  \\\n",
      "14068  https://images-na.ssl-images-amazon.com/images...   \n",
      "18193  https://images-na.ssl-images-amazon.com/images...   \n",
      "17686  https://images-na.ssl-images-amazon.com/images...   \n",
      "9204   https://images-na.ssl-images-amazon.com/images...   \n",
      "4816   https://images-na.ssl-images-amazon.com/images...   \n",
      "\n",
      "                                                  medium  \\\n",
      "14068  https://images-na.ssl-images-amazon.com/images...   \n",
      "18193  https://images-na.ssl-images-amazon.com/images...   \n",
      "17686  https://images-na.ssl-images-amazon.com/images...   \n",
      "9204   https://images-na.ssl-images-amazon.com/images...   \n",
      "4816   https://images-na.ssl-images-amazon.com/images...   \n",
      "\n",
      "                                                   large    browsenode  \\\n",
      "14068  https://images-na.ssl-images-amazon.com/images...  1.968013e+09   \n",
      "18193  https://images-na.ssl-images-amazon.com/images...  1.968458e+09   \n",
      "17686  https://images-na.ssl-images-amazon.com/images...  1.968506e+09   \n",
      "9204   https://images-na.ssl-images-amazon.com/images...  1.967999e+09   \n",
      "4816   https://images-na.ssl-images-amazon.com/images...  1.953213e+09   \n",
      "\n",
      "                    brand  ...  rating         sales_rank_in_parent_category  \\\n",
      "14068                 !CE  ...     5.0  {'ClothingAccessories': '#1,81,486'}   \n",
      "18193              Pegaso  ...     5.0  {'ClothingAccessories': '#4,31,235'}   \n",
      "17686  001 Girls Shopping  ...     5.0  {'ClothingAccessories': '#5,23,051'}   \n",
      "9204              0Month+  ...     2.9    {'ClothingAccessories': '#34,804'}   \n",
      "4816              0Month+  ...     4.6  {'ClothingAccessories': '#1,02,218'}   \n",
      "\n",
      "                            sales_rank_in_child_category  \\\n",
      "14068                         {'GirlsT_Shirts': '#1652'}   \n",
      "18193              {'WomensLingerieAccessories': '#455'}   \n",
      "17686  {'WomensCoats': '#846', 'MensShirtsUnstitchedF...   \n",
      "9204                               {'GirlsSocks': '#29'}   \n",
      "4816                                                 NaN   \n",
      "\n",
      "               delivery_type  \\\n",
      "14068  fulfilled_by_merchant   \n",
      "18193  fulfilled_by_merchant   \n",
      "17686  fulfilled_by_merchant   \n",
      "9204   fulfilled_by_merchant   \n",
      "4816   fulfilled_by_merchant   \n",
      "\n",
      "                                           meta_keywords amazon_prime__y_or_n  \\\n",
      "14068  !CE ICE Cotton Round Neck Half Sleeve Printed ...                    N   \n",
      "18193  (Free Delivery) Women 2hook Bra Extender Combo...                    N   \n",
      "17686  001 Girls Shopping Sleeveless Denim Jacket for...                    N   \n",
      "9204   0Month+ Boys & Girls Ankle Length Lycra White ...                    Y   \n",
      "4816   0Month+ Newborn Baby Cap Booty Mitten Set (Mul...                    N   \n",
      "\n",
      "                            parent___child_category__all  \\\n",
      "14068  {'ClothingAccessories': '#1,81,486', 'GirlsT_S...   \n",
      "18193  {'ClothingAccessories': '#4,31,235', 'WomensLi...   \n",
      "17686  {'ClothingAccessories': '#5,23,051', 'WomensCo...   \n",
      "9204   {'ClothingAccessories': '#34,804', 'GirlsSocks...   \n",
      "4816                {'ClothingAccessories': '#1,02,218'}   \n",
      "\n",
      "      best_seller_tag__y_or_n  \\\n",
      "14068                       N   \n",
      "18193                       N   \n",
      "17686                       N   \n",
      "9204                        N   \n",
      "4816                        N   \n",
      "\n",
      "                               other_items_customers_buy  \\\n",
      "14068  !CE ICE Cotton Round Neck Half Sleeve Printed ...   \n",
      "18193  Two Dots Women's Bra Extender (Pack of 3) | SA...   \n",
      "17686  GSAMALL Women's STYLISHT Sleeveless Denim Jack...   \n",
      "9204   MUKHAKSH Boys' and Girls' Cotton Plain Ankle L...   \n",
      "4816   Hi Baby- My Newborn Baby Cotton Mitten Sets wi...   \n",
      "\n",
      "                              product_details__k_v_pairs  \n",
      "14068  {'Item_part_number': '106--$Parent SKU', 'ASIN...  \n",
      "18193  {'Item_part_number': '2hook-whitnude-6pc', 'AS...  \n",
      "17686  {'Item_Weight': '200 g', 'Item_part_number': '...  \n",
      "9204   {'Item_part_number': 'BS7013', 'ASIN': 'B07HY6...  \n",
      "4816   {'Item_part_number': 'Cap set', 'ASIN': 'B07NN...  \n",
      "\n",
      "[5 rows x 22 columns]\n"
     ]
    }
   ],
   "source": [
    "# Assuming the column name for product names is 'product_name'\n",
    "data_sorted = data.sort_values(by='product_name', ascending=True)\n",
    "\n",
    "# Check the first few rows of the sorted dataset\n",
    "print(\"Dataset sorted by product name:\")\n",
    "print(data_sorted.head())\n"
   ]
  },
  {
   "cell_type": "markdown",
   "id": "58705c25-5d93-4188-8b3b-c524bc559339",
   "metadata": {},
   "source": [
    "Create Functions for Text Preprocessing\n",
    "\n",
    "Here are the required preprocessing functions:\n",
    "\n",
    "\n",
    "1. Removing Non-English Words"
   ]
  },
  {
   "cell_type": "code",
   "execution_count": 25,
   "id": "4f648050-d5b7-42bf-a7f4-e282564ee581",
   "metadata": {},
   "outputs": [],
   "source": [
    "from langdetect import detect\n",
    "\n",
    "def remove_non_english(text):\n",
    "    try:\n",
    "        return text if detect(text) == 'en' else ''\n",
    "    except:\n",
    "        return ''  # Handle cases where language detection fails\n"
   ]
  },
  {
   "cell_type": "markdown",
   "id": "9c80d1ea-cf25-456f-96bb-e11e8105b0a0",
   "metadata": {},
   "source": [
    "2.Removing Stop Words\n",
    "\n",
    "Stop words are common words like \"the,\" \"is,\" etc., that are often removed in text processing."
   ]
  },
  {
   "cell_type": "code",
   "execution_count": 26,
   "id": "74a5661b-0cab-4888-a8c8-875526c95763",
   "metadata": {},
   "outputs": [
    {
     "name": "stderr",
     "output_type": "stream",
     "text": [
      "[nltk_data] Downloading package stopwords to\n",
      "[nltk_data]     C:\\Users\\ANGELIN\\AppData\\Roaming\\nltk_data...\n",
      "[nltk_data]   Package stopwords is already up-to-date!\n"
     ]
    }
   ],
   "source": [
    "from nltk.corpus import stopwords\n",
    "import nltk\n",
    "\n",
    "nltk.download('stopwords')\n",
    "stop_words = set(stopwords.words('english'))\n",
    "\n",
    "def remove_stop_words(text):\n",
    "    return ' '.join([word for word in text.split() if word.lower() not in stop_words])\n"
   ]
  },
  {
   "cell_type": "markdown",
   "id": "a88eb22c-d8ee-4f97-89ff-811eccddf6b1",
   "metadata": {},
   "source": [
    "3. Removing Special Characters\n",
    "   \n",
    "Special characters can be removed using regular expressions."
   ]
  },
  {
   "cell_type": "code",
   "execution_count": 27,
   "id": "b17384f8-17bf-401d-9244-0cf2ff511269",
   "metadata": {},
   "outputs": [],
   "source": [
    "import re\n",
    "\n",
    "def remove_special_characters(text):\n",
    "    return re.sub(r'[^A-Za-z0-9\\s]', '', text)\n"
   ]
  },
  {
   "cell_type": "markdown",
   "id": "d1ad9d4f-173e-4d90-834a-e0fd93d0f169",
   "metadata": {},
   "source": [
    "4. Converting Short Forms to Long Forms\n",
    "   \n",
    "Use a predefined dictionary of contractions to replace short forms with their expanded forms."
   ]
  },
  {
   "cell_type": "code",
   "execution_count": 28,
   "id": "92160e4a-0293-4ccd-a9e2-d913c4f2a900",
   "metadata": {},
   "outputs": [],
   "source": [
    "from contractions import fix\n",
    "\n",
    "def convert_short_to_long(text):\n",
    "    return fix(text)\n"
   ]
  },
  {
   "cell_type": "markdown",
   "id": "cc2a6496-fe29-48c1-8fcb-a2766314e57c",
   "metadata": {},
   "source": [
    "5. Stemming\n",
    "   \n",
    "Stemming reduces words to their root form.\n",
    "\n"
   ]
  },
  {
   "cell_type": "code",
   "execution_count": 29,
   "id": "9f4f5dc1-ebf5-48a0-a05e-c0637e78e96f",
   "metadata": {},
   "outputs": [],
   "source": [
    "from nltk.stem.porter import PorterStemmer\n",
    "\n",
    "stemmer = PorterStemmer()\n",
    "\n",
    "def apply_stemming(text):\n",
    "    return ' '.join([stemmer.stem(word) for word in text.split()])\n"
   ]
  },
  {
   "cell_type": "code",
   "execution_count": 30,
   "id": "25fbb3c3-47a3-436b-b2cf-54ed66afec74",
   "metadata": {},
   "outputs": [
    {
     "name": "stderr",
     "output_type": "stream",
     "text": [
      "[nltk_data] Downloading package stopwords to\n",
      "[nltk_data]     C:\\Users\\ANGELIN\\AppData\\Roaming\\nltk_data...\n",
      "[nltk_data]   Package stopwords is already up-to-date!\n",
      "[nltk_data] Downloading package wordnet to\n",
      "[nltk_data]     C:\\Users\\ANGELIN\\AppData\\Roaming\\nltk_data...\n",
      "[nltk_data]   Package wordnet is already up-to-date!\n"
     ]
    },
    {
     "name": "stdout",
     "output_type": "stream",
     "text": [
      "         asin                                       product_name  \\\n",
      "0  B07STS2W9T  LA' Facon Cotton Kalamkari Handblock Saree Blo...   \n",
      "1  B07N6TD2WL  Sf Jeans By Pantaloons Men's Plain Slim fit T-...   \n",
      "2  B07WJ6WPN1  LOVISTA Cotton Gota Patti Tassel Traditional P...   \n",
      "3  B07PYSF4WZ           People Men's Printed Regular fit T-Shirt   \n",
      "4  B082KXNM7X  Monte Carlo Grey Solid Cotton Blend Polo Colla...   \n",
      "\n",
      "                             lemmatized_product_name  \n",
      "0  facon cotton kalamkari handblock saree blouse ...  \n",
      "1           jean pantaloon men plain slim fit tshirt  \n",
      "2  lovista cotton gota patti tassel traditional p...  \n",
      "3              people men printed regular fit tshirt  \n",
      "4  monte carlo grey solid cotton blend polo colla...  \n",
      "Cleaned data saved to C:/Users/ANGELIN/Documents/cleaned_fashion_products.csv\n"
     ]
    }
   ],
   "source": [
    "import pandas as pd\n",
    "import re\n",
    "from nltk.corpus import stopwords\n",
    "from nltk.stem import WordNetLemmatizer\n",
    "import nltk\n",
    "\n",
    "# Ensure required NLTK data is downloaded\n",
    "nltk.download('stopwords')\n",
    "nltk.download('wordnet')\n",
    "\n",
    "# Initialize stopwords and lemmatizer\n",
    "stop_words = set(stopwords.words('english'))\n",
    "lemmatizer = WordNetLemmatizer()\n",
    "\n",
    "# Update your cleaning function\n",
    "def clean_product_name(text):\n",
    "    # Step 1: Remove special characters and lowercase the text\n",
    "    text = re.sub(r'[^a-zA-Z\\s]', '', text).lower()\n",
    "\n",
    "    # Step 2: Tokenize the text\n",
    "    words = text.split()\n",
    "\n",
    "    # Step 3: Remove stopwords and filter out short words\n",
    "    words = [word for word in words if word not in stop_words and len(word) > 2]\n",
    "\n",
    "    # Step 4: Perform lemmatization\n",
    "    lemmatized_words = [lemmatizer.lemmatize(word) for word in words]\n",
    "\n",
    "    return ' '.join(lemmatized_words)\n",
    "\n",
    "# Load your data\n",
    "file_path = r\"C:\\Users\\ANGELIN\\Downloads\\fashion_products_data.ldjson\"\n",
    "data = pd.read_json(file_path, lines=True)\n",
    "\n",
    "# Apply the cleaning function\n",
    "data['lemmatized_product_name'] = data['product_name'].apply(clean_product_name)\n",
    "\n",
    "# View the output\n",
    "print(data[['asin', 'product_name', 'lemmatized_product_name']].head())\n",
    "\n",
    "# Optional: Save the cleaned data to a new file\n",
    "output_file = output_file = \"C:/Users/ANGELIN/Documents/cleaned_fashion_products.csv\"\n",
    "\n",
    "data[['asin', 'product_name', 'lemmatized_product_name']].to_csv(output_file, index=False)\n",
    "print(f\"Cleaned data saved to {output_file}\")"
   ]
  },
  {
   "cell_type": "code",
   "execution_count": 31,
   "id": "73d6d132-57e5-487b-ae33-856fde6f7356",
   "metadata": {},
   "outputs": [],
   "source": [
    "import nltk\n",
    "from nltk.stem import PorterStemmer"
   ]
  },
  {
   "cell_type": "code",
   "execution_count": 32,
   "id": "76631e08-812e-453b-85be-13490bf94287",
   "metadata": {},
   "outputs": [
    {
     "name": "stdout",
     "output_type": "stream",
     "text": [
      "                                        product_name\n",
      "0  la' facon cotton kalamkari handblock sare blou...\n",
      "1   sf jean by pantaloon men' plain slim fit t-shirt\n",
      "2  lovista cotton gota patti tassel tradit print ...\n",
      "3               peopl men' print regular fit t-shirt\n",
      "4  mont carlo grey solid cotton blend polo collar...\n"
     ]
    }
   ],
   "source": [
    "# Initialize the PorterStemmer\n",
    "ps = PorterStemmer()\n",
    "\n",
    "def apply_stemming(text):\n",
    "    \"\"\"\n",
    "    Function to apply stemming to a given text.\n",
    "    Each word in the text will be reduced to its root form.\n",
    "    \"\"\"\n",
    "    # Tokenize the text into words\n",
    "    words = text.split()\n",
    "    \n",
    "    # Apply stemming to each word\n",
    "    stemmed_words = [ps.stem(word) for word in words]\n",
    "    \n",
    "    # Reassemble the text from the stemmed words\n",
    "    return ' '.join(stemmed_words)\n",
    "\n",
    "# Apply the stemming function to the 'product_name' column\n",
    "df['product_name'] = df['product_name'].apply(apply_stemming)\n",
    "\n",
    "# Display the first few rows to verify the changes\n",
    "print(df[['product_name']].head())"
   ]
  },
  {
   "cell_type": "code",
   "execution_count": 33,
   "id": "f9878dd1-6cf1-4694-b54b-bbfc5de17410",
   "metadata": {},
   "outputs": [],
   "source": [
    "import pandas as pd\n",
    "\n",
    "# Load your dataset\n",
    "file_path = \"C:/Users/ANGELIN/Documents/cleaned_fashion_products.csv\"\n",
    "\n",
    "data = pd.read_csv(file_path)"
   ]
  },
  {
   "cell_type": "code",
   "execution_count": 34,
   "id": "ad324f92-f128-4af9-a82d-09a1f8ccbedd",
   "metadata": {},
   "outputs": [
    {
     "name": "stdout",
     "output_type": "stream",
     "text": [
      "Index(['asin', 'product_name', 'lemmatized_product_name'], dtype='object')\n"
     ]
    }
   ],
   "source": [
    "print(data.columns)"
   ]
  },
  {
   "cell_type": "code",
   "execution_count": 35,
   "id": "0d6f2f88-479f-43b5-88fc-77807f6b72ea",
   "metadata": {},
   "outputs": [
    {
     "name": "stdout",
     "output_type": "stream",
     "text": [
      "(30000, 15734)\n",
      "Using Product ID: B07PYSF4WZ\n",
      "Displaying Bag of Words Recommendations:\n"
     ]
    },
    {
     "data": {
      "text/html": [
       "<img src=\"https://images-na.ssl-images-amazon.com/images/I/41O5j3l3ofL.jpg|https://images-na.ssl-images-amazon.com/images/I/41VgvZ4QnvL.jpg|https://images-na.ssl-images-amazon.com/images/I/51EGl11EsJL.jpg|https://images-na.ssl-images-amazon.com/images/I/41fQqIqi9%2BL.jpg\" width=\"200\"/>"
      ],
      "text/plain": [
       "<IPython.core.display.Image object>"
      ]
     },
     "metadata": {},
     "output_type": "display_data"
    },
    {
     "name": "stdout",
     "output_type": "stream",
     "text": [
      "Product Name: peopl men' print regular fit t-shirt\n",
      "Price: 195.0\n",
      "Rating: 3.0\n",
      "Similarity Score: 1.0000000000000002\n",
      "------\n"
     ]
    },
    {
     "data": {
      "text/html": [
       "<img src=\"https://images-na.ssl-images-amazon.com/images/I/41jByHTCAkL.jpg|https://images-na.ssl-images-amazon.com/images/I/411fH9yql3L.jpg|https://images-na.ssl-images-amazon.com/images/I/41t0VDYZ3JL.jpg|https://images-na.ssl-images-amazon.com/images/I/31f1deP%2B21L.jpg\" width=\"200\"/>"
      ],
      "text/plain": [
       "<IPython.core.display.Image object>"
      ]
     },
     "metadata": {},
     "output_type": "display_data"
    },
    {
     "name": "stdout",
     "output_type": "stream",
     "text": [
      "Product Name: peopl men' print regular fit t-shirt\n",
      "Price: 277.0\n",
      "Rating: 5.0\n",
      "Similarity Score: 1.0000000000000002\n",
      "------\n"
     ]
    },
    {
     "data": {
      "text/html": [
       "<img src=\"https://images-na.ssl-images-amazon.com/images/I/41W-imJefKL.jpg|https://images-na.ssl-images-amazon.com/images/I/41OmttRK%2BxL.jpg|https://images-na.ssl-images-amazon.com/images/I/51Ca5vgQOoL.jpg|https://images-na.ssl-images-amazon.com/images/I/31XGzGAVIvL.jpg\" width=\"200\"/>"
      ],
      "text/plain": [
       "<IPython.core.display.Image object>"
      ]
     },
     "metadata": {},
     "output_type": "display_data"
    },
    {
     "name": "stdout",
     "output_type": "stream",
     "text": [
      "Product Name: peopl men' print regular fit t-shirt\n",
      "Price: 199.0\n",
      "Rating: 5.0\n",
      "Similarity Score: 1.0000000000000002\n",
      "------\n"
     ]
    },
    {
     "data": {
      "text/html": [
       "<img src=\"https://images-na.ssl-images-amazon.com/images/I/51fsCyVFAoL.jpg|https://images-na.ssl-images-amazon.com/images/I/51OBszzJ-pL.jpg|https://images-na.ssl-images-amazon.com/images/I/51bMonSeraL.jpg|https://images-na.ssl-images-amazon.com/images/I/41KT1bGXx2L.jpg|https://images-na.ssl-images-amazon.com/images/I/41iZY9WnGCL.jpg|https://images-na.ssl-images-amazon.com/images/I/41ytNDNY31L.jpg\" width=\"200\"/>"
      ],
      "text/plain": [
       "<IPython.core.display.Image object>"
      ]
     },
     "metadata": {},
     "output_type": "display_data"
    },
    {
     "name": "stdout",
     "output_type": "stream",
     "text": [
      "Product Name: peopl men' print regular fit casual shirt\n",
      "Price: 823.0\n",
      "Rating: 5.0\n",
      "Similarity Score: 0.9258200997725515\n",
      "------\n"
     ]
    },
    {
     "data": {
      "text/html": [
       "<img src=\"https://images-na.ssl-images-amazon.com/images/I/31X9Heup8vL.jpg|https://images-na.ssl-images-amazon.com/images/I/31uj7LU7o-L.jpg|https://images-na.ssl-images-amazon.com/images/I/31myh%2B%2B8OGL.jpg|https://images-na.ssl-images-amazon.com/images/I/31uD1bqxMVL.jpg|https://images-na.ssl-images-amazon.com/images/I/21u%2BIBmPLjL.jpg\" width=\"200\"/>"
      ],
      "text/plain": [
       "<IPython.core.display.Image object>"
      ]
     },
     "metadata": {},
     "output_type": "display_data"
    },
    {
     "name": "stdout",
     "output_type": "stream",
     "text": [
      "Product Name: peopl men' regular fit t-shirt\n",
      "Price: 340.0\n",
      "Rating: 3.5\n",
      "Similarity Score: 0.9128709291752769\n",
      "------\n"
     ]
    }
   ],
   "source": [
    "from sklearn.metrics.pairwise import cosine_similarity\n",
    "import numpy as np\n",
    "from sklearn.feature_extraction.text import CountVectorizer\n",
    "from IPython.display import Image, display\n",
    "\n",
    "# Load your DataFrame (assuming df is already loaded with product data)\n",
    "# Ensure df has columns: 'asin', 'product_name', 'sales_price', 'rating', and 'medium' (image URL)\n",
    "\n",
    "# Example of a product dataset structure (ensure these columns exist)\n",
    "# df = pd.read_csv('your_product_data.csv')\n",
    "\n",
    "# Recommendation Function for Bag of Words\n",
    "def recommend_bow(product_id, num_recommendations, bow_matrix, df):\n",
    "    \"\"\"\n",
    "    Generates recommendations using cosine similarity with Bag of Words embeddings.\n",
    "    \"\"\"\n",
    "    # Check if the product_id exists in the dataframe\n",
    "    if product_id not in df['asin'].values:\n",
    "        print(f\"Product ID {product_id} not found in the dataset.\")\n",
    "        return None\n",
    "    \n",
    "    # Get the index of the product_id\n",
    "    product_index = df.index[df['asin'] == product_id][0]\n",
    "    \n",
    "    # Convert bow_matrix to dense format (if it is sparse)\n",
    "    bow_matrix_dense = bow_matrix.toarray()  # Convert sparse matrix to dense array\n",
    "    \n",
    "    # Calculate cosine similarity\n",
    "    cosine_sim = cosine_similarity([bow_matrix_dense[product_index]], bow_matrix_dense).flatten()\n",
    "    \n",
    "    # Get the indices of the most similar products\n",
    "    similar_indices = cosine_sim.argsort()[-num_recommendations - 1:-1][::-1]\n",
    "    \n",
    "    # Retrieve the recommendations\n",
    "    recommendations = df.iloc[similar_indices][['asin', 'product_name', 'sales_price', 'rating', 'medium']]\n",
    "    recommendations['similarity_score'] = cosine_sim[similar_indices]\n",
    "    \n",
    "    return recommendations\n",
    "\n",
    "# Display recommendations for Bag of Words\n",
    "def display_recommendations_bow(recommendations):\n",
    "    if recommendations is not None and not recommendations.empty:\n",
    "        print(\"Displaying Bag of Words Recommendations:\")\n",
    "        for index, row in recommendations.iterrows():\n",
    "            product_image_url = row['medium']  # Assuming 'medium' column contains the image URLs\n",
    "            product_name = row['product_name']\n",
    "            sales_price = row['sales_price']\n",
    "            \n",
    "            # Display product image\n",
    "            display(Image(url=product_image_url, width=200))\n",
    "            \n",
    "            # Display product details\n",
    "            print(f\"Product Name: {product_name}\")\n",
    "            print(f\"Price: {sales_price}\")\n",
    "            print(f\"Rating: {row['rating']}\")\n",
    "            print(f\"Similarity Score: {row['similarity_score']}\")\n",
    "            print(\"------\")\n",
    "    else:\n",
    "        print(\"No recommendations available.\")\n",
    "\n",
    "# Example usage (assuming you already have the recommendations DataFrame)\n",
    "# 1. Vectorize the product names to generate the BoW matrix\n",
    "vectorizer = CountVectorizer(stop_words='english')\n",
    "bow_matrix = vectorizer.fit_transform(df['product_name'])  # Or another appropriate column\n",
    "print(bow_matrix.shape)  # Check if the matrix is created correctly\n",
    "\n",
    "# 2. Get a valid product ID\n",
    "valid_product_id = df['asin'].iloc[3]  # Replace with a valid product ID from your dataset\n",
    "print(f\"Using Product ID: {valid_product_id}\")  # Check the product ID\n",
    "\n",
    "# 3. Get recommendations using Bag of Words\n",
    "num_recommendations = 5\n",
    "recommendations_bow = recommend_bow(valid_product_id, num_recommendations, bow_matrix, df)\n",
    "\n",
    "# 4. Display recommendations if they exist\n",
    "if recommendations_bow is not None:\n",
    "    display_recommendations_bow(recommendations_bow)\n",
    "else:\n",
    "    print(\"No recommendations found.\")"
   ]
  },
  {
   "cell_type": "code",
   "execution_count": 36,
   "id": "c4332fbc-a855-453c-9f80-68885fe5a97d",
   "metadata": {},
   "outputs": [
    {
     "name": "stdout",
     "output_type": "stream",
     "text": [
      "(30000, 15734)\n",
      "Using Product ID: B07PYSF4WZ\n",
      "Displaying TF-IDF Recommendations:\n"
     ]
    },
    {
     "data": {
      "text/html": [
       "<img src=\"https://images-na.ssl-images-amazon.com/images/I/41jByHTCAkL.jpg|https://images-na.ssl-images-amazon.com/images/I/411fH9yql3L.jpg|https://images-na.ssl-images-amazon.com/images/I/41t0VDYZ3JL.jpg|https://images-na.ssl-images-amazon.com/images/I/31f1deP%2B21L.jpg\" width=\"200\"/>"
      ],
      "text/plain": [
       "<IPython.core.display.Image object>"
      ]
     },
     "metadata": {},
     "output_type": "display_data"
    },
    {
     "name": "stdout",
     "output_type": "stream",
     "text": [
      "Product Name: peopl men' print regular fit t-shirt\n",
      "Price: 277.0\n",
      "Rating: 5.0\n",
      "Similarity Score: 1.0000000000000002\n",
      "------\n"
     ]
    },
    {
     "data": {
      "text/html": [
       "<img src=\"https://images-na.ssl-images-amazon.com/images/I/41iS0Qu4TEL.jpg|https://images-na.ssl-images-amazon.com/images/I/31lPlBISlHL.jpg|https://images-na.ssl-images-amazon.com/images/I/41h52mlDlKL.jpg|https://images-na.ssl-images-amazon.com/images/I/51QtUzcCUHL.jpg|https://images-na.ssl-images-amazon.com/images/I/31mEd-WAKGL.jpg\" width=\"200\"/>"
      ],
      "text/plain": [
       "<IPython.core.display.Image object>"
      ]
     },
     "metadata": {},
     "output_type": "display_data"
    },
    {
     "name": "stdout",
     "output_type": "stream",
     "text": [
      "Product Name: peopl men' print regular fit t-shirt\n",
      "Price: 179.0\n",
      "Rating: 2.0\n",
      "Similarity Score: 1.0000000000000002\n",
      "------\n"
     ]
    },
    {
     "data": {
      "text/html": [
       "<img src=\"https://images-na.ssl-images-amazon.com/images/I/41W-imJefKL.jpg|https://images-na.ssl-images-amazon.com/images/I/41OmttRK%2BxL.jpg|https://images-na.ssl-images-amazon.com/images/I/51Ca5vgQOoL.jpg|https://images-na.ssl-images-amazon.com/images/I/31XGzGAVIvL.jpg\" width=\"200\"/>"
      ],
      "text/plain": [
       "<IPython.core.display.Image object>"
      ]
     },
     "metadata": {},
     "output_type": "display_data"
    },
    {
     "name": "stdout",
     "output_type": "stream",
     "text": [
      "Product Name: peopl men' print regular fit t-shirt\n",
      "Price: 199.0\n",
      "Rating: 5.0\n",
      "Similarity Score: 1.0000000000000002\n",
      "------\n"
     ]
    },
    {
     "data": {
      "text/html": [
       "<img src=\"https://images-na.ssl-images-amazon.com/images/I/411u30t3fzL.jpg|https://images-na.ssl-images-amazon.com/images/I/31BMJTmF8nL.jpg|https://images-na.ssl-images-amazon.com/images/I/51gAUvbQR%2BL.jpg|https://images-na.ssl-images-amazon.com/images/I/51Ua5t3qw9L.jpg|https://images-na.ssl-images-amazon.com/images/I/31Ha4RNps6L.jpg\" width=\"200\"/>"
      ],
      "text/plain": [
       "<IPython.core.display.Image object>"
      ]
     },
     "metadata": {},
     "output_type": "display_data"
    },
    {
     "name": "stdout",
     "output_type": "stream",
     "text": [
      "Product Name: peopl men' regular fit t-shirt\n",
      "Price: 179.0\n",
      "Rating: 4.0\n",
      "Similarity Score: 0.9343360742990079\n",
      "------\n"
     ]
    },
    {
     "data": {
      "text/html": [
       "<img src=\"https://images-na.ssl-images-amazon.com/images/I/414Bcg7lX7L.jpg|https://images-na.ssl-images-amazon.com/images/I/31g0kkApn0L.jpg|https://images-na.ssl-images-amazon.com/images/I/41TaGZj2SEL.jpg|https://images-na.ssl-images-amazon.com/images/I/41sMA7xulAL.jpg|https://images-na.ssl-images-amazon.com/images/I/31uHlVLNBSL.jpg\" width=\"200\"/>"
      ],
      "text/plain": [
       "<IPython.core.display.Image object>"
      ]
     },
     "metadata": {},
     "output_type": "display_data"
    },
    {
     "name": "stdout",
     "output_type": "stream",
     "text": [
      "Product Name: peopl men' regular fit t-shirt\n",
      "Price: 249.0\n",
      "Rating: 3.0\n",
      "Similarity Score: 0.9343360742990079\n",
      "------\n"
     ]
    }
   ],
   "source": [
    "from sklearn.feature_extraction.text import TfidfVectorizer\n",
    "from sklearn.metrics.pairwise import cosine_similarity\n",
    "import numpy as np\n",
    "from IPython.display import Image, display\n",
    "\n",
    "# TF-IDF Recommendation Function\n",
    "def recommend_tfidf(product_id, num_recommendations, tfidf_matrix, df):\n",
    "    \"\"\"\n",
    "    Generates recommendations using cosine similarity with TF-IDF embeddings.\n",
    "    \"\"\"\n",
    "    # Check if the product_id exists in the dataframe\n",
    "    if product_id not in df['asin'].values:\n",
    "        print(f\"Product ID {product_id} not found in the dataset.\")\n",
    "        return None\n",
    "    \n",
    "    # Get the index of the product_id\n",
    "    product_index = df.index[df['asin'] == product_id][0]\n",
    "    \n",
    "    # Convert tfidf_matrix to dense format (if it is sparse)\n",
    "    tfidf_matrix_dense = tfidf_matrix.toarray()  # Convert sparse matrix to dense array\n",
    "    \n",
    "    # Calculate cosine similarity\n",
    "    cosine_sim = cosine_similarity([tfidf_matrix_dense[product_index]], tfidf_matrix_dense).flatten()\n",
    "    \n",
    "    # Get the indices of the most similar products\n",
    "    similar_indices = cosine_sim.argsort()[-num_recommendations - 1:-1][::-1]\n",
    "    \n",
    "    # Retrieve the recommendations\n",
    "    recommendations = df.iloc[similar_indices][['asin', 'product_name', 'sales_price', 'rating', 'medium']]\n",
    "    recommendations['similarity_score'] = cosine_sim[similar_indices]\n",
    "    \n",
    "    return recommendations\n",
    "\n",
    "# Display recommendations for TF-IDF\n",
    "def display_recommendations_tfidf(recommendations):\n",
    "    if recommendations is not None and not recommendations.empty:\n",
    "        print(\"Displaying TF-IDF Recommendations:\")\n",
    "        for index, row in recommendations.iterrows():\n",
    "            product_image_url = row['medium']  # Assuming 'medium' column contains the image URLs\n",
    "            product_name = row['product_name']\n",
    "            sales_price = row['sales_price']\n",
    "            \n",
    "            # Display product image\n",
    "            display(Image(url=product_image_url, width=200))\n",
    "            \n",
    "            # Display product details\n",
    "            print(f\"Product Name: {product_name}\")\n",
    "            print(f\"Price: {sales_price}\")\n",
    "            print(f\"Rating: {row['rating']}\")\n",
    "            print(f\"Similarity Score: {row['similarity_score']}\")\n",
    "            print(\"------\")\n",
    "    else:\n",
    "        print(\"No recommendations available.\")\n",
    "\n",
    "# Example usage (assuming you already have the recommendations DataFrame)\n",
    "# 1. Vectorize the product names using TF-IDF to generate the TF-IDF matrix\n",
    "vectorizer = TfidfVectorizer(stop_words='english')\n",
    "tfidf_matrix = vectorizer.fit_transform(df['product_name'])  # Or another appropriate column\n",
    "print(tfidf_matrix.shape)  # Check if the matrix is created correctly\n",
    "\n",
    "# 2. Get a valid product ID\n",
    "valid_product_id = df['asin'].iloc[3]  # Replace with a valid product ID from your dataset\n",
    "print(f\"Using Product ID: {valid_product_id}\")  # Check the product ID\n",
    "\n",
    "# 3. Get recommendations using TF-IDF\n",
    "num_recommendations = 5\n",
    "recommendations_tfidf = recommend_tfidf(valid_product_id, num_recommendations, tfidf_matrix, df)\n",
    "\n",
    "# 4. Display recommendations if they exist\n",
    "if recommendations_tfidf is not None:\n",
    "    display_recommendations_tfidf(recommendations_tfidf)\n",
    "else:\n",
    "    print(\"No recommendations found.\")"
   ]
  },
  {
   "cell_type": "code",
   "execution_count": null,
   "id": "323b8e16-05a0-44a2-90a9-043a6d390983",
   "metadata": {},
   "outputs": [],
   "source": []
  },
  {
   "cell_type": "code",
   "execution_count": 37,
   "id": "c7f0bac6-3e3a-4cc0-a558-de25f8628021",
   "metadata": {},
   "outputs": [
    {
     "name": "stdout",
     "output_type": "stream",
     "text": [
      "Using Product ID: B07PYSF4WZ\n",
      "Displaying Word2Vec Recommendations:\n"
     ]
    },
    {
     "data": {
      "text/html": [
       "<img src=\"https://images-na.ssl-images-amazon.com/images/I/41O5j3l3ofL.jpg|https://images-na.ssl-images-amazon.com/images/I/41VgvZ4QnvL.jpg|https://images-na.ssl-images-amazon.com/images/I/51EGl11EsJL.jpg|https://images-na.ssl-images-amazon.com/images/I/41fQqIqi9%2BL.jpg\" width=\"200\"/>"
      ],
      "text/plain": [
       "<IPython.core.display.Image object>"
      ]
     },
     "metadata": {},
     "output_type": "display_data"
    },
    {
     "name": "stdout",
     "output_type": "stream",
     "text": [
      "Product Name: peopl men' print regular fit t-shirt\n",
      "Price: 195.0\n",
      "Rating: 3.0\n",
      "Similarity Score: 0.9999999403953552\n",
      "------\n"
     ]
    },
    {
     "data": {
      "text/html": [
       "<img src=\"https://images-na.ssl-images-amazon.com/images/I/51QLzbv5DvL.jpg|https://images-na.ssl-images-amazon.com/images/I/41ympw%2BX3UL.jpg\" width=\"200\"/>"
      ],
      "text/plain": [
       "<IPython.core.display.Image object>"
      ]
     },
     "metadata": {},
     "output_type": "display_data"
    },
    {
     "name": "stdout",
     "output_type": "stream",
     "text": [
      "Product Name: stormborn men' print regular fit t-shirt\n",
      "Price: 399.0\n",
      "Rating: 4.0\n",
      "Similarity Score: 0.9999999403953552\n",
      "------\n"
     ]
    },
    {
     "data": {
      "text/html": [
       "<img src=\"https://images-na.ssl-images-amazon.com/images/I/41vPSJzlPBL.jpg|https://images-na.ssl-images-amazon.com/images/I/41DNoxMVLNL.jpg|https://images-na.ssl-images-amazon.com/images/I/41QVYdoIzYL.jpg|https://images-na.ssl-images-amazon.com/images/I/51iAwLu4%2BRL.jpg|https://images-na.ssl-images-amazon.com/images/I/41K7WWDeWxL.jpg\" width=\"200\"/>"
      ],
      "text/plain": [
       "<IPython.core.display.Image object>"
      ]
     },
     "metadata": {},
     "output_type": "display_data"
    },
    {
     "name": "stdout",
     "output_type": "stream",
     "text": [
      "Product Name: parx men' print regular fit t-shirt\n",
      "Price: 399.0\n",
      "Rating: 5.0\n",
      "Similarity Score: 0.9999999403953552\n",
      "------\n"
     ]
    },
    {
     "data": {
      "text/html": [
       "<img src=\"https://images-na.ssl-images-amazon.com/images/I/41olPZhE23L.jpg|https://images-na.ssl-images-amazon.com/images/I/31SiANhDAOL.jpg|https://images-na.ssl-images-amazon.com/images/I/41OCjXnRJWL.jpg|https://images-na.ssl-images-amazon.com/images/I/31Uyal2dYCL.jpg\" width=\"200\"/>"
      ],
      "text/plain": [
       "<IPython.core.display.Image object>"
      ]
     },
     "metadata": {},
     "output_type": "display_data"
    },
    {
     "name": "stdout",
     "output_type": "stream",
     "text": [
      "Product Name: abof men' print regular fit t-shirt\n",
      "Price: 238.0\n",
      "Rating: 5.0\n",
      "Similarity Score: 0.9999999403953552\n",
      "------\n"
     ]
    },
    {
     "data": {
      "text/html": [
       "<img src=\"https://images-na.ssl-images-amazon.com/images/I/41mmSQ%2BFsKL.jpg|https://images-na.ssl-images-amazon.com/images/I/41eWH0GGt1L.jpg|https://images-na.ssl-images-amazon.com/images/I/414bKRHlkDL.jpg|https://images-na.ssl-images-amazon.com/images/I/31R%2BhyQlVFL.jpg\" width=\"200\"/>"
      ],
      "text/plain": [
       "<IPython.core.display.Image object>"
      ]
     },
     "metadata": {},
     "output_type": "display_data"
    },
    {
     "name": "stdout",
     "output_type": "stream",
     "text": [
      "Product Name: abof men' print regular fit t-shirt\n",
      "Price: 278.0\n",
      "Rating: 5.0\n",
      "Similarity Score: 0.9999999403953552\n",
      "------\n"
     ]
    }
   ],
   "source": [
    "import gensim.downloader as api\n",
    "from sklearn.metrics.pairwise import cosine_similarity\n",
    "import numpy as np\n",
    "from IPython.display import Image, display\n",
    "\n",
    "# Load pre-trained Word2Vec model (you can use other models)\n",
    "word2vec_model = api.load(\"glove-wiki-gigaword-100\")  # Use a pre-trained GloVe model or Word2Vec\n",
    "\n",
    "# Word2Vec Recommendation Function\n",
    "def recommend_word2vec(product_id, num_recommendations, df, word2vec_model):\n",
    "    \"\"\"\n",
    "    Generates recommendations using cosine similarity with Word2Vec embeddings.\n",
    "    \"\"\"\n",
    "    # Check if the product_id exists in the dataframe\n",
    "    if product_id not in df['asin'].values:\n",
    "        print(f\"Product ID {product_id} not found in the dataset.\")\n",
    "        return None\n",
    "    \n",
    "    # Get the index of the product_id\n",
    "    product_index = df.index[df['asin'] == product_id][0]\n",
    "    \n",
    "    # Retrieve the product description or product name for Word2Vec embedding\n",
    "    product_name = df.iloc[product_index]['product_name']\n",
    "    \n",
    "    # Get the embedding for the product (sum of word embeddings for simplicity)\n",
    "    product_vector = get_word2vec_embedding(product_name, word2vec_model)\n",
    "    \n",
    "    if product_vector is None:\n",
    "        print(f\"No Word2Vec embedding found for the product '{product_name}'.\")\n",
    "        return None\n",
    "    \n",
    "    # Calculate cosine similarity with all other products\n",
    "    similarities = []\n",
    "    for idx, row in df.iterrows():\n",
    "        other_product_name = row['product_name']\n",
    "        other_product_vector = get_word2vec_embedding(other_product_name, word2vec_model)\n",
    "        \n",
    "        if other_product_vector is not None:\n",
    "            similarity = cosine_similarity([product_vector], [other_product_vector]).flatten()[0]\n",
    "            similarities.append((row['asin'], similarity, row['product_name'], row['sales_price'], row['rating'], row['medium']))\n",
    "    \n",
    "    # Sort by similarity and return top recommendations\n",
    "    similarities.sort(key=lambda x: x[1], reverse=True)\n",
    "    recommendations = similarities[:num_recommendations]\n",
    "    \n",
    "    # Convert to DataFrame for easier viewing\n",
    "    recommendations_df = pd.DataFrame(recommendations, columns=['asin', 'similarity_score', 'product_name', 'sales_price', 'rating', 'medium'])\n",
    "    \n",
    "    return recommendations_df\n",
    "\n",
    "# Helper function to get Word2Vec embedding for a product (average of word vectors)\n",
    "def get_word2vec_embedding(text, word2vec_model):\n",
    "    \"\"\"\n",
    "    Given a product name or description, returns the average Word2Vec embedding.\n",
    "    \"\"\"\n",
    "    words = text.split()\n",
    "    word_vectors = []\n",
    "    \n",
    "    for word in words:\n",
    "        if word in word2vec_model:\n",
    "            word_vectors.append(word2vec_model[word])\n",
    "    \n",
    "    if word_vectors:\n",
    "        return np.mean(word_vectors, axis=0)\n",
    "    else:\n",
    "        return None\n",
    "\n",
    "# Display recommendations for Word2Vec\n",
    "def display_recommendations_word2vec(recommendations):\n",
    "    if recommendations is not None and not recommendations.empty:\n",
    "        print(\"Displaying Word2Vec Recommendations:\")\n",
    "        for index, row in recommendations.iterrows():\n",
    "            product_image_url = row['medium']  # Assuming 'medium' column contains the image URLs\n",
    "            product_name = row['product_name']\n",
    "            sales_price = row['sales_price']\n",
    "            \n",
    "            # Display product image\n",
    "            display(Image(url=product_image_url, width=200))\n",
    "            \n",
    "            # Display product details\n",
    "            print(f\"Product Name: {product_name}\")\n",
    "            print(f\"Price: {sales_price}\")\n",
    "            print(f\"Rating: {row['rating']}\")\n",
    "            print(f\"Similarity Score: {row['similarity_score']}\")\n",
    "            print(\"------\")\n",
    "    else:\n",
    "        print(\"No recommendations available.\")\n",
    "\n",
    "# Example usage (assuming you already have the recommendations DataFrame)\n",
    "# 1. Get a valid product ID\n",
    "valid_product_id = df['asin'].iloc[3]  # Replace with a valid product ID from your dataset\n",
    "print(f\"Using Product ID: {valid_product_id}\")  # Check the product ID\n",
    "\n",
    "# 2. Get recommendations using Word2Vec\n",
    "num_recommendations = 5\n",
    "recommendations_word2vec = recommend_word2vec(valid_product_id, num_recommendations, df, word2vec_model)\n",
    "\n",
    "# 3. Display recommendations if they exist\n",
    "if recommendations_word2vec is not None:\n",
    "    display_recommendations_word2vec(recommendations_word2vec)\n",
    "else:\n",
    "    print(\"No recommendations found.\")"
   ]
  },
  {
   "cell_type": "code",
   "execution_count": 38,
   "id": "77dbf394-d20c-401d-82f4-625d2e840a00",
   "metadata": {},
   "outputs": [
    {
     "name": "stdout",
     "output_type": "stream",
     "text": [
      "Displaying Bag of Words Recommendations:\n"
     ]
    },
    {
     "data": {
      "text/html": [
       "<img src=\"https://images-na.ssl-images-amazon.com/images/I/41iS0Qu4TEL.jpg|https://images-na.ssl-images-amazon.com/images/I/31lPlBISlHL.jpg|https://images-na.ssl-images-amazon.com/images/I/41h52mlDlKL.jpg|https://images-na.ssl-images-amazon.com/images/I/51QtUzcCUHL.jpg|https://images-na.ssl-images-amazon.com/images/I/31mEd-WAKGL.jpg\" width=\"200\"/>"
      ],
      "text/plain": [
       "<IPython.core.display.Image object>"
      ]
     },
     "metadata": {},
     "output_type": "display_data"
    },
    {
     "name": "stdout",
     "output_type": "stream",
     "text": [
      "Product Name: peopl men' print regular fit t-shirt\n",
      "Price: 179.0\n",
      "Rating: 2.0\n",
      "Similarity Score: 0.9999999701976776\n",
      "------\n"
     ]
    },
    {
     "data": {
      "text/html": [
       "<img src=\"https://images-na.ssl-images-amazon.com/images/I/41W-imJefKL.jpg|https://images-na.ssl-images-amazon.com/images/I/41OmttRK%2BxL.jpg|https://images-na.ssl-images-amazon.com/images/I/51Ca5vgQOoL.jpg|https://images-na.ssl-images-amazon.com/images/I/31XGzGAVIvL.jpg\" width=\"200\"/>"
      ],
      "text/plain": [
       "<IPython.core.display.Image object>"
      ]
     },
     "metadata": {},
     "output_type": "display_data"
    },
    {
     "name": "stdout",
     "output_type": "stream",
     "text": [
      "Product Name: peopl men' print regular fit t-shirt\n",
      "Price: 199.0\n",
      "Rating: 5.0\n",
      "Similarity Score: 0.9999999701976776\n",
      "------\n"
     ]
    },
    {
     "data": {
      "text/html": [
       "<img src=\"https://images-na.ssl-images-amazon.com/images/I/41jByHTCAkL.jpg|https://images-na.ssl-images-amazon.com/images/I/411fH9yql3L.jpg|https://images-na.ssl-images-amazon.com/images/I/41t0VDYZ3JL.jpg|https://images-na.ssl-images-amazon.com/images/I/31f1deP%2B21L.jpg\" width=\"200\"/>"
      ],
      "text/plain": [
       "<IPython.core.display.Image object>"
      ]
     },
     "metadata": {},
     "output_type": "display_data"
    },
    {
     "name": "stdout",
     "output_type": "stream",
     "text": [
      "Product Name: peopl men' print regular fit t-shirt\n",
      "Price: 277.0\n",
      "Rating: 5.0\n",
      "Similarity Score: 0.9999999701976776\n",
      "------\n"
     ]
    },
    {
     "data": {
      "text/html": [
       "<img src=\"https://images-na.ssl-images-amazon.com/images/I/4150tr6xiuL.jpg|https://images-na.ssl-images-amazon.com/images/I/31xS6v2rw%2BL.jpg|https://images-na.ssl-images-amazon.com/images/I/41mfQuBlTkL.jpg|https://images-na.ssl-images-amazon.com/images/I/312LFKR8nuL.jpg\" width=\"200\"/>"
      ],
      "text/plain": [
       "<IPython.core.display.Image object>"
      ]
     },
     "metadata": {},
     "output_type": "display_data"
    },
    {
     "name": "stdout",
     "output_type": "stream",
     "text": [
      "Product Name: peopl men' regular fit t-shirt\n",
      "Price: 273.0\n",
      "Rating: 4.5\n",
      "Similarity Score: 0.9436970393391402\n",
      "------\n"
     ]
    },
    {
     "data": {
      "text/html": [
       "<img src=\"https://images-na.ssl-images-amazon.com/images/I/41tceCWWGNL.jpg|https://images-na.ssl-images-amazon.com/images/I/312OIN2ZsAL.jpg|https://images-na.ssl-images-amazon.com/images/I/41kIJZclqhL.jpg|https://images-na.ssl-images-amazon.com/images/I/41XL0In3ZvL.jpg|https://images-na.ssl-images-amazon.com/images/I/316LWLhHPQL.jpg\" width=\"200\"/>"
      ],
      "text/plain": [
       "<IPython.core.display.Image object>"
      ]
     },
     "metadata": {},
     "output_type": "display_data"
    },
    {
     "name": "stdout",
     "output_type": "stream",
     "text": [
      "Product Name: peopl men' regular fit t-shirt\n",
      "Price: 156.0\n",
      "Rating: 5.0\n",
      "Similarity Score: 0.9436970393391402\n",
      "------\n"
     ]
    }
   ],
   "source": [
    "import gensim.downloader as api\n",
    "from sklearn.metrics.pairwise import cosine_similarity\n",
    "import numpy as np\n",
    "from sklearn.feature_extraction.text import TfidfVectorizer\n",
    "\n",
    "# Load the pre-trained model for Word2Vec (or use GloVe)\n",
    "word2vec_model = api.load(\"glove-wiki-gigaword-100\")  # Or you can use Word2Vec\n",
    "\n",
    "# Initialize TF-IDF vectorizer\n",
    "tfidf_vectorizer = TfidfVectorizer(stop_words='english')\n",
    "\n",
    "# Calculate TF-IDF matrix\n",
    "tfidf_matrix = tfidf_vectorizer.fit_transform(df['product_name'])  # Assuming 'product_name' column contains text data\n",
    "\n",
    "# Function to get Word2Vec embedding for product name\n",
    "def get_word2vec_embedding(text, word2vec_model):\n",
    "    words = text.split()\n",
    "    word_vectors = [word2vec_model[word] for word in words if word in word2vec_model]\n",
    "    return np.mean(word_vectors, axis=0) if word_vectors else None\n",
    "\n",
    "# Function to get recommendations combining TF-IDF and Word2Vec\n",
    "def recommend_combined(product_id, num_recommendations, df, tfidf_matrix, word2vec_model, alpha=0.5):\n",
    "    if product_id not in df['asin'].values:\n",
    "        print(f\"Product ID {product_id} not found in the dataset.\")\n",
    "        return None\n",
    "    \n",
    "    # Get the index of the product_id\n",
    "    product_index = df.index[df['asin'] == product_id][0]\n",
    "    \n",
    "    # Get TF-IDF similarity (flatten tfidf_matrix to 2D)\n",
    "    tfidf_cosine_sim = cosine_similarity(tfidf_matrix[product_index], tfidf_matrix).flatten()\n",
    "    \n",
    "    # Get Word2Vec similarity\n",
    "    product_name = df.iloc[product_index]['product_name']\n",
    "    product_vector = get_word2vec_embedding(product_name, word2vec_model)\n",
    "    \n",
    "    word2vec_similarities = []\n",
    "    for idx, row in df.iterrows():\n",
    "        other_product_name = row['product_name']\n",
    "        other_product_vector = get_word2vec_embedding(other_product_name, word2vec_model)\n",
    "        if other_product_vector is not None:\n",
    "            similarity = cosine_similarity([product_vector], [other_product_vector]).flatten()[0]\n",
    "            word2vec_similarities.append(similarity)\n",
    "        else:\n",
    "            word2vec_similarities.append(0)\n",
    "    \n",
    "    # Combine both similarities\n",
    "    combined_similarities = alpha * tfidf_cosine_sim + (1 - alpha) * np.array(word2vec_similarities)\n",
    "    \n",
    "    # Get the indices of the most similar products\n",
    "    similar_indices = combined_similarities.argsort()[-num_recommendations - 1:-1][::-1]\n",
    "    \n",
    "    # Retrieve the recommendations and add similarity scores\n",
    "    recommendations = df.iloc[similar_indices][['asin', 'product_name', 'sales_price', 'rating', 'medium']]\n",
    "    recommendations['similarity_score'] = combined_similarities[similar_indices]\n",
    "    \n",
    "    return recommendations\n",
    "\n",
    "# Example usage:\n",
    "valid_product_id = df['asin'].iloc[3]  # Choose a product_id from your dataset\n",
    "num_recommendations = 5\n",
    "recommendations_combined = recommend_combined(valid_product_id, num_recommendations, df, tfidf_matrix, word2vec_model)\n",
    "\n",
    "# Display recommendations (ensure you have a function for this)\n",
    "if recommendations_combined is not None:\n",
    "    display_recommendations_bow(recommendations_combined)  # Adjust the display function as per your need\n"
   ]
  },
  {
   "cell_type": "code",
   "execution_count": 64,
   "id": "a6e7af91-62a3-4186-ba94-841928b8686d",
   "metadata": {},
   "outputs": [
    {
     "name": "stdout",
     "output_type": "stream",
     "text": [
      "Displaying Brand-Based Recommendations:\n",
      "Product Name: Sf Jeans By Pantaloons Men's Slim fit T-Shirt\n",
      "Brand: Unknown\n",
      "Price: Unknown\n",
      "Rating: Unknown\n",
      "Similarity Score: 0.9230393126979949\n",
      "------\n",
      "Error loading image.\n",
      "Product Name: Sf Jeans By Pantaloons Men's Slim fit T-Shirt\n",
      "Brand: Unknown\n",
      "Price: Unknown\n",
      "Rating: Unknown\n",
      "Similarity Score: 0.9230393126979949\n",
      "------\n",
      "Error loading image.\n",
      "Product Name: Sf Jeans By Pantaloons Men's Slim fit T-Shirt\n",
      "Brand: Unknown\n",
      "Price: Unknown\n",
      "Rating: Unknown\n",
      "Similarity Score: 0.9230393126979949\n",
      "------\n",
      "Error loading image.\n",
      "Product Name: Sf Jeans By Pantaloons Men's Plain Regular Fit T-Shirt\n",
      "Brand: Unknown\n",
      "Price: Unknown\n",
      "Rating: Unknown\n",
      "Similarity Score: 0.8845437932984115\n",
      "------\n",
      "Error loading image.\n",
      "Product Name: Pepe Jeans Men's Plain Slim Fit T-Shirt\n",
      "Brand: Unknown\n",
      "Price: Unknown\n",
      "Rating: Unknown\n",
      "Similarity Score: 0.7074799528145308\n",
      "------\n",
      "Error loading image.\n"
     ]
    }
   ],
   "source": [
    "import pandas as pd\n",
    "from sklearn.feature_extraction.text import TfidfVectorizer\n",
    "from sklearn.metrics.pairwise import cosine_similarity\n",
    "from IPython.display import Image, display\n",
    "\n",
    "# Function to recommend based on product name similarity\n",
    "def recommend_brand_based_with_image(product_id, num_recommendations, df):\n",
    "    \"\"\"\n",
    "    Recommends products based on similarity of product names or lemmatized names.\n",
    "    Displays product images alongside recommendations.\n",
    "    \"\"\"\n",
    "    # Check if the product_id exists in the DataFrame\n",
    "    if product_id not in df['asin'].values:\n",
    "        print(f\"Product ID {product_id} not found in the dataset.\")\n",
    "        return None\n",
    "    \n",
    "    # Get the product index based on the product_id (asin)\n",
    "    product_index = df.index[df['asin'] == product_id][0]\n",
    "    \n",
    "    # Get the target product's name or lemmatized name\n",
    "    target_product_name = df.iloc[product_index]['lemmatized_product_name']\n",
    "    \n",
    "    # Use TF-IDF Vectorizer to convert product names to numerical vectors\n",
    "    tfidf_vectorizer = TfidfVectorizer(stop_words='english')\n",
    "    tfidf_matrix = tfidf_vectorizer.fit_transform(df['lemmatized_product_name'])\n",
    "    \n",
    "    # Calculate cosine similarity between the target product and all others\n",
    "    cosine_similarities = cosine_similarity(tfidf_matrix[product_index], tfidf_matrix).flatten()\n",
    "    \n",
    "    # Get the indices of the most similar products\n",
    "    similar_indices = cosine_similarities.argsort()[-(num_recommendations+1):-1][::-1]\n",
    "    \n",
    "    # Collect the product details for the top recommendations\n",
    "    recommendations = []\n",
    "    for idx in similar_indices:\n",
    "        recommended_product = df.iloc[idx]\n",
    "        recommendations.append({\n",
    "            'asin': recommended_product['asin'],\n",
    "            'product_name': recommended_product['product_name'],\n",
    "            'similarity_score': cosine_similarities[idx],\n",
    "            'brand': recommended_product.get('brand', 'Unknown'),\n",
    "            'price': recommended_product.get('sales_price', 'Unknown'),\n",
    "            'rating': recommended_product.get('rating', 'Unknown'),\n",
    "            'image_path': recommended_product.get('image_path', 'default_image_path.jpg')  # Ensure image_path exists\n",
    "        })\n",
    "    \n",
    "    recommendations_df = pd.DataFrame(recommendations)\n",
    "    return recommendations_df\n",
    "\n",
    "# Function to display brand-based recommendations with images using IPython.display\n",
    "def display_recommendations_with_images(recommendations):\n",
    "    if recommendations is not None and not recommendations.empty:\n",
    "        print(\"Displaying Brand-Based Recommendations:\")\n",
    "        for index, row in recommendations.iterrows():\n",
    "            print(f\"Product Name: {row['product_name']}\")\n",
    "            print(f\"Brand: {row['brand']}\")\n",
    "            print(f\"Price: {row['price']}\")\n",
    "            print(f\"Rating: {row['rating']}\")\n",
    "            print(f\"Similarity Score: {row['similarity_score']}\")\n",
    "            print(\"------\")\n",
    "            \n",
    "            # Display product image (make sure 'image_path' is valid)\n",
    "            img_path = row['image_path']  # Image path or URL\n",
    "            try:\n",
    "                # Display image using IPython.display\n",
    "                display(Image(filename=img_path))  # For local paths\n",
    "                # If using URLs, use display(Image(url=img_path))\n",
    "            except:\n",
    "                print(\"Error loading image.\")\n",
    "                continue\n",
    "    else:\n",
    "        print(\"No brand-based recommendations available.\")\n",
    "\n",
    "# Example usage (assuming you have a DataFrame `df` with required columns)\n",
    "valid_product_id = df['asin'].iloc[1]  # Replace with a valid product ID from your dataset\n",
    "num_recommendations = 5\n",
    "\n",
    "recommendations_brand_based_with_image = recommend_brand_based_with_image(valid_product_id, num_recommendations, df)\n",
    "\n",
    "# Display recommendations with images\n",
    "if recommendations_brand_based_with_image is not None:\n",
    "    display_recommendations_with_images(recommendations_brand_based_with_image)\n"
   ]
  },
  {
   "cell_type": "code",
   "execution_count": 75,
   "id": "87d4f48e-a85d-45ee-b493-e41e7edabb83",
   "metadata": {},
   "outputs": [
    {
     "ename": "FileNotFoundError",
     "evalue": "[Errno 2] No such file or directory: 'your_dataset.csv'",
     "output_type": "error",
     "traceback": [
      "\u001b[1;31m---------------------------------------------------------------------------\u001b[0m",
      "\u001b[1;31mFileNotFoundError\u001b[0m                         Traceback (most recent call last)",
      "Cell \u001b[1;32mIn[75], line 69\u001b[0m\n\u001b[0;32m     65\u001b[0m         \u001b[38;5;28mprint\u001b[39m(\u001b[38;5;124m\"\u001b[39m\u001b[38;5;124mNo recommendations available.\u001b[39m\u001b[38;5;124m\"\u001b[39m)\n\u001b[0;32m     67\u001b[0m \u001b[38;5;66;03m# Load your dataset (replace 'your_dataset.csv' with your file)\u001b[39;00m\n\u001b[0;32m     68\u001b[0m \u001b[38;5;66;03m# Make sure it has columns 'asin', 'product_name', and 'image_path'\u001b[39;00m\n\u001b[1;32m---> 69\u001b[0m df \u001b[38;5;241m=\u001b[39m \u001b[43mpd\u001b[49m\u001b[38;5;241;43m.\u001b[39;49m\u001b[43mread_csv\u001b[49m\u001b[43m(\u001b[49m\u001b[38;5;124;43m'\u001b[39;49m\u001b[38;5;124;43myour_dataset.csv\u001b[39;49m\u001b[38;5;124;43m'\u001b[39;49m\u001b[43m)\u001b[49m\n\u001b[0;32m     71\u001b[0m \u001b[38;5;66;03m# Add image features\u001b[39;00m\n\u001b[0;32m     72\u001b[0m df \u001b[38;5;241m=\u001b[39m add_image_features(df)\n",
      "File \u001b[1;32mC:\\Python312\\Lib\\site-packages\\pandas\\io\\parsers\\readers.py:1026\u001b[0m, in \u001b[0;36mread_csv\u001b[1;34m(filepath_or_buffer, sep, delimiter, header, names, index_col, usecols, dtype, engine, converters, true_values, false_values, skipinitialspace, skiprows, skipfooter, nrows, na_values, keep_default_na, na_filter, verbose, skip_blank_lines, parse_dates, infer_datetime_format, keep_date_col, date_parser, date_format, dayfirst, cache_dates, iterator, chunksize, compression, thousands, decimal, lineterminator, quotechar, quoting, doublequote, escapechar, comment, encoding, encoding_errors, dialect, on_bad_lines, delim_whitespace, low_memory, memory_map, float_precision, storage_options, dtype_backend)\u001b[0m\n\u001b[0;32m   1013\u001b[0m kwds_defaults \u001b[38;5;241m=\u001b[39m _refine_defaults_read(\n\u001b[0;32m   1014\u001b[0m     dialect,\n\u001b[0;32m   1015\u001b[0m     delimiter,\n\u001b[1;32m   (...)\u001b[0m\n\u001b[0;32m   1022\u001b[0m     dtype_backend\u001b[38;5;241m=\u001b[39mdtype_backend,\n\u001b[0;32m   1023\u001b[0m )\n\u001b[0;32m   1024\u001b[0m kwds\u001b[38;5;241m.\u001b[39mupdate(kwds_defaults)\n\u001b[1;32m-> 1026\u001b[0m \u001b[38;5;28;01mreturn\u001b[39;00m \u001b[43m_read\u001b[49m\u001b[43m(\u001b[49m\u001b[43mfilepath_or_buffer\u001b[49m\u001b[43m,\u001b[49m\u001b[43m \u001b[49m\u001b[43mkwds\u001b[49m\u001b[43m)\u001b[49m\n",
      "File \u001b[1;32mC:\\Python312\\Lib\\site-packages\\pandas\\io\\parsers\\readers.py:620\u001b[0m, in \u001b[0;36m_read\u001b[1;34m(filepath_or_buffer, kwds)\u001b[0m\n\u001b[0;32m    617\u001b[0m _validate_names(kwds\u001b[38;5;241m.\u001b[39mget(\u001b[38;5;124m\"\u001b[39m\u001b[38;5;124mnames\u001b[39m\u001b[38;5;124m\"\u001b[39m, \u001b[38;5;28;01mNone\u001b[39;00m))\n\u001b[0;32m    619\u001b[0m \u001b[38;5;66;03m# Create the parser.\u001b[39;00m\n\u001b[1;32m--> 620\u001b[0m parser \u001b[38;5;241m=\u001b[39m \u001b[43mTextFileReader\u001b[49m\u001b[43m(\u001b[49m\u001b[43mfilepath_or_buffer\u001b[49m\u001b[43m,\u001b[49m\u001b[43m \u001b[49m\u001b[38;5;241;43m*\u001b[39;49m\u001b[38;5;241;43m*\u001b[39;49m\u001b[43mkwds\u001b[49m\u001b[43m)\u001b[49m\n\u001b[0;32m    622\u001b[0m \u001b[38;5;28;01mif\u001b[39;00m chunksize \u001b[38;5;129;01mor\u001b[39;00m iterator:\n\u001b[0;32m    623\u001b[0m     \u001b[38;5;28;01mreturn\u001b[39;00m parser\n",
      "File \u001b[1;32mC:\\Python312\\Lib\\site-packages\\pandas\\io\\parsers\\readers.py:1620\u001b[0m, in \u001b[0;36mTextFileReader.__init__\u001b[1;34m(self, f, engine, **kwds)\u001b[0m\n\u001b[0;32m   1617\u001b[0m     \u001b[38;5;28mself\u001b[39m\u001b[38;5;241m.\u001b[39moptions[\u001b[38;5;124m\"\u001b[39m\u001b[38;5;124mhas_index_names\u001b[39m\u001b[38;5;124m\"\u001b[39m] \u001b[38;5;241m=\u001b[39m kwds[\u001b[38;5;124m\"\u001b[39m\u001b[38;5;124mhas_index_names\u001b[39m\u001b[38;5;124m\"\u001b[39m]\n\u001b[0;32m   1619\u001b[0m \u001b[38;5;28mself\u001b[39m\u001b[38;5;241m.\u001b[39mhandles: IOHandles \u001b[38;5;241m|\u001b[39m \u001b[38;5;28;01mNone\u001b[39;00m \u001b[38;5;241m=\u001b[39m \u001b[38;5;28;01mNone\u001b[39;00m\n\u001b[1;32m-> 1620\u001b[0m \u001b[38;5;28mself\u001b[39m\u001b[38;5;241m.\u001b[39m_engine \u001b[38;5;241m=\u001b[39m \u001b[38;5;28;43mself\u001b[39;49m\u001b[38;5;241;43m.\u001b[39;49m\u001b[43m_make_engine\u001b[49m\u001b[43m(\u001b[49m\u001b[43mf\u001b[49m\u001b[43m,\u001b[49m\u001b[43m \u001b[49m\u001b[38;5;28;43mself\u001b[39;49m\u001b[38;5;241;43m.\u001b[39;49m\u001b[43mengine\u001b[49m\u001b[43m)\u001b[49m\n",
      "File \u001b[1;32mC:\\Python312\\Lib\\site-packages\\pandas\\io\\parsers\\readers.py:1880\u001b[0m, in \u001b[0;36mTextFileReader._make_engine\u001b[1;34m(self, f, engine)\u001b[0m\n\u001b[0;32m   1878\u001b[0m     \u001b[38;5;28;01mif\u001b[39;00m \u001b[38;5;124m\"\u001b[39m\u001b[38;5;124mb\u001b[39m\u001b[38;5;124m\"\u001b[39m \u001b[38;5;129;01mnot\u001b[39;00m \u001b[38;5;129;01min\u001b[39;00m mode:\n\u001b[0;32m   1879\u001b[0m         mode \u001b[38;5;241m+\u001b[39m\u001b[38;5;241m=\u001b[39m \u001b[38;5;124m\"\u001b[39m\u001b[38;5;124mb\u001b[39m\u001b[38;5;124m\"\u001b[39m\n\u001b[1;32m-> 1880\u001b[0m \u001b[38;5;28mself\u001b[39m\u001b[38;5;241m.\u001b[39mhandles \u001b[38;5;241m=\u001b[39m \u001b[43mget_handle\u001b[49m\u001b[43m(\u001b[49m\n\u001b[0;32m   1881\u001b[0m \u001b[43m    \u001b[49m\u001b[43mf\u001b[49m\u001b[43m,\u001b[49m\n\u001b[0;32m   1882\u001b[0m \u001b[43m    \u001b[49m\u001b[43mmode\u001b[49m\u001b[43m,\u001b[49m\n\u001b[0;32m   1883\u001b[0m \u001b[43m    \u001b[49m\u001b[43mencoding\u001b[49m\u001b[38;5;241;43m=\u001b[39;49m\u001b[38;5;28;43mself\u001b[39;49m\u001b[38;5;241;43m.\u001b[39;49m\u001b[43moptions\u001b[49m\u001b[38;5;241;43m.\u001b[39;49m\u001b[43mget\u001b[49m\u001b[43m(\u001b[49m\u001b[38;5;124;43m\"\u001b[39;49m\u001b[38;5;124;43mencoding\u001b[39;49m\u001b[38;5;124;43m\"\u001b[39;49m\u001b[43m,\u001b[49m\u001b[43m \u001b[49m\u001b[38;5;28;43;01mNone\u001b[39;49;00m\u001b[43m)\u001b[49m\u001b[43m,\u001b[49m\n\u001b[0;32m   1884\u001b[0m \u001b[43m    \u001b[49m\u001b[43mcompression\u001b[49m\u001b[38;5;241;43m=\u001b[39;49m\u001b[38;5;28;43mself\u001b[39;49m\u001b[38;5;241;43m.\u001b[39;49m\u001b[43moptions\u001b[49m\u001b[38;5;241;43m.\u001b[39;49m\u001b[43mget\u001b[49m\u001b[43m(\u001b[49m\u001b[38;5;124;43m\"\u001b[39;49m\u001b[38;5;124;43mcompression\u001b[39;49m\u001b[38;5;124;43m\"\u001b[39;49m\u001b[43m,\u001b[49m\u001b[43m \u001b[49m\u001b[38;5;28;43;01mNone\u001b[39;49;00m\u001b[43m)\u001b[49m\u001b[43m,\u001b[49m\n\u001b[0;32m   1885\u001b[0m \u001b[43m    \u001b[49m\u001b[43mmemory_map\u001b[49m\u001b[38;5;241;43m=\u001b[39;49m\u001b[38;5;28;43mself\u001b[39;49m\u001b[38;5;241;43m.\u001b[39;49m\u001b[43moptions\u001b[49m\u001b[38;5;241;43m.\u001b[39;49m\u001b[43mget\u001b[49m\u001b[43m(\u001b[49m\u001b[38;5;124;43m\"\u001b[39;49m\u001b[38;5;124;43mmemory_map\u001b[39;49m\u001b[38;5;124;43m\"\u001b[39;49m\u001b[43m,\u001b[49m\u001b[43m \u001b[49m\u001b[38;5;28;43;01mFalse\u001b[39;49;00m\u001b[43m)\u001b[49m\u001b[43m,\u001b[49m\n\u001b[0;32m   1886\u001b[0m \u001b[43m    \u001b[49m\u001b[43mis_text\u001b[49m\u001b[38;5;241;43m=\u001b[39;49m\u001b[43mis_text\u001b[49m\u001b[43m,\u001b[49m\n\u001b[0;32m   1887\u001b[0m \u001b[43m    \u001b[49m\u001b[43merrors\u001b[49m\u001b[38;5;241;43m=\u001b[39;49m\u001b[38;5;28;43mself\u001b[39;49m\u001b[38;5;241;43m.\u001b[39;49m\u001b[43moptions\u001b[49m\u001b[38;5;241;43m.\u001b[39;49m\u001b[43mget\u001b[49m\u001b[43m(\u001b[49m\u001b[38;5;124;43m\"\u001b[39;49m\u001b[38;5;124;43mencoding_errors\u001b[39;49m\u001b[38;5;124;43m\"\u001b[39;49m\u001b[43m,\u001b[49m\u001b[43m \u001b[49m\u001b[38;5;124;43m\"\u001b[39;49m\u001b[38;5;124;43mstrict\u001b[39;49m\u001b[38;5;124;43m\"\u001b[39;49m\u001b[43m)\u001b[49m\u001b[43m,\u001b[49m\n\u001b[0;32m   1888\u001b[0m \u001b[43m    \u001b[49m\u001b[43mstorage_options\u001b[49m\u001b[38;5;241;43m=\u001b[39;49m\u001b[38;5;28;43mself\u001b[39;49m\u001b[38;5;241;43m.\u001b[39;49m\u001b[43moptions\u001b[49m\u001b[38;5;241;43m.\u001b[39;49m\u001b[43mget\u001b[49m\u001b[43m(\u001b[49m\u001b[38;5;124;43m\"\u001b[39;49m\u001b[38;5;124;43mstorage_options\u001b[39;49m\u001b[38;5;124;43m\"\u001b[39;49m\u001b[43m,\u001b[49m\u001b[43m \u001b[49m\u001b[38;5;28;43;01mNone\u001b[39;49;00m\u001b[43m)\u001b[49m\u001b[43m,\u001b[49m\n\u001b[0;32m   1889\u001b[0m \u001b[43m\u001b[49m\u001b[43m)\u001b[49m\n\u001b[0;32m   1890\u001b[0m \u001b[38;5;28;01massert\u001b[39;00m \u001b[38;5;28mself\u001b[39m\u001b[38;5;241m.\u001b[39mhandles \u001b[38;5;129;01mis\u001b[39;00m \u001b[38;5;129;01mnot\u001b[39;00m \u001b[38;5;28;01mNone\u001b[39;00m\n\u001b[0;32m   1891\u001b[0m f \u001b[38;5;241m=\u001b[39m \u001b[38;5;28mself\u001b[39m\u001b[38;5;241m.\u001b[39mhandles\u001b[38;5;241m.\u001b[39mhandle\n",
      "File \u001b[1;32mC:\\Python312\\Lib\\site-packages\\pandas\\io\\common.py:873\u001b[0m, in \u001b[0;36mget_handle\u001b[1;34m(path_or_buf, mode, encoding, compression, memory_map, is_text, errors, storage_options)\u001b[0m\n\u001b[0;32m    868\u001b[0m \u001b[38;5;28;01melif\u001b[39;00m \u001b[38;5;28misinstance\u001b[39m(handle, \u001b[38;5;28mstr\u001b[39m):\n\u001b[0;32m    869\u001b[0m     \u001b[38;5;66;03m# Check whether the filename is to be opened in binary mode.\u001b[39;00m\n\u001b[0;32m    870\u001b[0m     \u001b[38;5;66;03m# Binary mode does not support 'encoding' and 'newline'.\u001b[39;00m\n\u001b[0;32m    871\u001b[0m     \u001b[38;5;28;01mif\u001b[39;00m ioargs\u001b[38;5;241m.\u001b[39mencoding \u001b[38;5;129;01mand\u001b[39;00m \u001b[38;5;124m\"\u001b[39m\u001b[38;5;124mb\u001b[39m\u001b[38;5;124m\"\u001b[39m \u001b[38;5;129;01mnot\u001b[39;00m \u001b[38;5;129;01min\u001b[39;00m ioargs\u001b[38;5;241m.\u001b[39mmode:\n\u001b[0;32m    872\u001b[0m         \u001b[38;5;66;03m# Encoding\u001b[39;00m\n\u001b[1;32m--> 873\u001b[0m         handle \u001b[38;5;241m=\u001b[39m \u001b[38;5;28;43mopen\u001b[39;49m\u001b[43m(\u001b[49m\n\u001b[0;32m    874\u001b[0m \u001b[43m            \u001b[49m\u001b[43mhandle\u001b[49m\u001b[43m,\u001b[49m\n\u001b[0;32m    875\u001b[0m \u001b[43m            \u001b[49m\u001b[43mioargs\u001b[49m\u001b[38;5;241;43m.\u001b[39;49m\u001b[43mmode\u001b[49m\u001b[43m,\u001b[49m\n\u001b[0;32m    876\u001b[0m \u001b[43m            \u001b[49m\u001b[43mencoding\u001b[49m\u001b[38;5;241;43m=\u001b[39;49m\u001b[43mioargs\u001b[49m\u001b[38;5;241;43m.\u001b[39;49m\u001b[43mencoding\u001b[49m\u001b[43m,\u001b[49m\n\u001b[0;32m    877\u001b[0m \u001b[43m            \u001b[49m\u001b[43merrors\u001b[49m\u001b[38;5;241;43m=\u001b[39;49m\u001b[43merrors\u001b[49m\u001b[43m,\u001b[49m\n\u001b[0;32m    878\u001b[0m \u001b[43m            \u001b[49m\u001b[43mnewline\u001b[49m\u001b[38;5;241;43m=\u001b[39;49m\u001b[38;5;124;43m\"\u001b[39;49m\u001b[38;5;124;43m\"\u001b[39;49m\u001b[43m,\u001b[49m\n\u001b[0;32m    879\u001b[0m \u001b[43m        \u001b[49m\u001b[43m)\u001b[49m\n\u001b[0;32m    880\u001b[0m     \u001b[38;5;28;01melse\u001b[39;00m:\n\u001b[0;32m    881\u001b[0m         \u001b[38;5;66;03m# Binary mode\u001b[39;00m\n\u001b[0;32m    882\u001b[0m         handle \u001b[38;5;241m=\u001b[39m \u001b[38;5;28mopen\u001b[39m(handle, ioargs\u001b[38;5;241m.\u001b[39mmode)\n",
      "\u001b[1;31mFileNotFoundError\u001b[0m: [Errno 2] No such file or directory: 'your_dataset.csv'"
     ]
    }
   ],
   "source": [
    "import numpy as np\n",
    "import pandas as pd\n",
    "from tensorflow.keras.applications import ResNet50\n",
    "from tensorflow.keras.applications.resnet50 import preprocess_input\n",
    "from tensorflow.keras.preprocessing import image\n",
    "from sklearn.metrics.pairwise import cosine_similarity\n",
    "from IPython.display import Image, display\n",
    "\n",
    "# Load the pre-trained ResNet50 model\n",
    "model = ResNet50(weights='imagenet', include_top=False, pooling='avg')\n",
    "\n",
    "# Function to extract image features\n",
    "def extract_image_features(img_path):\n",
    "    try:\n",
    "        img = image.load_img(img_path, target_size=(224, 224))\n",
    "        img_array = image.img_to_array(img)\n",
    "        img_array = np.expand_dims(img_array, axis=0)\n",
    "        img_array = preprocess_input(img_array)\n",
    "        features = model.predict(img_array)\n",
    "        return features.flatten()\n",
    "    except Exception as e:\n",
    "        print(f\"Error processing image {img_path}: {e}\")\n",
    "        return np.zeros((2048,))  # Return zero array if image loading fails\n",
    "\n",
    "# Add image features to the DataFrame\n",
    "def add_image_features(df):\n",
    "    features = []\n",
    "    for img_path in df['image_path']:\n",
    "        features.append(extract_image_features(img_path))\n",
    "    df['image_features'] = features\n",
    "    return df\n",
    "\n",
    "# Recommend similar products based on image similarity\n",
    "def recommend_image_based(asin, num_recommendations, df):\n",
    "    if asin not in df['asin'].values:\n",
    "        print(f\"Product ID {asin} not found in the dataset.\")\n",
    "        return None\n",
    "\n",
    "    product_index = df.index[df['asin'] == asin][0]\n",
    "    target_features = np.array(df.iloc[product_index]['image_features']).reshape(1, -1)\n",
    "    all_features = np.vstack(df['image_features'])\n",
    "    cosine_similarities = cosine_similarity(target_features, all_features).flatten()\n",
    "    similar_indices = cosine_similarities.argsort()[-(num_recommendations + 1):-1][::-1]\n",
    "    \n",
    "    recommendations = []\n",
    "    for idx in similar_indices:\n",
    "        recommended_product = df.iloc[idx]\n",
    "        recommendations.append({\n",
    "            'asin': recommended_product['asin'],\n",
    "            'product_name': recommended_product['product_name'],\n",
    "            'similarity_score': cosine_similarities[idx],\n",
    "            'image_path': recommended_product['image_path']\n",
    "        })\n",
    "    return pd.DataFrame(recommendations)\n",
    "\n",
    "# Display recommendations with images\n",
    "def display_recommendations_with_images(recommendations):\n",
    "    if recommendations is not None and not recommendations.empty:\n",
    "        for _, row in recommendations.iterrows():\n",
    "            print(f\"Product ID: {row['asin']}\")\n",
    "            print(f\"Product Name: {row['product_name']}\")\n",
    "            print(f\"Similarity Score: {row['similarity_score']:.2f}\")\n",
    "            display(Image(filename=row['image_path']))\n",
    "    else:\n",
    "        print(\"No recommendations available.\")\n",
    "\n",
    "# Load your dataset (replace 'your_dataset.csv' with your file)\n",
    "# Make sure it has columns 'asin', 'product_name', and 'image_path'\n",
    "df = pd.read_csv('your_dataset.csv')\n",
    "\n",
    "# Add image features\n",
    "df = add_image_features(df)\n",
    "\n",
    "# Recommend products based on a given asin\n",
    "asin_to_recommend = 'B001'  # Replace with a valid Product ID from your dataset\n",
    "num_recommendations = 3\n",
    "recommendations = recommend_image_based(asin_to_recommend, num_recommendations, df)\n",
    "\n",
    "# Display the recommendations with images\n",
    "display_recommendations_with_images(recommendations)\n"
   ]
  },
  {
   "cell_type": "code",
   "execution_count": null,
   "id": "a591ae40-cd1f-4a0a-9c23-7703e018d1fe",
   "metadata": {},
   "outputs": [],
   "source": []
  }
 ],
 "metadata": {
  "kernelspec": {
   "display_name": "Python 3 (ipykernel)",
   "language": "python",
   "name": "python3"
  },
  "language_info": {
   "codemirror_mode": {
    "name": "ipython",
    "version": 3
   },
   "file_extension": ".py",
   "mimetype": "text/x-python",
   "name": "python",
   "nbconvert_exporter": "python",
   "pygments_lexer": "ipython3",
   "version": "3.12.3"
  }
 },
 "nbformat": 4,
 "nbformat_minor": 5
}
