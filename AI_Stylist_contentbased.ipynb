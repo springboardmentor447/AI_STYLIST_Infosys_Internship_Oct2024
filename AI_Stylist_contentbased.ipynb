{
 "cells": [
  {
   "cell_type": "code",
   "execution_count": 1,
   "id": "874f5e77",
   "metadata": {},
   "outputs": [],
   "source": [
    "import pandas as pd\n",
    "\n",
    "df = pd.read_json(r\"C:\\Users\\91755\\Downloads\\fashion_products_data.ldjson\", lines=True)\n"
   ]
  },
  {
   "cell_type": "code",
   "execution_count": 2,
   "id": "5e8fba3e",
   "metadata": {},
   "outputs": [
    {
     "data": {
      "text/html": [
       "<div>\n",
       "<style scoped>\n",
       "    .dataframe tbody tr th:only-of-type {\n",
       "        vertical-align: middle;\n",
       "    }\n",
       "\n",
       "    .dataframe tbody tr th {\n",
       "        vertical-align: top;\n",
       "    }\n",
       "\n",
       "    .dataframe thead th {\n",
       "        text-align: right;\n",
       "    }\n",
       "</style>\n",
       "<table border=\"1\" class=\"dataframe\">\n",
       "  <thead>\n",
       "    <tr style=\"text-align: right;\">\n",
       "      <th></th>\n",
       "      <th>uniq_id</th>\n",
       "      <th>crawl_timestamp</th>\n",
       "      <th>asin</th>\n",
       "      <th>product_url</th>\n",
       "      <th>product_name</th>\n",
       "      <th>image_urls__small</th>\n",
       "      <th>medium</th>\n",
       "      <th>large</th>\n",
       "      <th>browsenode</th>\n",
       "      <th>brand</th>\n",
       "      <th>...</th>\n",
       "      <th>colour</th>\n",
       "      <th>no__of_reviews</th>\n",
       "      <th>seller_name</th>\n",
       "      <th>seller_id</th>\n",
       "      <th>left_in_stock</th>\n",
       "      <th>no__of_offers</th>\n",
       "      <th>no__of_sellers</th>\n",
       "      <th>technical_details__k_v_pairs</th>\n",
       "      <th>formats___editions</th>\n",
       "      <th>name_of_author_for_books</th>\n",
       "    </tr>\n",
       "  </thead>\n",
       "  <tbody>\n",
       "    <tr>\n",
       "      <th>0</th>\n",
       "      <td>26d41bdc1495de290bc8e6062d927729</td>\n",
       "      <td>2020-02-07 05:11:36 +0000</td>\n",
       "      <td>B07STS2W9T</td>\n",
       "      <td>https://www.amazon.in/Facon-Kalamkari-Handbloc...</td>\n",
       "      <td>LA' Facon Cotton Kalamkari Handblock Saree Blo...</td>\n",
       "      <td>https://images-na.ssl-images-amazon.com/images...</td>\n",
       "      <td>https://images-na.ssl-images-amazon.com/images...</td>\n",
       "      <td>https://images-na.ssl-images-amazon.com/images...</td>\n",
       "      <td>1.968255e+09</td>\n",
       "      <td>LA' Facon</td>\n",
       "      <td>...</td>\n",
       "      <td>NaN</td>\n",
       "      <td>NaN</td>\n",
       "      <td>NaN</td>\n",
       "      <td>NaN</td>\n",
       "      <td>NaN</td>\n",
       "      <td>NaN</td>\n",
       "      <td>NaN</td>\n",
       "      <td>NaN</td>\n",
       "      <td>NaN</td>\n",
       "      <td>NaN</td>\n",
       "    </tr>\n",
       "    <tr>\n",
       "      <th>1</th>\n",
       "      <td>410c62298852e68f34c35560f2311e5a</td>\n",
       "      <td>2020-02-07 08:45:56 +0000</td>\n",
       "      <td>B07N6TD2WL</td>\n",
       "      <td>https://www.amazon.in/Sf-Jeans-Pantaloons-T-Sh...</td>\n",
       "      <td>Sf Jeans By Pantaloons Men's Plain Slim fit T-...</td>\n",
       "      <td>https://images-na.ssl-images-amazon.com/images...</td>\n",
       "      <td>https://images-na.ssl-images-amazon.com/images...</td>\n",
       "      <td>https://images-na.ssl-images-amazon.com/images...</td>\n",
       "      <td>1.968123e+09</td>\n",
       "      <td>NaN</td>\n",
       "      <td>...</td>\n",
       "      <td>NaN</td>\n",
       "      <td>NaN</td>\n",
       "      <td>NaN</td>\n",
       "      <td>NaN</td>\n",
       "      <td>NaN</td>\n",
       "      <td>NaN</td>\n",
       "      <td>NaN</td>\n",
       "      <td>NaN</td>\n",
       "      <td>NaN</td>\n",
       "      <td>NaN</td>\n",
       "    </tr>\n",
       "    <tr>\n",
       "      <th>2</th>\n",
       "      <td>52e31bb31680b0ec73de0d781a23cc0a</td>\n",
       "      <td>2020-02-06 11:09:38 +0000</td>\n",
       "      <td>B07WJ6WPN1</td>\n",
       "      <td>https://www.amazon.in/LOVISTA-Traditional-Prin...</td>\n",
       "      <td>LOVISTA Cotton Gota Patti Tassel Traditional P...</td>\n",
       "      <td>https://images-na.ssl-images-amazon.com/images...</td>\n",
       "      <td>https://images-na.ssl-images-amazon.com/images...</td>\n",
       "      <td>https://images-na.ssl-images-amazon.com/images...</td>\n",
       "      <td>1.968255e+09</td>\n",
       "      <td>LOVISTA</td>\n",
       "      <td>...</td>\n",
       "      <td>NaN</td>\n",
       "      <td>NaN</td>\n",
       "      <td>NaN</td>\n",
       "      <td>NaN</td>\n",
       "      <td>NaN</td>\n",
       "      <td>NaN</td>\n",
       "      <td>NaN</td>\n",
       "      <td>NaN</td>\n",
       "      <td>NaN</td>\n",
       "      <td>NaN</td>\n",
       "    </tr>\n",
       "    <tr>\n",
       "      <th>3</th>\n",
       "      <td>25798d6dc43239c118452d1bee0fb088</td>\n",
       "      <td>2020-02-07 08:32:45 +0000</td>\n",
       "      <td>B07PYSF4WZ</td>\n",
       "      <td>https://www.amazon.in/People-Printed-Regular-T...</td>\n",
       "      <td>People Men's Printed Regular fit T-Shirt</td>\n",
       "      <td>https://images-na.ssl-images-amazon.com/images...</td>\n",
       "      <td>https://images-na.ssl-images-amazon.com/images...</td>\n",
       "      <td>https://images-na.ssl-images-amazon.com/images...</td>\n",
       "      <td>1.968123e+09</td>\n",
       "      <td>NaN</td>\n",
       "      <td>...</td>\n",
       "      <td>NaN</td>\n",
       "      <td>NaN</td>\n",
       "      <td>NaN</td>\n",
       "      <td>NaN</td>\n",
       "      <td>NaN</td>\n",
       "      <td>NaN</td>\n",
       "      <td>NaN</td>\n",
       "      <td>NaN</td>\n",
       "      <td>NaN</td>\n",
       "      <td>NaN</td>\n",
       "    </tr>\n",
       "    <tr>\n",
       "      <th>4</th>\n",
       "      <td>ad8a5a196d515ef09dfdaf082bdc37c4</td>\n",
       "      <td>2020-02-06 14:27:48 +0000</td>\n",
       "      <td>B082KXNM7X</td>\n",
       "      <td>https://www.amazon.in/Monte-Carlo-Cotton-Colla...</td>\n",
       "      <td>Monte Carlo Grey Solid Cotton Blend Polo Colla...</td>\n",
       "      <td>https://images-na.ssl-images-amazon.com/images...</td>\n",
       "      <td>https://images-na.ssl-images-amazon.com/images...</td>\n",
       "      <td>https://images-na.ssl-images-amazon.com/images...</td>\n",
       "      <td>1.968070e+09</td>\n",
       "      <td>NaN</td>\n",
       "      <td>...</td>\n",
       "      <td>NaN</td>\n",
       "      <td>NaN</td>\n",
       "      <td>NaN</td>\n",
       "      <td>NaN</td>\n",
       "      <td>NaN</td>\n",
       "      <td>NaN</td>\n",
       "      <td>NaN</td>\n",
       "      <td>NaN</td>\n",
       "      <td>NaN</td>\n",
       "      <td>NaN</td>\n",
       "    </tr>\n",
       "  </tbody>\n",
       "</table>\n",
       "<p>5 rows × 33 columns</p>\n",
       "</div>"
      ],
      "text/plain": [
       "                            uniq_id            crawl_timestamp        asin  \\\n",
       "0  26d41bdc1495de290bc8e6062d927729  2020-02-07 05:11:36 +0000  B07STS2W9T   \n",
       "1  410c62298852e68f34c35560f2311e5a  2020-02-07 08:45:56 +0000  B07N6TD2WL   \n",
       "2  52e31bb31680b0ec73de0d781a23cc0a  2020-02-06 11:09:38 +0000  B07WJ6WPN1   \n",
       "3  25798d6dc43239c118452d1bee0fb088  2020-02-07 08:32:45 +0000  B07PYSF4WZ   \n",
       "4  ad8a5a196d515ef09dfdaf082bdc37c4  2020-02-06 14:27:48 +0000  B082KXNM7X   \n",
       "\n",
       "                                         product_url  \\\n",
       "0  https://www.amazon.in/Facon-Kalamkari-Handbloc...   \n",
       "1  https://www.amazon.in/Sf-Jeans-Pantaloons-T-Sh...   \n",
       "2  https://www.amazon.in/LOVISTA-Traditional-Prin...   \n",
       "3  https://www.amazon.in/People-Printed-Regular-T...   \n",
       "4  https://www.amazon.in/Monte-Carlo-Cotton-Colla...   \n",
       "\n",
       "                                        product_name  \\\n",
       "0  LA' Facon Cotton Kalamkari Handblock Saree Blo...   \n",
       "1  Sf Jeans By Pantaloons Men's Plain Slim fit T-...   \n",
       "2  LOVISTA Cotton Gota Patti Tassel Traditional P...   \n",
       "3           People Men's Printed Regular fit T-Shirt   \n",
       "4  Monte Carlo Grey Solid Cotton Blend Polo Colla...   \n",
       "\n",
       "                                   image_urls__small  \\\n",
       "0  https://images-na.ssl-images-amazon.com/images...   \n",
       "1  https://images-na.ssl-images-amazon.com/images...   \n",
       "2  https://images-na.ssl-images-amazon.com/images...   \n",
       "3  https://images-na.ssl-images-amazon.com/images...   \n",
       "4  https://images-na.ssl-images-amazon.com/images...   \n",
       "\n",
       "                                              medium  \\\n",
       "0  https://images-na.ssl-images-amazon.com/images...   \n",
       "1  https://images-na.ssl-images-amazon.com/images...   \n",
       "2  https://images-na.ssl-images-amazon.com/images...   \n",
       "3  https://images-na.ssl-images-amazon.com/images...   \n",
       "4  https://images-na.ssl-images-amazon.com/images...   \n",
       "\n",
       "                                               large    browsenode      brand  \\\n",
       "0  https://images-na.ssl-images-amazon.com/images...  1.968255e+09  LA' Facon   \n",
       "1  https://images-na.ssl-images-amazon.com/images...  1.968123e+09        NaN   \n",
       "2  https://images-na.ssl-images-amazon.com/images...  1.968255e+09    LOVISTA   \n",
       "3  https://images-na.ssl-images-amazon.com/images...  1.968123e+09        NaN   \n",
       "4  https://images-na.ssl-images-amazon.com/images...  1.968070e+09        NaN   \n",
       "\n",
       "   ...  colour no__of_reviews  seller_name seller_id left_in_stock  \\\n",
       "0  ...     NaN            NaN          NaN       NaN           NaN   \n",
       "1  ...     NaN            NaN          NaN       NaN           NaN   \n",
       "2  ...     NaN            NaN          NaN       NaN           NaN   \n",
       "3  ...     NaN            NaN          NaN       NaN           NaN   \n",
       "4  ...     NaN            NaN          NaN       NaN           NaN   \n",
       "\n",
       "  no__of_offers no__of_sellers technical_details__k_v_pairs  \\\n",
       "0           NaN            NaN                          NaN   \n",
       "1           NaN            NaN                          NaN   \n",
       "2           NaN            NaN                          NaN   \n",
       "3           NaN            NaN                          NaN   \n",
       "4           NaN            NaN                          NaN   \n",
       "\n",
       "  formats___editions name_of_author_for_books  \n",
       "0                NaN                      NaN  \n",
       "1                NaN                      NaN  \n",
       "2                NaN                      NaN  \n",
       "3                NaN                      NaN  \n",
       "4                NaN                      NaN  \n",
       "\n",
       "[5 rows x 33 columns]"
      ]
     },
     "execution_count": 2,
     "metadata": {},
     "output_type": "execute_result"
    }
   ],
   "source": [
    "df.head()"
   ]
  },
  {
   "cell_type": "code",
   "execution_count": 3,
   "id": "8c0cde83",
   "metadata": {},
   "outputs": [
    {
     "name": "stdout",
     "output_type": "stream",
     "text": [
      "<class 'pandas.core.frame.DataFrame'>\n",
      "RangeIndex: 30000 entries, 0 to 29999\n",
      "Data columns (total 33 columns):\n",
      " #   Column                         Non-Null Count  Dtype  \n",
      "---  ------                         --------------  -----  \n",
      " 0   uniq_id                        30000 non-null  object \n",
      " 1   crawl_timestamp                30000 non-null  object \n",
      " 2   asin                           30000 non-null  object \n",
      " 3   product_url                    30000 non-null  object \n",
      " 4   product_name                   30000 non-null  object \n",
      " 5   image_urls__small              29998 non-null  object \n",
      " 6   medium                         29998 non-null  object \n",
      " 7   large                          28841 non-null  object \n",
      " 8   browsenode                     29480 non-null  float64\n",
      " 9   brand                          21857 non-null  object \n",
      " 10  sales_price                    27110 non-null  float64\n",
      " 11  weight                         30000 non-null  object \n",
      " 12  rating                         30000 non-null  float64\n",
      " 13  sales_rank_in_parent_category  25497 non-null  object \n",
      " 14  sales_rank_in_child_category   24851 non-null  object \n",
      " 15  delivery_type                  30000 non-null  object \n",
      " 16  meta_keywords                  30000 non-null  object \n",
      " 17  amazon_prime__y_or_n           30000 non-null  object \n",
      " 18  parent___child_category__all   25497 non-null  object \n",
      " 19  best_seller_tag__y_or_n        30000 non-null  object \n",
      " 20  other_items_customers_buy      24363 non-null  object \n",
      " 21  product_details__k_v_pairs     28817 non-null  object \n",
      " 22  discount_percentage            14624 non-null  object \n",
      " 23  colour                         6029 non-null   object \n",
      " 24  no__of_reviews                 3452 non-null   float64\n",
      " 25  seller_name                    8364 non-null   object \n",
      " 26  seller_id                      8364 non-null   object \n",
      " 27  left_in_stock                  3057 non-null   float64\n",
      " 28  no__of_offers                  1020 non-null   float64\n",
      " 29  no__of_sellers                 1020 non-null   float64\n",
      " 30  technical_details__k_v_pairs   1154 non-null   object \n",
      " 31  formats___editions             2 non-null      object \n",
      " 32  name_of_author_for_books       1 non-null      object \n",
      "dtypes: float64(7), object(26)\n",
      "memory usage: 7.6+ MB\n"
     ]
    }
   ],
   "source": [
    "df.info()"
   ]
  },
  {
   "cell_type": "code",
   "execution_count": 4,
   "id": "2eb9536b",
   "metadata": {},
   "outputs": [
    {
     "data": {
      "text/html": [
       "<div>\n",
       "<style scoped>\n",
       "    .dataframe tbody tr th:only-of-type {\n",
       "        vertical-align: middle;\n",
       "    }\n",
       "\n",
       "    .dataframe tbody tr th {\n",
       "        vertical-align: top;\n",
       "    }\n",
       "\n",
       "    .dataframe thead th {\n",
       "        text-align: right;\n",
       "    }\n",
       "</style>\n",
       "<table border=\"1\" class=\"dataframe\">\n",
       "  <thead>\n",
       "    <tr style=\"text-align: right;\">\n",
       "      <th></th>\n",
       "      <th>browsenode</th>\n",
       "      <th>sales_price</th>\n",
       "      <th>rating</th>\n",
       "      <th>no__of_reviews</th>\n",
       "      <th>left_in_stock</th>\n",
       "      <th>no__of_offers</th>\n",
       "      <th>no__of_sellers</th>\n",
       "    </tr>\n",
       "  </thead>\n",
       "  <tbody>\n",
       "    <tr>\n",
       "      <th>count</th>\n",
       "      <td>2.948000e+04</td>\n",
       "      <td>27110.000000</td>\n",
       "      <td>30000.000000</td>\n",
       "      <td>3452.000000</td>\n",
       "      <td>3057.000000</td>\n",
       "      <td>1020.000000</td>\n",
       "      <td>1020.000000</td>\n",
       "    </tr>\n",
       "    <tr>\n",
       "      <th>mean</th>\n",
       "      <td>2.898248e+09</td>\n",
       "      <td>862.172397</td>\n",
       "      <td>4.039857</td>\n",
       "      <td>136.642236</td>\n",
       "      <td>2.091920</td>\n",
       "      <td>6.230392</td>\n",
       "      <td>6.230392</td>\n",
       "    </tr>\n",
       "    <tr>\n",
       "      <th>std</th>\n",
       "      <td>3.050401e+09</td>\n",
       "      <td>964.223008</td>\n",
       "      <td>0.840009</td>\n",
       "      <td>525.484988</td>\n",
       "      <td>1.317071</td>\n",
       "      <td>16.919507</td>\n",
       "      <td>16.919507</td>\n",
       "    </tr>\n",
       "    <tr>\n",
       "      <th>min</th>\n",
       "      <td>1.953148e+09</td>\n",
       "      <td>39.000000</td>\n",
       "      <td>1.000000</td>\n",
       "      <td>1.000000</td>\n",
       "      <td>1.000000</td>\n",
       "      <td>1.000000</td>\n",
       "      <td>1.000000</td>\n",
       "    </tr>\n",
       "    <tr>\n",
       "      <th>25%</th>\n",
       "      <td>1.968067e+09</td>\n",
       "      <td>379.000000</td>\n",
       "      <td>3.500000</td>\n",
       "      <td>4.000000</td>\n",
       "      <td>1.000000</td>\n",
       "      <td>1.000000</td>\n",
       "      <td>1.000000</td>\n",
       "    </tr>\n",
       "    <tr>\n",
       "      <th>50%</th>\n",
       "      <td>1.968135e+09</td>\n",
       "      <td>590.000000</td>\n",
       "      <td>4.000000</td>\n",
       "      <td>15.000000</td>\n",
       "      <td>2.000000</td>\n",
       "      <td>2.500000</td>\n",
       "      <td>2.500000</td>\n",
       "    </tr>\n",
       "    <tr>\n",
       "      <th>75%</th>\n",
       "      <td>1.968444e+09</td>\n",
       "      <td>899.000000</td>\n",
       "      <td>4.900000</td>\n",
       "      <td>72.000000</td>\n",
       "      <td>3.000000</td>\n",
       "      <td>4.000000</td>\n",
       "      <td>4.000000</td>\n",
       "    </tr>\n",
       "    <tr>\n",
       "      <th>max</th>\n",
       "      <td>1.751625e+10</td>\n",
       "      <td>9988.000000</td>\n",
       "      <td>5.000000</td>\n",
       "      <td>9896.000000</td>\n",
       "      <td>5.000000</td>\n",
       "      <td>310.000000</td>\n",
       "      <td>310.000000</td>\n",
       "    </tr>\n",
       "  </tbody>\n",
       "</table>\n",
       "</div>"
      ],
      "text/plain": [
       "         browsenode   sales_price        rating  no__of_reviews  \\\n",
       "count  2.948000e+04  27110.000000  30000.000000     3452.000000   \n",
       "mean   2.898248e+09    862.172397      4.039857      136.642236   \n",
       "std    3.050401e+09    964.223008      0.840009      525.484988   \n",
       "min    1.953148e+09     39.000000      1.000000        1.000000   \n",
       "25%    1.968067e+09    379.000000      3.500000        4.000000   \n",
       "50%    1.968135e+09    590.000000      4.000000       15.000000   \n",
       "75%    1.968444e+09    899.000000      4.900000       72.000000   \n",
       "max    1.751625e+10   9988.000000      5.000000     9896.000000   \n",
       "\n",
       "       left_in_stock  no__of_offers  no__of_sellers  \n",
       "count    3057.000000    1020.000000     1020.000000  \n",
       "mean        2.091920       6.230392        6.230392  \n",
       "std         1.317071      16.919507       16.919507  \n",
       "min         1.000000       1.000000        1.000000  \n",
       "25%         1.000000       1.000000        1.000000  \n",
       "50%         2.000000       2.500000        2.500000  \n",
       "75%         3.000000       4.000000        4.000000  \n",
       "max         5.000000     310.000000      310.000000  "
      ]
     },
     "execution_count": 4,
     "metadata": {},
     "output_type": "execute_result"
    }
   ],
   "source": [
    "df.describe()"
   ]
  },
  {
   "cell_type": "code",
   "execution_count": 5,
   "id": "8bd58d7c",
   "metadata": {},
   "outputs": [
    {
     "data": {
      "text/plain": [
       "Index(['uniq_id', 'crawl_timestamp', 'asin', 'product_url', 'product_name',\n",
       "       'image_urls__small', 'medium', 'large', 'browsenode', 'brand',\n",
       "       'sales_price', 'weight', 'rating', 'sales_rank_in_parent_category',\n",
       "       'sales_rank_in_child_category', 'delivery_type', 'meta_keywords',\n",
       "       'amazon_prime__y_or_n', 'parent___child_category__all',\n",
       "       'best_seller_tag__y_or_n', 'other_items_customers_buy',\n",
       "       'product_details__k_v_pairs', 'discount_percentage', 'colour',\n",
       "       'no__of_reviews', 'seller_name', 'seller_id', 'left_in_stock',\n",
       "       'no__of_offers', 'no__of_sellers', 'technical_details__k_v_pairs',\n",
       "       'formats___editions', 'name_of_author_for_books'],\n",
       "      dtype='object')"
      ]
     },
     "execution_count": 5,
     "metadata": {},
     "output_type": "execute_result"
    }
   ],
   "source": [
    "df.columns"
   ]
  },
  {
   "cell_type": "code",
   "execution_count": 6,
   "id": "51e35b12",
   "metadata": {},
   "outputs": [
    {
     "data": {
      "text/plain": [
       "uniq_id                           object\n",
       "crawl_timestamp                   object\n",
       "asin                              object\n",
       "product_url                       object\n",
       "product_name                      object\n",
       "image_urls__small                 object\n",
       "medium                            object\n",
       "large                             object\n",
       "browsenode                       float64\n",
       "brand                             object\n",
       "sales_price                      float64\n",
       "weight                            object\n",
       "rating                           float64\n",
       "sales_rank_in_parent_category     object\n",
       "sales_rank_in_child_category      object\n",
       "delivery_type                     object\n",
       "meta_keywords                     object\n",
       "amazon_prime__y_or_n              object\n",
       "parent___child_category__all      object\n",
       "best_seller_tag__y_or_n           object\n",
       "other_items_customers_buy         object\n",
       "product_details__k_v_pairs        object\n",
       "discount_percentage               object\n",
       "colour                            object\n",
       "no__of_reviews                   float64\n",
       "seller_name                       object\n",
       "seller_id                         object\n",
       "left_in_stock                    float64\n",
       "no__of_offers                    float64\n",
       "no__of_sellers                   float64\n",
       "technical_details__k_v_pairs      object\n",
       "formats___editions                object\n",
       "name_of_author_for_books          object\n",
       "dtype: object"
      ]
     },
     "execution_count": 6,
     "metadata": {},
     "output_type": "execute_result"
    }
   ],
   "source": [
    "df.dtypes"
   ]
  },
  {
   "cell_type": "code",
   "execution_count": 8,
   "id": "1089bc4a",
   "metadata": {},
   "outputs": [
    {
     "data": {
      "text/plain": [
       "uniq_id                              0\n",
       "crawl_timestamp                      0\n",
       "asin                                 0\n",
       "product_url                          0\n",
       "product_name                         0\n",
       "image_urls__small                    2\n",
       "medium                               2\n",
       "large                             1159\n",
       "browsenode                         520\n",
       "brand                             8143\n",
       "sales_price                       2890\n",
       "weight                               0\n",
       "rating                               0\n",
       "sales_rank_in_parent_category     4503\n",
       "sales_rank_in_child_category      5149\n",
       "delivery_type                        0\n",
       "meta_keywords                        0\n",
       "amazon_prime__y_or_n                 0\n",
       "parent___child_category__all      4503\n",
       "best_seller_tag__y_or_n              0\n",
       "other_items_customers_buy         5637\n",
       "product_details__k_v_pairs        1183\n",
       "discount_percentage              15376\n",
       "colour                           23971\n",
       "no__of_reviews                   26548\n",
       "seller_name                      21636\n",
       "seller_id                        21636\n",
       "left_in_stock                    26943\n",
       "no__of_offers                    28980\n",
       "no__of_sellers                   28980\n",
       "technical_details__k_v_pairs     28846\n",
       "formats___editions               29998\n",
       "name_of_author_for_books         29999\n",
       "dtype: int64"
      ]
     },
     "execution_count": 8,
     "metadata": {},
     "output_type": "execute_result"
    }
   ],
   "source": [
    "# Check for null values in each column\n",
    "df.isnull().sum()"
   ]
  },
  {
   "cell_type": "code",
   "execution_count": 9,
   "id": "09e18f19",
   "metadata": {},
   "outputs": [
    {
     "data": {
      "text/plain": [
       "33"
      ]
     },
     "execution_count": 9,
     "metadata": {},
     "output_type": "execute_result"
    }
   ],
   "source": [
    "# Get the total number of unique features (columns)\n",
    "len(df.columns)"
   ]
  },
  {
   "cell_type": "code",
   "execution_count": 20,
   "id": "fedd96e2",
   "metadata": {},
   "outputs": [
    {
     "name": "stdout",
     "output_type": "stream",
     "text": [
      "         asin                                        product_url  \\\n",
      "0  B07STS2W9T  https://www.amazon.in/Facon-Kalamkari-Handbloc...   \n",
      "2  B07WJ6WPN1  https://www.amazon.in/LOVISTA-Traditional-Prin...   \n",
      "5  B07X5M41BJ  https://www.amazon.in/Forest-Club-Sports-Breat...   \n",
      "6  B07H9RCVHQ  https://www.amazon.in/Graphic-Printed-T-Shirt-...   \n",
      "9  B07P43X53C  https://www.amazon.in/Peppermint-Synthetic-lin...   \n",
      "\n",
      "                                        product_name  sales_price  rating  \\\n",
      "0  LA' Facon Cotton Kalamkari Handblock Saree Blo...        200.0     5.0   \n",
      "2  LOVISTA Cotton Gota Patti Tassel Traditional P...        660.0     3.5   \n",
      "5  Forest Club | Gym Wear | Sports Shorts| Shorts...        350.0     4.1   \n",
      "6  PrintOctopus Graphic Printed T-Shirt for Men C...        288.0     3.7   \n",
      "9                         Peppermint Synthetic Dress        619.0     5.0   \n",
      "\n",
      "                                       meta_keywords  \\\n",
      "0  LA' Facon Cotton Kalamkari Handblock Saree Blo...   \n",
      "2  LOVISTA Cotton Gota Patti Tassel Traditional P...   \n",
      "5  Forest Club | Gym Wear | Sports Shorts| Shorts...   \n",
      "6  PrintOctopus Graphic Printed T-Shirt for Men C...   \n",
      "9              Peppermint Synthetic Dress,Peppermint   \n",
      "\n",
      "                                              medium         brand  \n",
      "0  https://images-na.ssl-images-amazon.com/images...     LA' Facon  \n",
      "2  https://images-na.ssl-images-amazon.com/images...       LOVISTA  \n",
      "5  https://images-na.ssl-images-amazon.com/images...   Forest Club  \n",
      "6  https://images-na.ssl-images-amazon.com/images...  PrintOctopus  \n",
      "9  https://images-na.ssl-images-amazon.com/images...    Peppermint  \n",
      "\n",
      "Remaining Columns:\n",
      "Index(['asin', 'product_url', 'product_name', 'sales_price', 'rating',\n",
      "       'meta_keywords', 'medium', 'brand'],\n",
      "      dtype='object')\n"
     ]
    }
   ],
   "source": [
    "# Retaining only the specified columns\n",
    "columns_to_keep = ['asin', 'product_url', 'product_name', 'sales_price', 'rating', 'meta_keywords', 'medium', 'brand']\n",
    "df = df[columns_to_keep]\n",
    "\n",
    "# Display the updated DataFrame to confirm\n",
    "print(df.head())\n",
    "print(\"\\nRemaining Columns:\")\n",
    "print(df.columns)\n"
   ]
  },
  {
   "cell_type": "code",
   "execution_count": 11,
   "id": "59f8fd9a",
   "metadata": {},
   "outputs": [
    {
     "name": "stdout",
     "output_type": "stream",
     "text": [
      "\n",
      "Null Values Count After Dropping Columns:\n",
      "asin                0\n",
      "product_url         0\n",
      "product_name        0\n",
      "sales_price      2890\n",
      "rating              0\n",
      "meta_keywords       0\n",
      "medium              2\n",
      "brand            8143\n",
      "dtype: int64\n"
     ]
    }
   ],
   "source": [
    "# Check for null values after dropping columns\n",
    "print(\"\\nNull Values Count After Dropping Columns:\")\n",
    "print(df.isnull().sum())"
   ]
  },
  {
   "cell_type": "code",
   "execution_count": 12,
   "id": "4893e252",
   "metadata": {},
   "outputs": [
    {
     "name": "stdout",
     "output_type": "stream",
     "text": [
      "\n",
      "Null Values Count After Handling:\n",
      "asin             0\n",
      "product_url      0\n",
      "product_name     0\n",
      "sales_price      0\n",
      "rating           0\n",
      "meta_keywords    0\n",
      "medium           0\n",
      "brand            0\n",
      "dtype: int64\n"
     ]
    }
   ],
   "source": [
    "# Handle null values (you can drop rows with null values or fill them)\n",
    "df.dropna(inplace=True)  # Dropping rows with any null values\n",
    "\n",
    "# Confirm that null values are handled\n",
    "print(\"\\nNull Values Count After Handling:\")\n",
    "print(df.isnull().sum())"
   ]
  },
  {
   "cell_type": "code",
   "execution_count": 13,
   "id": "e9da414b",
   "metadata": {},
   "outputs": [
    {
     "name": "stdout",
     "output_type": "stream",
     "text": [
      "\n",
      "Number of Duplicate Rows: 0\n",
      "\n",
      "Number of Duplicate Rows After Removal: 0\n"
     ]
    }
   ],
   "source": [
    "# Check for duplicates\n",
    "print(\"\\nNumber of Duplicate Rows:\", df.duplicated().sum())\n",
    "\n",
    "# Remove duplicates\n",
    "df.drop_duplicates(inplace=True)\n",
    "\n",
    "# Confirm that duplicates are removed\n",
    "print(\"\\nNumber of Duplicate Rows After Removal:\", df.duplicated().sum())\n"
   ]
  },
  {
   "cell_type": "code",
   "execution_count": 13,
   "id": "16e6fa05",
   "metadata": {},
   "outputs": [],
   "source": [
    "import matplotlib.pyplot as plt\n",
    "import seaborn as sns"
   ]
  },
  {
   "cell_type": "code",
   "execution_count": 14,
   "id": "c97a5d06",
   "metadata": {},
   "outputs": [],
   "source": [
    "# Set the style for plots\n",
    "sns.set(style=\"whitegrid\")"
   ]
  },
  {
   "cell_type": "code",
   "execution_count": 15,
   "id": "2c0a54d0",
   "metadata": {},
   "outputs": [
    {
     "data": {
      "image/png": "[encoded data removed]",
      "text/plain": [
       "<Figure size 576x360 with 1 Axes>"
      ]
     },
     "metadata": {},
     "output_type": "display_data"
    }
   ],
   "source": [
    "# Univariate Analysis: Distribution of Sales Price\n",
    "plt.figure(figsize=(8, 5))\n",
    "sns.histplot(df['sales_price'], bins=30, kde=True)\n",
    "plt.title(\"Distribution of Sales Price\")\n",
    "plt.xlabel(\"Sales Price\")\n",
    "plt.ylabel(\"Count\")\n",
    "plt.show()"
   ]
  },
  {
   "cell_type": "code",
   "execution_count": 16,
   "id": "492b2e1f",
   "metadata": {},
   "outputs": [
    {
     "data": {
      "image/png": "[encoded data removed]",
      "text/plain": [
       "<Figure size 576x360 with 1 Axes>"
      ]
     },
     "metadata": {},
     "output_type": "display_data"
    }
   ],
   "source": [
    "# Univariate Analysis: Distribution of Ratings\n",
    "plt.figure(figsize=(8, 5))\n",
    "sns.countplot(x='rating', data=df, palette=\"viridis\")\n",
    "plt.title(\"Distribution of Ratings\")\n",
    "plt.xlabel(\"Rating\")\n",
    "plt.ylabel(\"Count\")\n",
    "plt.show()"
   ]
  },
  {
   "cell_type": "code",
   "execution_count": 17,
   "id": "fc62aceb",
   "metadata": {},
   "outputs": [
    {
     "data": {
      "image/png": "[encoded data removed]",
      "text/plain": [
       "<Figure size 720x432 with 1 Axes>"
      ]
     },
     "metadata": {},
     "output_type": "display_data"
    }
   ],
   "source": [
    "# Bivariate Analysis: Sales Price vs. Rating\n",
    "plt.figure(figsize=(10, 6))\n",
    "sns.scatterplot(x='rating', y='sales_price', data=df)\n",
    "plt.title(\"Sales Price vs Rating\")\n",
    "plt.xlabel(\"Rating\")\n",
    "plt.ylabel(\"Sales Price\")\n",
    "plt.show()"
   ]
  },
  {
   "cell_type": "code",
   "execution_count": 18,
   "id": "0f53e3b3",
   "metadata": {},
   "outputs": [
    {
     "data": {
      "image/png": "[encoded data removed]",
      "text/plain": [
       "<Figure size 576x432 with 2 Axes>"
      ]
     },
     "metadata": {},
     "output_type": "display_data"
    }
   ],
   "source": [
    "# Heatmap for Correlation Matrix\n",
    "plt.figure(figsize=(8, 6))\n",
    "sns.heatmap(df.corr(), annot=True, cmap='coolwarm', linewidths=0.5)\n",
    "plt.title(\"Correlation Heatmap\")\n",
    "plt.show()"
   ]
  },
  {
   "cell_type": "code",
   "execution_count": 19,
   "id": "e9b6a363",
   "metadata": {},
   "outputs": [
    {
     "data": {
      "image/png": "[encoded data removed]",
      "text/plain": [
       "<Figure size 720x360 with 1 Axes>"
      ]
     },
     "metadata": {},
     "output_type": "display_data"
    }
   ],
   "source": [
    "# Count plot for 'brand' (Top 10 brands with highest product count)\n",
    "top_brands = df['brand'].value_counts().head(10)\n",
    "plt.figure(figsize=(10, 5))\n",
    "sns.barplot(x=top_brands.index, y=top_brands.values, palette='magma')\n",
    "plt.title(\"Top 10 Brands by Product Count\")\n",
    "plt.xlabel(\"Brand\")\n",
    "plt.ylabel(\"Count\")\n",
    "plt.xticks(rotation=45)\n",
    "plt.show()"
   ]
  },
  {
   "cell_type": "code",
   "execution_count": 20,
   "id": "58e8f49a",
   "metadata": {},
   "outputs": [
    {
     "data": {
      "image/png": "[encoded data removed]",
      "text/plain": [
       "<Figure size 720x432 with 1 Axes>"
      ]
     },
     "metadata": {},
     "output_type": "display_data"
    }
   ],
   "source": [
    "# Boxplot of Sales Price by Rating\n",
    "plt.figure(figsize=(10, 6))\n",
    "sns.boxplot(x='rating', y='sales_price', data=df, palette='Set2')\n",
    "plt.title(\"Boxplot of Sales Price by Rating\")\n",
    "plt.xlabel(\"Rating\")\n",
    "plt.ylabel(\"Sales Price\")\n",
    "plt.show()\n"
   ]
  },
  {
   "cell_type": "code",
   "execution_count": 21,
   "id": "970d8414",
   "metadata": {},
   "outputs": [
    {
     "data": {
      "image/png": "[encoded data removed]",
      "text/plain": [
       "<Figure size 360x360 with 6 Axes>"
      ]
     },
     "metadata": {},
     "output_type": "display_data"
    }
   ],
   "source": [
    "# Pair Plot to analyze relationships between numerical features\n",
    "sns.pairplot(df[['sales_price', 'rating']], diag_kind='kde', palette='Set1')\n",
    "plt.suptitle(\"Pair Plot of Sales Price and Rating\", y=1.02)\n",
    "plt.show()\n"
   ]
  },
  {
   "cell_type": "code",
   "execution_count": 22,
   "id": "3884455f",
   "metadata": {},
   "outputs": [
    {
     "data": {
      "image/png": "[encoded data removed]",
      "text/plain": [
       "<Figure size 720x432 with 1 Axes>"
      ]
     },
     "metadata": {},
     "output_type": "display_data"
    }
   ],
   "source": [
    "# Bar Plot of Average Sales Price per Brand (Top 10 brands)\n",
    "top_brands_avg_price = df.groupby('brand')['sales_price'].mean().sort_values(ascending=False).head(10)\n",
    "plt.figure(figsize=(10, 6))\n",
    "sns.barplot(x=top_brands_avg_price.index, y=top_brands_avg_price.values, palette='Blues_d')\n",
    "plt.title(\"Top 10 Brands by Average Sales Price\")\n",
    "plt.xlabel(\"Brand\")\n",
    "plt.ylabel(\"Average Sales Price\")\n",
    "plt.xticks(rotation=45)\n",
    "plt.show()\n"
   ]
  },
  {
   "cell_type": "code",
   "execution_count": 23,
   "id": "ec8620c2",
   "metadata": {},
   "outputs": [
    {
     "data": {
      "image/png": "[encoded data removed]",
      "text/plain": [
       "<Figure size 432x432 with 3 Axes>"
      ]
     },
     "metadata": {},
     "output_type": "display_data"
    }
   ],
   "source": [
    "# Joint Plot of Sales Price vs Rating\n",
    "sns.jointplot(x='rating', y='sales_price', data=df, kind='hex', color='purple')\n",
    "plt.suptitle(\"Joint Plot of Sales Price vs Rating\", y=1.02)\n",
    "plt.show()\n"
   ]
  },
  {
   "cell_type": "code",
   "execution_count": 24,
   "id": "19d7ba92",
   "metadata": {},
   "outputs": [
    {
     "data": {
      "image/png": "[encoded data removed]",
      "text/plain": [
       "<Figure size 576x360 with 1 Axes>"
      ]
     },
     "metadata": {},
     "output_type": "display_data"
    },
    {
     "data": {
      "image/png": "[encoded data removed]",
      "text/plain": [
       "<Figure size 576x360 with 1 Axes>"
      ]
     },
     "metadata": {},
     "output_type": "display_data"
    }
   ],
   "source": [
    "# Boxplot to visualize outliers in sales_price\n",
    "plt.figure(figsize=(8, 5))\n",
    "sns.boxplot(x=df['sales_price'])\n",
    "plt.title(\"Boxplot for Sales Price\")\n",
    "plt.show()\n",
    "\n",
    "# Boxplot to visualize outliers in rating\n",
    "plt.figure(figsize=(8, 5))\n",
    "sns.boxplot(x=df['rating'])\n",
    "plt.title(\"Boxplot for Rating\")\n",
    "plt.show()\n"
   ]
  },
  {
   "cell_type": "code",
   "execution_count": 25,
   "id": "1fe4dc3c",
   "metadata": {},
   "outputs": [
    {
     "name": "stdout",
     "output_type": "stream",
     "text": [
      "\n",
      "DataFrame shape after removing outliers: (16786, 8)\n"
     ]
    }
   ],
   "source": [
    "# Function to remove outliers using the IQR method\n",
    "def remove_outliers(df, column):\n",
    "    Q1 = df[column].quantile(0.25)\n",
    "    Q3 = df[column].quantile(0.75)\n",
    "    IQR = Q3 - Q1\n",
    "    \n",
    "    # Calculate bounds\n",
    "    lower_bound = Q1 - 1.5 * IQR\n",
    "    upper_bound = Q3 + 1.5 * IQR\n",
    "    \n",
    "    # Remove outliers\n",
    "    return df[(df[column] >= lower_bound) & (df[column] <= upper_bound)]\n",
    "\n",
    "# Removing outliers from 'sales_price' and 'rating'\n",
    "df = remove_outliers(df, 'sales_price')\n",
    "df = remove_outliers(df, 'rating')\n",
    "\n",
    "# Display the updated DataFrame shape\n",
    "print(\"\\nDataFrame shape after removing outliers:\", df.shape)\n"
   ]
  },
  {
   "cell_type": "code",
   "execution_count": 26,
   "id": "b226bb0c",
   "metadata": {},
   "outputs": [
    {
     "data": {
      "image/png": "[encoded data removed]",
      "text/plain": [
       "<Figure size 576x360 with 1 Axes>"
      ]
     },
     "metadata": {},
     "output_type": "display_data"
    },
    {
     "data": {
      "image/png": "[encoded data removed]",
      "text/plain": [
       "<Figure size 576x360 with 1 Axes>"
      ]
     },
     "metadata": {},
     "output_type": "display_data"
    }
   ],
   "source": [
    "# Boxplot after removing outliers for sales_price\n",
    "plt.figure(figsize=(8, 5))\n",
    "sns.boxplot(x=df['sales_price'])\n",
    "plt.title(\"Boxplot for Sales Price (After Outlier Removal)\")\n",
    "plt.show()\n",
    "\n",
    "# Boxplot after removing outliers for rating\n",
    "plt.figure(figsize=(8, 5))\n",
    "sns.boxplot(x=df['rating'])\n",
    "plt.title(\"Boxplot for Rating (After Outlier Removal)\")\n",
    "plt.show()\n"
   ]
  },
  {
   "cell_type": "code",
   "execution_count": 27,
   "id": "7253ed0b",
   "metadata": {},
   "outputs": [
    {
     "name": "stdout",
     "output_type": "stream",
     "text": [
      "             asin                                        product_url  \\\n",
      "14068  B07QCYNW3C  https://www.amazon.in/CE-Cotton-Sleeve-Printed...   \n",
      "29310  B006IW9KNM  https://www.amazon.in/Solid-Green-Necktie-Pock...   \n",
      "18193  B077Y5LM8Z  https://www.amazon.in/Delivery-Women-2hook-Ext...   \n",
      "17686  B07GWJ9Z1F  https://www.amazon.in/001-Girls-Shopping-Sleev...   \n",
      "9204   B07HY6DQNT  https://www.amazon.in/0Month-Girls-Ankle-Lengt...   \n",
      "\n",
      "                                            product_name  sales_price  rating  \\\n",
      "14068  !CE ICE Cotton Round Neck Half Sleeve Printed ...        150.0     5.0   \n",
      "29310  $15 Ties Men's Solid Necktie and Pocket Square...       1599.0     4.0   \n",
      "18193  (Free Delivery) Women 2hook Bra Extender Combo...        249.0     5.0   \n",
      "17686  001 Girls Shopping Sleeveless Denim Jacket for...        633.0     5.0   \n",
      "9204   0Month+ Boys & Girls Ankle Length Lycra White ...        225.0     2.9   \n",
      "\n",
      "                                           meta_keywords  \\\n",
      "14068  !CE ICE Cotton Round Neck Half Sleeve Printed ...   \n",
      "29310  $15 Ties Men's Solid Necktie and Pocket Square...   \n",
      "18193  (Free Delivery) Women 2hook Bra Extender Combo...   \n",
      "17686  001 Girls Shopping Sleeveless Denim Jacket for...   \n",
      "9204   0Month+ Boys & Girls Ankle Length Lycra White ...   \n",
      "\n",
      "                                                  medium               brand  \n",
      "14068  https://images-na.ssl-images-amazon.com/images...                 !CE  \n",
      "29310  https://images-na.ssl-images-amazon.com/images...            $15 Ties  \n",
      "18193  https://images-na.ssl-images-amazon.com/images...              Pegaso  \n",
      "17686  https://images-na.ssl-images-amazon.com/images...  001 Girls Shopping  \n",
      "9204   https://images-na.ssl-images-amazon.com/images...             0Month+  \n"
     ]
    }
   ],
   "source": [
    "# Sort the rows by product name in ascending order\n",
    "df.sort_values(by='product_name', inplace=True)\n",
    "\n",
    "# Display the first 5 rows to confirm sorting\n",
    "print(df.head())\n"
   ]
  },
  {
   "cell_type": "code",
   "execution_count": 28,
   "id": "67ad4c81",
   "metadata": {},
   "outputs": [
    {
     "name": "stderr",
     "output_type": "stream",
     "text": [
      "[nltk_data] Downloading package stopwords to\n",
      "[nltk_data]     C:\\Users\\91755\\AppData\\Roaming\\nltk_data...\n",
      "[nltk_data]   Package stopwords is already up-to-date!\n",
      "[nltk_data] Downloading package words to\n",
      "[nltk_data]     C:\\Users\\91755\\AppData\\Roaming\\nltk_data...\n",
      "[nltk_data]   Package words is already up-to-date!\n"
     ]
    }
   ],
   "source": [
    "import nltk\n",
    "from nltk.corpus import stopwords\n",
    "import re\n",
    "\n",
    "# Download the stopwords dataset (if not already downloaded)\n",
    "nltk.download('stopwords')\n",
    "\n",
    "# Load English stopwords\n",
    "stop_words = set(stopwords.words('english'))\n",
    "\n",
    "# Load a set of common English words (using a built-in dictionary)\n",
    "nltk.download('words')\n",
    "from nltk.corpus import words\n",
    "english_words = set(words.words())\n"
   ]
  },
  {
   "cell_type": "code",
   "execution_count": 29,
   "id": "6912c565",
   "metadata": {},
   "outputs": [],
   "source": [
    "def clean_text(text):\n",
    "    \"\"\"\n",
    "    Function to remove special characters, non-English words, and stop words.\n",
    "    \"\"\"\n",
    "    # Remove special characters and symbols, keeping only letters and spaces\n",
    "    text = re.sub(r'[^a-zA-Z\\s]', '', text)\n",
    "    \n",
    "    # Convert to lowercase\n",
    "    text = text.lower()\n",
    "    \n",
    "    # Split the text into words\n",
    "    words_list = text.split()\n",
    "    \n",
    "    # Remove non-English words and stop words\n",
    "    cleaned_words = [word for word in words_list if word in english_words and word not in stop_words]\n",
    "    \n",
    "    # Join the cleaned words back into a single string\n",
    "    cleaned_text = ' '.join(cleaned_words)\n",
    "    return cleaned_text\n"
   ]
  },
  {
   "cell_type": "code",
   "execution_count": 30,
   "id": "0651616a",
   "metadata": {},
   "outputs": [
    {
     "name": "stdout",
     "output_type": "stream",
     "text": [
      "                                            product_name\n",
      "14068  ce ice cotton round neck half sleeve printed w...\n",
      "29310         solid necktie pocket square set mint green\n",
      "18193               free delivery hook bra extender pack\n",
      "17686                   shopping sleeveless denim jacket\n",
      "9204               month ankle length white solid school\n"
     ]
    }
   ],
   "source": [
    "# Apply the function to the 'product_name' column\n",
    "df['product_name'] = df['product_name'].apply(clean_text)\n",
    "\n",
    "# Display the first few rows to verify the changes\n",
    "print(df[['product_name']].head())\n"
   ]
  },
  {
   "cell_type": "code",
   "execution_count": 31,
   "id": "ec224539",
   "metadata": {},
   "outputs": [],
   "source": [
    "def expand_fashion_abbreviations(text):\n",
    "    \"\"\"\n",
    "    Function to expand abbreviations in fashion-related product names.\n",
    "    This is an extended version specific to fashion dataset abbreviations.\n",
    "    \"\"\"\n",
    "    # Extended abbreviations dictionary\n",
    "    abbreviations_dict = {\n",
    "        \"u\": \"you\",\n",
    "        \"ur\": \"your\",\n",
    "        \"r\": \"are\",\n",
    "        \"pls\": \"please\",\n",
    "        \"b4\": \"before\",\n",
    "        \"gr8\": \"great\",\n",
    "        \"btw\": \"by the way\",\n",
    "        \"idk\": \"I don't know\",\n",
    "        \"lol\": \"laugh out loud\",\n",
    "        \"omg\": \"oh my god\",\n",
    "        \"brb\": \"be right back\",\n",
    "        \"sz\": \"size\",\n",
    "        \"tshirt\": \"t-shirt\",\n",
    "        \"hoodie\": \"hooded sweater\",\n",
    "        \"joggers\": \"casual pants\",\n",
    "        \"jacket\": \"outerwear\",\n",
    "        \"blazer\": \"formal jacket\",\n",
    "        \"bday\": \"birthday\",\n",
    "        \"casual\": \"casual wear\",\n",
    "        \"lbd\": \"little black dress\",\n",
    "        \"maxi\": \"maxi dress\",\n",
    "        \"plaid\": \"plaid shirt\",\n",
    "        \"denim\": \"denim jeans\",\n",
    "        \"flats\": \"flat shoes\",\n",
    "        \"heels\": \"high heels\",\n",
    "        \"sneaks\": \"sneakers\",\n",
    "        \"worn\": \"worn out\"\n",
    "    }\n",
    "    \n",
    "    # Replace each abbreviation with its full form\n",
    "    for abbrev, full_form in abbreviations_dict.items():\n",
    "        text = re.sub(r'\\b' + abbrev + r'\\b', full_form, text, flags=re.IGNORECASE)\n",
    "    \n",
    "    return text\n"
   ]
  },
  {
   "cell_type": "code",
   "execution_count": 32,
   "id": "8c2e780e",
   "metadata": {},
   "outputs": [
    {
     "name": "stdout",
     "output_type": "stream",
     "text": [
      "                                            product_name\n",
      "14068  ce ice cotton round neck half sleeve printed w...\n",
      "29310         solid necktie pocket square set mint green\n",
      "18193               free delivery hook bra extender pack\n",
      "17686          shopping sleeveless denim jeans outerwear\n",
      "9204               month ankle length white solid school\n"
     ]
    }
   ],
   "source": [
    "# Apply the function to the 'product_name' column\n",
    "df['product_name'] = df['product_name'].apply(expand_fashion_abbreviations)\n",
    "\n",
    "# Display the first few rows to verify the changes\n",
    "print(df[['product_name']].head())\n"
   ]
  },
  {
   "cell_type": "code",
   "execution_count": 33,
   "id": "c1e049a5",
   "metadata": {},
   "outputs": [],
   "source": [
    "import nltk\n",
    "from nltk.stem import PorterStemmer\n"
   ]
  },
  {
   "cell_type": "code",
   "execution_count": 34,
   "id": "cb1cfc10",
   "metadata": {},
   "outputs": [
    {
     "name": "stdout",
     "output_type": "stream",
     "text": [
      "                                          product_name\n",
      "14068  ce ice cotton round neck half sleev print white\n",
      "29310         solid neckti pocket squar set mint green\n",
      "18193               free deliveri hook bra extend pack\n",
      "17686             shop sleeveless denim jean outerwear\n",
      "9204              month ankl length white solid school\n"
     ]
    }
   ],
   "source": [
    "# Initialize the PorterStemmer\n",
    "ps = PorterStemmer()\n",
    "\n",
    "def apply_stemming(text):\n",
    "    \"\"\"\n",
    "    Function to apply stemming to a given text.\n",
    "    Each word in the text will be reduced to its root form.\n",
    "    \"\"\"\n",
    "    # Tokenize the text into words\n",
    "    words = text.split()\n",
    "    \n",
    "    # Apply stemming to each word\n",
    "    stemmed_words = [ps.stem(word) for word in words]\n",
    "    \n",
    "    # Reassemble the text from the stemmed words\n",
    "    return ' '.join(stemmed_words)\n",
    "\n",
    "# Apply the stemming function to the 'product_name' column\n",
    "df['product_name'] = df['product_name'].apply(apply_stemming)\n",
    "\n",
    "# Display the first few rows to verify the changes\n",
    "print(df[['product_name']].head())\n"
   ]
  },
  {
   "cell_type": "code",
   "execution_count": 35,
   "id": "f4167e29",
   "metadata": {},
   "outputs": [
    {
     "name": "stdout",
     "output_type": "stream",
     "text": [
      "(16786, 2734)\n",
      "Using Product ID: B07QCYNW3C\n",
      "Displaying Bag of Words Recommendations:\n"
     ]
    },
    {
     "data": {
      "text/html": [
       "<img src=\"https://images-na.ssl-images-amazon.com/images/I/41F-WzG-%2B4L.jpg\" width=\"200\"/>"
      ],
      "text/plain": [
       "<IPython.core.display.Image object>"
      ]
     },
     "metadata": {},
     "output_type": "display_data"
    },
    {
     "name": "stdout",
     "output_type": "stream",
     "text": [
      "Product Name: regular fit men\n",
      "Price: 299.0\n",
      "Rating: 4.0\n",
      "Similarity Score: 0.6546536707079772\n",
      "------\n"
     ]
    },
    {
     "data": {
      "text/html": [
       "<img src=\"https://images-na.ssl-images-amazon.com/images/I/41RxJdbXMCL.jpg|https://images-na.ssl-images-amazon.com/images/I/311DiO2PFzL.jpg|https://images-na.ssl-images-amazon.com/images/I/417ORdl%2BejL.jpg|https://images-na.ssl-images-amazon.com/images/I/31d-ENRzDPL.jpg|https://images-na.ssl-images-amazon.com/images/I/41aok9Dlc5L.jpg\" width=\"200\"/>"
      ],
      "text/plain": [
       "<IPython.core.display.Image object>"
      ]
     },
     "metadata": {},
     "output_type": "display_data"
    },
    {
     "name": "stdout",
     "output_type": "stream",
     "text": [
      "Product Name: arrow men print regular fit polo shirt\n",
      "Price: 399.0\n",
      "Rating: 3.7\n",
      "Similarity Score: 0.5714285714285713\n",
      "------\n"
     ]
    },
    {
     "data": {
      "text/html": [
       "<img src=\"https://images-na.ssl-images-amazon.com/images/I/41ZAKvi2hkL.jpg|https://images-na.ssl-images-amazon.com/images/I/31ljCooqyoL.jpg|https://images-na.ssl-images-amazon.com/images/I/41hN2eZwD9L.jpg|https://images-na.ssl-images-amazon.com/images/I/31YbkqKXOKL.jpg|https://images-na.ssl-images-amazon.com/images/I/41HKUZOnp6L.jpg\" width=\"200\"/>"
      ],
      "text/plain": [
       "<IPython.core.display.Image object>"
      ]
     },
     "metadata": {},
     "output_type": "display_data"
    },
    {
     "name": "stdout",
     "output_type": "stream",
     "text": [
      "Product Name: arrow men print regular fit polo shirt\n",
      "Price: 399.0\n",
      "Rating: 4.0\n",
      "Similarity Score: 0.5714285714285713\n",
      "------\n"
     ]
    },
    {
     "data": {
      "text/html": [
       "<img src=\"https://images-na.ssl-images-amazon.com/images/I/31OKoJ04ihL.jpg|https://images-na.ssl-images-amazon.com/images/I/31u6MCLBmOL.jpg|https://images-na.ssl-images-amazon.com/images/I/312FW6IUWHL.jpg|https://images-na.ssl-images-amazon.com/images/I/31FRTt%2B415L.jpg\" width=\"200\"/>"
      ],
      "text/plain": [
       "<IPython.core.display.Image object>"
      ]
     },
     "metadata": {},
     "output_type": "display_data"
    },
    {
     "name": "stdout",
     "output_type": "stream",
     "text": [
      "Product Name: arrow men plain regular fit polo shirt\n",
      "Price: 359.0\n",
      "Rating: 4.1\n",
      "Similarity Score: 0.5714285714285713\n",
      "------\n"
     ]
    },
    {
     "data": {
      "text/html": [
       "<img src=\"https://images-na.ssl-images-amazon.com/images/I/4184MEats1L.jpg|https://images-na.ssl-images-amazon.com/images/I/31cuUCcwc4L.jpg|https://images-na.ssl-images-amazon.com/images/I/31nRu5W5Z1L.jpg|https://images-na.ssl-images-amazon.com/images/I/31bA2OHqsxL.jpg\" width=\"200\"/>"
      ],
      "text/plain": [
       "<IPython.core.display.Image object>"
      ]
     },
     "metadata": {},
     "output_type": "display_data"
    },
    {
     "name": "stdout",
     "output_type": "stream",
     "text": [
      "Product Name: arrow men plain regular fit polo shirt\n",
      "Price: 359.0\n",
      "Rating: 3.9\n",
      "Similarity Score: 0.5714285714285713\n",
      "------\n"
     ]
    }
   ],
   "source": [
    "from sklearn.metrics.pairwise import cosine_similarity\n",
    "import numpy as np\n",
    "from sklearn.feature_extraction.text import CountVectorizer\n",
    "from IPython.display import Image, display\n",
    "\n",
    "# Load your DataFrame (assuming df is already loaded with product data)\n",
    "# Ensure df has columns: 'asin', 'product_name', 'sales_price', 'rating', and 'medium' (image URL)\n",
    "\n",
    "# Example of a product dataset structure (ensure these columns exist)\n",
    "# df = pd.read_csv('your_product_data.csv')\n",
    "\n",
    "# Recommendation Function for Bag of Words\n",
    "def recommend_bow(product_id, num_recommendations, bow_matrix, df):\n",
    "    \"\"\"\n",
    "    Generates recommendations using cosine similarity with Bag of Words embeddings.\n",
    "    \"\"\"\n",
    "    # Check if the product_id exists in the dataframe\n",
    "    if product_id not in df['asin'].values:\n",
    "        print(f\"Product ID {product_id} not found in the dataset.\")\n",
    "        return None\n",
    "    \n",
    "    # Get the index of the product_id\n",
    "    product_index = df.index[df['asin'] == product_id][0]\n",
    "    \n",
    "    # Convert bow_matrix to dense format (if it is sparse)\n",
    "    bow_matrix_dense = bow_matrix.toarray()  # Convert sparse matrix to dense array\n",
    "    \n",
    "    # Calculate cosine similarity\n",
    "    cosine_sim = cosine_similarity([bow_matrix_dense[product_index]], bow_matrix_dense).flatten()\n",
    "    \n",
    "    # Get the indices of the most similar products\n",
    "    similar_indices = cosine_sim.argsort()[-num_recommendations - 1:-1][::-1]\n",
    "    \n",
    "    # Retrieve the recommendations\n",
    "    recommendations = df.iloc[similar_indices][['asin', 'product_name', 'sales_price', 'rating', 'medium']]\n",
    "    recommendations['similarity_score'] = cosine_sim[similar_indices]\n",
    "    \n",
    "    return recommendations\n",
    "\n",
    "# Display recommendations for Bag of Words\n",
    "def display_recommendations_bow(recommendations):\n",
    "    if recommendations is not None and not recommendations.empty:\n",
    "        print(\"Displaying Bag of Words Recommendations:\")\n",
    "        for index, row in recommendations.iterrows():\n",
    "            product_image_url = row['medium']  # Assuming 'medium' column contains the image URLs\n",
    "            product_name = row['product_name']\n",
    "            sales_price = row['sales_price']\n",
    "            \n",
    "            # Display product image\n",
    "            display(Image(url=product_image_url, width=200))\n",
    "            \n",
    "            # Display product details\n",
    "            print(f\"Product Name: {product_name}\")\n",
    "            print(f\"Price: {sales_price}\")\n",
    "            print(f\"Rating: {row['rating']}\")\n",
    "            print(f\"Similarity Score: {row['similarity_score']}\")\n",
    "            print(\"------\")\n",
    "    else:\n",
    "        print(\"No recommendations available.\")\n",
    "\n",
    "# Example usage (assuming you already have the recommendations DataFrame)\n",
    "# 1. Vectorize the product names to generate the BoW matrix\n",
    "vectorizer = CountVectorizer(stop_words='english')\n",
    "bow_matrix = vectorizer.fit_transform(df['product_name'])  # Or another appropriate column\n",
    "print(bow_matrix.shape)  # Check if the matrix is created correctly\n",
    "\n",
    "# 2. Get a valid product ID\n",
    "valid_product_id = df['asin'].iloc[0]  # Replace with a valid product ID from your dataset\n",
    "print(f\"Using Product ID: {valid_product_id}\")  # Check the product ID\n",
    "\n",
    "# 3. Get recommendations using Bag of Words\n",
    "num_recommendations = 5\n",
    "recommendations_bow = recommend_bow(valid_product_id, num_recommendations, bow_matrix, df)\n",
    "\n",
    "# 4. Display recommendations if they exist\n",
    "if recommendations_bow is not None:\n",
    "    display_recommendations_bow(recommendations_bow)\n",
    "else:\n",
    "    print(\"No recommendations found.\")\n"
   ]
  },
  {
   "cell_type": "code",
   "execution_count": 36,
   "id": "f549a584",
   "metadata": {},
   "outputs": [
    {
     "name": "stdout",
     "output_type": "stream",
     "text": [
      "(16786, 2734)\n",
      "Using Product ID: B07QCYNW3C\n",
      "Displaying TF-IDF Recommendations:\n"
     ]
    },
    {
     "data": {
      "text/html": [
       "<img src=\"https://images-na.ssl-images-amazon.com/images/I/41qquzi66qL.jpg|https://images-na.ssl-images-amazon.com/images/I/41LnuH6WP9L.jpg\" width=\"200\"/>"
      ],
      "text/plain": [
       "<IPython.core.display.Image object>"
      ]
     },
     "metadata": {},
     "output_type": "display_data"
    },
    {
     "name": "stdout",
     "output_type": "stream",
     "text": [
      "Product Name: full cotton fit cotton men polo men\n",
      "Price: 599.0\n",
      "Rating: 5.0\n",
      "Similarity Score: 0.4071116591317999\n",
      "------\n"
     ]
    },
    {
     "data": {
      "text/html": [
       "<img src=\"https://images-na.ssl-images-amazon.com/images/I/41I238rl28L.jpg|https://images-na.ssl-images-amazon.com/images/I/41sTYH-E4bL.jpg|https://images-na.ssl-images-amazon.com/images/I/41vof8waTCL.jpg|https://images-na.ssl-images-amazon.com/images/I/31jg%2Bkcp%2B6L.jpg\" width=\"200\"/>"
      ],
      "text/plain": [
       "<IPython.core.display.Image object>"
      ]
     },
     "metadata": {},
     "output_type": "display_data"
    },
    {
     "name": "stdout",
     "output_type": "stream",
     "text": [
      "Product Name: walnut creek cloth blue polo neck cotton piqu\n",
      "Price: 599.0\n",
      "Rating: 5.0\n",
      "Similarity Score: 0.4069695796488377\n",
      "------\n"
     ]
    },
    {
     "data": {
      "text/html": [
       "<img src=\"https://images-na.ssl-images-amazon.com/images/I/51NGHSnUBhL.jpg|https://images-na.ssl-images-amazon.com/images/I/417oXgNYrmL.jpg|https://images-na.ssl-images-amazon.com/images/I/41zqF58W6GL.jpg|https://images-na.ssl-images-amazon.com/images/I/41e5qHcvcjL.jpg\" width=\"200\"/>"
      ],
      "text/plain": [
       "<IPython.core.display.Image object>"
      ]
     },
     "metadata": {},
     "output_type": "display_data"
    },
    {
     "name": "stdout",
     "output_type": "stream",
     "text": [
      "Product Name: plain regular fit polo\n",
      "Price: 366.0\n",
      "Rating: 4.0\n",
      "Similarity Score: 0.3965533530343065\n",
      "------\n"
     ]
    },
    {
     "data": {
      "text/html": [
       "<img src=\"https://images-na.ssl-images-amazon.com/images/I/31d-53V1rmL.jpg|https://images-na.ssl-images-amazon.com/images/I/31JT9PyD6bL.jpg|https://images-na.ssl-images-amazon.com/images/I/31cVatMalTL.jpg|https://images-na.ssl-images-amazon.com/images/I/31DU905%2B56L.jpg\" width=\"200\"/>"
      ],
      "text/plain": [
       "<IPython.core.display.Image object>"
      ]
     },
     "metadata": {},
     "output_type": "display_data"
    },
    {
     "name": "stdout",
     "output_type": "stream",
     "text": [
      "Product Name: plain regular fit polo\n",
      "Price: 449.0\n",
      "Rating: 5.0\n",
      "Similarity Score: 0.3965533530343065\n",
      "------\n"
     ]
    },
    {
     "data": {
      "text/html": [
       "<img src=\"https://images-na.ssl-images-amazon.com/images/I/41buU195p7L.jpg|https://images-na.ssl-images-amazon.com/images/I/31yGyvxSaJL.jpg|https://images-na.ssl-images-amazon.com/images/I/41Da5kHOrPL.jpg|https://images-na.ssl-images-amazon.com/images/I/31BcuJSKgML.jpg\" width=\"200\"/>"
      ],
      "text/plain": [
       "<IPython.core.display.Image object>"
      ]
     },
     "metadata": {},
     "output_type": "display_data"
    },
    {
     "name": "stdout",
     "output_type": "stream",
     "text": [
      "Product Name: solid regular fit polo\n",
      "Price: 264.0\n",
      "Rating: 3.9\n",
      "Similarity Score: 0.3965234529813687\n",
      "------\n"
     ]
    }
   ],
   "source": [
    "from sklearn.feature_extraction.text import TfidfVectorizer\n",
    "from sklearn.metrics.pairwise import cosine_similarity\n",
    "import numpy as np\n",
    "from IPython.display import Image, display\n",
    "\n",
    "# TF-IDF Recommendation Function\n",
    "def recommend_tfidf(product_id, num_recommendations, tfidf_matrix, df):\n",
    "    \"\"\"\n",
    "    Generates recommendations using cosine similarity with TF-IDF embeddings.\n",
    "    \"\"\"\n",
    "    # Check if the product_id exists in the dataframe\n",
    "    if product_id not in df['asin'].values:\n",
    "        print(f\"Product ID {product_id} not found in the dataset.\")\n",
    "        return None\n",
    "    \n",
    "    # Get the index of the product_id\n",
    "    product_index = df.index[df['asin'] == product_id][0]\n",
    "    \n",
    "    # Convert tfidf_matrix to dense format (if it is sparse)\n",
    "    tfidf_matrix_dense = tfidf_matrix.toarray()  # Convert sparse matrix to dense array\n",
    "    \n",
    "    # Calculate cosine similarity\n",
    "    cosine_sim = cosine_similarity([tfidf_matrix_dense[product_index]], tfidf_matrix_dense).flatten()\n",
    "    \n",
    "    # Get the indices of the most similar products\n",
    "    similar_indices = cosine_sim.argsort()[-num_recommendations - 1:-1][::-1]\n",
    "    \n",
    "    # Retrieve the recommendations\n",
    "    recommendations = df.iloc[similar_indices][['asin', 'product_name', 'sales_price', 'rating', 'medium']]\n",
    "    recommendations['similarity_score'] = cosine_sim[similar_indices]\n",
    "    \n",
    "    return recommendations\n",
    "\n",
    "# Display recommendations for TF-IDF\n",
    "def display_recommendations_tfidf(recommendations):\n",
    "    if recommendations is not None and not recommendations.empty:\n",
    "        print(\"Displaying TF-IDF Recommendations:\")\n",
    "        for index, row in recommendations.iterrows():\n",
    "            product_image_url = row['medium']  # Assuming 'medium' column contains the image URLs\n",
    "            product_name = row['product_name']\n",
    "            sales_price = row['sales_price']\n",
    "            \n",
    "            # Display product image\n",
    "            display(Image(url=product_image_url, width=200))\n",
    "            \n",
    "            # Display product details\n",
    "            print(f\"Product Name: {product_name}\")\n",
    "            print(f\"Price: {sales_price}\")\n",
    "            print(f\"Rating: {row['rating']}\")\n",
    "            print(f\"Similarity Score: {row['similarity_score']}\")\n",
    "            print(\"------\")\n",
    "    else:\n",
    "        print(\"No recommendations available.\")\n",
    "\n",
    "# Example usage (assuming you already have the recommendations DataFrame)\n",
    "# 1. Vectorize the product names using TF-IDF to generate the TF-IDF matrix\n",
    "vectorizer = TfidfVectorizer(stop_words='english')\n",
    "tfidf_matrix = vectorizer.fit_transform(df['product_name'])  # Or another appropriate column\n",
    "print(tfidf_matrix.shape)  # Check if the matrix is created correctly\n",
    "\n",
    "# 2. Get a valid product ID\n",
    "valid_product_id = df['asin'].iloc[0]  # Replace with a valid product ID from your dataset\n",
    "print(f\"Using Product ID: {valid_product_id}\")  # Check the product ID\n",
    "\n",
    "# 3. Get recommendations using TF-IDF\n",
    "num_recommendations = 5\n",
    "recommendations_tfidf = recommend_tfidf(valid_product_id, num_recommendations, tfidf_matrix, df)\n",
    "\n",
    "# 4. Display recommendations if they exist\n",
    "if recommendations_tfidf is not None:\n",
    "    display_recommendations_tfidf(recommendations_tfidf)\n",
    "else:\n",
    "    print(\"No recommendations found.\")\n"
   ]
  },
  {
   "cell_type": "code",
   "execution_count": 37,
   "id": "44fdd5b0",
   "metadata": {},
   "outputs": [
    {
     "name": "stdout",
     "output_type": "stream",
     "text": [
      "Requirement already satisfied: gensim in c:\\users\\91755\\anaconda3\\lib\\site-packages (4.3.3)\n",
      "Requirement already satisfied: smart-open>=1.8.1 in c:\\users\\91755\\anaconda3\\lib\\site-packages (from gensim) (7.0.5)\n",
      "Requirement already satisfied: scipy<1.14.0,>=1.7.0 in c:\\users\\91755\\anaconda3\\lib\\site-packages (from gensim) (1.10.1)\n",
      "Requirement already satisfied: numpy<2.0,>=1.18.5 in c:\\users\\91755\\anaconda3\\lib\\site-packages (from gensim) (1.22.4)\n",
      "Requirement already satisfied: wrapt in c:\\users\\91755\\anaconda3\\lib\\site-packages (from smart-open>=1.8.1->gensim) (1.12.1)\n",
      "Note: you may need to restart the kernel to use updated packages.\n"
     ]
    }
   ],
   "source": [
    "pip install gensim\n"
   ]
  },
  {
   "cell_type": "code",
   "execution_count": 4,
   "id": "0aac4c9e",
   "metadata": {},
   "outputs": [
    {
     "name": "stdout",
     "output_type": "stream",
     "text": [
      "Displaying Word2Vec Recommendations:\n"
     ]
    },
    {
     "data": {
      "text/html": [
       "<img src=\"https://images-na.ssl-images-amazon.com/images/I/51Wj2WownyL.jpg|https://images-na.ssl-images-amazon.com/images/I/51tylkSxAIL.jpg|https://images-na.ssl-images-amazon.com/images/I/51345gshQ9L.jpg\" width=\"200\"/>"
      ],
      "text/plain": [
       "<IPython.core.display.Image object>"
      ]
     },
     "metadata": {},
     "output_type": "display_data"
    },
    {
     "name": "stdout",
     "output_type": "stream",
     "text": [
      "Product Name: LA' Facon Cotton Kalamkari Handblock Saree Blouse Fabric 100 cms Black Base Dancers (Cotton)\n",
      "Price: 200.0\n",
      "Rating: 5.0\n",
      "Similarity Score: 1.00\n",
      "------\n"
     ]
    },
    {
     "data": {
      "text/html": [
       "<img src=\"https://images-na.ssl-images-amazon.com/images/I/51Wj2WownyL.jpg|https://images-na.ssl-images-amazon.com/images/I/51tylkSxAIL.jpg|https://images-na.ssl-images-amazon.com/images/I/51345gshQ9L.jpg\" width=\"200\"/>"
      ],
      "text/plain": [
       "<IPython.core.display.Image object>"
      ]
     },
     "metadata": {},
     "output_type": "display_data"
    },
    {
     "name": "stdout",
     "output_type": "stream",
     "text": [
      "Product Name: LA' Facon Cotton Kalamkari Handblock Saree Blouse Fabric 100 cms Black Base Dancers (Cotton)\n",
      "Price: 200.0\n",
      "Rating: 5.0\n",
      "Similarity Score: 1.00\n",
      "------\n"
     ]
    },
    {
     "data": {
      "text/html": [
       "<img src=\"https://images-na.ssl-images-amazon.com/images/I/31zl3Md53HL.jpg|https://images-na.ssl-images-amazon.com/images/I/41faiEfXOWL.jpg\" width=\"200\"/>"
      ],
      "text/plain": [
       "<IPython.core.display.Image object>"
      ]
     },
     "metadata": {},
     "output_type": "display_data"
    },
    {
     "name": "stdout",
     "output_type": "stream",
     "text": [
      "Product Name: Black Orange Women's Bhagalpuri Cotton Saree with Blouse Piece (Pink,Free Size)\n",
      "Price: 1099.0\n",
      "Rating: 5.0\n",
      "Similarity Score: 0.89\n",
      "------\n"
     ]
    },
    {
     "data": {
      "text/html": [
       "<img src=\"https://images-na.ssl-images-amazon.com/images/I/41DGCV9VeqL.jpg|https://images-na.ssl-images-amazon.com/images/I/41d9E7E8nlL.jpg|https://images-na.ssl-images-amazon.com/images/I/41AFUoOpLDL.jpg|https://images-na.ssl-images-amazon.com/images/I/41%2BP17LrMwL.jpg|https://images-na.ssl-images-amazon.com/images/I/41wC%2Be2hKzL.jpg\" width=\"200\"/>"
      ],
      "text/plain": [
       "<IPython.core.display.Image object>"
      ]
     },
     "metadata": {},
     "output_type": "display_data"
    },
    {
     "name": "stdout",
     "output_type": "stream",
     "text": [
      "Product Name: Gauri Laxmi Enterprise Women's Art Silk, Cotton Blend Saree with Blouse More Than 50 Designs (FABULOUS 50, Deer Red)\n",
      "Price: 299.0\n",
      "Rating: 4.0\n",
      "Similarity Score: 0.89\n",
      "------\n"
     ]
    },
    {
     "data": {
      "text/html": [
       "<img src=\"https://images-na.ssl-images-amazon.com/images/I/31Te7efpeWL.jpg|https://images-na.ssl-images-amazon.com/images/I/31liUKFKrkL.jpg|https://images-na.ssl-images-amazon.com/images/I/31yVZeL0qBL.jpg\" width=\"200\"/>"
      ],
      "text/plain": [
       "<IPython.core.display.Image object>"
      ]
     },
     "metadata": {},
     "output_type": "display_data"
    },
    {
     "name": "stdout",
     "output_type": "stream",
     "text": [
      "Product Name: Black Orange Women's Cotton Casual Wear Bhgalpuri Saree with Running Blouse Piece (BO.CSR.AQ015,Blue,Free Size)\n",
      "Price: 1099.0\n",
      "Rating: 4.0\n",
      "Similarity Score: 0.89\n",
      "------\n"
     ]
    },
    {
     "data": {
      "text/html": [
       "<img src=\"https://images-na.ssl-images-amazon.com/images/I/418POXya1iL.jpg|https://images-na.ssl-images-amazon.com/images/I/41BDKZmfbuL.jpg|https://images-na.ssl-images-amazon.com/images/I/31hondHWgGL.jpg|https://images-na.ssl-images-amazon.com/images/I/41MdqtNu1ZL.jpg\" width=\"200\"/>"
      ],
      "text/plain": [
       "<IPython.core.display.Image object>"
      ]
     },
     "metadata": {},
     "output_type": "display_data"
    },
    {
     "name": "stdout",
     "output_type": "stream",
     "text": [
      "Product Name: GoSriKi Art Cotton Silk Sky Blue Saree with Blouse Piece (Club-Sky IND Blue_Free Size)\n",
      "Price: 269.0\n",
      "Rating: 3.2\n",
      "Similarity Score: 0.89\n",
      "------\n"
     ]
    },
    {
     "data": {
      "text/html": [
       "<img src=\"https://images-na.ssl-images-amazon.com/images/I/41blP7kU%2BML.jpg|https://images-na.ssl-images-amazon.com/images/I/51ewl2oN8SL.jpg|https://images-na.ssl-images-amazon.com/images/I/41Ptl82sCGL.jpg\" width=\"200\"/>"
      ],
      "text/plain": [
       "<IPython.core.display.Image object>"
      ]
     },
     "metadata": {},
     "output_type": "display_data"
    },
    {
     "name": "stdout",
     "output_type": "stream",
     "text": [
      "Product Name: Shreeji Clothing Women's Rich Collection of Pure Cotton Silk Saree with Blouse Piece (15, Pink)\n",
      "Price: 1450.0\n",
      "Rating: 5.0\n",
      "Similarity Score: 0.88\n",
      "------\n"
     ]
    },
    {
     "data": {
      "text/html": [
       "<img src=\"https://images-na.ssl-images-amazon.com/images/I/41MpJlm71PL.jpg|https://images-na.ssl-images-amazon.com/images/I/41d3e8diS0L.jpg|https://images-na.ssl-images-amazon.com/images/I/41ewAnycmiL.jpg\" width=\"200\"/>"
      ],
      "text/plain": [
       "<IPython.core.display.Image object>"
      ]
     },
     "metadata": {},
     "output_type": "display_data"
    },
    {
     "name": "stdout",
     "output_type": "stream",
     "text": [
      "Product Name: Leriya Fashion Banarasi cotton with blouse piece Saree (Leriya-LF-S1296_ Blue_ One Size)\n",
      "Price: 402.0\n",
      "Rating: 3.2\n",
      "Similarity Score: 0.88\n",
      "------\n"
     ]
    },
    {
     "data": {
      "text/html": [
       "<img src=\"https://images-na.ssl-images-amazon.com/images/I/41LzL0AxilL.jpg|https://images-na.ssl-images-amazon.com/images/I/41z0785ZvNL.jpg|https://images-na.ssl-images-amazon.com/images/I/41a8uB9shHL.jpg|https://images-na.ssl-images-amazon.com/images/I/515mBxvGWRL.jpg\" width=\"200\"/>"
      ],
      "text/plain": [
       "<IPython.core.display.Image object>"
      ]
     },
     "metadata": {},
     "output_type": "display_data"
    },
    {
     "name": "stdout",
     "output_type": "stream",
     "text": [
      "Product Name: Royora Fashion Orange Color Cotton Fabric Heavy Embroidered Butta Work Saree For Women\n",
      "Price: 599.0\n",
      "Rating: 5.0\n",
      "Similarity Score: 0.88\n",
      "------\n"
     ]
    },
    {
     "data": {
      "text/html": [
       "<img src=\"https://images-na.ssl-images-amazon.com/images/I/41wX96Ms-ZL.jpg|https://images-na.ssl-images-amazon.com/images/I/41707GP7rFL.jpg|https://images-na.ssl-images-amazon.com/images/I/41fKS-lFBSL.jpg|https://images-na.ssl-images-amazon.com/images/I/41xgZ2DvE8L.jpg|https://images-na.ssl-images-amazon.com/images/I/41ywSkJvsFL.jpg|https://images-na.ssl-images-amazon.com/images/I/51saeDU%2BD0L.jpg|https://images-na.ssl-images-amazon.com/images/I/41qw0k7%2BijL.jpg\" width=\"200\"/>"
      ],
      "text/plain": [
       "<IPython.core.display.Image object>"
      ]
     },
     "metadata": {},
     "output_type": "display_data"
    },
    {
     "name": "stdout",
     "output_type": "stream",
     "text": [
      "Product Name: MIMOSA Women's Art Silk Kanjivaram Style Light Weight Saree with Blouse (142, Orange)\n",
      "Price: 2159.0\n",
      "Rating: 4.7\n",
      "Similarity Score: 0.88\n",
      "------\n"
     ]
    }
   ],
   "source": [
    "import gensim.downloader as api\n",
    "from sklearn.metrics.pairwise import cosine_similarity\n",
    "from sklearn.feature_extraction.text import ENGLISH_STOP_WORDS\n",
    "import numpy as np\n",
    "import pandas as pd\n",
    "from IPython.display import Image, display\n",
    "import re\n",
    "\n",
    "# Load pre-trained Word2Vec model\n",
    "word2vec_model = api.load(\"glove-wiki-gigaword-100\")\n",
    "\n",
    "# Helper function: Preprocess text\n",
    "def preprocess_text(text):\n",
    "    \"\"\"Lowercase, remove punctuation, and stop words.\"\"\"\n",
    "    text = text.lower()\n",
    "    text = re.sub(r\"[^a-zA-Z0-9 ]\", \"\", text)\n",
    "    words = [word for word in text.split() if word not in ENGLISH_STOP_WORDS]\n",
    "    return \" \".join(words)\n",
    "\n",
    "# Helper function: Get Word2Vec embedding\n",
    "def get_word2vec_embedding(text, word2vec_model):\n",
    "    \"\"\"Calculate the average Word2Vec embedding for a given text.\"\"\"\n",
    "    words = text.split()\n",
    "    word_vectors = [word2vec_model[word] for word in words if word in word2vec_model]\n",
    "    return np.mean(word_vectors, axis=0) if word_vectors else None\n",
    "\n",
    "# Word2Vec Recommendation Function\n",
    "def recommend_word2vec(product_id, num_recommendations, df, word2vec_model):\n",
    "    \"\"\"Generates recommendations using cosine similarity with Word2Vec embeddings.\"\"\"\n",
    "    if product_id not in df['asin'].values:\n",
    "        print(f\"Product ID {product_id} not found in the dataset.\")\n",
    "        return None\n",
    "\n",
    "    # Get product details\n",
    "    product_data = df[df['asin'] == product_id].iloc[0]\n",
    "    product_name = preprocess_text(product_data['product_name'])\n",
    "    product_vector = get_word2vec_embedding(product_name, word2vec_model)\n",
    "\n",
    "    if product_vector is None:\n",
    "        print(f\"No Word2Vec embedding found for the product '{product_data['product_name']}'.\")\n",
    "        return None\n",
    "\n",
    "    # Calculate similarities\n",
    "    similarities = []\n",
    "    for _, row in df.iterrows():\n",
    "        other_product_name = preprocess_text(row['product_name'])\n",
    "        other_product_vector = get_word2vec_embedding(other_product_name, word2vec_model)\n",
    "\n",
    "        if other_product_vector is not None:\n",
    "            similarity = cosine_similarity([product_vector], [other_product_vector]).flatten()[0]\n",
    "            similarities.append((row['asin'], similarity, row['product_name'], row['sales_price'], row['rating'], row['medium']))\n",
    "\n",
    "    # Sort by similarity and return top recommendations\n",
    "    similarities.sort(key=lambda x: x[1], reverse=True)\n",
    "    recommendations = similarities[:num_recommendations]\n",
    "    recommendations_df = pd.DataFrame(recommendations, columns=['asin', 'similarity_score', 'product_name', 'sales_price', 'rating', 'medium'])\n",
    "    return recommendations_df\n",
    "\n",
    "# Display Recommendations\n",
    "def display_recommendations_word2vec(recommendations):\n",
    "    if recommendations is not None and not recommendations.empty:\n",
    "        print(\"Displaying Word2Vec Recommendations:\")\n",
    "        for _, row in recommendations.iterrows():\n",
    "            display(Image(url=row['medium'], width=200))\n",
    "            print(f\"Product Name: {row['product_name']}\")\n",
    "            print(f\"Price: {row['sales_price']}\")\n",
    "            print(f\"Rating: {row['rating']}\")\n",
    "            print(f\"Similarity Score: {row['similarity_score']:.2f}\")\n",
    "            print(\"------\")\n",
    "    else:\n",
    "        print(\"No recommendations available.\")\n",
    "\n",
    "# Example usage\n",
    "# Assuming `df` is your dataset with columns: asin, product_name, sales_price, rating, medium\n",
    "valid_product_id = df['asin'].iloc[0]  # Replace with a valid product ID\n",
    "num_recommendations = 10\n",
    "recommendations = recommend_word2vec(valid_product_id, num_recommendations, df, word2vec_model)\n",
    "\n",
    "if recommendations is not None:\n",
    "    display_recommendations_word2vec(recommendations)\n"
   ]
  },
  {
   "cell_type": "code",
   "execution_count": 7,
   "id": "c4264c98",
   "metadata": {},
   "outputs": [
    {
     "name": "stdout",
     "output_type": "stream",
     "text": [
      "Displaying Hybrid Recommendations:\n"
     ]
    },
    {
     "data": {
      "text/html": [
       "<img src=\"https://images-na.ssl-images-amazon.com/images/I/41nC0Uyof2L.jpg|https://images-na.ssl-images-amazon.com/images/I/41M4onCJ90L.jpg|https://images-na.ssl-images-amazon.com/images/I/41MHX55F9dL.jpg|https://images-na.ssl-images-amazon.com/images/I/317ILcK9oKL.jpg|https://images-na.ssl-images-amazon.com/images/I/41UsLG8NY3L.jpg\" width=\"200\"/>"
      ],
      "text/plain": [
       "<IPython.core.display.Image object>"
      ]
     },
     "metadata": {},
     "output_type": "display_data"
    },
    {
     "name": "stdout",
     "output_type": "stream",
     "text": [
      "Product Name: Sf Jeans By Pantaloons Men's Slim fit T-Shirt\n",
      "Price: 220.0\n",
      "Rating: 4.0\n",
      "Hybrid Score: 0.9691333579767335\n",
      "------\n"
     ]
    },
    {
     "data": {
      "text/html": [
       "<img src=\"https://images-na.ssl-images-amazon.com/images/I/31S3JWFaMlL.jpg|https://images-na.ssl-images-amazon.com/images/I/31xnR1nB5TL.jpg|https://images-na.ssl-images-amazon.com/images/I/41SfFCijNXL.jpg|https://images-na.ssl-images-amazon.com/images/I/31AkIqfAtoL.jpg|https://images-na.ssl-images-amazon.com/images/I/41sLzM5CdML.jpg\" width=\"200\"/>"
      ],
      "text/plain": [
       "<IPython.core.display.Image object>"
      ]
     },
     "metadata": {},
     "output_type": "display_data"
    },
    {
     "name": "stdout",
     "output_type": "stream",
     "text": [
      "Product Name: Sf Jeans By Pantaloons Men's Slim fit T-Shirt\n",
      "Price: 212.0\n",
      "Rating: 1.0\n",
      "Hybrid Score: 0.9691333579767335\n",
      "------\n"
     ]
    },
    {
     "data": {
      "text/html": [
       "<img src=\"https://images-na.ssl-images-amazon.com/images/I/41j51xgBCRL.jpg|https://images-na.ssl-images-amazon.com/images/I/31aNCghZm1L.jpg|https://images-na.ssl-images-amazon.com/images/I/41ITwokHNSL.jpg|https://images-na.ssl-images-amazon.com/images/I/31ZabmfJBvL.jpg|https://images-na.ssl-images-amazon.com/images/I/517RHCP6bIL.jpg\" width=\"200\"/>"
      ],
      "text/plain": [
       "<IPython.core.display.Image object>"
      ]
     },
     "metadata": {},
     "output_type": "display_data"
    },
    {
     "name": "stdout",
     "output_type": "stream",
     "text": [
      "Product Name: Sf Jeans By Pantaloons Men's Slim fit T-Shirt\n",
      "Price: 246.0\n",
      "Rating: 3.5\n",
      "Hybrid Score: 0.9691333579767335\n",
      "------\n"
     ]
    },
    {
     "data": {
      "text/html": [
       "<img src=\"https://images-na.ssl-images-amazon.com/images/I/41aG6lKxNPL.jpg|https://images-na.ssl-images-amazon.com/images/I/41bDTbm2eOL.jpg|https://images-na.ssl-images-amazon.com/images/I/411AXHH2X2L.jpg|https://images-na.ssl-images-amazon.com/images/I/311v63R%2Bx%2BL.jpg|https://images-na.ssl-images-amazon.com/images/I/51%2BxfTj1JJL.jpg\" width=\"200\"/>"
      ],
      "text/plain": [
       "<IPython.core.display.Image object>"
      ]
     },
     "metadata": {},
     "output_type": "display_data"
    },
    {
     "name": "stdout",
     "output_type": "stream",
     "text": [
      "Product Name: Sf Jeans By Pantaloons Men's Plain Regular Fit T-Shirt\n",
      "Price: 449.0\n",
      "Rating: 5.0\n",
      "Hybrid Score: 0.9483775237974776\n",
      "------\n"
     ]
    },
    {
     "data": {
      "text/html": [
       "<img src=\"https://images-na.ssl-images-amazon.com/images/I/41Owp3dhm%2BL.jpg|https://images-na.ssl-images-amazon.com/images/I/31VhjfFUqoL.jpg|https://images-na.ssl-images-amazon.com/images/I/41FawLvgi7L.jpg|https://images-na.ssl-images-amazon.com/images/I/31RALrozuNL.jpg|https://images-na.ssl-images-amazon.com/images/I/31EuUfBtK2L.jpg\" width=\"200\"/>"
      ],
      "text/plain": [
       "<IPython.core.display.Image object>"
      ]
     },
     "metadata": {},
     "output_type": "display_data"
    },
    {
     "name": "stdout",
     "output_type": "stream",
     "text": [
      "Product Name: Sf Jeans By Pantaloons Men's Starred Slim Fit T-Shirt\n",
      "Price: 205.0\n",
      "Rating: 5.0\n",
      "Hybrid Score: 0.883207752628115\n",
      "------\n"
     ]
    },
    {
     "data": {
      "text/html": [
       "<img src=\"https://images-na.ssl-images-amazon.com/images/I/31r5EF3gLvL.jpg|https://images-na.ssl-images-amazon.com/images/I/31CJ3by7zrL.jpg|https://images-na.ssl-images-amazon.com/images/I/31gWvNogW-L.jpg|https://images-na.ssl-images-amazon.com/images/I/31l-ruB%2BddL.jpg\" width=\"200\"/>"
      ],
      "text/plain": [
       "<IPython.core.display.Image object>"
      ]
     },
     "metadata": {},
     "output_type": "display_data"
    },
    {
     "name": "stdout",
     "output_type": "stream",
     "text": [
      "Product Name: Ajile By Pantaloons Men's Plain Slim Fit T-Shirt\n",
      "Price: 224.0\n",
      "Rating: 2.8\n",
      "Hybrid Score: 0.7172430031623225\n",
      "------\n"
     ]
    },
    {
     "data": {
      "text/html": [
       "<img src=\"https://images-na.ssl-images-amazon.com/images/I/413F8pwzA0L.jpg|https://images-na.ssl-images-amazon.com/images/I/31H%2BE4bkWZL.jpg|https://images-na.ssl-images-amazon.com/images/I/41y6RAOkpHL.jpg|https://images-na.ssl-images-amazon.com/images/I/31yoDx6GkHL.jpg\" width=\"200\"/>"
      ],
      "text/plain": [
       "<IPython.core.display.Image object>"
      ]
     },
     "metadata": {},
     "output_type": "display_data"
    },
    {
     "name": "stdout",
     "output_type": "stream",
     "text": [
      "Product Name: Ajile By Pantaloons Men's Plain Slim Fit T-Shirt\n",
      "Price: 205.0\n",
      "Rating: 4.3\n",
      "Hybrid Score: 0.7172430031623225\n",
      "------\n"
     ]
    },
    {
     "data": {
      "text/html": [
       "<img src=\"https://images-na.ssl-images-amazon.com/images/I/319r16ee8QL.jpg|https://images-na.ssl-images-amazon.com/images/I/31S5%2BLgDOHL.jpg|https://images-na.ssl-images-amazon.com/images/I/310wbotgjwL.jpg|https://images-na.ssl-images-amazon.com/images/I/31GQqNC2pAL.jpg|https://images-na.ssl-images-amazon.com/images/I/41zvO%2BLq2GL.jpg\" width=\"200\"/>"
      ],
      "text/plain": [
       "<IPython.core.display.Image object>"
      ]
     },
     "metadata": {},
     "output_type": "display_data"
    },
    {
     "name": "stdout",
     "output_type": "stream",
     "text": [
      "Product Name: Ajile By Pantaloons Men's Plain Slim fit T-Shirt\n",
      "Price: 274.0\n",
      "Rating: 3.3\n",
      "Hybrid Score: 0.7172430031623225\n",
      "------\n"
     ]
    },
    {
     "data": {
      "text/html": [
       "<img src=\"https://images-na.ssl-images-amazon.com/images/I/4163g2LmxeL.jpg|https://images-na.ssl-images-amazon.com/images/I/41ZwUvCcTVL.jpg|https://images-na.ssl-images-amazon.com/images/I/41yna5BqdbL.jpg|https://images-na.ssl-images-amazon.com/images/I/31walXR167L.jpg|https://images-na.ssl-images-amazon.com/images/I/51uO86wfioL.jpg\" width=\"200\"/>"
      ],
      "text/plain": [
       "<IPython.core.display.Image object>"
      ]
     },
     "metadata": {},
     "output_type": "display_data"
    },
    {
     "name": "stdout",
     "output_type": "stream",
     "text": [
      "Product Name: Ajile By Pantaloons Men's Plain Slim fit T-Shirt\n",
      "Price: 336.0\n",
      "Rating: 5.0\n",
      "Hybrid Score: 0.7172430031623225\n",
      "------\n"
     ]
    },
    {
     "data": {
      "text/html": [
       "<img src=\"https://images-na.ssl-images-amazon.com/images/I/41VIREKQppL.jpg|https://images-na.ssl-images-amazon.com/images/I/41-YOtF55DL.jpg|https://images-na.ssl-images-amazon.com/images/I/412VumhTd1L.jpg|https://images-na.ssl-images-amazon.com/images/I/41SPpIWLetL.jpg\" width=\"200\"/>"
      ],
      "text/plain": [
       "<IPython.core.display.Image object>"
      ]
     },
     "metadata": {},
     "output_type": "display_data"
    },
    {
     "name": "stdout",
     "output_type": "stream",
     "text": [
      "Product Name: Ajile By Pantaloons Men's Plain Slim Fit T-Shirt\n",
      "Price: 209.0\n",
      "Rating: 3.4\n",
      "Hybrid Score: 0.7172430031623225\n",
      "------\n"
     ]
    }
   ],
   "source": [
    "from sklearn.feature_extraction.text import TfidfVectorizer\n",
    "from sklearn.metrics.pairwise import cosine_similarity\n",
    "import gensim.downloader as api\n",
    "import numpy as np\n",
    "import pandas as pd\n",
    "from IPython.display import Image, display\n",
    "\n",
    "# Load pre-trained Word2Vec model\n",
    "word2vec_model = api.load(\"glove-wiki-gigaword-100\")\n",
    "\n",
    "# TF-IDF Recommendation Function\n",
    "def recommend_tfidf(product_id, tfidf_matrix, df):\n",
    "    if product_id not in df['asin'].values:\n",
    "        print(f\"Product ID {product_id} not found in the dataset.\")\n",
    "        return None\n",
    "\n",
    "    product_index = df.index[df['asin'] == product_id][0]\n",
    "    tfidf_matrix_dense = tfidf_matrix.toarray()\n",
    "    cosine_sim = cosine_similarity([tfidf_matrix_dense[product_index]], tfidf_matrix_dense).flatten()\n",
    "    return cosine_sim\n",
    "\n",
    "# Word2Vec Recommendation Function\n",
    "def recommend_word2vec(product_id, df, word2vec_model):\n",
    "    if product_id not in df['asin'].values:\n",
    "        print(f\"Product ID {product_id} not found in the dataset.\")\n",
    "        return None\n",
    "\n",
    "    product_index = df.index[df['asin'] == product_id][0]\n",
    "    product_name = df.iloc[product_index]['product_name']\n",
    "    product_vector = get_word2vec_embedding(product_name, word2vec_model)\n",
    "\n",
    "    if product_vector is None:\n",
    "        print(f\"No Word2Vec embedding found for the product '{product_name}'.\")\n",
    "        return None\n",
    "\n",
    "    similarities = []\n",
    "    for idx, row in df.iterrows():\n",
    "        other_product_name = row['product_name']\n",
    "        other_product_vector = get_word2vec_embedding(other_product_name, word2vec_model)\n",
    "        if other_product_vector is not None:\n",
    "            similarity = cosine_similarity([product_vector], [other_product_vector]).flatten()[0]\n",
    "        else:\n",
    "            similarity = 0\n",
    "        similarities.append(similarity)\n",
    "\n",
    "    return np.array(similarities)\n",
    "\n",
    "# Helper function to get Word2Vec embedding\n",
    "def get_word2vec_embedding(text, word2vec_model):\n",
    "    words = text.lower().split()\n",
    "    word_vectors = [word2vec_model[word] for word in words if word in word2vec_model]\n",
    "    return np.mean(word_vectors, axis=0) if word_vectors else None\n",
    "\n",
    "# Hybrid Recommendation Function\n",
    "def recommend_hybrid(product_id, num_recommendations, tfidf_matrix, df, word2vec_model, tfidf_weight=0.5, word2vec_weight=0.5):\n",
    "    tfidf_scores = recommend_tfidf(product_id, tfidf_matrix, df)\n",
    "    word2vec_scores = recommend_word2vec(product_id, df, word2vec_model)\n",
    "\n",
    "    if tfidf_scores is None or word2vec_scores is None:\n",
    "        print(\"Error generating scores. Check the input data.\")\n",
    "        return None\n",
    "\n",
    "    tfidf_scores = (tfidf_scores - np.min(tfidf_scores)) / (np.max(tfidf_scores) - np.min(tfidf_scores))\n",
    "    word2vec_scores = (word2vec_scores - np.min(word2vec_scores)) / (np.max(word2vec_scores) - np.min(word2vec_scores))\n",
    "\n",
    "    hybrid_scores = (tfidf_weight * tfidf_scores) + (word2vec_weight * word2vec_scores)\n",
    "    hybrid_indices = hybrid_scores.argsort()[-num_recommendations - 1:-1][::-1]\n",
    "\n",
    "    recommendations = df.iloc[hybrid_indices][['asin', 'product_name', 'sales_price', 'rating', 'medium']]\n",
    "    recommendations['hybrid_score'] = hybrid_scores[hybrid_indices]\n",
    "\n",
    "    return recommendations\n",
    "\n",
    "# Display Hybrid Recommendations\n",
    "def display_recommendations_hybrid(recommendations):\n",
    "    if recommendations is not None and not recommendations.empty:\n",
    "        print(\"Displaying Hybrid Recommendations:\")\n",
    "        for index, row in recommendations.iterrows():\n",
    "            product_image_url = row['medium']\n",
    "            product_name = row['product_name']\n",
    "            sales_price = row['sales_price']\n",
    "\n",
    "            display(Image(url=product_image_url, width=200))\n",
    "            print(f\"Product Name: {product_name}\")\n",
    "            print(f\"Price: {sales_price}\")\n",
    "            print(f\"Rating: {row['rating']}\")\n",
    "            print(f\"Hybrid Score: {row['hybrid_score']}\")\n",
    "            print(\"------\")\n",
    "    else:\n",
    "        print(\"No recommendations available.\")\n",
    "\n",
    "# Example Usage\n",
    "vectorizer = TfidfVectorizer(stop_words='english')\n",
    "tfidf_matrix = vectorizer.fit_transform(df['product_name'])\n",
    "\n",
    "# Use a different product ID for testing\n",
    "valid_product_id = df['asin'].iloc[1]  # Change to a different product ID\n",
    "\n",
    "num_recommendations = 10\n",
    "recommendations_hybrid = recommend_hybrid(valid_product_id, num_recommendations, tfidf_matrix, df, word2vec_model)\n",
    "\n",
    "display_recommendations_hybrid(recommendations_hybrid)\n"
   ]
  },
  {
   "cell_type": "code",
   "execution_count": 73,
   "id": "27a530c6",
   "metadata": {},
   "outputs": [
    {
     "name": "stdout",
     "output_type": "stream",
     "text": [
      "Selected Product: stripe dress princess bow skirt\n",
      "Brand: Generic\n",
      "==================================================\n",
      "Selected Brand for Recommendations: Generic\n",
      "==================================================\n",
      "Recommended Product: gener ivori plastic green accessori golf hole cup\n",
      "Brand: Generic\n",
      "ASIN: B011EE8GGU\n",
      "Price: 464.0\n",
      "Rating: 5.0\n"
     ]
    },
    {
     "data": {
      "text/html": [
       "<img src=\"https://images-na.ssl-images-amazon.com/images/I/21RSCom1oqL.jpg|https://images-na.ssl-images-amazon.com/images/I/31lL5Ozvz9L.jpg|https://images-na.ssl-images-amazon.com/images/I/310JirS658L.jpg|https://images-na.ssl-images-amazon.com/images/I/41Jz6dPn5dL.jpg|https://images-na.ssl-images-amazon.com/images/I/31fnABGIJbL.jpg|https://images-na.ssl-images-amazon.com/images/I/31dx35anbpL.jpg|https://images-na.ssl-images-amazon.com/images/I/2149X1pnPyL.jpg|https://images-na.ssl-images-amazon.com/images/I/31qMCciGYML.jpg|https://images-na.ssl-images-amazon.com/images/I/31XycK7vmKL.jpg\" width=\"400\" height=\"300\"/>"
      ],
      "text/plain": [
       "<IPython.core.display.Image object>"
      ]
     },
     "metadata": {},
     "output_type": "display_data"
    },
    {
     "name": "stdout",
     "output_type": "stream",
     "text": [
      "==================================================\n",
      "Recommended Product: cold shoulder black knee length dress\n",
      "Brand: Generic\n",
      "ASIN: B07PMFCHH1\n",
      "Price: 895.0\n",
      "Rating: 5.0\n"
     ]
    },
    {
     "data": {
      "text/html": [
       "<img src=\"https://images-na.ssl-images-amazon.com/images/I/31vApRVvUZL.jpg|https://images-na.ssl-images-amazon.com/images/I/31161jH8mvL.jpg\" width=\"400\" height=\"300\"/>"
      ],
      "text/plain": [
       "<IPython.core.display.Image object>"
      ]
     },
     "metadata": {},
     "output_type": "display_data"
    },
    {
     "name": "stdout",
     "output_type": "stream",
     "text": [
      "==================================================\n",
      "Recommended Product: imperi shop mall one piec\n",
      "Brand: Generic\n",
      "ASIN: B084B1NVR9\n",
      "Price: 774.0\n",
      "Rating: 5.0\n"
     ]
    },
    {
     "data": {
      "text/html": [
       "<img src=\"https://images-na.ssl-images-amazon.com/images/I/41kqz5d61IL.jpg|https://images-na.ssl-images-amazon.com/images/I/410JWo0NzKL.jpg\" width=\"400\" height=\"300\"/>"
      ],
      "text/plain": [
       "<IPython.core.display.Image object>"
      ]
     },
     "metadata": {},
     "output_type": "display_data"
    },
    {
     "name": "stdout",
     "output_type": "stream",
     "text": [
      "==================================================\n",
      "Recommended Product: crew dal singl\n",
      "Brand: Generic\n",
      "ASIN: B07N79X812\n",
      "Price: 399.0\n",
      "Rating: 5.0\n"
     ]
    },
    {
     "data": {
      "text/html": [
       "<img src=\"https://images-na.ssl-images-amazon.com/images/I/317xWQXkFeL.jpg|https://images-na.ssl-images-amazon.com/images/I/31%2Bth1%2B-SvL.jpg\" width=\"400\" height=\"300\"/>"
      ],
      "text/plain": [
       "<IPython.core.display.Image object>"
      ]
     },
     "metadata": {},
     "output_type": "display_data"
    },
    {
     "name": "stdout",
     "output_type": "stream",
     "text": [
      "==================================================\n",
      "Recommended Product: time half sleev\n",
      "Brand: Generic\n",
      "ASIN: B07MYFC3RD\n",
      "Price: 369.0\n",
      "Rating: 5.0\n"
     ]
    },
    {
     "data": {
      "text/html": [
       "<img src=\"https://images-na.ssl-images-amazon.com/images/I/31CauKCvHSL.jpg|https://images-na.ssl-images-amazon.com/images/I/31UctXCxniL.jpg\" width=\"400\" height=\"300\"/>"
      ],
      "text/plain": [
       "<IPython.core.display.Image object>"
      ]
     },
     "metadata": {},
     "output_type": "display_data"
    },
    {
     "name": "stdout",
     "output_type": "stream",
     "text": [
      "==================================================\n"
     ]
    }
   ],
   "source": [
    "from IPython.display import Image, display\n",
    "import random\n",
    "\n",
    "# Function for brand-based recommendation\n",
    "def recommend_products_by_brand(product_asin=None, num_recommendations=3):\n",
    "    \"\"\"\n",
    "    Recommend products based on the same brand as the selected product.\n",
    "    If a product_asin is not provided, a random product is chosen.\n",
    "    \n",
    "    Parameters:\n",
    "        product_asin (str): ASIN of the input product (optional).\n",
    "        num_recommendations (int): Number of recommendations to return.\n",
    "    \n",
    "    Returns:\n",
    "        None\n",
    "    \"\"\"\n",
    "    # Choose a random product if product_asin is not given\n",
    "    if product_asin is None:\n",
    "        selected_product = df.sample(1).iloc[0]\n",
    "        product_asin = selected_product['asin']\n",
    "    else:\n",
    "        selected_product = df[df['asin'] == product_asin].iloc[0]\n",
    "\n",
    "    # Extract product details\n",
    "    product_name = selected_product['product_name']\n",
    "    product_brand = selected_product['brand']\n",
    "    print(f\"Selected Product: {product_name}\")\n",
    "    print(f\"Brand: {product_brand}\")\n",
    "    print(\"=\"*50)\n",
    "\n",
    "    # Use the brand of the selected product for recommendations\n",
    "    specified_brand = product_brand\n",
    "    print(f\"Selected Brand for Recommendations: {specified_brand}\")\n",
    "    print(\"=\"*50)\n",
    "\n",
    "    # Filter products of the same brand\n",
    "    brand_products = df[(df['brand'] == specified_brand) & (df['asin'] != product_asin)]\n",
    "\n",
    "    # If no recommendations available\n",
    "    if brand_products.empty:\n",
    "        print(f\"No products found for brand: {specified_brand}\")\n",
    "        return\n",
    "\n",
    "    # Sort brand products by rating if available, else by random\n",
    "    if 'rating' in brand_products.columns:\n",
    "        brand_products = brand_products.sort_values(by='rating', ascending=False)\n",
    "    \n",
    "    # Limit the number of recommendations\n",
    "    recommendations = brand_products.head(num_recommendations)\n",
    "\n",
    "    # Display recommendations\n",
    "    for _, row in recommendations.iterrows():\n",
    "        print(f\"Recommended Product: {row['product_name']}\")\n",
    "        print(f\"Brand: {row['brand']}\")\n",
    "        print(f\"ASIN: {row['asin']}\")\n",
    "        print(f\"Price: {row['sales_price'] if 'sales_price' in row else 'N/A'}\")\n",
    "        print(f\"Rating: {row['rating'] if 'rating' in row else 'N/A'}\")\n",
    "        \n",
    "        # Display the medium image (using 'medium' image URL)\n",
    "        medium_image_url = row['medium'] if 'medium' in row else ''\n",
    "        if medium_image_url:\n",
    "            display(Image(url=medium_image_url, width=400, height=300))  # Adjust size as needed\n",
    "        print(\"=\"*50)\n",
    "\n",
    "# Example usage\n",
    "# Specify a product ASIN or leave as None to select a random product\n",
    "recommend_products_by_brand(product_asin=None, num_recommendations=5)\n"
   ]
  },
  {
   "cell_type": "code",
   "execution_count": 9,
   "id": "4fa596b0",
   "metadata": {},
   "outputs": [
    {
     "name": "stdout",
     "output_type": "stream",
     "text": [
      "Epoch 1/10\n",
      "10/10 [==============================] - 52s 3s/step - loss: 1.5534 - accuracy: 0.3533\n",
      "Epoch 2/10\n",
      "10/10 [==============================] - 33s 3s/step - loss: 1.3177 - accuracy: 0.5333\n",
      "Epoch 3/10\n",
      "10/10 [==============================] - 33s 3s/step - loss: 1.0789 - accuracy: 0.6600\n",
      "Epoch 4/10\n",
      "10/10 [==============================] - 34s 3s/step - loss: 0.8352 - accuracy: 0.8467\n",
      "Epoch 5/10\n",
      "10/10 [==============================] - 34s 3s/step - loss: 0.7508 - accuracy: 0.8333\n",
      "Epoch 6/10\n",
      "10/10 [==============================] - 34s 3s/step - loss: 0.5833 - accuracy: 0.8933\n",
      "Epoch 7/10\n",
      "10/10 [==============================] - 33s 3s/step - loss: 0.4647 - accuracy: 0.9000\n",
      "Epoch 8/10\n",
      "10/10 [==============================] - 34s 3s/step - loss: 0.3617 - accuracy: 0.9400\n",
      "Epoch 9/10\n",
      "10/10 [==============================] - 34s 3s/step - loss: 0.2529 - accuracy: 0.9933\n",
      "Epoch 10/10\n",
      "10/10 [==============================] - 34s 3s/step - loss: 0.1497 - accuracy: 0.9933\n",
      "Selected Image URL: https://images-na.ssl-images-amazon.com/images/I/41TO3u-4H9L.jpg|https://images-na.ssl-images-amazon.com/images/I/41n9UI8sUIL.jpg|https://images-na.ssl-images-amazon.com/images/I/41KprsKm-HL.jpg|https://images-na.ssl-images-amazon.com/images/I/41n8t-iMRwL.jpg|https://images-na.ssl-images-amazon.com/images/I/61FQ-C5sJCL.jpg|https://images-na.ssl-images-amazon.com/images/I/41kmr74nw3L.jpg\n"
     ]
    },
    {
     "data": {
      "text/html": [
       "<img src=\"https://images-na.ssl-images-amazon.com/images/I/41TO3u-4H9L.jpg|https://images-na.ssl-images-amazon.com/images/I/41n9UI8sUIL.jpg|https://images-na.ssl-images-amazon.com/images/I/41KprsKm-HL.jpg|https://images-na.ssl-images-amazon.com/images/I/41n8t-iMRwL.jpg|https://images-na.ssl-images-amazon.com/images/I/61FQ-C5sJCL.jpg|https://images-na.ssl-images-amazon.com/images/I/41kmr74nw3L.jpg\"/>"
      ],
      "text/plain": [
       "<IPython.core.display.Image object>"
      ]
     },
     "metadata": {},
     "output_type": "display_data"
    },
    {
     "name": "stdout",
     "output_type": "stream",
     "text": [
      "Top 5 Similar Products:\n",
      "Product Name: Sojanya (Since 1958) Men's Bronze Jacquard Silk Kurta & Churidaar Pyjama\n",
      "Brand: nan\n",
      "Price: 1597.0\n",
      "Similarity: 0.5134989619255066\n"
     ]
    },
    {
     "data": {
      "text/html": [
       "<img src=\"https://images-na.ssl-images-amazon.com/images/I/41TO3u-4H9L.jpg|https://images-na.ssl-images-amazon.com/images/I/41n9UI8sUIL.jpg|https://images-na.ssl-images-amazon.com/images/I/41KprsKm-HL.jpg|https://images-na.ssl-images-amazon.com/images/I/41n8t-iMRwL.jpg|https://images-na.ssl-images-amazon.com/images/I/61FQ-C5sJCL.jpg|https://images-na.ssl-images-amazon.com/images/I/41kmr74nw3L.jpg\"/>"
      ],
      "text/plain": [
       "<IPython.core.display.Image object>"
      ]
     },
     "metadata": {},
     "output_type": "display_data"
    },
    {
     "name": "stdout",
     "output_type": "stream",
     "text": [
      "\n",
      "\n",
      "Product Name: Royal Mens Silk Blend Kurta Churidar with Neck and Sleeve Piping Details\n",
      "Brand: nan\n",
      "Price: 995.0\n",
      "Similarity: 0.3315109610557556\n"
     ]
    },
    {
     "data": {
      "text/html": [
       "<img src=\"https://images-na.ssl-images-amazon.com/images/I/413bJF-qSrL.jpg|https://images-na.ssl-images-amazon.com/images/I/41Ai8nSQELL.jpg|https://images-na.ssl-images-amazon.com/images/I/41MXBQGDT5L.jpg|https://images-na.ssl-images-amazon.com/images/I/41uvx8SIeML.jpg|https://images-na.ssl-images-amazon.com/images/I/41iRp6cERsL.jpg|https://images-na.ssl-images-amazon.com/images/I/51ZNC7SAauL.jpg\"/>"
      ],
      "text/plain": [
       "<IPython.core.display.Image object>"
      ]
     },
     "metadata": {},
     "output_type": "display_data"
    },
    {
     "name": "stdout",
     "output_type": "stream",
     "text": [
      "\n",
      "\n",
      "Product Name: Max Women's Straight Kurta\n",
      "Brand: Max\n",
      "Price: 599.0\n",
      "Similarity: 0.31918349862098694\n"
     ]
    },
    {
     "data": {
      "text/html": [
       "<img src=\"https://images-na.ssl-images-amazon.com/images/I/31dUYmTehBL.jpg|https://images-na.ssl-images-amazon.com/images/I/31pbuAlCTzL.jpg|https://images-na.ssl-images-amazon.com/images/I/314JiIePOxL.jpg|https://images-na.ssl-images-amazon.com/images/I/41wsgK6KGgL.jpg|https://images-na.ssl-images-amazon.com/images/I/319mwsLJHyL.jpg\"/>"
      ],
      "text/plain": [
       "<IPython.core.display.Image object>"
      ]
     },
     "metadata": {},
     "output_type": "display_data"
    },
    {
     "name": "stdout",
     "output_type": "stream",
     "text": [
      "\n",
      "\n",
      "Product Name: Rangmanch By Pantaloons Women's Silk Straight Kurta\n",
      "Brand: nan\n",
      "Price: 732.0\n",
      "Similarity: 0.3128698170185089\n"
     ]
    },
    {
     "data": {
      "text/html": [
       "<img src=\"https://images-na.ssl-images-amazon.com/images/I/41dDQAfnq3L.jpg|https://images-na.ssl-images-amazon.com/images/I/41RNacjePOL.jpg|https://images-na.ssl-images-amazon.com/images/I/41oCMB-YFoL.jpg|https://images-na.ssl-images-amazon.com/images/I/51tWoihjEvL.jpg\"/>"
      ],
      "text/plain": [
       "<IPython.core.display.Image object>"
      ]
     },
     "metadata": {},
     "output_type": "display_data"
    },
    {
     "name": "stdout",
     "output_type": "stream",
     "text": [
      "\n",
      "\n",
      "Product Name: YAYAVAR kids festive and party wear Sherwani for boys (Golden)\n",
      "Brand: YAYAVAR\n",
      "Price: 449.0\n",
      "Similarity: 0.3035074472427368\n"
     ]
    },
    {
     "data": {
      "text/html": [
       "<img src=\"https://images-na.ssl-images-amazon.com/images/I/41VB7YxscNL.jpg|https://images-na.ssl-images-amazon.com/images/I/31A7Of6xdcL.jpg|https://images-na.ssl-images-amazon.com/images/I/41lfZrcVkaL.jpg|https://images-na.ssl-images-amazon.com/images/I/51%2BPv8wDrxL.jpg|https://images-na.ssl-images-amazon.com/images/I/410wXiqNS0L.jpg\"/>"
      ],
      "text/plain": [
       "<IPython.core.display.Image object>"
      ]
     },
     "metadata": {},
     "output_type": "display_data"
    },
    {
     "name": "stdout",
     "output_type": "stream",
     "text": [
      "\n",
      "\n"
     ]
    }
   ],
   "source": [
    "import numpy as np\n",
    "import pandas as pd\n",
    "import tensorflow as tf\n",
    "from tensorflow.keras.models import Sequential\n",
    "from tensorflow.keras.layers import Dense, Dropout, GlobalAveragePooling2D\n",
    "from tensorflow.keras.optimizers import Adam\n",
    "from tensorflow.keras.applications.efficientnet import EfficientNetB0, preprocess_input\n",
    "from tensorflow.keras.utils import to_categorical\n",
    "from sklearn.metrics.pairwise import cosine_similarity\n",
    "from sklearn.cluster import KMeans\n",
    "from tensorflow.keras.preprocessing.image import ImageDataGenerator\n",
    "from tensorflow.keras.preprocessing.image import img_to_array\n",
    "from io import BytesIO\n",
    "from PIL import Image as PILImage\n",
    "import requests\n",
    "from IPython.display import display, Image as IPImage\n",
    "\n",
    "# Load a pre-trained EfficientNetB0 model\n",
    "base_model = EfficientNetB0(weights='imagenet', include_top=False, input_shape=(224, 224, 3))\n",
    "\n",
    "# Create a Sequential model with custom layers\n",
    "custom_model = Sequential([\n",
    "    base_model,\n",
    "    GlobalAveragePooling2D(),   # Use GAP for compact features\n",
    "    Dense(512, activation='relu'),\n",
    "    Dropout(0.3),\n",
    "    Dense(256, activation='relu'),\n",
    "    Dense(5, activation='softmax')  # Output layer with 5 clusters\n",
    "])\n",
    "\n",
    "# Unfreeze the deeper layers of the EfficientNetB0 for fine-tuning\n",
    "base_model.trainable = True\n",
    "custom_model.compile(optimizer=Adam(learning_rate=0.0001), loss='categorical_crossentropy', metrics=['accuracy'])\n",
    "\n",
    "# Data augmentation for training\n",
    "datagen = ImageDataGenerator(rotation_range=40, width_shift_range=0.2, height_shift_range=0.2,\n",
    "                             shear_range=0.2, zoom_range=0.2, horizontal_flip=True, fill_mode='nearest')\n",
    "\n",
    "# Function to preprocess an image\n",
    "def preprocess_image(image_url):\n",
    "    \"\"\"Load and preprocess an image for training.\"\"\"\n",
    "    try:\n",
    "        response = requests.get(image_url)\n",
    "        response.raise_for_status()  # Check for HTTP errors\n",
    "        img = PILImage.open(BytesIO(response.content)).convert(\"RGB\").resize((224, 224))\n",
    "        img_array = img_to_array(img)\n",
    "        img_array = preprocess_input(img_array)  # Preprocess for EfficientNetB0\n",
    "        return img_array\n",
    "    except Exception as e:\n",
    "        print(f\"Error processing image {image_url}: {e}\")\n",
    "        return None\n",
    "\n",
    "# Function to extract features from a single image\n",
    "def extract_features(image_url):\n",
    "    \"\"\"Extract features from an image using the custom model.\"\"\"\n",
    "    try:\n",
    "        img_array = preprocess_image(image_url)\n",
    "        if img_array is None:\n",
    "            return None\n",
    "        img_array = np.expand_dims(img_array, axis=0)  # Add batch dimension\n",
    "        features = base_model.predict(img_array, verbose=0)\n",
    "        return features.flatten()\n",
    "    except Exception as e:\n",
    "        print(f\"Error extracting features for {image_url}: {e}\")\n",
    "        return None\n",
    "\n",
    "# Select a subset of the dataset\n",
    "df_subset = df.sample(150, replace=False)  # Adjusted for demonstration\n",
    "\n",
    "# Preprocess images and extract features\n",
    "features_list = []\n",
    "for _, row in df_subset.iterrows():\n",
    "    features = extract_features(row['medium'])\n",
    "    if features is not None:\n",
    "        features_list.append(features)\n",
    "\n",
    "# Convert feature list to NumPy array\n",
    "features_array = np.array(features_list)\n",
    "\n",
    "# Cluster images using KMeans for synthetic labels\n",
    "num_clusters = 5\n",
    "kmeans = KMeans(n_clusters=num_clusters, random_state=42).fit(features_array)\n",
    "synthetic_labels = to_categorical(kmeans.labels_, num_classes=num_clusters)\n",
    "\n",
    "# Prepare image data for training\n",
    "synthetic_images = []\n",
    "for _, row in df_subset.iterrows():\n",
    "    img_array = preprocess_image(row['medium'])\n",
    "    if img_array is not None:\n",
    "        synthetic_images.append(img_array)\n",
    "\n",
    "synthetic_images = np.array(synthetic_images)\n",
    "\n",
    "# Train the custom model\n",
    "custom_model.fit(synthetic_images, synthetic_labels, epochs=10, batch_size=16, verbose=1)\n",
    "\n",
    "# Select a product for similarity\n",
    "selected_image_url = df_subset.iloc[0]['medium']\n",
    "print(f\"Selected Image URL: {selected_image_url}\")\n",
    "\n",
    "# Display the selected image\n",
    "display(IPImage(url=selected_image_url))\n",
    "\n",
    "# Extract features for the selected image\n",
    "selected_image_features = extract_features(selected_image_url)\n",
    "\n",
    "# Normalize features and calculate similarity\n",
    "if selected_image_features is not None:\n",
    "    features_array = features_array / np.linalg.norm(features_array, axis=1, keepdims=True)\n",
    "    selected_image_features = selected_image_features / np.linalg.norm(selected_image_features)\n",
    "\n",
    "    # Calculate cosine similarity\n",
    "    similarities = cosine_similarity([selected_image_features], features_array)\n",
    "\n",
    "    # Add similarity scores to the DataFrame\n",
    "    df_subset['similarity'] = similarities.flatten()\n",
    "\n",
    "    # Sort by similarity and display the top 5 similar products\n",
    "    top_similar_products = df_subset.sort_values(by='similarity', ascending=False).head(5)\n",
    "    print(\"Top 5 Similar Products:\")\n",
    "    for _, row in top_similar_products.iterrows():\n",
    "        print(f\"Product Name: {row['product_name']}\")\n",
    "        print(f\"Brand: {row['brand']}\")\n",
    "        print(f\"Price: {row['sales_price']}\")\n",
    "        print(f\"Similarity: {row['similarity']}\")\n",
    "        display(IPImage(url=row['medium']))\n",
    "        print(\"\\n\")\n",
    "else:\n",
    "    print(\"Failed to extract features for the selected image.\")\n"
   ]
  },
  {
   "cell_type": "code",
   "execution_count": 48,
   "id": "02fb0323",
   "metadata": {},
   "outputs": [
    {
     "name": "stdout",
     "output_type": "stream",
     "text": [
      "Selected Product ID: B07NC3PZVB\n",
      "Product Name: Venisa Women's Regular fit Shirt (S002- Carbon Black_XL)\n",
      "Brand: Venisa\n",
      "\n",
      "Selected Product Image:\n"
     ]
    },
    {
     "data": {
      "text/html": [
       "<img src=\"https://images-na.ssl-images-amazon.com/images/I/41b3zUaArIL.jpg|https://images-na.ssl-images-amazon.com/images/I/31nd7ycPJhL.jpg|https://images-na.ssl-images-amazon.com/images/I/31%2BVhxUTcCL.jpg|https://images-na.ssl-images-amazon.com/images/I/31859UymcGL.jpg|https://images-na.ssl-images-amazon.com/images/I/31RVOpQS5uL.jpg\"/>"
      ],
      "text/plain": [
       "<IPython.core.display.Image object>"
      ]
     },
     "metadata": {},
     "output_type": "display_data"
    },
    {
     "name": "stdout",
     "output_type": "stream",
     "text": [
      "\n",
      "Matching Products with the Same Brand:\n",
      "Product ID: B07TSS3NWT | Product Name: Venisa Women's Heavy Rayon 14kg Fancy Gown | Brand: Venisa\n"
     ]
    },
    {
     "data": {
      "text/html": [
       "<img src=\"https://images-na.ssl-images-amazon.com/images/I/41k8J170tiL.jpg|https://images-na.ssl-images-amazon.com/images/I/312WhP8-EBL.jpg|https://images-na.ssl-images-amazon.com/images/I/315lDXEsubL.jpg|https://images-na.ssl-images-amazon.com/images/I/31waAJDcYiL.jpg|https://images-na.ssl-images-amazon.com/images/I/41LkgAIa7nL.jpg\"/>"
      ],
      "text/plain": [
       "<IPython.core.display.Image object>"
      ]
     },
     "metadata": {},
     "output_type": "display_data"
    },
    {
     "name": "stdout",
     "output_type": "stream",
     "text": [
      "Product ID: B07NWQVW9H | Product Name: Venisa Women's Linen Cotton Saree with Blouse Piece | Brand: Venisa\n"
     ]
    },
    {
     "data": {
      "text/html": [
       "<img src=\"https://images-na.ssl-images-amazon.com/images/I/41fe8ijBQ0L.jpg|https://images-na.ssl-images-amazon.com/images/I/41B1ZQYoyCL.jpg|https://images-na.ssl-images-amazon.com/images/I/414xB7Zv87L.jpg\"/>"
      ],
      "text/plain": [
       "<IPython.core.display.Image object>"
      ]
     },
     "metadata": {},
     "output_type": "display_data"
    },
    {
     "name": "stdout",
     "output_type": "stream",
     "text": [
      "Product ID: B07VYTK1PB | Product Name: Venisa Women's Sana Silk Cotton Saree with Blouse Piece | Brand: Venisa\n"
     ]
    },
    {
     "data": {
      "text/html": [
       "<img src=\"https://images-na.ssl-images-amazon.com/images/I/41I45pV-RuL.jpg|https://images-na.ssl-images-amazon.com/images/I/41UPTX2ZVaL.jpg|https://images-na.ssl-images-amazon.com/images/I/41r%2BTgkY91L.jpg\"/>"
      ],
      "text/plain": [
       "<IPython.core.display.Image object>"
      ]
     },
     "metadata": {},
     "output_type": "display_data"
    },
    {
     "name": "stdout",
     "output_type": "stream",
     "text": [
      "Product ID: B07N8ZMZNP | Product Name: Venisa Women's Cotton Linen Saree with Blouse Piece-CT | Brand: Venisa\n"
     ]
    },
    {
     "data": {
      "text/html": [
       "<img src=\"https://images-na.ssl-images-amazon.com/images/I/41nn93PkVUL.jpg|https://images-na.ssl-images-amazon.com/images/I/4151ib6Py7L.jpg|https://images-na.ssl-images-amazon.com/images/I/41OMi93wxcL.jpg|https://images-na.ssl-images-amazon.com/images/I/41LwJvgBLkL.jpg\"/>"
      ],
      "text/plain": [
       "<IPython.core.display.Image object>"
      ]
     },
     "metadata": {},
     "output_type": "display_data"
    },
    {
     "name": "stdout",
     "output_type": "stream",
     "text": [
      "Product ID: B07PGTC8Q5 | Product Name: Venisa Women's Sana Silk Saree with Blouse Piece-CT | Brand: Venisa\n"
     ]
    },
    {
     "data": {
      "text/html": [
       "<img src=\"https://images-na.ssl-images-amazon.com/images/I/41corWRLXZL.jpg|https://images-na.ssl-images-amazon.com/images/I/41dSpLHR7-L.jpg|https://images-na.ssl-images-amazon.com/images/I/41MqkDJ37cL.jpg\"/>"
      ],
      "text/plain": [
       "<IPython.core.display.Image object>"
      ]
     },
     "metadata": {},
     "output_type": "display_data"
    },
    {
     "name": "stdout",
     "output_type": "stream",
     "text": [
      "Product ID: B07NWLRXYV | Product Name: Venisa Women's Denim Straight Fit Kurti | Brand: Venisa\n"
     ]
    },
    {
     "data": {
      "text/html": [
       "<img src=\"https://images-na.ssl-images-amazon.com/images/I/31KXKWhnZZL.jpg|https://images-na.ssl-images-amazon.com/images/I/31QMvH1IASL.jpg|https://images-na.ssl-images-amazon.com/images/I/31XdpTWsE7L.jpg|https://images-na.ssl-images-amazon.com/images/I/31xoyWcX7tL.jpg|https://images-na.ssl-images-amazon.com/images/I/31uRKrpt4WL.jpg\"/>"
      ],
      "text/plain": [
       "<IPython.core.display.Image object>"
      ]
     },
     "metadata": {},
     "output_type": "display_data"
    },
    {
     "name": "stdout",
     "output_type": "stream",
     "text": [
      "Product ID: B083KFSTKG | Product Name: Venisa Rayon Top for Woman | Brand: Venisa\n"
     ]
    },
    {
     "data": {
      "text/html": [
       "<img src=\"https://images-na.ssl-images-amazon.com/images/I/41tKNVGmEfL.jpg|https://images-na.ssl-images-amazon.com/images/I/41R1wefH4WL.jpg|https://images-na.ssl-images-amazon.com/images/I/31VwHKh1WoL.jpg|https://images-na.ssl-images-amazon.com/images/I/31Fo2WFxZ%2BL.jpg|https://images-na.ssl-images-amazon.com/images/I/316lJlJZy3L.jpg|https://images-na.ssl-images-amazon.com/images/I/31I8wlooSAL.jpg\"/>"
      ],
      "text/plain": [
       "<IPython.core.display.Image object>"
      ]
     },
     "metadata": {},
     "output_type": "display_data"
    },
    {
     "name": "stdout",
     "output_type": "stream",
     "text": [
      "Product ID: B07N8T4WJD | Product Name: Venisa Women's Linen Cotton Saree with Blouse Piece-CT | Brand: Venisa\n"
     ]
    },
    {
     "data": {
      "text/html": [
       "<img src=\"https://images-na.ssl-images-amazon.com/images/I/415KSwgKFZL.jpg|https://images-na.ssl-images-amazon.com/images/I/41BISEF2H7L.jpg|https://images-na.ssl-images-amazon.com/images/I/41mYbagqBVL.jpg|https://images-na.ssl-images-amazon.com/images/I/41Zy6nod5AL.jpg\"/>"
      ],
      "text/plain": [
       "<IPython.core.display.Image object>"
      ]
     },
     "metadata": {},
     "output_type": "display_data"
    },
    {
     "name": "stdout",
     "output_type": "stream",
     "text": [
      "Product ID: B084B9S5MZ | Product Name: Venisa Women's Shirt | Brand: Venisa\n"
     ]
    },
    {
     "data": {
      "text/html": [
       "<img src=\"https://images-na.ssl-images-amazon.com/images/I/41C5jVutoxL.jpg|https://images-na.ssl-images-amazon.com/images/I/4171KKSKjTL.jpg|https://images-na.ssl-images-amazon.com/images/I/31SBUEML4IL.jpg|https://images-na.ssl-images-amazon.com/images/I/313Q55KFhqL.jpg|https://images-na.ssl-images-amazon.com/images/I/31G3x4ObiYL.jpg|https://images-na.ssl-images-amazon.com/images/I/31tIlOZ0H3L.jpg|https://images-na.ssl-images-amazon.com/images/I/41bFTt-sMQL.jpg\"/>"
      ],
      "text/plain": [
       "<IPython.core.display.Image object>"
      ]
     },
     "metadata": {},
     "output_type": "display_data"
    },
    {
     "name": "stdout",
     "output_type": "stream",
     "text": [
      "Product ID: B07VV9FZ6D | Product Name: Venisa New Launch Casual Wear Linen Cotton Saree For Woman | Brand: Venisa\n"
     ]
    },
    {
     "data": {
      "text/html": [
       "<img src=\"https://images-na.ssl-images-amazon.com/images/I/41IFLEuw6UL.jpg|https://images-na.ssl-images-amazon.com/images/I/41MJDxGvoVL.jpg|https://images-na.ssl-images-amazon.com/images/I/41R%2B5jaCrcL.jpg\"/>"
      ],
      "text/plain": [
       "<IPython.core.display.Image object>"
      ]
     },
     "metadata": {},
     "output_type": "display_data"
    },
    {
     "name": "stdout",
     "output_type": "stream",
     "text": [
      "Product ID: B07NJFZKL8 | Product Name: Venisa Women's Linen Cotton Saree with Blouse Piece | Brand: Venisa\n"
     ]
    },
    {
     "data": {
      "text/html": [
       "<img src=\"https://images-na.ssl-images-amazon.com/images/I/41Brfd5CECL.jpg|https://images-na.ssl-images-amazon.com/images/I/41tpksOtyuL.jpg\"/>"
      ],
      "text/plain": [
       "<IPython.core.display.Image object>"
      ]
     },
     "metadata": {},
     "output_type": "display_data"
    },
    {
     "name": "stdout",
     "output_type": "stream",
     "text": [
      "Product ID: B07NC5CQR5 | Product Name: Venisa Women's Linen Cotton Saree with Blouse Piece-CT | Brand: Venisa\n"
     ]
    },
    {
     "data": {
      "text/html": [
       "<img src=\"https://images-na.ssl-images-amazon.com/images/I/41jYinQhmSL.jpg|https://images-na.ssl-images-amazon.com/images/I/4102LvZDCxL.jpg|https://images-na.ssl-images-amazon.com/images/I/412s53B3ArL.jpg\"/>"
      ],
      "text/plain": [
       "<IPython.core.display.Image object>"
      ]
     },
     "metadata": {},
     "output_type": "display_data"
    },
    {
     "name": "stdout",
     "output_type": "stream",
     "text": [
      "Product ID: B07NY8GQH2 | Product Name: Venisa Women's Linen Cotton Saree with Blouse Piece-CT | Brand: Venisa\n"
     ]
    },
    {
     "data": {
      "text/html": [
       "<img src=\"https://images-na.ssl-images-amazon.com/images/I/41zP33kGc5L.jpg|https://images-na.ssl-images-amazon.com/images/I/41Ikwj7KP9L.jpg|https://images-na.ssl-images-amazon.com/images/I/41xBt-mlbDL.jpg|https://images-na.ssl-images-amazon.com/images/I/41WSw9cGs5L.jpg\"/>"
      ],
      "text/plain": [
       "<IPython.core.display.Image object>"
      ]
     },
     "metadata": {},
     "output_type": "display_data"
    },
    {
     "name": "stdout",
     "output_type": "stream",
     "text": [
      "Product ID: B07N6BSHJB | Product Name: Venisa Women's Cotton Soft Silk Saree with Blouse Piece-CTN | Brand: Venisa\n"
     ]
    },
    {
     "data": {
      "text/html": [
       "<img src=\"https://images-na.ssl-images-amazon.com/images/I/41hvIkWcZvL.jpg|https://images-na.ssl-images-amazon.com/images/I/41sXjBZ6z0L.jpg\"/>"
      ],
      "text/plain": [
       "<IPython.core.display.Image object>"
      ]
     },
     "metadata": {},
     "output_type": "display_data"
    },
    {
     "name": "stdout",
     "output_type": "stream",
     "text": [
      "Product ID: B07WCG6LVK | Product Name: Venisa Women's Regular fit Top | Brand: Venisa\n"
     ]
    },
    {
     "data": {
      "text/html": [
       "<img src=\"https://images-na.ssl-images-amazon.com/images/I/41rIibR8rML.jpg|https://images-na.ssl-images-amazon.com/images/I/31zboSAHmvL.jpg|https://images-na.ssl-images-amazon.com/images/I/312-PDI3u4L.jpg|https://images-na.ssl-images-amazon.com/images/I/31qrKAnq6cL.jpg|https://images-na.ssl-images-amazon.com/images/I/31q96Ag-C9L.jpg|https://images-na.ssl-images-amazon.com/images/I/31dsZWmGPPL.jpg\"/>"
      ],
      "text/plain": [
       "<IPython.core.display.Image object>"
      ]
     },
     "metadata": {},
     "output_type": "display_data"
    },
    {
     "name": "stdout",
     "output_type": "stream",
     "text": [
      "Product ID: B07P6ZKNCM | Product Name: Venisa Women's Linen Cotton Saree with Blouse Piece-CT | Brand: Venisa\n"
     ]
    },
    {
     "data": {
      "text/html": [
       "<img src=\"https://images-na.ssl-images-amazon.com/images/I/41-Hoeif%2BAL.jpg|https://images-na.ssl-images-amazon.com/images/I/41zX5ksbOEL.jpg|https://images-na.ssl-images-amazon.com/images/I/41M2bxkIxmL.jpg\"/>"
      ],
      "text/plain": [
       "<IPython.core.display.Image object>"
      ]
     },
     "metadata": {},
     "output_type": "display_data"
    },
    {
     "name": "stdout",
     "output_type": "stream",
     "text": [
      "Product ID: B07VVCPZZV | Product Name: Venisa Women's Sana Silk Cotton Saree with Blouse Piece | Brand: Venisa\n"
     ]
    },
    {
     "data": {
      "text/html": [
       "<img src=\"https://images-na.ssl-images-amazon.com/images/I/41qyNcaNybL.jpg|https://images-na.ssl-images-amazon.com/images/I/41upnCo1v6L.jpg|https://images-na.ssl-images-amazon.com/images/I/4187I8Q42UL.jpg|https://images-na.ssl-images-amazon.com/images/I/41n82xkBvjL.jpg\"/>"
      ],
      "text/plain": [
       "<IPython.core.display.Image object>"
      ]
     },
     "metadata": {},
     "output_type": "display_data"
    }
   ],
   "source": [
    "from IPython.display import display, Image, HTML\n",
    "import random\n",
    "\n",
    "def find_matching_products_by_brand_with_images(df):\n",
    "    # Randomly choose a product_id (asin) from the dataset\n",
    "    random_product_id = random.choice(df['asin'].values)\n",
    "    \n",
    "    # Find the selected product's details\n",
    "    selected_product = df[df['asin'] == random_product_id].iloc[0]\n",
    "    selected_name = selected_product['product_name']\n",
    "    selected_brand = selected_product['brand']\n",
    "    selected_image = selected_product['medium']\n",
    "    \n",
    "    # Filter products with the same brand, excluding the selected product\n",
    "    matching_products = df[(df['brand'] == selected_brand) & \n",
    "                           (df['asin'] != random_product_id)]\n",
    "    \n",
    "    # Display the selected product and matching products' ASINs and details\n",
    "    if matching_products.empty:\n",
    "        print(f\"No products found with the same brand as {random_product_id}.\")\n",
    "    else:\n",
    "        print(f\"Selected Product ID: {random_product_id}\")\n",
    "        print(f\"Product Name: {selected_name}\")\n",
    "        print(f\"Brand: {selected_brand}\")\n",
    "        \n",
    "        # Display the image of the selected product\n",
    "        print(\"\\nSelected Product Image:\")\n",
    "        display(Image(url=selected_image))\n",
    "        \n",
    "        print(\"\\nMatching Products with the Same Brand:\")\n",
    "\n",
    "        # Iterate over matching products and display their images\n",
    "        for index, row in matching_products.iterrows():\n",
    "            print(f\"Product ID: {row['asin']} | Product Name: {row['product_name']} | Brand: {row['brand']}\")\n",
    "            # Display the image of the matching product\n",
    "            display(Image(url=row['medium']))\n",
    "\n",
    "# Example usage with a specific product ID (can be replaced with any ID from your list)\n",
    "find_matching_products_by_brand_with_images(df)\n"
   ]
  },
  {
   "cell_type": "code",
   "execution_count": 9,
   "id": "887bb2b8",
   "metadata": {},
   "outputs": [
    {
     "name": "stdout",
     "output_type": "stream",
     "text": [
      "Selected Product ID: B071FW65XB\n",
      "\n",
      "Product Name: Adjustable Pink Adult Praying Hands Embroidered Visor Dad Hat\n",
      "\n",
      "Brand: Go All Out Screenprinting\n",
      "\n",
      "Selected Product Image:\n"
     ]
    },
    {
     "data": {
      "text/html": [
       "<img src=\"https://images-na.ssl-images-amazon.com/images/I/31ZrCh-BsWL.jpg|https://images-na.ssl-images-amazon.com/images/I/31tvL0RQmjL.jpg\"/>"
      ],
      "text/plain": [
       "<IPython.core.display.Image object>"
      ]
     },
     "metadata": {},
     "output_type": "display_data"
    },
    {
     "name": "stdout",
     "output_type": "stream",
     "text": [
      "\n",
      "Matching Products with the Same Brand:\n",
      "\n",
      "Product ID: B0728JPZJL\n",
      "Product Name: Adjustable White Adult Ice Cream Cone Embroidered Visor Dad Hat\n",
      "Brand: Go All Out Screenprinting\n",
      "\n"
     ]
    },
    {
     "data": {
      "text/html": [
       "<img src=\"https://images-na.ssl-images-amazon.com/images/I/31wD%2BQWbHAL.jpg|https://images-na.ssl-images-amazon.com/images/I/31ORAitBqJL.jpg\"/>"
      ],
      "text/plain": [
       "<IPython.core.display.Image object>"
      ]
     },
     "metadata": {},
     "output_type": "display_data"
    },
    {
     "name": "stdout",
     "output_type": "stream",
     "text": [
      "Product ID: B0735KY2X3\n",
      "Product Name: Adjustable Navy Adult California Republic Bear Embroidered Deluxe Dad Hat\n",
      "Brand: Go All Out Screenprinting\n",
      "\n"
     ]
    },
    {
     "data": {
      "text/html": [
       "<img src=\"https://images-na.ssl-images-amazon.com/images/I/418wTNaTuDL.jpg|https://images-na.ssl-images-amazon.com/images/I/41FGQPKAGrL.jpg\"/>"
      ],
      "text/plain": [
       "<IPython.core.display.Image object>"
      ]
     },
     "metadata": {},
     "output_type": "display_data"
    },
    {
     "name": "stdout",
     "output_type": "stream",
     "text": [
      "Product ID: B0733NNFNT\n",
      "Product Name: One Size White Adult Avocado Embroidered Bucket Cap Dad Hat\n",
      "Brand: Go All Out Screenprinting\n",
      "\n"
     ]
    },
    {
     "data": {
      "text/html": [
       "<img src=\"https://images-na.ssl-images-amazon.com/images/I/310i3x7WzHL.jpg\"/>"
      ],
      "text/plain": [
       "<IPython.core.display.Image object>"
      ]
     },
     "metadata": {},
     "output_type": "display_data"
    },
    {
     "name": "stdout",
     "output_type": "stream",
     "text": [
      "Product ID: B071JCY8Z9\n",
      "Product Name: One Size Black Adult Best Dad Ever Embroidered Bucket Cap Dad Hat\n",
      "Brand: Go All Out Screenprinting\n",
      "\n"
     ]
    },
    {
     "data": {
      "text/html": [
       "<img src=\"https://images-na.ssl-images-amazon.com/images/I/31swlhq1XtL.jpg\"/>"
      ],
      "text/plain": [
       "<IPython.core.display.Image object>"
      ]
     },
     "metadata": {},
     "output_type": "display_data"
    },
    {
     "name": "stdout",
     "output_type": "stream",
     "text": [
      "Product ID: B06XHT18RQ\n",
      "Product Name: Adjustable Royal Blue Adult Bigfoot Sasquatch Embroidered Deluxe Dad Hat\n",
      "Brand: Go All Out Screenprinting\n",
      "\n"
     ]
    },
    {
     "data": {
      "text/html": [
       "<img src=\"https://images-na.ssl-images-amazon.com/images/I/41ZM678cz5L.jpg|https://images-na.ssl-images-amazon.com/images/I/41-iJUzLf1L.jpg\"/>"
      ],
      "text/plain": [
       "<IPython.core.display.Image object>"
      ]
     },
     "metadata": {},
     "output_type": "display_data"
    },
    {
     "name": "stdout",
     "output_type": "stream",
     "text": [
      "Product ID: B072JZ6QTV\n",
      "Product Name: One Size White Adult Hawaiian Flower Hibiscus Embroidered Bucket Cap Dad Hat\n",
      "Brand: Go All Out Screenprinting\n",
      "\n"
     ]
    },
    {
     "data": {
      "text/html": [
       "<img src=\"https://images-na.ssl-images-amazon.com/images/I/31GZSmnJRvL.jpg\"/>"
      ],
      "text/plain": [
       "<IPython.core.display.Image object>"
      ]
     },
     "metadata": {},
     "output_type": "display_data"
    },
    {
     "name": "stdout",
     "output_type": "stream",
     "text": [
      "Product ID: B0736J763R\n",
      "Product Name: Adjustable Black Adult Thinking Cap Embroidered Dad Hat Structured Cap\n",
      "Brand: Go All Out Screenprinting\n",
      "\n"
     ]
    },
    {
     "data": {
      "text/html": [
       "<img src=\"https://images-na.ssl-images-amazon.com/images/I/41aXzNFku4L.jpg|https://images-na.ssl-images-amazon.com/images/I/41MWhvKxnHL.jpg\"/>"
      ],
      "text/plain": [
       "<IPython.core.display.Image object>"
      ]
     },
     "metadata": {},
     "output_type": "display_data"
    },
    {
     "name": "stdout",
     "output_type": "stream",
     "text": [
      "Product ID: B071ZV85FP\n",
      "Product Name: One Size White Adult Praying Hands Embroidered Bucket Cap Dad Hat\n",
      "Brand: Go All Out Screenprinting\n",
      "\n"
     ]
    },
    {
     "data": {
      "text/html": [
       "<img src=\"https://images-na.ssl-images-amazon.com/images/I/31X51oCcrzL.jpg\"/>"
      ],
      "text/plain": [
       "<IPython.core.display.Image object>"
      ]
     },
     "metadata": {},
     "output_type": "display_data"
    },
    {
     "name": "stdout",
     "output_type": "stream",
     "text": [
      "Product ID: B072C87NPQ\n",
      "Product Name: Adjustable Navy Adult NASA Insignia Logo Embroidered Visor Dad Hat\n",
      "Brand: Go All Out Screenprinting\n",
      "\n"
     ]
    },
    {
     "data": {
      "text/html": [
       "<img src=\"https://images-na.ssl-images-amazon.com/images/I/41sDZE9QyHL.jpg|https://images-na.ssl-images-amazon.com/images/I/41ZXIsGSLtL.jpg\"/>"
      ],
      "text/plain": [
       "<IPython.core.display.Image object>"
      ]
     },
     "metadata": {},
     "output_type": "display_data"
    },
    {
     "name": "stdout",
     "output_type": "stream",
     "text": [
      "Product ID: B073HB7MCR\n",
      "Product Name: One Size Red Adult Papi Embroidered Bucket Cap Dad Hat\n",
      "Brand: Go All Out Screenprinting\n",
      "\n"
     ]
    },
    {
     "data": {
      "text/html": [
       "<img src=\"https://images-na.ssl-images-amazon.com/images/I/41LjIBEoXTL.jpg\"/>"
      ],
      "text/plain": [
       "<IPython.core.display.Image object>"
      ]
     },
     "metadata": {},
     "output_type": "display_data"
    },
    {
     "name": "stdout",
     "output_type": "stream",
     "text": [
      "Product ID: B0735J8FTR\n",
      "Product Name: Adjustable Khaki Adult California Republic Bear Embroidered Visor Dad Hat\n",
      "Brand: Go All Out Screenprinting\n",
      "\n"
     ]
    },
    {
     "data": {
      "text/html": [
       "<img src=\"https://images-na.ssl-images-amazon.com/images/I/31M9JmVi05L.jpg|https://images-na.ssl-images-amazon.com/images/I/41S-cdKDyRL.jpg\"/>"
      ],
      "text/plain": [
       "<IPython.core.display.Image object>"
      ]
     },
     "metadata": {},
     "output_type": "display_data"
    },
    {
     "name": "stdout",
     "output_type": "stream",
     "text": [
      "Product ID: B01MSESFA0\n",
      "Product Name: Adjustable Black Adult Fuck Trump Embroidered Deluxe Dad Hat\n",
      "Brand: Go All Out Screenprinting\n",
      "\n"
     ]
    },
    {
     "data": {
      "text/html": [
       "<img src=\"https://images-na.ssl-images-amazon.com/images/I/415XtonMcNL.jpg|https://images-na.ssl-images-amazon.com/images/I/41FmayaVSZL.jpg\"/>"
      ],
      "text/plain": [
       "<IPython.core.display.Image object>"
      ]
     },
     "metadata": {},
     "output_type": "display_data"
    },
    {
     "name": "stdout",
     "output_type": "stream",
     "text": [
      "Product ID: B0728NF6GQ\n",
      "Product Name: Adjustable White Adult NASA Insignia Logo Embroidered Visor Dad Hat\n",
      "Brand: Go All Out Screenprinting\n",
      "\n"
     ]
    },
    {
     "data": {
      "text/html": [
       "<img src=\"https://images-na.ssl-images-amazon.com/images/I/31%2B-4U6jM6L.jpg|https://images-na.ssl-images-amazon.com/images/I/31ORAitBqJL.jpg\"/>"
      ],
      "text/plain": [
       "<IPython.core.display.Image object>"
      ]
     },
     "metadata": {},
     "output_type": "display_data"
    },
    {
     "name": "stdout",
     "output_type": "stream",
     "text": [
      "Product ID: B073DC56CJ\n",
      "Product Name: Adjustable Navy Adult Canada Maple Leaf Embroidered Deluxe Dad Hat\n",
      "Brand: Go All Out Screenprinting\n",
      "\n"
     ]
    },
    {
     "data": {
      "text/html": [
       "<img src=\"https://images-na.ssl-images-amazon.com/images/I/41pDWXbqBPL.jpg|https://images-na.ssl-images-amazon.com/images/I/41FGQPKAGrL.jpg\"/>"
      ],
      "text/plain": [
       "<IPython.core.display.Image object>"
      ]
     },
     "metadata": {},
     "output_type": "display_data"
    },
    {
     "name": "stdout",
     "output_type": "stream",
     "text": [
      "Product ID: B073HHQ5F1\n",
      "Product Name: One Size Red Adult Captain With Anchor Embroidered Bucket Cap Dad Hat\n",
      "Brand: Go All Out Screenprinting\n",
      "\n"
     ]
    },
    {
     "data": {
      "text/html": [
       "<img src=\"https://images-na.ssl-images-amazon.com/images/I/41EOzYHjPfL.jpg\"/>"
      ],
      "text/plain": [
       "<IPython.core.display.Image object>"
      ]
     },
     "metadata": {},
     "output_type": "display_data"
    },
    {
     "name": "stdout",
     "output_type": "stream",
     "text": [
      "Product ID: B0733Q38R3\n",
      "Product Name: One Size Navy Adult Avocado Embroidered Bucket Cap Dad Hat\n",
      "Brand: Go All Out Screenprinting\n",
      "\n"
     ]
    },
    {
     "data": {
      "text/html": [
       "<img src=\"https://images-na.ssl-images-amazon.com/images/I/31tnXzAs9ML.jpg\"/>"
      ],
      "text/plain": [
       "<IPython.core.display.Image object>"
      ]
     },
     "metadata": {},
     "output_type": "display_data"
    },
    {
     "name": "stdout",
     "output_type": "stream",
     "text": [
      "Product ID: B071WF6G2Y\n",
      "Product Name: Adjustable Black Adult Praying Hands Embroidered Visor Dad Hat\n",
      "Brand: Go All Out Screenprinting\n",
      "\n"
     ]
    },
    {
     "data": {
      "text/html": [
       "<img src=\"https://images-na.ssl-images-amazon.com/images/I/31YlK4ExM%2BL.jpg|https://images-na.ssl-images-amazon.com/images/I/31HNMozklOL.jpg\"/>"
      ],
      "text/plain": [
       "<IPython.core.display.Image object>"
      ]
     },
     "metadata": {},
     "output_type": "display_data"
    },
    {
     "name": "stdout",
     "output_type": "stream",
     "text": [
      "Product ID: B01MTA5IFC\n",
      "Product Name: Adjustable Yellow Adult Finesse Embroidered Dad Hat\n",
      "Brand: Go All Out Screenprinting\n",
      "\n"
     ]
    },
    {
     "data": {
      "text/html": [
       "<img src=\"https://images-na.ssl-images-amazon.com/images/I/411S33ZfYCL.jpg|https://images-na.ssl-images-amazon.com/images/I/41pSF9Wf-lL.jpg\"/>"
      ],
      "text/plain": [
       "<IPython.core.display.Image object>"
      ]
     },
     "metadata": {},
     "output_type": "display_data"
    },
    {
     "name": "stdout",
     "output_type": "stream",
     "text": [
      "Product ID: B072FQ9SVF\n",
      "Product Name: Adjustable Gold Adult Sea Turtle Embroidered Visor Dad Hat\n",
      "Brand: Go All Out Screenprinting\n",
      "\n"
     ]
    },
    {
     "data": {
      "text/html": [
       "<img src=\"https://images-na.ssl-images-amazon.com/images/I/31i7MWyNx-L.jpg|https://images-na.ssl-images-amazon.com/images/I/31ywue8y2SL.jpg\"/>"
      ],
      "text/plain": [
       "<IPython.core.display.Image object>"
      ]
     },
     "metadata": {},
     "output_type": "display_data"
    },
    {
     "name": "stdout",
     "output_type": "stream",
     "text": [
      "Product ID: B071PDL9Q3\n",
      "Product Name: Adjustable Black Adult Best Dad Ever Embroidered Visor Dad Hat\n",
      "Brand: Go All Out Screenprinting\n",
      "\n"
     ]
    },
    {
     "data": {
      "text/html": [
       "<img src=\"https://images-na.ssl-images-amazon.com/images/I/31Yv%2B47OMcL.jpg|https://images-na.ssl-images-amazon.com/images/I/31HNMozklOL.jpg\"/>"
      ],
      "text/plain": [
       "<IPython.core.display.Image object>"
      ]
     },
     "metadata": {},
     "output_type": "display_data"
    },
    {
     "name": "stdout",
     "output_type": "stream",
     "text": [
      "Product ID: B071FMG3CM\n",
      "Product Name: Adjustable Navy Adult Best Dad Ever Embroidered Visor Dad Hat\n",
      "Brand: Go All Out Screenprinting\n",
      "\n"
     ]
    },
    {
     "data": {
      "text/html": [
       "<img src=\"https://images-na.ssl-images-amazon.com/images/I/41EhsJ2ehyL.jpg|https://images-na.ssl-images-amazon.com/images/I/41ZXIsGSLtL.jpg\"/>"
      ],
      "text/plain": [
       "<IPython.core.display.Image object>"
      ]
     },
     "metadata": {},
     "output_type": "display_data"
    },
    {
     "name": "stdout",
     "output_type": "stream",
     "text": [
      "Product ID: B073H9S4DS\n",
      "Product Name: Adjustable Royal Adult Papi Embroidered Visor Dad Hat\n",
      "Brand: Go All Out Screenprinting\n",
      "\n"
     ]
    },
    {
     "data": {
      "text/html": [
       "<img src=\"https://images-na.ssl-images-amazon.com/images/I/41ZoWkyrfcL.jpg|https://images-na.ssl-images-amazon.com/images/I/413c0D3C2GL.jpg\"/>"
      ],
      "text/plain": [
       "<IPython.core.display.Image object>"
      ]
     },
     "metadata": {},
     "output_type": "display_data"
    },
    {
     "name": "stdout",
     "output_type": "stream",
     "text": [
      "Product ID: B0732MHNV9\n",
      "Product Name: One Size Pink/Dark Pink Adult Bigfoot Sasquatch Embroidered Marled Knit Beanie Cap\n",
      "Brand: Go All Out Screenprinting\n",
      "\n"
     ]
    },
    {
     "data": {
      "text/html": [
       "<img src=\"https://images-na.ssl-images-amazon.com/images/I/51HUmpqMyHL.jpg\"/>"
      ],
      "text/plain": [
       "<IPython.core.display.Image object>"
      ]
     },
     "metadata": {},
     "output_type": "display_data"
    },
    {
     "name": "stdout",
     "output_type": "stream",
     "text": [
      "Product ID: B074B951YD\n",
      "Product Name: Adjustable White Adult Rainbow Gay & Lesbian Pride Flag Embroidered Dad Hat\n",
      "Brand: Go All Out Screenprinting\n",
      "\n"
     ]
    },
    {
     "data": {
      "text/html": [
       "<img src=\"https://images-na.ssl-images-amazon.com/images/I/41oZ6B5ofbL.jpg|https://images-na.ssl-images-amazon.com/images/I/314yJr2x0OL.jpg\"/>"
      ],
      "text/plain": [
       "<IPython.core.display.Image object>"
      ]
     },
     "metadata": {},
     "output_type": "display_data"
    },
    {
     "name": "stdout",
     "output_type": "stream",
     "text": [
      "Product ID: B0746S39RT\n",
      "Product Name: Adjustable Black Adult Texas Flag Embroidered Dad Hat\n",
      "Brand: Go All Out Screenprinting\n",
      "\n"
     ]
    },
    {
     "data": {
      "text/html": [
       "<img src=\"https://images-na.ssl-images-amazon.com/images/I/41Feei93MlL.jpg|https://images-na.ssl-images-amazon.com/images/I/31i24-aA3kL.jpg\"/>"
      ],
      "text/plain": [
       "<IPython.core.display.Image object>"
      ]
     },
     "metadata": {},
     "output_type": "display_data"
    },
    {
     "name": "stdout",
     "output_type": "stream",
     "text": [
      "Product ID: B071ZLGJB3\n",
      "Product Name: Adjustable White Adult NASA Insignia Logo Embroidered Dad Hat\n",
      "Brand: Go All Out Screenprinting\n",
      "\n"
     ]
    },
    {
     "data": {
      "text/html": [
       "<img src=\"https://images-na.ssl-images-amazon.com/images/I/41HyphVfPfL.jpg|https://images-na.ssl-images-amazon.com/images/I/314yJr2x0OL.jpg\"/>"
      ],
      "text/plain": [
       "<IPython.core.display.Image object>"
      ]
     },
     "metadata": {},
     "output_type": "display_data"
    },
    {
     "name": "stdout",
     "output_type": "stream",
     "text": [
      "Product ID: B075ZL6FRC\n",
      "Product Name: One Size Safety Yellow Adult Fuck Trump Embroidered Cuffed Knit Beanie Cap\n",
      "Brand: Go All Out Screenprinting\n",
      "\n"
     ]
    },
    {
     "data": {
      "text/html": [
       "<img src=\"https://images-na.ssl-images-amazon.com/images/I/41yAvfpeCxL.jpg\"/>"
      ],
      "text/plain": [
       "<IPython.core.display.Image object>"
      ]
     },
     "metadata": {},
     "output_type": "display_data"
    },
    {
     "name": "stdout",
     "output_type": "stream",
     "text": [
      "Product ID: B074BGXYK3\n",
      "Product Name: Adjustable Black Adult Colorado Flag Embroidered Visor Dad Hat\n",
      "Brand: Go All Out Screenprinting\n",
      "\n"
     ]
    },
    {
     "data": {
      "text/html": [
       "<img src=\"https://images-na.ssl-images-amazon.com/images/I/31i2JXNpUdL.jpg|https://images-na.ssl-images-amazon.com/images/I/31HNMozklOL.jpg\"/>"
      ],
      "text/plain": [
       "<IPython.core.display.Image object>"
      ]
     },
     "metadata": {},
     "output_type": "display_data"
    },
    {
     "name": "stdout",
     "output_type": "stream",
     "text": [
      "Product ID: B0736JWQ2W\n",
      "Product Name: Adjustable White Adult Pizza Embroidered Visor Dad Hat\n",
      "Brand: Go All Out Screenprinting\n",
      "\n"
     ]
    },
    {
     "data": {
      "text/html": [
       "<img src=\"https://images-na.ssl-images-amazon.com/images/I/316BWkzOwxL.jpg|https://images-na.ssl-images-amazon.com/images/I/31ORAitBqJL.jpg\"/>"
      ],
      "text/plain": [
       "<IPython.core.display.Image object>"
      ]
     },
     "metadata": {},
     "output_type": "display_data"
    },
    {
     "name": "stdout",
     "output_type": "stream",
     "text": [
      "Product ID: B0728GB77D\n",
      "Product Name: Adjustable Pink Adult Datway Embroidered Visor Dad Hat\n",
      "Brand: Go All Out Screenprinting\n",
      "\n"
     ]
    },
    {
     "data": {
      "text/html": [
       "<img src=\"https://images-na.ssl-images-amazon.com/images/I/31VIdWZrRqL.jpg|https://images-na.ssl-images-amazon.com/images/I/31tvL0RQmjL.jpg\"/>"
      ],
      "text/plain": [
       "<IPython.core.display.Image object>"
      ]
     },
     "metadata": {},
     "output_type": "display_data"
    },
    {
     "name": "stdout",
     "output_type": "stream",
     "text": [
      "Product ID: B0735K4JF5\n",
      "Product Name: One Size Black Adult Shamrock St. Patricks Day Embroidered Bucket Cap Dad Hat\n",
      "Brand: Go All Out Screenprinting\n",
      "\n"
     ]
    },
    {
     "data": {
      "text/html": [
       "<img src=\"https://images-na.ssl-images-amazon.com/images/I/31UQ8khEDrL.jpg\"/>"
      ],
      "text/plain": [
       "<IPython.core.display.Image object>"
      ]
     },
     "metadata": {},
     "output_type": "display_data"
    },
    {
     "name": "stdout",
     "output_type": "stream",
     "text": [
      "Product ID: B073DB7MQ6\n",
      "Product Name: Adjustable Charcoal Adult Canada Maple Leaf Embroidered Deluxe Dad Hat\n",
      "Brand: Go All Out Screenprinting\n",
      "\n"
     ]
    },
    {
     "data": {
      "text/html": [
       "<img src=\"https://images-na.ssl-images-amazon.com/images/I/41-olYWBf%2BL.jpg|https://images-na.ssl-images-amazon.com/images/I/415qPaou1SL.jpg\"/>"
      ],
      "text/plain": [
       "<IPython.core.display.Image object>"
      ]
     },
     "metadata": {},
     "output_type": "display_data"
    },
    {
     "name": "stdout",
     "output_type": "stream",
     "text": [
      "Product ID: B071JDJ4CT\n",
      "Product Name: One Size White Adult Bigfoot Sasquatch Embroidered Bucket Cap Dad Hat\n",
      "Brand: Go All Out Screenprinting\n",
      "\n"
     ]
    },
    {
     "data": {
      "text/html": [
       "<img src=\"https://images-na.ssl-images-amazon.com/images/I/31MWwOEczXL.jpg\"/>"
      ],
      "text/plain": [
       "<IPython.core.display.Image object>"
      ]
     },
     "metadata": {},
     "output_type": "display_data"
    },
    {
     "name": "stdout",
     "output_type": "stream",
     "text": [
      "Product ID: B071FR9YR2\n",
      "Product Name: One Size Black Adult Finesse Embroidered Bucket Cap Dad Hat\n",
      "Brand: Go All Out Screenprinting\n",
      "\n"
     ]
    },
    {
     "data": {
      "text/html": [
       "<img src=\"https://images-na.ssl-images-amazon.com/images/I/31lWY4Q4hnL.jpg\"/>"
      ],
      "text/plain": [
       "<IPython.core.display.Image object>"
      ]
     },
     "metadata": {},
     "output_type": "display_data"
    },
    {
     "name": "stdout",
     "output_type": "stream",
     "text": [
      "Product ID: B06XJF9JKN\n",
      "Product Name: Adjustable White Adult Wifey Embroidered Dad Hat\n",
      "Brand: Go All Out Screenprinting\n",
      "\n"
     ]
    },
    {
     "data": {
      "text/html": [
       "<img src=\"https://images-na.ssl-images-amazon.com/images/I/41CfqtfUd2L.jpg|https://images-na.ssl-images-amazon.com/images/I/314yJr2x0OL.jpg\"/>"
      ],
      "text/plain": [
       "<IPython.core.display.Image object>"
      ]
     },
     "metadata": {},
     "output_type": "display_data"
    },
    {
     "name": "stdout",
     "output_type": "stream",
     "text": [
      "Product ID: B06XY2877D\n",
      "Product Name: Adjustable Pink Adult Peach Emoji Embroidered Dad Hat\n",
      "Brand: Go All Out Screenprinting\n",
      "\n"
     ]
    },
    {
     "data": {
      "text/html": [
       "<img src=\"https://images-na.ssl-images-amazon.com/images/I/41Pe94qxL6L.jpg|https://images-na.ssl-images-amazon.com/images/I/41xRa8H0usL.jpg|https://images-na.ssl-images-amazon.com/images/I/41wTAMDCCAL.jpg\"/>"
      ],
      "text/plain": [
       "<IPython.core.display.Image object>"
      ]
     },
     "metadata": {},
     "output_type": "display_data"
    },
    {
     "name": "stdout",
     "output_type": "stream",
     "text": [
      "Product ID: B071FF8DKG\n",
      "Product Name: Adjustable Black Adult Datway Embroidered Visor Dad Hat\n",
      "Brand: Go All Out Screenprinting\n",
      "\n"
     ]
    },
    {
     "data": {
      "text/html": [
       "<img src=\"https://images-na.ssl-images-amazon.com/images/I/31%2B0-hNEd1L.jpg|https://images-na.ssl-images-amazon.com/images/I/31HNMozklOL.jpg\"/>"
      ],
      "text/plain": [
       "<IPython.core.display.Image object>"
      ]
     },
     "metadata": {},
     "output_type": "display_data"
    },
    {
     "name": "stdout",
     "output_type": "stream",
     "text": [
      "Product ID: B01N23H2TB\n",
      "Product Name: Adjustable Navy Adult Finesse Embroidered Dad Hat\n",
      "Brand: Go All Out Screenprinting\n",
      "\n"
     ]
    },
    {
     "data": {
      "text/html": [
       "<img src=\"https://images-na.ssl-images-amazon.com/images/I/41DJhlf%2BkZL.jpg|https://images-na.ssl-images-amazon.com/images/I/31-ysGkj8uL.jpg\"/>"
      ],
      "text/plain": [
       "<IPython.core.display.Image object>"
      ]
     },
     "metadata": {},
     "output_type": "display_data"
    },
    {
     "name": "stdout",
     "output_type": "stream",
     "text": [
      "Product ID: B072M9D826\n",
      "Product Name: One Size Black Adult Rainbow Embroidered Bucket Cap Dad Hat\n",
      "Brand: Go All Out Screenprinting\n",
      "\n"
     ]
    },
    {
     "data": {
      "text/html": [
       "<img src=\"https://images-na.ssl-images-amazon.com/images/I/31RZJ5--ydL.jpg\"/>"
      ],
      "text/plain": [
       "<IPython.core.display.Image object>"
      ]
     },
     "metadata": {},
     "output_type": "display_data"
    },
    {
     "name": "stdout",
     "output_type": "stream",
     "text": [
      "Product ID: B072J341X6\n",
      "Product Name: Adjustable Navy Adult Mama Tried Embroidered Deluxe Dad Hat\n",
      "Brand: Go All Out Screenprinting\n",
      "\n"
     ]
    },
    {
     "data": {
      "text/html": [
       "<img src=\"https://images-na.ssl-images-amazon.com/images/I/417XSEVibVL.jpg|https://images-na.ssl-images-amazon.com/images/I/41FGQPKAGrL.jpg\"/>"
      ],
      "text/plain": [
       "<IPython.core.display.Image object>"
      ]
     },
     "metadata": {},
     "output_type": "display_data"
    },
    {
     "name": "stdout",
     "output_type": "stream",
     "text": [
      "Product ID: B071G419HS\n",
      "Product Name: One Size Khaki Adult USA American Flag Embroidered Bucket Cap Dad Hat\n",
      "Brand: Go All Out Screenprinting\n",
      "\n"
     ]
    },
    {
     "data": {
      "text/html": [
       "<img src=\"https://images-na.ssl-images-amazon.com/images/I/31JzEbkSRtL.jpg\"/>"
      ],
      "text/plain": [
       "<IPython.core.display.Image object>"
      ]
     },
     "metadata": {},
     "output_type": "display_data"
    },
    {
     "name": "stdout",
     "output_type": "stream",
     "text": [
      "Product ID: B071W1XQ8P\n",
      "Product Name: Adjustable Black Adult Henny Bottle Embroidered Visor Dad Hat\n",
      "Brand: Go All Out Screenprinting\n",
      "\n"
     ]
    },
    {
     "data": {
      "text/html": [
       "<img src=\"https://images-na.ssl-images-amazon.com/images/I/31wRDoSUpUL.jpg|https://images-na.ssl-images-amazon.com/images/I/31HNMozklOL.jpg\"/>"
      ],
      "text/plain": [
       "<IPython.core.display.Image object>"
      ]
     },
     "metadata": {},
     "output_type": "display_data"
    },
    {
     "name": "stdout",
     "output_type": "stream",
     "text": [
      "Product ID: B074BFRKBC\n",
      "Product Name: Adjustable Navy Adult Colorado Flag Embroidered Dad Hat Structured Cap\n",
      "Brand: Go All Out Screenprinting\n",
      "\n"
     ]
    },
    {
     "data": {
      "text/html": [
       "<img src=\"https://images-na.ssl-images-amazon.com/images/I/41UurU5ESBL.jpg|https://images-na.ssl-images-amazon.com/images/I/41UwR91sK%2BL.jpg\"/>"
      ],
      "text/plain": [
       "<IPython.core.display.Image object>"
      ]
     },
     "metadata": {},
     "output_type": "display_data"
    },
    {
     "name": "stdout",
     "output_type": "stream",
     "text": [
      "Product ID: B0756JSTG1\n",
      "Product Name: Adjustable Black Adult Peace Sign Embroidered Visor Dad Hat\n",
      "Brand: Go All Out Screenprinting\n",
      "\n"
     ]
    },
    {
     "data": {
      "text/html": [
       "<img src=\"https://images-na.ssl-images-amazon.com/images/I/31eUHnCQiGL.jpg|https://images-na.ssl-images-amazon.com/images/I/31HNMozklOL.jpg\"/>"
      ],
      "text/plain": [
       "<IPython.core.display.Image object>"
      ]
     },
     "metadata": {},
     "output_type": "display_data"
    },
    {
     "name": "stdout",
     "output_type": "stream",
     "text": [
      "Product ID: B074BDJGLN\n",
      "Product Name: Adjustable White Adult Colorado Flag Embroidered Visor Dad Hat\n",
      "Brand: Go All Out Screenprinting\n",
      "\n"
     ]
    },
    {
     "data": {
      "text/html": [
       "<img src=\"https://images-na.ssl-images-amazon.com/images/I/3198HE0XBnL.jpg|https://images-na.ssl-images-amazon.com/images/I/31ORAitBqJL.jpg\"/>"
      ],
      "text/plain": [
       "<IPython.core.display.Image object>"
      ]
     },
     "metadata": {},
     "output_type": "display_data"
    },
    {
     "name": "stdout",
     "output_type": "stream",
     "text": [
      "Product ID: B07565SJH7\n",
      "Product Name: Adjustable Royal Adult Koala Bear Embroidered Dad Hat\n",
      "Brand: Go All Out Screenprinting\n",
      "\n"
     ]
    },
    {
     "data": {
      "text/html": [
       "<img src=\"https://images-na.ssl-images-amazon.com/images/I/51Lx34zJKcL.jpg|https://images-na.ssl-images-amazon.com/images/I/41LvvhVejEL.jpg\"/>"
      ],
      "text/plain": [
       "<IPython.core.display.Image object>"
      ]
     },
     "metadata": {},
     "output_type": "display_data"
    },
    {
     "name": "stdout",
     "output_type": "stream",
     "text": [
      "Product ID: B0746T6BBT\n",
      "Product Name: Adjustable White Adult Texas Flag Embroidered Dad Hat\n",
      "Brand: Go All Out Screenprinting\n",
      "\n"
     ]
    },
    {
     "data": {
      "text/html": [
       "<img src=\"https://images-na.ssl-images-amazon.com/images/I/41tFQ0U3ZPL.jpg|https://images-na.ssl-images-amazon.com/images/I/314yJr2x0OL.jpg\"/>"
      ],
      "text/plain": [
       "<IPython.core.display.Image object>"
      ]
     },
     "metadata": {},
     "output_type": "display_data"
    },
    {
     "name": "stdout",
     "output_type": "stream",
     "text": [
      "Product ID: B0735LGY8L\n",
      "Product Name: Adjustable White Adult California Republic Bear Embroidered Visor Dad Hat\n",
      "Brand: Go All Out Screenprinting\n",
      "\n"
     ]
    },
    {
     "data": {
      "text/html": [
       "<img src=\"https://images-na.ssl-images-amazon.com/images/I/31Ns-c6C2VL.jpg|https://images-na.ssl-images-amazon.com/images/I/31ORAitBqJL.jpg\"/>"
      ],
      "text/plain": [
       "<IPython.core.display.Image object>"
      ]
     },
     "metadata": {},
     "output_type": "display_data"
    },
    {
     "name": "stdout",
     "output_type": "stream",
     "text": [
      "Product ID: B06XY9SZ62\n",
      "Product Name: Adjustable Charcoal Adult Peach Emoji Embroidered Deluxe Dad Hat\n",
      "Brand: Go All Out Screenprinting\n",
      "\n"
     ]
    },
    {
     "data": {
      "text/html": [
       "<img src=\"https://images-na.ssl-images-amazon.com/images/I/41KNZELfkvL.jpg|https://images-na.ssl-images-amazon.com/images/I/415qPaou1SL.jpg\"/>"
      ],
      "text/plain": [
       "<IPython.core.display.Image object>"
      ]
     },
     "metadata": {},
     "output_type": "display_data"
    },
    {
     "name": "stdout",
     "output_type": "stream",
     "text": [
      "Product ID: B073HV77GK\n",
      "Product Name: Adjustable Charcoal Adult Lion Embroidered Deluxe Dad Hat\n",
      "Brand: Go All Out Screenprinting\n",
      "\n"
     ]
    },
    {
     "data": {
      "text/html": [
       "<img src=\"https://images-na.ssl-images-amazon.com/images/I/41p0Hg5J%2BkL.jpg|https://images-na.ssl-images-amazon.com/images/I/415qPaou1SL.jpg\"/>"
      ],
      "text/plain": [
       "<IPython.core.display.Image object>"
      ]
     },
     "metadata": {},
     "output_type": "display_data"
    },
    {
     "name": "stdout",
     "output_type": "stream",
     "text": [
      "Product ID: B073HHN8RS\n",
      "Product Name: Adjustable Navy Adult Captain With Anchor Embroidered Deluxe Dad Hat\n",
      "Brand: Go All Out Screenprinting\n",
      "\n"
     ]
    },
    {
     "data": {
      "text/html": [
       "<img src=\"https://images-na.ssl-images-amazon.com/images/I/41PVCCwpGnL.jpg|https://images-na.ssl-images-amazon.com/images/I/41FGQPKAGrL.jpg\"/>"
      ],
      "text/plain": [
       "<IPython.core.display.Image object>"
      ]
     },
     "metadata": {},
     "output_type": "display_data"
    },
    {
     "name": "stdout",
     "output_type": "stream",
     "text": [
      "Product ID: B0725Y5DB9\n",
      "Product Name: Adjustable Pink Adult Dolphin Embroidered Visor Dad Hat\n",
      "Brand: Go All Out Screenprinting\n",
      "\n"
     ]
    },
    {
     "data": {
      "text/html": [
       "<img src=\"https://images-na.ssl-images-amazon.com/images/I/31dhua1QRIL.jpg|https://images-na.ssl-images-amazon.com/images/I/31tvL0RQmjL.jpg\"/>"
      ],
      "text/plain": [
       "<IPython.core.display.Image object>"
      ]
     },
     "metadata": {},
     "output_type": "display_data"
    },
    {
     "name": "stdout",
     "output_type": "stream",
     "text": [
      "Product ID: B071FW6QB1\n",
      "Product Name: Adjustable White Adult Praying Hands Embroidered Visor Dad Hat\n",
      "Brand: Go All Out Screenprinting\n",
      "\n"
     ]
    },
    {
     "data": {
      "text/html": [
       "<img src=\"https://images-na.ssl-images-amazon.com/images/I/31AEDmChzuL.jpg|https://images-na.ssl-images-amazon.com/images/I/31ORAitBqJL.jpg\"/>"
      ],
      "text/plain": [
       "<IPython.core.display.Image object>"
      ]
     },
     "metadata": {},
     "output_type": "display_data"
    },
    {
     "name": "stdout",
     "output_type": "stream",
     "text": [
      "Product ID: B072Y3T77C\n",
      "Product Name: Adjustable White Adult Beer Mug Embroidered Visor Dad Hat\n",
      "Brand: Go All Out Screenprinting\n",
      "\n"
     ]
    },
    {
     "data": {
      "text/html": [
       "<img src=\"https://images-na.ssl-images-amazon.com/images/I/31ExSTlfIOL.jpg|https://images-na.ssl-images-amazon.com/images/I/31ORAitBqJL.jpg\"/>"
      ],
      "text/plain": [
       "<IPython.core.display.Image object>"
      ]
     },
     "metadata": {},
     "output_type": "display_data"
    },
    {
     "name": "stdout",
     "output_type": "stream",
     "text": [
      "Product ID: B06XXSHGM1\n",
      "Product Name: Adjustable Black Adult Peach Emoji Embroidered Dad Hat\n",
      "Brand: Go All Out Screenprinting\n",
      "\n"
     ]
    },
    {
     "data": {
      "text/html": [
       "<img src=\"https://images-na.ssl-images-amazon.com/images/I/41CqZ4-MowL.jpg|https://images-na.ssl-images-amazon.com/images/I/31i24-aA3kL.jpg\"/>"
      ],
      "text/plain": [
       "<IPython.core.display.Image object>"
      ]
     },
     "metadata": {},
     "output_type": "display_data"
    },
    {
     "name": "stdout",
     "output_type": "stream",
     "text": [
      "Product ID: B06XJBVL68\n",
      "Product Name: Adjustable Purple Adult Wifey Embroidered Dad Hat\n",
      "Brand: Go All Out Screenprinting\n",
      "\n"
     ]
    },
    {
     "data": {
      "text/html": [
       "<img src=\"https://images-na.ssl-images-amazon.com/images/I/51R4ycEDTVL.jpg|https://images-na.ssl-images-amazon.com/images/I/31cewj2B0xL.jpg\"/>"
      ],
      "text/plain": [
       "<IPython.core.display.Image object>"
      ]
     },
     "metadata": {},
     "output_type": "display_data"
    },
    {
     "name": "stdout",
     "output_type": "stream",
     "text": [
      "Product ID: B06W5QS27S\n",
      "Product Name: Adjustable Navy Adult Sea Turtle Embroidered Dad Hat\n",
      "Brand: Go All Out Screenprinting\n",
      "\n"
     ]
    },
    {
     "data": {
      "text/html": [
       "<img src=\"https://images-na.ssl-images-amazon.com/images/I/41UC8fg0FJL.jpg|https://images-na.ssl-images-amazon.com/images/I/31-ysGkj8uL.jpg\"/>"
      ],
      "text/plain": [
       "<IPython.core.display.Image object>"
      ]
     },
     "metadata": {},
     "output_type": "display_data"
    },
    {
     "name": "stdout",
     "output_type": "stream",
     "text": [
      "Product ID: B01N350DQ3\n",
      "Product Name: Adjustable White Adult Finesse Embroidered Dad Hat\n",
      "Brand: Go All Out Screenprinting\n",
      "\n"
     ]
    },
    {
     "data": {
      "text/html": [
       "<img src=\"https://images-na.ssl-images-amazon.com/images/I/41y6OpMMRPL.jpg|https://images-na.ssl-images-amazon.com/images/I/314yJr2x0OL.jpg\"/>"
      ],
      "text/plain": [
       "<IPython.core.display.Image object>"
      ]
     },
     "metadata": {},
     "output_type": "display_data"
    },
    {
     "name": "stdout",
     "output_type": "stream",
     "text": [
      "Product ID: B06XY7BYSM\n",
      "Product Name: Adjustable White Adult Peach Emoji Embroidered Dad Hat\n",
      "Brand: Go All Out Screenprinting\n",
      "\n"
     ]
    },
    {
     "data": {
      "text/html": [
       "<img src=\"https://images-na.ssl-images-amazon.com/images/I/41iJayj6bTL.jpg|https://images-na.ssl-images-amazon.com/images/I/314yJr2x0OL.jpg\"/>"
      ],
      "text/plain": [
       "<IPython.core.display.Image object>"
      ]
     },
     "metadata": {},
     "output_type": "display_data"
    },
    {
     "name": "stdout",
     "output_type": "stream",
     "text": [
      "Product ID: B06ZY6SXM3\n",
      "Product Name: Adjustable Royal Blue Adult Datway Embroidered Deluxe Dad Hat\n",
      "Brand: Go All Out Screenprinting\n",
      "\n"
     ]
    },
    {
     "data": {
      "text/html": [
       "<img src=\"https://images-na.ssl-images-amazon.com/images/I/51rksWOczmL.jpg|https://images-na.ssl-images-amazon.com/images/I/41-iJUzLf1L.jpg\"/>"
      ],
      "text/plain": [
       "<IPython.core.display.Image object>"
      ]
     },
     "metadata": {},
     "output_type": "display_data"
    },
    {
     "name": "stdout",
     "output_type": "stream",
     "text": [
      "Product ID: B06XMY1RBC\n",
      "Product Name: Adjustable White Adult Rainbow Embroidered Dad Hat\n",
      "Brand: Go All Out Screenprinting\n",
      "\n"
     ]
    },
    {
     "data": {
      "text/html": [
       "<img src=\"https://images-na.ssl-images-amazon.com/images/I/41GZgyk6FCL.jpg|https://images-na.ssl-images-amazon.com/images/I/314yJr2x0OL.jpg\"/>"
      ],
      "text/plain": [
       "<IPython.core.display.Image object>"
      ]
     },
     "metadata": {},
     "output_type": "display_data"
    }
   ],
   "source": [
    "from IPython.display import display, Image\n",
    "import random\n",
    "\n",
    "def find_matching_products_by_brand_with_images(df):\n",
    "    # Randomly choose a product_id (asin) from the dataset\n",
    "    random_product_id = random.choice(df['asin'].values)\n",
    "    \n",
    "    # Find the selected product's details\n",
    "    selected_product = df[df['asin'] == random_product_id].iloc[0]\n",
    "    selected_name = selected_product['product_name']\n",
    "    selected_brand = selected_product['brand']\n",
    "    selected_image = selected_product['medium']\n",
    "    \n",
    "    # Filter products with the same brand, excluding the selected product\n",
    "    matching_products = df[(df['brand'] == selected_brand) & \n",
    "                           (df['asin'] != random_product_id)]\n",
    "    \n",
    "    # Display the selected product and matching products' ASINs and details\n",
    "    if matching_products.empty:\n",
    "        print(f\"No products found with the same brand as {random_product_id}.\")\n",
    "    else:\n",
    "        print(f\"Selected Product ID: {random_product_id}\")\n",
    "        print(f\"\\nProduct Name: {selected_name}\")\n",
    "        print(f\"\\nBrand: {selected_brand}\")\n",
    "        \n",
    "        # Display the image of the selected product\n",
    "        print(\"\\nSelected Product Image:\")\n",
    "        display(Image(url=selected_image))\n",
    "        \n",
    "        print(\"\\nMatching Products with the Same Brand:\\n\")\n",
    "\n",
    "        # Iterate over matching products and display their images\n",
    "        for index, row in matching_products.iterrows():\n",
    "            print(f\"Product ID: {row['asin']}\")\n",
    "            print(f\"Product Name: {row['product_name']}\")\n",
    "            print(f\"Brand: {row['brand']}\\n\")\n",
    "            # Display the image of the matching product\n",
    "            display(Image(url=row['medium']))\n",
    "\n",
    "# Example usage with a specific product ID (can be replaced with any ID from your list)\n",
    "find_matching_products_by_brand_with_images(df)\n"
   ]
  },
  {
   "cell_type": "code",
   "execution_count": null,
   "id": "615322e3",
   "metadata": {},
   "outputs": [],
   "source": []
  }
 ],
 "metadata": {
  "kernelspec": {
   "display_name": "Python 3",
   "language": "python",
   "name": "python3"
  },
  "language_info": {
   "codemirror_mode": {
    "name": "ipython",
    "version": 3
   },
   "file_extension": ".py",
   "mimetype": "text/x-python",
   "name": "python",
   "nbconvert_exporter": "python",
   "pygments_lexer": "ipython3",
   "version": "3.8.8"
  }
 },
 "nbformat": 4,
 "nbformat_minor": 5
}
