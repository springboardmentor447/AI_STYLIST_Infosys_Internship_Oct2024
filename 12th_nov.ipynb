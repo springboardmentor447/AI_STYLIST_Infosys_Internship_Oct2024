{
 "cells": [
  {
   "cell_type": "code",
   "execution_count": 1,
   "id": "318f0e24-cdce-44b0-a330-2a1c8d0a2588",
   "metadata": {},
   "outputs": [],
   "source": [
    "import pandas as pd\n",
    "import matplotlib.pyplot as plt\n",
    "import seaborn as sns\n"
   ]
  },
  {
   "cell_type": "code",
   "execution_count": 4,
   "id": "c3312450-4a9b-46d0-8c83-01561b5839de",
   "metadata": {},
   "outputs": [],
   "source": [
    "data = pd.read_json(r'C:\\Users\\ravin\\Downloads\\fashion_products_data.ldjson', lines=True)\n",
    " \n"
   ]
  },
  {
   "cell_type": "code",
   "execution_count": 6,
   "id": "80cd98ed-37a1-40a7-8839-36a7bd517fa9",
   "metadata": {},
   "outputs": [
    {
     "name": "stdout",
     "output_type": "stream",
     "text": [
      "         asin                                        product_url  \\\n",
      "0  B07STS2W9T  https://www.amazon.in/Facon-Kalamkari-Handbloc...   \n",
      "1  B07N6TD2WL  https://www.amazon.in/Sf-Jeans-Pantaloons-T-Sh...   \n",
      "2  B07WJ6WPN1  https://www.amazon.in/LOVISTA-Traditional-Prin...   \n",
      "3  B07PYSF4WZ  https://www.amazon.in/People-Printed-Regular-T...   \n",
      "4  B082KXNM7X  https://www.amazon.in/Monte-Carlo-Cotton-Colla...   \n",
      "\n",
      "                                        product_name  sales_price  rating  \\\n",
      "0  LA' Facon Cotton Kalamkari Handblock Saree Blo...        200.0     5.0   \n",
      "1  Sf Jeans By Pantaloons Men's Plain Slim fit T-...        265.0     3.6   \n",
      "2  LOVISTA Cotton Gota Patti Tassel Traditional P...        660.0     3.5   \n",
      "3           People Men's Printed Regular fit T-Shirt        195.0     3.0   \n",
      "4  Monte Carlo Grey Solid Cotton Blend Polo Colla...       1914.0     5.0   \n",
      "\n",
      "                                       meta_keywords  \\\n",
      "0  LA' Facon Cotton Kalamkari Handblock Saree Blo...   \n",
      "1  Sf Jeans By Pantaloons Men's Plain Slim fit T-...   \n",
      "2  LOVISTA Cotton Gota Patti Tassel Traditional P...   \n",
      "3    People Men's Printed Regular fit T-Shirt,People   \n",
      "4  Monte Carlo Grey Solid Cotton Blend Polo Colla...   \n",
      "\n",
      "                                              medium      brand  \n",
      "0  https://images-na.ssl-images-amazon.com/images...  LA' Facon  \n",
      "1  https://images-na.ssl-images-amazon.com/images...        NaN  \n",
      "2  https://images-na.ssl-images-amazon.com/images...    LOVISTA  \n",
      "3  https://images-na.ssl-images-amazon.com/images...        NaN  \n",
      "4  https://images-na.ssl-images-amazon.com/images...        NaN  \n"
     ]
    }
   ],
   "source": [
    "# Select only the specified columns from the original data\n",
    "filtered_data = data[['asin', 'product_url', 'product_name', 'sales_price', 'rating', 'meta_keywords', 'medium', 'brand']]\n",
    "\n",
    "# Display the first few rows of the selected columns\n",
    "print(filtered_data.head())\n"
   ]
  },
  {
   "cell_type": "code",
   "execution_count": 9,
   "id": "9cd217ef-a102-44ac-b7a9-39c87c2785a0",
   "metadata": {},
   "outputs": [
    {
     "name": "stdout",
     "output_type": "stream",
     "text": [
      "         asin                                       product_name\n",
      "0  B07STS2W9T  LA Facon Cotton Kalamkari Handblock Saree Blou...\n",
      "1  B07N6TD2WL  Sf Jeans By Pantaloons Mens Plain Slim fit TShirt\n",
      "2  B07WJ6WPN1  LOVISTA Cotton Gota Patti Tassel Traditional P...\n",
      "3  B07PYSF4WZ             People Mens Printed Regular fit TShirt\n",
      "4  B082KXNM7X  Monte Carlo Grey Solid Cotton Blend Polo Colla...\n"
     ]
    }
   ],
   "source": [
    "# Remove special characters from the 'product_name' column\n",
    "filtered_data.loc[:, 'product_name'] = filtered_data['product_name'].str.replace(r'[^a-zA-Z0-9\\s]', '', regex=True)\n",
    "\n",
    "# Display the first few rows of the updated 'product_name' column\n",
    "print(filtered_data[['asin', 'product_name']].head())\n"
   ]
  },
  {
   "cell_type": "code",
   "execution_count": 13,
   "id": "d62386b3-44aa-4129-91ed-6bbcbb920d81",
   "metadata": {},
   "outputs": [
    {
     "name": "stderr",
     "output_type": "stream",
     "text": [
      "[nltk_data] Downloading package stopwords to\n",
      "[nltk_data]     C:\\Users\\ravin\\AppData\\Roaming\\nltk_data...\n",
      "[nltk_data]   Package stopwords is already up-to-date!\n"
     ]
    },
    {
     "name": "stdout",
     "output_type": "stream",
     "text": [
      "         asin                                       product_name\n",
      "0  B07STS2W9T  LA Facon Cotton Kalamkari Handblock Saree Blou...\n",
      "1  B07N6TD2WL     Sf Jeans Pantaloons Mens Plain Slim fit TShirt\n",
      "2  B07WJ6WPN1  LOVISTA Cotton Gota Patti Tassel Traditional P...\n",
      "3  B07PYSF4WZ             People Mens Printed Regular fit TShirt\n",
      "4  B082KXNM7X  Monte Carlo Grey Solid Cotton Blend Polo Colla...\n"
     ]
    }
   ],
   "source": [
    "import nltk\n",
    "from nltk.corpus import stopwords\n",
    "\n",
    "# Download stopwords if not already downloaded\n",
    "nltk.download('stopwords')\n",
    "\n",
    "# Define stopwords list\n",
    "stop_words = set(stopwords.words('english'))\n",
    "\n",
    "# Function to remove stopwords from product name\n",
    "def remove_stopwords(text):\n",
    "    return ' '.join(word for word in text.split() if word.lower() not in stop_words)\n",
    "\n",
    "# Apply the function to the 'product_name' column\n",
    "filtered_data.loc[:, 'product_name'] = filtered_data['product_name'].apply(remove_stopwords)\n",
    "\n",
    "\n",
    "# Display the first few rows of the updated 'product_name' column\n",
    "print(filtered_data[['asin', 'product_name']].head())\n"
   ]
  },
  {
   "cell_type": "code",
   "execution_count": 15,
   "id": "5cc25596-5147-4e63-a3c4-ef1e008b13c1",
   "metadata": {},
   "outputs": [
    {
     "name": "stdout",
     "output_type": "stream",
     "text": [
      "                                        product_name  sales_price\n",
      "0  LA Facon Cotton Kalamkari Handblock Saree Blou...        200.0\n",
      "1     Sf Jeans Pantaloons Mens Plain Slim fit TShirt        265.0\n",
      "2  LOVISTA Cotton Gota Patti Tassel Traditional P...        660.0\n",
      "3             People Mens Printed Regular fit TShirt        195.0\n",
      "5  Forest Club Gym Wear Sports Shorts Shorts Men ...        350.0\n"
     ]
    }
   ],
   "source": [
    "import pandas as pd\n",
    "import numpy as np\n",
    "\n",
    "# 1. Convert Short Forms to Long Forms\n",
    "short_form_dict = {\n",
    "    'tv': 'television',\n",
    "    'laptop': 'laptop computer',\n",
    "    'pc': 'personal computer',\n",
    "    'hd': 'high definition',\n",
    "    'usb': 'universal serial bus'\n",
    "    # Add more short form to long form mappings as needed\n",
    "}\n",
    "\n",
    "def replace_shortforms(text):\n",
    "    for short, long in short_form_dict.items():\n",
    "        text = text.replace(short, long)\n",
    "    return text\n",
    "\n",
    "# Ensure you are modifying the DataFrame with .loc to avoid warnings\n",
    "filtered_data.loc[:, 'product_name'] = filtered_data['product_name'].apply(replace_shortforms)\n",
    "\n",
    "# 2. Handle Null Values\n",
    "# Option 1: Replace null values with 'Unknown'\n",
    "filtered_data.loc[:, 'product_name'] = filtered_data['product_name'].fillna('Unknown')\n",
    "\n",
    "# Option 2: Drop rows with null values (for specific columns)\n",
    "# filtered_data.dropna(subset=['product_name'], inplace=True)\n",
    "\n",
    "# 3. Remove Outliers in 'sales_price' using IQR method\n",
    "Q1 = filtered_data['sales_price'].quantile(0.25)\n",
    "Q3 = filtered_data['sales_price'].quantile(0.75)\n",
    "IQR = Q3 - Q1\n",
    "\n",
    "# Identify outliers\n",
    "outliers_condition = (filtered_data['sales_price'] < (Q1 - 1.5 * IQR)) | (filtered_data['sales_price'] > (Q3 + 1.5 * IQR))\n",
    "outliers = filtered_data[outliers_condition]\n",
    "\n",
    "# Remove outliers\n",
    "filtered_data_no_outliers = filtered_data[~outliers_condition]\n",
    "\n",
    "# Display the first few rows to check the changes\n",
    "print(filtered_data_no_outliers[['product_name', 'sales_price']].head())\n"
   ]
  },
  {
   "cell_type": "code",
   "execution_count": 17,
   "id": "5ec9a084-0a93-46b9-9195-b73cd39649ae",
   "metadata": {},
   "outputs": [
    {
     "name": "stderr",
     "output_type": "stream",
     "text": [
      "[nltk_data] Downloading package stopwords to\n",
      "[nltk_data]     C:\\Users\\ravin\\AppData\\Roaming\\nltk_data...\n",
      "[nltk_data]   Package stopwords is already up-to-date!\n",
      "[nltk_data] Downloading package wordnet to\n",
      "[nltk_data]     C:\\Users\\ravin\\AppData\\Roaming\\nltk_data...\n",
      "[nltk_data]   Package wordnet is already up-to-date!\n"
     ]
    },
    {
     "name": "stdout",
     "output_type": "stream",
     "text": [
      "                                        product_name  \\\n",
      "0  LA Facon Cotton Kalamkari Handblock Saree Blou...   \n",
      "1     Sf Jeans Pantaloons Mens Plain Slim fit TShirt   \n",
      "2  LOVISTA Cotton Gota Patti Tassel Traditional P...   \n",
      "3             People Mens Printed Regular fit TShirt   \n",
      "4  Monte Carlo Grey Solid Cotton Blend Polo Colla...   \n",
      "\n",
      "                                product_name_stemmed  \\\n",
      "0  la facon cotton kalamkari handblock sare blous...   \n",
      "1        sf jean pantaloon men plain slim fit tshirt   \n",
      "2  lovista cotton gota patti tassel tradit print ...   \n",
      "3                 peopl men print regular fit tshirt   \n",
      "4  mont carlo grey solid cotton blend polo collar...   \n",
      "\n",
      "                             product_name_lemmatized  \n",
      "0  LA Facon Cotton Kalamkari Handblock Saree Blou...  \n",
      "1     Sf Jeans Pantaloons Mens Plain Slim fit TShirt  \n",
      "2  LOVISTA Cotton Gota Patti Tassel Traditional P...  \n",
      "3             People Mens Printed Regular fit TShirt  \n",
      "4  Monte Carlo Grey Solid Cotton Blend Polo Colla...  \n"
     ]
    }
   ],
   "source": [
    "import nltk\n",
    "from nltk.corpus import stopwords\n",
    "from nltk.stem import PorterStemmer, WordNetLemmatizer\n",
    "import re\n",
    "\n",
    "# Download NLTK data (if not already downloaded)\n",
    "nltk.download('stopwords')\n",
    "nltk.download('wordnet')\n",
    "\n",
    "# Initialize the stemmer and lemmatizer\n",
    "stemmer = PorterStemmer()\n",
    "lemmatizer = WordNetLemmatizer()\n",
    "\n",
    "# Define the function for stemming\n",
    "def apply_stemming(text):\n",
    "    words = text.split()\n",
    "    return ' '.join([stemmer.stem(word) for word in words])\n",
    "\n",
    "# Define the function for lemmatization\n",
    "def apply_lemmatization(text):\n",
    "    words = text.split()\n",
    "    return ' '.join([lemmatizer.lemmatize(word, pos='v') for word in words])  # Using 'v' for verb\n",
    "\n",
    "# Example of text cleaning (already done in your pipeline)\n",
    "def clean_text(text):\n",
    "    # Remove special characters\n",
    "    text = re.sub(r'[^a-zA-Z0-9\\s]', '', text)\n",
    "    # Remove stopwords\n",
    "    stop_words = set(stopwords.words('english'))\n",
    "    text = ' '.join([word for word in text.split() if word not in stop_words])\n",
    "    return text\n",
    "\n",
    "# Apply the text cleaning and text normalization (stemming/lemmatization) to 'product_name' column\n",
    "filtered_data.loc[:, 'product_name'] = filtered_data['product_name'].apply(lambda x: clean_text(str(x)))\n",
    "# Apply stemming and lemmatization\n",
    "filtered_data.loc[:, 'product_name_stemmed'] = filtered_data['product_name'].apply(apply_stemming)\n",
    "filtered_data.loc[:, 'product_name_lemmatized'] = filtered_data['product_name'].apply(apply_lemmatization)\n",
    "# Display the updated dataframe\n",
    "print(filtered_data[['product_name', 'product_name_stemmed', 'product_name_lemmatized']].head())\n"
   ]
  },
  {
   "cell_type": "code",
   "execution_count": null,
   "id": "104754fc-53ec-4bf5-b835-01e2675fb36c",
   "metadata": {},
   "outputs": [],
   "source": []
  }
 ],
 "metadata": {
  "kernelspec": {
   "display_name": "Python 3 (ipykernel)",
   "language": "python",
   "name": "python3"
  },
  "language_info": {
   "codemirror_mode": {
    "name": "ipython",
    "version": 3
   },
   "file_extension": ".py",
   "mimetype": "text/x-python",
   "name": "python",
   "nbconvert_exporter": "python",
   "pygments_lexer": "ipython3",
   "version": "3.12.4"
  }
 },
 "nbformat": 4,
 "nbformat_minor": 5
}
